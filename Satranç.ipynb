{
  "nbformat": 4,
  "nbformat_minor": 0,
  "metadata": {
    "colab": {
      "provenance": [],
      "authorship_tag": "ABX9TyMF77BxqWcC/KJPhgtJM7IM",
      "include_colab_link": true
    },
    "kernelspec": {
      "name": "python3",
      "display_name": "Python 3"
    },
    "language_info": {
      "name": "python"
    }
  },
  "cells": [
    {
      "cell_type": "markdown",
      "metadata": {
        "id": "view-in-github",
        "colab_type": "text"
      },
      "source": [
        "<a href=\"https://colab.research.google.com/github/Berkay86/DeepPerson/blob/main/Satran%C3%A7.ipynb\" target=\"_parent\"><img src=\"https://colab.research.google.com/assets/colab-badge.svg\" alt=\"Open In Colab\"/></a>"
      ]
    },
    {
      "cell_type": "code",
      "execution_count": null,
      "metadata": {
        "colab": {
          "base_uri": "https://localhost:8080/"
        },
        "id": "JjVAgkgsZJ5R",
        "outputId": "9756fc5a-5083-42c1-b4cd-c792b0403ae6"
      },
      "outputs": [
        {
          "output_type": "stream",
          "name": "stdout",
          "text": [
            "Looking in indexes: https://pypi.org/simple, https://us-python.pkg.dev/colab-wheels/public/simple/\n",
            "Requirement already satisfied: opencv-python in /usr/local/lib/python3.8/dist-packages (4.6.0.66)\n",
            "Requirement already satisfied: numpy>=1.17.3 in /usr/local/lib/python3.8/dist-packages (from opencv-python) (1.21.6)\n"
          ]
        }
      ],
      "source": [
        "!pip install opencv-python\n",
        "import glob\n",
        "import numpy as np\n",
        "import pandas as pd\n",
        "import cv2\n",
        "import random\n",
        "import matplotlib.pyplot as plt\n",
        "from zipfile import ZipFile\n",
        "from google.colab import files\n",
        "import os\n",
        "     "
      ]
    },
    {
      "cell_type": "code",
      "source": [
        "paths = os.listdir('GAMES')\n",
        "paths\n",
        "     "
      ],
      "metadata": {
        "id": "YgnajwT7ZOQv"
      },
      "execution_count": null,
      "outputs": []
    },
    {
      "cell_type": "code",
      "source": [
        "k=[]\n",
        "images = []\n",
        "labels = []\n",
        "m=[] \n",
        "a=[] "
      ],
      "metadata": {
        "id": "TA-8jjHkZt60"
      },
      "execution_count": null,
      "outputs": []
    },
    {
      "cell_type": "code",
      "source": [
        "\n",
        "for i in paths:\n",
        "    path0 = '/content/GAMES/'+ str(i)\n",
        "    for path in os.listdir(path0):\n",
        "        path = '/content/GAMES/'+ str(i) + \"/\" + path\n",
        "        #print(path)\n",
        "        img = cv2.imread(path)\n",
        "        img = cv2.cvtColor(img,cv2.COLOR_BGR2BGR565)\n",
        "        img = cv2.resize(img,(64,64),interpolation= cv2.INTER_AREA)\n",
        "        img = img/255.0\n",
        "        images.append(img)\n",
        "        label = path.split(\"(\")\n",
        "        m.append(label)\n",
        "        for y in range(int(len(m))):\n",
        "            label1=m[y][1][:2]\n",
        "            labels.append(int(label1.split(\".\")[0]))\n",
        "\n",
        "            \n",
        " \n",
        "          "
      ],
      "metadata": {
        "id": "zt2U-q5dFXAW"
      },
      "execution_count": 298,
      "outputs": []
    },
    {
      "cell_type": "code",
      "source": [
        "labels"
      ],
      "metadata": {
        "id": "2B9PX1fgvvcA"
      },
      "execution_count": null,
      "outputs": []
    },
    {
      "cell_type": "code",
      "source": [
        "x=int(input(f\"{len(images)} taneden birini seçin\"))\n",
        "plt.imshow(images[x])\n",
        "plt.show()\n",
        "print(m[x][1])"
      ],
      "metadata": {
        "id": "r9UxJ8-DVqSr"
      },
      "execution_count": null,
      "outputs": []
    },
    {
      "cell_type": "code",
      "source": [
        "plt.imshow(images[500][:8][:8])\n",
        "print(images[500][:8][:8])\n",
        "plt.show()"
      ],
      "metadata": {
        "id": "57wuOJk1klvw"
      },
      "execution_count": null,
      "outputs": []
    }
  ]
}