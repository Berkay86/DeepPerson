{
  "nbformat": 4,
  "nbformat_minor": 0,
  "metadata": {
    "colab": {
      "provenance": [],
      "authorship_tag": "ABX9TyNqleyhKgU85JEtM4xZ2aXG",
      "include_colab_link": true
    },
    "kernelspec": {
      "name": "python3",
      "display_name": "Python 3"
    },
    "language_info": {
      "name": "python"
    }
  },
  "cells": [
    {
      "cell_type": "markdown",
      "metadata": {
        "id": "view-in-github",
        "colab_type": "text"
      },
      "source": [
        "<a href=\"https://colab.research.google.com/github/Berkay86/DeepPerson/blob/main/onnumara.ipynb\" target=\"_parent\"><img src=\"https://colab.research.google.com/assets/colab-badge.svg\" alt=\"Open In Colab\"/></a>"
      ]
    },
    {
      "cell_type": "code",
      "execution_count": 62,
      "metadata": {
        "colab": {
          "base_uri": "https://localhost:8080/",
          "height": 337
        },
        "id": "u_Iuiu5wlB9b",
        "outputId": "89b28174-274d-49c5-f34e-7f53eb35811c"
      },
      "outputs": [
        {
          "output_type": "stream",
          "name": "stdout",
          "text": [
            "[8, 5, 5, 4, 3, 7, 6, 10, 6, 9, 7, 6, 4, 12, 13, 14, 16, 7, 5, 5, 9, 9, 4, 10, 3, 11, 6, 7, 4, 14, 7, 5, 17, 4, 4, 7, 18, 2, 5, 18, 4, 2, 14, 7, 7, 9, 5, 4, 14, 5, 5, 15, 16, 11, 7, 3, 5, 5, 10, 10, 11, 7, 14, 6, 6, 5, 7, 3, 2, 4, 9, 4, 3, 14, 11, 10, 9, 3, 3, 6, 5, 6, 6, 3, 7, 8, 5, 13, 9, 6, 3, 9, 4, 6, 7, 2, 4, 8, 5, 3, 5, 5, 2, 9, 4, 2, 9, 15, 2, 4, 7, 6, 11, 11, 13, 2, 10, 16, 9, 9, 2, 10, 4, 4, 2, 3, 7, 4, 5, 8, 4, 4, 8, 6, 9, 4, 3, 8, 4, 5, 5, 6, 13, 2, 3, 4, 6, 7, 3, 5, 5, 2, 5, 11, 3, 7, 16, 11, 10, 6, 4, 11, 4, 10, 9, 7, 9, 10, 2, 7, 2, 4, 7, 5, 9, 7, 8, 7, 4, 4, 9, 4, 4, 11, 7, 10, 7, 7, 7, 5, 6, 10, 5, 15, 5, 7, 6, 3, 8, 7, 16, 11, 3, 4, 5, 8, 11, 9, 12, 11, 7, 7, 7, 3, 12, 8, 3, 3, 13, 6, 9, 10, 6, 3, 3, 9, 4, 10, 10, 5, 7, 5, 3, 6, 4, 20, 7, 2, 6, 5, 4, 22, 2, 5, 5, 9, 5, 11, 11, 3, 5, 2, 2, 5, 4, 10, 5, 6, 4, 3, 9, 6, 13, 7, 4, 11, 3, 6, 2, 2, 14, 7, 8, 4, 16, 18, 6, 14, 7, 10, 16, 7, 2, 7, 4, 3, 10, 4, 3, 9, 5, 10, 4, 13, 12, 2, 12, 7, 5, 13, 7, 2, 5, 6, 8, 13, 6, 11, 10, 16, 7, 7, 15, 2, 3, 9, 9, 3, 7, 5, 6, 16, 6, 3, 11, 7, 5, 2, 8, 4, 7, 14, 10, 6, 3, 14, 5, 3, 15, 12, 5, 3, 9, 16, 5, 8, 4, 3, 4, 6, 11, 8, 14, 4, 5, 10, 2, 8, 5, 6, 3, 18, 3, 5, 3, 5, 7, 6, 8, 2, 3, 14, 5, 8, 3, 14, 4, 7, 12, 8, 4, 5, 3, 8, 9, 5, 11, 8, 7, 5, 16, 11, 4, 4, 5, 9, 2, 5, 12, 6, 7, 6, 6, 10, 5, 3, 2, 9, 7, 9, 4, 14, 11, 7, 5, 8, 9, 2, 4, 5, 9, 5, 6, 5, 5, 6, 7, 7, 5, 5, 5, 7, 4, 5, 6, 5, 5, 4, 7, 7, 6, 16, 5, 5, 9, 7, 7, 14, 14, 2, 14, 6, 7, 4, 5, 3, 2, 10, 2, 3, 2, 13, 9, 2, 10, 9, 7, 2, 9, 5, 7, 4, 4, 6, 5, 5, 9, 11, 3, 11, 11, 3, 4, 7, 4, 14, 2, 7, 7, 3, 4, 6, 3, 8, 4, 3, 5, 5, 3, 7, 4, 7, 3, 12, 6, 7, 5, 10, 3, 12, 7, 10, 7, 3, 4, 9, 10, 2, 2, 9, 5, 5, 4, 11, 14, 7, 14, 7, 7, 10, 7, 3, 3, 5, 11, 6, 2, 3, 4, 4, 2, 11, 5, 6, 10, 5, 4, 3, 13, 4, 7, 7, 15, 4, 3, 2, 5, 12, 7, 3, 11, 8, 7, 15, 7, 5, 15, 6, 5, 3, 5, 10, 3, 9, 3, 16, 8, 4, 9, 4, 3, 5, 7, 12, 5, 14, 18, 13, 4, 5, 3, 10, 10, 11, 2, 7, 3, 3, 2, 4, 6, 19, 3, 6, 9, 5, 3, 2, 7, 3, 7, 7, 10, 12, 3, 5, 7, 4, 3, 6, 2, 11, 12, 13, 2, 6, 6, 4, 2, 13, 9, 3, 10, 7, 3, 7, 2, 3, 5, 2, 4, 8, 10, 7, 3, 4, 3, 8, 5, 9, 2, 4, 5, 11, 3, 8, 2, 16, 9, 11, 10, 9, 7, 3, 5, 4, 6, 2, 4, 20, 7, 4, 12, 4, 4, 4, 6, 11, 5, 2, 10, 7, 7, 7, 3, 7, 4, 4, 3, 5, 3, 5, 5, 2, 5, 5, 21, 4, 6, 5, 4, 4, 2, 16, 17, 5, 3, 5, 6, 5, 7, 5, 3, 19, 6, 2, 2, 3, 7, 3, 12, 12, 8, 2, 6, 14, 3, 5, 19, 6, 7, 6, 11, 4, 5, 4, 7, 2, 2, 4, 4, 3, 8, 4, 15, 5, 9, 18, 7, 7, 7, 7, 8, 5, 7, 6, 3, 2, 6, 5, 10, 5, 5, 16, 5, 2, 7, 2, 5, 13, 9, 6, 12, 12, 14, 14, 8, 5, 3, 4, 12, 13, 3, 3, 6, 4, 7, 9, 10, 11, 10, 8, 8, 5, 3, 2, 22, 5, 5, 6, 7, 3, 4, 5, 6, 14, 11, 4, 3, 10, 6, 7, 2, 7, 4, 6, 4, 8, 7, 5, 5, 12, 4, 3, 14, 8, 5, 8, 4, 7, 10, 8, 5, 8, 15, 2, 6, 6, 3, 8, 11, 8, 10, 7, 9, 3, 6, 13, 6, 3, 5, 2, 14, 3, 8, 4, 5, 9, 17, 9, 3, 3, 6, 4, 2, 11, 4, 5, 9, 7, 6, 10, 10, 6, 6, 6, 12, 5, 5, 11, 6, 12, 4, 4, 3, 9, 4, 3, 16, 2, 2, 6, 3, 4, 9, 6, 3, 4, 5, 2, 3, 11, 7, 11, 3, 10, 4, 6, 11, 9, 8, 14, 2, 7, 4, 8, 6, 7, 9, 6, 3, 6, 3, 2, 3, 8, 17, 3, 10, 4, 4, 17, 12, 5, 3, 3, 6, 5, 5, 8, 5, 2, 7, 8, 6, 8, 3, 5, 3, 4, 3, 17, 3, 3, 8, 3, 3, 5, 18, 4, 2, 8, 12, 4, 5, 4, 8, 9, 10, 5, 6, 9, 7, 4, 7, 3, 12, 5, 4, 3, 5, 5, 5, 17, 4, 7, 5, 8, 7, 15, 3, 2, 5, 7, 5, 14, 9, 7, 2, 8, 4]\n",
            "[1, 2, 4, 1, 4, 6, 2, 1, 1, 1, 1, 6, 11, 1, 6, 4, 4, 2, 1, 11, 1, 5, 2, 1, 3, 6, 12, 8, 2, 4, 3, 1, 5, 2, 5, 1, 3, 10, 1, 4, 1, 2, 8, 2, 11, 2, 2, 7, 3, 6, 3, 1, 1, 1, 6, 6, 2, 1, 9, 2, 8, 1, 5, 1, 1, 1, 2, 3, 9, 1, 1, 5, 5, 1, 3, 2, 12, 5, 2, 2, 5, 1, 3, 3, 1, 2, 2, 5, 2, 2, 4, 3, 1, 6, 1, 1, 1, 1, 4, 5, 5, 10, 3, 6, 6, 2, 3, 3, 1, 2, 3, 3, 1, 4, 7, 3, 5, 17, 2, 5, 4, 1, 6, 1, 2, 10, 3, 1, 1, 3, 1, 2, 2, 1, 4, 4, 2, 3, 1, 2, 2, 2, 1, 1, 2, 1, 1, 2, 3, 4, 3, 1, 6, 2, 4, 1, 3, 1, 1, 1, 4, 1, 1, 1, 1, 5, 4, 2, 1, 6, 2, 2, 5, 7, 1, 5, 1, 4, 3, 1, 1, 1, 6, 3, 2, 4, 7, 4, 1, 1, 1, 1, 4, 1, 5, 3, 10, 2, 4, 4, 3, 2, 2, 7, 1, 7, 1, 5, 7, 2, 2, 4, 3, 2, 1, 1, 3, 1, 1, 4, 1, 2, 4, 2, 1, 4, 2, 5, 7, 3, 2, 2, 2, 2, 2, 2, 1, 2, 7, 5, 4, 3, 2, 4, 1, 1, 1, 4, 3, 3, 2, 1, 4, 1, 1, 2, 1, 3, 10, 8, 6, 3, 1, 1, 4, 9, 6, 2, 1, 4, 1, 2, 2, 4, 3, 6, 4, 1, 1, 6, 3, 4, 2, 2, 1, 4, 1, 4, 6, 1, 1, 2, 2, 4, 3, 4, 2, 8, 1, 1, 7, 5, 2, 6, 1, 3, 4, 5, 1, 3, 1, 2, 4, 3, 2, 4, 3, 5, 6, 2, 11, 2, 2, 3, 2, 2, 2, 5, 3, 4, 1, 1, 4, 2, 5, 5, 1, 1, 4, 4, 2, 8, 1, 2, 2, 1, 3, 4, 3, 3, 2, 4, 5, 3, 6, 6, 2, 2, 4, 6, 1, 3, 1, 11, 7, 3, 3, 4, 3, 4, 1, 8, 8, 1, 19, 1, 1, 1, 6, 2, 2, 16, 1, 5, 4, 1, 3, 8, 3, 4, 4, 3, 6, 12, 1, 2, 4, 2, 2, 1, 2, 4, 2, 3, 4, 2, 1, 3, 4, 3, 3, 2, 2, 2, 2, 4, 6, 13, 5, 6, 2, 2, 2, 3, 3, 6, 6, 8, 5, 2, 10, 3, 3, 2, 2, 5, 1, 5, 3, 1, 1, 5, 3, 2, 2, 1, 7, 1, 1, 2, 1, 3, 3, 6, 5, 6, 1, 2, 2, 8, 2, 4, 3, 5, 6, 3, 2, 6, 1, 4, 5, 1, 4, 8, 4, 1, 1, 1, 1, 4, 1, 6, 1, 3, 5, 1, 3, 1, 2, 3, 1, 5, 1, 2, 3, 1, 1, 13, 11, 2, 4, 4, 1, 2, 5, 5, 1, 3, 6, 5, 4, 2, 1, 2, 2, 3, 6, 2, 11, 1, 2, 12, 5, 3, 2, 5, 1, 1, 3, 1, 9, 2, 7, 3, 7, 5, 3, 2, 1, 2, 11, 3, 1, 4, 3, 5, 2, 1, 4, 4, 2, 4, 1, 1, 5, 1, 1, 2, 6, 5, 1, 3, 1, 4, 3, 1, 2, 4, 1, 1, 1, 2, 1, 2, 2, 1, 3, 1, 1, 8, 6, 6, 5, 6, 4, 1, 3, 3, 11, 1, 2, 1, 9, 6, 1, 8, 13, 1, 4, 5, 2, 2, 2, 2, 2, 1, 4, 4, 3, 2, 4, 4, 5, 4, 1, 3, 6, 4, 2, 4, 2, 5, 1, 4, 3, 2, 7, 1, 5, 4, 10, 3, 1, 1, 1, 5, 3, 1, 12, 7, 5, 1, 4, 2, 2, 4, 4, 1, 1, 7, 1, 5, 4, 2, 2, 5, 1, 1, 2, 1, 7, 2, 1, 1, 1, 16, 1, 1, 3, 3, 3, 2, 2, 1, 8, 1, 2, 10, 7, 4, 3, 1, 9, 1, 1, 3, 1, 2, 1, 5, 1, 3, 2, 2, 8, 2, 3, 2, 1, 1, 5, 1, 2, 3, 1, 1, 2, 1, 2, 2, 5, 3, 1, 11, 1, 6, 6, 8, 2, 3, 1, 5, 3, 2, 1, 3, 2, 17, 1, 7, 6, 1, 5, 2, 1, 2, 4, 3, 3, 1, 2, 4, 7, 2, 1, 3, 4, 2, 2, 1, 2, 3, 1, 2, 3, 10, 6, 5, 7, 4, 2, 2, 2, 3, 4, 2, 7, 1, 3, 4, 4, 1, 1, 3, 2, 1, 1, 1, 5, 3, 1, 7, 3, 2, 4, 5, 2, 1, 2, 3, 4, 12, 4, 3, 2, 4, 6, 6, 1, 3, 6, 2, 4, 2, 4, 1, 8, 2, 4, 4, 1, 7, 4, 1, 8, 3, 18, 7, 7, 11, 1, 1, 4, 1, 1, 3, 3, 2, 3, 8, 3, 1, 3, 4, 6, 1, 4, 5, 2, 3, 2, 1, 2, 2, 6, 1, 7, 5, 3, 5, 1, 4, 6, 10, 1, 4, 1, 4, 6, 4, 1, 3, 2, 4, 3, 2, 1, 5, 3, 7, 7, 5, 7, 4, 1, 6, 2, 4, 1, 14, 2, 1, 7, 1, 6, 3, 4, 1, 1, 5, 2, 1, 1, 1, 3, 2, 5, 6, 8, 2, 1, 2, 1, 3, 1, 4, 9, 6, 1, 1, 3, 1, 1, 5, 4, 1, 6, 6, 2, 1, 6, 1, 5, 2, 5, 3, 8, 1, 1, 3, 1, 1, 1, 2, 8, 6, 1, 4, 3, 6, 8, 2, 5, 1, 2, 2, 4, 1, 3, 4, 2, 5, 6, 3, 1, 1, 4, 1, 2, 3, 3, 4, 3, 2, 3, 2, 6, 7, 3, 5, 7, 6, 4, 2, 1, 1, 8, 4, 1, 1, 2, 3, 5, 2, 5, 9, 1, 2, 5, 2, 13, 3, 4, 1, 2, 1, 12, 1, 5, 1, 2]\n"
          ]
        },
        {
          "output_type": "execute_result",
          "data": {
            "text/plain": [
              "<matplotlib.patches.StepPatch at 0x7f495778dca0>"
            ]
          },
          "metadata": {},
          "execution_count": 62
        },
        {
          "output_type": "display_data",
          "data": {
            "text/plain": [
              "<Figure size 432x288 with 1 Axes>"
            ],
            "image/png": "[encoded data removed]"
          },
          "metadata": {
            "needs_background": "light"
          }
        }
      ],
      "source": [
        "import numpy as np\n",
        "import pandas as pd\n",
        "import matplotlib.pyplot as plt\n",
        "# 1-20 arasındaki sayıların olasılıklarını tanımla\n",
        "numbers = np.arange(1, 20)\n",
        "numbers1 = np.arange(2, 24)\n",
        "probabilities = np.array([0.2810,0.2114,0.1459,0.1231,0.0838,0.0507,0.0341,0.0218,0.0096,0.0096,0.0105,0.0070,0.0061,0.0009,0.0009,0.0009,0.0009,0.0009,0.0009])\n",
        "prob1=np.array([0.08304195804195805,0.11975524475524475,0.1258741258741259,0.14160839160839161,0.09178321678321678,0.11188811188811189,0.06555944055944056,0.056818181818181816,0.04108391608391608,0.043706293706293704,0.027972027972027972,0.02097902097902098,0.024475524475524476,0.011363636363636364,0.011363636363636364,0.006118881118881119,0.005244755244755245,0.0026223776223776225,0.0026223776223776225,0.0026223776223776225,0.0026223776223776225,0.0008741258741258741])\n",
        "i=0\n",
        "Değerler=[]\n",
        "Değerler1=[]\n",
        "# Rastgele bir sayı seç\n",
        "while i<=1000:\n",
        "  random_number = np.random.choice(numbers, p=probabilities)\n",
        "  random_number1 = np.random.choice(numbers1, p=prob1)\n",
        "  Değerler.append(random_number)\n",
        "  Değerler1.append(random_number1)\n",
        "  i+=1\n",
        "print(Değerler1)\n",
        "print(Değerler)\n",
        "#df = pd.DataFrame(Değerler1)\n",
        "#df.to_excel(\"Bir4.xlsx\")\n",
        "counts, bins = np.histogram(Değerler1)\n",
        "plt.stairs(counts, bins)"
      ]
    },
    {
      "cell_type": "code",
      "source": [
        "import numpy as np\n",
        "\n",
        "# Önceki verileri tanımla\n",
        "previous_data = np.array([1,2,4,3,5,2,1,1,2,4,4,1,5,2,5,6,2,2,1,1,1,2,1,5,13,3,1,1,4,1,5,2,1,6,12,1,3,6,5,8,5,5,2,2,1,2,3,12,2,8,2,1,9,1,3,3,2,6,4,1,3,3,2,1,5,1,2,2,4,1,1,5,2,3,2,2,4,3,4,10,2,4,2,1,1,5,2,9,4,4,1,3,2,5,8,4,2,1,5,1,4,2,7,1,2,6,2,2,2,2,3,1,1,2,11,5,5,2,3,6,6,3,6,1,6,11,2,2,3,2,2,1,6,2,1,4,7,2,1,3,2,5,4,3,1,4,1,2,4,1,1,3,2,1,2,1,2,1,3,4,3,4,6,3,2,8,4,4,1,8,3,7,1,5,7,1,4,1,2,1,6,1,1,1,1,6,2,4,1,12,2,4,10,2,1,2,1,3,1,7,2,1,2,1,2,2,6,5,5,4,1,1,1,2,1,2,2,1,2,8,2,2,1,3,1,4,1,1,1,8,7,1,4,4,2,3,5,3,6,4,3,2,1,1,1,5,2,2,1,1,2,2,7,11,3,1,1,4,1,2,4,1,1,8,1,2,2,3,4,11,1,11,6,3,2,5,4,7,1,1,1,1,3,1,3,2,1,4,2,5,3,1,8,3,3,7,4,2,2,3,5,11,1,5,1,4,2,2,6,1,5,4,4,2,7,3,2,5,2,2,7,13,4,5,4,5,3,7,4,10,2,1,9,1,4,8,6,7,3,5,2,4,5,5,2,7,2,4,1,1,4,13,1,3,2,7,8,3,2,2,7,8,3,2,1,5,9,4,4,2,1,5,4,3,1,4,4,2,6,3,1,2,4,1,5,2,7,3,1,11,8,4,4,4,3,2,2,1,2,1,2,12,1,3,6,2,1,3,1,3,1,1,1,2,6,5,10,1,2,3,5,1,2,3,1,2,3,3,2,3,5,3,3,2,1,2,9,3,5,5,3,6,2,5,6,6,5,1,5,3,3,3,1,1,1,3,2,12,1,4,1,1,1,3,3,2,2,1,2,7,2,1,7,4,4,1,1,2,1,4,5,1,12,9,1,2,1,1,2,3,3,1,1,1,1,2,3,2,4,4,5,9,2,7,3,1,6,5,3,1,2,1,1,2,3,3,2,3,2,4,4,1,1,1,1,7,4,1,8,3,2,1,3,2,1,8,4,3,7,1,4,1,2,2,2,2,2,1,4,2,4,10,3,2,1,1,6,7,1,3,2,3,3,2,6,4,1,4,2,4,2,4,3,1,5,1,2,1,2,1,2,3,6,7,2,2,8,3,5,1,9,2,2,2,1,2,7,6,1,10,3,4,4,2,3,3,1,1,5,5,4,7,8,2,8,2,2,1,5,3,1,3,3,1,11,10,1,1,9,4,2,3,4,10,3,2,3,10,5,4,5,8,1,3,1,3,3,1,2,3,1,1,4,1,2,3,2,1,3,5,2,3,1,1,3,3,2,1,5,3,2,3,1,3,11,2,2,6,4,3,2,12,1,3,3,3,6,1,3,1,1,1,3,2,3,4,1,3,6,3,2,1,3,3,8,2,4,2,3,1,2,1,2,1,1,3,1,1,3,1,3,1,3,2,7,1,15,1,3,1,5,2,1,4,1,1,4,2,2,4,7,1,6,4,10,4,1,1,2,2,3,11,3,2,5,1,5,2,4,2,1,3,2,1,9,2,1,2,8,2,9,1,1,1,1,5,11,4,5,5,5,1,1,4,1,3,2,1,2,1,4,2,2,5,2,2,1,3,4,4,6,7,3,1,6,1,4,3,2,3,4,3,1,1,4,1,1,7,5,3,2,4,1,2,8,1,2,4,5,2,11,3,1,4,2,5,3,7,1,3,3,3,6,6,6,8,5,6,6,4,4,3,2,2,1,4,1,2,3,5,5,4,1,6,6,1,1,2,2,3,6,6,1,4,3,5,1,1,1,1,1,4,2,14,1,5,1,4,5,2,6,1,19,4,1,6,3,1,4,1,2,1,5,6,2,4,1,1,3,2,1,1,6,3,1,4,4,2,5,2,1,2,1,7,4,7,3,2,1,1,6,1,2,4,3,1,1,2,1,6,5,7,3,4,1,3,3,4,1,6,5,6,2,12,1,3,3,4,3,1,3,1,5,5,2,1,3,1,4,2,4,2,4,3,4,1,1,3,1,2,2,5,3,1,1,5,3,4,4,4,2,1,1,13,6,1,1,4,1,16,5,7,2,13,1,2,4,2,5,3,1,1,5,3,1,5,1,1,2,1,1,1,2,2,20,5,4,4,1,1,2,3,2,2,5,6,1,4,4,2,2,1,1,3,1,2,5,3,3,1,1,1,10,2,5,7,1,4,2,1,1,4,2,4,1,3,2,1,18,2,1,3,1,1,2,5,1,2,7,3,1,1,5,1,6,1,7,1,4,1,4,1,1,2,2,8,4,4,1,1,13,5,1,3,4,5,2,2,5,2,1,2,1,6,1,6,1,7,1,4,1,4,1,1,2,2,8,4,4,1,1,13,5,1,3,4,5,2,2,5,2,1,2,1,6])\n",
        "\n",
        "# Son 3 veri noktasını alarak olasılık dağılımını hesapla\n",
        "last_values = previous_data[-1000:]\n",
        "value_counts = np.bincount(last_values, minlength=1000)\n",
        "probabilities = value_counts / value_counts.sum()\n",
        "\n",
        "# Sonraki veri noktasını tahmin et\n",
        "next_value = np.random.choice(np.arange(1000), p=probabilities)\n",
        "print(next_value)"
      ],
      "metadata": {
        "colab": {
          "base_uri": "https://localhost:8080/"
        },
        "id": "TC3oiJbgAWvd",
        "outputId": "680c018c-c701-4adb-a5ea-3313377a670d"
      },
      "execution_count": 48,
      "outputs": [
        {
          "output_type": "stream",
          "name": "stdout",
          "text": [
            "1\n"
          ]
        }
      ]
    },
    {
      "cell_type": "code",
      "source": [
        "import numpy as np\n",
        "\n",
        "# Önceki verileri tanımla\n",
        "previous_data = np.array([1,2,4,3,5,2,1,1,2,4,4,1,5,2,5,6,2,2,1,1,1,2,1,5,13,3,1,1,4,1,5,2,1,6,12,1,3,6,5,8,5,5,2,2,1,2,3,12,2,8,2,1,9,1,3,3,2,6,4,1,3,3,2,1,5,1,2,2,4,1,1,5,2,3,2,2,4,3,4,10,2,4,2,1,1,5,2,9,4,4,1,3,2,5,8,4,2,1,5,1,4,2,7,1,2,6,2,2,2,2,3,1,1,2,11,5,5,2,3,6,6,3,6,1,6,11,2,2,3,2,2,1,6,2,1,4,7,2,1,3,2,5,4,3,1,4,1,2,4,1,1,3,2,1,2,1,2,1,3,4,3,4,6,3,2,8,4,4,1,8,3,7,1,5,7,1,4,1,2,1,6,1,1,1,1,6,2,4,1,12,2,4,10,2,1,2,1,3,1,7,2,1,2,1,2,2,6,5,5,4,1,1,1,2,1,2,2,1,2,8,2,2,1,3,1,4,1,1,1,8,7,1,4,4,2,3,5,3,6,4,3,2,1,1,1,5,2,2,1,1,2,2,7,11,3,1,1,4,1,2,4,1,1,8,1,2,2,3,4,11,1,11,6,3,2,5,4,7,1,1,1,1,3,1,3,2,1,4,2,5,3,1,8,3,3,7,4,2,2,3,5,11,1,5,1,4,2,2,6,1,5,4,4,2,7,3,2,5,2,2,7,13,4,5,4,5,3,7,4,10,2,1,9,1,4,8,6,7,3,5,2,4,5,5,2,7,2,4,1,1,4,13,1,3,2,7,8,3,2,2,7,8,3,2,1,5,9,4,4,2,1,5,4,3,1,4,4,2,6,3,1,2,4,1,5,2,7,3,1,11,8,4,4,4,3,2,2,1,2,1,2,12,1,3,6,2,1,3,1,3,1,1,1,2,6,5,10,1,2,3,5,1,2,3,1,2,3,3,2,3,5,3,3,2,1,2,9,3,5,5,3,6,2,5,6,6,5,1,5,3,3,3,1,1,1,3,2,12,1,4,1,1,1,3,3,2,2,1,2,7,2,1,7,4,4,1,1,2,1,4,5,1,12,9,1,2,1,1,2,3,3,1,1,1,1,2,3,2,4,4,5,9,2,7,3,1,6,5,3,1,2,1,1,2,3,3,2,3,2,4,4,1,1,1,1,7,4,1,8,3,2,1,3,2,1,8,4,3,7,1,4,1,2,2,2,2,2,1,4,2,4,10,3,2,1,1,6,7,1,3,2,3,3,2,6,4,1,4,2,4,2,4,3,1,5,1,2,1,2,1,2,3,6,7,2,2,8,3,5,1,9,2,2,2,1,2,7,6,1,10,3,4,4,2,3,3,1,1,5,5,4,7,8,2,8,2,2,1,5,3,1,3,3,1,11,10,1,1,9,4,2,3,4,10,3,2,3,10,5,4,5,8,1,3,1,3,3,1,2,3,1,1,4,1,2,3,2,1,3,5,2,3,1,1,3,3,2,1,5,3,2,3,1,3,11,2,2,6,4,3,2,12,1,3,3,3,6,1,3,1,1,1,3,2,3,4,1,3,6,3,2,1,3,3,8,2,4,2,3,1,2,1,2,1,1,3,1,1,3,1,3,1,3,2,7,1,15,1,3,1,5,2,1,4,1,1,4,2,2,4,7,1,6,4,10,4,1,1,2,2,3,11,3,2,5,1,5,2,4,2,1,3,2,1,9,2,1,2,8,2,9,1,1,1,1,5,11,4,5,5,5,1,1,4,1,3,2,1,2,1,4,2,2,5,2,2,1,3,4,4,6,7,3,1,6,1,4,3,2,3,4,3,1,1,4,1,1,7,5,3,2,4,1,2,8,1,2,4,5,2,11,3,1,4,2,5,3,7,1,3,3,3,6,6,6,8,5,6,6,4,4,3,2,2,1,4,1,2,3,5,5,4,1,6,6,1,1,2,2,3,6,6,1,4,3,5,1,1,1,1,1,4,2,14,1,5,1,4,5,2,6,1,19,4,1,6,3,1,4,1,2,1,5,6,2,4,1,1,3,2,1,1,6,3,1,4,4,2,5,2,1,2,1,7,4,7,3,2,1,1,6,1,2,4,3,1,1,2,1,6,5,7,3,4,1,3,3,4,1,6,5,6,2,12,1,3,3,4,3,1,3,1,5,5,2,1,3,1,4,2,4,2,4,3,4,1,1,3,1,2,2,5,3,1,1,5,3,4,4,4,2,1,1,13,6,1,1,4,1,16,5,7,2,13,1,2,4,2,5,3,1,1,5,3,1,5,1,1,2,1,1,1,2,2,20,5,4,4,1,1,2,3,2,2,5,6,1,4,4,2,2,1,1,3,1,2,5,3,3,1,1,1,10,2,5,7,1,4,2,1,1,4,2,4,1,3,2,1,18,2,1,3,1,1,2,5,1,2,7,3,1,1,5,1,6,1,7,1,4,1,4,1,1,2,2,8,4,4,1,1,13,5,1,3,4,5,2,2,5,2,1,2,1,6,1,6,1,7,1,4,1,4,1,1,2,2,8,4,4,1,1,13,5,1,3,4,5,2,2,5,2,1,2,1,6])\n",
        "print(previous_data)\n",
        "last_values = previous_data[-1145:]\n",
        "value_counts = np.bincount(last_values, minlength=1145)\n",
        "probabilities = value_counts / value_counts.sum()\n",
        "\n",
        "# Sonraki veri noktasını tahmin et\n",
        "num_trials = 0\n",
        "denemeler=[]\n",
        "s=0\n",
        "while s<=1000:\n",
        "  while True:\n",
        "      num_trials += 1\n",
        "      next_value = np.random.choice(np.arange(1145), p=probabilities)\n",
        "      if next_value ==1:\n",
        "          denemeler.append(num_trials)\n",
        "          num_trials=0\n",
        "          s+=1\n",
        "          break"
      ],
      "metadata": {
        "id": "R96Xy3mPKveY",
        "colab": {
          "base_uri": "https://localhost:8080/"
        },
        "outputId": "1f78262c-b6cb-474f-ba9f-1590dd9b78f8"
      },
      "execution_count": 63,
      "outputs": [
        {
          "output_type": "stream",
          "name": "stdout",
          "text": [
            "[1 2 4 ... 2 1 6]\n"
          ]
        }
      ]
    },
    {
      "cell_type": "code",
      "source": [
        "import numpy as np\n",
        "\n",
        "# Önceki verileri tanımla\n",
        "previous_data = np.array(Değerler)\n",
        "print(Değerler)\n",
        "last_values = previous_data[-1145:]\n",
        "value_counts = np.bincount(last_values, minlength=1145)\n",
        "probabilities = value_counts / value_counts.sum()\n",
        "\n",
        "# Sonraki veri noktasını tahmin et\n",
        "num_trials = 0\n",
        "denemeler1=[]\n",
        "s=0\n",
        "while s<=1000:\n",
        "  while True:\n",
        "      num_trials += 1\n",
        "      next_value = np.random.choice(np.arange(1145), p=probabilities)\n",
        "      if next_value ==1:\n",
        "          denemeler1.append(num_trials)\n",
        "          num_trials=0\n",
        "          s+=1\n",
        "          break"
      ],
      "metadata": {
        "colab": {
          "base_uri": "https://localhost:8080/"
        },
        "id": "gf0nHjY0U0aZ",
        "outputId": "9e157098-aaed-4b3f-f256-fb68fcc9cf67"
      },
      "execution_count": 64,
      "outputs": [
        {
          "output_type": "stream",
          "name": "stdout",
          "text": [
            "[1, 2, 4, 1, 4, 6, 2, 1, 1, 1, 1, 6, 11, 1, 6, 4, 4, 2, 1, 11, 1, 5, 2, 1, 3, 6, 12, 8, 2, 4, 3, 1, 5, 2, 5, 1, 3, 10, 1, 4, 1, 2, 8, 2, 11, 2, 2, 7, 3, 6, 3, 1, 1, 1, 6, 6, 2, 1, 9, 2, 8, 1, 5, 1, 1, 1, 2, 3, 9, 1, 1, 5, 5, 1, 3, 2, 12, 5, 2, 2, 5, 1, 3, 3, 1, 2, 2, 5, 2, 2, 4, 3, 1, 6, 1, 1, 1, 1, 4, 5, 5, 10, 3, 6, 6, 2, 3, 3, 1, 2, 3, 3, 1, 4, 7, 3, 5, 17, 2, 5, 4, 1, 6, 1, 2, 10, 3, 1, 1, 3, 1, 2, 2, 1, 4, 4, 2, 3, 1, 2, 2, 2, 1, 1, 2, 1, 1, 2, 3, 4, 3, 1, 6, 2, 4, 1, 3, 1, 1, 1, 4, 1, 1, 1, 1, 5, 4, 2, 1, 6, 2, 2, 5, 7, 1, 5, 1, 4, 3, 1, 1, 1, 6, 3, 2, 4, 7, 4, 1, 1, 1, 1, 4, 1, 5, 3, 10, 2, 4, 4, 3, 2, 2, 7, 1, 7, 1, 5, 7, 2, 2, 4, 3, 2, 1, 1, 3, 1, 1, 4, 1, 2, 4, 2, 1, 4, 2, 5, 7, 3, 2, 2, 2, 2, 2, 2, 1, 2, 7, 5, 4, 3, 2, 4, 1, 1, 1, 4, 3, 3, 2, 1, 4, 1, 1, 2, 1, 3, 10, 8, 6, 3, 1, 1, 4, 9, 6, 2, 1, 4, 1, 2, 2, 4, 3, 6, 4, 1, 1, 6, 3, 4, 2, 2, 1, 4, 1, 4, 6, 1, 1, 2, 2, 4, 3, 4, 2, 8, 1, 1, 7, 5, 2, 6, 1, 3, 4, 5, 1, 3, 1, 2, 4, 3, 2, 4, 3, 5, 6, 2, 11, 2, 2, 3, 2, 2, 2, 5, 3, 4, 1, 1, 4, 2, 5, 5, 1, 1, 4, 4, 2, 8, 1, 2, 2, 1, 3, 4, 3, 3, 2, 4, 5, 3, 6, 6, 2, 2, 4, 6, 1, 3, 1, 11, 7, 3, 3, 4, 3, 4, 1, 8, 8, 1, 19, 1, 1, 1, 6, 2, 2, 16, 1, 5, 4, 1, 3, 8, 3, 4, 4, 3, 6, 12, 1, 2, 4, 2, 2, 1, 2, 4, 2, 3, 4, 2, 1, 3, 4, 3, 3, 2, 2, 2, 2, 4, 6, 13, 5, 6, 2, 2, 2, 3, 3, 6, 6, 8, 5, 2, 10, 3, 3, 2, 2, 5, 1, 5, 3, 1, 1, 5, 3, 2, 2, 1, 7, 1, 1, 2, 1, 3, 3, 6, 5, 6, 1, 2, 2, 8, 2, 4, 3, 5, 6, 3, 2, 6, 1, 4, 5, 1, 4, 8, 4, 1, 1, 1, 1, 4, 1, 6, 1, 3, 5, 1, 3, 1, 2, 3, 1, 5, 1, 2, 3, 1, 1, 13, 11, 2, 4, 4, 1, 2, 5, 5, 1, 3, 6, 5, 4, 2, 1, 2, 2, 3, 6, 2, 11, 1, 2, 12, 5, 3, 2, 5, 1, 1, 3, 1, 9, 2, 7, 3, 7, 5, 3, 2, 1, 2, 11, 3, 1, 4, 3, 5, 2, 1, 4, 4, 2, 4, 1, 1, 5, 1, 1, 2, 6, 5, 1, 3, 1, 4, 3, 1, 2, 4, 1, 1, 1, 2, 1, 2, 2, 1, 3, 1, 1, 8, 6, 6, 5, 6, 4, 1, 3, 3, 11, 1, 2, 1, 9, 6, 1, 8, 13, 1, 4, 5, 2, 2, 2, 2, 2, 1, 4, 4, 3, 2, 4, 4, 5, 4, 1, 3, 6, 4, 2, 4, 2, 5, 1, 4, 3, 2, 7, 1, 5, 4, 10, 3, 1, 1, 1, 5, 3, 1, 12, 7, 5, 1, 4, 2, 2, 4, 4, 1, 1, 7, 1, 5, 4, 2, 2, 5, 1, 1, 2, 1, 7, 2, 1, 1, 1, 16, 1, 1, 3, 3, 3, 2, 2, 1, 8, 1, 2, 10, 7, 4, 3, 1, 9, 1, 1, 3, 1, 2, 1, 5, 1, 3, 2, 2, 8, 2, 3, 2, 1, 1, 5, 1, 2, 3, 1, 1, 2, 1, 2, 2, 5, 3, 1, 11, 1, 6, 6, 8, 2, 3, 1, 5, 3, 2, 1, 3, 2, 17, 1, 7, 6, 1, 5, 2, 1, 2, 4, 3, 3, 1, 2, 4, 7, 2, 1, 3, 4, 2, 2, 1, 2, 3, 1, 2, 3, 10, 6, 5, 7, 4, 2, 2, 2, 3, 4, 2, 7, 1, 3, 4, 4, 1, 1, 3, 2, 1, 1, 1, 5, 3, 1, 7, 3, 2, 4, 5, 2, 1, 2, 3, 4, 12, 4, 3, 2, 4, 6, 6, 1, 3, 6, 2, 4, 2, 4, 1, 8, 2, 4, 4, 1, 7, 4, 1, 8, 3, 18, 7, 7, 11, 1, 1, 4, 1, 1, 3, 3, 2, 3, 8, 3, 1, 3, 4, 6, 1, 4, 5, 2, 3, 2, 1, 2, 2, 6, 1, 7, 5, 3, 5, 1, 4, 6, 10, 1, 4, 1, 4, 6, 4, 1, 3, 2, 4, 3, 2, 1, 5, 3, 7, 7, 5, 7, 4, 1, 6, 2, 4, 1, 14, 2, 1, 7, 1, 6, 3, 4, 1, 1, 5, 2, 1, 1, 1, 3, 2, 5, 6, 8, 2, 1, 2, 1, 3, 1, 4, 9, 6, 1, 1, 3, 1, 1, 5, 4, 1, 6, 6, 2, 1, 6, 1, 5, 2, 5, 3, 8, 1, 1, 3, 1, 1, 1, 2, 8, 6, 1, 4, 3, 6, 8, 2, 5, 1, 2, 2, 4, 1, 3, 4, 2, 5, 6, 3, 1, 1, 4, 1, 2, 3, 3, 4, 3, 2, 3, 2, 6, 7, 3, 5, 7, 6, 4, 2, 1, 1, 8, 4, 1, 1, 2, 3, 5, 2, 5, 9, 1, 2, 5, 2, 13, 3, 4, 1, 2, 1, 12, 1, 5, 1, 2]\n"
          ]
        }
      ]
    },
    {
      "cell_type": "code",
      "source": [
        "print(Değerler.count(1)/1145)\n",
        "print(denemeler1.count(1)/1145)"
      ],
      "metadata": {
        "id": "tJI2GJaiMIXv",
        "colab": {
          "base_uri": "https://localhost:8080/"
        },
        "outputId": "f8439bc6-a45f-42f1-8717-50323324fb66"
      },
      "execution_count": 68,
      "outputs": [
        {
          "output_type": "stream",
          "name": "stdout",
          "text": [
            "0.23930131004366811\n",
            "0.22183406113537119\n"
          ]
        }
      ]
    },
    {
      "cell_type": "code",
      "source": [
        "previous_data = np.array(Değerler1)\n",
        "# Son 3 veri noktasını alarak olasılık dağılımını hesapla\n",
        "last_values = previous_data[-1000:]\n",
        "value_counts = np.bincount(last_values, minlength=1000)\n",
        "probabilities = value_counts / value_counts.sum()\n",
        "\n",
        "# Sonraki veri noktasını tahmin et\n",
        "next_value = np.random.choice(np.arange(1000), p=probabilities)\n",
        "print(next_value)"
      ],
      "metadata": {
        "colab": {
          "base_uri": "https://localhost:8080/"
        },
        "id": "ABoR6KlkI8pe",
        "outputId": "8a6e521c-8c84-44fe-9d59-ee94ebf3ac8b"
      },
      "execution_count": null,
      "outputs": [
        {
          "output_type": "stream",
          "name": "stdout",
          "text": [
            "6\n"
          ]
        }
      ]
    }
  ]
}