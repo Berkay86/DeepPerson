{
  "nbformat": 4,
  "nbformat_minor": 0,
  "metadata": {
    "colab": {
      "provenance": [],
      "authorship_tag": "ABX9TyOKH2Lpx6Cnj9mKIXxNEci7",
      "include_colab_link": true
    },
    "kernelspec": {
      "name": "python3",
      "display_name": "Python 3"
    },
    "language_info": {
      "name": "python"
    }
  },
  "cells": [
    {
      "cell_type": "markdown",
      "metadata": {
        "id": "view-in-github",
        "colab_type": "text"
      },
      "source": [
        "<a href=\"https://colab.research.google.com/github/Berkay86/DeepPerson/blob/main/onnumara.ipynb\" target=\"_parent\"><img src=\"https://colab.research.google.com/assets/colab-badge.svg\" alt=\"Open In Colab\"/></a>"
      ]
    },
    {
      "cell_type": "code",
      "execution_count": 157,
      "metadata": {
        "colab": {
          "base_uri": "https://localhost:8080/",
          "height": 337
        },
        "id": "u_Iuiu5wlB9b",
        "outputId": "6514adeb-2f7d-467a-cc73-ca0ae4bca32f"
      },
      "outputs": [
        {
          "output_type": "stream",
          "name": "stdout",
          "text": [
            "[7, 16, 5, 2, 3, 4, 7, 5, 5, 2, 11, 8, 14, 5, 2, 22, 11, 9, 3, 2, 11, 16, 11, 6, 4, 3, 11, 3, 5, 4, 3, 9, 10, 5, 8, 15, 3, 7, 6, 4, 12, 14, 7, 7, 6, 3, 7, 2, 6, 5, 4, 14, 16, 13, 8, 4, 5, 11, 2, 3, 4, 6, 7, 7, 5, 2, 11, 5, 15, 2, 4, 7, 15, 11, 11, 6, 3, 4, 3, 3, 4, 7, 3, 7, 5, 6, 5, 6, 3, 15, 3, 7, 5, 7, 4, 12, 3, 6, 17, 7, 2, 4, 4, 2, 5, 14, 3, 4, 5, 5, 5, 9, 7, 11, 2, 7, 5, 11, 11, 4, 13, 4, 3, 10, 7, 8, 11, 4, 14, 2, 7, 7, 4, 3, 7, 14, 3, 3, 5, 7, 2, 3, 7, 8, 7, 5, 6, 7, 14, 2, 11, 2, 8, 9, 5, 7, 5, 4, 6, 3, 6, 6, 5, 7, 7, 5, 4, 7, 5, 19, 9, 3, 7, 7, 9, 7, 4, 4, 3, 2, 2, 15, 3, 8, 8, 3, 8, 5, 2, 8, 10, 7, 8, 16, 5, 6, 3, 10, 8, 14, 5, 4, 5, 5, 3, 16, 4, 9, 4, 4, 5, 11, 6, 8, 4, 10, 4, 12, 3, 13, 2, 3, 7, 11, 17, 3, 16, 14, 8, 5, 12, 8, 11, 9, 10, 10, 2, 5, 9, 18, 4, 7, 14, 8, 5, 5, 2, 10, 14, 6, 6, 3, 5, 2, 5, 4, 7, 7, 6, 5, 18, 5, 9, 2, 3, 6, 5, 7, 12, 3, 3, 4, 9, 2, 10, 8, 6, 7, 4, 4, 3, 6, 2, 6, 5, 12, 7, 5, 5, 6, 3, 7, 3, 9, 5, 4, 5, 5, 2, 9, 3, 10, 2, 16, 14, 7, 6, 10, 6, 10, 4, 9, 6, 6, 2, 4, 12, 7, 12, 6, 17, 4, 15, 3, 4, 7, 7, 9, 9, 9, 16, 4, 8, 7, 5, 5, 11, 3, 2, 6, 2, 4, 8, 9, 6, 5, 11, 6, 10, 7, 7, 10, 4, 3, 6, 3, 3, 2, 17, 11, 13, 7, 11, 6, 12, 9, 4, 7, 9, 6, 6, 8, 3, 11, 6, 6, 12, 10, 5, 5, 6, 3, 4, 3, 4, 4, 5, 3, 5, 2, 2, 3, 5, 4, 9, 10, 7, 8, 2, 3, 2, 9, 4, 9, 7, 3, 13, 10, 4, 5, 7, 9, 3, 4, 7, 15, 5, 5, 5, 7, 14, 4, 5, 6, 10, 2, 5, 5, 4, 12, 4, 4, 6, 3, 15, 13, 13, 7, 2, 8, 9, 3, 6, 7, 10, 11, 15, 5, 12, 14, 5, 12, 12, 3, 7, 3, 7, 4, 6, 2, 14, 5, 6, 10, 10, 7, 4, 3, 10, 3, 3, 3, 7, 10, 8, 5, 9, 9, 17, 10, 5, 3, 4, 7, 7, 6, 7, 6, 2, 7, 6, 5, 2, 5, 5, 6, 3, 8, 6, 10, 3, 4, 7, 3, 6, 9, 7, 11, 7, 5, 21, 10, 5, 13, 4, 6, 4, 6, 2, 6, 9, 3, 5, 10, 9, 3, 4, 5, 11, 16, 6, 4, 4, 3, 6, 6, 12, 3, 3, 16, 10, 11, 6, 5, 3, 3, 9, 5, 3, 4, 8, 5, 11, 9, 3, 4, 4, 5, 11, 4, 5, 11, 3, 4, 5, 4, 9, 5, 4, 6, 4, 6, 4, 22, 2, 6, 6, 6, 18, 8, 7, 10, 14, 7, 6, 3, 6, 11, 15, 9, 6, 4, 4, 16, 3, 7, 7, 5, 2, 19, 8, 10, 5, 11, 6, 5, 6, 12, 4, 14, 10, 14, 14, 13, 7, 9, 5, 6, 5, 9, 4, 6, 4, 5, 8, 12, 11, 7, 9, 3, 2, 13, 7, 6, 6, 3, 11, 12, 4, 8, 2, 5, 4, 2, 3, 8, 7, 7, 7, 2, 5, 5, 5, 2, 3, 3, 12, 13, 18, 4, 7, 6, 4, 4, 2, 14, 7, 9, 6, 16, 6, 11, 3, 9, 4, 3, 6, 2, 11, 10, 9, 2, 3, 7, 2, 9, 12, 7, 2, 17, 5, 6, 9, 9, 3, 2, 3, 2, 14, 4, 3, 8, 18, 16, 5, 5, 18, 5, 7, 5, 6, 4, 9, 4, 16, 3, 7, 14, 6, 5, 5, 2, 3, 9, 3, 6, 15, 10, 19, 5, 8, 14, 5, 9, 3, 3, 6, 7, 7, 2, 7, 3, 18, 17, 4, 16, 4, 3, 15, 4, 2, 12, 4, 13, 5, 14, 13, 14, 7, 10, 13, 12, 8, 7, 6, 15, 12, 3, 8, 3, 2, 6, 6, 9, 9, 4, 10, 7, 8, 6, 6, 8, 6, 3, 3, 3, 4, 4, 11, 8, 2, 9, 4, 5, 6, 7, 11, 3, 12, 8, 4, 10, 7, 7, 3, 7, 5, 7, 3, 5, 7, 10, 6, 17, 5, 8, 6, 7, 6, 5, 6, 4, 9, 7, 3, 4, 5, 5, 9, 9, 5, 8, 10, 3, 12, 5, 3, 12, 3, 5, 9, 14, 7, 4, 3, 8, 13, 5, 5, 10, 3, 8, 4, 5, 8, 4, 5, 5, 3, 22, 9, 6, 10, 5, 23, 5, 7, 5, 6, 14, 4, 5, 6, 5, 3, 9, 12, 9, 3, 13, 3, 6, 9, 5, 6, 14, 3, 5, 11, 6, 2, 2, 2, 6, 4, 18, 3, 13, 5, 2, 9, 13, 2, 8, 10, 4, 5, 2, 3, 8, 5, 6, 6, 14, 3, 6, 4, 10, 4, 5, 8, 2, 6, 11, 3, 4, 6, 8, 3, 6, 7, 7, 2, 8, 7, 7, 9, 5, 18, 9, 10, 4, 3, 3, 3, 6, 5, 4, 3, 7, 8, 3, 3, 7, 11, 4, 5, 2, 7, 6, 12, 5, 4, 4, 8, 14, 5, 4, 2, 5, 6, 13, 5, 5, 3, 4, 9, 7, 3, 4, 7, 11, 3, 7, 4, 4, 10, 7, 6, 7, 7, 5, 12, 2, 3, 2, 11, 3, 7, 9, 16]\n",
            "[1, 5, 1, 3, 3, 12, 8, 1, 6, 1, 4, 4, 1, 1, 9, 5, 4, 2, 7, 2, 3, 1, 5, 6, 4, 1, 3, 2, 1, 1, 5, 1, 5, 4, 10, 1, 2, 5, 3, 2, 1, 1, 2, 2, 3, 1, 2, 6, 3, 8, 3, 2, 2, 3, 3, 1, 2, 2, 2, 2, 4, 3, 5, 1, 4, 9, 6, 2, 7, 9, 5, 5, 5, 2, 2, 12, 3, 1, 1, 7, 3, 1, 9, 4, 1, 2, 6, 3, 6, 1, 4, 1, 4, 1, 2, 1, 1, 2, 5, 4, 1, 2, 1, 1, 3, 10, 1, 2, 2, 6, 1, 4, 2, 1, 4, 3, 1, 3, 6, 1, 1, 3, 2, 1, 2, 2, 4, 1, 4, 5, 16, 4, 1, 2, 7, 1, 6, 1, 4, 1, 1, 1, 7, 4, 3, 5, 1, 8, 3, 1, 1, 2, 4, 2, 2, 2, 1, 5, 3, 8, 3, 3, 5, 3, 2, 2, 1, 2, 5, 2, 3, 3, 2, 1, 1, 3, 5, 2, 1, 2, 4, 2, 4, 4, 2, 3, 5, 3, 4, 6, 2, 3, 4, 2, 2, 2, 3, 3, 5, 3, 4, 2, 3, 2, 1, 7, 2, 3, 2, 2, 4, 6, 4, 8, 1, 5, 6, 7, 1, 2, 6, 1, 6, 1, 2, 4, 2, 1, 1, 2, 4, 1, 3, 2, 1, 2, 6, 2, 4, 2, 4, 12, 1, 4, 2, 3, 1, 2, 8, 5, 6, 1, 12, 6, 1, 5, 1, 3, 1, 1, 1, 9, 3, 4, 2, 1, 3, 3, 4, 2, 12, 3, 2, 6, 3, 4, 1, 1, 1, 3, 1, 2, 2, 13, 7, 2, 1, 3, 6, 1, 5, 1, 8, 2, 3, 6, 6, 4, 2, 1, 3, 5, 4, 6, 8, 1, 5, 2, 6, 3, 6, 2, 5, 4, 3, 1, 2, 1, 1, 3, 7, 1, 4, 1, 1, 2, 6, 1, 1, 1, 2, 6, 6, 4, 4, 2, 2, 3, 2, 2, 1, 3, 5, 1, 2, 2, 2, 9, 4, 6, 5, 1, 10, 2, 5, 4, 1, 4, 3, 3, 2, 7, 1, 2, 3, 3, 3, 3, 4, 1, 1, 1, 1, 1, 3, 6, 1, 4, 2, 11, 5, 4, 3, 8, 6, 3, 7, 8, 1, 2, 4, 1, 1, 1, 13, 1, 1, 2, 7, 5, 1, 2, 6, 4, 3, 7, 7, 1, 2, 4, 7, 1, 2, 1, 2, 8, 10, 1, 2, 3, 1, 1, 4, 6, 1, 4, 5, 4, 2, 3, 3, 5, 15, 9, 4, 2, 6, 2, 11, 4, 2, 2, 4, 3, 1, 3, 1, 5, 3, 10, 3, 6, 6, 2, 2, 2, 1, 7, 1, 5, 2, 5, 1, 6, 5, 2, 4, 3, 1, 4, 5, 3, 2, 7, 1, 4, 2, 3, 6, 4, 1, 1, 3, 3, 6, 1, 4, 4, 1, 3, 1, 4, 6, 2, 1, 10, 3, 3, 3, 1, 6, 3, 6, 4, 7, 2, 2, 1, 3, 1, 2, 3, 2, 1, 7, 3, 5, 1, 3, 7, 1, 2, 6, 1, 1, 1, 4, 2, 2, 5, 5, 6, 6, 1, 6, 2, 5, 2, 4, 3, 2, 9, 3, 5, 6, 1, 8, 2, 4, 1, 3, 4, 4, 4, 3, 2, 1, 5, 3, 3, 2, 7, 4, 5, 2, 2, 1, 4, 4, 4, 1, 1, 3, 4, 3, 1, 3, 3, 1, 1, 2, 1, 8, 1, 2, 3, 2, 4, 8, 1, 11, 1, 1, 3, 2, 1, 3, 1, 1, 7, 5, 1, 1, 4, 2, 2, 1, 4, 2, 1, 2, 4, 4, 2, 7, 2, 4, 3, 2, 5, 1, 14, 1, 2, 1, 1, 1, 3, 1, 4, 1, 2, 3, 3, 2, 1, 2, 2, 4, 2, 3, 4, 6, 4, 9, 5, 4, 2, 1, 2, 3, 2, 6, 2, 18, 1, 7, 5, 8, 19, 2, 3, 1, 2, 6, 4, 4, 1, 3, 1, 4, 2, 1, 6, 1, 1, 2, 4, 1, 1, 3, 4, 4, 1, 2, 2, 6, 2, 5, 1, 6, 1, 4, 3, 9, 2, 11, 2, 1, 2, 11, 5, 5, 5, 1, 6, 3, 3, 2, 3, 1, 2, 4, 4, 3, 2, 1, 4, 6, 6, 2, 6, 1, 3, 2, 2, 1, 1, 2, 1, 2, 6, 6, 2, 7, 2, 2, 1, 4, 5, 5, 1, 6, 2, 2, 1, 3, 1, 5, 1, 4, 4, 1, 2, 3, 5, 4, 5, 4, 1, 2, 1, 4, 5, 4, 2, 2, 1, 4, 2, 7, 4, 4, 11, 2, 3, 2, 3, 2, 1, 4, 8, 6, 9, 5, 1, 1, 1, 2, 3, 1, 1, 5, 3, 4, 5, 1, 1, 4, 2, 3, 4, 4, 4, 3, 2, 6, 3, 1, 2, 3, 18, 8, 5, 3, 6, 2, 2, 1, 4, 2, 8, 4, 1, 4, 4, 2, 1, 1, 7, 2, 2, 1, 3, 12, 4, 4, 1, 6, 2, 4, 1, 3, 3, 4, 4, 3, 2, 1, 2, 6, 1, 5, 4, 1, 9, 2, 1, 2, 5, 1, 3, 2, 3, 3, 1, 1, 5, 2, 7, 1, 3, 7, 12, 3, 2, 1, 8, 5, 5, 5, 2, 1, 2, 6, 6, 4, 2, 3, 3, 18, 2, 1, 1, 2, 5, 1, 4, 5, 5, 3, 10, 3, 5, 1, 4, 1, 1, 1, 1, 11, 1, 1, 6, 4, 3, 1, 1, 2, 6, 2, 1, 1, 1, 3, 3, 6, 7, 2, 4, 8, 1, 2, 5, 3, 3, 3, 4, 1, 1, 5, 2, 3, 1, 4, 3, 2, 4, 1, 3, 5, 1, 5, 2, 1, 5, 5, 3, 1, 1, 4, 4, 1, 6, 1, 11, 2, 2, 1, 4, 1, 2, 2, 3, 3, 7, 3, 1, 1, 3, 5, 2, 1, 7, 8, 1, 3, 3, 1, 10, 1, 14, 2, 4, 1, 1, 1, 5, 3, 1, 2]\n"
          ]
        },
        {
          "output_type": "execute_result",
          "data": {
            "text/plain": [
              "<matplotlib.patches.StepPatch at 0x7fdc909b2730>"
            ]
          },
          "metadata": {},
          "execution_count": 157
        },
        {
          "output_type": "display_data",
          "data": {
            "text/plain": [
              "<Figure size 432x288 with 1 Axes>"
            ],
            "image/png": "[encoded data removed]"
          },
          "metadata": {
            "needs_background": "light"
          }
        }
      ],
      "source": [
        "import numpy as np\n",
        "import pandas as pd\n",
        "import matplotlib.pyplot as plt\n",
        "# 1-20 arasındaki sayıların olasılıklarını tanımla\n",
        "numbers = np.arange(1, 20)\n",
        "numbers1 = np.arange(2, 24)\n",
        "probabilities = np.array([0.2810,0.2114,0.1459,0.1231,0.0838,0.0507,0.0341,0.0218,0.0096,0.0096,0.0105,0.0070,0.0061,0.0009,0.0009,0.0009,0.0009,0.0009,0.0009])\n",
        "prob1=np.array([0.08304195804195805,0.11975524475524475,0.1258741258741259,0.14160839160839161,0.09178321678321678,0.11188811188811189,0.06555944055944056,0.056818181818181816,0.04108391608391608,0.043706293706293704,0.027972027972027972,0.02097902097902098,0.024475524475524476,0.011363636363636364,0.011363636363636364,0.006118881118881119,0.005244755244755245,0.0026223776223776225,0.0026223776223776225,0.0026223776223776225,0.0026223776223776225,0.0008741258741258741])\n",
        "i=0\n",
        "Değerler=[]\n",
        "Değerler1=[]\n",
        "# Rastgele bir sayı seç\n",
        "while i<=1000:\n",
        "  random_number = np.random.choice(numbers, p=probabilities)\n",
        "  random_number1 = np.random.choice(numbers1, p=prob1)\n",
        "  Değerler.append(random_number)\n",
        "  Değerler1.append(random_number1)\n",
        "  i+=1\n",
        "print(Değerler1)\n",
        "print(Değerler)\n",
        "#df = pd.DataFrame(Değerler1)\n",
        "#df.to_excel(\"Bir4.xlsx\")\n",
        "counts, bins = np.histogram(Değerler1)\n",
        "plt.stairs(counts, bins)"
      ]
    },
    {
      "cell_type": "code",
      "source": [
        "import numpy as np\n",
        "\n",
        "# Önceki verileri tanımla\n",
        "previous_data = np.array([1,2,4,3,5,2,1,1,2,4,4,1,5,2,5,6,2,2,1,1,1,2,1,5,13,3,1,1,4,1,5,2,1,6,12,1,3,6,5,8,5,5,2,2,1,2,3,12,2,8,2,1,9,1,3,3,2,6,4,1,3,3,2,1,5,1,2,2,4,1,1,5,2,3,2,2,4,3,4,10,2,4,2,1,1,5,2,9,4,4,1,3,2,5,8,4,2,1,5,1,4,2,7,1,2,6,2,2,2,2,3,1,1,2,11,5,5,2,3,6,6,3,6,1,6,11,2,2,3,2,2,1,6,2,1,4,7,2,1,3,2,5,4,3,1,4,1,2,4,1,1,3,2,1,2,1,2,1,3,4,3,4,6,3,2,8,4,4,1,8,3,7,1,5,7,1,4,1,2,1,6,1,1,1,1,6,2,4,1,12,2,4,10,2,1,2,1,3,1,7,2,1,2,1,2,2,6,5,5,4,1,1,1,2,1,2,2,1,2,8,2,2,1,3,1,4,1,1,1,8,7,1,4,4,2,3,5,3,6,4,3,2,1,1,1,5,2,2,1,1,2,2,7,11,3,1,1,4,1,2,4,1,1,8,1,2,2,3,4,11,1,11,6,3,2,5,4,7,1,1,1,1,3,1,3,2,1,4,2,5,3,1,8,3,3,7,4,2,2,3,5,11,1,5,1,4,2,2,6,1,5,4,4,2,7,3,2,5,2,2,7,13,4,5,4,5,3,7,4,10,2,1,9,1,4,8,6,7,3,5,2,4,5,5,2,7,2,4,1,1,4,13,1,3,2,7,8,3,2,2,7,8,3,2,1,5,9,4,4,2,1,5,4,3,1,4,4,2,6,3,1,2,4,1,5,2,7,3,1,11,8,4,4,4,3,2,2,1,2,1,2,12,1,3,6,2,1,3,1,3,1,1,1,2,6,5,10,1,2,3,5,1,2,3,1,2,3,3,2,3,5,3,3,2,1,2,9,3,5,5,3,6,2,5,6,6,5,1,5,3,3,3,1,1,1,3,2,12,1,4,1,1,1,3,3,2,2,1,2,7,2,1,7,4,4,1,1,2,1,4,5,1,12,9,1,2,1,1,2,3,3,1,1,1,1,2,3,2,4,4,5,9,2,7,3,1,6,5,3,1,2,1,1,2,3,3,2,3,2,4,4,1,1,1,1,7,4,1,8,3,2,1,3,2,1,8,4,3,7,1,4,1,2,2,2,2,2,1,4,2,4,10,3,2,1,1,6,7,1,3,2,3,3,2,6,4,1,4,2,4,2,4,3,1,5,1,2,1,2,1,2,3,6,7,2,2,8,3,5,1,9,2,2,2,1,2,7,6,1,10,3,4,4,2,3,3,1,1,5,5,4,7,8,2,8,2,2,1,5,3,1,3,3,1,11,10,1,1,9,4,2,3,4,10,3,2,3,10,5,4,5,8,1,3,1,3,3,1,2,3,1,1,4,1,2,3,2,1,3,5,2,3,1,1,3,3,2,1,5,3,2,3,1,3,11,2,2,6,4,3,2,12,1,3,3,3,6,1,3,1,1,1,3,2,3,4,1,3,6,3,2,1,3,3,8,2,4,2,3,1,2,1,2,1,1,3,1,1,3,1,3,1,3,2,7,1,15,1,3,1,5,2,1,4,1,1,4,2,2,4,7,1,6,4,10,4,1,1,2,2,3,11,3,2,5,1,5,2,4,2,1,3,2,1,9,2,1,2,8,2,9,1,1,1,1,5,11,4,5,5,5,1,1,4,1,3,2,1,2,1,4,2,2,5,2,2,1,3,4,4,6,7,3,1,6,1,4,3,2,3,4,3,1,1,4,1,1,7,5,3,2,4,1,2,8,1,2,4,5,2,11,3,1,4,2,5,3,7,1,3,3,3,6,6,6,8,5,6,6,4,4,3,2,2,1,4,1,2,3,5,5,4,1,6,6,1,1,2,2,3,6,6,1,4,3,5,1,1,1,1,1,4,2,14,1,5,1,4,5,2,6,1,19,4,1,6,3,1,4,1,2,1,5,6,2,4,1,1,3,2,1,1,6,3,1,4,4,2,5,2,1,2,1,7,4,7,3,2,1,1,6,1,2,4,3,1,1,2,1,6,5,7,3,4,1,3,3,4,1,6,5,6,2,12,1,3,3,4,3,1,3,1,5,5,2,1,3,1,4,2,4,2,4,3,4,1,1,3,1,2,2,5,3,1,1,5,3,4,4,4,2,1,1,13,6,1,1,4,1,16,5,7,2,13,1,2,4,2,5,3,1,1,5,3,1,5,1,1,2,1,1,1,2,2,20,5,4,4,1,1,2,3,2,2,5,6,1,4,4,2,2,1,1,3,1,2,5,3,3,1,1,1,10,2,5,7,1,4,2,1,1,4,2,4,1,3,2,1,18,2,1,3,1,1,2,5,1,2,7,3,1,1,5,1,6,1,7,1,4,1,4,1,1,2,2,8,4,4,1,1,13,5,1,3,4,5,2,2,5,2,1,2,1,6,1,6,1,7,1,4,1,4,1,1,2,2,8,4,4,1,1,13,5,1,3,4,5,2,2,5,2,1,2,1,6])\n",
        "\n",
        "# Son 3 veri noktasını alarak olasılık dağılımını hesapla\n",
        "last_values = previous_data[-1000:]\n",
        "value_counts = np.bincount(last_values, minlength=1000)\n",
        "probabilities = value_counts / value_counts.sum()\n",
        "\n",
        "# Sonraki veri noktasını tahmin et\n",
        "next_value = np.random.choice(np.arange(1000), p=probabilities)\n",
        "print(next_value)"
      ],
      "metadata": {
        "colab": {
          "base_uri": "https://localhost:8080/"
        },
        "id": "TC3oiJbgAWvd",
        "outputId": "bbdd4895-f391-4054-aec5-d11ec39eb857"
      },
      "execution_count": 237,
      "outputs": [
        {
          "output_type": "stream",
          "name": "stdout",
          "text": [
            "5\n"
          ]
        }
      ]
    },
    {
      "cell_type": "code",
      "source": [
        "import numpy as np\n",
        "\n",
        "# Önceki verileri tanımla\n",
        "previous_data = np.array([1,2,4,3,5,2,1,1,2,4,4,1,5,2,5,6,2,2,1,1,1,2,1,5,13,3,1,1,4,1,5,2,1,6,12,1,3,6,5,8,5,5,2,2,1,2,3,12,2,8,2,1,9,1,3,3,2,6,4,1,3,3,2,1,5,1,2,2,4,1,1,5,2,3,2,2,4,3,4,10,2,4,2,1,1,5,2,9,4,4,1,3,2,5,8,4,2,1,5,1,4,2,7,1,2,6,2,2,2,2,3,1,1,2,11,5,5,2,3,6,6,3,6,1,6,11,2,2,3,2,2,1,6,2,1,4,7,2,1,3,2,5,4,3,1,4,1,2,4,1,1,3,2,1,2,1,2,1,3,4,3,4,6,3,2,8,4,4,1,8,3,7,1,5,7,1,4,1,2,1,6,1,1,1,1,6,2,4,1,12,2,4,10,2,1,2,1,3,1,7,2,1,2,1,2,2,6,5,5,4,1,1,1,2,1,2,2,1,2,8,2,2,1,3,1,4,1,1,1,8,7,1,4,4,2,3,5,3,6,4,3,2,1,1,1,5,2,2,1,1,2,2,7,11,3,1,1,4,1,2,4,1,1,8,1,2,2,3,4,11,1,11,6,3,2,5,4,7,1,1,1,1,3,1,3,2,1,4,2,5,3,1,8,3,3,7,4,2,2,3,5,11,1,5,1,4,2,2,6,1,5,4,4,2,7,3,2,5,2,2,7,13,4,5,4,5,3,7,4,10,2,1,9,1,4,8,6,7,3,5,2,4,5,5,2,7,2,4,1,1,4,13,1,3,2,7,8,3,2,2,7,8,3,2,1,5,9,4,4,2,1,5,4,3,1,4,4,2,6,3,1,2,4,1,5,2,7,3,1,11,8,4,4,4,3,2,2,1,2,1,2,12,1,3,6,2,1,3,1,3,1,1,1,2,6,5,10,1,2,3,5,1,2,3,1,2,3,3,2,3,5,3,3,2,1,2,9,3,5,5,3,6,2,5,6,6,5,1,5,3,3,3,1,1,1,3,2,12,1,4,1,1,1,3,3,2,2,1,2,7,2,1,7,4,4,1,1,2,1,4,5,1,12,9,1,2,1,1,2,3,3,1,1,1,1,2,3,2,4,4,5,9,2,7,3,1,6,5,3,1,2,1,1,2,3,3,2,3,2,4,4,1,1,1,1,7,4,1,8,3,2,1,3,2,1,8,4,3,7,1,4,1,2,2,2,2,2,1,4,2,4,10,3,2,1,1,6,7,1,3,2,3,3,2,6,4,1,4,2,4,2,4,3,1,5,1,2,1,2,1,2,3,6,7,2,2,8,3,5,1,9,2,2,2,1,2,7,6,1,10,3,4,4,2,3,3,1,1,5,5,4,7,8,2,8,2,2,1,5,3,1,3,3,1,11,10,1,1,9,4,2,3,4,10,3,2,3,10,5,4,5,8,1,3,1,3,3,1,2,3,1,1,4,1,2,3,2,1,3,5,2,3,1,1,3,3,2,1,5,3,2,3,1,3,11,2,2,6,4,3,2,12,1,3,3,3,6,1,3,1,1,1,3,2,3,4,1,3,6,3,2,1,3,3,8,2,4,2,3,1,2,1,2,1,1,3,1,1,3,1,3,1,3,2,7,1,15,1,3,1,5,2,1,4,1,1,4,2,2,4,7,1,6,4,10,4,1,1,2,2,3,11,3,2,5,1,5,2,4,2,1,3,2,1,9,2,1,2,8,2,9,1,1,1,1,5,11,4,5,5,5,1,1,4,1,3,2,1,2,1,4,2,2,5,2,2,1,3,4,4,6,7,3,1,6,1,4,3,2,3,4,3,1,1,4,1,1,7,5,3,2,4,1,2,8,1,2,4,5,2,11,3,1,4,2,5,3,7,1,3,3,3,6,6,6,8,5,6,6,4,4,3,2,2,1,4,1,2,3,5,5,4,1,6,6,1,1,2,2,3,6,6,1,4,3,5,1,1,1,1,1,4,2,14,1,5,1,4,5,2,6,1,19,4,1,6,3,1,4,1,2,1,5,6,2,4,1,1,3,2,1,1,6,3,1,4,4,2,5,2,1,2,1,7,4,7,3,2,1,1,6,1,2,4,3,1,1,2,1,6,5,7,3,4,1,3,3,4,1,6,5,6,2,12,1,3,3,4,3,1,3,1,5,5,2,1,3,1,4,2,4,2,4,3,4,1,1,3,1,2,2,5,3,1,1,5,3,4,4,4,2,1,1,13,6,1,1,4,1,16,5,7,2,13,1,2,4,2,5,3,1,1,5,3,1,5,1,1,2,1,1,1,2,2,20,5,4,4,1,1,2,3,2,2,5,6,1,4,4,2,2,1,1,3,1,2,5,3,3,1,1,1,10,2,5,7,1,4,2,1,1,4,2,4,1,3,2,1,18,2,1,3,1,1,2,5,1,2,7,3,1,1,5,1,6,1,7,1,4,1,4,1,1,2,2,8,4,4,1,1,13,5,1,3,4,5,2,2,5,2,1,2,1,6,1,6,1,7,1,4,1,4,1,1,2,2,8,4,4,1,1,13,5,1,3,4,5,2,2,5,2,1,2,1,6])\n",
        "\n",
        "last_values = previous_data[-1146:]\n",
        "value_counts = np.bincount(last_values, minlength=1000)\n",
        "probabilities = value_counts / value_counts.sum()\n",
        "\n",
        "# Sonraki veri noktasını tahmin et\n",
        "num_trials = 0\n",
        "denemeler=[]\n",
        "s=0\n",
        "while s<=1000:\n",
        "  while True:\n",
        "      num_trials += 1\n",
        "      next_value = np.random.choice(np.arange(1000), p=probabilities)\n",
        "      if next_value == 2:\n",
        "          print(f\"1, {num_trials}. denemede geldi.\")\n",
        "          \n",
        "          denemeler.append(denemeler)\n",
        "          s+=1\n",
        "          break"
      ],
      "metadata": {
        "id": "R96Xy3mPKveY"
      },
      "execution_count": null,
      "outputs": []
    },
    {
      "cell_type": "code",
      "source": [
        "np.mean(denemeler)"
      ],
      "metadata": {
        "id": "tJI2GJaiMIXv"
      },
      "execution_count": null,
      "outputs": []
    },
    {
      "cell_type": "code",
      "source": [
        "previous_data = np.array(Değerler1)\n",
        "# Son 3 veri noktasını alarak olasılık dağılımını hesapla\n",
        "last_values = previous_data[-1000:]\n",
        "value_counts = np.bincount(last_values, minlength=1000)\n",
        "probabilities = value_counts / value_counts.sum()\n",
        "\n",
        "# Sonraki veri noktasını tahmin et\n",
        "next_value = np.random.choice(np.arange(1000), p=probabilities)\n",
        "print(next_value)"
      ],
      "metadata": {
        "colab": {
          "base_uri": "https://localhost:8080/"
        },
        "id": "ABoR6KlkI8pe",
        "outputId": "8a6e521c-8c84-44fe-9d59-ee94ebf3ac8b"
      },
      "execution_count": 236,
      "outputs": [
        {
          "output_type": "stream",
          "name": "stdout",
          "text": [
            "6\n"
          ]
        }
      ]
    }
  ]
}