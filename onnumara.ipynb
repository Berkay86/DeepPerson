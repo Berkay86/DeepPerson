{
  "nbformat": 4,
  "nbformat_minor": 0,
  "metadata": {
    "colab": {
      "provenance": [],
      "authorship_tag": "ABX9TyMWbXcIVglD53h6wTgDGvNG",
      "include_colab_link": true
    },
    "kernelspec": {
      "name": "python3",
      "display_name": "Python 3"
    },
    "language_info": {
      "name": "python"
    }
  },
  "cells": [
    {
      "cell_type": "markdown",
      "metadata": {
        "id": "view-in-github",
        "colab_type": "text"
      },
      "source": [
        "<a href=\"https://colab.research.google.com/github/Berkay86/DeepPerson/blob/main/onnumara.ipynb\" target=\"_parent\"><img src=\"https://colab.research.google.com/assets/colab-badge.svg\" alt=\"Open In Colab\"/></a>"
      ]
    },
    {
      "cell_type": "code",
      "execution_count": 29,
      "metadata": {
        "colab": {
          "base_uri": "https://localhost:8080/",
          "height": 337
        },
        "id": "u_Iuiu5wlB9b",
        "outputId": "f12fa931-315a-455f-f8a4-518faa1ead4e"
      },
      "outputs": [
        {
          "output_type": "stream",
          "name": "stdout",
          "text": [
            "[5, 8, 4, 5, 5, 5, 2, 5, 8, 3, 5, 3, 17, 7, 6, 3, 15, 15, 7, 6, 11, 4, 7, 2, 3, 2, 4, 4, 5, 4, 3, 15, 6, 9, 8, 11, 4, 8, 5, 2, 5, 7, 12, 7, 5, 7, 14, 3, 2, 6, 8, 8, 7, 4, 7, 6, 6, 5, 4, 4, 7, 10, 4, 8, 5, 2, 10, 8, 10, 5, 9, 4, 10, 7, 4, 8, 10, 5, 3, 3, 5, 13, 2, 3, 6, 6, 5, 4, 3, 6, 3, 7, 5, 4, 7, 4, 16, 5, 16, 2, 15, 11, 16, 8, 4, 2, 2, 14, 8, 7, 10, 4, 5, 5, 5, 8, 5, 4, 14, 4, 10, 7, 11, 12, 4, 4, 5, 12, 5, 6, 14, 12, 4, 4, 7, 5, 5, 3, 8, 3, 12, 3, 5, 8, 5, 7, 5, 12, 6, 3, 5, 3, 5, 10, 6, 2, 5, 5, 7, 7, 2, 6, 7, 5, 7, 2, 5, 4, 9, 6, 7, 7, 10, 3, 3, 5, 12, 11, 6, 8, 2, 3, 3, 2, 5, 20, 13, 12, 3, 15, 2, 4, 5, 5, 4, 10, 5, 12, 14, 5, 14, 7, 8, 5, 6, 4, 2, 3, 3, 4, 14, 5, 5, 9, 5, 5, 2, 4, 4, 10, 6, 2, 7, 11, 12, 3, 4, 17, 7, 12, 22, 2, 3, 5, 12, 6, 7, 6, 5, 6, 2, 6, 3, 3, 13, 18, 15, 6, 4, 2, 5, 4, 4, 3, 6, 5, 5, 11, 11, 3, 3, 5, 5, 14, 10, 2, 12, 5, 7, 14, 5, 11, 3, 4, 7, 16, 6, 5, 3, 4, 3, 4, 11, 6, 13, 7, 14, 7, 6, 12, 16, 6, 4, 12, 2, 7, 4, 3, 7, 12, 4, 7, 6, 5, 9, 9, 2, 6, 3, 3, 5, 22, 8, 7, 7, 5, 12, 10, 2, 5, 3, 3, 3, 4, 11, 2, 4, 7, 9, 8, 3, 7, 6, 7, 4, 16, 18, 2, 5, 7, 21, 11, 5, 5, 4, 11, 4, 4, 8, 8, 7, 6, 5, 9, 8, 4, 4, 3, 7, 7, 7, 5, 11, 9, 3, 11, 9, 8, 3, 5, 7, 5, 2, 3, 8, 3, 4, 7, 3, 2, 9, 15, 6, 6, 3, 6, 9, 2, 4, 9, 3, 5, 5, 4, 6, 3, 14, 5, 3, 4, 8, 14, 9, 5, 5, 5, 2, 8, 2, 3, 3, 4, 7, 8, 7, 2, 5, 7, 9, 3, 9, 3, 3, 3, 9, 7, 5, 8, 12, 2, 4, 6, 5, 8, 3, 7, 3, 3, 2, 3, 9, 5, 11, 12, 8, 6, 8, 5, 3, 4, 3, 3, 4, 11, 10, 15, 6, 3, 5, 2, 5, 9, 9, 5, 15, 8, 13, 5, 4, 6, 7, 10, 7, 5, 7, 11, 6, 2, 10, 10, 3, 2, 7, 3, 10, 9, 5, 6, 9, 4, 14, 7, 7, 5, 11, 14, 11, 3, 6, 17, 12, 3, 8, 16, 10, 2, 7, 10, 6, 3, 15, 14, 5, 4, 3, 5, 5, 10, 7, 7, 6, 3, 7, 3, 13, 5, 4, 5, 6, 4, 9, 5, 8, 4, 2, 14, 4, 9, 4, 5, 5, 7, 6, 11, 3, 3, 6, 2, 7, 7, 4, 8, 6, 11, 6, 7, 9, 5, 5, 11, 5, 4, 4, 3, 7, 10, 5, 2, 5, 6, 14, 6, 3, 7, 9, 7, 7, 5, 5, 15, 11, 2, 7, 11, 6, 8, 3, 12, 7, 3, 4, 6, 2, 2, 3, 8, 3, 5, 9, 5, 18, 11, 3, 4, 8, 11, 7, 11, 6, 10, 14, 12, 11, 7, 21, 5, 4, 9, 3, 7, 3, 7, 8, 3, 9, 5, 7, 3, 6, 5, 4, 6, 5, 7, 18, 7, 6, 13, 3, 2, 5, 7, 5, 11, 5, 3, 5, 7, 2, 3, 8, 13, 3, 5, 4, 9, 18, 3, 5, 5, 5, 16, 12, 6, 2, 3, 7, 11, 5, 4, 2, 4, 2, 5, 3, 7, 10, 4, 4, 5, 4, 6, 3, 7, 3, 2, 2, 5, 7, 8, 7, 7, 7, 7, 5, 12, 4, 10, 8, 8, 6, 4, 2, 2, 6, 7, 10, 9, 9, 11, 6, 3, 7, 8, 4, 4, 11, 18, 3, 4, 17, 6, 5, 6, 10, 12, 5, 10, 7, 2, 6, 11, 6, 12, 6, 3, 7, 16, 7, 7, 6, 7, 3, 3, 9, 4, 11, 9, 5, 5, 7, 7, 12, 8, 7, 2, 2, 4, 6, 18, 5, 8, 6, 3, 13, 4, 6, 5, 6, 4, 11, 14, 12, 3, 17, 4, 3, 17, 9, 9, 3, 8, 8, 17, 4, 8, 11, 8, 2, 2, 2, 6, 7, 11, 7, 7, 4, 3, 5, 4, 12, 2, 2, 8, 2, 5, 4, 14, 10, 5, 5, 8, 9, 7, 11, 11, 11, 4, 6, 16, 13, 10, 6, 9, 7, 7, 12, 9, 18, 5, 5, 8, 5, 15, 2, 5, 7, 8, 7, 14, 3, 9, 5, 17, 8, 6, 4, 9, 6, 5, 11, 6, 3, 19, 3, 9, 7, 6, 5, 3, 5, 4, 6, 10, 5, 14, 7, 9, 2, 13, 3, 11, 5, 7, 3, 6, 5, 8, 7, 6, 2, 3, 4, 7, 10, 6, 8, 5, 3, 14, 4, 9, 6, 14, 16, 3, 3, 4, 6, 2, 14, 2, 3, 7, 6, 6, 6, 10, 3, 5, 7, 6, 4, 7, 8, 13, 10, 2, 12, 3, 16, 7, 5, 2, 14, 2, 12, 6, 14, 5, 13, 5, 5, 5, 17, 4, 12, 12, 16, 3, 3, 7, 3, 4, 2, 10, 6, 6, 5, 2, 7, 15, 3, 7, 3, 14, 4, 5, 8, 4, 9, 6, 2, 5, 6, 2, 12, 5, 2, 8, 4, 3, 6, 7, 3, 6, 5, 14, 10, 12, 15, 6, 6, 3, 14, 3, 13, 11, 5, 7, 9, 11, 6, 5, 7, 7, 5, 4, 8, 15, 5]\n",
            "[8, 5, 11, 4, 3, 5, 3, 3, 1, 1, 11, 4, 2, 4, 1, 5, 3, 3, 3, 3, 3, 6, 1, 3, 2, 1, 3, 5, 4, 8, 3, 2, 3, 2, 2, 5, 2, 1, 3, 1, 1, 2, 11, 2, 1, 2, 1, 12, 8, 1, 2, 4, 1, 1, 2, 7, 4, 1, 2, 1, 5, 1, 3, 1, 1, 2, 1, 2, 3, 16, 2, 5, 1, 4, 4, 4, 1, 2, 2, 2, 7, 1, 4, 8, 11, 2, 1, 2, 1, 1, 13, 2, 7, 7, 4, 6, 3, 2, 1, 4, 6, 2, 2, 4, 2, 1, 1, 2, 5, 5, 8, 5, 2, 2, 3, 1, 4, 6, 2, 2, 2, 2, 1, 2, 2, 1, 4, 5, 7, 2, 1, 2, 3, 1, 6, 2, 1, 5, 4, 3, 1, 4, 1, 2, 1, 3, 4, 17, 8, 3, 2, 2, 1, 4, 1, 6, 3, 1, 3, 1, 2, 1, 1, 1, 5, 1, 12, 1, 4, 3, 3, 1, 3, 4, 2, 2, 1, 1, 3, 5, 1, 4, 1, 4, 2, 1, 6, 1, 7, 5, 2, 3, 5, 5, 1, 1, 4, 2, 8, 3, 1, 1, 4, 2, 5, 1, 4, 6, 4, 1, 2, 3, 3, 3, 5, 7, 4, 1, 2, 1, 3, 5, 3, 3, 1, 1, 1, 1, 3, 1, 1, 10, 10, 1, 2, 5, 6, 5, 9, 3, 6, 3, 3, 3, 2, 5, 2, 3, 1, 3, 1, 1, 7, 1, 7, 3, 1, 1, 4, 11, 2, 2, 1, 2, 1, 1, 3, 1, 1, 1, 2, 8, 1, 1, 1, 5, 2, 3, 1, 1, 1, 2, 1, 1, 4, 2, 4, 3, 6, 1, 1, 5, 7, 6, 2, 4, 1, 1, 6, 1, 2, 3, 6, 4, 1, 1, 4, 4, 4, 1, 1, 5, 1, 12, 2, 4, 4, 7, 6, 1, 1, 3, 3, 1, 1, 6, 2, 4, 2, 6, 3, 6, 5, 5, 3, 5, 3, 4, 1, 4, 5, 3, 1, 2, 2, 1, 2, 3, 3, 2, 16, 1, 2, 7, 2, 4, 2, 1, 2, 2, 4, 3, 5, 12, 1, 1, 2, 6, 2, 4, 1, 4, 1, 4, 1, 6, 1, 5, 7, 3, 1, 1, 3, 1, 4, 3, 3, 2, 5, 4, 4, 4, 6, 3, 3, 1, 5, 3, 1, 1, 2, 5, 2, 1, 1, 2, 1, 1, 3, 4, 1, 2, 1, 2, 1, 1, 2, 4, 12, 1, 5, 4, 1, 2, 2, 1, 1, 6, 5, 3, 5, 9, 5, 1, 2, 2, 1, 1, 7, 2, 5, 1, 3, 4, 3, 6, 2, 2, 2, 3, 2, 2, 2, 3, 1, 4, 2, 1, 1, 1, 2, 5, 8, 2, 1, 3, 1, 3, 3, 4, 10, 1, 5, 4, 4, 6, 4, 5, 3, 7, 2, 1, 1, 2, 3, 1, 2, 1, 1, 4, 4, 3, 1, 3, 2, 1, 2, 10, 3, 3, 3, 7, 5, 2, 2, 1, 5, 4, 4, 6, 4, 2, 10, 1, 1, 1, 6, 9, 6, 1, 2, 3, 5, 2, 1, 2, 3, 6, 2, 4, 5, 7, 1, 2, 3, 3, 6, 2, 5, 1, 2, 5, 2, 2, 4, 2, 1, 14, 2, 4, 1, 1, 4, 1, 3, 3, 2, 5, 1, 1, 1, 4, 4, 5, 4, 1, 5, 1, 3, 1, 1, 2, 1, 1, 5, 4, 6, 6, 1, 3, 5, 3, 1, 1, 18, 4, 6, 1, 3, 3, 2, 1, 1, 1, 2, 3, 2, 2, 1, 4, 7, 7, 4, 2, 3, 2, 2, 8, 2, 1, 2, 7, 5, 1, 2, 5, 6, 8, 4, 2, 1, 2, 6, 4, 3, 8, 1, 1, 2, 2, 5, 12, 1, 1, 1, 1, 1, 7, 8, 2, 3, 4, 1, 2, 3, 1, 2, 13, 1, 1, 4, 4, 2, 1, 4, 1, 11, 3, 1, 2, 1, 7, 4, 1, 1, 3, 2, 4, 3, 2, 7, 1, 1, 3, 2, 1, 5, 5, 1, 1, 3, 5, 2, 6, 2, 2, 6, 1, 1, 5, 4, 4, 2, 7, 1, 1, 1, 4, 4, 3, 1, 2, 12, 13, 3, 2, 9, 11, 3, 2, 2, 3, 8, 14, 4, 3, 1, 1, 2, 2, 9, 4, 4, 1, 2, 3, 2, 4, 1, 3, 7, 1, 3, 2, 2, 5, 3, 8, 3, 1, 2, 1, 2, 1, 5, 8, 1, 1, 2, 1, 3, 1, 6, 4, 3, 1, 4, 5, 4, 4, 3, 5, 5, 5, 4, 1, 4, 2, 1, 5, 10, 1, 1, 3, 3, 5, 2, 3, 1, 4, 2, 1, 8, 3, 1, 1, 6, 1, 1, 3, 5, 2, 3, 7, 1, 2, 3, 1, 5, 2, 2, 3, 5, 2, 3, 2, 1, 4, 1, 3, 2, 7, 1, 3, 11, 3, 1, 1, 3, 5, 4, 2, 2, 10, 4, 2, 5, 7, 5, 2, 2, 2, 3, 2, 3, 2, 1, 4, 1, 4, 1, 1, 5, 4, 4, 3, 2, 1, 1, 1, 4, 5, 5, 6, 7, 1, 2, 2, 4, 3, 6, 1, 1, 5, 1, 3, 1, 4, 6, 1, 3, 2, 3, 3, 4, 3, 1, 6, 1, 12, 2, 3, 4, 1, 4, 4, 5, 2, 1, 1, 1, 2, 2, 11, 1, 2, 3, 2, 1, 15, 4, 1, 1, 2, 1, 6, 3, 5, 7, 3, 1, 4, 1, 2, 1, 1, 5, 1, 1, 7, 2, 2, 1, 1, 6, 3, 3, 1, 1, 4, 1, 1, 4, 3, 4, 1, 1, 3, 1, 2, 1, 2, 2, 1, 5, 3, 9, 2, 4, 8, 2, 1, 1, 13, 1, 11, 1, 3, 6, 5, 2, 11, 3, 4, 7, 6, 2, 2, 15, 2, 4, 4, 1, 1, 3, 8, 2, 1, 17, 11, 1, 6, 8, 2, 1, 2, 1, 3, 3, 4, 1, 7, 4, 7, 2, 2, 1, 3, 3, 1, 2]\n"
          ]
        },
        {
          "output_type": "execute_result",
          "data": {
            "text/plain": [
              "<matplotlib.patches.StepPatch at 0x7f5bf8c8e2b0>"
            ]
          },
          "metadata": {},
          "execution_count": 29
        },
        {
          "output_type": "display_data",
          "data": {
            "text/plain": [
              "<Figure size 432x288 with 1 Axes>"
            ],
            "image/png": "[encoded data removed]"
          },
          "metadata": {
            "needs_background": "light"
          }
        }
      ],
      "source": [
        "import numpy as np\n",
        "import pandas as pd\n",
        "import matplotlib.pyplot as plt\n",
        "# 1-20 arasındaki sayıların olasılıklarını tanımla\n",
        "numbers = np.arange(1, 20)\n",
        "numbers1 = np.arange(2, 24)\n",
        "probabilities = np.array([0.2810,0.2114,0.1459,0.1231,0.0838,0.0507,0.0341,0.0218,0.0096,0.0096,0.0105,0.0070,0.0061,0.0009,0.0009,0.0009,0.0009,0.0009,0.0009])\n",
        "prob1=np.array([0.08304195804195805,0.11975524475524475,0.1258741258741259,0.14160839160839161,0.09178321678321678,0.11188811188811189,0.06555944055944056,0.056818181818181816,0.04108391608391608,0.043706293706293704,0.027972027972027972,0.02097902097902098,0.024475524475524476,0.011363636363636364,0.011363636363636364,0.006118881118881119,0.005244755244755245,0.0026223776223776225,0.0026223776223776225,0.0026223776223776225,0.0026223776223776225,0.0008741258741258741])\n",
        "i=0\n",
        "Değerler=[]\n",
        "Değerler1=[]\n",
        "# Rastgele bir sayı seç\n",
        "while i<=1000:\n",
        "  random_number = np.random.choice(numbers, p=probabilities)\n",
        "  random_number1 = np.random.choice(numbers1, p=prob1)\n",
        "  Değerler.append(random_number)\n",
        "  Değerler1.append(random_number1)\n",
        "  i+=1\n",
        "print(Değerler1)\n",
        "print(Değerler)\n",
        "df = pd.DataFrame(Değerler)\n",
        "df.to_excel(\"Bir4.xlsx\")\n",
        "counts, bins = np.histogram(Değerler)\n",
        "plt.stairs(counts, bins)"
      ]
    },
    {
      "cell_type": "code",
      "source": [
        "import numpy as np\n",
        "\n",
        "# Örnek veri seti\n",
        "data1 = np.array(Değerler)\n",
        "\n",
        "# Z-Skoru hesaplama\n",
        "z_scores = np.abs((data1 - np.mean(data1)) / np.std(data1))\n",
        "\n",
        "# Eşik değerini belirleme\n",
        "threshold = 2.5\n",
        "\n",
        "# Aykırı değerleri belirleme\n",
        "outliers = np.where(z_scores > threshold)\n",
        "\n",
        "# Aykırı değerleri kaldırma\n",
        "cleaned_data = np.delete(data1, outliers)\n",
        "\n",
        "print(\"Aykırı değerler:\", data1[outliers])\n",
        "print(\"Temizlenmiş veri seti:\", cleaned_data)\n",
        "counts, bins = np.histogram(cleaned_data)\n",
        "plt.stairs(counts, bins)"
      ],
      "metadata": {
        "colab": {
          "base_uri": "https://localhost:8080/",
          "height": 1000
        },
        "id": "trFY65LwsYPl",
        "outputId": "3f96689a-c0c2-46cd-ae23-68508867a1ec"
      },
      "execution_count": 8,
      "outputs": [
        {
          "output_type": "stream",
          "name": "stdout",
          "text": [
            "Aykırı değerler: [18 13 16 11 12 16 17 13 12 11 13 13 11 13 13 11 12 12 11 13 18 12 17 12\n",
            " 11 11 11 13 11 11 11 12]\n",
            "Temizlenmiş veri seti: [ 1  1  1  6  1  3  1  4  3  5  5  2  2  1  4  2  1  1  3  1  1  3  1  3\n",
            "  5 10  1  1  1  2  1  5  4  3  1  5  7  4  6  1  3  1  4 10  1  2  4 10\n",
            "  3  2  1  1  2  1  6  8  3  7  4  4  1  3  1  1  1  7  2  3  2  6  6  2\n",
            "  5  1  1 10  1  5  1  1  4  1  4  5  4  2  2  5  1  1  5  6  3  7  4  1\n",
            "  1  3  6  1  4  2  1  1  9  3  2  5  1  4  1  3  3  4  3  3  4  4  1  6\n",
            "  1  4  1  3  1  8  5  5  1  3  5  1  2  5  1  6  1  1  1  4  2  2  2  2\n",
            "  3  1  1  1  4  1  3  9  3  1  1  5  6  2  1  1  7  4  5  2  6  1  7  1\n",
            "  3  4  2  2  1  2  2  2  8  1  4  4  3  5  5  2  3  4  1  4  3  2  4  1\n",
            "  4  1  3  4  7  5  7  6  4  2  7  2  1  3  3  4  3  5  8  1  3  4  2  4\n",
            "  1  2  4  5  2  5  2  4  5  1  1  2  3  6  2  2  3  1  1  7  5  6  3  1\n",
            "  1  1  3  3  1  1  3  1  1  3  2  3  1  7  4  5  1  5  3  4  4  1  3  8\n",
            "  2  1  2  5  3  3  4  5  3  3  1  5  3  4  2  2  1  1  1  4  4  3  4  3\n",
            "  1  3  1  3  1  8  2  1  2  1  1  1  1  4  3  1  2  4  1  2  6  1  5  5\n",
            "  3  4  3  2  4  1  2  4  5  9  1  3  2  4  5  4  4  1  1  2  4  1  3  8\n",
            "  4  1  5  1  1  4  7  5  1  1  5  1  1  5  1  4  2  1  6  5  4  2  4  5\n",
            "  1  2  1  1  3  2  4  1  1  4  7  2  8  5  2  1  2  5  1  1  3  5  2  6\n",
            "  5  4  2  4  5  7  3  2  2  4  2 10  6  2  2  1  2  1  4  2  1  1  1  1\n",
            "  1  2  2  4  5  2  3  1  3  9  2  5  2  5  8  2  1  4  1  3  2  5  2  5\n",
            "  1  3  3  4  4  5  4  2  6  7  6  1  4  3  9  3  2  2  4  6  1  5  4  2\n",
            "  2  2  1  7  4  2  4  3  5  2  1  3  2  2  5  3  3  1  1  1  3  1  4  2\n",
            "  6  4  4  6  3  1  1  1  4  1  5  2  2  4  1  7  4  2  3  4  1  1  1  2\n",
            "  1  5  2  5  2  3  2  2  3  2  1  1  2  8  9  4  5  2  1  1  2  1  2  4\n",
            "  1  5  1  3  2  1  4  4  2  1  1  7  1  3  1  3  1  5  6  1  8  2  1  1\n",
            "  2  2  2  2  5  1  2  3  1  5  2  8  1  2  1  1  8  1  1  5  7  1  9  1\n",
            "  4  1  2  3  1  3  4  3  1  1  2  9  1  7  1  2  1  9  1  3  1  1  1  2\n",
            "  8  2  2  8  2  1  3  4  5  2  4  5  4  1  3  4  1  4  2  1  3  2  2  3\n",
            "  2  1  5  6  3  3  1  4  3  1  1  3  5  2  8  3  4  1  2  1  2  1  1  2\n",
            "  2  1  7  3  2  2  4  3  3  1  8  3  3  2  1  1  2  1  1  1  1  2  3  2\n",
            "  4  1  8  9  1  4  2  2  2  3  2  2  1  5  2  7  1  2  1  1  1  2  2  4\n",
            "  1  3  1  2  6  2  4  3  3  6  5  1  1  1  2  3  2  3  5  5  8  4  1  2\n",
            "  2  1  5  3  1  1  4  7  2  8  1  4  2  6  1  3  2  2  1  8  2  6  1  3\n",
            "  3  2  1  4  3  3  1  1  1  4  1  1  1  3  1  2  2  2 10  2  4  2  1  6\n",
            "  5  4  4  6  3  3  3  3  5  3  3  4  4  1  3  7  2  3  6  3  3  7  5  8\n",
            "  4  3  2  7  2  2  2  1  3  1  2  2  1  6  1  2  1  4  2  6  1  6  2  3\n",
            "  2  6  2  5  4  1  1  5  5  6  4  3  1  7  5  1  2  1  4  2  2  3  1  2\n",
            "  1  4  1  1  6  1  3  2  3  1  6  2  5  4  2  2  5  2  2  9  1  1  3  3\n",
            "  5  1  3  2  1  1  5  3  1  4  1  1  6  4  8  1  3  2  4  1  3  2  3  3\n",
            "  2  4  1  1  1  2  4  1  7  5  2  5  1  4  6  1  4  3  1  3  2  6  3  1\n",
            "  2  2  2  3  4  5  4  1  5  6  4  2  1  3  4  3  3  2  2  2  1  2  4  1\n",
            "  2  5  5  3  4  2  4  1  1  1  6  1  2  1  1  6  5  1  1  3  2  6  5  1\n",
            "  7  3  5  2  8  7  1  2  2]\n"
          ]
        },
        {
          "output_type": "execute_result",
          "data": {
            "text/plain": [
              "<matplotlib.patches.StepPatch at 0x7f5c644a71c0>"
            ]
          },
          "metadata": {},
          "execution_count": 8
        },
        {
          "output_type": "display_data",
          "data": {
            "text/plain": [
              "<Figure size 432x288 with 1 Axes>"
            ],
            "image/png": "[encoded data removed]"
          },
          "metadata": {
            "needs_background": "light"
          }
        }
      ]
    },
    {
      "cell_type": "code",
      "source": [
        "plt.boxplot(cleaned_data)\n",
        "plt.show()"
      ],
      "metadata": {
        "colab": {
          "base_uri": "https://localhost:8080/",
          "height": 265
        },
        "id": "BMs4mATJwKYe",
        "outputId": "d2f655a9-ebcb-462a-8fbf-0ec03de43629"
      },
      "execution_count": 14,
      "outputs": [
        {
          "output_type": "display_data",
          "data": {
            "text/plain": [
              "<Figure size 432x288 with 1 Axes>"
            ],
            "image/png": "[encoded data removed]"
          },
          "metadata": {
            "needs_background": "light"
          }
        }
      ]
    },
    {
      "cell_type": "code",
      "source": [
        "import numpy as np\n",
        "from scipy.stats import trim_mean\n",
        "\n",
        "# Örnek veri seti\n",
        "data2 = np.array(Değerler)\n",
        "\n",
        "# Ortanca değer hesaplama\n",
        "median = np.median(data2)\n",
        "\n",
        "# Aykırı değerleri ortanca değer ile doldurma\n",
        "data2[data2 > (median * 3)] = median\n",
        "\n",
        "print(\"Aykırı değerlerin yerine ortanca değer ile doldurulmuş veri seti:\", data2)"
      ],
      "metadata": {
        "colab": {
          "base_uri": "https://localhost:8080/"
        },
        "id": "YFo3vXhmshKi",
        "outputId": "4612ed49-866f-4e6c-9590-36d07456ae90"
      },
      "execution_count": 3,
      "outputs": [
        {
          "output_type": "stream",
          "name": "stdout",
          "text": [
            "Aykırı değerlerin yerine ortanca değer ile doldurulmuş veri seti: [1 1 1 ... 1 2 2]\n"
          ]
        }
      ]
    },
    {
      "cell_type": "code",
      "source": [
        "import numpy as np\n",
        "\n",
        "# Örnek veri seti\n",
        "data3 = np.array(Değerler)\n",
        "\n",
        "# Aykırı değerleri baskılama\n",
        "data3[data3 > (np.mean(data3) + 2*np.std(data3))] = np.mean(data3) + 2*np.std(data3)\n",
        "data3[data3 < (np.mean(data3) - 2*np.std(data3))] = np.mean(data3) - 2*np.std(data3)\n",
        "\n",
        "print(\"Aykırı değerlerin yerine baskılama yapılmış veri seti:\", data3)"
      ],
      "metadata": {
        "colab": {
          "base_uri": "https://localhost:8080/"
        },
        "id": "cm20KZs6st86",
        "outputId": "4b7b9631-d85d-4d37-94f5-28575ba10d53"
      },
      "execution_count": 4,
      "outputs": [
        {
          "output_type": "stream",
          "name": "stdout",
          "text": [
            "Aykırı değerlerin yerine baskılama yapılmış veri seti: [1 1 1 ... 1 2 2]\n"
          ]
        }
      ]
    },
    {
      "cell_type": "code",
      "source": [
        "import numpy as np\n",
        "\n",
        "# Örnek veri seti\n",
        "data4 = np.array([1, 2, 3, 4, 5, 6, 7, 8, 9, 100])\n",
        "\n",
        "# Aykırı değerleri, veri setindeki diğer değerlere uygun yeni değerlerle doldurma\n",
        "new_values = np.random.normal(loc=np.mean(data4), scale=np.std(data4), size=data4[data4 > (np.mean(data4) + 2*np.std(data4))].shape)\n",
        "data4[data4 > (np.mean(data4) + 2*np.std(data4))] = new_values\n",
        "\n",
        "print(\"Aykırı değerlerin yerine yeni değerler ile doldurulmuş veri seti:\", data4)\n"
      ],
      "metadata": {
        "colab": {
          "base_uri": "https://localhost:8080/"
        },
        "id": "5vZti2gQs_yO",
        "outputId": "e5892895-206d-462b-d2d5-1bb0271b95d1"
      },
      "execution_count": 6,
      "outputs": [
        {
          "output_type": "stream",
          "name": "stdout",
          "text": [
            "Aykırı değerlerin yerine yeni değerler ile doldurulmuş veri seti: [ 1  2  3  4  5  6  7  8  9 51]\n"
          ]
        }
      ]
    },
    {
      "cell_type": "code",
      "source": [
        "import numpy as np\n",
        "from sklearn.linear_model import LinearRegression\n",
        "\n",
        "# Örnek veri seti\n",
        "data5 = np.array(Değerler)\n",
        "\n",
        "# Aykırı değerleri içsel ayrık değerlerle doldurma\n",
        "q1, q3 = np.percentile(data5, [25, 75])\n",
        "iqr = q3 - q1\n",
        "lower_bound = q1 - (1.5 * iqr)\n",
        "upper_bound = q3 + (1.5 * iqr)\n",
        "\n",
        "outliers = data5[(data5 < lower_bound) | (data5 > upper_bound)]\n",
        "not_outliers = data5[(data5 >= lower_bound) & (data5 <= upper_bound)]\n",
        "\n",
        "X = np.arange(len(not_outliers)).reshape(-1, 1)\n",
        "y = not_outliers.reshape(-1, 1)\n",
        "\n",
        "reg = LinearRegression().fit(X, y)\n",
        "new_values = reg.predict(np.arange(len(outliers)).reshape(-1, 1))\n",
        "\n",
        "data5[(data5 < lower_bound) | (data5 > upper_bound)] = new_values.reshape(-1)\n",
        "\n",
        "print(\"Aykırı değerlerin yerine içsel ayrık değerlerle doldurulmuş veri seti:\", data5)\n"
      ],
      "metadata": {
        "colab": {
          "base_uri": "https://localhost:8080/"
        },
        "id": "qFq6xo8WtSz0",
        "outputId": "af7a994f-8172-4437-b31e-a8eaaa82cff7"
      },
      "execution_count": 5,
      "outputs": [
        {
          "output_type": "stream",
          "name": "stdout",
          "text": [
            "Aykırı değerlerin yerine içsel ayrık değerlerle doldurulmuş veri seti: [1 1 1 ... 1 2 2]\n"
          ]
        }
      ]
    },
    {
      "cell_type": "code",
      "source": [
        "import numpy as np\n",
        "\n",
        "# Örnek veri seti\n",
        "data6 = np.array(Değerler)\n",
        "\n",
        "# Min-Max normalizasyonu\n",
        "normalized_data = (data6 - np.min(data6)) / (np.max(data6) - np.min(data6))\n",
        "\n",
        "print(\"Min-Max normalizasyonu sonrası veri seti:\", normalized_data)\n",
        "counts, bins = np.histogram(normalized_data)\n",
        "plt.stairs(counts, bins)"
      ],
      "metadata": {
        "colab": {
          "base_uri": "https://localhost:8080/",
          "height": 300
        },
        "id": "YhLO460ZuCol",
        "outputId": "1b9da324-f2f7-49f0-b615-1d9cb07377ac"
      },
      "execution_count": 10,
      "outputs": [
        {
          "output_type": "stream",
          "name": "stdout",
          "text": [
            "Min-Max normalizasyonu sonrası veri seti: [0.         0.         0.         ... 0.         0.05882353 0.05882353]\n"
          ]
        },
        {
          "output_type": "execute_result",
          "data": {
            "text/plain": [
              "<matplotlib.patches.StepPatch at 0x7f5c6440a8e0>"
            ]
          },
          "metadata": {},
          "execution_count": 10
        },
        {
          "output_type": "display_data",
          "data": {
            "text/plain": [
              "<Figure size 432x288 with 1 Axes>"
            ],
            "image/png": "[encoded data removed]"
          },
          "metadata": {
            "needs_background": "light"
          }
        }
      ]
    },
    {
      "cell_type": "code",
      "source": [
        "import numpy as np\n",
        "\n",
        "# Örnek veri seti\n",
        "data7 = np.array(Değerler)\n",
        "\n",
        "# Z-Skoru normalizasyonu\n",
        "normalized_data1 = (data7 - np.mean(data7)) / np.std(data7)\n",
        "\n",
        "print(\"Z-Skoru normalizasyonu sonrası veri seti:\", normalized_data1)\n",
        "counts, bins = np.histogram(normalized_data1)\n",
        "plt.stairs(counts, bins)"
      ],
      "metadata": {
        "colab": {
          "base_uri": "https://localhost:8080/",
          "height": 317
        },
        "id": "qVI7Cst-uVPH",
        "outputId": "6a002e8a-1786-4c54-f35e-3696e685549b"
      },
      "execution_count": 11,
      "outputs": [
        {
          "output_type": "stream",
          "name": "stdout",
          "text": [
            "Z-Skoru normalizasyonu sonrası veri seti: [-0.87728394 -0.87728394 -0.87728394 ... -0.87728394 -0.50312066\n",
            " -0.50312066]\n"
          ]
        },
        {
          "output_type": "execute_result",
          "data": {
            "text/plain": [
              "<matplotlib.patches.StepPatch at 0x7f5c643733d0>"
            ]
          },
          "metadata": {},
          "execution_count": 11
        },
        {
          "output_type": "display_data",
          "data": {
            "text/plain": [
              "<Figure size 432x288 with 1 Axes>"
            ],
            "image/png": "[encoded data removed]"
          },
          "metadata": {
            "needs_background": "light"
          }
        }
      ]
    },
    {
      "cell_type": "code",
      "source": [
        "import numpy as np\n",
        "import random\n",
        "# Önceki çekiliş sonuçları\n",
        "previous_results = [\n",
        "    [1, 5, 9, 15, 21, 26, 33, 41, 62, 74],\n",
        "    [3, 12, 18, 23, 27, 37, 45, 51, 67, 75],\n",
        "    [2, 4, 7, 10, 11, 15, 28, 31, 35, 59],\n",
        "    [6, 9, 11, 19, 26, 27, 31, 43, 58, 63],\n",
        "    [7, 10, 12, 18, 21, 29, 33, 34, 60, 65],\n",
        "    [13, 18, 26, 33, 37, 44, 48, 51, 53, 73],\n",
        "    [1, 5, 9, 12, 14, 28, 35, 42, 56, 61],\n",
        "    [16, 20, 21, 24, 26, 28, 41, 42, 48, 56],\n",
        "    [6, 10, 13, 16, 19, 22, 34, 48, 67, 80],\n",
        "    [2, 3, 8, 15, 19, 20, 29, 47, 54, 75]\n",
        "]\n",
        "\n",
        "# Her numaranın kaç kez çıktığını hesapla\n",
        "num_appearances = np.zeros(80)\n",
        "for result in previous_results:\n",
        "    for num in result:\n",
        "        num_appearances[num - 1] += 1\n",
        "\n",
        "# Numaraların olasılıklarını hesapla\n",
        "probabilities = num_appearances / (len(previous_results) * 10)\n",
        "\n",
        "# Top 10 olasılıklı numaraları al\n",
        "most_likely_nums = np.argsort(probabilities)[-10:][::-1]\n",
        "\n",
        "# Tahminler\n",
        "predictions = []\n",
        "for i in range(10):\n",
        "    prediction = random.sample(list(most_likely_nums), 10)\n",
        "    predictions.append(prediction)\n",
        "\n",
        "print(\"Tahminler: \", predictions)"
      ],
      "metadata": {
        "colab": {
          "base_uri": "https://localhost:8080/"
        },
        "id": "f1D6YsEwyM3o",
        "outputId": "8009eae8-a319-44ec-bc83-ce2ed9bc4d6b"
      },
      "execution_count": 17,
      "outputs": [
        {
          "output_type": "stream",
          "name": "stdout",
          "text": [
            "Tahminler:  [[17, 11, 25, 47, 9, 14, 8, 18, 27, 20], [11, 17, 9, 27, 14, 8, 20, 47, 25, 18], [17, 8, 47, 11, 14, 27, 25, 18, 9, 20], [8, 14, 9, 17, 27, 47, 25, 11, 20, 18], [47, 8, 9, 27, 11, 25, 17, 14, 18, 20], [17, 9, 11, 25, 27, 20, 8, 18, 14, 47], [11, 18, 8, 17, 14, 20, 25, 9, 27, 47], [18, 20, 11, 47, 8, 25, 17, 9, 14, 27], [17, 47, 25, 27, 20, 11, 18, 14, 8, 9], [25, 8, 20, 27, 18, 11, 9, 17, 47, 14]]\n"
          ]
        }
      ]
    },
    {
      "cell_type": "code",
      "source": [
        "import numpy as np\n",
        "\n",
        "# Önceki verileri tanımla\n",
        "previous_data = np.array([1,2,4,3,5,2,1,1,2,4,4,1,5,2,5,6,2,2,1,1,1,2,1,5,13,3,1,1,4,1,5,2,1,6,12,1,3,6,5,8,5,5,2,2,1,2,3,12,2,8,2,1,9,1,3,3,2,6,4,1,3,3,2,1,5,1,2,2,4,1,1,5,2,3,2,2,4,3,4,10,2,4,2,1,1,5,2,9,4,4,1,3,2,5,8,4,2,1,5,1,4,2,7,1,2,6,2,2,2,2,3,1,1,2,11,5,5,2,3,6,6,3,6,1,6,11,2,2,3,2,2,1,6,2,1,4,7,2,1,3,2,5,4,3,1,4,1,2,4,1,1,3,2,1,2,1,2,1,3,4,3,4,6,3,2,8,4,4,1,8,3,7,1,5,7,1,4,1,2,1,6,1,1,1,1,6,2,4,1,12,2,4,10,2,1,2,1,3,1,7,2,1,2,1,2,2,6,5,5,4,1,1,1,2,1,2,2,1,2,8,2,2,1,3,1,4,1,1,1,8,7,1,4,4,2,3,5,3,6,4,3,2,1,1,1,5,2,2,1,1,2,2,7,11,3,1,1,4,1,2,4,1,1,8,1,2,2,3,4,11,1,11,6,3,2,5,4,7,1,1,1,1,3,1,3,2,1,4,2,5,3,1,8,3,3,7,4,2,2,3,5,11,1,5,1,4,2,2,6,1,5,4,4,2,7,3,2,5,2,2,7,13,4,5,4,5,3,7,4,10,2,1,9,1,4,8,6,7,3,5,2,4,5,5,2,7,2,4,1,1,4,13,1,3,2,7,8,3,2,2,7,8,3,2,1,5,9,4,4,2,1,5,4,3,1,4,4,2,6,3,1,2,4,1,5,2,7,3,1,11,8,4,4,4,3,2,2,1,2,1,2,12,1,3,6,2,1,3,1,3,1,1,1,2,6,5,10,1,2,3,5,1,2,3,1,2,3,3,2,3,5,3,3,2,1,2,9,3,5,5,3,6,2,5,6,6,5,1,5,3,3,3,1,1,1,3,2,12,1,4,1,1,1,3,3,2,2,1,2,7,2,1,7,4,4,1,1,2,1,4,5,1,12,9,1,2,1,1,2,3,3,1,1,1,1,2,3,2,4,4,5,9,2,7,3,1,6,5,3,1,2,1,1,2,3,3,2,3,2,4,4,1,1,1,1,7,4,1,8,3,2,1,3,2,1,8,4,3,7,1,4,1,2,2,2,2,2,1,4,2,4,10,3,2,1,1,6,7,1,3,2,3,3,2,6,4,1,4,2,4,2,4,3,1,5,1,2,1,2,1,2,3,6,7,2,2,8,3,5,1,9,2,2,2,1,2,7,6,1,10,3,4,4,2,3,3,1,1,5,5,4,7,8,2,8,2,2,1,5,3,1,3,3,1,11,10,1,1,9,4,2,3,4,10,3,2,3,10,5,4,5,8,1,3,1,3,3,1,2,3,1,1,4,1,2,3,2,1,3,5,2,3,1,1,3,3,2,1,5,3,2,3,1,3,11,2,2,6,4,3,2,12,1,3,3,3,6,1,3,1,1,1,3,2,3,4,1,3,6,3,2,1,3,3,8,2,4,2,3,1,2,1,2,1,1,3,1,1,3,1,3,1,3,2,7,1,15,1,3,1,5,2,1,4,1,1,4,2,2,4,7,1,6,4,10,4,1,1,2,2,3,11,3,2,5,1,5,2,4,2,1,3,2,1,9,2,1,2,8,2,9,1,1,1,1,5,11,4,5,5,5,1,1,4,1,3,2,1,2,1,4,2,2,5,2,2,1,3,4,4,6,7,3,1,6,1,4,3,2,3,4,3,1,1,4,1,1,7,5,3,2,4,1,2,8,1,2,4,5,2,11,3,1,4,2,5,3,7,1,3,3,3,6,6,6,8,5,6,6,4,4,3,2,2,1,4,1,2,3,5,5,4,1,6,6,1,1,2,2,3,6,6,1,4,3,5,1,1,1,1,1,4,2,14,1,5,1,4,5,2,6,1,19,4,1,6,3,1,4,1,2,1,5,6,2,4,1,1,3,2,1,1,6,3,1,4,4,2,5,2,1,2,1,7,4,7,3,2,1,1,6,1,2,4,3,1,1,2,1,6,5,7,3,4,1,3,3,4,1,6,5,6,2,12,1,3,3,4,3,1,3,1,5,5,2,1,3,1,4,2,4,2,4,3,4,1,1,3,1,2,2,5,3,1,1,5,3,4,4,4,2,1,1,13,6,1,1,4,1,16,5,7,2,13,1,2,4,2,5,3,1,1,5,3,1,5,1,1,2,1,1,1,2,2,20,5,4,4,1,1,2,3,2,2,5,6,1,4,4,2,2,1,1,3,1,2,5,3,3,1,1,1,10,2,5,7,1,4,2,1,1,4,2,4,1,3,2,1,18,2,1,3,1,1,2,5,1,2,7,3,1,1,5,1,6,1,7,1,4,1,4,1,1,2,2,8,4,4,1,1,13,5,1,3,4,5,2,2,5,2,1,2,1,6,1,6,1,7,1,4,1,4,1,1,2,2,8,4,4,1,1,13,5,1,3,4,5,2,2,5,2,1,2,1,6])\n",
        "\n",
        "# Son 3 veri noktasını alarak olasılık dağılımını hesapla\n",
        "last_values = previous_data[-1000:]\n",
        "value_counts = np.bincount(last_values, minlength=1000)\n",
        "probabilities = value_counts / value_counts.sum()\n",
        "\n",
        "# Sonraki veri noktasını tahmin et\n",
        "next_value = np.random.choice(np.arange(1000), p=probabilities)\n",
        "print(next_value)"
      ],
      "metadata": {
        "colab": {
          "base_uri": "https://localhost:8080/"
        },
        "id": "TC3oiJbgAWvd",
        "outputId": "680c018c-c701-4adb-a5ea-3313377a670d"
      },
      "execution_count": null,
      "outputs": [
        {
          "output_type": "stream",
          "name": "stdout",
          "text": [
            "1\n"
          ]
        }
      ]
    },
    {
      "cell_type": "code",
      "source": [
        "import numpy as np\n",
        "new=[]\n",
        "# Önceki verileri tanımla\n",
        "previous_data = np.array([1,2,4,3,5,2,1,1,2,4,4,1,5,2,5,6,2,2,1,1,1,2,1,5,13,3,1,1,4,1,5,2,1,6,12,1,3,6,5,8,5,5,2,2,1,2,3,12,2,8,2,1,9,1,3,3,2,6,4,1,3,3,2,1,5,1,2,2,4,1,1,5,2,3,2,2,4,3,4,10,2,4,2,1,1,5,2,9,4,4,1,3,2,5,8,4,2,1,5,1,4,2,7,1,2,6,2,2,2,2,3,1,1,2,11,5,5,2,3,6,6,3,6,1,6,11,2,2,3,2,2,1,6,2,1,4,7,2,1,3,2,5,4,3,1,4,1,2,4,1,1,3,2,1,2,1,2,1,3,4,3,4,6,3,2,8,4,4,1,8,3,7,1,5,7,1,4,1,2,1,6,1,1,1,1,6,2,4,1,12,2,4,10,2,1,2,1,3,1,7,2,1,2,1,2,2,6,5,5,4,1,1,1,2,1,2,2,1,2,8,2,2,1,3,1,4,1,1,1,8,7,1,4,4,2,3,5,3,6,4,3,2,1,1,1,5,2,2,1,1,2,2,7,11,3,1,1,4,1,2,4,1,1,8,1,2,2,3,4,11,1,11,6,3,2,5,4,7,1,1,1,1,3,1,3,2,1,4,2,5,3,1,8,3,3,7,4,2,2,3,5,11,1,5,1,4,2,2,6,1,5,4,4,2,7,3,2,5,2,2,7,13,4,5,4,5,3,7,4,10,2,1,9,1,4,8,6,7,3,5,2,4,5,5,2,7,2,4,1,1,4,13,1,3,2,7,8,3,2,2,7,8,3,2,1,5,9,4,4,2,1,5,4,3,1,4,4,2,6,3,1,2,4,1,5,2,7,3,1,11,8,4,4,4,3,2,2,1,2,1,2,12,1,3,6,2,1,3,1,3,1,1,1,2,6,5,10,1,2,3,5,1,2,3,1,2,3,3,2,3,5,3,3,2,1,2,9,3,5,5,3,6,2,5,6,6,5,1,5,3,3,3,1,1,1,3,2,12,1,4,1,1,1,3,3,2,2,1,2,7,2,1,7,4,4,1,1,2,1,4,5,1,12,9,1,2,1,1,2,3,3,1,1,1,1,2,3,2,4,4,5,9,2,7,3,1,6,5,3,1,2,1,1,2,3,3,2,3,2,4,4,1,1,1,1,7,4,1,8,3,2,1,3,2,1,8,4,3,7,1,4,1,2,2,2,2,2,1,4,2,4,10,3,2,1,1,6,7,1,3,2,3,3,2,6,4,1,4,2,4,2,4,3,1,5,1,2,1,2,1,2,3,6,7,2,2,8,3,5,1,9,2,2,2,1,2,7,6,1,10,3,4,4,2,3,3,1,1,5,5,4,7,8,2,8,2,2,1,5,3,1,3,3,1,11,10,1,1,9,4,2,3,4,10,3,2,3,10,5,4,5,8,1,3,1,3,3,1,2,3,1,1,4,1,2,3,2,1,3,5,2,3,1,1,3,3,2,1,5,3,2,3,1,3,11,2,2,6,4,3,2,12,1,3,3,3,6,1,3,1,1,1,3,2,3,4,1,3,6,3,2,1,3,3,8,2,4,2,3,1,2,1,2,1,1,3,1,1,3,1,3,1,3,2,7,1,15,1,3,1,5,2,1,4,1,1,4,2,2,4,7,1,6,4,10,4,1,1,2,2,3,11,3,2,5,1,5,2,4,2,1,3,2,1,9,2,1,2,8,2,9,1,1,1,1,5,11,4,5,5,5,1,1,4,1,3,2,1,2,1,4,2,2,5,2,2,1,3,4,4,6,7,3,1,6,1,4,3,2,3,4,3,1,1,4,1,1,7,5,3,2,4,1,2,8,1,2,4,5,2,11,3,1,4,2,5,3,7,1,3,3,3,6,6,6,8,5,6,6,4,4,3,2,2,1,4,1,2,3,5,5,4,1,6,6,1,1,2,2,3,6,6,1,4,3,5,1,1,1,1,1,4,2,14,1,5,1,4,5,2,6,1,19,4,1,6,3,1,4,1,2,1,5,6,2,4,1,1,3,2,1,1,6,3,1,4,4,2,5,2,1,2,1,7,4,7,3,2,1,1,6,1,2,4,3,1,1,2,1,6,5,7,3,4,1,3,3,4,1,6,5,6,2,12,1,3,3,4,3,1,3,1,5,5,2,1,3,1,4,2,4,2,4,3,4,1,1,3,1,2,2,5,3,1,1,5,3,4,4,4,2,1,1,13,6,1,1,4,1,16,5,7,2,13,1,2,4,2,5,3,1,1,5,3,1,5,1,1,2,1,1,1,2,2,20,5,4,4,1,1,2,3,2,2,5,6,1,4,4,2,2,1,1,3,1,2,5,3,3,1,1,1,10,2,5,7,1,4,2,1,1,4,2,4,1,3,2,1,18,2,1,3,1,1,2,5,1,2,7,3,1,1,5,1,6,1,7,1,4,1,4,1,1,2,2,8,4,4,1,1,13,5,1,3,4,5,2,2,5,2,1,2,1,6,1,6,1,7,1,4,1,4,1,1,2,2,8,4,4,1,1,13,5,1,3,4,5,2,2,5,2,1,2,1,6])\n",
        "print(previous_data)\n",
        "last_values = previous_data[-1145:]\n",
        "value_counts = np.bincount(last_values, minlength=1145)\n",
        "probabilities = value_counts / value_counts.sum()\n",
        "\n",
        "# Sonraki veri noktasını tahmin et\n",
        "num_trials = 0\n",
        "denemeler=[]\n",
        "s=0\n",
        "while s<=1000:\n",
        "  while True:\n",
        "      num_trials += 1\n",
        "      next_value = np.random.choice(np.arange(1145), p=probabilities)\n",
        "      if next_value ==1:\n",
        "          denemeler.append(num_trials)\n",
        "          num_trials=0\n",
        "          s+=1\n",
        "          break"
      ],
      "metadata": {
        "id": "R96Xy3mPKveY",
        "colab": {
          "base_uri": "https://localhost:8080/"
        },
        "outputId": "0b917f03-4017-4025-fcce-a38d6cc59af2"
      },
      "execution_count": 28,
      "outputs": [
        {
          "output_type": "stream",
          "name": "stdout",
          "text": [
            "[1 2 4 ... 2 1 6]\n"
          ]
        }
      ]
    },
    {
      "cell_type": "code",
      "source": [
        "import numpy as np\n",
        "\n",
        "# Önceki verileri tanımla\n",
        "previous_data = np.array(Değerler)\n",
        "print(Değerler)\n",
        "last_values = previous_data[-1145:]\n",
        "value_counts = np.bincount(last_values, minlength=1145)\n",
        "probabilities = value_counts / value_counts.sum()\n",
        "\n",
        "# Sonraki veri noktasını tahmin et\n",
        "num_trials = 0\n",
        "denemeler1=[]\n",
        "s=0\n",
        "while s<=1000:\n",
        "  while True:\n",
        "      num_trials += 1\n",
        "      next_value = np.random.choice(np.arange(1145), p=probabilities)\n",
        "      if next_value ==1:\n",
        "          denemeler1.append(num_trials)\n",
        "          num_trials=0\n",
        "          s+=1\n",
        "          break"
      ],
      "metadata": {
        "colab": {
          "base_uri": "https://localhost:8080/"
        },
        "id": "gf0nHjY0U0aZ",
        "outputId": "9e157098-aaed-4b3f-f256-fb68fcc9cf67"
      },
      "execution_count": null,
      "outputs": [
        {
          "output_type": "stream",
          "name": "stdout",
          "text": [
            "[1, 2, 4, 1, 4, 6, 2, 1, 1, 1, 1, 6, 11, 1, 6, 4, 4, 2, 1, 11, 1, 5, 2, 1, 3, 6, 12, 8, 2, 4, 3, 1, 5, 2, 5, 1, 3, 10, 1, 4, 1, 2, 8, 2, 11, 2, 2, 7, 3, 6, 3, 1, 1, 1, 6, 6, 2, 1, 9, 2, 8, 1, 5, 1, 1, 1, 2, 3, 9, 1, 1, 5, 5, 1, 3, 2, 12, 5, 2, 2, 5, 1, 3, 3, 1, 2, 2, 5, 2, 2, 4, 3, 1, 6, 1, 1, 1, 1, 4, 5, 5, 10, 3, 6, 6, 2, 3, 3, 1, 2, 3, 3, 1, 4, 7, 3, 5, 17, 2, 5, 4, 1, 6, 1, 2, 10, 3, 1, 1, 3, 1, 2, 2, 1, 4, 4, 2, 3, 1, 2, 2, 2, 1, 1, 2, 1, 1, 2, 3, 4, 3, 1, 6, 2, 4, 1, 3, 1, 1, 1, 4, 1, 1, 1, 1, 5, 4, 2, 1, 6, 2, 2, 5, 7, 1, 5, 1, 4, 3, 1, 1, 1, 6, 3, 2, 4, 7, 4, 1, 1, 1, 1, 4, 1, 5, 3, 10, 2, 4, 4, 3, 2, 2, 7, 1, 7, 1, 5, 7, 2, 2, 4, 3, 2, 1, 1, 3, 1, 1, 4, 1, 2, 4, 2, 1, 4, 2, 5, 7, 3, 2, 2, 2, 2, 2, 2, 1, 2, 7, 5, 4, 3, 2, 4, 1, 1, 1, 4, 3, 3, 2, 1, 4, 1, 1, 2, 1, 3, 10, 8, 6, 3, 1, 1, 4, 9, 6, 2, 1, 4, 1, 2, 2, 4, 3, 6, 4, 1, 1, 6, 3, 4, 2, 2, 1, 4, 1, 4, 6, 1, 1, 2, 2, 4, 3, 4, 2, 8, 1, 1, 7, 5, 2, 6, 1, 3, 4, 5, 1, 3, 1, 2, 4, 3, 2, 4, 3, 5, 6, 2, 11, 2, 2, 3, 2, 2, 2, 5, 3, 4, 1, 1, 4, 2, 5, 5, 1, 1, 4, 4, 2, 8, 1, 2, 2, 1, 3, 4, 3, 3, 2, 4, 5, 3, 6, 6, 2, 2, 4, 6, 1, 3, 1, 11, 7, 3, 3, 4, 3, 4, 1, 8, 8, 1, 19, 1, 1, 1, 6, 2, 2, 16, 1, 5, 4, 1, 3, 8, 3, 4, 4, 3, 6, 12, 1, 2, 4, 2, 2, 1, 2, 4, 2, 3, 4, 2, 1, 3, 4, 3, 3, 2, 2, 2, 2, 4, 6, 13, 5, 6, 2, 2, 2, 3, 3, 6, 6, 8, 5, 2, 10, 3, 3, 2, 2, 5, 1, 5, 3, 1, 1, 5, 3, 2, 2, 1, 7, 1, 1, 2, 1, 3, 3, 6, 5, 6, 1, 2, 2, 8, 2, 4, 3, 5, 6, 3, 2, 6, 1, 4, 5, 1, 4, 8, 4, 1, 1, 1, 1, 4, 1, 6, 1, 3, 5, 1, 3, 1, 2, 3, 1, 5, 1, 2, 3, 1, 1, 13, 11, 2, 4, 4, 1, 2, 5, 5, 1, 3, 6, 5, 4, 2, 1, 2, 2, 3, 6, 2, 11, 1, 2, 12, 5, 3, 2, 5, 1, 1, 3, 1, 9, 2, 7, 3, 7, 5, 3, 2, 1, 2, 11, 3, 1, 4, 3, 5, 2, 1, 4, 4, 2, 4, 1, 1, 5, 1, 1, 2, 6, 5, 1, 3, 1, 4, 3, 1, 2, 4, 1, 1, 1, 2, 1, 2, 2, 1, 3, 1, 1, 8, 6, 6, 5, 6, 4, 1, 3, 3, 11, 1, 2, 1, 9, 6, 1, 8, 13, 1, 4, 5, 2, 2, 2, 2, 2, 1, 4, 4, 3, 2, 4, 4, 5, 4, 1, 3, 6, 4, 2, 4, 2, 5, 1, 4, 3, 2, 7, 1, 5, 4, 10, 3, 1, 1, 1, 5, 3, 1, 12, 7, 5, 1, 4, 2, 2, 4, 4, 1, 1, 7, 1, 5, 4, 2, 2, 5, 1, 1, 2, 1, 7, 2, 1, 1, 1, 16, 1, 1, 3, 3, 3, 2, 2, 1, 8, 1, 2, 10, 7, 4, 3, 1, 9, 1, 1, 3, 1, 2, 1, 5, 1, 3, 2, 2, 8, 2, 3, 2, 1, 1, 5, 1, 2, 3, 1, 1, 2, 1, 2, 2, 5, 3, 1, 11, 1, 6, 6, 8, 2, 3, 1, 5, 3, 2, 1, 3, 2, 17, 1, 7, 6, 1, 5, 2, 1, 2, 4, 3, 3, 1, 2, 4, 7, 2, 1, 3, 4, 2, 2, 1, 2, 3, 1, 2, 3, 10, 6, 5, 7, 4, 2, 2, 2, 3, 4, 2, 7, 1, 3, 4, 4, 1, 1, 3, 2, 1, 1, 1, 5, 3, 1, 7, 3, 2, 4, 5, 2, 1, 2, 3, 4, 12, 4, 3, 2, 4, 6, 6, 1, 3, 6, 2, 4, 2, 4, 1, 8, 2, 4, 4, 1, 7, 4, 1, 8, 3, 18, 7, 7, 11, 1, 1, 4, 1, 1, 3, 3, 2, 3, 8, 3, 1, 3, 4, 6, 1, 4, 5, 2, 3, 2, 1, 2, 2, 6, 1, 7, 5, 3, 5, 1, 4, 6, 10, 1, 4, 1, 4, 6, 4, 1, 3, 2, 4, 3, 2, 1, 5, 3, 7, 7, 5, 7, 4, 1, 6, 2, 4, 1, 14, 2, 1, 7, 1, 6, 3, 4, 1, 1, 5, 2, 1, 1, 1, 3, 2, 5, 6, 8, 2, 1, 2, 1, 3, 1, 4, 9, 6, 1, 1, 3, 1, 1, 5, 4, 1, 6, 6, 2, 1, 6, 1, 5, 2, 5, 3, 8, 1, 1, 3, 1, 1, 1, 2, 8, 6, 1, 4, 3, 6, 8, 2, 5, 1, 2, 2, 4, 1, 3, 4, 2, 5, 6, 3, 1, 1, 4, 1, 2, 3, 3, 4, 3, 2, 3, 2, 6, 7, 3, 5, 7, 6, 4, 2, 1, 1, 8, 4, 1, 1, 2, 3, 5, 2, 5, 9, 1, 2, 5, 2, 13, 3, 4, 1, 2, 1, 12, 1, 5, 1, 2]\n"
          ]
        }
      ]
    },
    {
      "cell_type": "code",
      "source": [
        "print(Değerler.count(1)/1145)\n",
        "print(denemeler1.count(1)/1145)"
      ],
      "metadata": {
        "id": "tJI2GJaiMIXv",
        "colab": {
          "base_uri": "https://localhost:8080/"
        },
        "outputId": "f8439bc6-a45f-42f1-8717-50323324fb66"
      },
      "execution_count": null,
      "outputs": [
        {
          "output_type": "stream",
          "name": "stdout",
          "text": [
            "0.23930131004366811\n",
            "0.22183406113537119\n"
          ]
        }
      ]
    },
    {
      "cell_type": "code",
      "source": [
        "previous_data = np.array(Değerler1)\n",
        "# Son 3 veri noktasını alarak olasılık dağılımını hesapla\n",
        "last_values = previous_data[-1000:]\n",
        "value_counts = np.bincount(last_values, minlength=1000)\n",
        "probabilities = value_counts / value_counts.sum()\n",
        "\n",
        "# Sonraki veri noktasını tahmin et\n",
        "next_value = np.random.choice(np.arange(1000), p=probabilities)\n",
        "print(next_value)"
      ],
      "metadata": {
        "colab": {
          "base_uri": "https://localhost:8080/"
        },
        "id": "ABoR6KlkI8pe",
        "outputId": "8a6e521c-8c84-44fe-9d59-ee94ebf3ac8b"
      },
      "execution_count": null,
      "outputs": [
        {
          "output_type": "stream",
          "name": "stdout",
          "text": [
            "6\n"
          ]
        }
      ]
    },
    {
      "cell_type": "code",
      "source": [
        "import pandas as pd\n",
        "import numpy as np\n",
        "\n",
        "# Excel dosyasını yükle\n",
        "df = pd.read_excel(\"Kitap1.xlsx\")\n",
        "\n",
        "# Her sütunu ayrı ayrı bir dizi olarak al\n",
        "sutunlar = [df[col].values for col in df.columns]\n",
        "\n",
        "# Sütunların farklarını mutlak değer olarak alarak yeni bir veri çerçevesi oluştur\n",
        "farklar_df = pd.DataFrame()\n",
        "for i in range(len(sutunlar)):\n",
        "    for j in range(i+1, len(sutunlar)):\n",
        "        farklar_df[f\"{df.columns[i]}-{df.columns[j]}\"] = np.abs(sutunlar[i] - sutunlar[j])\n",
        "\n",
        "# Farklarını içeren ayrı ayrı Excel dosyalarına kaydet\n",
        "for col in farklar_df.columns:\n",
        "    farklar_df[[col]].to_excel(f\"{col}.xlsx\")\n",
        "\n",
        "# Worksheetleri birleştir\n",
        "dfs = []\n",
        "for col in farklar_df.columns:\n",
        "    dfs.append(pd.read_excel(f\"{col}.xlsx\", index_col=0))\n",
        "birlesik_df = pd.concat(dfs, axis=1, keys=farklar_df.columns)\n",
        "\n",
        "# Birleştirilmiş veriyi yeni bir Excel dosyasına kaydet\n",
        "with pd.ExcelWriter(\"birlesikfark.xlsx\") as writer:\n",
        "    birlesik_df.to_excel(writer, index=True)"
      ],
      "metadata": {
        "colab": {
          "base_uri": "https://localhost:8080/"
        },
        "id": "EuCSl36F-a6L",
        "outputId": "947f3525-3dd9-4993-94cd-b275fa63f0a8"
      },
      "execution_count": 5,
      "outputs": [
        {
          "output_type": "stream",
          "name": "stderr",
          "text": [
            "<ipython-input-5-675b3ff1bc0a>:14: PerformanceWarning: DataFrame is highly fragmented.  This is usually the result of calling `frame.insert` many times, which has poor performance.  Consider joining all columns at once using pd.concat(axis=1) instead.  To get a de-fragmented frame, use `newframe = frame.copy()`\n",
            "  farklar_df[f\"{df.columns[i]}-{df.columns[j]}\"] = np.abs(sutunlar[i] - sutunlar[j])\n"
          ]
        }
      ]
    },
    {
      "cell_type": "code",
      "source": [
        "import pandas as pd\n",
        "import numpy as np\n",
        "\n",
        "# Excel dosyasını yükle\n",
        "df = pd.read_excel(\"Kitap1.xlsx\")\n",
        "\n",
        "# Her sütunu ayrı ayrı bir dizi olarak al\n",
        "sutunlar = [df[col].values for col in df.columns]\n",
        "\n",
        "# Sütunların farklarını mutlak değer olarak alarak yeni bir veri çerçevesi oluştur\n",
        "farklar_df = pd.DataFrame()\n",
        "for i in range(len(sutunlar)):\n",
        "    for j in range(i+1, len(sutunlar)):\n",
        "        farklar_df[f\"{df.columns[i]}+{df.columns[j]}\"] = np.abs(sutunlar[i] + sutunlar[j])\n",
        "\n",
        "# Farklarını içeren ayrı ayrı Excel dosyalarına kaydet\n",
        "for col in farklar_df.columns:\n",
        "    farklar_df[[col]].to_excel(f\"{col}.xlsx\")\n",
        "\n",
        "# Worksheetleri birleştir\n",
        "dfs = []\n",
        "for col in farklar_df.columns:\n",
        "    dfs.append(pd.read_excel(f\"{col}.xlsx\", index_col=0))\n",
        "birlesik_df = pd.concat(dfs, axis=1, keys=farklar_df.columns)\n",
        "\n",
        "# Birleştirilmiş veriyi yeni bir Excel dosyasına kaydet\n",
        "with pd.ExcelWriter(\"birlesiktoplam.xlsx\") as writer:\n",
        "    birlesik_df.to_excel(writer, index=True)"
      ],
      "metadata": {
        "colab": {
          "base_uri": "https://localhost:8080/"
        },
        "id": "KA9t5UFhENhq",
        "outputId": "ffe276dd-8a85-4930-ccc5-41bcc24ad36c"
      },
      "execution_count": 2,
      "outputs": [
        {
          "output_type": "stream",
          "name": "stderr",
          "text": [
            "<ipython-input-2-1db8d9aee901>:14: PerformanceWarning: DataFrame is highly fragmented.  This is usually the result of calling `frame.insert` many times, which has poor performance.  Consider joining all columns at once using pd.concat(axis=1) instead.  To get a de-fragmented frame, use `newframe = frame.copy()`\n",
            "  farklar_df[f\"{df.columns[i]}+{df.columns[j]}\"] = np.abs(sutunlar[i] + sutunlar[j])\n"
          ]
        }
      ]
    },
    {
      "cell_type": "code",
      "source": [
        "# Excel dosyasını yükle\n",
        "import pandas as pd\n",
        "import numpy as np\n",
        "df = pd.read_excel(\"birlesik.xlsx\")\n",
        "df.describe()"
      ],
      "metadata": {
        "colab": {
          "base_uri": "https://localhost:8080/",
          "height": 411
        },
        "id": "Rr-NJCqbAXTI",
        "outputId": "badae859-af8a-44cf-9aa6-cda5f63ad158"
      },
      "execution_count": 49,
      "outputs": [
        {
          "output_type": "execute_result",
          "data": {
            "text/plain": [
              "        Unnamed: 0      Bir-İki       Bir-Uc     Bir-Dort      Bir-Bes  \\\n",
              "count  1145.000000  1144.000000  1145.000000  1145.000000  1145.000000   \n",
              "mean    572.000000     3.415210     7.117904    10.708297    14.126638   \n",
              "std     330.677335     2.918217     4.000992     4.711110     5.258080   \n",
              "min       0.000000     1.000000     2.000000     3.000000     4.000000   \n",
              "25%     286.000000     1.000000     4.000000     7.000000    10.000000   \n",
              "50%     572.000000     2.000000     6.000000    10.000000    13.000000   \n",
              "75%     858.000000     4.000000     9.000000    13.000000    18.000000   \n",
              "max    1144.000000    18.000000    24.000000    31.000000    33.000000   \n",
              "\n",
              "          Bir-Alti     Bir-Yedi    Bir-Sekiz    Bir-Dokuz       Bir-On  ...  \\\n",
              "count  1145.000000  1145.000000  1145.000000  1145.000000  1145.000000  ...   \n",
              "mean     17.724891    21.256769    24.752838    28.213100    31.696943  ...   \n",
              "std       5.834275     6.271711     6.607572     6.719141     6.804965  ...   \n",
              "min       5.000000     7.000000    10.000000    12.000000    14.000000  ...   \n",
              "25%      13.000000    17.000000    20.000000    23.000000    27.000000  ...   \n",
              "50%      17.000000    21.000000    24.000000    28.000000    31.000000  ...   \n",
              "75%      21.000000    25.000000    29.000000    33.000000    36.000000  ...   \n",
              "max      40.000000    44.000000    46.000000    49.000000    54.000000  ...   \n",
              "\n",
              "       Onsekiz-Ondokuz  Onsekiz-Yirmi  Onsekiz-Yirmibir  Onsekiz-Yirmiki  \\\n",
              "count      1145.000000    1145.000000       1145.000000      1145.000000   \n",
              "mean          3.566812       7.000873         10.476856        14.116157   \n",
              "std           2.701841       3.782666          4.578534         5.275583   \n",
              "min           1.000000       2.000000          3.000000         4.000000   \n",
              "25%           1.000000       4.000000          7.000000        10.000000   \n",
              "50%           3.000000       6.000000         10.000000        14.000000   \n",
              "75%           5.000000       9.000000         13.000000        17.000000   \n",
              "max          16.000000      23.000000         27.000000        32.000000   \n",
              "\n",
              "       Ondokuz-Yirmi  Ondokuz-Yirmibir  Ondokuz-Yirmiki  Yirmi-Yirmibir  \\\n",
              "count    1145.000000       1145.000000      1145.000000     1145.000000   \n",
              "mean        3.434061          6.910044        10.549345        3.475983   \n",
              "std         2.803481          3.914709         4.825039        2.827746   \n",
              "min         1.000000          2.000000         3.000000        1.000000   \n",
              "25%         1.000000          4.000000         7.000000        1.000000   \n",
              "50%         2.000000          6.000000        10.000000        3.000000   \n",
              "75%         5.000000          9.000000        13.000000        5.000000   \n",
              "max        20.000000         22.000000        30.000000       19.000000   \n",
              "\n",
              "       Yirmi-Yirmiki  Yirmibir-Yirmiki  \n",
              "count    1145.000000       1145.000000  \n",
              "mean        7.115284          3.639301  \n",
              "std         3.964747          2.954200  \n",
              "min         2.000000          1.000000  \n",
              "25%         4.000000          1.000000  \n",
              "50%         6.000000          3.000000  \n",
              "75%         9.000000          5.000000  \n",
              "max        24.000000         18.000000  \n",
              "\n",
              "[8 rows x 232 columns]"
            ],
            "text/html": [
              "\n",
              "  <div id=\"df-6d52c507-ad08-4475-a719-2542b772952e\">\n",
              "    <div class=\"colab-df-container\">\n",
              "      <div>\n",
              "<style scoped>\n",
              "    .dataframe tbody tr th:only-of-type {\n",
              "        vertical-align: middle;\n",
              "    }\n",
              "\n",
              "    .dataframe tbody tr th {\n",
              "        vertical-align: top;\n",
              "    }\n",
              "\n",
              "    .dataframe thead th {\n",
              "        text-align: right;\n",
              "    }\n",
              "</style>\n",
              "<table border=\"1\" class=\"dataframe\">\n",
              "  <thead>\n",
              "    <tr style=\"text-align: right;\">\n",
              "      <th></th>\n",
              "      <th>Unnamed: 0</th>\n",
              "      <th>Bir-İki</th>\n",
              "      <th>Bir-Uc</th>\n",
              "      <th>Bir-Dort</th>\n",
              "      <th>Bir-Bes</th>\n",
              "      <th>Bir-Alti</th>\n",
              "      <th>Bir-Yedi</th>\n",
              "      <th>Bir-Sekiz</th>\n",
              "      <th>Bir-Dokuz</th>\n",
              "      <th>Bir-On</th>\n",
              "      <th>...</th>\n",
              "      <th>Onsekiz-Ondokuz</th>\n",
              "      <th>Onsekiz-Yirmi</th>\n",
              "      <th>Onsekiz-Yirmibir</th>\n",
              "      <th>Onsekiz-Yirmiki</th>\n",
              "      <th>Ondokuz-Yirmi</th>\n",
              "      <th>Ondokuz-Yirmibir</th>\n",
              "      <th>Ondokuz-Yirmiki</th>\n",
              "      <th>Yirmi-Yirmibir</th>\n",
              "      <th>Yirmi-Yirmiki</th>\n",
              "      <th>Yirmibir-Yirmiki</th>\n",
              "    </tr>\n",
              "  </thead>\n",
              "  <tbody>\n",
              "    <tr>\n",
              "      <th>count</th>\n",
              "      <td>1145.000000</td>\n",
              "      <td>1144.000000</td>\n",
              "      <td>1145.000000</td>\n",
              "      <td>1145.000000</td>\n",
              "      <td>1145.000000</td>\n",
              "      <td>1145.000000</td>\n",
              "      <td>1145.000000</td>\n",
              "      <td>1145.000000</td>\n",
              "      <td>1145.000000</td>\n",
              "      <td>1145.000000</td>\n",
              "      <td>...</td>\n",
              "      <td>1145.000000</td>\n",
              "      <td>1145.000000</td>\n",
              "      <td>1145.000000</td>\n",
              "      <td>1145.000000</td>\n",
              "      <td>1145.000000</td>\n",
              "      <td>1145.000000</td>\n",
              "      <td>1145.000000</td>\n",
              "      <td>1145.000000</td>\n",
              "      <td>1145.000000</td>\n",
              "      <td>1145.000000</td>\n",
              "    </tr>\n",
              "    <tr>\n",
              "      <th>mean</th>\n",
              "      <td>572.000000</td>\n",
              "      <td>3.415210</td>\n",
              "      <td>7.117904</td>\n",
              "      <td>10.708297</td>\n",
              "      <td>14.126638</td>\n",
              "      <td>17.724891</td>\n",
              "      <td>21.256769</td>\n",
              "      <td>24.752838</td>\n",
              "      <td>28.213100</td>\n",
              "      <td>31.696943</td>\n",
              "      <td>...</td>\n",
              "      <td>3.566812</td>\n",
              "      <td>7.000873</td>\n",
              "      <td>10.476856</td>\n",
              "      <td>14.116157</td>\n",
              "      <td>3.434061</td>\n",
              "      <td>6.910044</td>\n",
              "      <td>10.549345</td>\n",
              "      <td>3.475983</td>\n",
              "      <td>7.115284</td>\n",
              "      <td>3.639301</td>\n",
              "    </tr>\n",
              "    <tr>\n",
              "      <th>std</th>\n",
              "      <td>330.677335</td>\n",
              "      <td>2.918217</td>\n",
              "      <td>4.000992</td>\n",
              "      <td>4.711110</td>\n",
              "      <td>5.258080</td>\n",
              "      <td>5.834275</td>\n",
              "      <td>6.271711</td>\n",
              "      <td>6.607572</td>\n",
              "      <td>6.719141</td>\n",
              "      <td>6.804965</td>\n",
              "      <td>...</td>\n",
              "      <td>2.701841</td>\n",
              "      <td>3.782666</td>\n",
              "      <td>4.578534</td>\n",
              "      <td>5.275583</td>\n",
              "      <td>2.803481</td>\n",
              "      <td>3.914709</td>\n",
              "      <td>4.825039</td>\n",
              "      <td>2.827746</td>\n",
              "      <td>3.964747</td>\n",
              "      <td>2.954200</td>\n",
              "    </tr>\n",
              "    <tr>\n",
              "      <th>min</th>\n",
              "      <td>0.000000</td>\n",
              "      <td>1.000000</td>\n",
              "      <td>2.000000</td>\n",
              "      <td>3.000000</td>\n",
              "      <td>4.000000</td>\n",
              "      <td>5.000000</td>\n",
              "      <td>7.000000</td>\n",
              "      <td>10.000000</td>\n",
              "      <td>12.000000</td>\n",
              "      <td>14.000000</td>\n",
              "      <td>...</td>\n",
              "      <td>1.000000</td>\n",
              "      <td>2.000000</td>\n",
              "      <td>3.000000</td>\n",
              "      <td>4.000000</td>\n",
              "      <td>1.000000</td>\n",
              "      <td>2.000000</td>\n",
              "      <td>3.000000</td>\n",
              "      <td>1.000000</td>\n",
              "      <td>2.000000</td>\n",
              "      <td>1.000000</td>\n",
              "    </tr>\n",
              "    <tr>\n",
              "      <th>25%</th>\n",
              "      <td>286.000000</td>\n",
              "      <td>1.000000</td>\n",
              "      <td>4.000000</td>\n",
              "      <td>7.000000</td>\n",
              "      <td>10.000000</td>\n",
              "      <td>13.000000</td>\n",
              "      <td>17.000000</td>\n",
              "      <td>20.000000</td>\n",
              "      <td>23.000000</td>\n",
              "      <td>27.000000</td>\n",
              "      <td>...</td>\n",
              "      <td>1.000000</td>\n",
              "      <td>4.000000</td>\n",
              "      <td>7.000000</td>\n",
              "      <td>10.000000</td>\n",
              "      <td>1.000000</td>\n",
              "      <td>4.000000</td>\n",
              "      <td>7.000000</td>\n",
              "      <td>1.000000</td>\n",
              "      <td>4.000000</td>\n",
              "      <td>1.000000</td>\n",
              "    </tr>\n",
              "    <tr>\n",
              "      <th>50%</th>\n",
              "      <td>572.000000</td>\n",
              "      <td>2.000000</td>\n",
              "      <td>6.000000</td>\n",
              "      <td>10.000000</td>\n",
              "      <td>13.000000</td>\n",
              "      <td>17.000000</td>\n",
              "      <td>21.000000</td>\n",
              "      <td>24.000000</td>\n",
              "      <td>28.000000</td>\n",
              "      <td>31.000000</td>\n",
              "      <td>...</td>\n",
              "      <td>3.000000</td>\n",
              "      <td>6.000000</td>\n",
              "      <td>10.000000</td>\n",
              "      <td>14.000000</td>\n",
              "      <td>2.000000</td>\n",
              "      <td>6.000000</td>\n",
              "      <td>10.000000</td>\n",
              "      <td>3.000000</td>\n",
              "      <td>6.000000</td>\n",
              "      <td>3.000000</td>\n",
              "    </tr>\n",
              "    <tr>\n",
              "      <th>75%</th>\n",
              "      <td>858.000000</td>\n",
              "      <td>4.000000</td>\n",
              "      <td>9.000000</td>\n",
              "      <td>13.000000</td>\n",
              "      <td>18.000000</td>\n",
              "      <td>21.000000</td>\n",
              "      <td>25.000000</td>\n",
              "      <td>29.000000</td>\n",
              "      <td>33.000000</td>\n",
              "      <td>36.000000</td>\n",
              "      <td>...</td>\n",
              "      <td>5.000000</td>\n",
              "      <td>9.000000</td>\n",
              "      <td>13.000000</td>\n",
              "      <td>17.000000</td>\n",
              "      <td>5.000000</td>\n",
              "      <td>9.000000</td>\n",
              "      <td>13.000000</td>\n",
              "      <td>5.000000</td>\n",
              "      <td>9.000000</td>\n",
              "      <td>5.000000</td>\n",
              "    </tr>\n",
              "    <tr>\n",
              "      <th>max</th>\n",
              "      <td>1144.000000</td>\n",
              "      <td>18.000000</td>\n",
              "      <td>24.000000</td>\n",
              "      <td>31.000000</td>\n",
              "      <td>33.000000</td>\n",
              "      <td>40.000000</td>\n",
              "      <td>44.000000</td>\n",
              "      <td>46.000000</td>\n",
              "      <td>49.000000</td>\n",
              "      <td>54.000000</td>\n",
              "      <td>...</td>\n",
              "      <td>16.000000</td>\n",
              "      <td>23.000000</td>\n",
              "      <td>27.000000</td>\n",
              "      <td>32.000000</td>\n",
              "      <td>20.000000</td>\n",
              "      <td>22.000000</td>\n",
              "      <td>30.000000</td>\n",
              "      <td>19.000000</td>\n",
              "      <td>24.000000</td>\n",
              "      <td>18.000000</td>\n",
              "    </tr>\n",
              "  </tbody>\n",
              "</table>\n",
              "<p>8 rows × 232 columns</p>\n",
              "</div>\n",
              "      <button class=\"colab-df-convert\" onclick=\"convertToInteractive('df-6d52c507-ad08-4475-a719-2542b772952e')\"\n",
              "              title=\"Convert this dataframe to an interactive table.\"\n",
              "              style=\"display:none;\">\n",
              "        \n",
              "  <svg xmlns=\"http://www.w3.org/2000/svg\" height=\"24px\"viewBox=\"0 0 24 24\"\n",
              "       width=\"24px\">\n",
              "    <path d=\"M0 0h24v24H0V0z\" fill=\"none\"/>\n",
              "    <path d=\"M18.56 5.44l.94 2.06.94-2.06 2.06-.94-2.06-.94-.94-2.06-.94 2.06-2.06.94zm-11 1L8.5 8.5l.94-2.06 2.06-.94-2.06-.94L8.5 2.5l-.94 2.06-2.06.94zm10 10l.94 2.06.94-2.06 2.06-.94-2.06-.94-.94-2.06-.94 2.06-2.06.94z\"/><path d=\"M17.41 7.96l-1.37-1.37c-.4-.4-.92-.59-1.43-.59-.52 0-1.04.2-1.43.59L10.3 9.45l-7.72 7.72c-.78.78-.78 2.05 0 2.83L4 21.41c.39.39.9.59 1.41.59.51 0 1.02-.2 1.41-.59l7.78-7.78 2.81-2.81c.8-.78.8-2.07 0-2.86zM5.41 20L4 18.59l7.72-7.72 1.47 1.35L5.41 20z\"/>\n",
              "  </svg>\n",
              "      </button>\n",
              "      \n",
              "  <style>\n",
              "    .colab-df-container {\n",
              "      display:flex;\n",
              "      flex-wrap:wrap;\n",
              "      gap: 12px;\n",
              "    }\n",
              "\n",
              "    .colab-df-convert {\n",
              "      background-color: #E8F0FE;\n",
              "      border: none;\n",
              "      border-radius: 50%;\n",
              "      cursor: pointer;\n",
              "      display: none;\n",
              "      fill: #1967D2;\n",
              "      height: 32px;\n",
              "      padding: 0 0 0 0;\n",
              "      width: 32px;\n",
              "    }\n",
              "\n",
              "    .colab-df-convert:hover {\n",
              "      background-color: #E2EBFA;\n",
              "      box-shadow: 0px 1px 2px rgba(60, 64, 67, 0.3), 0px 1px 3px 1px rgba(60, 64, 67, 0.15);\n",
              "      fill: #174EA6;\n",
              "    }\n",
              "\n",
              "    [theme=dark] .colab-df-convert {\n",
              "      background-color: #3B4455;\n",
              "      fill: #D2E3FC;\n",
              "    }\n",
              "\n",
              "    [theme=dark] .colab-df-convert:hover {\n",
              "      background-color: #434B5C;\n",
              "      box-shadow: 0px 1px 3px 1px rgba(0, 0, 0, 0.15);\n",
              "      filter: drop-shadow(0px 1px 2px rgba(0, 0, 0, 0.3));\n",
              "      fill: #FFFFFF;\n",
              "    }\n",
              "  </style>\n",
              "\n",
              "      <script>\n",
              "        const buttonEl =\n",
              "          document.querySelector('#df-6d52c507-ad08-4475-a719-2542b772952e button.colab-df-convert');\n",
              "        buttonEl.style.display =\n",
              "          google.colab.kernel.accessAllowed ? 'block' : 'none';\n",
              "\n",
              "        async function convertToInteractive(key) {\n",
              "          const element = document.querySelector('#df-6d52c507-ad08-4475-a719-2542b772952e');\n",
              "          const dataTable =\n",
              "            await google.colab.kernel.invokeFunction('convertToInteractive',\n",
              "                                                     [key], {});\n",
              "          if (!dataTable) return;\n",
              "\n",
              "          const docLinkHtml = 'Like what you see? Visit the ' +\n",
              "            '<a target=\"_blank\" href=https://colab.research.google.com/notebooks/data_table.ipynb>data table notebook</a>'\n",
              "            + ' to learn more about interactive tables.';\n",
              "          element.innerHTML = '';\n",
              "          dataTable['output_type'] = 'display_data';\n",
              "          await google.colab.output.renderOutput(dataTable, element);\n",
              "          const docLink = document.createElement('div');\n",
              "          docLink.innerHTML = docLinkHtml;\n",
              "          element.appendChild(docLink);\n",
              "        }\n",
              "      </script>\n",
              "    </div>\n",
              "  </div>\n",
              "  "
            ]
          },
          "metadata": {},
          "execution_count": 49
        }
      ]
    },
    {
      "cell_type": "code",
      "source": [
        "data = pd.read_excel(\"birlesik.xlsx\")\n",
        "data1=data.iloc[:, 1]\n",
        "data1 = data1[~np.isnan(data1)]\n",
        "# Rastgele 10 adet örneklem seç\n",
        "sample = np.random.choice(data1, size=10, replace=False)\n",
        "\n",
        "# Merkezi yayılım ölçülerini hesapla\n",
        "mean = np.mean(sample)\n",
        "median1 = np.median(sample)\n",
        "std = np.std(sample)\n",
        "\n",
        "# Sonuçları yazdır\n",
        "print(f\"Veri kümesinin ortalama değeri: {np.mean(data1)}\")\n",
        "print(f\"Veri kümesinin medyan değeri: {np.median(data1)}\")\n",
        "print(f\"Veri kümesinin standart sapması: {np.std(data1)}\")\n",
        "print(\"\\nSeçilen örneklem:\")\n",
        "print(sample)\n",
        "print(f\"Örneklem ortalaması: {mean}\")\n",
        "print(f\"Örneklem medyanı: {median1}\")\n",
        "print(f\"Örneklem standart sapması: {std}\")"
      ],
      "metadata": {
        "colab": {
          "base_uri": "https://localhost:8080/"
        },
        "id": "WP36ZN8DGTm7",
        "outputId": "899ff58b-66d5-47aa-86e9-8e00d35e3ba7"
      },
      "execution_count": 37,
      "outputs": [
        {
          "output_type": "stream",
          "name": "stdout",
          "text": [
            "Veri kümesinin ortalama değeri: 3.4152097902097904\n",
            "Veri kümesinin medyan değeri: 2.0\n",
            "Veri kümesinin standart sapması: 2.9169410151832005\n",
            "\n",
            "Seçilen örneklem:\n",
            "[ 7.  1.  7. 12.  4.  3.  1.  2.  1.  7.]\n",
            "Örneklem ortalaması: 4.5\n",
            "Örneklem medyanı: 3.5\n",
            "Örneklem standart sapması: 3.4713109915419564\n"
          ]
        }
      ]
    },
    {
      "cell_type": "code",
      "source": [
        "data = pd.read_excel(\"birlesik.xlsx\")\n",
        "data1=data.iloc[:, 1]\n",
        "data1 = data1[~np.isnan(data1)]\n",
        "import numpy as np\n",
        "\n",
        "population_mean = np.mean(data1)\n",
        "print(\"Population Mean:\", population_mean)\n",
        "sample = np.random.choice(data1, size=5, replace=False)\n",
        "sample_mean = np.mean(sample)\n",
        "print(\"Sample Mean:\", sample_mean)\n",
        "sample_size = 10\n",
        "num_samples = 1000\n",
        "sample_means = []\n",
        "\n",
        "for i in range(num_samples):\n",
        "    sample = np.random.choice(data1, size=sample_size, replace=False)\n",
        "    sample_mean = np.mean(sample)\n",
        "    sample_means.append(sample_mean)\n",
        "\n",
        "std_error = np.std(sample_means, ddof=1) / np.sqrt(sample_size)\n",
        "print(\"Standard Error:\", std_error)\n",
        "confidence_level = 0.95\n",
        "z_score = 1.96             # 1.96, %95 güven aralığı için z skoru\n",
        "\n",
        "lower_bound = sample_mean - z_score * std_error\n",
        "upper_bound = sample_mean + z_score * std_error\n",
        "\n",
        "print(\"Population Mean Estimate:\", sample_mean)\n",
        "print(\"Confidence Interval: [{:.2f}, {:.2f}]\".format(lower_bound, upper_bound))\n"
      ],
      "metadata": {
        "colab": {
          "base_uri": "https://localhost:8080/"
        },
        "id": "EBNWlAaEHzqg",
        "outputId": "d6a2117f-ba3e-4919-fa11-f48872a49c58"
      },
      "execution_count": 36,
      "outputs": [
        {
          "output_type": "stream",
          "name": "stdout",
          "text": [
            "Population Mean: 3.4152097902097904\n",
            "Sample Mean: 4.2\n",
            "Standard Error: 0.29089342203457086\n",
            "Population Mean Estimate: 3.0\n",
            "Confidence Interval: [2.43, 3.57]\n"
          ]
        }
      ]
    },
    {
      "cell_type": "code",
      "source": [
        "import pandas as pd\n",
        "import numpy as np\n",
        "\n",
        "# Veri kümesini yükleme\n",
        "data = pd.read_excel(\"birlesik.xlsx\")\n",
        "data=data.iloc[:, 1]\n",
        "data = data[~np.isnan(data)]\n",
        "\n",
        "# Tabakalara ayırma\n",
        "bins = pd.qcut(data, q=3)\n",
        "groups = data.groupby(bins)\n",
        "\n",
        "# Her tabakadan rastgele örneklem seçme\n",
        "samples = []\n",
        "for _, group in groups:\n",
        "    sample = group.sample(n=10, replace=False)\n",
        "    samples.append(sample)\n",
        "\n",
        "# Her tabakanın ortalamasını ve varyansını hesaplama\n",
        "means = [np.mean(sample) for sample in samples]\n",
        "variances = [np.var(sample, ddof=1) for sample in samples]\n",
        "\n",
        "# Tüm verilerin ağırlıklı ortalamasını ve varyansını hesaplama\n",
        "weights = [len(sample) for sample in samples]\n",
        "weighted_means = np.average(means, weights=weights)\n",
        "weighted_variances = np.average(variances, weights=weights)\n",
        "\n",
        "# Sonuçları yazdırma\n",
        "print(\"Düşük değerlerin ortalaması:\", means[0])\n",
        "print(\"Yüksek değerlerin ortalaması:\", means[2])\n",
        "print(\"Tüm verilerin ortalaması:\", weighted_means)\n",
        "print(\"Düşük değerlerin varyansı:\", variances[0])\n",
        "print(\"Yüksek değerlerin varyansı:\", variances[2])\n",
        "print(\"Tüm verilerin varyansı:\", weighted_variances)"
      ],
      "metadata": {
        "colab": {
          "base_uri": "https://localhost:8080/"
        },
        "id": "I55VBu0dOJsy",
        "outputId": "2e31a22c-79fd-41c5-893d-807d812047cd"
      },
      "execution_count": 45,
      "outputs": [
        {
          "output_type": "stream",
          "name": "stdout",
          "text": [
            "Düşük değerlerin ortalaması: 1.2\n",
            "Yüksek değerlerin ortalaması: 9.4\n",
            "Tüm verilerin ortalaması: 4.666666666666667\n",
            "Düşük değerlerin varyansı: 0.17777777777777778\n",
            "Yüksek değerlerin varyansı: 16.266666666666666\n",
            "Tüm verilerin varyansı: 5.57037037037037\n"
          ]
        }
      ]
    },
    {
      "cell_type": "code",
      "source": [
        "import numpy as np\n",
        "import pandas as pd\n",
        "import matplotlib.pyplot as plt\n",
        "\n",
        "# Verileri bir Excel dosyasından okuma\n",
        "data = pd.read_excel(\"birlesik.xlsx\")\n",
        "data = data.iloc[:, 1]\n",
        "data = data[~np.isnan(data)]\n",
        "population = data\n",
        "\n",
        "# Örneklem dağılımı\n",
        "n = 3\n",
        "sample_means = []\n",
        "samples = [] # seçilen örneklem verilerini saklamak için\n",
        "for i in range(1000):\n",
        "    sample = np.random.choice(population, size=n, replace=False)\n",
        "    samples.append(sample) # seçilen örneklem verilerini sakla\n",
        "    sample_mean = np.mean(sample)\n",
        "    sample_means.append(sample_mean)\n",
        "\n",
        "# Örneklem dağılımını görselleştirme\n",
        "plt.hist(sample_means, bins=30, density=True)\n",
        "plt.title(\"n=3 Örneklemin Örnekleme Dağılımı\")\n",
        "plt.xlabel(\"Örneklem Ortalaması\")\n",
        "plt.ylabel(\"Yoğunluk\")\n",
        "plt.show()\n",
        "\n",
        "# Örneklem ortalamalarını ve seçilen örneklem verilerini bir veri çerçevesine dönüştürme\n",
        "df = pd.DataFrame({'Orneklem Verileri': samples, 'Orneklem Ortalamalari': sample_means})\n",
        "\n",
        "# Veri çerçevesinde örneklem ortalamalarını ve seçilen örneklem verilerini gösterme\n",
        "print(df)\n"
      ],
      "metadata": {
        "colab": {
          "base_uri": "https://localhost:8080/",
          "height": 539
        },
        "id": "aevDnYLTPeRR",
        "outputId": "c572b966-9808-4667-ecd3-5aa3819007b7"
      },
      "execution_count": 52,
      "outputs": [
        {
          "output_type": "display_data",
          "data": {
            "text/plain": [
              "<Figure size 432x288 with 1 Axes>"
            ],
            "image/png": "[encoded data removed]"
          },
          "metadata": {
            "needs_background": "light"
          }
        },
        {
          "output_type": "stream",
          "name": "stdout",
          "text": [
            "    Orneklem Verileri  Orneklem Ortalamalari\n",
            "0    [2.0, 11.0, 3.0]               5.333333\n",
            "1     [3.0, 6.0, 4.0]               4.333333\n",
            "2     [3.0, 3.0, 3.0]               3.000000\n",
            "3    [13.0, 2.0, 8.0]               7.666667\n",
            "4     [2.0, 1.0, 4.0]               2.333333\n",
            "..                ...                    ...\n",
            "995  [18.0, 1.0, 1.0]               6.666667\n",
            "996   [2.0, 4.0, 4.0]               3.333333\n",
            "997   [4.0, 2.0, 5.0]               3.666667\n",
            "998   [2.0, 3.0, 2.0]               2.333333\n",
            "999   [2.0, 1.0, 1.0]               1.333333\n",
            "\n",
            "[1000 rows x 2 columns]\n"
          ]
        }
      ]
    },
    {
      "cell_type": "code",
      "source": [
        "from collections import Counter\n",
        "\n",
        "# Örneklem ortalamalarını ve seçilen örneklem verilerini bir veri çerçevesine dönüştürme\n",
        "df = pd.DataFrame({'Orneklem Verileri': samples, 'Orneklem Ortalamalari': sample_means})\n",
        "\n",
        "# Veri çerçevesinde örneklem ortalamalarını ve seçilen örneklem verilerini gösterme\n",
        "print(df)\n",
        "\n",
        "# Örneklem ortalamalarının frekanslarını hesaplama\n",
        "ortalamalar = df['Orneklem Ortalamalari'].tolist()\n",
        "frekanslar = Counter(ortalamalar)\n",
        "frekanslar\n"
      ],
      "metadata": {
        "id": "drrviZLBTWLL",
        "outputId": "2304028f-a9e4-41e0-85f5-5a48259262e3",
        "colab": {
          "base_uri": "https://localhost:8080/"
        }
      },
      "execution_count": 62,
      "outputs": [
        {
          "output_type": "stream",
          "name": "stdout",
          "text": [
            "    Orneklem Verileri  Orneklem Ortalamalari\n",
            "0    [2.0, 11.0, 3.0]               5.333333\n",
            "1     [3.0, 6.0, 4.0]               4.333333\n",
            "2     [3.0, 3.0, 3.0]               3.000000\n",
            "3    [13.0, 2.0, 8.0]               7.666667\n",
            "4     [2.0, 1.0, 4.0]               2.333333\n",
            "..                ...                    ...\n",
            "995  [18.0, 1.0, 1.0]               6.666667\n",
            "996   [2.0, 4.0, 4.0]               3.333333\n",
            "997   [4.0, 2.0, 5.0]               3.666667\n",
            "998   [2.0, 3.0, 2.0]               2.333333\n",
            "999   [2.0, 1.0, 1.0]               1.333333\n",
            "\n",
            "[1000 rows x 2 columns]\n"
          ]
        },
        {
          "output_type": "execute_result",
          "data": {
            "text/plain": [
              "Counter({5.333333333333333: 28,\n",
              "         4.333333333333333: 56,\n",
              "         3.0: 68,\n",
              "         7.666666666666667: 7,\n",
              "         2.3333333333333335: 107,\n",
              "         3.3333333333333335: 80,\n",
              "         1.0: 33,\n",
              "         3.6666666666666665: 61,\n",
              "         4.666666666666667: 44,\n",
              "         2.0: 91,\n",
              "         1.6666666666666667: 91,\n",
              "         1.3333333333333333: 60,\n",
              "         2.6666666666666665: 83,\n",
              "         6.0: 15,\n",
              "         5.0: 44,\n",
              "         4.0: 47,\n",
              "         7.333333333333333: 4,\n",
              "         8.0: 2,\n",
              "         6.666666666666667: 18,\n",
              "         5.666666666666667: 21,\n",
              "         7.0: 10,\n",
              "         8.333333333333334: 5,\n",
              "         6.333333333333333: 14,\n",
              "         10.0: 3,\n",
              "         9.0: 1,\n",
              "         9.333333333333334: 3,\n",
              "         10.333333333333334: 1,\n",
              "         9.666666666666666: 1,\n",
              "         8.666666666666666: 1,\n",
              "         12.0: 1})"
            ]
          },
          "metadata": {},
          "execution_count": 62
        }
      ]
    },
    {
      "cell_type": "code",
      "source": [
        "import numpy as np\n",
        "import matplotlib.pyplot as plt\n",
        "\n",
        "# Verilerin oluşturulması\n",
        "data = pd.read_excel(\"birlesik.xlsx\")\n",
        "data = data.iloc[:, 1]\n",
        "data = data[~np.isnan(data)]\n",
        "\n",
        "# Örneklem sayısı\n",
        "n = 2\n",
        "\n",
        "# Örneklem dağılımı\n",
        "sample_means = []\n",
        "for i in range(1000):\n",
        "    sample = np.random.choice(data, size=n, replace=False)\n",
        "    sample_mean = np.mean(sample)\n",
        "    sample_means.append(sample_mean)\n",
        "\n",
        "# Örneklem dağılımını görselleştirme\n",
        "plt.hist(sample_means, bins=30, density=True)\n",
        "plt.title(\"n=2 Örneklemin Örnekleme Dağılımı\")\n",
        "plt.xlabel(\"Örneklem Ortalaması\")\n",
        "plt.ylabel(\"Yoğunluk\")\n",
        "plt.show()\n"
      ],
      "metadata": {
        "id": "413bO2oZV5EO",
        "outputId": "509f81e0-1fa6-441e-e9ef-0cf9e20ff07f",
        "colab": {
          "base_uri": "https://localhost:8080/",
          "height": 296
        }
      },
      "execution_count": 68,
      "outputs": [
        {
          "output_type": "display_data",
          "data": {
            "text/plain": [
              "<Figure size 432x288 with 1 Axes>"
            ],
            "image/png": "[encoded data removed]"
          },
          "metadata": {
            "needs_background": "light"
          }
        }
      ]
    },
    {
      "cell_type": "code",
      "source": [
        "3/15"
      ],
      "metadata": {
        "id": "GjvvY5eEWJP6",
        "outputId": "65b54c5a-9823-4cc7-b35e-2e746d327b18",
        "colab": {
          "base_uri": "https://localhost:8080/"
        }
      },
      "execution_count": 64,
      "outputs": [
        {
          "output_type": "execute_result",
          "data": {
            "text/plain": [
              "0.2"
            ]
          },
          "metadata": {},
          "execution_count": 64
        }
      ]
    }
  ]
}