{
  "nbformat": 4,
  "nbformat_minor": 0,
  "metadata": {
    "colab": {
      "provenance": [],
      "authorship_tag": "ABX9TyM9VyizPZfv4wFnaIVqej/i",
      "include_colab_link": true
    },
    "kernelspec": {
      "name": "python3",
      "display_name": "Python 3"
    },
    "language_info": {
      "name": "python"
    }
  },
  "cells": [
    {
      "cell_type": "markdown",
      "metadata": {
        "id": "view-in-github",
        "colab_type": "text"
      },
      "source": [
        "<a href=\"https://colab.research.google.com/github/Berkay86/DeepPerson/blob/main/pyhtonproje_ipynb_adl_not_defterinin_kopyas_adl_not_defterinin_kopyas.ipynb\" target=\"_parent\"><img src=\"https://colab.research.google.com/assets/colab-badge.svg\" alt=\"Open In Colab\"/></a>"
      ]
    },
    {
      "cell_type": "code",
      "execution_count": null,
      "metadata": {
        "colab": {
          "base_uri": "https://localhost:8080/"
        },
        "id": "7N8FXmCeDpDr",
        "outputId": "dd282f61-65ba-4f35-aca8-4266e7c0add8"
      },
      "outputs": [
        {
          "output_type": "stream",
          "name": "stdout",
          "text": [
            "Looking in indexes: https://pypi.org/simple, https://us-python.pkg.dev/colab-wheels/public/simple/\n",
            "Requirement already satisfied: snscrape in /usr/local/lib/python3.8/dist-packages (0.4.3.20220106)\n",
            "Requirement already satisfied: pytz in /usr/local/lib/python3.8/dist-packages (from snscrape) (2022.6)\n",
            "Requirement already satisfied: requests[socks] in /usr/local/lib/python3.8/dist-packages (from snscrape) (2.23.0)\n",
            "Requirement already satisfied: lxml in /usr/local/lib/python3.8/dist-packages (from snscrape) (4.9.1)\n",
            "Requirement already satisfied: filelock in /usr/local/lib/python3.8/dist-packages (from snscrape) (3.8.0)\n",
            "Requirement already satisfied: beautifulsoup4 in /usr/local/lib/python3.8/dist-packages (from snscrape) (4.6.3)\n",
            "Requirement already satisfied: urllib3!=1.25.0,!=1.25.1,<1.26,>=1.21.1 in /usr/local/lib/python3.8/dist-packages (from requests[socks]->snscrape) (1.24.3)\n",
            "Requirement already satisfied: idna<3,>=2.5 in /usr/local/lib/python3.8/dist-packages (from requests[socks]->snscrape) (2.10)\n",
            "Requirement already satisfied: certifi>=2017.4.17 in /usr/local/lib/python3.8/dist-packages (from requests[socks]->snscrape) (2022.9.24)\n",
            "Requirement already satisfied: chardet<4,>=3.0.2 in /usr/local/lib/python3.8/dist-packages (from requests[socks]->snscrape) (3.0.4)\n",
            "Requirement already satisfied: PySocks!=1.5.7,>=1.5.6 in /usr/local/lib/python3.8/dist-packages (from requests[socks]->snscrape) (1.7.1)\n"
          ]
        }
      ],
      "source": [
        "#Kütüphanelerimizi içeriye alalım.\n",
        "#Veri İşlemleri\n",
        "!pip3 install snscrape\n",
        "import pandas as pd\n",
        "import snscrape.modules.twitter as sntwitter\n",
        "import numpy as np\n",
        "import matplotlib.pyplot as plt\n",
        "import seaborn as sns"
      ]
    },
    {
      "cell_type": "code",
      "source": [
        "import nltk\n",
        "from nltk.corpus import stopwords\n",
        "from nltk.tokenize import word_tokenize\n",
        "from nltk.stem import WordNetLemmatizer\n",
        "from nltk.stem.porter import PorterStemmer\n",
        "import string\n"
      ],
      "metadata": {
        "id": "0m79ODq4NUPj"
      },
      "execution_count": null,
      "outputs": []
    },
    {
      "cell_type": "code",
      "source": [
        "import re \n",
        "import textblob\n",
        "from textblob import TextBlob"
      ],
      "metadata": {
        "id": "zjABAlSIN_qI"
      },
      "execution_count": null,
      "outputs": []
    },
    {
      "cell_type": "code",
      "source": [
        "from wordcloud.wordcloud import WordCloud,STOPWORDS\n",
        "!pip install emot\n",
        "from emot.emo_unicode import UNICODE_EMOJI\n",
        "lemmatizer=WordNetLemmatizer()\n",
        "from wordcloud import ImageColorGenerator\n",
        "from PIL import Image\n",
        "import warnings\n",
        "%matplotlib"
      ],
      "metadata": {
        "colab": {
          "base_uri": "https://localhost:8080/"
        },
        "id": "mrmuKD-gOATK",
        "outputId": "8671201c-d4cc-4718-be64-e236dfa2b552"
      },
      "execution_count": null,
      "outputs": [
        {
          "output_type": "stream",
          "name": "stdout",
          "text": [
            "Looking in indexes: https://pypi.org/simple, https://us-python.pkg.dev/colab-wheels/public/simple/\n",
            "Requirement already satisfied: emot in /usr/local/lib/python3.8/dist-packages (3.1)\n",
            "Using matplotlib backend: agg\n"
          ]
        }
      ]
    },
    {
      "cell_type": "code",
      "source": [
        "query=\"(vestel OR memnuniyet))\"\n",
        "tweets=[]\n",
        "for i,tweet in enumerate(sntwitter.TwitterSearchScraper(query).get_items()):\n",
        "  if i>200:\n",
        "    break\n",
        "  else:\n",
        "        tweets.append([tweet.date,tweet.id,tweet.url,tweet.user.username,tweet.sourceLabel,tweet.user.location,tweet.content,tweet.likeCount,tweet.retweetCount])\n",
        "df=pd.DataFrame(tweets,columns=[\"Date\",\"ID\",\"url\",\"username\",\"source\",\"location\",\"tweet\",\"num_of_likes\", \"num_of_retweet\"])\n",
        "df.to_csv(\"sentiment.csv\",encoding='utf-8')\n",
        "df"
      ],
      "metadata": {
        "colab": {
          "base_uri": "https://localhost:8080/",
          "height": 424
        },
        "id": "7dn74Wr_Prdj",
        "outputId": "9b161319-17c2-4232-9f95-900ac912aa06"
      },
      "execution_count": null,
      "outputs": [
        {
          "output_type": "execute_result",
          "data": {
            "text/plain": [
              "                         Date                   ID  \\\n",
              "0   2022-12-09 15:57:21+00:00  1601244618997497856   \n",
              "1   2022-12-09 15:56:43+00:00  1601244458191704066   \n",
              "2   2022-12-09 15:55:25+00:00  1601244133930274818   \n",
              "3   2022-12-09 15:52:56+00:00  1601243509486686208   \n",
              "4   2022-12-09 15:44:15+00:00  1601241322278354945   \n",
              "..                        ...                  ...   \n",
              "196 2022-12-08 18:55:03+00:00  1600926952172314624   \n",
              "197 2022-12-08 18:54:10+00:00  1600926730491146240   \n",
              "198 2022-12-08 18:46:49+00:00  1600924877258559488   \n",
              "199 2022-12-08 18:46:05+00:00  1600924695867817984   \n",
              "200 2022-12-08 18:45:53+00:00  1600924644474699777   \n",
              "\n",
              "                                                   url        username  \\\n",
              "0    https://twitter.com/BiciciUlas/status/16012446...      BiciciUlas   \n",
              "1    https://twitter.com/Heran_dogruol/status/16012...   Heran_dogruol   \n",
              "2    https://twitter.com/DusumuIz/status/1601244133...        DusumuIz   \n",
              "3    https://twitter.com/SavasAdalet/status/1601243...     SavasAdalet   \n",
              "4    https://twitter.com/ResuCey/status/16012413222...         ResuCey   \n",
              "..                                                 ...             ...   \n",
              "196  https://twitter.com/smderya0/status/1600926952...        smderya0   \n",
              "197  https://twitter.com/mrjackdaytona7/status/1600...  mrjackdaytona7   \n",
              "198  https://twitter.com/Anka4680/status/1600924877...        Anka4680   \n",
              "199  https://twitter.com/realist12344/status/160092...    realist12344   \n",
              "200  https://twitter.com/wicktarot/status/160092464...       wicktarot   \n",
              "\n",
              "                  source  location  \\\n",
              "0     Twitter for iPhone             \n",
              "1    Twitter for Android             \n",
              "2     Twitter for iPhone             \n",
              "3    Twitter for Android             \n",
              "4    Twitter for Android             \n",
              "..                   ...       ...   \n",
              "196   Twitter for iPhone             \n",
              "197  Twitter for Android             \n",
              "198  Twitter for Android             \n",
              "199  Twitter for Android  istanbul   \n",
              "200   Twitter for iPhone   𝑑ℎ𝑎𝑟𝑚𝑎♀   \n",
              "\n",
              "                                                 tweet  num_of_likes  \\\n",
              "0    @taktikanalist @suatolgunn Tesla seni yakın ta...             1   \n",
              "1                     @TraderKng @PHOENIX07_ Vestel mi             0   \n",
              "2    Ve geldi tarihi kar Mondi tireden 🙊🙈🙉Akşama Av...             1   \n",
              "3    Bu ambiansı isteyen herkes - \\nbu koltukların ...             2   \n",
              "4    @investleader20 Vestel'in tahtacısı sen misin ...             0   \n",
              "..                                                 ...           ...   \n",
              "196  @trader_tony1 Olmaz mı. Vestel ve ozgyo. Sırf ...             0   \n",
              "197  @SaintsTolis Μακριά από Lg. Αρκετα μοντέλα μετ...             1   \n",
              "198  @PHOENIX07_ @PHOENIX07_ hocamı  takibe başladı...             0   \n",
              "199  Kimin sattığı neden satığı ile ilgilenmiyorum....             7   \n",
              "200  balımdan önce memnuniyet sonra geri dönüş 🌚✨\\n...             7   \n",
              "\n",
              "     num_of_retweet  \n",
              "0                 0  \n",
              "1                 0  \n",
              "2                 0  \n",
              "3                 1  \n",
              "4                 0  \n",
              "..              ...  \n",
              "196               0  \n",
              "197               0  \n",
              "198               0  \n",
              "199               0  \n",
              "200               2  \n",
              "\n",
              "[201 rows x 9 columns]"
            ],
            "text/html": [
              "\n",
              "  <div id=\"df-5939950b-dacf-4f14-84c5-fc54099e6bce\">\n",
              "    <div class=\"colab-df-container\">\n",
              "      <div>\n",
              "<style scoped>\n",
              "    .dataframe tbody tr th:only-of-type {\n",
              "        vertical-align: middle;\n",
              "    }\n",
              "\n",
              "    .dataframe tbody tr th {\n",
              "        vertical-align: top;\n",
              "    }\n",
              "\n",
              "    .dataframe thead th {\n",
              "        text-align: right;\n",
              "    }\n",
              "</style>\n",
              "<table border=\"1\" class=\"dataframe\">\n",
              "  <thead>\n",
              "    <tr style=\"text-align: right;\">\n",
              "      <th></th>\n",
              "      <th>Date</th>\n",
              "      <th>ID</th>\n",
              "      <th>url</th>\n",
              "      <th>username</th>\n",
              "      <th>source</th>\n",
              "      <th>location</th>\n",
              "      <th>tweet</th>\n",
              "      <th>num_of_likes</th>\n",
              "      <th>num_of_retweet</th>\n",
              "    </tr>\n",
              "  </thead>\n",
              "  <tbody>\n",
              "    <tr>\n",
              "      <th>0</th>\n",
              "      <td>2022-12-09 15:57:21+00:00</td>\n",
              "      <td>1601244618997497856</td>\n",
              "      <td>https://twitter.com/BiciciUlas/status/16012446...</td>\n",
              "      <td>BiciciUlas</td>\n",
              "      <td>Twitter for iPhone</td>\n",
              "      <td></td>\n",
              "      <td>@taktikanalist @suatolgunn Tesla seni yakın ta...</td>\n",
              "      <td>1</td>\n",
              "      <td>0</td>\n",
              "    </tr>\n",
              "    <tr>\n",
              "      <th>1</th>\n",
              "      <td>2022-12-09 15:56:43+00:00</td>\n",
              "      <td>1601244458191704066</td>\n",
              "      <td>https://twitter.com/Heran_dogruol/status/16012...</td>\n",
              "      <td>Heran_dogruol</td>\n",
              "      <td>Twitter for Android</td>\n",
              "      <td></td>\n",
              "      <td>@TraderKng @PHOENIX07_ Vestel mi</td>\n",
              "      <td>0</td>\n",
              "      <td>0</td>\n",
              "    </tr>\n",
              "    <tr>\n",
              "      <th>2</th>\n",
              "      <td>2022-12-09 15:55:25+00:00</td>\n",
              "      <td>1601244133930274818</td>\n",
              "      <td>https://twitter.com/DusumuIz/status/1601244133...</td>\n",
              "      <td>DusumuIz</td>\n",
              "      <td>Twitter for iPhone</td>\n",
              "      <td></td>\n",
              "      <td>Ve geldi tarihi kar Mondi tireden 🙊🙈🙉Akşama Av...</td>\n",
              "      <td>1</td>\n",
              "      <td>0</td>\n",
              "    </tr>\n",
              "    <tr>\n",
              "      <th>3</th>\n",
              "      <td>2022-12-09 15:52:56+00:00</td>\n",
              "      <td>1601243509486686208</td>\n",
              "      <td>https://twitter.com/SavasAdalet/status/1601243...</td>\n",
              "      <td>SavasAdalet</td>\n",
              "      <td>Twitter for Android</td>\n",
              "      <td></td>\n",
              "      <td>Bu ambiansı isteyen herkes - \\nbu koltukların ...</td>\n",
              "      <td>2</td>\n",
              "      <td>1</td>\n",
              "    </tr>\n",
              "    <tr>\n",
              "      <th>4</th>\n",
              "      <td>2022-12-09 15:44:15+00:00</td>\n",
              "      <td>1601241322278354945</td>\n",
              "      <td>https://twitter.com/ResuCey/status/16012413222...</td>\n",
              "      <td>ResuCey</td>\n",
              "      <td>Twitter for Android</td>\n",
              "      <td></td>\n",
              "      <td>@investleader20 Vestel'in tahtacısı sen misin ...</td>\n",
              "      <td>0</td>\n",
              "      <td>0</td>\n",
              "    </tr>\n",
              "    <tr>\n",
              "      <th>...</th>\n",
              "      <td>...</td>\n",
              "      <td>...</td>\n",
              "      <td>...</td>\n",
              "      <td>...</td>\n",
              "      <td>...</td>\n",
              "      <td>...</td>\n",
              "      <td>...</td>\n",
              "      <td>...</td>\n",
              "      <td>...</td>\n",
              "    </tr>\n",
              "    <tr>\n",
              "      <th>196</th>\n",
              "      <td>2022-12-08 18:55:03+00:00</td>\n",
              "      <td>1600926952172314624</td>\n",
              "      <td>https://twitter.com/smderya0/status/1600926952...</td>\n",
              "      <td>smderya0</td>\n",
              "      <td>Twitter for iPhone</td>\n",
              "      <td></td>\n",
              "      <td>@trader_tony1 Olmaz mı. Vestel ve ozgyo. Sırf ...</td>\n",
              "      <td>0</td>\n",
              "      <td>0</td>\n",
              "    </tr>\n",
              "    <tr>\n",
              "      <th>197</th>\n",
              "      <td>2022-12-08 18:54:10+00:00</td>\n",
              "      <td>1600926730491146240</td>\n",
              "      <td>https://twitter.com/mrjackdaytona7/status/1600...</td>\n",
              "      <td>mrjackdaytona7</td>\n",
              "      <td>Twitter for Android</td>\n",
              "      <td></td>\n",
              "      <td>@SaintsTolis Μακριά από Lg. Αρκετα μοντέλα μετ...</td>\n",
              "      <td>1</td>\n",
              "      <td>0</td>\n",
              "    </tr>\n",
              "    <tr>\n",
              "      <th>198</th>\n",
              "      <td>2022-12-08 18:46:49+00:00</td>\n",
              "      <td>1600924877258559488</td>\n",
              "      <td>https://twitter.com/Anka4680/status/1600924877...</td>\n",
              "      <td>Anka4680</td>\n",
              "      <td>Twitter for Android</td>\n",
              "      <td></td>\n",
              "      <td>@PHOENIX07_ @PHOENIX07_ hocamı  takibe başladı...</td>\n",
              "      <td>0</td>\n",
              "      <td>0</td>\n",
              "    </tr>\n",
              "    <tr>\n",
              "      <th>199</th>\n",
              "      <td>2022-12-08 18:46:05+00:00</td>\n",
              "      <td>1600924695867817984</td>\n",
              "      <td>https://twitter.com/realist12344/status/160092...</td>\n",
              "      <td>realist12344</td>\n",
              "      <td>Twitter for Android</td>\n",
              "      <td>istanbul</td>\n",
              "      <td>Kimin sattığı neden satığı ile ilgilenmiyorum....</td>\n",
              "      <td>7</td>\n",
              "      <td>0</td>\n",
              "    </tr>\n",
              "    <tr>\n",
              "      <th>200</th>\n",
              "      <td>2022-12-08 18:45:53+00:00</td>\n",
              "      <td>1600924644474699777</td>\n",
              "      <td>https://twitter.com/wicktarot/status/160092464...</td>\n",
              "      <td>wicktarot</td>\n",
              "      <td>Twitter for iPhone</td>\n",
              "      <td>𝑑ℎ𝑎𝑟𝑚𝑎♀</td>\n",
              "      <td>balımdan önce memnuniyet sonra geri dönüş 🌚✨\\n...</td>\n",
              "      <td>7</td>\n",
              "      <td>2</td>\n",
              "    </tr>\n",
              "  </tbody>\n",
              "</table>\n",
              "<p>201 rows × 9 columns</p>\n",
              "</div>\n",
              "      <button class=\"colab-df-convert\" onclick=\"convertToInteractive('df-5939950b-dacf-4f14-84c5-fc54099e6bce')\"\n",
              "              title=\"Convert this dataframe to an interactive table.\"\n",
              "              style=\"display:none;\">\n",
              "        \n",
              "  <svg xmlns=\"http://www.w3.org/2000/svg\" height=\"24px\"viewBox=\"0 0 24 24\"\n",
              "       width=\"24px\">\n",
              "    <path d=\"M0 0h24v24H0V0z\" fill=\"none\"/>\n",
              "    <path d=\"M18.56 5.44l.94 2.06.94-2.06 2.06-.94-2.06-.94-.94-2.06-.94 2.06-2.06.94zm-11 1L8.5 8.5l.94-2.06 2.06-.94-2.06-.94L8.5 2.5l-.94 2.06-2.06.94zm10 10l.94 2.06.94-2.06 2.06-.94-2.06-.94-.94-2.06-.94 2.06-2.06.94z\"/><path d=\"M17.41 7.96l-1.37-1.37c-.4-.4-.92-.59-1.43-.59-.52 0-1.04.2-1.43.59L10.3 9.45l-7.72 7.72c-.78.78-.78 2.05 0 2.83L4 21.41c.39.39.9.59 1.41.59.51 0 1.02-.2 1.41-.59l7.78-7.78 2.81-2.81c.8-.78.8-2.07 0-2.86zM5.41 20L4 18.59l7.72-7.72 1.47 1.35L5.41 20z\"/>\n",
              "  </svg>\n",
              "      </button>\n",
              "      \n",
              "  <style>\n",
              "    .colab-df-container {\n",
              "      display:flex;\n",
              "      flex-wrap:wrap;\n",
              "      gap: 12px;\n",
              "    }\n",
              "\n",
              "    .colab-df-convert {\n",
              "      background-color: #E8F0FE;\n",
              "      border: none;\n",
              "      border-radius: 50%;\n",
              "      cursor: pointer;\n",
              "      display: none;\n",
              "      fill: #1967D2;\n",
              "      height: 32px;\n",
              "      padding: 0 0 0 0;\n",
              "      width: 32px;\n",
              "    }\n",
              "\n",
              "    .colab-df-convert:hover {\n",
              "      background-color: #E2EBFA;\n",
              "      box-shadow: 0px 1px 2px rgba(60, 64, 67, 0.3), 0px 1px 3px 1px rgba(60, 64, 67, 0.15);\n",
              "      fill: #174EA6;\n",
              "    }\n",
              "\n",
              "    [theme=dark] .colab-df-convert {\n",
              "      background-color: #3B4455;\n",
              "      fill: #D2E3FC;\n",
              "    }\n",
              "\n",
              "    [theme=dark] .colab-df-convert:hover {\n",
              "      background-color: #434B5C;\n",
              "      box-shadow: 0px 1px 3px 1px rgba(0, 0, 0, 0.15);\n",
              "      filter: drop-shadow(0px 1px 2px rgba(0, 0, 0, 0.3));\n",
              "      fill: #FFFFFF;\n",
              "    }\n",
              "  </style>\n",
              "\n",
              "      <script>\n",
              "        const buttonEl =\n",
              "          document.querySelector('#df-5939950b-dacf-4f14-84c5-fc54099e6bce button.colab-df-convert');\n",
              "        buttonEl.style.display =\n",
              "          google.colab.kernel.accessAllowed ? 'block' : 'none';\n",
              "\n",
              "        async function convertToInteractive(key) {\n",
              "          const element = document.querySelector('#df-5939950b-dacf-4f14-84c5-fc54099e6bce');\n",
              "          const dataTable =\n",
              "            await google.colab.kernel.invokeFunction('convertToInteractive',\n",
              "                                                     [key], {});\n",
              "          if (!dataTable) return;\n",
              "\n",
              "          const docLinkHtml = 'Like what you see? Visit the ' +\n",
              "            '<a target=\"_blank\" href=https://colab.research.google.com/notebooks/data_table.ipynb>data table notebook</a>'\n",
              "            + ' to learn more about interactive tables.';\n",
              "          element.innerHTML = '';\n",
              "          dataTable['output_type'] = 'display_data';\n",
              "          await google.colab.output.renderOutput(dataTable, element);\n",
              "          const docLink = document.createElement('div');\n",
              "          docLink.innerHTML = docLinkHtml;\n",
              "          element.appendChild(docLink);\n",
              "        }\n",
              "      </script>\n",
              "    </div>\n",
              "  </div>\n",
              "  "
            ]
          },
          "metadata": {},
          "execution_count": 65
        }
      ]
    },
    {
      "cell_type": "code",
      "source": [
        "nltk.download('stopwords')\n",
        "turk_stop_words=list(stopwords.words(\"turkish\"))\n",
        "emoji=list(UNICODE_EMOJI.keys())"
      ],
      "metadata": {
        "colab": {
          "base_uri": "https://localhost:8080/"
        },
        "id": "LyUfbgPybRsq",
        "outputId": "c7a8829c-2419-40f7-94fd-f6977e254d4f"
      },
      "execution_count": null,
      "outputs": [
        {
          "output_type": "stream",
          "name": "stderr",
          "text": [
            "[nltk_data] Downloading package stopwords to /root/nltk_data...\n",
            "[nltk_data]   Package stopwords is already up-to-date!\n"
          ]
        }
      ]
    },
    {
      "cell_type": "code",
      "source": [
        "df[\"location\"]=df[\"location\"].fillna(\"Unknown\")"
      ],
      "metadata": {
        "id": "AnUfAwi4d7uo"
      },
      "execution_count": null,
      "outputs": []
    },
    {
      "cell_type": "code",
      "source": [
        "def ProcessedTweets(text):\n",
        "  text=text.lower()\n",
        "  text=\" \".join(re.sub(\"(@[A-Za-z0-9]+)|(^0-9A-Za-z \\t]) |(\\w+:\\/\\/\\S+)\",\" \",text).split()) \n",
        "  text=re.sub(r'\\@\\w+|\\#\\w+|\\d+', \"\", text)\n",
        "  punct=str.maketrans(\"\",\"\",string.punctuation+string.digits)\n",
        "  text=text.translate(punct)\n",
        "  tokens=word_tokenize(text)\n",
        "  filtered_words=[w for w in tokens if w not in turk_stop_words]\n",
        "  filtered_words=[w for w in filtered_words if w not in emoji]\n",
        "  lemmatizer=WordNetLemmatizer()\n",
        "  lemma_words=[lemmatizer.lemmatize(w) for w in filtered_words]\n",
        "  text=\" \".join(lemma_words)\n",
        "  return text\n",
        "\n",
        "\n",
        "\n",
        "\n",
        "\n",
        "\n"
      ],
      "metadata": {
        "id": "D5kMQoAOT2XV"
      },
      "execution_count": null,
      "outputs": []
    },
    {
      "cell_type": "code",
      "source": [
        "tokenizer = nltk.data.load('nltk:tokenizers/punkt/turkish.pickle')\n",
        "nltk.download('wordnet')\n",
        "nltk.download('punkt')\n",
        "nltk.download('omw-1.4')\n",
        "df[\"Processed_Tweets\"]=df[\"tweet\"].apply(ProcessedTweets)"
      ],
      "metadata": {
        "colab": {
          "base_uri": "https://localhost:8080/"
        },
        "id": "hN7oXpcLT70h",
        "outputId": "f864da6f-8c88-433a-a338-d65a878bca6e"
      },
      "execution_count": null,
      "outputs": [
        {
          "output_type": "stream",
          "name": "stderr",
          "text": [
            "[nltk_data] Downloading package wordnet to /root/nltk_data...\n",
            "[nltk_data]   Package wordnet is already up-to-date!\n",
            "[nltk_data] Downloading package punkt to /root/nltk_data...\n",
            "[nltk_data]   Package punkt is already up-to-date!\n",
            "[nltk_data] Downloading package omw-1.4 to /root/nltk_data...\n",
            "[nltk_data]   Package omw-1.4 is already up-to-date!\n"
          ]
        }
      ]
    },
    {
      "cell_type": "code",
      "source": [
        "df[\"Processed_Tweets\"]"
      ],
      "metadata": {
        "colab": {
          "base_uri": "https://localhost:8080/"
        },
        "id": "klBxMqshklLS",
        "outputId": "4c70b7a4-62fc-4285-9efd-efba8fdabc38"
      },
      "execution_count": null,
      "outputs": [
        {
          "output_type": "execute_result",
          "data": {
            "text/plain": [
              "0      tesla seni yakın takibe aldım dostum güzel tem...\n",
              "1                                              vestel mi\n",
              "2      geldi tarihi kar mondi tireden 🙊🙈🙉akşama avust...\n",
              "3      ambiansı isteyen herkes koltukların kaça satıl...\n",
              "4              vestelin tahtacısı sen misin cidden söyle\n",
              "                             ...                        \n",
              "196                   tony olmaz vestel ozgyo sırf zarar\n",
              "197    μακριά από lg αρκετα μοντέλα μετά από χρόνια π...\n",
              "198    hocamı takibe başladıktan sonra benim bildigim...\n",
              "199    kimin sattığı satığı ilgilenmiyorum önce hisse...\n",
              "200    balımdan önce memnuniyet sonra geri dönüş 🌚✨ •...\n",
              "Name: Processed_Tweets, Length: 201, dtype: object"
            ]
          },
          "metadata": {},
          "execution_count": 70
        }
      ]
    },
    {
      "cell_type": "code",
      "source": [
        "def polarity(tweet):\n",
        "  return TextBlob(tweet).sentiment.polarity\n",
        "def sentimenttextblob(polarity):\n",
        "  if polarity<0:\n",
        "    return \"Negative\"\n",
        "  elif polarity==0:\n",
        "    return \"Neutral\"\n",
        "  else:\n",
        "    return \"Positive\"\n"
      ],
      "metadata": {
        "id": "zT0-OGdNkq6O"
      },
      "execution_count": null,
      "outputs": []
    },
    {
      "cell_type": "code",
      "source": [
        "df[\"Polarity\"]=df[\"Processed_Tweets\"].apply(polarity)\n",
        "df[\"Sentiment\"]=df[\"Polarity\"].apply(sentimenttextblob)\n",
        "sent=df[\"Sentiment\"].value_counts()\n",
        "sent\n"
      ],
      "metadata": {
        "colab": {
          "base_uri": "https://localhost:8080/"
        },
        "id": "W-CnhQAEltzF",
        "outputId": "89229f4a-cf93-4798-b7ca-7b8f044fe39d"
      },
      "execution_count": null,
      "outputs": [
        {
          "output_type": "execute_result",
          "data": {
            "text/plain": [
              "Neutral     191\n",
              "Positive      8\n",
              "Negative      2\n",
              "Name: Sentiment, dtype: int64"
            ]
          },
          "metadata": {},
          "execution_count": 72
        }
      ]
    },
    {
      "cell_type": "code",
      "source": [
        "from sklearn.model_selection import train_test_split\n",
        "df = df[\"Processed_Tweets\"].values.tolist()\n",
        "sentiment = df['Sentiment'].values.tolist()\n",
        "x_train, x_test, y_train, y_test = train_test_split(df,sentiment,test_size = 0.2, random_state = 42)"
      ],
      "metadata": {
        "colab": {
          "base_uri": "https://localhost:8080/",
          "height": 217
        },
        "id": "DOksyHqfoF0N",
        "outputId": "1beada5b-13ce-4ff7-aba5-b2aa22850b73"
      },
      "execution_count": null,
      "outputs": [
        {
          "output_type": "error",
          "ename": "TypeError",
          "evalue": "ignored",
          "traceback": [
            "\u001b[0;31m---------------------------------------------------------------------------\u001b[0m",
            "\u001b[0;31mTypeError\u001b[0m                                 Traceback (most recent call last)",
            "\u001b[0;32m<ipython-input-74-98917cda7b9a>\u001b[0m in \u001b[0;36m<module>\u001b[0;34m\u001b[0m\n\u001b[1;32m      1\u001b[0m \u001b[0;32mfrom\u001b[0m \u001b[0msklearn\u001b[0m\u001b[0;34m.\u001b[0m\u001b[0mmodel_selection\u001b[0m \u001b[0;32mimport\u001b[0m \u001b[0mtrain_test_split\u001b[0m\u001b[0;34m\u001b[0m\u001b[0;34m\u001b[0m\u001b[0m\n\u001b[0;32m----> 2\u001b[0;31m \u001b[0mdf\u001b[0m \u001b[0;34m=\u001b[0m \u001b[0mdf\u001b[0m\u001b[0;34m[\u001b[0m\u001b[0;34m\"Processed_Tweets\"\u001b[0m\u001b[0;34m]\u001b[0m\u001b[0;34m.\u001b[0m\u001b[0mvalues\u001b[0m\u001b[0;34m.\u001b[0m\u001b[0mtolist\u001b[0m\u001b[0;34m(\u001b[0m\u001b[0;34m)\u001b[0m\u001b[0;34m\u001b[0m\u001b[0;34m\u001b[0m\u001b[0m\n\u001b[0m\u001b[1;32m      3\u001b[0m \u001b[0msentiment\u001b[0m \u001b[0;34m=\u001b[0m \u001b[0mdf\u001b[0m\u001b[0;34m[\u001b[0m\u001b[0;34m'Sentiment'\u001b[0m\u001b[0;34m]\u001b[0m\u001b[0;34m.\u001b[0m\u001b[0mvalues\u001b[0m\u001b[0;34m.\u001b[0m\u001b[0mtolist\u001b[0m\u001b[0;34m(\u001b[0m\u001b[0;34m)\u001b[0m\u001b[0;34m\u001b[0m\u001b[0;34m\u001b[0m\u001b[0m\n\u001b[1;32m      4\u001b[0m \u001b[0mx_train\u001b[0m\u001b[0;34m,\u001b[0m \u001b[0mx_test\u001b[0m\u001b[0;34m,\u001b[0m \u001b[0my_train\u001b[0m\u001b[0;34m,\u001b[0m \u001b[0my_test\u001b[0m \u001b[0;34m=\u001b[0m \u001b[0mtrain_test_split\u001b[0m\u001b[0;34m(\u001b[0m\u001b[0mdf\u001b[0m\u001b[0;34m,\u001b[0m\u001b[0msentiment\u001b[0m\u001b[0;34m,\u001b[0m\u001b[0mtest_size\u001b[0m \u001b[0;34m=\u001b[0m \u001b[0;36m0.2\u001b[0m\u001b[0;34m,\u001b[0m \u001b[0mrandom_state\u001b[0m \u001b[0;34m=\u001b[0m \u001b[0;36m42\u001b[0m\u001b[0;34m)\u001b[0m\u001b[0;34m\u001b[0m\u001b[0;34m\u001b[0m\u001b[0m\n",
            "\u001b[0;31mTypeError\u001b[0m: list indices must be integers or slices, not str"
          ]
        }
      ]
    }
  ]
}