{
  "nbformat": 4,
  "nbformat_minor": 0,
  "metadata": {
    "colab": {
      "provenance": [],
      "authorship_tag": "ABX9TyMT2jAtSWNmF6NgUUEGTkyZ",
      "include_colab_link": true
    },
    "kernelspec": {
      "name": "python3",
      "display_name": "Python 3"
    },
    "language_info": {
      "name": "python"
    }
  },
  "cells": [
    {
      "cell_type": "markdown",
      "metadata": {
        "id": "view-in-github",
        "colab_type": "text"
      },
      "source": [
        "<a href=\"https://colab.research.google.com/github/Berkay86/DeepPerson/blob/main/Design.ipynb\" target=\"_parent\"><img src=\"https://colab.research.google.com/assets/colab-badge.svg\" alt=\"Open In Colab\"/></a>"
      ]
    },
    {
      "cell_type": "code",
      "execution_count": 19,
      "metadata": {
        "id": "b3nDtxAV1ZOP",
        "colab": {
          "base_uri": "https://localhost:8080/"
        },
        "outputId": "c088d50a-8a13-4152-ccf5-956451530ae4"
      },
      "outputs": [
        {
          "name": "stdout",
          "output_type": "stream",
          "text": [
            "Değer giriniz5\n",
            "Lütfen [0, 0] indeksindeki değeri girin: 7\n",
            "Lütfen [0, 1] indeksindeki değeri girin: 7\n",
            "Lütfen [0, 2] indeksindeki değeri girin: 15\n",
            "Lütfen [0, 3] indeksindeki değeri girin: 11\n",
            "Lütfen [0, 4] indeksindeki değeri girin: 9\n",
            "Lütfen [1, 0] indeksindeki değeri girin: 12\n",
            "Lütfen [1, 1] indeksindeki değeri girin: 17\n",
            "Lütfen [1, 2] indeksindeki değeri girin: 12\n",
            "Lütfen [1, 3] indeksindeki değeri girin: 18\n",
            "Lütfen [1, 4] indeksindeki değeri girin: 18\n",
            "Lütfen [2, 0] indeksindeki değeri girin: 14\n",
            "Lütfen [2, 1] indeksindeki değeri girin: 18\n",
            "Lütfen [2, 2] indeksindeki değeri girin: 18\n",
            "Lütfen [2, 3] indeksindeki değeri girin: 19\n",
            "Lütfen [2, 4] indeksindeki değeri girin: 19\n",
            "Lütfen [3, 0] indeksindeki değeri girin: 19\n",
            "Lütfen [3, 1] indeksindeki değeri girin: 25\n",
            "Lütfen [3, 2] indeksindeki değeri girin: 22\n",
            "Lütfen [3, 3] indeksindeki değeri girin: 19\n",
            "Lütfen [3, 4] indeksindeki değeri girin: 23\n",
            "Lütfen [4, 0] indeksindeki değeri girin: 7\n",
            "Lütfen [4, 1] indeksindeki değeri girin: 10\n",
            "Lütfen [4, 2] indeksindeki değeri girin: 11\n",
            "Lütfen [4, 3] indeksindeki değeri girin: 15\n",
            "Lütfen [4, 4] indeksindeki değeri girin: 11\n"
          ]
        }
      ],
      "source": [
        "import numpy as np\n",
        "n=int(input(\"Değer giriniz\"))\n",
        "gozlemler = np.zeros((n, n))\n",
        "for i in range(n):\n",
        "  for j in range(n):\n",
        "        gozlemler[i][j] = float(input(\"Lütfen [{}, {}] indeksindeki değeri girin: \".format(i, j)))\n",
        "\n",
        "\n"
      ]
    },
    {
      "cell_type": "code",
      "source": [
        "gozlemler"
      ],
      "metadata": {
        "id": "dRCY_PoTMfvh",
        "outputId": "586426aa-ed5a-498a-e1b6-dd75b7f1a43d",
        "colab": {
          "base_uri": "https://localhost:8080/"
        }
      },
      "execution_count": 20,
      "outputs": [
        {
          "output_type": "execute_result",
          "data": {
            "text/plain": [
              "array([[ 7.,  7., 15., 11.,  9.],\n",
              "       [12., 17., 12., 18., 18.],\n",
              "       [14., 18., 18., 19., 19.],\n",
              "       [19., 25., 22., 19., 23.],\n",
              "       [ 7., 10., 11., 15., 11.]])"
            ]
          },
          "metadata": {},
          "execution_count": 20
        }
      ]
    },
    {
      "cell_type": "code",
      "source": [
        "satir_toplamlari = np.sum(gozlemler, axis=1)\n",
        "satir_ortalamalari = np.mean(gozlemler, axis=1)\n",
        "satir_toplamlarinın_toplami = np.sum(np.sum(gozlemler, axis=0))\n",
        "satir_ortalamalari_ortalamasi = np.mean(satir_ortalamalari, axis=0)\n",
        "print(satir_toplamlari)\n",
        "print(satir_ortalamalari)\n",
        "print(satir_toplamlarinın_toplami )\n",
        "print(satir_ortalamalari_ortalamasi )\n"
      ],
      "metadata": {
        "colab": {
          "base_uri": "https://localhost:8080/"
        },
        "id": "NDRQaWB48H6D",
        "outputId": "9e7292b4-5606-4875-e480-b41e2bb8330c"
      },
      "execution_count": 33,
      "outputs": [
        {
          "output_type": "stream",
          "name": "stdout",
          "text": [
            "[ 49.  77.  88. 108.  54.]\n",
            "[ 9.8 15.4 17.6 21.6 10.8]\n",
            "376.0\n",
            "15.040000000000001\n"
          ]
        }
      ]
    },
    {
      "cell_type": "code",
      "source": [
        "satir_toplamlari = np.sum(gozlemler, axis=1)\n",
        "satir_ortalamalari = np.mean(gozlemler, axis=1)\n",
        "satir_toplamlarinın_toplami = np.sum(np.sum(gozlemler, axis=0))\n",
        "satir_ortalamalari_ortalamasi = np.mean(satir_ortalamalari, axis=0)\n",
        "print(satir_toplamlari)\n",
        "print(satir_ortalamalari)\n",
        "print(satir_toplamlarinın_toplami )\n",
        "print(satir_ortalamalari_ortalamasi )\n"
      ],
      "metadata": {
        "colab": {
          "base_uri": "https://localhost:8080/"
        },
        "outputId": "9e7292b4-5606-4875-e480-b41e2bb8330c",
        "id": "uSMexDMxPDuV"
      },
      "execution_count": null,
      "outputs": [
        {
          "output_type": "stream",
          "name": "stdout",
          "text": [
            "[ 49.  77.  88. 108.  54.]\n",
            "[ 9.8 15.4 17.6 21.6 10.8]\n",
            "376.0\n",
            "15.040000000000001\n"
          ]
        }
      ]
    },
    {
      "cell_type": "code",
      "source": [
        "import scipy.stats as stats\n",
        "SST=np.sum(np.square(gozlemler))-(satir_toplamlarinın_toplami**2)/(n**2)\n",
        "SSB=np.sum(np.square(satir_toplamlari)/n)-(satir_toplamlarinın_toplami**2)/(n**2)\n",
        "SSW=SST-SSB\n",
        "dfb=n-1\n",
        "dfw=n**2-n\n",
        "dftotal=n**2-1\n",
        "MSB=SSB/dfb\n",
        "MSW=SSW/dfw\n",
        "F=MSB/MSW\n",
        "print(SST)\n",
        "print(SSB)\n",
        "print(SSW)\n",
        "print(dfb)\n",
        "print(dfw)\n",
        "print(dftotal)\n",
        "print(MSB)\n",
        "print(MSW)\n",
        "print(F)\n",
        "f_value = stats.f.ppf(q=1-0.05, dfn=dfb, dfd=dfw)\n",
        "print(f_value)"
      ],
      "metadata": {
        "id": "XYQv0ONDL87C",
        "outputId": "15bbe7aa-2aaf-4174-b055-d63804d3121f",
        "colab": {
          "base_uri": "https://localhost:8080/"
        }
      },
      "execution_count": 63,
      "outputs": [
        {
          "output_type": "stream",
          "name": "stdout",
          "text": [
            "636.96\n",
            "475.7600000000002\n",
            "161.19999999999982\n",
            "4\n",
            "20\n",
            "24\n",
            "118.94000000000005\n",
            "8.059999999999992\n",
            "14.756823821339973\n",
            "2.8660814020156584\n"
          ]
        }
      ]
    },
    {
      "cell_type": "code",
      "source": [
        "import scipy.stats as stats\n",
        "\n",
        "# İki grup arasındaki varyansların karşılaştırılması\n",
        "f_value, p_value = stats.f_oneway(group1, group2)\n"
      ],
      "metadata": {
        "id": "2V8GKTJON_pa",
        "outputId": "fb135acc-b95b-42b8-99f7-237326f0759a",
        "colab": {
          "base_uri": "https://localhost:8080/"
        }
      },
      "execution_count": 56,
      "outputs": [
        {
          "output_type": "stream",
          "name": "stdout",
          "text": [
            "1\n"
          ]
        }
      ]
    },
    {
      "cell_type": "code",
      "source": [],
      "metadata": {
        "id": "U54aa8nqOAsS",
        "outputId": "14036a91-50e0-4d57-832a-b983bd0703b7",
        "colab": {
          "base_uri": "https://localhost:8080/"
        }
      },
      "execution_count": 57,
      "outputs": [
        {
          "output_type": "execute_result",
          "data": {
            "text/plain": [
              "5"
            ]
          },
          "metadata": {},
          "execution_count": 57
        }
      ]
    }
  ]
}