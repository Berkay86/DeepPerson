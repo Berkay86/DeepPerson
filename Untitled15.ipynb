{
  "nbformat": 4,
  "nbformat_minor": 0,
  "metadata": {
    "colab": {
      "provenance": [],
      "authorship_tag": "ABX9TyMZTj7radG/6eGPLfB7DHVW",
      "include_colab_link": true
    },
    "kernelspec": {
      "name": "python3",
      "display_name": "Python 3"
    },
    "language_info": {
      "name": "python"
    }
  },
  "cells": [
    {
      "cell_type": "markdown",
      "metadata": {
        "id": "view-in-github",
        "colab_type": "text"
      },
      "source": [
        "<a href=\"https://colab.research.google.com/github/Berkay86/DeepPerson/blob/main/Untitled15.ipynb\" target=\"_parent\"><img src=\"https://colab.research.google.com/assets/colab-badge.svg\" alt=\"Open In Colab\"/></a>"
      ]
    },
    {
      "cell_type": "code",
      "execution_count": 68,
      "metadata": {
        "id": "-d5kOMWc8eag"
      },
      "outputs": [],
      "source": [
        "import numpy as np\n",
        "import pandas as pd\n",
        "import matplotlib.pyplot as plt\n",
        "from scipy.cluster.hierarchy import dendrogram, linkage\n",
        "from sklearn.cluster import AgglomerativeClustering\n"
      ]
    },
    {
      "cell_type": "code",
      "source": [
        "onnumara = pd.read_excel('onnumara2.xlsx')[::2] \n",
        "onnumara.head()"
      ],
      "metadata": {
        "colab": {
          "base_uri": "https://localhost:8080/",
          "height": 299
        },
        "id": "1GNUOhfz8qOL",
        "outputId": "ef3d3efd-7b90-4baf-c4b2-699f47bcb60a"
      },
      "execution_count": 73,
      "outputs": [
        {
          "output_type": "execute_result",
          "data": {
            "text/plain": [
              "   Hafta  Gun  Ay   Yıl  Bir  İki  Uc  Dort  Bes  Alti  ...  Onuc  Ondort  \\\n",
              "0     81   10  10  2022    1    2  11    13   17    18  ...    46      48   \n",
              "2     79    3  10  2022    4    6   7     8   11    18  ...    48      51   \n",
              "4     77   26   9  2022    5   14  16    18   28    29  ...    43      47   \n",
              "6     75   19   9  2022    1    6   8     9   12    16  ...    42      49   \n",
              "8     73   12   9  2022    2    6   7    12   20    21  ...    46      49   \n",
              "\n",
              "   Onbes  Onaltı  Onyedi  Onsekiz  Ondokuz  Yirmi  Yirmibir  Yirmiki  \n",
              "0     49      50      51       53       54     61        71       78  \n",
              "2     53      55      57       62       73     75        76       79  \n",
              "4     50      54      57       59       60     70        72       75  \n",
              "6     55      56      61       62       64     68        72       77  \n",
              "8     53      62      69       73       74     76        77       80  \n",
              "\n",
              "[5 rows x 26 columns]"
            ],
            "text/html": [
              "\n",
              "  <div id=\"df-946c10cd-c602-4edd-ab0c-11ca5ae254f5\">\n",
              "    <div class=\"colab-df-container\">\n",
              "      <div>\n",
              "<style scoped>\n",
              "    .dataframe tbody tr th:only-of-type {\n",
              "        vertical-align: middle;\n",
              "    }\n",
              "\n",
              "    .dataframe tbody tr th {\n",
              "        vertical-align: top;\n",
              "    }\n",
              "\n",
              "    .dataframe thead th {\n",
              "        text-align: right;\n",
              "    }\n",
              "</style>\n",
              "<table border=\"1\" class=\"dataframe\">\n",
              "  <thead>\n",
              "    <tr style=\"text-align: right;\">\n",
              "      <th></th>\n",
              "      <th>Hafta</th>\n",
              "      <th>Gun</th>\n",
              "      <th>Ay</th>\n",
              "      <th>Yıl</th>\n",
              "      <th>Bir</th>\n",
              "      <th>İki</th>\n",
              "      <th>Uc</th>\n",
              "      <th>Dort</th>\n",
              "      <th>Bes</th>\n",
              "      <th>Alti</th>\n",
              "      <th>...</th>\n",
              "      <th>Onuc</th>\n",
              "      <th>Ondort</th>\n",
              "      <th>Onbes</th>\n",
              "      <th>Onaltı</th>\n",
              "      <th>Onyedi</th>\n",
              "      <th>Onsekiz</th>\n",
              "      <th>Ondokuz</th>\n",
              "      <th>Yirmi</th>\n",
              "      <th>Yirmibir</th>\n",
              "      <th>Yirmiki</th>\n",
              "    </tr>\n",
              "  </thead>\n",
              "  <tbody>\n",
              "    <tr>\n",
              "      <th>0</th>\n",
              "      <td>81</td>\n",
              "      <td>10</td>\n",
              "      <td>10</td>\n",
              "      <td>2022</td>\n",
              "      <td>1</td>\n",
              "      <td>2</td>\n",
              "      <td>11</td>\n",
              "      <td>13</td>\n",
              "      <td>17</td>\n",
              "      <td>18</td>\n",
              "      <td>...</td>\n",
              "      <td>46</td>\n",
              "      <td>48</td>\n",
              "      <td>49</td>\n",
              "      <td>50</td>\n",
              "      <td>51</td>\n",
              "      <td>53</td>\n",
              "      <td>54</td>\n",
              "      <td>61</td>\n",
              "      <td>71</td>\n",
              "      <td>78</td>\n",
              "    </tr>\n",
              "    <tr>\n",
              "      <th>2</th>\n",
              "      <td>79</td>\n",
              "      <td>3</td>\n",
              "      <td>10</td>\n",
              "      <td>2022</td>\n",
              "      <td>4</td>\n",
              "      <td>6</td>\n",
              "      <td>7</td>\n",
              "      <td>8</td>\n",
              "      <td>11</td>\n",
              "      <td>18</td>\n",
              "      <td>...</td>\n",
              "      <td>48</td>\n",
              "      <td>51</td>\n",
              "      <td>53</td>\n",
              "      <td>55</td>\n",
              "      <td>57</td>\n",
              "      <td>62</td>\n",
              "      <td>73</td>\n",
              "      <td>75</td>\n",
              "      <td>76</td>\n",
              "      <td>79</td>\n",
              "    </tr>\n",
              "    <tr>\n",
              "      <th>4</th>\n",
              "      <td>77</td>\n",
              "      <td>26</td>\n",
              "      <td>9</td>\n",
              "      <td>2022</td>\n",
              "      <td>5</td>\n",
              "      <td>14</td>\n",
              "      <td>16</td>\n",
              "      <td>18</td>\n",
              "      <td>28</td>\n",
              "      <td>29</td>\n",
              "      <td>...</td>\n",
              "      <td>43</td>\n",
              "      <td>47</td>\n",
              "      <td>50</td>\n",
              "      <td>54</td>\n",
              "      <td>57</td>\n",
              "      <td>59</td>\n",
              "      <td>60</td>\n",
              "      <td>70</td>\n",
              "      <td>72</td>\n",
              "      <td>75</td>\n",
              "    </tr>\n",
              "    <tr>\n",
              "      <th>6</th>\n",
              "      <td>75</td>\n",
              "      <td>19</td>\n",
              "      <td>9</td>\n",
              "      <td>2022</td>\n",
              "      <td>1</td>\n",
              "      <td>6</td>\n",
              "      <td>8</td>\n",
              "      <td>9</td>\n",
              "      <td>12</td>\n",
              "      <td>16</td>\n",
              "      <td>...</td>\n",
              "      <td>42</td>\n",
              "      <td>49</td>\n",
              "      <td>55</td>\n",
              "      <td>56</td>\n",
              "      <td>61</td>\n",
              "      <td>62</td>\n",
              "      <td>64</td>\n",
              "      <td>68</td>\n",
              "      <td>72</td>\n",
              "      <td>77</td>\n",
              "    </tr>\n",
              "    <tr>\n",
              "      <th>8</th>\n",
              "      <td>73</td>\n",
              "      <td>12</td>\n",
              "      <td>9</td>\n",
              "      <td>2022</td>\n",
              "      <td>2</td>\n",
              "      <td>6</td>\n",
              "      <td>7</td>\n",
              "      <td>12</td>\n",
              "      <td>20</td>\n",
              "      <td>21</td>\n",
              "      <td>...</td>\n",
              "      <td>46</td>\n",
              "      <td>49</td>\n",
              "      <td>53</td>\n",
              "      <td>62</td>\n",
              "      <td>69</td>\n",
              "      <td>73</td>\n",
              "      <td>74</td>\n",
              "      <td>76</td>\n",
              "      <td>77</td>\n",
              "      <td>80</td>\n",
              "    </tr>\n",
              "  </tbody>\n",
              "</table>\n",
              "<p>5 rows × 26 columns</p>\n",
              "</div>\n",
              "      <button class=\"colab-df-convert\" onclick=\"convertToInteractive('df-946c10cd-c602-4edd-ab0c-11ca5ae254f5')\"\n",
              "              title=\"Convert this dataframe to an interactive table.\"\n",
              "              style=\"display:none;\">\n",
              "        \n",
              "  <svg xmlns=\"http://www.w3.org/2000/svg\" height=\"24px\"viewBox=\"0 0 24 24\"\n",
              "       width=\"24px\">\n",
              "    <path d=\"M0 0h24v24H0V0z\" fill=\"none\"/>\n",
              "    <path d=\"M18.56 5.44l.94 2.06.94-2.06 2.06-.94-2.06-.94-.94-2.06-.94 2.06-2.06.94zm-11 1L8.5 8.5l.94-2.06 2.06-.94-2.06-.94L8.5 2.5l-.94 2.06-2.06.94zm10 10l.94 2.06.94-2.06 2.06-.94-2.06-.94-.94-2.06-.94 2.06-2.06.94z\"/><path d=\"M17.41 7.96l-1.37-1.37c-.4-.4-.92-.59-1.43-.59-.52 0-1.04.2-1.43.59L10.3 9.45l-7.72 7.72c-.78.78-.78 2.05 0 2.83L4 21.41c.39.39.9.59 1.41.59.51 0 1.02-.2 1.41-.59l7.78-7.78 2.81-2.81c.8-.78.8-2.07 0-2.86zM5.41 20L4 18.59l7.72-7.72 1.47 1.35L5.41 20z\"/>\n",
              "  </svg>\n",
              "      </button>\n",
              "      \n",
              "  <style>\n",
              "    .colab-df-container {\n",
              "      display:flex;\n",
              "      flex-wrap:wrap;\n",
              "      gap: 12px;\n",
              "    }\n",
              "\n",
              "    .colab-df-convert {\n",
              "      background-color: #E8F0FE;\n",
              "      border: none;\n",
              "      border-radius: 50%;\n",
              "      cursor: pointer;\n",
              "      display: none;\n",
              "      fill: #1967D2;\n",
              "      height: 32px;\n",
              "      padding: 0 0 0 0;\n",
              "      width: 32px;\n",
              "    }\n",
              "\n",
              "    .colab-df-convert:hover {\n",
              "      background-color: #E2EBFA;\n",
              "      box-shadow: 0px 1px 2px rgba(60, 64, 67, 0.3), 0px 1px 3px 1px rgba(60, 64, 67, 0.15);\n",
              "      fill: #174EA6;\n",
              "    }\n",
              "\n",
              "    [theme=dark] .colab-df-convert {\n",
              "      background-color: #3B4455;\n",
              "      fill: #D2E3FC;\n",
              "    }\n",
              "\n",
              "    [theme=dark] .colab-df-convert:hover {\n",
              "      background-color: #434B5C;\n",
              "      box-shadow: 0px 1px 3px 1px rgba(0, 0, 0, 0.15);\n",
              "      filter: drop-shadow(0px 1px 2px rgba(0, 0, 0, 0.3));\n",
              "      fill: #FFFFFF;\n",
              "    }\n",
              "  </style>\n",
              "\n",
              "      <script>\n",
              "        const buttonEl =\n",
              "          document.querySelector('#df-946c10cd-c602-4edd-ab0c-11ca5ae254f5 button.colab-df-convert');\n",
              "        buttonEl.style.display =\n",
              "          google.colab.kernel.accessAllowed ? 'block' : 'none';\n",
              "\n",
              "        async function convertToInteractive(key) {\n",
              "          const element = document.querySelector('#df-946c10cd-c602-4edd-ab0c-11ca5ae254f5');\n",
              "          const dataTable =\n",
              "            await google.colab.kernel.invokeFunction('convertToInteractive',\n",
              "                                                     [key], {});\n",
              "          if (!dataTable) return;\n",
              "\n",
              "          const docLinkHtml = 'Like what you see? Visit the ' +\n",
              "            '<a target=\"_blank\" href=https://colab.research.google.com/notebooks/data_table.ipynb>data table notebook</a>'\n",
              "            + ' to learn more about interactive tables.';\n",
              "          element.innerHTML = '';\n",
              "          dataTable['output_type'] = 'display_data';\n",
              "          await google.colab.output.renderOutput(dataTable, element);\n",
              "          const docLink = document.createElement('div');\n",
              "          docLink.innerHTML = docLinkHtml;\n",
              "          element.appendChild(docLink);\n",
              "        }\n",
              "      </script>\n",
              "    </div>\n",
              "  </div>\n",
              "  "
            ]
          },
          "metadata": {},
          "execution_count": 73
        }
      ]
    },
    {
      "cell_type": "code",
      "source": [
        "veri=onnumara[[\"Gun\",\"Ay\",\"Yıl\",\"Bir\",\"İki\",\"Uc\",\"Dort\",\"Bes\",\"Alti\",\"Yedi\",\"Sekiz\",\"Dokuz\",\"On\",\"Onbir\",\"Oniki\",\"Onuc\",\"Ondort\",\"Onbes\",\"Onaltı\",\"Onyedi\",\"Onsekiz\",\"Ondokuz\",\"Yirmi\",\"Yirmibir\",\"Yirmiki\"]]\n"
      ],
      "metadata": {
        "id": "52ncGEa39UiS"
      },
      "execution_count": 70,
      "outputs": []
    },
    {
      "cell_type": "code",
      "source": [
        "plt.figure(figsize=(10, 7))\n",
        "plt.scatter(veri.Gun, veri.İki)\n",
        "plt.xlabel(\"Gun\", fontsize=20)\n",
        "plt.ylabel(\"Bir\", fontsize=20)\n",
        "plt.show()"
      ],
      "metadata": {
        "colab": {
          "base_uri": "https://localhost:8080/",
          "height": 451
        },
        "id": "GWZTXeaQ9d04",
        "outputId": "3d5e707a-49c3-4ac1-a8e4-bf0f43e8f384"
      },
      "execution_count": 93,
      "outputs": [
        {
          "output_type": "display_data",
          "data": {
            "text/plain": [
              "<Figure size 720x504 with 1 Axes>"
            ],
            "image/png": "[encoded data removed]"
          },
          "metadata": {
            "needs_background": "light"
          }
        }
      ]
    },
    {
      "cell_type": "code",
      "source": [
        "import pandas as pd\n",
        "from matplotlib import pyplot as plt\n",
        "import seaborn as sns\n",
        "sns.lmplot(x='Bir', y='Uc', data=onnumara,\n",
        "           fit_reg=False, \n",
        "           hue='Ay')\n",
        " \n",
        "# Matplotlib ile eksen sınırlarını belirleme\n",
        "plt.ylim(0, None)\n",
        "plt.xlim(0, None)"
      ],
      "metadata": {
        "colab": {
          "base_uri": "https://localhost:8080/",
          "height": 386
        },
        "id": "E_Krt02U5KKr",
        "outputId": "1375f357-467b-41db-94ea-7e176fe8c997"
      },
      "execution_count": 123,
      "outputs": [
        {
          "output_type": "execute_result",
          "data": {
            "text/plain": [
              "(0.0, 20.95)"
            ]
          },
          "metadata": {},
          "execution_count": 123
        },
        {
          "output_type": "display_data",
          "data": {
            "text/plain": [
              "<Figure size 408.75x360 with 1 Axes>"
            ],
            "image/png": "[encoded data removed]"
          },
          "metadata": {
            "needs_background": "light"
          }
        }
      ]
    },
    {
      "cell_type": "code",
      "source": [
        "sns.swarmplot(x = 'Gun', y = \"Bir\", data = veri.Bir, palette=pkmn_type_colors)"
      ],
      "metadata": {
        "colab": {
          "base_uri": "https://localhost:8080/",
          "height": 165
        },
        "id": "KowaMAtL98S5",
        "outputId": "e36221c9-a8f2-4e00-f118-73c785e38f3e"
      },
      "execution_count": 124,
      "outputs": [
        {
          "output_type": "error",
          "ename": "NameError",
          "evalue": "ignored",
          "traceback": [
            "\u001b[0;31m---------------------------------------------------------------------------\u001b[0m",
            "\u001b[0;31mNameError\u001b[0m                                 Traceback (most recent call last)",
            "\u001b[0;32m<ipython-input-124-a543aa923d7c>\u001b[0m in \u001b[0;36m<module>\u001b[0;34m\u001b[0m\n\u001b[0;32m----> 1\u001b[0;31m \u001b[0msns\u001b[0m\u001b[0;34m.\u001b[0m\u001b[0mswarmplot\u001b[0m\u001b[0;34m(\u001b[0m\u001b[0mx\u001b[0m \u001b[0;34m=\u001b[0m \u001b[0;34m'Gun'\u001b[0m\u001b[0;34m,\u001b[0m \u001b[0my\u001b[0m \u001b[0;34m=\u001b[0m \u001b[0;34m\"Bir\"\u001b[0m\u001b[0;34m,\u001b[0m \u001b[0mdata\u001b[0m \u001b[0;34m=\u001b[0m \u001b[0mveri\u001b[0m\u001b[0;34m.\u001b[0m\u001b[0mBir\u001b[0m\u001b[0;34m,\u001b[0m \u001b[0mpalette\u001b[0m\u001b[0;34m=\u001b[0m\u001b[0mpkmn_type_colors\u001b[0m\u001b[0;34m)\u001b[0m\u001b[0;34m\u001b[0m\u001b[0;34m\u001b[0m\u001b[0m\n\u001b[0m",
            "\u001b[0;31mNameError\u001b[0m: name 'pkmn_type_colors' is not defined"
          ]
        }
      ]
    },
    {
      "cell_type": "markdown",
      "source": [
        "Örnek: 1 3 + 2 3 + 3 3 + 4 3 + …….+ n 3 serisinin toplamını n. terime kadar yazdıran Python kodu"
      ],
      "metadata": {
        "id": "iSIOiRfd9lrc"
      }
    },
    {
      "cell_type": "code",
      "source": [
        "n=int(input(\"n.terimi Seçiniz: \"))\n",
        "toplam=0\n",
        "for i in range(1,n+1):\n",
        "  toplam+=(i**3)\n",
        "  \n",
        "  \n",
        "print(f\"Toplam:{toplam}\")\n",
        "\n"
      ],
      "metadata": {
        "id": "zDawnEl09kfe"
      },
      "execution_count": null,
      "outputs": []
    },
    {
      "cell_type": "markdown",
      "source": [
        " Örnek: Kullanıcının girdiği sayının faktöriyelini hesaplayan python örneği"
      ],
      "metadata": {
        "id": "RRAr9DLI_4lU"
      }
    },
    {
      "cell_type": "code",
      "source": [
        "sayi=int(input(\"Faktöriyelini hesaplamak için sayı giriniz: \"))\n",
        "faktoriyel = 1\n",
        "for i in range(1,sayi + 1):\n",
        "    faktoriyel = faktoriyel*i\n",
        "  \n",
        "print(sayi,\" sayısının faktoriyeli : \",faktoriyel)\n",
        "\n"
      ],
      "metadata": {
        "id": "TR0Z1m1O_Y-5"
      },
      "execution_count": null,
      "outputs": []
    }
  ]
}