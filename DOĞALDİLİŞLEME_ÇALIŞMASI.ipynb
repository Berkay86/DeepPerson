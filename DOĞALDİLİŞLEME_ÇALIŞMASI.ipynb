{
  "nbformat": 4,
  "nbformat_minor": 0,
  "metadata": {
    "colab": {
      "provenance": [],
      "collapsed_sections": [],
      "include_colab_link": true
    },
    "kernelspec": {
      "name": "python3",
      "display_name": "Python 3"
    },
    "language_info": {
      "name": "python"
    }
  },
  "cells": [
    {
      "cell_type": "markdown",
      "metadata": {
        "id": "view-in-github",
        "colab_type": "text"
      },
      "source": [
        "<a href=\"https://colab.research.google.com/github/Berkay86/DeepPerson/blob/main/DO%C4%9EALD%C4%B0L%C4%B0%C5%9ELEME_%C3%87ALI%C5%9EMASI.ipynb\" target=\"_parent\"><img src=\"https://colab.research.google.com/assets/colab-badge.svg\" alt=\"Open In Colab\"/></a>"
      ]
    },
    {
      "cell_type": "code",
      "execution_count": 1,
      "metadata": {
        "colab": {
          "base_uri": "https://localhost:8080/"
        },
        "id": "hMl1Ln-QICBD",
        "outputId": "c8086cda-6601-48fe-990a-e5e178820f19"
      },
      "outputs": [
        {
          "output_type": "stream",
          "name": "stdout",
          "text": [
            "Metini Giriniz: tkisiyle taş üzerinde gerçekleşmiştir\n",
            "Sıfat Fiil:  {'gerceklesmistir'}\n",
            "İsim  Fiil:  []\n",
            "Zarf  Fiil:  {'tkisiyle', 'uzerinde', 'gerceklesmistir'}\n",
            "Cogul Eki :  []\n"
          ]
        }
      ],
      "source": [
        "\n",
        "metin1=input(\"Metini Giriniz: \")\n",
        "metin1=metin1.lower()\n",
        "metin1=metin1.replace('ş', \"s\")\n",
        "metin1=metin1.replace('ğ', 'g')\n",
        "metin1=metin1.replace('ç', 'c')\n",
        "metin1=metin1.replace('ı', 'i')\n",
        "metin1=metin1.replace('ö', 'o')\n",
        "metin1=metin1.replace('ü', 'u')\n",
        "metin1=metin1.replace('I', 'i')\n",
        "\n",
        "liste=[]\n",
        "liste1=[]\n",
        "isim_fiil=[]\n",
        "sifat_fiil=[]\n",
        "zarf_fiil=[]\n",
        "cogul_eki=[]\n",
        "liste2=[]\n",
        "liste3=[]\n",
        "liste4=[]\n",
        "metin3=[\"açılmak açmak ağlamak akmak almak anlamak anlatmak aramak artmak aşmak atılmak atmak ayırmak ayrılmak azalmak bağırmak bağlamak bakmak basmak başlamak beklemek belirlemek belirlenmek belirtmek benzemek bırakmak bilinmek bilmek binmek bitirmek bitmek bozulmak bulmak bulunmak büyümek çalışmak çalmak çekilmek çekmek çevirmek çıkarılmak çıkarmak çıkmak çizmek dayanmak değerlendirmek değişmek değiştirmek demek devam etmek dilemek dinlemek doğmak dolaşmak doldurmak dönmek dönüşmek durmak duymak düşmek düşünmek düzenlemek eklemek etkilemek etmek evlenmek fark etmek geçirmek geçmek gelişmek geliştirmek gelmek gerçekleşmek gerekmek getirmek girmek gitmek giymek göndermek görmek görünmek görüşmek göstermek götürmek gülmek hareket etmek hatırlamak hazırlamak hazırlanmak hissetmek içmek ifade etmek ilerlemek ilgilenmek inanmak incelemek inmek istemek istenmek izlemek kabul etmek kaçmak kaldırmak kalkmak kalmak kapanmak kapatmak karışmak karıştırmak karşılamak karşılaşmak katılmak kaybetmek kazanmak kesilmek kesmek kılmak konuşmak korkmak korumak koşmak koymak kullanılmak kullanmak kurmak kurtarmak kurtulmak kurulmak okumak olmak oluşmak oturmak oynamak ödemek öğrenmek öldürmek ölmek paylaşmak sağlamak sahip olmak sanmak satın almak satmak saymak seçmek sevmek seyretmek sokmak sormak söylemek söylenmek söz etmek sunmak sunulmak sürdürmek sürmek tanımak taşımak tercih etmek toplamak toplanmak tutmak tutulmak uğraşmak ulaşmak unutmak uygulamak uygulanmak uymak uyumak uzanmak uzatmak üretmek varmak verilmek vermek vurmak yakalamak yaklaşmak yakmak yanmak yapılmak yapmak yaptırmak yararlanmak yaratmak yardımcı olmak yaşamak yatmak yayılmak yayımlanmak yazılmak yazmak yemek yetmek yükselmek yürümek\"]\n",
        "\n",
        "for i in range(0,len(metin1.split(\" \"))):\n",
        "    liste.append(metin1.split(\" \")[i])\n",
        "    for l in range(0,len(liste[i])):\n",
        "        if metin1.split(\" \")[i][-l:]==\"lar\" or metin1.split(\" \")[i][-l:]==\"ler\":\n",
        "              liste4.append(metin1.split(\" \")[i])\n",
        "              cogul_eki={x for x in liste4 } \n",
        "        if metin1.split(\" \")[i][-l:]==\"ken\" or metin1.split(\" \")[i][-l:]==\"ali\" or metin1.split(\" \")[i][-l:]==\"eli\" or metin1.split(\" \")[i][-l:]==\"madan\" or metin1.split(\" \")[i][-l:]==\"meden\" or metin1.split(\" \")[i][-l:]==\"ince\" or metin1.split(\" \")[i][-l:]==\"inca\" or metin1.split(\" \")[i][-l:]==\"unca\"or metin1.split(\" \")[i][-l:]==\"unce\" or metin1.split(\" \")[i][-l:]==\"ip\" or metin1.split(\" \")[i][-l:]==\"up\" or metin1.split(\" \")[i][-l:]==\"duk\" or metin1.split(\" \")[i][-l:]==\"arak\" or metin1.split(\" \")[i][-l:]==\"erek\" or metin1.split(\" \")[i][-l:]==\"meden\" or metin1.split(\" \")[i][-l:]==\"ince\" or metin1.split(\" \")[i][-l:]==\"inca\" or metin1.split(\" \")[i][-l:]==\"unca\"or metin1.split(\" \")[i][-l:]==\"unce\" or metin1.split(\" \")[i][-l:]==\"ip\" or metin1.split(\" \")[i][-l:]==\"up\" or metin1.split(\" \")[i][-l:]==\"duk\" or metin1.split(\" \")[i][-l:]==\"arak\" or metin1.split(\" \")[i][-l:]==\"erek\" or metin1.split(\" \")[i][-l:]==\"meden\" or metin1.split(\" \")[i][-l:]==\"ince\" or metin1.split(\" \")[i][-l:]==\"inca\" or metin1.split(\" \")[i][-l:]==\"unca\"or metin1.split(\" \")[i][-l:]==\"unce\" or metin1.split(\" \")[i][-l:]==\"ip\" or metin1.split(\" \")[i][-l:]==\"up\" or metin1.split(\" \")[i][-l:]==\"duk\" or metin1.split(\" \")[i][-l:]==\"arak\" or metin1.split(\" \")[i][-l:]==\"dikca\"or metin1.split(\" \")[i][-l:]==\"meden\" or metin1.split(\" \")[i][-l:]==\"ince\" or metin1.split(\" \")[i][-l:]==\"inca\" or metin1.split(\" \")[i][-l:]==\"unca\"or metin1.split(\" \")[i][-l:]==\"unce\" or metin1.split(\" \")[i][-l:]==\"ip\" or metin1.split(\" \")[i][-l:]==\"up\" or metin1.split(\" \")[i][-l:]==\"duk\" or metin1.split(\" \")[i][-l:]==\"arak\" or metin1.split(\" \")[i][-l:]==\"dikce\"or metin1.split(\" \")[i][-l:]==\"meden\" or metin1.split(\" \")[i][-l:]==\"ince\" or metin1.split(\" \")[i][-l:]==\"inca\" or metin1.split(\" \")[i][-l:]==\"unca\"or metin1.split(\" \")[i][-l:]==\"unce\" or metin1.split(\" \")[i][-l:]==\"ip\" or metin1.split(\" \")[i][-l:]==\"up\" or metin1.split(\" \")[i][-l:]==\"duk\" or metin1.split(\" \")[i][-l:]==\"arak\" or metin1.split(\" \")[i][-l:]==\"dukca\" or metin1.split(\" \")[i][-l:]==\"meden\" or metin1.split(\" \")[i][-l:]==\"ince\" or metin1.split(\" \")[i][-l:]==\"inca\" or metin1.split(\" \")[i][-l:]==\"unca\"or metin1.split(\" \")[i][-l:]==\"unce\" or metin1.split(\" \")[i][-l:]==\"ip\" or metin1.split(\" \")[i][-l:]==\"up\" or metin1.split(\" \")[i][-l:]==\"duk\" or metin1.split(\" \")[i][-l:]==\"arak\" or metin1.split(\" \")[i][-l:]==\"dukce\" or metin1.split(\" \")[i][-l:]==\"meden\" or metin1.split(\" \")[i][-l:]==\"ince\" or metin1.split(\" \")[i][-l:]==\"inca\" or metin1.split(\" \")[i][-l:]==\"unca\"or metin1.split(\" \")[i][-l:]==\"unce\" or metin1.split(\" \")[i][-l:]==\"ip\" or metin1.split(\" \")[i][-l:]==\"up\" or metin1.split(\" \")[i][-l:]==\"duk\" or metin1.split(\" \")[i][-l:]==\"arak\" or metin1.split(\" \")[i][-l:]==\"tikca\" or metin1.split(\" \")[i][-l:]==\"meden\" or metin1.split(\" \")[i][-l:]==\"ince\" or metin1.split(\" \")[i][-l:]==\"inca\" or metin1.split(\" \")[i][-l:]==\"unca\"or metin1.split(\" \")[i][-l:]==\"unce\" or metin1.split(\" \")[i][-l:]==\"ip\" or metin1.split(\" \")[i][-l:]==\"up\" or metin1.split(\" \")[i][-l:]==\"duk\" or metin1.split(\" \")[i][-l:]==\"arak\" or metin1.split(\" \")[i][-l:]==\"tikce\" or metin1.split(\" \")[i][-l:]==\"tukca\" or metin1.split(\" \")[i][-l:]==\"tukce\" or metin1.split(\" \")[i][-l:]==\"e\" or metin1.split(\" \")[i][-l:]==\"a\" or metin1.split(\" \")[i][-l:]==\"maz\" or metin1.split(\" \")[i][-l:]==\"mez\" or metin1.split(\" \")[i][-l:]==\"r\" or metin1.split(\" \")[i][-l:]==\"casina\" or metin1.split(\" \")[i][-l:]==\"cesine\" or metin1.split(\" \")[i][-l:]==\"meksizin\" or metin1.split(\" \")[i][-l:]==\"maksizin\" or metin1.split(\" \")[i][-l:]==\"diginde\" or metin1.split(\" \")[i][-l:]==\"dugunda\" or metin1.split(\" \")[i][-l:]==\"dugunde\" or metin1.split(\" \")[i][-l:]==\"tiginde\"or metin1.split(\" \")[i][-l:]==\"tiginda\" or metin1.split(\" \")[i][-l:]==\"tugunde\":           \n",
        "              liste3.append(metin1.split(\" \")[i])\n",
        "              zarf_fiil={r for r in liste3 } \n",
        "        if metin1.split(\" \")[i][-l:]==\"an\" or metin1.split(\" \")[i][-l:]==\"en\" or metin1.split(\" \")[i][-l:]==\"asi\" or metin1.split(\" \")[i][-l:]==\"esi\" or metin1.split(\" \")[i][-l:]==\"maz\" or metin1.split(\" \")[i][-l:]==\"mez\" or metin1.split(\" \")[i][-l:]==\"ar\" or metin1.split(\" \")[i][-l:]==\"er\"or metin1.split(\" \")[i][-l:]==\"ir\" or metin1.split(\" \")[i][-l:]==\"r\" or metin1.split(\" \")[i][-l:]==\"dik\" or metin1.split(\" \")[i][-l:]==\"duk\" or metin1.split(\" \")[i][-l:]==\"mis\" or metin1.split(\" \")[i][-l:]==\"mus\":\n",
        "            liste2.append(metin1.split(\" \")[i])\n",
        "            sifat_fiil={p for p in liste2 } \n",
        "        if metin1.split(\" \")[i][-l:]==\"mak\" or metin1.split(\" \")[i][-l:]==\"mek\":\n",
        "            liste1.append(metin1.split(\" \")[i])\n",
        "            isim_fiil={g for g in liste1 } \n",
        "        \n",
        "        if metin1.split(\" \")[i][-l:]==\"lar\" and metin1.split(\" \")[i][-l:]!=sifat_fiil:\n",
        "              liste4.append(metin1.split(\" \")[i])\n",
        "              cogul_eki={x for x in liste4 } \n",
        "        \n",
        "print(\"Sıfat Fiil: \",sifat_fiil)\n",
        "print(\"İsim  Fiil: \",isim_fiil)\n",
        "print(\"Zarf  Fiil: \",zarf_fiil)\n",
        "print(\"Cogul Eki : \",cogul_eki)"
      ]
    }
  ]
}