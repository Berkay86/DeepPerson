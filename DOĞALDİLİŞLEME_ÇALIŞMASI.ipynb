{
  "nbformat": 4,
  "nbformat_minor": 0,
  "metadata": {
    "colab": {
      "provenance": [],
      "authorship_tag": "ABX9TyOqAnQrmnM3j3fwPQluhgxw",
      "include_colab_link": true
    },
    "kernelspec": {
      "name": "python3",
      "display_name": "Python 3"
    },
    "language_info": {
      "name": "python"
    }
  },
  "cells": [
    {
      "cell_type": "markdown",
      "metadata": {
        "id": "view-in-github",
        "colab_type": "text"
      },
      "source": [
        "<a href=\"https://colab.research.google.com/github/Berkay86/DeepPerson/blob/main/DO%C4%9EALD%C4%B0L%C4%B0%C5%9ELEME_%C3%87ALI%C5%9EMASI.ipynb\" target=\"_parent\"><img src=\"https://colab.research.google.com/assets/colab-badge.svg\" alt=\"Open In Colab\"/></a>"
      ]
    },
    {
      "cell_type": "code",
      "execution_count": null,
      "metadata": {
        "id": "hMl1Ln-QICBD"
      },
      "outputs": [],
      "source": [
        "metin1=\"ŞEFFAFLAŞTIRMAK yapmak etmek Yaralanan yolcular hastaneye kaldırıldı Akşama kadar aramadık yer bırakmamışlar yatakhane ananne babanne \"\n",
        "metin1=metin1.lower()\n",
        "metin1=metin1.replace('ş', \"s\")\n",
        "metin1=metin1.replace('ğ', 'g')\n",
        "metin1=metin1.replace('ç', 'c')\n",
        "metin1=metin1.replace('ı', 'i')\n",
        "metin1=metin1.replace('ö', 'o')\n",
        "metin1=metin1.replace('ü', 'u')\n",
        "metin1=metin1.replace('I', 'i')\n",
        "\n",
        "liste=[]\n",
        "liste1=[]\n",
        "isim_fiil=[]\n",
        "liste5=list()\n",
        "for i in range(0,len(metin1.split(\" \"))):\n",
        "    liste.append(metin1.split(\" \")[i])\n",
        "    for l in range(0,len(liste[i])):\n",
        "      if metin1.split(\" \")[i][-l:]==\"madik\" or metin1.split(\" \")[i][:l]==\"ya\":\n",
        "        liste1.append(metin1.split(\" \")[i])\n",
        "        liste5={g for g in liste1 } \n",
        "        break\n",
        "liste5"
      ]
    }
  ]
}