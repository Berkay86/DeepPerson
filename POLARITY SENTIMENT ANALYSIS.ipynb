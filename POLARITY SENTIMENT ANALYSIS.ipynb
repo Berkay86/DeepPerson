{
  "nbformat": 4,
  "nbformat_minor": 0,
  "metadata": {
    "colab": {
      "provenance": [],
      "authorship_tag": "ABX9TyN5QVcPRlo+Kzv3S7feckh0",
      "include_colab_link": true
    },
    "kernelspec": {
      "name": "python3",
      "display_name": "Python 3"
    },
    "language_info": {
      "name": "python"
    }
  },
  "cells": [
    {
      "cell_type": "markdown",
      "metadata": {
        "id": "view-in-github",
        "colab_type": "text"
      },
      "source": [
        "<a href=\"https://colab.research.google.com/github/Berkay86/DeepPerson/blob/main/POLARITY%20SENTIMENT%20ANALYSIS.ipynb\" target=\"_parent\"><img src=\"https://colab.research.google.com/assets/colab-badge.svg\" alt=\"Open In Colab\"/></a>"
      ]
    },
    {
      "cell_type": "code",
      "execution_count": 33,
      "metadata": {
        "colab": {
          "base_uri": "https://localhost:8080/"
        },
        "id": "7N8FXmCeDpDr",
        "outputId": "f629f27b-0562-43da-bc44-57cf33f92e61"
      },
      "outputs": [
        {
          "output_type": "stream",
          "name": "stdout",
          "text": [
            "Looking in indexes: https://pypi.org/simple, https://us-python.pkg.dev/colab-wheels/public/simple/\n",
            "Requirement already satisfied: snscrape in /usr/local/lib/python3.8/dist-packages (0.4.3.20220106)\n",
            "Requirement already satisfied: beautifulsoup4 in /usr/local/lib/python3.8/dist-packages (from snscrape) (4.6.3)\n",
            "Requirement already satisfied: filelock in /usr/local/lib/python3.8/dist-packages (from snscrape) (3.8.0)\n",
            "Requirement already satisfied: pytz in /usr/local/lib/python3.8/dist-packages (from snscrape) (2022.6)\n",
            "Requirement already satisfied: requests[socks] in /usr/local/lib/python3.8/dist-packages (from snscrape) (2.23.0)\n",
            "Requirement already satisfied: lxml in /usr/local/lib/python3.8/dist-packages (from snscrape) (4.9.1)\n",
            "Requirement already satisfied: chardet<4,>=3.0.2 in /usr/local/lib/python3.8/dist-packages (from requests[socks]->snscrape) (3.0.4)\n",
            "Requirement already satisfied: urllib3!=1.25.0,!=1.25.1,<1.26,>=1.21.1 in /usr/local/lib/python3.8/dist-packages (from requests[socks]->snscrape) (1.24.3)\n",
            "Requirement already satisfied: certifi>=2017.4.17 in /usr/local/lib/python3.8/dist-packages (from requests[socks]->snscrape) (2022.9.24)\n",
            "Requirement already satisfied: idna<3,>=2.5 in /usr/local/lib/python3.8/dist-packages (from requests[socks]->snscrape) (2.10)\n",
            "Requirement already satisfied: PySocks!=1.5.7,>=1.5.6 in /usr/local/lib/python3.8/dist-packages (from requests[socks]->snscrape) (1.7.1)\n"
          ]
        }
      ],
      "source": [
        "#Kütüphanelerimizi içeriye alalım.\n",
        "#Veri İşlemleri\n",
        "!pip3 install snscrape\n",
        "import pandas as pd\n",
        "import snscrape.modules.twitter as sntwitter\n",
        "import numpy as np\n",
        "import matplotlib.pyplot as plt\n",
        "import seaborn as sns"
      ]
    },
    {
      "cell_type": "code",
      "source": [
        "import nltk\n",
        "from nltk.corpus import stopwords\n",
        "from nltk.tokenize import word_tokenize\n",
        "from nltk.stem import WordNetLemmatizer\n",
        "from nltk.stem.porter import PorterStemmer\n",
        "import string\n"
      ],
      "metadata": {
        "id": "0m79ODq4NUPj"
      },
      "execution_count": 34,
      "outputs": []
    },
    {
      "cell_type": "code",
      "source": [
        "import re \n",
        "import textblob\n",
        "from textblob import TextBlob"
      ],
      "metadata": {
        "id": "zjABAlSIN_qI"
      },
      "execution_count": 35,
      "outputs": []
    },
    {
      "cell_type": "code",
      "source": [
        "from wordcloud.wordcloud import WordCloud,STOPWORDS\n",
        "!pip install emot\n",
        "from emot.emo_unicode import UNICODE_EMOJI\n",
        "lemmatizer=WordNetLemmatizer()\n",
        "from wordcloud import ImageColorGenerator\n",
        "from PIL import Image\n",
        "import warnings\n",
        "%matplotlib"
      ],
      "metadata": {
        "colab": {
          "base_uri": "https://localhost:8080/"
        },
        "id": "mrmuKD-gOATK",
        "outputId": "c39fb519-2ecd-4cf7-bca4-22e0fd1dfb3b"
      },
      "execution_count": 36,
      "outputs": [
        {
          "output_type": "stream",
          "name": "stdout",
          "text": [
            "Looking in indexes: https://pypi.org/simple, https://us-python.pkg.dev/colab-wheels/public/simple/\n",
            "Requirement already satisfied: emot in /usr/local/lib/python3.8/dist-packages (3.1)\n",
            "Using matplotlib backend: agg\n"
          ]
        }
      ]
    },
    {
      "cell_type": "code",
      "source": [
        "query=\"(politics)\"\n",
        "tweets=[]\n",
        "for i,tweet in enumerate(sntwitter.TwitterSearchScraper(query).get_items()):\n",
        "  if i>20000:\n",
        "    break\n",
        "  else:\n",
        "        tweets.append([tweet.date,tweet.id,tweet.url,tweet.user.username,tweet.sourceLabel,tweet.user.location,tweet.content,tweet.likeCount,tweet.retweetCount])\n",
        "df=pd.DataFrame(tweets,columns=[\"Date\",\"ID\",\"url\",\"username\",\"source\",\"location\",\"tweet\",\"num_of_likes\", \"num_of_retweet\"])\n",
        "df.to_csv(\"sentiment.csv\",encoding='utf-8')\n",
        "df"
      ],
      "metadata": {
        "colab": {
          "base_uri": "https://localhost:8080/",
          "height": 424
        },
        "id": "7dn74Wr_Prdj",
        "outputId": "0d111745-e1a8-4e49-8aa3-79b36f441022"
      },
      "execution_count": 37,
      "outputs": [
        {
          "output_type": "execute_result",
          "data": {
            "text/plain": [
              "                           Date                   ID  \\\n",
              "0     2022-12-14 12:14:26+00:00  1603000460369076226   \n",
              "1     2022-12-14 12:14:22+00:00  1603000443134771200   \n",
              "2     2022-12-14 12:14:21+00:00  1603000438181138432   \n",
              "3     2022-12-14 12:14:20+00:00  1603000432527376386   \n",
              "4     2022-12-14 12:14:19+00:00  1603000428844965890   \n",
              "...                         ...                  ...   \n",
              "19996 2022-12-14 01:50:01+00:00  1602843320648142848   \n",
              "19997 2022-12-14 01:49:56+00:00  1602843296924958720   \n",
              "19998 2022-12-14 01:49:55+00:00  1602843295872438272   \n",
              "19999 2022-12-14 01:49:53+00:00  1602843288184446976   \n",
              "20000 2022-12-14 01:49:53+00:00  1602843286321844224   \n",
              "\n",
              "                                                     url         username  \\\n",
              "0      https://twitter.com/Dang57404287/status/160300...     Dang57404287   \n",
              "1      https://twitter.com/O89668622O/status/16030004...       O89668622O   \n",
              "2      https://twitter.com/yogivpmp/status/1603000438...         yogivpmp   \n",
              "3      https://twitter.com/tolsmageneva/status/160300...     tolsmageneva   \n",
              "4      https://twitter.com/Ibrahim72672725/status/160...  Ibrahim72672725   \n",
              "...                                                  ...              ...   \n",
              "19996  https://twitter.com/DaveGudeman/status/1602843...      DaveGudeman   \n",
              "19997  https://twitter.com/callmeFrankieG/status/1602...   callmeFrankieG   \n",
              "19998  https://twitter.com/Web7771/status/16028432958...          Web7771   \n",
              "19999  https://twitter.com/ideNZcity/status/160284328...        ideNZcity   \n",
              "20000  https://twitter.com/greg_magnuson/status/16028...    greg_magnuson   \n",
              "\n",
              "                    source                   location  \\\n",
              "0          Twitter Web App                              \n",
              "1          Twitter Web App                              \n",
              "2      Twitter for Android                  ahmedabad   \n",
              "3       Twitter for iPhone                              \n",
              "4          Twitter Web App                              \n",
              "...                    ...                        ...   \n",
              "19996      Twitter Web App                    Florida   \n",
              "19997     Twitter for iPad              New York, USA   \n",
              "19998  Twitter for Android                              \n",
              "19999      Twitter Web App                 New Xiland   \n",
              "20000   Twitter for iPhone  Las Vegas *(Summerlin) NV   \n",
              "\n",
              "                                                   tweet  num_of_likes  \\\n",
              "0      @RealAndyLeeShow Neither you nor the CBC are g...             0   \n",
              "1      @RBReich You don't become a high paid CEO unle...             0   \n",
              "2      @ArvindKejriwal Sir  Chandni chowk or sadar ba...             0   \n",
              "3      @trouw Marokko mag trots zijn dat ze bij de To...             0   \n",
              "4      #梅西  #完美体育   https://t.co/Is10jBzfC8\\nMessage ...             0   \n",
              "...                                                  ...           ...   \n",
              "19996  @Byronik @chrislhayes Anyone who starts giving...             0   \n",
              "19997  @andyhartzler @REAP_LGBTQ Your going to go a l...             0   \n",
              "19998           @Politics_Polls @Reuters @Ipsos Reuters?             0   \n",
              "19999  american comments think it's \"pussy\" instead o...             0   \n",
              "20000  Kevy McCarthy is a total LOSER with absolutely...             1   \n",
              "\n",
              "       num_of_retweet  \n",
              "0                   0  \n",
              "1                   0  \n",
              "2                   0  \n",
              "3                   0  \n",
              "4                   0  \n",
              "...               ...  \n",
              "19996               0  \n",
              "19997               0  \n",
              "19998               0  \n",
              "19999               0  \n",
              "20000               1  \n",
              "\n",
              "[20001 rows x 9 columns]"
            ],
            "text/html": [
              "\n",
              "  <div id=\"df-099383ef-4317-440d-8f66-4e58c30dab3f\">\n",
              "    <div class=\"colab-df-container\">\n",
              "      <div>\n",
              "<style scoped>\n",
              "    .dataframe tbody tr th:only-of-type {\n",
              "        vertical-align: middle;\n",
              "    }\n",
              "\n",
              "    .dataframe tbody tr th {\n",
              "        vertical-align: top;\n",
              "    }\n",
              "\n",
              "    .dataframe thead th {\n",
              "        text-align: right;\n",
              "    }\n",
              "</style>\n",
              "<table border=\"1\" class=\"dataframe\">\n",
              "  <thead>\n",
              "    <tr style=\"text-align: right;\">\n",
              "      <th></th>\n",
              "      <th>Date</th>\n",
              "      <th>ID</th>\n",
              "      <th>url</th>\n",
              "      <th>username</th>\n",
              "      <th>source</th>\n",
              "      <th>location</th>\n",
              "      <th>tweet</th>\n",
              "      <th>num_of_likes</th>\n",
              "      <th>num_of_retweet</th>\n",
              "    </tr>\n",
              "  </thead>\n",
              "  <tbody>\n",
              "    <tr>\n",
              "      <th>0</th>\n",
              "      <td>2022-12-14 12:14:26+00:00</td>\n",
              "      <td>1603000460369076226</td>\n",
              "      <td>https://twitter.com/Dang57404287/status/160300...</td>\n",
              "      <td>Dang57404287</td>\n",
              "      <td>Twitter Web App</td>\n",
              "      <td></td>\n",
              "      <td>@RealAndyLeeShow Neither you nor the CBC are g...</td>\n",
              "      <td>0</td>\n",
              "      <td>0</td>\n",
              "    </tr>\n",
              "    <tr>\n",
              "      <th>1</th>\n",
              "      <td>2022-12-14 12:14:22+00:00</td>\n",
              "      <td>1603000443134771200</td>\n",
              "      <td>https://twitter.com/O89668622O/status/16030004...</td>\n",
              "      <td>O89668622O</td>\n",
              "      <td>Twitter Web App</td>\n",
              "      <td></td>\n",
              "      <td>@RBReich You don't become a high paid CEO unle...</td>\n",
              "      <td>0</td>\n",
              "      <td>0</td>\n",
              "    </tr>\n",
              "    <tr>\n",
              "      <th>2</th>\n",
              "      <td>2022-12-14 12:14:21+00:00</td>\n",
              "      <td>1603000438181138432</td>\n",
              "      <td>https://twitter.com/yogivpmp/status/1603000438...</td>\n",
              "      <td>yogivpmp</td>\n",
              "      <td>Twitter for Android</td>\n",
              "      <td>ahmedabad</td>\n",
              "      <td>@ArvindKejriwal Sir  Chandni chowk or sadar ba...</td>\n",
              "      <td>0</td>\n",
              "      <td>0</td>\n",
              "    </tr>\n",
              "    <tr>\n",
              "      <th>3</th>\n",
              "      <td>2022-12-14 12:14:20+00:00</td>\n",
              "      <td>1603000432527376386</td>\n",
              "      <td>https://twitter.com/tolsmageneva/status/160300...</td>\n",
              "      <td>tolsmageneva</td>\n",
              "      <td>Twitter for iPhone</td>\n",
              "      <td></td>\n",
              "      <td>@trouw Marokko mag trots zijn dat ze bij de To...</td>\n",
              "      <td>0</td>\n",
              "      <td>0</td>\n",
              "    </tr>\n",
              "    <tr>\n",
              "      <th>4</th>\n",
              "      <td>2022-12-14 12:14:19+00:00</td>\n",
              "      <td>1603000428844965890</td>\n",
              "      <td>https://twitter.com/Ibrahim72672725/status/160...</td>\n",
              "      <td>Ibrahim72672725</td>\n",
              "      <td>Twitter Web App</td>\n",
              "      <td></td>\n",
              "      <td>#梅西  #完美体育   https://t.co/Is10jBzfC8\\nMessage ...</td>\n",
              "      <td>0</td>\n",
              "      <td>0</td>\n",
              "    </tr>\n",
              "    <tr>\n",
              "      <th>...</th>\n",
              "      <td>...</td>\n",
              "      <td>...</td>\n",
              "      <td>...</td>\n",
              "      <td>...</td>\n",
              "      <td>...</td>\n",
              "      <td>...</td>\n",
              "      <td>...</td>\n",
              "      <td>...</td>\n",
              "      <td>...</td>\n",
              "    </tr>\n",
              "    <tr>\n",
              "      <th>19996</th>\n",
              "      <td>2022-12-14 01:50:01+00:00</td>\n",
              "      <td>1602843320648142848</td>\n",
              "      <td>https://twitter.com/DaveGudeman/status/1602843...</td>\n",
              "      <td>DaveGudeman</td>\n",
              "      <td>Twitter Web App</td>\n",
              "      <td>Florida</td>\n",
              "      <td>@Byronik @chrislhayes Anyone who starts giving...</td>\n",
              "      <td>0</td>\n",
              "      <td>0</td>\n",
              "    </tr>\n",
              "    <tr>\n",
              "      <th>19997</th>\n",
              "      <td>2022-12-14 01:49:56+00:00</td>\n",
              "      <td>1602843296924958720</td>\n",
              "      <td>https://twitter.com/callmeFrankieG/status/1602...</td>\n",
              "      <td>callmeFrankieG</td>\n",
              "      <td>Twitter for iPad</td>\n",
              "      <td>New York, USA</td>\n",
              "      <td>@andyhartzler @REAP_LGBTQ Your going to go a l...</td>\n",
              "      <td>0</td>\n",
              "      <td>0</td>\n",
              "    </tr>\n",
              "    <tr>\n",
              "      <th>19998</th>\n",
              "      <td>2022-12-14 01:49:55+00:00</td>\n",
              "      <td>1602843295872438272</td>\n",
              "      <td>https://twitter.com/Web7771/status/16028432958...</td>\n",
              "      <td>Web7771</td>\n",
              "      <td>Twitter for Android</td>\n",
              "      <td></td>\n",
              "      <td>@Politics_Polls @Reuters @Ipsos Reuters?</td>\n",
              "      <td>0</td>\n",
              "      <td>0</td>\n",
              "    </tr>\n",
              "    <tr>\n",
              "      <th>19999</th>\n",
              "      <td>2022-12-14 01:49:53+00:00</td>\n",
              "      <td>1602843288184446976</td>\n",
              "      <td>https://twitter.com/ideNZcity/status/160284328...</td>\n",
              "      <td>ideNZcity</td>\n",
              "      <td>Twitter Web App</td>\n",
              "      <td>New Xiland</td>\n",
              "      <td>american comments think it's \"pussy\" instead o...</td>\n",
              "      <td>0</td>\n",
              "      <td>0</td>\n",
              "    </tr>\n",
              "    <tr>\n",
              "      <th>20000</th>\n",
              "      <td>2022-12-14 01:49:53+00:00</td>\n",
              "      <td>1602843286321844224</td>\n",
              "      <td>https://twitter.com/greg_magnuson/status/16028...</td>\n",
              "      <td>greg_magnuson</td>\n",
              "      <td>Twitter for iPhone</td>\n",
              "      <td>Las Vegas *(Summerlin) NV</td>\n",
              "      <td>Kevy McCarthy is a total LOSER with absolutely...</td>\n",
              "      <td>1</td>\n",
              "      <td>1</td>\n",
              "    </tr>\n",
              "  </tbody>\n",
              "</table>\n",
              "<p>20001 rows × 9 columns</p>\n",
              "</div>\n",
              "      <button class=\"colab-df-convert\" onclick=\"convertToInteractive('df-099383ef-4317-440d-8f66-4e58c30dab3f')\"\n",
              "              title=\"Convert this dataframe to an interactive table.\"\n",
              "              style=\"display:none;\">\n",
              "        \n",
              "  <svg xmlns=\"http://www.w3.org/2000/svg\" height=\"24px\"viewBox=\"0 0 24 24\"\n",
              "       width=\"24px\">\n",
              "    <path d=\"M0 0h24v24H0V0z\" fill=\"none\"/>\n",
              "    <path d=\"M18.56 5.44l.94 2.06.94-2.06 2.06-.94-2.06-.94-.94-2.06-.94 2.06-2.06.94zm-11 1L8.5 8.5l.94-2.06 2.06-.94-2.06-.94L8.5 2.5l-.94 2.06-2.06.94zm10 10l.94 2.06.94-2.06 2.06-.94-2.06-.94-.94-2.06-.94 2.06-2.06.94z\"/><path d=\"M17.41 7.96l-1.37-1.37c-.4-.4-.92-.59-1.43-.59-.52 0-1.04.2-1.43.59L10.3 9.45l-7.72 7.72c-.78.78-.78 2.05 0 2.83L4 21.41c.39.39.9.59 1.41.59.51 0 1.02-.2 1.41-.59l7.78-7.78 2.81-2.81c.8-.78.8-2.07 0-2.86zM5.41 20L4 18.59l7.72-7.72 1.47 1.35L5.41 20z\"/>\n",
              "  </svg>\n",
              "      </button>\n",
              "      \n",
              "  <style>\n",
              "    .colab-df-container {\n",
              "      display:flex;\n",
              "      flex-wrap:wrap;\n",
              "      gap: 12px;\n",
              "    }\n",
              "\n",
              "    .colab-df-convert {\n",
              "      background-color: #E8F0FE;\n",
              "      border: none;\n",
              "      border-radius: 50%;\n",
              "      cursor: pointer;\n",
              "      display: none;\n",
              "      fill: #1967D2;\n",
              "      height: 32px;\n",
              "      padding: 0 0 0 0;\n",
              "      width: 32px;\n",
              "    }\n",
              "\n",
              "    .colab-df-convert:hover {\n",
              "      background-color: #E2EBFA;\n",
              "      box-shadow: 0px 1px 2px rgba(60, 64, 67, 0.3), 0px 1px 3px 1px rgba(60, 64, 67, 0.15);\n",
              "      fill: #174EA6;\n",
              "    }\n",
              "\n",
              "    [theme=dark] .colab-df-convert {\n",
              "      background-color: #3B4455;\n",
              "      fill: #D2E3FC;\n",
              "    }\n",
              "\n",
              "    [theme=dark] .colab-df-convert:hover {\n",
              "      background-color: #434B5C;\n",
              "      box-shadow: 0px 1px 3px 1px rgba(0, 0, 0, 0.15);\n",
              "      filter: drop-shadow(0px 1px 2px rgba(0, 0, 0, 0.3));\n",
              "      fill: #FFFFFF;\n",
              "    }\n",
              "  </style>\n",
              "\n",
              "      <script>\n",
              "        const buttonEl =\n",
              "          document.querySelector('#df-099383ef-4317-440d-8f66-4e58c30dab3f button.colab-df-convert');\n",
              "        buttonEl.style.display =\n",
              "          google.colab.kernel.accessAllowed ? 'block' : 'none';\n",
              "\n",
              "        async function convertToInteractive(key) {\n",
              "          const element = document.querySelector('#df-099383ef-4317-440d-8f66-4e58c30dab3f');\n",
              "          const dataTable =\n",
              "            await google.colab.kernel.invokeFunction('convertToInteractive',\n",
              "                                                     [key], {});\n",
              "          if (!dataTable) return;\n",
              "\n",
              "          const docLinkHtml = 'Like what you see? Visit the ' +\n",
              "            '<a target=\"_blank\" href=https://colab.research.google.com/notebooks/data_table.ipynb>data table notebook</a>'\n",
              "            + ' to learn more about interactive tables.';\n",
              "          element.innerHTML = '';\n",
              "          dataTable['output_type'] = 'display_data';\n",
              "          await google.colab.output.renderOutput(dataTable, element);\n",
              "          const docLink = document.createElement('div');\n",
              "          docLink.innerHTML = docLinkHtml;\n",
              "          element.appendChild(docLink);\n",
              "        }\n",
              "      </script>\n",
              "    </div>\n",
              "  </div>\n",
              "  "
            ]
          },
          "metadata": {},
          "execution_count": 37
        }
      ]
    },
    {
      "cell_type": "code",
      "source": [
        "nltk.download('stopwords')\n",
        "turk_stop_words=list(stopwords.words(\"turkish\"))\n",
        "emoji=list(UNICODE_EMOJI.keys())"
      ],
      "metadata": {
        "colab": {
          "base_uri": "https://localhost:8080/"
        },
        "id": "LyUfbgPybRsq",
        "outputId": "99d4cd8a-33cb-4b1c-cfd4-e80345dfb034"
      },
      "execution_count": 38,
      "outputs": [
        {
          "output_type": "stream",
          "name": "stderr",
          "text": [
            "[nltk_data] Downloading package stopwords to /root/nltk_data...\n",
            "[nltk_data]   Package stopwords is already up-to-date!\n"
          ]
        }
      ]
    },
    {
      "cell_type": "code",
      "source": [
        "df[\"location\"]=df[\"location\"].fillna(\"Unknown\")"
      ],
      "metadata": {
        "id": "AnUfAwi4d7uo"
      },
      "execution_count": 39,
      "outputs": []
    },
    {
      "cell_type": "code",
      "source": [
        "def ProcessedTweets(text):\n",
        "  text=text.lower()\n",
        "  text=\" \".join(re.sub(\"(@[A-Za-z0-9]+)|(^0-9A-Za-z \\t]) |(\\w+:\\/\\/\\S+)\",\" \",text).split()) \n",
        "  text=re.sub(r'\\@\\w+|\\#\\w+|\\d+', \"\", text)\n",
        "  punct=str.maketrans(\"\",\"\",string.punctuation+string.digits)\n",
        "  text=text.translate(punct)\n",
        "  tokens=word_tokenize(text)\n",
        "  filtered_words=[w for w in tokens if w not in turk_stop_words]\n",
        "  filtered_words=[w for w in filtered_words if w not in emoji]\n",
        "  lemmatizer=WordNetLemmatizer()\n",
        "  lemma_words=[lemmatizer.lemmatize(w) for w in filtered_words]\n",
        "  text=\" \".join(lemma_words)\n",
        "  return text\n",
        "\n"
      ],
      "metadata": {
        "id": "D5kMQoAOT2XV"
      },
      "execution_count": 40,
      "outputs": []
    },
    {
      "cell_type": "code",
      "source": [
        "nltk.download('wordnet')\n",
        "nltk.download('punkt')\n",
        "nltk.download('omw-1.4')\n",
        "df[\"Processed_Tweets\"]=df[\"tweet\"].apply(ProcessedTweets)"
      ],
      "metadata": {
        "colab": {
          "base_uri": "https://localhost:8080/"
        },
        "id": "hN7oXpcLT70h",
        "outputId": "bc10542f-966f-49c9-b5d8-560cead618fd"
      },
      "execution_count": 41,
      "outputs": [
        {
          "output_type": "stream",
          "name": "stderr",
          "text": [
            "[nltk_data] Downloading package wordnet to /root/nltk_data...\n",
            "[nltk_data]   Package wordnet is already up-to-date!\n",
            "[nltk_data] Downloading package punkt to /root/nltk_data...\n",
            "[nltk_data]   Package punkt is already up-to-date!\n",
            "[nltk_data] Downloading package omw-1.4 to /root/nltk_data...\n",
            "[nltk_data]   Package omw-1.4 is already up-to-date!\n"
          ]
        }
      ]
    },
    {
      "cell_type": "code",
      "source": [
        "df[\"Processed_Tweets\"]"
      ],
      "metadata": {
        "colab": {
          "base_uri": "https://localhost:8080/"
        },
        "id": "klBxMqshklLS",
        "outputId": "b13e73a6-1613-412f-f31d-5c45f93bd54a"
      },
      "execution_count": 42,
      "outputs": [
        {
          "output_type": "execute_result",
          "data": {
            "text/plain": [
              "0        neither you nor the cbc are going to actually ...\n",
              "1        you dont become a high paid ceo unless you are...\n",
              "2        sir chandni chowk or sadar bazar ghumie aapke ...\n",
              "3        marokko mag trot zijn dat ze bij top zitten pe...\n",
              "4                   message box politics protect ask 💯😝🤐😆😀\n",
              "                               ...                        \n",
              "19996    anyone who start giving order that effect the ...\n",
              "19997    lgbtq your going to go a long way in this worl...\n",
              "19998                                         poll reuters\n",
              "19999    american comment think it pussy instead of prick😅\n",
              "20000    kevy mccarthy is a total loser with absolutely...\n",
              "Name: Processed_Tweets, Length: 20001, dtype: object"
            ]
          },
          "metadata": {},
          "execution_count": 42
        }
      ]
    },
    {
      "cell_type": "code",
      "source": [
        "def polarity(tweet):\n",
        "  return TextBlob(tweet).sentiment.polarity\n",
        "def sentimenttextblob(polarity):\n",
        "  if polarity<0:\n",
        "    return \"Negative\"\n",
        "  elif polarity>0:\n",
        "    return \"Positive\"\n"
      ],
      "metadata": {
        "id": "zT0-OGdNkq6O"
      },
      "execution_count": 43,
      "outputs": []
    },
    {
      "cell_type": "code",
      "source": [
        "df[\"Polarity\"]=df[\"Processed_Tweets\"].apply(polarity)\n",
        "df[\"Sentiment\"]=df[\"Polarity\"].apply(sentimenttextblob)\n",
        "sent=df[\"Sentiment\"].value_counts()\n",
        "sent\n",
        "df.to_csv(\"sentiment.csv\",encoding='utf-8')"
      ],
      "metadata": {
        "colab": {
          "base_uri": "https://localhost:8080/"
        },
        "id": "W-CnhQAEltzF",
        "outputId": "b67a286d-a8f0-49d2-82de-39eec5e8e3f3"
      },
      "execution_count": 45,
      "outputs": [
        {
          "output_type": "execute_result",
          "data": {
            "text/plain": [
              "Positive    8186\n",
              "Negative    4499\n",
              "Name: Sentiment, dtype: int64"
            ]
          },
          "metadata": {},
          "execution_count": 45
        }
      ]
    }
  ]
}