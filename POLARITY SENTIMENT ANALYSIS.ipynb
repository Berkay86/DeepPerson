{
  "nbformat": 4,
  "nbformat_minor": 0,
  "metadata": {
    "colab": {
      "provenance": [],
      "authorship_tag": "ABX9TyMYuy5tZ6E+OAZ19kF6HYKJ",
      "include_colab_link": true
    },
    "kernelspec": {
      "name": "python3",
      "display_name": "Python 3"
    },
    "language_info": {
      "name": "python"
    }
  },
  "cells": [
    {
      "cell_type": "markdown",
      "metadata": {
        "id": "view-in-github",
        "colab_type": "text"
      },
      "source": [
        "<a href=\"https://colab.research.google.com/github/Berkay86/DeepPerson/blob/main/POLARITY%20SENTIMENT%20ANALYSIS.ipynb\" target=\"_parent\"><img src=\"https://colab.research.google.com/assets/colab-badge.svg\" alt=\"Open In Colab\"/></a>"
      ]
    },
    {
      "cell_type": "code",
      "execution_count": 47,
      "metadata": {
        "colab": {
          "base_uri": "https://localhost:8080/"
        },
        "id": "7N8FXmCeDpDr",
        "outputId": "f5c0fbe7-a7a1-4460-8eaf-c4fc8db1476c"
      },
      "outputs": [
        {
          "output_type": "stream",
          "name": "stdout",
          "text": [
            "Looking in indexes: https://pypi.org/simple, https://us-python.pkg.dev/colab-wheels/public/simple/\n",
            "Requirement already satisfied: snscrape in /usr/local/lib/python3.8/dist-packages (0.4.3.20220106)\n",
            "Requirement already satisfied: lxml in /usr/local/lib/python3.8/dist-packages (from snscrape) (4.9.1)\n",
            "Requirement already satisfied: filelock in /usr/local/lib/python3.8/dist-packages (from snscrape) (3.8.0)\n",
            "Requirement already satisfied: requests[socks] in /usr/local/lib/python3.8/dist-packages (from snscrape) (2.23.0)\n",
            "Requirement already satisfied: beautifulsoup4 in /usr/local/lib/python3.8/dist-packages (from snscrape) (4.6.3)\n",
            "Requirement already satisfied: pytz in /usr/local/lib/python3.8/dist-packages (from snscrape) (2022.6)\n",
            "Requirement already satisfied: urllib3!=1.25.0,!=1.25.1,<1.26,>=1.21.1 in /usr/local/lib/python3.8/dist-packages (from requests[socks]->snscrape) (1.24.3)\n",
            "Requirement already satisfied: chardet<4,>=3.0.2 in /usr/local/lib/python3.8/dist-packages (from requests[socks]->snscrape) (3.0.4)\n",
            "Requirement already satisfied: certifi>=2017.4.17 in /usr/local/lib/python3.8/dist-packages (from requests[socks]->snscrape) (2022.9.24)\n",
            "Requirement already satisfied: idna<3,>=2.5 in /usr/local/lib/python3.8/dist-packages (from requests[socks]->snscrape) (2.10)\n",
            "Requirement already satisfied: PySocks!=1.5.7,>=1.5.6 in /usr/local/lib/python3.8/dist-packages (from requests[socks]->snscrape) (1.7.1)\n"
          ]
        }
      ],
      "source": [
        "#Kütüphanelerimizi içeriye alalım.\n",
        "#Veri İşlemleri\n",
        "!pip3 install snscrape\n",
        "import pandas as pd\n",
        "import snscrape.modules.twitter as sntwitter\n",
        "import numpy as np\n",
        "import matplotlib.pyplot as plt\n",
        "import seaborn as sns"
      ]
    },
    {
      "cell_type": "code",
      "source": [
        "import nltk\n",
        "from nltk.corpus import stopwords\n",
        "from nltk.tokenize import word_tokenize\n",
        "from nltk.stem import WordNetLemmatizer\n",
        "from nltk.stem.porter import PorterStemmer\n",
        "import string\n"
      ],
      "metadata": {
        "id": "0m79ODq4NUPj"
      },
      "execution_count": 48,
      "outputs": []
    },
    {
      "cell_type": "code",
      "source": [
        "import re \n",
        "import textblob\n",
        "from textblob import TextBlob"
      ],
      "metadata": {
        "id": "zjABAlSIN_qI"
      },
      "execution_count": 49,
      "outputs": []
    },
    {
      "cell_type": "code",
      "source": [
        "from wordcloud.wordcloud import WordCloud,STOPWORDS\n",
        "!pip install emot\n",
        "from emot.emo_unicode import UNICODE_EMOJI\n",
        "lemmatizer=WordNetLemmatizer()\n",
        "from wordcloud import ImageColorGenerator\n",
        "from PIL import Image\n",
        "import warnings\n",
        "%matplotlib"
      ],
      "metadata": {
        "colab": {
          "base_uri": "https://localhost:8080/"
        },
        "id": "mrmuKD-gOATK",
        "outputId": "8225d20d-e17f-4e4c-ea61-99f9f9511a3c"
      },
      "execution_count": 50,
      "outputs": [
        {
          "output_type": "stream",
          "name": "stdout",
          "text": [
            "Looking in indexes: https://pypi.org/simple, https://us-python.pkg.dev/colab-wheels/public/simple/\n",
            "Requirement already satisfied: emot in /usr/local/lib/python3.8/dist-packages (3.1)\n",
            "Using matplotlib backend: agg\n"
          ]
        }
      ]
    },
    {
      "cell_type": "code",
      "source": [
        "query=\"(worldcup)\"\n",
        "tweets=[]\n",
        "for i,tweet in enumerate(sntwitter.TwitterSearchScraper(query).get_items()):\n",
        "  if i>20000:\n",
        "    break\n",
        "  else:\n",
        "        tweets.append([tweet.date,tweet.id,tweet.url,tweet.user.username,tweet.sourceLabel,tweet.user.location,tweet.content,tweet.likeCount,tweet.retweetCount])\n",
        "df=pd.DataFrame(tweets,columns=[\"Date\",\"ID\",\"url\",\"username\",\"source\",\"location\",\"tweet\",\"num_of_likes\", \"num_of_retweet\"])\n",
        "df.to_csv(\"sentiment.csv\",encoding='utf-8')\n",
        "df"
      ],
      "metadata": {
        "colab": {
          "base_uri": "https://localhost:8080/",
          "height": 424
        },
        "id": "7dn74Wr_Prdj",
        "outputId": "47fe90f9-db50-4d03-cefb-8292abe875f5"
      },
      "execution_count": 46,
      "outputs": [
        {
          "output_type": "execute_result",
          "data": {
            "text/plain": [
              "                           Date                   ID  \\\n",
              "0     2022-12-14 12:32:07+00:00  1603004911385460736   \n",
              "1     2022-12-14 12:32:07+00:00  1603004910664138752   \n",
              "2     2022-12-14 12:32:05+00:00  1603004902934204416   \n",
              "3     2022-12-14 12:32:05+00:00  1603004900988051456   \n",
              "4     2022-12-14 12:32:05+00:00  1603004900388270081   \n",
              "...                         ...                  ...   \n",
              "19996 2022-12-14 08:52:35+00:00  1602949661555392517   \n",
              "19997 2022-12-14 08:52:35+00:00  1602949661039374336   \n",
              "19998 2022-12-14 08:52:34+00:00  1602949658422104064   \n",
              "19999 2022-12-14 08:52:33+00:00  1602949655129636864   \n",
              "20000 2022-12-14 08:52:31+00:00  1602949647198261248   \n",
              "\n",
              "                                                     url        username  \\\n",
              "0      https://twitter.com/anas_solhi/status/16030049...      anas_solhi   \n",
              "1      https://twitter.com/TheSun/status/160300491066...          TheSun   \n",
              "2      https://twitter.com/T_bop_/status/160300490293...          T_bop_   \n",
              "3      https://twitter.com/CobraChopzz/status/1603004...     CobraChopzz   \n",
              "4      https://twitter.com/MehtooCozy/status/16030049...      MehtooCozy   \n",
              "...                                                  ...             ...   \n",
              "19996  https://twitter.com/UsaJaun/status/16029496615...         UsaJaun   \n",
              "19997  https://twitter.com/sawpeter16/status/16029496...      sawpeter16   \n",
              "19998  https://twitter.com/SyaifulIkhwan_/status/1602...  SyaifulIkhwan_   \n",
              "19999  https://twitter.com/5dotHayinbanki/status/1602...  5dotHayinbanki   \n",
              "20000  https://twitter.com/LastKoboGh/status/16029496...      LastKoboGh   \n",
              "\n",
              "                    source             location  \\\n",
              "0       Twitter for iPhone                        \n",
              "1                  Echobox               London   \n",
              "2       Twitter for iPhone  Victoria, Australia   \n",
              "3      Twitter for Android                        \n",
              "4          Twitter Web App                 Ohio   \n",
              "...                    ...                  ...   \n",
              "19996          Jetpack.com                        \n",
              "19997  Twitter for Android                        \n",
              "19998  Twitter for Android                        \n",
              "19999  Twitter for Android                        \n",
              "20000  Twitter for Android          Tema, Ghana   \n",
              "\n",
              "                                                   tweet  num_of_likes  \\\n",
              "0      @ZAboukhlal @EnMaroc @FIFAWorldCup Staghfur la...             0   \n",
              "1      Play our World Cup score predictor for a chanc...             0   \n",
              "2         @Abodeable @FIFAWorldCup I saw France / Mbappe             0   \n",
              "3      @FIFAWorldCup So Morocco to win and Giroud to ...             0   \n",
              "4      @FIFAWorldCup First Team Morocco\\n\\nFirst scor...             0   \n",
              "...                                                  ...           ...   \n",
              "19996  Argentina manager’s public plea to Lionel Mess...             1   \n",
              "19997         @binary_x @FIFAWorldCup france 3 0 morocco             0   \n",
              "19998  @Carra23 @England If Johnny English as @Englan...             0   \n",
              "19999  @daily_trust Can't say but Morocco is the most...             1   \n",
              "20000  From Ashaiman Ghana 🇬🇭  To Perform At Fifa Wor...            13   \n",
              "\n",
              "       num_of_retweet  \n",
              "0                   0  \n",
              "1                   0  \n",
              "2                   0  \n",
              "3                   0  \n",
              "4                   0  \n",
              "...               ...  \n",
              "19996               0  \n",
              "19997               0  \n",
              "19998               0  \n",
              "19999               0  \n",
              "20000               6  \n",
              "\n",
              "[20001 rows x 9 columns]"
            ],
            "text/html": [
              "\n",
              "  <div id=\"df-35f937a2-5002-4022-b141-bc4061160aa4\">\n",
              "    <div class=\"colab-df-container\">\n",
              "      <div>\n",
              "<style scoped>\n",
              "    .dataframe tbody tr th:only-of-type {\n",
              "        vertical-align: middle;\n",
              "    }\n",
              "\n",
              "    .dataframe tbody tr th {\n",
              "        vertical-align: top;\n",
              "    }\n",
              "\n",
              "    .dataframe thead th {\n",
              "        text-align: right;\n",
              "    }\n",
              "</style>\n",
              "<table border=\"1\" class=\"dataframe\">\n",
              "  <thead>\n",
              "    <tr style=\"text-align: right;\">\n",
              "      <th></th>\n",
              "      <th>Date</th>\n",
              "      <th>ID</th>\n",
              "      <th>url</th>\n",
              "      <th>username</th>\n",
              "      <th>source</th>\n",
              "      <th>location</th>\n",
              "      <th>tweet</th>\n",
              "      <th>num_of_likes</th>\n",
              "      <th>num_of_retweet</th>\n",
              "    </tr>\n",
              "  </thead>\n",
              "  <tbody>\n",
              "    <tr>\n",
              "      <th>0</th>\n",
              "      <td>2022-12-14 12:32:07+00:00</td>\n",
              "      <td>1603004911385460736</td>\n",
              "      <td>https://twitter.com/anas_solhi/status/16030049...</td>\n",
              "      <td>anas_solhi</td>\n",
              "      <td>Twitter for iPhone</td>\n",
              "      <td></td>\n",
              "      <td>@ZAboukhlal @EnMaroc @FIFAWorldCup Staghfur la...</td>\n",
              "      <td>0</td>\n",
              "      <td>0</td>\n",
              "    </tr>\n",
              "    <tr>\n",
              "      <th>1</th>\n",
              "      <td>2022-12-14 12:32:07+00:00</td>\n",
              "      <td>1603004910664138752</td>\n",
              "      <td>https://twitter.com/TheSun/status/160300491066...</td>\n",
              "      <td>TheSun</td>\n",
              "      <td>Echobox</td>\n",
              "      <td>London</td>\n",
              "      <td>Play our World Cup score predictor for a chanc...</td>\n",
              "      <td>0</td>\n",
              "      <td>0</td>\n",
              "    </tr>\n",
              "    <tr>\n",
              "      <th>2</th>\n",
              "      <td>2022-12-14 12:32:05+00:00</td>\n",
              "      <td>1603004902934204416</td>\n",
              "      <td>https://twitter.com/T_bop_/status/160300490293...</td>\n",
              "      <td>T_bop_</td>\n",
              "      <td>Twitter for iPhone</td>\n",
              "      <td>Victoria, Australia</td>\n",
              "      <td>@Abodeable @FIFAWorldCup I saw France / Mbappe</td>\n",
              "      <td>0</td>\n",
              "      <td>0</td>\n",
              "    </tr>\n",
              "    <tr>\n",
              "      <th>3</th>\n",
              "      <td>2022-12-14 12:32:05+00:00</td>\n",
              "      <td>1603004900988051456</td>\n",
              "      <td>https://twitter.com/CobraChopzz/status/1603004...</td>\n",
              "      <td>CobraChopzz</td>\n",
              "      <td>Twitter for Android</td>\n",
              "      <td></td>\n",
              "      <td>@FIFAWorldCup So Morocco to win and Giroud to ...</td>\n",
              "      <td>0</td>\n",
              "      <td>0</td>\n",
              "    </tr>\n",
              "    <tr>\n",
              "      <th>4</th>\n",
              "      <td>2022-12-14 12:32:05+00:00</td>\n",
              "      <td>1603004900388270081</td>\n",
              "      <td>https://twitter.com/MehtooCozy/status/16030049...</td>\n",
              "      <td>MehtooCozy</td>\n",
              "      <td>Twitter Web App</td>\n",
              "      <td>Ohio</td>\n",
              "      <td>@FIFAWorldCup First Team Morocco\\n\\nFirst scor...</td>\n",
              "      <td>0</td>\n",
              "      <td>0</td>\n",
              "    </tr>\n",
              "    <tr>\n",
              "      <th>...</th>\n",
              "      <td>...</td>\n",
              "      <td>...</td>\n",
              "      <td>...</td>\n",
              "      <td>...</td>\n",
              "      <td>...</td>\n",
              "      <td>...</td>\n",
              "      <td>...</td>\n",
              "      <td>...</td>\n",
              "      <td>...</td>\n",
              "    </tr>\n",
              "    <tr>\n",
              "      <th>19996</th>\n",
              "      <td>2022-12-14 08:52:35+00:00</td>\n",
              "      <td>1602949661555392517</td>\n",
              "      <td>https://twitter.com/UsaJaun/status/16029496615...</td>\n",
              "      <td>UsaJaun</td>\n",
              "      <td>Jetpack.com</td>\n",
              "      <td></td>\n",
              "      <td>Argentina manager’s public plea to Lionel Mess...</td>\n",
              "      <td>1</td>\n",
              "      <td>0</td>\n",
              "    </tr>\n",
              "    <tr>\n",
              "      <th>19997</th>\n",
              "      <td>2022-12-14 08:52:35+00:00</td>\n",
              "      <td>1602949661039374336</td>\n",
              "      <td>https://twitter.com/sawpeter16/status/16029496...</td>\n",
              "      <td>sawpeter16</td>\n",
              "      <td>Twitter for Android</td>\n",
              "      <td></td>\n",
              "      <td>@binary_x @FIFAWorldCup france 3 0 morocco</td>\n",
              "      <td>0</td>\n",
              "      <td>0</td>\n",
              "    </tr>\n",
              "    <tr>\n",
              "      <th>19998</th>\n",
              "      <td>2022-12-14 08:52:34+00:00</td>\n",
              "      <td>1602949658422104064</td>\n",
              "      <td>https://twitter.com/SyaifulIkhwan_/status/1602...</td>\n",
              "      <td>SyaifulIkhwan_</td>\n",
              "      <td>Twitter for Android</td>\n",
              "      <td></td>\n",
              "      <td>@Carra23 @England If Johnny English as @Englan...</td>\n",
              "      <td>0</td>\n",
              "      <td>0</td>\n",
              "    </tr>\n",
              "    <tr>\n",
              "      <th>19999</th>\n",
              "      <td>2022-12-14 08:52:33+00:00</td>\n",
              "      <td>1602949655129636864</td>\n",
              "      <td>https://twitter.com/5dotHayinbanki/status/1602...</td>\n",
              "      <td>5dotHayinbanki</td>\n",
              "      <td>Twitter for Android</td>\n",
              "      <td></td>\n",
              "      <td>@daily_trust Can't say but Morocco is the most...</td>\n",
              "      <td>1</td>\n",
              "      <td>0</td>\n",
              "    </tr>\n",
              "    <tr>\n",
              "      <th>20000</th>\n",
              "      <td>2022-12-14 08:52:31+00:00</td>\n",
              "      <td>1602949647198261248</td>\n",
              "      <td>https://twitter.com/LastKoboGh/status/16029496...</td>\n",
              "      <td>LastKoboGh</td>\n",
              "      <td>Twitter for Android</td>\n",
              "      <td>Tema, Ghana</td>\n",
              "      <td>From Ashaiman Ghana 🇬🇭  To Perform At Fifa Wor...</td>\n",
              "      <td>13</td>\n",
              "      <td>6</td>\n",
              "    </tr>\n",
              "  </tbody>\n",
              "</table>\n",
              "<p>20001 rows × 9 columns</p>\n",
              "</div>\n",
              "      <button class=\"colab-df-convert\" onclick=\"convertToInteractive('df-35f937a2-5002-4022-b141-bc4061160aa4')\"\n",
              "              title=\"Convert this dataframe to an interactive table.\"\n",
              "              style=\"display:none;\">\n",
              "        \n",
              "  <svg xmlns=\"http://www.w3.org/2000/svg\" height=\"24px\"viewBox=\"0 0 24 24\"\n",
              "       width=\"24px\">\n",
              "    <path d=\"M0 0h24v24H0V0z\" fill=\"none\"/>\n",
              "    <path d=\"M18.56 5.44l.94 2.06.94-2.06 2.06-.94-2.06-.94-.94-2.06-.94 2.06-2.06.94zm-11 1L8.5 8.5l.94-2.06 2.06-.94-2.06-.94L8.5 2.5l-.94 2.06-2.06.94zm10 10l.94 2.06.94-2.06 2.06-.94-2.06-.94-.94-2.06-.94 2.06-2.06.94z\"/><path d=\"M17.41 7.96l-1.37-1.37c-.4-.4-.92-.59-1.43-.59-.52 0-1.04.2-1.43.59L10.3 9.45l-7.72 7.72c-.78.78-.78 2.05 0 2.83L4 21.41c.39.39.9.59 1.41.59.51 0 1.02-.2 1.41-.59l7.78-7.78 2.81-2.81c.8-.78.8-2.07 0-2.86zM5.41 20L4 18.59l7.72-7.72 1.47 1.35L5.41 20z\"/>\n",
              "  </svg>\n",
              "      </button>\n",
              "      \n",
              "  <style>\n",
              "    .colab-df-container {\n",
              "      display:flex;\n",
              "      flex-wrap:wrap;\n",
              "      gap: 12px;\n",
              "    }\n",
              "\n",
              "    .colab-df-convert {\n",
              "      background-color: #E8F0FE;\n",
              "      border: none;\n",
              "      border-radius: 50%;\n",
              "      cursor: pointer;\n",
              "      display: none;\n",
              "      fill: #1967D2;\n",
              "      height: 32px;\n",
              "      padding: 0 0 0 0;\n",
              "      width: 32px;\n",
              "    }\n",
              "\n",
              "    .colab-df-convert:hover {\n",
              "      background-color: #E2EBFA;\n",
              "      box-shadow: 0px 1px 2px rgba(60, 64, 67, 0.3), 0px 1px 3px 1px rgba(60, 64, 67, 0.15);\n",
              "      fill: #174EA6;\n",
              "    }\n",
              "\n",
              "    [theme=dark] .colab-df-convert {\n",
              "      background-color: #3B4455;\n",
              "      fill: #D2E3FC;\n",
              "    }\n",
              "\n",
              "    [theme=dark] .colab-df-convert:hover {\n",
              "      background-color: #434B5C;\n",
              "      box-shadow: 0px 1px 3px 1px rgba(0, 0, 0, 0.15);\n",
              "      filter: drop-shadow(0px 1px 2px rgba(0, 0, 0, 0.3));\n",
              "      fill: #FFFFFF;\n",
              "    }\n",
              "  </style>\n",
              "\n",
              "      <script>\n",
              "        const buttonEl =\n",
              "          document.querySelector('#df-35f937a2-5002-4022-b141-bc4061160aa4 button.colab-df-convert');\n",
              "        buttonEl.style.display =\n",
              "          google.colab.kernel.accessAllowed ? 'block' : 'none';\n",
              "\n",
              "        async function convertToInteractive(key) {\n",
              "          const element = document.querySelector('#df-35f937a2-5002-4022-b141-bc4061160aa4');\n",
              "          const dataTable =\n",
              "            await google.colab.kernel.invokeFunction('convertToInteractive',\n",
              "                                                     [key], {});\n",
              "          if (!dataTable) return;\n",
              "\n",
              "          const docLinkHtml = 'Like what you see? Visit the ' +\n",
              "            '<a target=\"_blank\" href=https://colab.research.google.com/notebooks/data_table.ipynb>data table notebook</a>'\n",
              "            + ' to learn more about interactive tables.';\n",
              "          element.innerHTML = '';\n",
              "          dataTable['output_type'] = 'display_data';\n",
              "          await google.colab.output.renderOutput(dataTable, element);\n",
              "          const docLink = document.createElement('div');\n",
              "          docLink.innerHTML = docLinkHtml;\n",
              "          element.appendChild(docLink);\n",
              "        }\n",
              "      </script>\n",
              "    </div>\n",
              "  </div>\n",
              "  "
            ]
          },
          "metadata": {},
          "execution_count": 46
        }
      ]
    },
    {
      "cell_type": "code",
      "source": [
        "nltk.download('stopwords')\n",
        "turk_stop_words=list(stopwords.words(\"turkish\"))\n",
        "emoji=list(UNICODE_EMOJI.keys())"
      ],
      "metadata": {
        "colab": {
          "base_uri": "https://localhost:8080/"
        },
        "id": "LyUfbgPybRsq",
        "outputId": "1d14769f-7782-4add-e899-70526c383a53"
      },
      "execution_count": 51,
      "outputs": [
        {
          "output_type": "stream",
          "name": "stderr",
          "text": [
            "[nltk_data] Downloading package stopwords to /root/nltk_data...\n",
            "[nltk_data]   Package stopwords is already up-to-date!\n"
          ]
        }
      ]
    },
    {
      "cell_type": "code",
      "source": [
        "df[\"location\"]=df[\"location\"].fillna(\"Unknown\")"
      ],
      "metadata": {
        "id": "AnUfAwi4d7uo"
      },
      "execution_count": 52,
      "outputs": []
    },
    {
      "cell_type": "code",
      "source": [
        "def ProcessedTweets(text):\n",
        "  text=text.lower()\n",
        "  text=\" \".join(re.sub(\"(@[A-Za-z0-9]+)|(^0-9A-Za-z \\t]) |(\\w+:\\/\\/\\S+)\",\" \",text).split()) \n",
        "  text=re.sub(r'\\@\\w+|\\#\\w+|\\d+', \"\", text)\n",
        "  punct=str.maketrans(\"\",\"\",string.punctuation+string.digits)\n",
        "  text=text.translate(punct)\n",
        "  tokens=word_tokenize(text)\n",
        "  filtered_words=[w for w in tokens if w not in turk_stop_words]\n",
        "  filtered_words=[w for w in filtered_words if w not in emoji]\n",
        "  lemmatizer=WordNetLemmatizer()\n",
        "  lemma_words=[lemmatizer.lemmatize(w) for w in filtered_words]\n",
        "  text=\" \".join(lemma_words)\n",
        "  return text\n",
        "\n"
      ],
      "metadata": {
        "id": "D5kMQoAOT2XV"
      },
      "execution_count": 53,
      "outputs": []
    },
    {
      "cell_type": "code",
      "source": [
        "nltk.download('wordnet')\n",
        "nltk.download('punkt')\n",
        "nltk.download('omw-1.4')\n",
        "df[\"Processed_Tweets\"]=df[\"tweet\"].apply(ProcessedTweets)"
      ],
      "metadata": {
        "colab": {
          "base_uri": "https://localhost:8080/"
        },
        "id": "hN7oXpcLT70h",
        "outputId": "2e233c45-ca31-4ace-8e7d-98df54bf2561"
      },
      "execution_count": 54,
      "outputs": [
        {
          "output_type": "stream",
          "name": "stderr",
          "text": [
            "[nltk_data] Downloading package wordnet to /root/nltk_data...\n",
            "[nltk_data]   Package wordnet is already up-to-date!\n",
            "[nltk_data] Downloading package punkt to /root/nltk_data...\n",
            "[nltk_data]   Package punkt is already up-to-date!\n",
            "[nltk_data] Downloading package omw-1.4 to /root/nltk_data...\n",
            "[nltk_data]   Package omw-1.4 is already up-to-date!\n"
          ]
        }
      ]
    },
    {
      "cell_type": "code",
      "source": [
        "df[\"Processed_Tweets\"]"
      ],
      "metadata": {
        "colab": {
          "base_uri": "https://localhost:8080/"
        },
        "id": "klBxMqshklLS",
        "outputId": "b3b94ad6-c24d-4ef4-de63-38b3e30b0e3e"
      },
      "execution_count": 55,
      "outputs": [
        {
          "output_type": "execute_result",
          "data": {
            "text/plain": [
              "0                               staghfur laah staghfur lah\n",
              "1        play our world cup score predictor for a chanc...\n",
              "2                                      i saw france mbappe\n",
              "3        so morocco to win and giroud to score first le...\n",
              "4                   first team morocco first scorer boufal\n",
              "                               ...                        \n",
              "19996    argentina manager ’ s public plea to lionel me...\n",
              "19997                                     x france morocco\n",
              "19998    if johnny english a manager maybe world cup wi...\n",
              "19999    trust cant say but morocco is the most luckies...\n",
              "20000    from ashaiman ghana to perform at fifa world c...\n",
              "Name: Processed_Tweets, Length: 20001, dtype: object"
            ]
          },
          "metadata": {},
          "execution_count": 55
        }
      ]
    },
    {
      "cell_type": "code",
      "source": [
        "def polarity(tweet):\n",
        "  return TextBlob(tweet).sentiment.polarity\n",
        "def sentimenttextblob(polarity):\n",
        "  if polarity<0:\n",
        "    return \"Negative\"\n",
        "  elif polarity>0:\n",
        "    return \"Positive\"\n"
      ],
      "metadata": {
        "id": "zT0-OGdNkq6O"
      },
      "execution_count": 56,
      "outputs": []
    },
    {
      "cell_type": "code",
      "source": [
        "df[\"Polarity\"]=df[\"Processed_Tweets\"].apply(polarity)\n",
        "df[\"Sentiment\"]=df[\"Polarity\"].apply(sentimenttextblob)\n",
        "sent=df[\"Sentiment\"].value_counts()\n",
        "sent\n",
        "df.to_csv(\"sentiment.csv\",encoding='utf-8')"
      ],
      "metadata": {
        "id": "W-CnhQAEltzF"
      },
      "execution_count": 57,
      "outputs": []
    }
  ]
}