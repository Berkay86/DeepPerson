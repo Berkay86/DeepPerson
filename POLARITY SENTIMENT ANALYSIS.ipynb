{
  "nbformat": 4,
  "nbformat_minor": 0,
  "metadata": {
    "colab": {
      "provenance": [],
      "authorship_tag": "ABX9TyM8r5Y+8ymEqv8InbofOmoP",
      "include_colab_link": true
    },
    "kernelspec": {
      "name": "python3",
      "display_name": "Python 3"
    },
    "language_info": {
      "name": "python"
    }
  },
  "cells": [
    {
      "cell_type": "markdown",
      "metadata": {
        "id": "view-in-github",
        "colab_type": "text"
      },
      "source": [
        "<a href=\"https://colab.research.google.com/github/Berkay86/DeepPerson/blob/main/POLARITY%20SENTIMENT%20ANALYSIS.ipynb\" target=\"_parent\"><img src=\"https://colab.research.google.com/assets/colab-badge.svg\" alt=\"Open In Colab\"/></a>"
      ]
    },
    {
      "cell_type": "code",
      "execution_count": 1,
      "metadata": {
        "colab": {
          "base_uri": "https://localhost:8080/"
        },
        "id": "7N8FXmCeDpDr",
        "outputId": "7b0aba53-ffa5-4ec4-d11c-c12e3dae115a"
      },
      "outputs": [
        {
          "output_type": "stream",
          "name": "stdout",
          "text": [
            "Looking in indexes: https://pypi.org/simple, https://us-python.pkg.dev/colab-wheels/public/simple/\n",
            "Requirement already satisfied: snscrape in /usr/local/lib/python3.8/dist-packages (0.4.3.20220106)\n",
            "Requirement already satisfied: pytz in /usr/local/lib/python3.8/dist-packages (from snscrape) (2022.6)\n",
            "Requirement already satisfied: lxml in /usr/local/lib/python3.8/dist-packages (from snscrape) (4.9.1)\n",
            "Requirement already satisfied: requests[socks] in /usr/local/lib/python3.8/dist-packages (from snscrape) (2.23.0)\n",
            "Requirement already satisfied: beautifulsoup4 in /usr/local/lib/python3.8/dist-packages (from snscrape) (4.6.3)\n",
            "Requirement already satisfied: filelock in /usr/local/lib/python3.8/dist-packages (from snscrape) (3.8.0)\n",
            "Requirement already satisfied: certifi>=2017.4.17 in /usr/local/lib/python3.8/dist-packages (from requests[socks]->snscrape) (2022.9.24)\n",
            "Requirement already satisfied: chardet<4,>=3.0.2 in /usr/local/lib/python3.8/dist-packages (from requests[socks]->snscrape) (3.0.4)\n",
            "Requirement already satisfied: idna<3,>=2.5 in /usr/local/lib/python3.8/dist-packages (from requests[socks]->snscrape) (2.10)\n",
            "Requirement already satisfied: urllib3!=1.25.0,!=1.25.1,<1.26,>=1.21.1 in /usr/local/lib/python3.8/dist-packages (from requests[socks]->snscrape) (1.24.3)\n",
            "Requirement already satisfied: PySocks!=1.5.7,>=1.5.6 in /usr/local/lib/python3.8/dist-packages (from requests[socks]->snscrape) (1.7.1)\n"
          ]
        }
      ],
      "source": [
        "#Kütüphanelerimizi içeriye alalım.\n",
        "#Veri İşlemleri\n",
        "!pip3 install snscrape\n",
        "import pandas as pd\n",
        "import snscrape.modules.twitter as sntwitter\n",
        "import numpy as np\n",
        "import matplotlib.pyplot as plt\n",
        "import seaborn as sns"
      ]
    },
    {
      "cell_type": "code",
      "source": [
        "import nltk\n",
        "from nltk.corpus import stopwords\n",
        "from nltk.tokenize import word_tokenize\n",
        "from nltk.stem import WordNetLemmatizer\n",
        "from nltk.stem.porter import PorterStemmer\n",
        "import string\n"
      ],
      "metadata": {
        "id": "0m79ODq4NUPj"
      },
      "execution_count": 2,
      "outputs": []
    },
    {
      "cell_type": "code",
      "source": [
        "import re \n",
        "import textblob\n",
        "from textblob import TextBlob"
      ],
      "metadata": {
        "id": "zjABAlSIN_qI"
      },
      "execution_count": 3,
      "outputs": []
    },
    {
      "cell_type": "code",
      "source": [
        "from wordcloud.wordcloud import WordCloud,STOPWORDS\n",
        "!pip install emot\n",
        "from emot.emo_unicode import UNICODE_EMOJI\n",
        "lemmatizer=WordNetLemmatizer()\n",
        "from wordcloud import ImageColorGenerator\n",
        "from PIL import Image\n",
        "import warnings\n",
        "%matplotlib"
      ],
      "metadata": {
        "colab": {
          "base_uri": "https://localhost:8080/"
        },
        "id": "mrmuKD-gOATK",
        "outputId": "4551b561-7e3d-4758-8cba-e6e8127daaab"
      },
      "execution_count": 4,
      "outputs": [
        {
          "output_type": "stream",
          "name": "stdout",
          "text": [
            "Looking in indexes: https://pypi.org/simple, https://us-python.pkg.dev/colab-wheels/public/simple/\n",
            "Requirement already satisfied: emot in /usr/local/lib/python3.8/dist-packages (3.1)\n",
            "Using matplotlib backend: agg\n"
          ]
        }
      ]
    },
    {
      "cell_type": "code",
      "source": [
        "query=\"(worldcup ))\"\n",
        "tweets=[]\n",
        "for i,tweet in enumerate(sntwitter.TwitterSearchScraper(query).get_items()):\n",
        "  if i>2000:\n",
        "    break\n",
        "  else:\n",
        "        tweets.append([tweet.date,tweet.id,tweet.url,tweet.user.username,tweet.sourceLabel,tweet.user.location,tweet.content,tweet.likeCount,tweet.retweetCount])\n",
        "df=pd.DataFrame(tweets,columns=[\"Date\",\"ID\",\"url\",\"username\",\"source\",\"location\",\"tweet\",\"num_of_likes\", \"num_of_retweet\"])\n",
        "df.to_csv(\"sentiment.csv\",encoding='utf-8')\n",
        "df"
      ],
      "metadata": {
        "colab": {
          "base_uri": "https://localhost:8080/",
          "height": 424
        },
        "id": "7dn74Wr_Prdj",
        "outputId": "97620250-4a4e-4598-9ee9-bff42831a9d0"
      },
      "execution_count": 5,
      "outputs": [
        {
          "output_type": "execute_result",
          "data": {
            "text/plain": [
              "                          Date                   ID  \\\n",
              "0    2022-12-12 11:27:53+00:00  1602263969460371457   \n",
              "1    2022-12-12 11:27:53+00:00  1602263969074380803   \n",
              "2    2022-12-12 11:27:53+00:00  1602263967405166595   \n",
              "3    2022-12-12 11:27:52+00:00  1602263963277791232   \n",
              "4    2022-12-12 11:27:50+00:00  1602263956025794562   \n",
              "...                        ...                  ...   \n",
              "1996 2022-12-12 10:53:45+00:00  1602255379605458944   \n",
              "1997 2022-12-12 10:53:45+00:00  1602255379211161601   \n",
              "1998 2022-12-12 10:53:45+00:00  1602255378326118401   \n",
              "1999 2022-12-12 10:53:44+00:00  1602255376631595009   \n",
              "2000 2022-12-12 10:53:44+00:00  1602255374052040706   \n",
              "\n",
              "                                                    url       username  \\\n",
              "0     https://twitter.com/vvvrba/status/160226396946...         vvvrba   \n",
              "1     https://twitter.com/ribeiro_v3/status/16022639...     ribeiro_v3   \n",
              "2     https://twitter.com/NureenKhadr/status/1602263...    NureenKhadr   \n",
              "3     https://twitter.com/ViktorAllen3/status/160226...   ViktorAllen3   \n",
              "4     https://twitter.com/KinKinetic/status/16022639...     KinKinetic   \n",
              "...                                                 ...            ...   \n",
              "1996  https://twitter.com/Fawad57696644/status/16022...  Fawad57696644   \n",
              "1997  https://twitter.com/soufhilal/status/160225537...      soufhilal   \n",
              "1998  https://twitter.com/maliquexv/status/160225537...      maliquexv   \n",
              "1999  https://twitter.com/WillyWartaal1/status/16022...  WillyWartaal1   \n",
              "2000  https://twitter.com/Mate0xStation/status/16022...  Mate0xStation   \n",
              "\n",
              "                   source         location  \\\n",
              "0      Twitter for iPhone                    \n",
              "1         Twitter Web App                    \n",
              "2      Twitter for iPhone  SFO - CAI - DXB   \n",
              "3         Twitter Web App                    \n",
              "4         Twitter Web App                    \n",
              "...                   ...              ...   \n",
              "1996   Twitter for iPhone                    \n",
              "1997      Twitter Web App       Casablanca   \n",
              "1998  Twitter for Android                    \n",
              "1999      Twitter Web App                    \n",
              "2000      Twitter Web App        Singapore   \n",
              "\n",
              "                                                  tweet  num_of_likes  \\\n",
              "0     @ESPNFC it’s just meant to be for #Modric, his...             0   \n",
              "1     @Iuuk96 @PortugalTaIk How was he carrying this...             0   \n",
              "2     .@netflix / @NetflixMENA , I think you should ...             0   \n",
              "3     @FIFAWorldCup Tons of respect for Fernando Hie...             0   \n",
              "4     Gm Gm fam.\\n\\nWojakQatar is on @Danksetio  \\nY...             0   \n",
              "...                                                 ...           ...   \n",
              "1996  @FPL_JD Told you mbappe wouldn’t do fuck all. ...             1   \n",
              "1997  @UTDTrey The one who is finished is the one wh...             0   \n",
              "1998  @sportbible Even england have messi, maradona,...             0   \n",
              "1999  @Stephen_750 @paddypower @NeilRedFM According ...             0   \n",
              "2000  @cryptocom Argentina will win this worldcup!🇦🇷...             0   \n",
              "\n",
              "      num_of_retweet  \n",
              "0                  0  \n",
              "1                  0  \n",
              "2                  0  \n",
              "3                  0  \n",
              "4                  0  \n",
              "...              ...  \n",
              "1996               0  \n",
              "1997               0  \n",
              "1998               0  \n",
              "1999               0  \n",
              "2000               0  \n",
              "\n",
              "[2001 rows x 9 columns]"
            ],
            "text/html": [
              "\n",
              "  <div id=\"df-c1fc730c-dda7-490b-a263-5be980212d25\">\n",
              "    <div class=\"colab-df-container\">\n",
              "      <div>\n",
              "<style scoped>\n",
              "    .dataframe tbody tr th:only-of-type {\n",
              "        vertical-align: middle;\n",
              "    }\n",
              "\n",
              "    .dataframe tbody tr th {\n",
              "        vertical-align: top;\n",
              "    }\n",
              "\n",
              "    .dataframe thead th {\n",
              "        text-align: right;\n",
              "    }\n",
              "</style>\n",
              "<table border=\"1\" class=\"dataframe\">\n",
              "  <thead>\n",
              "    <tr style=\"text-align: right;\">\n",
              "      <th></th>\n",
              "      <th>Date</th>\n",
              "      <th>ID</th>\n",
              "      <th>url</th>\n",
              "      <th>username</th>\n",
              "      <th>source</th>\n",
              "      <th>location</th>\n",
              "      <th>tweet</th>\n",
              "      <th>num_of_likes</th>\n",
              "      <th>num_of_retweet</th>\n",
              "    </tr>\n",
              "  </thead>\n",
              "  <tbody>\n",
              "    <tr>\n",
              "      <th>0</th>\n",
              "      <td>2022-12-12 11:27:53+00:00</td>\n",
              "      <td>1602263969460371457</td>\n",
              "      <td>https://twitter.com/vvvrba/status/160226396946...</td>\n",
              "      <td>vvvrba</td>\n",
              "      <td>Twitter for iPhone</td>\n",
              "      <td></td>\n",
              "      <td>@ESPNFC it’s just meant to be for #Modric, his...</td>\n",
              "      <td>0</td>\n",
              "      <td>0</td>\n",
              "    </tr>\n",
              "    <tr>\n",
              "      <th>1</th>\n",
              "      <td>2022-12-12 11:27:53+00:00</td>\n",
              "      <td>1602263969074380803</td>\n",
              "      <td>https://twitter.com/ribeiro_v3/status/16022639...</td>\n",
              "      <td>ribeiro_v3</td>\n",
              "      <td>Twitter Web App</td>\n",
              "      <td></td>\n",
              "      <td>@Iuuk96 @PortugalTaIk How was he carrying this...</td>\n",
              "      <td>0</td>\n",
              "      <td>0</td>\n",
              "    </tr>\n",
              "    <tr>\n",
              "      <th>2</th>\n",
              "      <td>2022-12-12 11:27:53+00:00</td>\n",
              "      <td>1602263967405166595</td>\n",
              "      <td>https://twitter.com/NureenKhadr/status/1602263...</td>\n",
              "      <td>NureenKhadr</td>\n",
              "      <td>Twitter for iPhone</td>\n",
              "      <td>SFO - CAI - DXB</td>\n",
              "      <td>.@netflix / @NetflixMENA , I think you should ...</td>\n",
              "      <td>0</td>\n",
              "      <td>0</td>\n",
              "    </tr>\n",
              "    <tr>\n",
              "      <th>3</th>\n",
              "      <td>2022-12-12 11:27:52+00:00</td>\n",
              "      <td>1602263963277791232</td>\n",
              "      <td>https://twitter.com/ViktorAllen3/status/160226...</td>\n",
              "      <td>ViktorAllen3</td>\n",
              "      <td>Twitter Web App</td>\n",
              "      <td></td>\n",
              "      <td>@FIFAWorldCup Tons of respect for Fernando Hie...</td>\n",
              "      <td>0</td>\n",
              "      <td>0</td>\n",
              "    </tr>\n",
              "    <tr>\n",
              "      <th>4</th>\n",
              "      <td>2022-12-12 11:27:50+00:00</td>\n",
              "      <td>1602263956025794562</td>\n",
              "      <td>https://twitter.com/KinKinetic/status/16022639...</td>\n",
              "      <td>KinKinetic</td>\n",
              "      <td>Twitter Web App</td>\n",
              "      <td></td>\n",
              "      <td>Gm Gm fam.\\n\\nWojakQatar is on @Danksetio  \\nY...</td>\n",
              "      <td>0</td>\n",
              "      <td>0</td>\n",
              "    </tr>\n",
              "    <tr>\n",
              "      <th>...</th>\n",
              "      <td>...</td>\n",
              "      <td>...</td>\n",
              "      <td>...</td>\n",
              "      <td>...</td>\n",
              "      <td>...</td>\n",
              "      <td>...</td>\n",
              "      <td>...</td>\n",
              "      <td>...</td>\n",
              "      <td>...</td>\n",
              "    </tr>\n",
              "    <tr>\n",
              "      <th>1996</th>\n",
              "      <td>2022-12-12 10:53:45+00:00</td>\n",
              "      <td>1602255379605458944</td>\n",
              "      <td>https://twitter.com/Fawad57696644/status/16022...</td>\n",
              "      <td>Fawad57696644</td>\n",
              "      <td>Twitter for iPhone</td>\n",
              "      <td></td>\n",
              "      <td>@FPL_JD Told you mbappe wouldn’t do fuck all. ...</td>\n",
              "      <td>1</td>\n",
              "      <td>0</td>\n",
              "    </tr>\n",
              "    <tr>\n",
              "      <th>1997</th>\n",
              "      <td>2022-12-12 10:53:45+00:00</td>\n",
              "      <td>1602255379211161601</td>\n",
              "      <td>https://twitter.com/soufhilal/status/160225537...</td>\n",
              "      <td>soufhilal</td>\n",
              "      <td>Twitter Web App</td>\n",
              "      <td>Casablanca</td>\n",
              "      <td>@UTDTrey The one who is finished is the one wh...</td>\n",
              "      <td>0</td>\n",
              "      <td>0</td>\n",
              "    </tr>\n",
              "    <tr>\n",
              "      <th>1998</th>\n",
              "      <td>2022-12-12 10:53:45+00:00</td>\n",
              "      <td>1602255378326118401</td>\n",
              "      <td>https://twitter.com/maliquexv/status/160225537...</td>\n",
              "      <td>maliquexv</td>\n",
              "      <td>Twitter for Android</td>\n",
              "      <td></td>\n",
              "      <td>@sportbible Even england have messi, maradona,...</td>\n",
              "      <td>0</td>\n",
              "      <td>0</td>\n",
              "    </tr>\n",
              "    <tr>\n",
              "      <th>1999</th>\n",
              "      <td>2022-12-12 10:53:44+00:00</td>\n",
              "      <td>1602255376631595009</td>\n",
              "      <td>https://twitter.com/WillyWartaal1/status/16022...</td>\n",
              "      <td>WillyWartaal1</td>\n",
              "      <td>Twitter Web App</td>\n",
              "      <td></td>\n",
              "      <td>@Stephen_750 @paddypower @NeilRedFM According ...</td>\n",
              "      <td>0</td>\n",
              "      <td>0</td>\n",
              "    </tr>\n",
              "    <tr>\n",
              "      <th>2000</th>\n",
              "      <td>2022-12-12 10:53:44+00:00</td>\n",
              "      <td>1602255374052040706</td>\n",
              "      <td>https://twitter.com/Mate0xStation/status/16022...</td>\n",
              "      <td>Mate0xStation</td>\n",
              "      <td>Twitter Web App</td>\n",
              "      <td>Singapore</td>\n",
              "      <td>@cryptocom Argentina will win this worldcup!🇦🇷...</td>\n",
              "      <td>0</td>\n",
              "      <td>0</td>\n",
              "    </tr>\n",
              "  </tbody>\n",
              "</table>\n",
              "<p>2001 rows × 9 columns</p>\n",
              "</div>\n",
              "      <button class=\"colab-df-convert\" onclick=\"convertToInteractive('df-c1fc730c-dda7-490b-a263-5be980212d25')\"\n",
              "              title=\"Convert this dataframe to an interactive table.\"\n",
              "              style=\"display:none;\">\n",
              "        \n",
              "  <svg xmlns=\"http://www.w3.org/2000/svg\" height=\"24px\"viewBox=\"0 0 24 24\"\n",
              "       width=\"24px\">\n",
              "    <path d=\"M0 0h24v24H0V0z\" fill=\"none\"/>\n",
              "    <path d=\"M18.56 5.44l.94 2.06.94-2.06 2.06-.94-2.06-.94-.94-2.06-.94 2.06-2.06.94zm-11 1L8.5 8.5l.94-2.06 2.06-.94-2.06-.94L8.5 2.5l-.94 2.06-2.06.94zm10 10l.94 2.06.94-2.06 2.06-.94-2.06-.94-.94-2.06-.94 2.06-2.06.94z\"/><path d=\"M17.41 7.96l-1.37-1.37c-.4-.4-.92-.59-1.43-.59-.52 0-1.04.2-1.43.59L10.3 9.45l-7.72 7.72c-.78.78-.78 2.05 0 2.83L4 21.41c.39.39.9.59 1.41.59.51 0 1.02-.2 1.41-.59l7.78-7.78 2.81-2.81c.8-.78.8-2.07 0-2.86zM5.41 20L4 18.59l7.72-7.72 1.47 1.35L5.41 20z\"/>\n",
              "  </svg>\n",
              "      </button>\n",
              "      \n",
              "  <style>\n",
              "    .colab-df-container {\n",
              "      display:flex;\n",
              "      flex-wrap:wrap;\n",
              "      gap: 12px;\n",
              "    }\n",
              "\n",
              "    .colab-df-convert {\n",
              "      background-color: #E8F0FE;\n",
              "      border: none;\n",
              "      border-radius: 50%;\n",
              "      cursor: pointer;\n",
              "      display: none;\n",
              "      fill: #1967D2;\n",
              "      height: 32px;\n",
              "      padding: 0 0 0 0;\n",
              "      width: 32px;\n",
              "    }\n",
              "\n",
              "    .colab-df-convert:hover {\n",
              "      background-color: #E2EBFA;\n",
              "      box-shadow: 0px 1px 2px rgba(60, 64, 67, 0.3), 0px 1px 3px 1px rgba(60, 64, 67, 0.15);\n",
              "      fill: #174EA6;\n",
              "    }\n",
              "\n",
              "    [theme=dark] .colab-df-convert {\n",
              "      background-color: #3B4455;\n",
              "      fill: #D2E3FC;\n",
              "    }\n",
              "\n",
              "    [theme=dark] .colab-df-convert:hover {\n",
              "      background-color: #434B5C;\n",
              "      box-shadow: 0px 1px 3px 1px rgba(0, 0, 0, 0.15);\n",
              "      filter: drop-shadow(0px 1px 2px rgba(0, 0, 0, 0.3));\n",
              "      fill: #FFFFFF;\n",
              "    }\n",
              "  </style>\n",
              "\n",
              "      <script>\n",
              "        const buttonEl =\n",
              "          document.querySelector('#df-c1fc730c-dda7-490b-a263-5be980212d25 button.colab-df-convert');\n",
              "        buttonEl.style.display =\n",
              "          google.colab.kernel.accessAllowed ? 'block' : 'none';\n",
              "\n",
              "        async function convertToInteractive(key) {\n",
              "          const element = document.querySelector('#df-c1fc730c-dda7-490b-a263-5be980212d25');\n",
              "          const dataTable =\n",
              "            await google.colab.kernel.invokeFunction('convertToInteractive',\n",
              "                                                     [key], {});\n",
              "          if (!dataTable) return;\n",
              "\n",
              "          const docLinkHtml = 'Like what you see? Visit the ' +\n",
              "            '<a target=\"_blank\" href=https://colab.research.google.com/notebooks/data_table.ipynb>data table notebook</a>'\n",
              "            + ' to learn more about interactive tables.';\n",
              "          element.innerHTML = '';\n",
              "          dataTable['output_type'] = 'display_data';\n",
              "          await google.colab.output.renderOutput(dataTable, element);\n",
              "          const docLink = document.createElement('div');\n",
              "          docLink.innerHTML = docLinkHtml;\n",
              "          element.appendChild(docLink);\n",
              "        }\n",
              "      </script>\n",
              "    </div>\n",
              "  </div>\n",
              "  "
            ]
          },
          "metadata": {},
          "execution_count": 5
        }
      ]
    },
    {
      "cell_type": "code",
      "source": [
        "nltk.download('stopwords')\n",
        "turk_stop_words=list(stopwords.words(\"turkish\"))\n",
        "emoji=list(UNICODE_EMOJI.keys())"
      ],
      "metadata": {
        "colab": {
          "base_uri": "https://localhost:8080/"
        },
        "id": "LyUfbgPybRsq",
        "outputId": "ccfabefe-cafa-44e8-8667-0d4e436ae13a"
      },
      "execution_count": 6,
      "outputs": [
        {
          "output_type": "stream",
          "name": "stderr",
          "text": [
            "[nltk_data] Downloading package stopwords to /root/nltk_data...\n",
            "[nltk_data]   Package stopwords is already up-to-date!\n"
          ]
        }
      ]
    },
    {
      "cell_type": "code",
      "source": [
        "df[\"location\"]=df[\"location\"].fillna(\"Unknown\")"
      ],
      "metadata": {
        "id": "AnUfAwi4d7uo"
      },
      "execution_count": 7,
      "outputs": []
    },
    {
      "cell_type": "code",
      "source": [
        "def ProcessedTweets(text):\n",
        "  text=text.lower()\n",
        "  text=\" \".join(re.sub(\"(@[A-Za-z0-9]+)|(^0-9A-Za-z \\t]) |(\\w+:\\/\\/\\S+)\",\" \",text).split()) \n",
        "  text=re.sub(r'\\@\\w+|\\#\\w+|\\d+', \"\", text)\n",
        "  punct=str.maketrans(\"\",\"\",string.punctuation+string.digits)\n",
        "  text=text.translate(punct)\n",
        "  tokens=word_tokenize(text)\n",
        "  filtered_words=[w for w in tokens if w not in turk_stop_words]\n",
        "  filtered_words=[w for w in filtered_words if w not in emoji]\n",
        "  lemmatizer=WordNetLemmatizer()\n",
        "  lemma_words=[lemmatizer.lemmatize(w) for w in filtered_words]\n",
        "  text=\" \".join(lemma_words)\n",
        "  return text\n",
        "\n"
      ],
      "metadata": {
        "id": "D5kMQoAOT2XV"
      },
      "execution_count": 8,
      "outputs": []
    },
    {
      "cell_type": "code",
      "source": [
        "tokenizer = nltk.data.load('nltk:tokenizers/punkt/turkish.pickle')\n",
        "nltk.download('wordnet')\n",
        "nltk.download('punkt')\n",
        "nltk.download('omw-1.4')\n",
        "df[\"Processed_Tweets\"]=df[\"tweet\"].apply(ProcessedTweets)"
      ],
      "metadata": {
        "colab": {
          "base_uri": "https://localhost:8080/"
        },
        "id": "hN7oXpcLT70h",
        "outputId": "8a272bb1-a763-471d-8a17-95e918798289"
      },
      "execution_count": 9,
      "outputs": [
        {
          "output_type": "stream",
          "name": "stderr",
          "text": [
            "[nltk_data] Downloading package wordnet to /root/nltk_data...\n",
            "[nltk_data]   Package wordnet is already up-to-date!\n",
            "[nltk_data] Downloading package punkt to /root/nltk_data...\n",
            "[nltk_data]   Package punkt is already up-to-date!\n",
            "[nltk_data] Downloading package omw-1.4 to /root/nltk_data...\n",
            "[nltk_data]   Package omw-1.4 is already up-to-date!\n"
          ]
        }
      ]
    },
    {
      "cell_type": "code",
      "source": [
        "df[\"Processed_Tweets\"]"
      ],
      "metadata": {
        "colab": {
          "base_uri": "https://localhost:8080/"
        },
        "id": "klBxMqshklLS",
        "outputId": "fbf447c2-0909-41de-e490-a3d4f2adda66"
      },
      "execution_count": 10,
      "outputs": [
        {
          "output_type": "execute_result",
          "data": {
            "text/plain": [
              "0       it ’ s just meant to be for his grandpa died o...\n",
              "1       how wa he carrying this world cup lol he got o...\n",
              "2       i think you should know we are all hoping you ...\n",
              "3       ton of respect for fernando hierro but bono th...\n",
              "4               gm gm fam wojakqatar is on la la ha bi bi\n",
              "                              ...                        \n",
              "1996    jd told you mbappe wouldn ’ t do fuck all only...\n",
              "1997    the one who is finished is the one who ha been...\n",
              "1998    even england have messi maradonapeleronaldo cr...\n",
              "1999    according to the official document he is not b...\n",
              "2000               argentina will win this worldcup🇦🇷🇦🇷🇦🇷\n",
              "Name: Processed_Tweets, Length: 2001, dtype: object"
            ]
          },
          "metadata": {},
          "execution_count": 10
        }
      ]
    },
    {
      "cell_type": "code",
      "source": [
        "def polarity(tweet):\n",
        "  return TextBlob(tweet).sentiment.polarity\n",
        "def sentimenttextblob(polarity):\n",
        "  if polarity<0:\n",
        "    return \"Negative\"\n",
        "  elif polarity>0:\n",
        "    return \"Positive\"\n"
      ],
      "metadata": {
        "id": "zT0-OGdNkq6O"
      },
      "execution_count": 11,
      "outputs": []
    },
    {
      "cell_type": "code",
      "source": [
        "df[\"Polarity\"]=df[\"Processed_Tweets\"].apply(polarity)\n",
        "df[\"Sentiment\"]=df[\"Polarity\"].apply(sentimenttextblob)\n",
        "sent=df[\"Sentiment\"].value_counts()\n",
        "sent\n"
      ],
      "metadata": {
        "colab": {
          "base_uri": "https://localhost:8080/"
        },
        "id": "W-CnhQAEltzF",
        "outputId": "fd36ac28-3cd5-412a-82a5-3ba316ff2a46"
      },
      "execution_count": 12,
      "outputs": [
        {
          "output_type": "execute_result",
          "data": {
            "text/plain": [
              "Positive    862\n",
              "Negative    314\n",
              "Name: Sentiment, dtype: int64"
            ]
          },
          "metadata": {},
          "execution_count": 12
        }
      ]
    }
  ]
}