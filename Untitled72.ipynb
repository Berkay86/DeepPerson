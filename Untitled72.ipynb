{
  "nbformat": 4,
  "nbformat_minor": 0,
  "metadata": {
    "colab": {
      "provenance": [],
      "authorship_tag": "ABX9TyPhaDq4aTfy5SumdMSfx+xB",
      "include_colab_link": true
    },
    "kernelspec": {
      "name": "python3",
      "display_name": "Python 3"
    },
    "language_info": {
      "name": "python"
    }
  },
  "cells": [
    {
      "cell_type": "markdown",
      "metadata": {
        "id": "view-in-github",
        "colab_type": "text"
      },
      "source": [
        "<a href=\"https://colab.research.google.com/github/Berkay86/DeepPerson/blob/main/Untitled72.ipynb\" target=\"_parent\"><img src=\"https://colab.research.google.com/assets/colab-badge.svg\" alt=\"Open In Colab\"/></a>"
      ]
    },
    {
      "cell_type": "code",
      "execution_count": 9,
      "metadata": {
        "id": "iGJnF011tC0A"
      },
      "outputs": [],
      "source": [
        "import random\n",
        "import pandas as pd\n",
        "\n",
        "# Read Sheet1 data into a DataFrame\n",
        "sheet1 = pd.read_excel('Kitap1.xlsx', sheet_name='Sheet1')\n",
        "\n",
        "# Create an empty DataFrame to hold the results\n",
        "sheet3 = pd.DataFrame(index=range(1, 1146), columns=sheet1.columns)\n",
        "\n",
        "for repeat in range(1, 1146):\n",
        "    previousNumber = 0\n",
        "    for i, column in enumerate(sheet1.columns):\n",
        "        selectedColumn = i\n",
        "\n",
        "        # Select a random number from the selected column\n",
        "        lastRow = sheet1[column].last_valid_index()\n",
        "        while True:\n",
        "            currentNumber = random.randint(2, lastRow)\n",
        "            if sheet1.at[currentNumber, column] > previousNumber:\n",
        "                break\n",
        "\n",
        "        # Update the previous number\n",
        "        previousNumber = sheet1.at[currentNumber, column]\n",
        "\n",
        "        # Write the selected number to Sheet3\n",
        "        sheet3.at[repeat, column] = previousNumber\n",
        "\n",
        "# Write Sheet3 data to file\n",
        "with pd.ExcelWriter('file.xlsx') as writer:\n",
        "    sheet3.to_excel(writer, sheet_name='Sheet3', index=False)\n"
      ]
    },
    {
      "cell_type": "code",
      "source": [
        "import random\n",
        "import pandas as pd\n",
        "\n",
        "# Read Sheet1 data into a DataFrame\n",
        "sheet1 = pd.read_excel('Kitap1.xlsx', sheet_name='Sheet1')\n",
        "\n",
        "# Create an empty DataFrame to hold the results\n",
        "sheet3 = pd.DataFrame(index=range(1, 1146), columns=sheet1.columns)\n",
        "\n",
        "# Set up the PRNG and HRNG\n",
        "prng = random.Random()\n",
        "hrng = random.SystemRandom()\n",
        "\n",
        "for repeat in range(1, 1146):\n",
        "    previousNumber = 0\n",
        "    for i, column in enumerate(sheet1.columns):\n",
        "        selectedColumn = i\n",
        "\n",
        "        # Use the PRNG to generate a random number\n",
        "        if i % 2 == 0:\n",
        "            currentNumber = prng.randint(2, 30)\n",
        "        else:\n",
        "            # Use the HRNG to generate a random number\n",
        "            currentNumber = hrng.randint(31, 60)\n",
        "\n",
        "        # Ensure the number is unique within the column\n",
        "        while sheet1[column].isin([currentNumber]).any():\n",
        "            currentNumber = hrng.randint(2, 60)\n",
        "\n",
        "        # Update the previous number\n",
        "        previousNumber = currentNumber\n",
        "\n",
        "        # Write the selected number to Sheet3\n",
        "        sheet3.at[repeat, column] = currentNumber\n",
        "\n",
        "# Write Sheet3 data to file\n",
        "with pd.ExcelWriter('FARKLIAGORİTMA.xlsx') as writer:\n",
        "    sheet3.to_excel(writer, sheet_name='Sheet3', index=False)\n"
      ],
      "metadata": {
        "id": "DMAD1ccL1TAU"
      },
      "execution_count": 17,
      "outputs": []
    }
  ]
}