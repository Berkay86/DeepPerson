{
  "nbformat": 4,
  "nbformat_minor": 0,
  "metadata": {
    "colab": {
      "provenance": [],
      "authorship_tag": "ABX9TyO0qiqew6uU3PJyyMIzU/Jt",
      "include_colab_link": true
    },
    "kernelspec": {
      "name": "python3",
      "display_name": "Python 3"
    },
    "language_info": {
      "name": "python"
    }
  },
  "cells": [
    {
      "cell_type": "markdown",
      "metadata": {
        "id": "view-in-github",
        "colab_type": "text"
      },
      "source": [
        "<a href=\"https://colab.research.google.com/github/Berkay86/DeepPerson/blob/main/S%C4%B1n%C4%B1fland%C4%B1rma.ipynb\" target=\"_parent\"><img src=\"https://colab.research.google.com/assets/colab-badge.svg\" alt=\"Open In Colab\"/></a>"
      ]
    },
    {
      "cell_type": "code",
      "execution_count": 1,
      "metadata": {
        "id": "XIkDyQJAx0w_"
      },
      "outputs": [],
      "source": [
        "import pandas as pd\n",
        "import numpy as np\n",
        "import re\n",
        "import nltk\n",
        "import matplotlib.pyplot as plt\n",
        "from nltk.corpus import stopwords\n",
        "import string\n",
        "from numpy import array\n",
        "from keras.preprocessing.text import one_hot\n",
        "from tensorflow.keras.preprocessing.sequence import pad_sequences\n",
        "from keras.models import Sequential\n",
        "from keras.layers.core import Activation, Dropout, Dense\n",
        "from keras.layers import Flatten\n",
        "from keras.layers import GlobalMaxPooling1D\n",
        "from keras.layers import Embedding\n",
        "from sklearn.model_selection import train_test_split\n",
        "from keras.preprocessing.text import Tokenizer\n"
      ]
    },
    {
      "cell_type": "code",
      "source": [
        "resturantreviews = pd.read_csv(\"sentiment (3).csv\")\n",
        "resturantreviews=resturantreviews.dropna(axis=0)\n",
        "resturantreviews.isnull().values.any()\n",
        "resturantreviews.shape"
      ],
      "metadata": {
        "colab": {
          "base_uri": "https://localhost:8080/"
        },
        "id": "1jHx2HP9x3QX",
        "outputId": "988edd04-8800-454d-8fc9-64c301b407da"
      },
      "execution_count": 2,
      "outputs": [
        {
          "output_type": "execute_result",
          "data": {
            "text/plain": [
              "(6799, 13)"
            ]
          },
          "metadata": {},
          "execution_count": 2
        }
      ]
    },
    {
      "cell_type": "code",
      "source": [
        "resturantreviews.head()"
      ],
      "metadata": {
        "colab": {
          "base_uri": "https://localhost:8080/",
          "height": 206
        },
        "id": "ZJdvLwYsx5Jr",
        "outputId": "1db64909-780b-407b-bbe9-f50ed6745b7e"
      },
      "execution_count": 3,
      "outputs": [
        {
          "output_type": "execute_result",
          "data": {
            "text/plain": [
              "    Unnamed: 0                       Date                   ID  \\\n",
              "1            1  2022-12-14 12:32:07+00:00  1603004910664138752   \n",
              "4            4  2022-12-14 12:32:05+00:00  1603004900388270081   \n",
              "6            6  2022-12-14 12:32:05+00:00  1603004899884961792   \n",
              "11          11  2022-12-14 12:32:02+00:00  1603004889034006529   \n",
              "12          12  2022-12-14 12:32:02+00:00  1603004887024996352   \n",
              "\n",
              "                                                  url       username  \\\n",
              "1   https://twitter.com/TheSun/status/160300491066...         TheSun   \n",
              "4   https://twitter.com/MehtooCozy/status/16030049...     MehtooCozy   \n",
              "6   https://twitter.com/God_xMidnight/status/16030...  God_xMidnight   \n",
              "11  https://twitter.com/paitman1976/status/1603004...    paitman1976   \n",
              "12  https://twitter.com/TopKniFe_B/status/16030048...     TopKniFe_B   \n",
              "\n",
              "                source              location  \\\n",
              "1              Echobox                London   \n",
              "4      Twitter Web App                  Ohio   \n",
              "6      Twitter Web App        Malmö, Sverige   \n",
              "11     Twitter Web App         United States   \n",
              "12  Twitter for iPhone  citizen of the world   \n",
              "\n",
              "                                                tweet  num_of_likes  \\\n",
              "1   Play our World Cup score predictor for a chanc...             0   \n",
              "4   @FIFAWorldCup First Team Morocco\\n\\nFirst scor...             0   \n",
              "6   @SiavoushF kinda high stake game. Add to that ...             0   \n",
              "11  Exposing The Darkness (https://t.co/GVfIPV1Cm3...             0   \n",
              "12  Good luck to the first Arab African Muslim Cou...             0   \n",
              "\n",
              "    num_of_retweet                                   Processed_Tweets  \\\n",
              "1                0  play our world cup score predictor for a chanc...   \n",
              "4                0             first team morocco first scorer boufal   \n",
              "6                0  kinda high stake game add to that all the chea...   \n",
              "11               0  exposing the darkness third journalist died su...   \n",
              "12               0  good luck to the first arab african muslim cou...   \n",
              "\n",
              "    Polarity Sentiment  \n",
              "1   0.800000  Positive  \n",
              "4   0.250000  Positive  \n",
              "6   0.310000  Positive  \n",
              "11  0.025000  Positive  \n",
              "12  0.054687  Positive  "
            ],
            "text/html": [
              "\n",
              "  <div id=\"df-de0548a4-1238-45e9-8feb-b6bde443c790\">\n",
              "    <div class=\"colab-df-container\">\n",
              "      <div>\n",
              "<style scoped>\n",
              "    .dataframe tbody tr th:only-of-type {\n",
              "        vertical-align: middle;\n",
              "    }\n",
              "\n",
              "    .dataframe tbody tr th {\n",
              "        vertical-align: top;\n",
              "    }\n",
              "\n",
              "    .dataframe thead th {\n",
              "        text-align: right;\n",
              "    }\n",
              "</style>\n",
              "<table border=\"1\" class=\"dataframe\">\n",
              "  <thead>\n",
              "    <tr style=\"text-align: right;\">\n",
              "      <th></th>\n",
              "      <th>Unnamed: 0</th>\n",
              "      <th>Date</th>\n",
              "      <th>ID</th>\n",
              "      <th>url</th>\n",
              "      <th>username</th>\n",
              "      <th>source</th>\n",
              "      <th>location</th>\n",
              "      <th>tweet</th>\n",
              "      <th>num_of_likes</th>\n",
              "      <th>num_of_retweet</th>\n",
              "      <th>Processed_Tweets</th>\n",
              "      <th>Polarity</th>\n",
              "      <th>Sentiment</th>\n",
              "    </tr>\n",
              "  </thead>\n",
              "  <tbody>\n",
              "    <tr>\n",
              "      <th>1</th>\n",
              "      <td>1</td>\n",
              "      <td>2022-12-14 12:32:07+00:00</td>\n",
              "      <td>1603004910664138752</td>\n",
              "      <td>https://twitter.com/TheSun/status/160300491066...</td>\n",
              "      <td>TheSun</td>\n",
              "      <td>Echobox</td>\n",
              "      <td>London</td>\n",
              "      <td>Play our World Cup score predictor for a chanc...</td>\n",
              "      <td>0</td>\n",
              "      <td>0</td>\n",
              "      <td>play our world cup score predictor for a chanc...</td>\n",
              "      <td>0.800000</td>\n",
              "      <td>Positive</td>\n",
              "    </tr>\n",
              "    <tr>\n",
              "      <th>4</th>\n",
              "      <td>4</td>\n",
              "      <td>2022-12-14 12:32:05+00:00</td>\n",
              "      <td>1603004900388270081</td>\n",
              "      <td>https://twitter.com/MehtooCozy/status/16030049...</td>\n",
              "      <td>MehtooCozy</td>\n",
              "      <td>Twitter Web App</td>\n",
              "      <td>Ohio</td>\n",
              "      <td>@FIFAWorldCup First Team Morocco\\n\\nFirst scor...</td>\n",
              "      <td>0</td>\n",
              "      <td>0</td>\n",
              "      <td>first team morocco first scorer boufal</td>\n",
              "      <td>0.250000</td>\n",
              "      <td>Positive</td>\n",
              "    </tr>\n",
              "    <tr>\n",
              "      <th>6</th>\n",
              "      <td>6</td>\n",
              "      <td>2022-12-14 12:32:05+00:00</td>\n",
              "      <td>1603004899884961792</td>\n",
              "      <td>https://twitter.com/God_xMidnight/status/16030...</td>\n",
              "      <td>God_xMidnight</td>\n",
              "      <td>Twitter Web App</td>\n",
              "      <td>Malmö, Sverige</td>\n",
              "      <td>@SiavoushF kinda high stake game. Add to that ...</td>\n",
              "      <td>0</td>\n",
              "      <td>0</td>\n",
              "      <td>kinda high stake game add to that all the chea...</td>\n",
              "      <td>0.310000</td>\n",
              "      <td>Positive</td>\n",
              "    </tr>\n",
              "    <tr>\n",
              "      <th>11</th>\n",
              "      <td>11</td>\n",
              "      <td>2022-12-14 12:32:02+00:00</td>\n",
              "      <td>1603004889034006529</td>\n",
              "      <td>https://twitter.com/paitman1976/status/1603004...</td>\n",
              "      <td>paitman1976</td>\n",
              "      <td>Twitter Web App</td>\n",
              "      <td>United States</td>\n",
              "      <td>Exposing The Darkness (https://t.co/GVfIPV1Cm3...</td>\n",
              "      <td>0</td>\n",
              "      <td>0</td>\n",
              "      <td>exposing the darkness third journalist died su...</td>\n",
              "      <td>0.025000</td>\n",
              "      <td>Positive</td>\n",
              "    </tr>\n",
              "    <tr>\n",
              "      <th>12</th>\n",
              "      <td>12</td>\n",
              "      <td>2022-12-14 12:32:02+00:00</td>\n",
              "      <td>1603004887024996352</td>\n",
              "      <td>https://twitter.com/TopKniFe_B/status/16030048...</td>\n",
              "      <td>TopKniFe_B</td>\n",
              "      <td>Twitter for iPhone</td>\n",
              "      <td>citizen of the world</td>\n",
              "      <td>Good luck to the first Arab African Muslim Cou...</td>\n",
              "      <td>0</td>\n",
              "      <td>0</td>\n",
              "      <td>good luck to the first arab african muslim cou...</td>\n",
              "      <td>0.054687</td>\n",
              "      <td>Positive</td>\n",
              "    </tr>\n",
              "  </tbody>\n",
              "</table>\n",
              "</div>\n",
              "      <button class=\"colab-df-convert\" onclick=\"convertToInteractive('df-de0548a4-1238-45e9-8feb-b6bde443c790')\"\n",
              "              title=\"Convert this dataframe to an interactive table.\"\n",
              "              style=\"display:none;\">\n",
              "        \n",
              "  <svg xmlns=\"http://www.w3.org/2000/svg\" height=\"24px\"viewBox=\"0 0 24 24\"\n",
              "       width=\"24px\">\n",
              "    <path d=\"M0 0h24v24H0V0z\" fill=\"none\"/>\n",
              "    <path d=\"M18.56 5.44l.94 2.06.94-2.06 2.06-.94-2.06-.94-.94-2.06-.94 2.06-2.06.94zm-11 1L8.5 8.5l.94-2.06 2.06-.94-2.06-.94L8.5 2.5l-.94 2.06-2.06.94zm10 10l.94 2.06.94-2.06 2.06-.94-2.06-.94-.94-2.06-.94 2.06-2.06.94z\"/><path d=\"M17.41 7.96l-1.37-1.37c-.4-.4-.92-.59-1.43-.59-.52 0-1.04.2-1.43.59L10.3 9.45l-7.72 7.72c-.78.78-.78 2.05 0 2.83L4 21.41c.39.39.9.59 1.41.59.51 0 1.02-.2 1.41-.59l7.78-7.78 2.81-2.81c.8-.78.8-2.07 0-2.86zM5.41 20L4 18.59l7.72-7.72 1.47 1.35L5.41 20z\"/>\n",
              "  </svg>\n",
              "      </button>\n",
              "      \n",
              "  <style>\n",
              "    .colab-df-container {\n",
              "      display:flex;\n",
              "      flex-wrap:wrap;\n",
              "      gap: 12px;\n",
              "    }\n",
              "\n",
              "    .colab-df-convert {\n",
              "      background-color: #E8F0FE;\n",
              "      border: none;\n",
              "      border-radius: 50%;\n",
              "      cursor: pointer;\n",
              "      display: none;\n",
              "      fill: #1967D2;\n",
              "      height: 32px;\n",
              "      padding: 0 0 0 0;\n",
              "      width: 32px;\n",
              "    }\n",
              "\n",
              "    .colab-df-convert:hover {\n",
              "      background-color: #E2EBFA;\n",
              "      box-shadow: 0px 1px 2px rgba(60, 64, 67, 0.3), 0px 1px 3px 1px rgba(60, 64, 67, 0.15);\n",
              "      fill: #174EA6;\n",
              "    }\n",
              "\n",
              "    [theme=dark] .colab-df-convert {\n",
              "      background-color: #3B4455;\n",
              "      fill: #D2E3FC;\n",
              "    }\n",
              "\n",
              "    [theme=dark] .colab-df-convert:hover {\n",
              "      background-color: #434B5C;\n",
              "      box-shadow: 0px 1px 3px 1px rgba(0, 0, 0, 0.15);\n",
              "      filter: drop-shadow(0px 1px 2px rgba(0, 0, 0, 0.3));\n",
              "      fill: #FFFFFF;\n",
              "    }\n",
              "  </style>\n",
              "\n",
              "      <script>\n",
              "        const buttonEl =\n",
              "          document.querySelector('#df-de0548a4-1238-45e9-8feb-b6bde443c790 button.colab-df-convert');\n",
              "        buttonEl.style.display =\n",
              "          google.colab.kernel.accessAllowed ? 'block' : 'none';\n",
              "\n",
              "        async function convertToInteractive(key) {\n",
              "          const element = document.querySelector('#df-de0548a4-1238-45e9-8feb-b6bde443c790');\n",
              "          const dataTable =\n",
              "            await google.colab.kernel.invokeFunction('convertToInteractive',\n",
              "                                                     [key], {});\n",
              "          if (!dataTable) return;\n",
              "\n",
              "          const docLinkHtml = 'Like what you see? Visit the ' +\n",
              "            '<a target=\"_blank\" href=https://colab.research.google.com/notebooks/data_table.ipynb>data table notebook</a>'\n",
              "            + ' to learn more about interactive tables.';\n",
              "          element.innerHTML = '';\n",
              "          dataTable['output_type'] = 'display_data';\n",
              "          await google.colab.output.renderOutput(dataTable, element);\n",
              "          const docLink = document.createElement('div');\n",
              "          docLink.innerHTML = docLinkHtml;\n",
              "          element.appendChild(docLink);\n",
              "        }\n",
              "      </script>\n",
              "    </div>\n",
              "  </div>\n",
              "  "
            ]
          },
          "metadata": {},
          "execution_count": 3
        }
      ]
    },
    {
      "cell_type": "code",
      "source": [
        "resturantreviews[\"tweet\"]"
      ],
      "metadata": {
        "colab": {
          "base_uri": "https://localhost:8080/"
        },
        "id": "P9O1tpN8x_GH",
        "outputId": "829f9791-0d43-4aa5-9c5f-5b2ee7a63892"
      },
      "execution_count": 4,
      "outputs": [
        {
          "output_type": "execute_result",
          "data": {
            "text/plain": [
              "1        Play our World Cup score predictor for a chanc...\n",
              "4        @FIFAWorldCup First Team Morocco\\n\\nFirst scor...\n",
              "6        @SiavoushF kinda high stake game. Add to that ...\n",
              "11       Exposing The Darkness (https://t.co/GVfIPV1Cm3...\n",
              "12       Good luck to the first Arab African Muslim Cou...\n",
              "                               ...                        \n",
              "19984    @omaakatugba Well said egbon\\n\\nNow people no ...\n",
              "19986    @Unclegold1 @KingOlaszn If Messi wins the worl...\n",
              "19988    Roy Keane : \"It doesn't matter who wins the Go...\n",
              "19992    @GNev2 Oh you back from your bloody stained Jo...\n",
              "19995    Ronaldo fans are here crying about the 5 penal...\n",
              "Name: tweet, Length: 6799, dtype: object"
            ]
          },
          "metadata": {},
          "execution_count": 4
        }
      ]
    },
    {
      "cell_type": "code",
      "source": [
        "import seaborn as sns\n",
        "sns.countplot(x='Sentiment', data=resturantreviews)\n",
        "plt.show()"
      ],
      "metadata": {
        "colab": {
          "base_uri": "https://localhost:8080/",
          "height": 279
        },
        "id": "GeI9xDD9yB5D",
        "outputId": "9a0d33e4-96da-4a1c-952c-f0fe4e1e9e24"
      },
      "execution_count": 5,
      "outputs": [
        {
          "output_type": "display_data",
          "data": {
            "text/plain": [
              "<Figure size 432x288 with 1 Axes>"
            ],
            "image/png": "[encoded data removed]"
          },
          "metadata": {
            "needs_background": "light"
          }
        }
      ]
    },
    {
      "cell_type": "code",
      "source": [
        "def preprocess_text(sen):\n",
        "    # Removing html tags\n",
        "    sentence = remove_tags(sen)\n",
        "\n",
        "    # Remove punctuations and numbers\n",
        "    sentence = re.sub('[^a-zA-Z]', ' ', sentence)\n",
        "\n",
        "    # Single character removal\n",
        "    sentence = re.sub(r\"\\s+[a-zA-Z]\\s+\", ' ', sentence)\n",
        "\n",
        "    # Removing multiple spaces\n",
        "    sentence = re.sub(r'\\s+', ' ', sentence)\n",
        "\n",
        "    return sentence"
      ],
      "metadata": {
        "id": "n7IvfXt00YVJ"
      },
      "execution_count": 6,
      "outputs": []
    },
    {
      "cell_type": "code",
      "source": [
        "TAG_RE = re.compile(r'<[^>]+>')\n",
        "\n",
        "def remove_tags(text):\n",
        "    return TAG_RE.sub('', text)"
      ],
      "metadata": {
        "id": "7FCwJ6KY0aio"
      },
      "execution_count": 7,
      "outputs": []
    },
    {
      "cell_type": "code",
      "source": [
        "X = []\n",
        "sentences = list(resturantreviews['tweet'])\n",
        "for sen1 in sentences:\n",
        "    X.append(preprocess_text(str(sen1)))"
      ],
      "metadata": {
        "id": "2i5s1IE10c_6"
      },
      "execution_count": 8,
      "outputs": []
    },
    {
      "cell_type": "code",
      "source": [
        "y=resturantreviews['Sentiment']\n",
        "y = np.array(list(map(lambda x: 1 if x==\"Positive\" else 0, y)))\n",
        "y"
      ],
      "metadata": {
        "colab": {
          "base_uri": "https://localhost:8080/"
        },
        "id": "QZV_UX1F1aUF",
        "outputId": "8214a191-9679-4b90-a8df-806d182a64c4"
      },
      "execution_count": 9,
      "outputs": [
        {
          "output_type": "execute_result",
          "data": {
            "text/plain": [
              "array([1, 1, 1, ..., 1, 0, 1])"
            ]
          },
          "metadata": {},
          "execution_count": 9
        }
      ]
    },
    {
      "cell_type": "code",
      "source": [
        "X_train, X_test, y_train, y_test = train_test_split(X, y, test_size=0.20, random_state=42)\n"
      ],
      "metadata": {
        "id": "UmDTkVGP1jCq"
      },
      "execution_count": 10,
      "outputs": []
    },
    {
      "cell_type": "code",
      "source": [
        "tokenizer = Tokenizer(num_words=5000)\n",
        "tokenizer.fit_on_texts(X_train)\n",
        "\n",
        "X_train = tokenizer.texts_to_sequences(X_train)\n",
        "X_test = tokenizer.texts_to_sequences(X_test)"
      ],
      "metadata": {
        "id": "aIcPY2ru1l-Q"
      },
      "execution_count": 11,
      "outputs": []
    },
    {
      "cell_type": "code",
      "source": [
        "vocab_size = len(tokenizer.word_index) + 1\n",
        "\n",
        "maxlen = 100\n",
        "\n",
        "X_train = pad_sequences(X_train, padding='post', maxlen=maxlen)\n",
        "X_test = pad_sequences(X_test, padding='post', maxlen=maxlen)"
      ],
      "metadata": {
        "id": "rxdI0O9t1nJ_"
      },
      "execution_count": 12,
      "outputs": []
    },
    {
      "cell_type": "code",
      "source": [
        "from numpy import array\n",
        "from numpy import asarray\n",
        "from numpy import zeros\n",
        "\n",
        "embeddings_dictionary = dict()\n",
        "glove_file = open('glove.6B.100d.txt', encoding=\"utf8\")\n",
        "\n",
        "for line in glove_file:\n",
        "    records = line.split()\n",
        "    word = records[0]\n",
        "    vector_dimensions = asarray(records[1:], dtype='float32')\n",
        "    embeddings_dictionary [word] = vector_dimensions\n",
        "glove_file.close()"
      ],
      "metadata": {
        "id": "a32pjP5H1pym"
      },
      "execution_count": 13,
      "outputs": []
    },
    {
      "cell_type": "code",
      "source": [
        "embedding_matrix = zeros((vocab_size, 100))\n",
        "for word, index in tokenizer.word_index.items():\n",
        "    embedding_vector = embeddings_dictionary.get(word)\n",
        "    if embedding_vector is not None:\n",
        "        embedding_matrix[index] = embedding_vector"
      ],
      "metadata": {
        "id": "bthuv7JM1xxa"
      },
      "execution_count": 14,
      "outputs": []
    },
    {
      "cell_type": "code",
      "source": [
        "model = Sequential()\n",
        "embedding_layer = Embedding(vocab_size, 100, weights=[embedding_matrix], input_length=maxlen , trainable=False)\n",
        "model.add(embedding_layer)\n",
        "model.add(Flatten())\n",
        "model.add(Dense(1, activation='sigmoid'))"
      ],
      "metadata": {
        "id": "I_LSpHrf1z_3"
      },
      "execution_count": 15,
      "outputs": []
    },
    {
      "cell_type": "code",
      "source": [
        "model.compile(optimizer='adam', loss='binary_crossentropy', metrics=['acc'])\n",
        "print(model.summary())"
      ],
      "metadata": {
        "colab": {
          "base_uri": "https://localhost:8080/"
        },
        "id": "XVt5boOK12vc",
        "outputId": "b4c0011c-1a9d-4aee-b982-d9e84de9f1b0"
      },
      "execution_count": 16,
      "outputs": [
        {
          "output_type": "stream",
          "name": "stdout",
          "text": [
            "Model: \"sequential\"\n",
            "_________________________________________________________________\n",
            " Layer (type)                Output Shape              Param #   \n",
            "=================================================================\n",
            " embedding (Embedding)       (None, 100, 100)          1687300   \n",
            "                                                                 \n",
            " flatten (Flatten)           (None, 10000)             0         \n",
            "                                                                 \n",
            " dense (Dense)               (None, 1)                 10001     \n",
            "                                                                 \n",
            "=================================================================\n",
            "Total params: 1,697,301\n",
            "Trainable params: 10,001\n",
            "Non-trainable params: 1,687,300\n",
            "_________________________________________________________________\n",
            "None\n"
          ]
        }
      ]
    },
    {
      "cell_type": "code",
      "source": [
        "history = model.fit(X_train, y_train, batch_size=128, epochs=6, verbose=1, validation_split=0.2)\n"
      ],
      "metadata": {
        "colab": {
          "base_uri": "https://localhost:8080/"
        },
        "id": "7aTHjWeY15zy",
        "outputId": "eb3c2637-da77-4fe0-a309-e309ae36f7b1"
      },
      "execution_count": 17,
      "outputs": [
        {
          "output_type": "stream",
          "name": "stdout",
          "text": [
            "Epoch 1/6\n",
            "34/34 [==============================] - 2s 14ms/step - loss: 0.5129 - acc: 0.8028 - val_loss: 0.5028 - val_acc: 0.7987\n",
            "Epoch 2/6\n",
            "34/34 [==============================] - 0s 8ms/step - loss: 0.4513 - acc: 0.8088 - val_loss: 0.4933 - val_acc: 0.7996\n",
            "Epoch 3/6\n",
            "34/34 [==============================] - 0s 7ms/step - loss: 0.4157 - acc: 0.8148 - val_loss: 0.4833 - val_acc: 0.7996\n",
            "Epoch 4/6\n",
            "34/34 [==============================] - 0s 7ms/step - loss: 0.3909 - acc: 0.8230 - val_loss: 0.4801 - val_acc: 0.7950\n",
            "Epoch 5/6\n",
            "34/34 [==============================] - 0s 7ms/step - loss: 0.3698 - acc: 0.8348 - val_loss: 0.4781 - val_acc: 0.7978\n",
            "Epoch 6/6\n",
            "34/34 [==============================] - 0s 7ms/step - loss: 0.3514 - acc: 0.8462 - val_loss: 0.4775 - val_acc: 0.7950\n"
          ]
        }
      ]
    },
    {
      "cell_type": "code",
      "source": [
        "score = model.evaluate(X_test, y_test, verbose=1)"
      ],
      "metadata": {
        "colab": {
          "base_uri": "https://localhost:8080/"
        },
        "id": "ZhJofQ3V198-",
        "outputId": "0922b279-c8f4-4906-ee85-06d37cd4d3f3"
      },
      "execution_count": 18,
      "outputs": [
        {
          "output_type": "stream",
          "name": "stdout",
          "text": [
            "43/43 [==============================] - 0s 2ms/step - loss: 0.4879 - acc: 0.7919\n"
          ]
        }
      ]
    },
    {
      "cell_type": "code",
      "source": [
        "print(\"Test Score:\", score[0])\n",
        "print(\"Test Accuracy:\", score[1])"
      ],
      "metadata": {
        "colab": {
          "base_uri": "https://localhost:8080/"
        },
        "id": "LyNYidat2A6F",
        "outputId": "1c7bfb8d-073f-412d-9324-c367441d5b7a"
      },
      "execution_count": 19,
      "outputs": [
        {
          "output_type": "stream",
          "name": "stdout",
          "text": [
            "Test Score: 0.4878787398338318\n",
            "Test Accuracy: 0.791911780834198\n"
          ]
        }
      ]
    },
    {
      "cell_type": "code",
      "source": [
        "plt.title('model accuracy')\n",
        "plt.ylabel('accuracy')\n",
        "plt.xlabel('epoch')\n",
        "plt.legend(['train','test'], loc='upper left')\n",
        "plt.plot(history.history['acc'])\n",
        "plt.plot(history.history['val_acc'])\n",
        "plt.show()\n",
        "\n",
        "plt.title('model accuracy')\n",
        "plt.ylabel('loss')\n",
        "plt.xlabel('epoch')\n",
        "plt.legend(['train','test'], loc='upper left')\n",
        "plt.plot(history.history['loss'])\n",
        "plt.plot(history.history['val_loss'])\n",
        "plt.show()"
      ],
      "metadata": {
        "colab": {
          "base_uri": "https://localhost:8080/",
          "height": 573
        },
        "id": "Qq9gNnfA2P5_",
        "outputId": "3cd698d3-813c-4320-fb22-e97262f9c8a0"
      },
      "execution_count": 20,
      "outputs": [
        {
          "output_type": "display_data",
          "data": {
            "text/plain": [
              "<Figure size 432x288 with 1 Axes>"
            ],
            "image/png": "[encoded data removed]"
          },
          "metadata": {
            "needs_background": "light"
          }
        },
        {
          "output_type": "display_data",
          "data": {
            "text/plain": [
              "<Figure size 432x288 with 1 Axes>"
            ],
            "image/png": "[encoded data removed]"
          },
          "metadata": {
            "needs_background": "light"
          }
        }
      ]
    },
    {
      "cell_type": "markdown",
      "source": [
        "LSTM EVRİŞİMLİ SİNİR AĞLARI SINIFLANDIRMA"
      ],
      "metadata": {
        "id": "M2s9joVf4Nad"
      }
    },
    {
      "cell_type": "code",
      "source": [
        "\n",
        "from keras.layers import Conv1D\n",
        "model = Sequential()\n",
        "\n",
        "embedding_layer = Embedding(vocab_size, 100, weights=[embedding_matrix], input_length=maxlen , trainable=False)\n",
        "model.add(embedding_layer)\n",
        "\n",
        "model.add(Conv1D(128, 5, activation='relu'))\n",
        "model.add(GlobalMaxPooling1D())\n",
        "model.add(Dense(1, activation='sigmoid'))\n",
        "model.compile(optimizer='adam', loss='binary_crossentropy', metrics=['acc'])"
      ],
      "metadata": {
        "id": "fLlNaipt4BlG"
      },
      "execution_count": 21,
      "outputs": []
    },
    {
      "cell_type": "code",
      "source": [
        "print(model.summary())"
      ],
      "metadata": {
        "colab": {
          "base_uri": "https://localhost:8080/"
        },
        "id": "uQeEyLm44gq4",
        "outputId": "6e184a25-3ad2-44e6-8f41-372d5b882f93"
      },
      "execution_count": 22,
      "outputs": [
        {
          "output_type": "stream",
          "name": "stdout",
          "text": [
            "Model: \"sequential_1\"\n",
            "_________________________________________________________________\n",
            " Layer (type)                Output Shape              Param #   \n",
            "=================================================================\n",
            " embedding_1 (Embedding)     (None, 100, 100)          1687300   \n",
            "                                                                 \n",
            " conv1d (Conv1D)             (None, 96, 128)           64128     \n",
            "                                                                 \n",
            " global_max_pooling1d (Globa  (None, 128)              0         \n",
            " lMaxPooling1D)                                                  \n",
            "                                                                 \n",
            " dense_1 (Dense)             (None, 1)                 129       \n",
            "                                                                 \n",
            "=================================================================\n",
            "Total params: 1,751,557\n",
            "Trainable params: 64,257\n",
            "Non-trainable params: 1,687,300\n",
            "_________________________________________________________________\n",
            "None\n"
          ]
        }
      ]
    },
    {
      "cell_type": "code",
      "source": [
        "history = model.fit(X_train, y_train, batch_size=128, epochs=6, verbose=1, validation_split=0.2)\n",
        "score = model.evaluate(X_test, y_test, verbose=1)"
      ],
      "metadata": {
        "colab": {
          "base_uri": "https://localhost:8080/"
        },
        "id": "f0ruqVki5Qm1",
        "outputId": "6f3d9c47-55de-41fd-9581-3f4ef5fe9718"
      },
      "execution_count": 23,
      "outputs": [
        {
          "output_type": "stream",
          "name": "stdout",
          "text": [
            "Epoch 1/6\n",
            "34/34 [==============================] - 5s 124ms/step - loss: 0.4749 - acc: 0.8074 - val_loss: 0.4406 - val_acc: 0.8125\n",
            "Epoch 2/6\n",
            "34/34 [==============================] - 3s 88ms/step - loss: 0.3746 - acc: 0.8311 - val_loss: 0.4031 - val_acc: 0.8162\n",
            "Epoch 3/6\n",
            "34/34 [==============================] - 3s 88ms/step - loss: 0.3167 - acc: 0.8564 - val_loss: 0.3821 - val_acc: 0.8189\n",
            "Epoch 4/6\n",
            "34/34 [==============================] - 3s 86ms/step - loss: 0.2735 - acc: 0.8835 - val_loss: 0.3788 - val_acc: 0.8290\n",
            "Epoch 5/6\n",
            "34/34 [==============================] - 3s 86ms/step - loss: 0.2326 - acc: 0.9157 - val_loss: 0.3651 - val_acc: 0.8327\n",
            "Epoch 6/6\n",
            "34/34 [==============================] - 3s 88ms/step - loss: 0.1987 - acc: 0.9343 - val_loss: 0.3457 - val_acc: 0.8382\n",
            "43/43 [==============================] - 0s 10ms/step - loss: 0.3676 - acc: 0.8478\n"
          ]
        }
      ]
    },
    {
      "cell_type": "code",
      "source": [
        "print(\"Test Score:\", score[0])\n",
        "print(\"Test Accuracy:\", score[1])"
      ],
      "metadata": {
        "colab": {
          "base_uri": "https://localhost:8080/"
        },
        "id": "usWYAbeD5WtY",
        "outputId": "6eb7de07-625c-4c2c-c2df-7fc80866815f"
      },
      "execution_count": 24,
      "outputs": [
        {
          "output_type": "stream",
          "name": "stdout",
          "text": [
            "Test Score: 0.3675861954689026\n",
            "Test Accuracy: 0.8477941155433655\n"
          ]
        }
      ]
    },
    {
      "cell_type": "code",
      "source": [
        "import matplotlib.pyplot as plt\n",
        "\n",
        "plt.plot(history.history['acc'])\n",
        "plt.plot(history.history['val_acc'])\n",
        "\n",
        "plt.title('model accuracy')\n",
        "plt.ylabel('accuracy')\n",
        "plt.xlabel('epoch')\n",
        "plt.legend(['train','test'], loc = 'upper left')\n",
        "plt.show()\n",
        "\n",
        "plt.plot(history.history['loss'])\n",
        "plt.plot(history.history['val_loss'])\n",
        "\n",
        "plt.title('model loss')\n",
        "plt.ylabel('loss')\n",
        "plt.xlabel('epoch')\n",
        "plt.legend(['train','test'], loc = 'upper left')\n",
        "plt.show()"
      ],
      "metadata": {
        "colab": {
          "base_uri": "https://localhost:8080/",
          "height": 573
        },
        "id": "CCkVOmxH4kXE",
        "outputId": "dcf1f0ea-da7a-49b3-cad3-c9b714f235a5"
      },
      "execution_count": 25,
      "outputs": [
        {
          "output_type": "display_data",
          "data": {
            "text/plain": [
              "<Figure size 432x288 with 1 Axes>"
            ],
            "image/png": "[encoded data removed]"
          },
          "metadata": {
            "needs_background": "light"
          }
        },
        {
          "output_type": "display_data",
          "data": {
            "text/plain": [
              "<Figure size 432x288 with 1 Axes>"
            ],
            "image/png": "[encoded data removed]"
          },
          "metadata": {
            "needs_background": "light"
          }
        }
      ]
    },
    {
      "cell_type": "markdown",
      "source": [
        "TEKRARLAYAN SİNİR AĞI MODELİ İLE METİN SINIFLANDIRMA"
      ],
      "metadata": {
        "id": "yA5RX8Bc5f6M"
      }
    },
    {
      "cell_type": "code",
      "source": [
        "from tensorflow.keras.layers import LSTM\n",
        "model = Sequential()\n",
        "embedding_layer = Embedding(vocab_size, 100, weights=[embedding_matrix], input_length=maxlen , trainable=False)\n",
        "model.add(embedding_layer)\n",
        "model.add(LSTM(128))\n",
        "\n",
        "model.add(Dense(1, activation='sigmoid'))\n",
        "model.compile(optimizer='adam', loss='binary_crossentropy', metrics=['acc'])"
      ],
      "metadata": {
        "id": "PpR29RfY5ecL"
      },
      "execution_count": 26,
      "outputs": []
    },
    {
      "cell_type": "code",
      "source": [
        "print(model.summary())"
      ],
      "metadata": {
        "colab": {
          "base_uri": "https://localhost:8080/"
        },
        "id": "23-Ko2tI6dHp",
        "outputId": "ab07c5d4-d6a4-4924-df6d-c8fb93200626"
      },
      "execution_count": 27,
      "outputs": [
        {
          "output_type": "stream",
          "name": "stdout",
          "text": [
            "Model: \"sequential_2\"\n",
            "_________________________________________________________________\n",
            " Layer (type)                Output Shape              Param #   \n",
            "=================================================================\n",
            " embedding_2 (Embedding)     (None, 100, 100)          1687300   \n",
            "                                                                 \n",
            " lstm (LSTM)                 (None, 128)               117248    \n",
            "                                                                 \n",
            " dense_2 (Dense)             (None, 1)                 129       \n",
            "                                                                 \n",
            "=================================================================\n",
            "Total params: 1,804,677\n",
            "Trainable params: 117,377\n",
            "Non-trainable params: 1,687,300\n",
            "_________________________________________________________________\n",
            "None\n"
          ]
        }
      ]
    },
    {
      "cell_type": "code",
      "source": [
        "history = model.fit(X_train, y_train, batch_size=128, epochs=6, verbose=1, validation_split=0.2)\n",
        "score = model.evaluate(X_test, y_test, verbose=1)"
      ],
      "metadata": {
        "colab": {
          "base_uri": "https://localhost:8080/"
        },
        "id": "GXpcbSoq6mmH",
        "outputId": "b8c33ba4-cb5d-41cf-d688-377c5627f419"
      },
      "execution_count": 28,
      "outputs": [
        {
          "output_type": "stream",
          "name": "stdout",
          "text": [
            "Epoch 1/6\n",
            "34/34 [==============================] - 16s 399ms/step - loss: 0.5473 - acc: 0.7925 - val_loss: 0.5038 - val_acc: 0.8006\n",
            "Epoch 2/6\n",
            "34/34 [==============================] - 11s 311ms/step - loss: 0.4920 - acc: 0.8067 - val_loss: 0.4996 - val_acc: 0.8006\n",
            "Epoch 3/6\n",
            "34/34 [==============================] - 11s 315ms/step - loss: 0.4921 - acc: 0.8067 - val_loss: 0.5025 - val_acc: 0.8006\n",
            "Epoch 4/6\n",
            "34/34 [==============================] - 11s 313ms/step - loss: 0.4921 - acc: 0.8067 - val_loss: 0.4997 - val_acc: 0.8006\n",
            "Epoch 5/6\n",
            "34/34 [==============================] - 11s 335ms/step - loss: 0.4918 - acc: 0.8067 - val_loss: 0.5005 - val_acc: 0.8006\n",
            "Epoch 6/6\n",
            "34/34 [==============================] - 11s 312ms/step - loss: 0.4929 - acc: 0.8067 - val_loss: 0.5022 - val_acc: 0.8006\n",
            "43/43 [==============================] - 2s 50ms/step - loss: 0.5313 - acc: 0.7765\n"
          ]
        }
      ]
    },
    {
      "cell_type": "code",
      "source": [
        "print(\"Test Score:\", score[0])\n",
        "print(\"Test Accuracy:\", score[1])"
      ],
      "metadata": {
        "colab": {
          "base_uri": "https://localhost:8080/"
        },
        "id": "LPyQi-Tl6qm-",
        "outputId": "ffbec22d-4d7f-450e-9446-0bd389984e7e"
      },
      "execution_count": 29,
      "outputs": [
        {
          "output_type": "stream",
          "name": "stdout",
          "text": [
            "Test Score: 0.5313389897346497\n",
            "Test Accuracy: 0.7764706015586853\n"
          ]
        }
      ]
    },
    {
      "cell_type": "code",
      "source": [
        "import matplotlib.pyplot as plt\n",
        "\n",
        "plt.plot(history.history['acc'])\n",
        "plt.plot(history.history['val_acc'])\n",
        "\n",
        "plt.title('model accuracy')\n",
        "plt.ylabel('accuracy')\n",
        "plt.xlabel('epoch')\n",
        "plt.legend(['train','test'], loc='upper left')\n",
        "plt.show()\n",
        "\n",
        "plt.plot(history.history['loss'])\n",
        "plt.plot(history.history['val_loss'])\n",
        "\n",
        "plt.title('model loss')\n",
        "plt.ylabel('loss')\n",
        "plt.xlabel('epoch')\n",
        "plt.legend(['train','test'], loc='upper left')\n",
        "plt.show()"
      ],
      "metadata": {
        "colab": {
          "base_uri": "https://localhost:8080/",
          "height": 573
        },
        "id": "nbtecVkb6vwZ",
        "outputId": "2a85e059-7ac0-4ed6-9cf5-5a364da2b434"
      },
      "execution_count": 30,
      "outputs": [
        {
          "output_type": "display_data",
          "data": {
            "text/plain": [
              "<Figure size 432x288 with 1 Axes>"
            ],
            "image/png": "[encoded data removed]"
          },
          "metadata": {
            "needs_background": "light"
          }
        },
        {
          "output_type": "display_data",
          "data": {
            "text/plain": [
              "<Figure size 432x288 with 1 Axes>"
            ],
            "image/png": "[encoded data removed]"
          },
          "metadata": {
            "needs_background": "light"
          }
        }
      ]
    },
    {
      "cell_type": "code",
      "source": [
        "instance = X[402]\n",
        "print(instance)"
      ],
      "metadata": {
        "colab": {
          "base_uri": "https://localhost:8080/"
        },
        "id": "eneNc76i6zsA",
        "outputId": "463c2eef-ac53-49c8-cbe1-d3bce1b27e67"
      },
      "execution_count": 33,
      "outputs": [
        {
          "output_type": "stream",
          "name": "stdout",
          "text": [
            "Whoever chose the commentators and pundits for the BBC and itv world cup needs to be sacked the most boring and soulless bunch we ve had the misfortune to hear from with few exceptions \n"
          ]
        }
      ]
    },
    {
      "cell_type": "code",
      "source": [
        "instance = tokenizer.texts_to_sequences(instance)\n",
        "\n",
        "flat_list = []\n",
        "for sublist in instance:\n",
        "    for item in sublist:\n",
        "        flat_list.append(item)\n",
        "\n",
        "flat_list = [flat_list]\n",
        "\n",
        "instance = pad_sequences(flat_list, padding='post', maxlen=maxlen)\n",
        "\n",
        "model.predict(instance)"
      ],
      "metadata": {
        "colab": {
          "base_uri": "https://localhost:8080/"
        },
        "id": "Cm2tC5-D69Bf",
        "outputId": "9e018ab3-37d5-4581-8e67-6544d8ef999e"
      },
      "execution_count": 34,
      "outputs": [
        {
          "output_type": "stream",
          "name": "stdout",
          "text": [
            "1/1 [==============================] - 0s 27ms/step\n"
          ]
        },
        {
          "output_type": "execute_result",
          "data": {
            "text/plain": [
              "array([[0.764303]], dtype=float32)"
            ]
          },
          "metadata": {},
          "execution_count": 34
        }
      ]
    },
    {
      "cell_type": "code",
      "source": [],
      "metadata": {
        "id": "xziHB5AiqKti"
      },
      "execution_count": 32,
      "outputs": []
    }
  ]
}