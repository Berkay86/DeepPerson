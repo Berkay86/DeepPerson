{
  "nbformat": 4,
  "nbformat_minor": 0,
  "metadata": {
    "colab": {
      "provenance": [],
      "authorship_tag": "ABX9TyO9yz1BQotWM5BsI4Lx3GX/",
      "include_colab_link": true
    },
    "kernelspec": {
      "name": "python3",
      "display_name": "Python 3"
    },
    "language_info": {
      "name": "python"
    }
  },
  "cells": [
    {
      "cell_type": "markdown",
      "metadata": {
        "id": "view-in-github",
        "colab_type": "text"
      },
      "source": [
        "<a href=\"https://colab.research.google.com/github/Berkay86/DeepPerson/blob/main/S%C4%B1n%C4%B1fland%C4%B1rma.ipynb\" target=\"_parent\"><img src=\"https://colab.research.google.com/assets/colab-badge.svg\" alt=\"Open In Colab\"/></a>"
      ]
    },
    {
      "cell_type": "code",
      "execution_count": 181,
      "metadata": {
        "id": "XIkDyQJAx0w_"
      },
      "outputs": [],
      "source": [
        "import pandas as pd\n",
        "import numpy as np\n",
        "import re\n",
        "import nltk\n",
        "import matplotlib.pyplot as plt\n",
        "from nltk.corpus import stopwords\n",
        "import string\n",
        "from numpy import array\n",
        "from keras.preprocessing.text import one_hot\n",
        "from tensorflow.keras.preprocessing.sequence import pad_sequences\n",
        "from keras.models import Sequential\n",
        "from keras.layers.core import Activation, Dropout, Dense\n",
        "from keras.layers import Flatten\n",
        "from keras.layers import GlobalMaxPooling1D\n",
        "from keras.layers import Embedding\n",
        "from sklearn.model_selection import train_test_split\n",
        "from keras.preprocessing.text import Tokenizer\n"
      ]
    },
    {
      "cell_type": "code",
      "source": [
        "resturantreviews = pd.read_csv(\"sentiment (1).csv\")\n",
        "resturantreviews.isnull().values.any()\n",
        "resturantreviews.shape"
      ],
      "metadata": {
        "colab": {
          "base_uri": "https://localhost:8080/"
        },
        "id": "1jHx2HP9x3QX",
        "outputId": "a4e54a01-690f-4302-9c91-61723e03a707"
      },
      "execution_count": 182,
      "outputs": [
        {
          "output_type": "execute_result",
          "data": {
            "text/plain": [
              "(2001, 13)"
            ]
          },
          "metadata": {},
          "execution_count": 182
        }
      ]
    },
    {
      "cell_type": "code",
      "source": [
        "resturantreviews.head()"
      ],
      "metadata": {
        "colab": {
          "base_uri": "https://localhost:8080/",
          "height": 513
        },
        "id": "ZJdvLwYsx5Jr",
        "outputId": "6f15db7a-b1a0-43a9-ca93-e164ec7e9d6c"
      },
      "execution_count": 183,
      "outputs": [
        {
          "output_type": "execute_result",
          "data": {
            "text/plain": [
              "   Unnamed: 0                       Date                   ID  \\\n",
              "0           0  2022-12-13 21:07:15+00:00  1602772160569016321   \n",
              "1           1  2022-12-13 21:07:15+00:00  1602772160464015361   \n",
              "2           2  2022-12-13 21:07:15+00:00  1602772160011194368   \n",
              "3           3  2022-12-13 21:07:15+00:00  1602772159675486210   \n",
              "4           4  2022-12-13 21:07:15+00:00  1602772159512055809   \n",
              "\n",
              "                                                 url         username  \\\n",
              "0  https://twitter.com/1899Gallego/status/1602772...      1899Gallego   \n",
              "1  https://twitter.com/Affellariouz/status/160277...     Affellariouz   \n",
              "2  https://twitter.com/moneyjumpin/status/1602772...      moneyjumpin   \n",
              "3  https://twitter.com/Orlog2verdandi/status/1602...   Orlog2verdandi   \n",
              "4  https://twitter.com/NickRoj80278654/status/160...  NickRoj80278654   \n",
              "\n",
              "                source      location  \\\n",
              "0   Twitter for iPhone           NaN   \n",
              "1  Twitter for Android           NaN   \n",
              "2   Twitter for iPhone           NaN   \n",
              "3  Twitter for Android  Florida, USA   \n",
              "4   Twitter for iPhone           NaN   \n",
              "\n",
              "                                               tweet  num_of_likes  \\\n",
              "0        @FIFAWorldCup @adidasfootball Messi monster             0   \n",
              "1  I don't say may Argentina 🇦🇷 no enter final bu...             0   \n",
              "2  going back to train at Brighton after being a ...             0   \n",
              "3  @YaBoiBru @HNS_CFF @Argentina @FIFAWorldCup My...             0   \n",
              "4  @FIFAWorldCup @adidasfootball Last South Ameri...             0   \n",
              "\n",
              "   num_of_retweet                                   Processed_Tweets  \\\n",
              "0               0                                      messi monster   \n",
              "1               0  i dont say may argentina no enter final but ma...   \n",
              "2               0  going back to train at brighton after being a ...   \n",
              "3               0                                cff my same thought   \n",
              "4               0     last south american team left in the world cup   \n",
              "\n",
              "   Polarity Sentiment  \n",
              "0  0.000000       NaN  \n",
              "1  0.000000       NaN  \n",
              "2 -0.033333  Negative  \n",
              "3  0.000000       NaN  \n",
              "4  0.000000       NaN  "
            ],
            "text/html": [
              "\n",
              "  <div id=\"df-ed2ea899-e3a5-4e4f-8e38-9ead6d34252a\">\n",
              "    <div class=\"colab-df-container\">\n",
              "      <div>\n",
              "<style scoped>\n",
              "    .dataframe tbody tr th:only-of-type {\n",
              "        vertical-align: middle;\n",
              "    }\n",
              "\n",
              "    .dataframe tbody tr th {\n",
              "        vertical-align: top;\n",
              "    }\n",
              "\n",
              "    .dataframe thead th {\n",
              "        text-align: right;\n",
              "    }\n",
              "</style>\n",
              "<table border=\"1\" class=\"dataframe\">\n",
              "  <thead>\n",
              "    <tr style=\"text-align: right;\">\n",
              "      <th></th>\n",
              "      <th>Unnamed: 0</th>\n",
              "      <th>Date</th>\n",
              "      <th>ID</th>\n",
              "      <th>url</th>\n",
              "      <th>username</th>\n",
              "      <th>source</th>\n",
              "      <th>location</th>\n",
              "      <th>tweet</th>\n",
              "      <th>num_of_likes</th>\n",
              "      <th>num_of_retweet</th>\n",
              "      <th>Processed_Tweets</th>\n",
              "      <th>Polarity</th>\n",
              "      <th>Sentiment</th>\n",
              "    </tr>\n",
              "  </thead>\n",
              "  <tbody>\n",
              "    <tr>\n",
              "      <th>0</th>\n",
              "      <td>0</td>\n",
              "      <td>2022-12-13 21:07:15+00:00</td>\n",
              "      <td>1602772160569016321</td>\n",
              "      <td>https://twitter.com/1899Gallego/status/1602772...</td>\n",
              "      <td>1899Gallego</td>\n",
              "      <td>Twitter for iPhone</td>\n",
              "      <td>NaN</td>\n",
              "      <td>@FIFAWorldCup @adidasfootball Messi monster</td>\n",
              "      <td>0</td>\n",
              "      <td>0</td>\n",
              "      <td>messi monster</td>\n",
              "      <td>0.000000</td>\n",
              "      <td>NaN</td>\n",
              "    </tr>\n",
              "    <tr>\n",
              "      <th>1</th>\n",
              "      <td>1</td>\n",
              "      <td>2022-12-13 21:07:15+00:00</td>\n",
              "      <td>1602772160464015361</td>\n",
              "      <td>https://twitter.com/Affellariouz/status/160277...</td>\n",
              "      <td>Affellariouz</td>\n",
              "      <td>Twitter for Android</td>\n",
              "      <td>NaN</td>\n",
              "      <td>I don't say may Argentina 🇦🇷 no enter final bu...</td>\n",
              "      <td>0</td>\n",
              "      <td>0</td>\n",
              "      <td>i dont say may argentina no enter final but ma...</td>\n",
              "      <td>0.000000</td>\n",
              "      <td>NaN</td>\n",
              "    </tr>\n",
              "    <tr>\n",
              "      <th>2</th>\n",
              "      <td>2</td>\n",
              "      <td>2022-12-13 21:07:15+00:00</td>\n",
              "      <td>1602772160011194368</td>\n",
              "      <td>https://twitter.com/moneyjumpin/status/1602772...</td>\n",
              "      <td>moneyjumpin</td>\n",
              "      <td>Twitter for iPhone</td>\n",
              "      <td>NaN</td>\n",
              "      <td>going back to train at Brighton after being a ...</td>\n",
              "      <td>0</td>\n",
              "      <td>0</td>\n",
              "      <td>going back to train at brighton after being a ...</td>\n",
              "      <td>-0.033333</td>\n",
              "      <td>Negative</td>\n",
              "    </tr>\n",
              "    <tr>\n",
              "      <th>3</th>\n",
              "      <td>3</td>\n",
              "      <td>2022-12-13 21:07:15+00:00</td>\n",
              "      <td>1602772159675486210</td>\n",
              "      <td>https://twitter.com/Orlog2verdandi/status/1602...</td>\n",
              "      <td>Orlog2verdandi</td>\n",
              "      <td>Twitter for Android</td>\n",
              "      <td>Florida, USA</td>\n",
              "      <td>@YaBoiBru @HNS_CFF @Argentina @FIFAWorldCup My...</td>\n",
              "      <td>0</td>\n",
              "      <td>0</td>\n",
              "      <td>cff my same thought</td>\n",
              "      <td>0.000000</td>\n",
              "      <td>NaN</td>\n",
              "    </tr>\n",
              "    <tr>\n",
              "      <th>4</th>\n",
              "      <td>4</td>\n",
              "      <td>2022-12-13 21:07:15+00:00</td>\n",
              "      <td>1602772159512055809</td>\n",
              "      <td>https://twitter.com/NickRoj80278654/status/160...</td>\n",
              "      <td>NickRoj80278654</td>\n",
              "      <td>Twitter for iPhone</td>\n",
              "      <td>NaN</td>\n",
              "      <td>@FIFAWorldCup @adidasfootball Last South Ameri...</td>\n",
              "      <td>0</td>\n",
              "      <td>0</td>\n",
              "      <td>last south american team left in the world cup</td>\n",
              "      <td>0.000000</td>\n",
              "      <td>NaN</td>\n",
              "    </tr>\n",
              "  </tbody>\n",
              "</table>\n",
              "</div>\n",
              "      <button class=\"colab-df-convert\" onclick=\"convertToInteractive('df-ed2ea899-e3a5-4e4f-8e38-9ead6d34252a')\"\n",
              "              title=\"Convert this dataframe to an interactive table.\"\n",
              "              style=\"display:none;\">\n",
              "        \n",
              "  <svg xmlns=\"http://www.w3.org/2000/svg\" height=\"24px\"viewBox=\"0 0 24 24\"\n",
              "       width=\"24px\">\n",
              "    <path d=\"M0 0h24v24H0V0z\" fill=\"none\"/>\n",
              "    <path d=\"M18.56 5.44l.94 2.06.94-2.06 2.06-.94-2.06-.94-.94-2.06-.94 2.06-2.06.94zm-11 1L8.5 8.5l.94-2.06 2.06-.94-2.06-.94L8.5 2.5l-.94 2.06-2.06.94zm10 10l.94 2.06.94-2.06 2.06-.94-2.06-.94-.94-2.06-.94 2.06-2.06.94z\"/><path d=\"M17.41 7.96l-1.37-1.37c-.4-.4-.92-.59-1.43-.59-.52 0-1.04.2-1.43.59L10.3 9.45l-7.72 7.72c-.78.78-.78 2.05 0 2.83L4 21.41c.39.39.9.59 1.41.59.51 0 1.02-.2 1.41-.59l7.78-7.78 2.81-2.81c.8-.78.8-2.07 0-2.86zM5.41 20L4 18.59l7.72-7.72 1.47 1.35L5.41 20z\"/>\n",
              "  </svg>\n",
              "      </button>\n",
              "      \n",
              "  <style>\n",
              "    .colab-df-container {\n",
              "      display:flex;\n",
              "      flex-wrap:wrap;\n",
              "      gap: 12px;\n",
              "    }\n",
              "\n",
              "    .colab-df-convert {\n",
              "      background-color: #E8F0FE;\n",
              "      border: none;\n",
              "      border-radius: 50%;\n",
              "      cursor: pointer;\n",
              "      display: none;\n",
              "      fill: #1967D2;\n",
              "      height: 32px;\n",
              "      padding: 0 0 0 0;\n",
              "      width: 32px;\n",
              "    }\n",
              "\n",
              "    .colab-df-convert:hover {\n",
              "      background-color: #E2EBFA;\n",
              "      box-shadow: 0px 1px 2px rgba(60, 64, 67, 0.3), 0px 1px 3px 1px rgba(60, 64, 67, 0.15);\n",
              "      fill: #174EA6;\n",
              "    }\n",
              "\n",
              "    [theme=dark] .colab-df-convert {\n",
              "      background-color: #3B4455;\n",
              "      fill: #D2E3FC;\n",
              "    }\n",
              "\n",
              "    [theme=dark] .colab-df-convert:hover {\n",
              "      background-color: #434B5C;\n",
              "      box-shadow: 0px 1px 3px 1px rgba(0, 0, 0, 0.15);\n",
              "      filter: drop-shadow(0px 1px 2px rgba(0, 0, 0, 0.3));\n",
              "      fill: #FFFFFF;\n",
              "    }\n",
              "  </style>\n",
              "\n",
              "      <script>\n",
              "        const buttonEl =\n",
              "          document.querySelector('#df-ed2ea899-e3a5-4e4f-8e38-9ead6d34252a button.colab-df-convert');\n",
              "        buttonEl.style.display =\n",
              "          google.colab.kernel.accessAllowed ? 'block' : 'none';\n",
              "\n",
              "        async function convertToInteractive(key) {\n",
              "          const element = document.querySelector('#df-ed2ea899-e3a5-4e4f-8e38-9ead6d34252a');\n",
              "          const dataTable =\n",
              "            await google.colab.kernel.invokeFunction('convertToInteractive',\n",
              "                                                     [key], {});\n",
              "          if (!dataTable) return;\n",
              "\n",
              "          const docLinkHtml = 'Like what you see? Visit the ' +\n",
              "            '<a target=\"_blank\" href=https://colab.research.google.com/notebooks/data_table.ipynb>data table notebook</a>'\n",
              "            + ' to learn more about interactive tables.';\n",
              "          element.innerHTML = '';\n",
              "          dataTable['output_type'] = 'display_data';\n",
              "          await google.colab.output.renderOutput(dataTable, element);\n",
              "          const docLink = document.createElement('div');\n",
              "          docLink.innerHTML = docLinkHtml;\n",
              "          element.appendChild(docLink);\n",
              "        }\n",
              "      </script>\n",
              "    </div>\n",
              "  </div>\n",
              "  "
            ]
          },
          "metadata": {},
          "execution_count": 183
        }
      ]
    },
    {
      "cell_type": "code",
      "source": [
        "resturantreviews[\"tweet\"][3]"
      ],
      "metadata": {
        "colab": {
          "base_uri": "https://localhost:8080/",
          "height": 36
        },
        "id": "P9O1tpN8x_GH",
        "outputId": "3bedf412-dfdb-4205-896d-52ec86a7e364"
      },
      "execution_count": 184,
      "outputs": [
        {
          "output_type": "execute_result",
          "data": {
            "text/plain": [
              "'@YaBoiBru @HNS_CFF @Argentina @FIFAWorldCup My same thoughts.'"
            ],
            "application/vnd.google.colaboratory.intrinsic+json": {
              "type": "string"
            }
          },
          "metadata": {},
          "execution_count": 184
        }
      ]
    },
    {
      "cell_type": "code",
      "source": [
        "import seaborn as sns\n",
        "sns.countplot(x='Sentiment', data=resturantreviews)\n",
        "plt.show()"
      ],
      "metadata": {
        "colab": {
          "base_uri": "https://localhost:8080/",
          "height": 279
        },
        "id": "GeI9xDD9yB5D",
        "outputId": "4f5e904f-d2ff-48da-d1f6-7aef8c73bc8d"
      },
      "execution_count": 185,
      "outputs": [
        {
          "output_type": "display_data",
          "data": {
            "text/plain": [
              "<Figure size 432x288 with 1 Axes>"
            ],
            "image/png": "[encoded data removed]"
          },
          "metadata": {
            "needs_background": "light"
          }
        }
      ]
    },
    {
      "cell_type": "code",
      "source": [
        "def preprocess_text(sen):\n",
        "    # Removing html tags\n",
        "    sentence = remove_tags(sen)\n",
        "\n",
        "    # Remove punctuations and numbers\n",
        "    sentence = re.sub('[^a-zA-Z]', ' ', sentence)\n",
        "\n",
        "    # Single character removal\n",
        "    sentence = re.sub(r\"\\s+[a-zA-Z]\\s+\", ' ', sentence)\n",
        "\n",
        "    # Removing multiple spaces\n",
        "    sentence = re.sub(r'\\s+', ' ', sentence)\n",
        "\n",
        "    return sentence"
      ],
      "metadata": {
        "id": "n7IvfXt00YVJ"
      },
      "execution_count": 186,
      "outputs": []
    },
    {
      "cell_type": "code",
      "source": [
        "TAG_RE = re.compile(r'<[^>]+>')\n",
        "\n",
        "def remove_tags(text):\n",
        "    return TAG_RE.sub('', text)"
      ],
      "metadata": {
        "id": "7FCwJ6KY0aio"
      },
      "execution_count": 187,
      "outputs": []
    },
    {
      "cell_type": "code",
      "source": [
        "X = []\n",
        "sentences = list(resturantreviews['tweet'])\n",
        "for sen1 in sentences:\n",
        "    X.append(preprocess_text(str(sen1)))"
      ],
      "metadata": {
        "id": "2i5s1IE10c_6"
      },
      "execution_count": 188,
      "outputs": []
    },
    {
      "cell_type": "code",
      "source": [
        "y = resturantreviews['Sentiment']\n",
        "y = np.array(list(map(lambda x: 1 if x==\"Positive\" else 0, y)))\n",
        "y"
      ],
      "metadata": {
        "colab": {
          "base_uri": "https://localhost:8080/"
        },
        "id": "QZV_UX1F1aUF",
        "outputId": "5ddcc314-112a-41fc-c84a-92cbd2f82ec6"
      },
      "execution_count": 189,
      "outputs": [
        {
          "output_type": "execute_result",
          "data": {
            "text/plain": [
              "array([0, 0, 0, ..., 1, 1, 1])"
            ]
          },
          "metadata": {},
          "execution_count": 189
        }
      ]
    },
    {
      "cell_type": "code",
      "source": [
        "X_train, X_test, y_train, y_test = train_test_split(X, y, test_size=0.20, random_state=42)\n"
      ],
      "metadata": {
        "id": "UmDTkVGP1jCq"
      },
      "execution_count": 190,
      "outputs": []
    },
    {
      "cell_type": "code",
      "source": [
        "tokenizer = Tokenizer(num_words=5000)\n",
        "tokenizer.fit_on_texts(X_train)\n",
        "\n",
        "X_train = tokenizer.texts_to_sequences(X_train)\n",
        "X_test = tokenizer.texts_to_sequences(X_test)"
      ],
      "metadata": {
        "id": "aIcPY2ru1l-Q"
      },
      "execution_count": 191,
      "outputs": []
    },
    {
      "cell_type": "code",
      "source": [
        "vocab_size = len(tokenizer.word_index) + 1\n",
        "\n",
        "maxlen = 100\n",
        "\n",
        "X_train = pad_sequences(X_train, padding='post', maxlen=maxlen)\n",
        "X_test = pad_sequences(X_test, padding='post', maxlen=maxlen)"
      ],
      "metadata": {
        "id": "rxdI0O9t1nJ_"
      },
      "execution_count": 192,
      "outputs": []
    },
    {
      "cell_type": "code",
      "source": [
        "from numpy import array\n",
        "from numpy import asarray\n",
        "from numpy import zeros\n",
        "\n",
        "embeddings_dictionary = dict()\n",
        "glove_file = open('glove.6B.100d.txt', encoding=\"utf8\")\n",
        "\n",
        "for line in glove_file:\n",
        "    records = line.split()\n",
        "    word = records[0]\n",
        "    vector_dimensions = asarray(records[1:], dtype='float32')\n",
        "    embeddings_dictionary [word] = vector_dimensions\n",
        "glove_file.close()"
      ],
      "metadata": {
        "id": "a32pjP5H1pym"
      },
      "execution_count": 193,
      "outputs": []
    },
    {
      "cell_type": "code",
      "source": [
        "embedding_matrix = zeros((vocab_size, 100))\n",
        "for word, index in tokenizer.word_index.items():\n",
        "    embedding_vector = embeddings_dictionary.get(word)\n",
        "    if embedding_vector is not None:\n",
        "        embedding_matrix[index] = embedding_vector"
      ],
      "metadata": {
        "id": "bthuv7JM1xxa"
      },
      "execution_count": 194,
      "outputs": []
    },
    {
      "cell_type": "code",
      "source": [
        "model = Sequential()\n",
        "embedding_layer = Embedding(vocab_size, 100, weights=[embedding_matrix], input_length=maxlen , trainable=False)\n",
        "model.add(embedding_layer)\n",
        "model.add(Flatten())\n",
        "model.add(Dense(1, activation='sigmoid'))"
      ],
      "metadata": {
        "id": "I_LSpHrf1z_3"
      },
      "execution_count": 195,
      "outputs": []
    },
    {
      "cell_type": "code",
      "source": [
        "model.compile(optimizer='adam', loss='binary_crossentropy', metrics=['acc'])\n",
        "print(model.summary())"
      ],
      "metadata": {
        "colab": {
          "base_uri": "https://localhost:8080/"
        },
        "id": "XVt5boOK12vc",
        "outputId": "4e701ce7-c9e7-44e1-c813-3cd6e050b7c7"
      },
      "execution_count": 196,
      "outputs": [
        {
          "output_type": "stream",
          "name": "stdout",
          "text": [
            "Model: \"sequential_10\"\n",
            "_________________________________________________________________\n",
            " Layer (type)                Output Shape              Param #   \n",
            "=================================================================\n",
            " embedding_10 (Embedding)    (None, 100, 100)          513900    \n",
            "                                                                 \n",
            " flatten_4 (Flatten)         (None, 10000)             0         \n",
            "                                                                 \n",
            " dense_10 (Dense)            (None, 1)                 10001     \n",
            "                                                                 \n",
            "=================================================================\n",
            "Total params: 523,901\n",
            "Trainable params: 10,001\n",
            "Non-trainable params: 513,900\n",
            "_________________________________________________________________\n",
            "None\n"
          ]
        }
      ]
    },
    {
      "cell_type": "code",
      "source": [
        "history = model.fit(X_train, y_train, batch_size=128, epochs=6, verbose=1, validation_split=0.2)\n"
      ],
      "metadata": {
        "colab": {
          "base_uri": "https://localhost:8080/"
        },
        "id": "7aTHjWeY15zy",
        "outputId": "825e1067-9e31-43e3-d878-be7d5f89b8fb"
      },
      "execution_count": 197,
      "outputs": [
        {
          "output_type": "stream",
          "name": "stdout",
          "text": [
            "Epoch 1/6\n",
            "10/10 [==============================] - 2s 24ms/step - loss: 0.6673 - acc: 0.5906 - val_loss: 0.6610 - val_acc: 0.6594\n",
            "Epoch 2/6\n",
            "10/10 [==============================] - 0s 11ms/step - loss: 0.5964 - acc: 0.6945 - val_loss: 0.6452 - val_acc: 0.6719\n",
            "Epoch 3/6\n",
            "10/10 [==============================] - 0s 8ms/step - loss: 0.5531 - acc: 0.7414 - val_loss: 0.6253 - val_acc: 0.6687\n",
            "Epoch 4/6\n",
            "10/10 [==============================] - 0s 8ms/step - loss: 0.5212 - acc: 0.7773 - val_loss: 0.6266 - val_acc: 0.6750\n",
            "Epoch 5/6\n",
            "10/10 [==============================] - 0s 10ms/step - loss: 0.4928 - acc: 0.7906 - val_loss: 0.6218 - val_acc: 0.6906\n",
            "Epoch 6/6\n",
            "10/10 [==============================] - 0s 9ms/step - loss: 0.4739 - acc: 0.8125 - val_loss: 0.6246 - val_acc: 0.6750\n"
          ]
        }
      ]
    },
    {
      "cell_type": "code",
      "source": [
        "score = model.evaluate(X_test, y_test, verbose=1)"
      ],
      "metadata": {
        "colab": {
          "base_uri": "https://localhost:8080/"
        },
        "id": "ZhJofQ3V198-",
        "outputId": "b80a9980-9311-4164-e0dc-825421477e04"
      },
      "execution_count": 198,
      "outputs": [
        {
          "output_type": "stream",
          "name": "stdout",
          "text": [
            "13/13 [==============================] - 0s 2ms/step - loss: 0.5834 - acc: 0.7232\n"
          ]
        }
      ]
    },
    {
      "cell_type": "code",
      "source": [
        "print(\"Test Score:\", score[0])\n",
        "print(\"Test Accuracy:\", score[1])"
      ],
      "metadata": {
        "colab": {
          "base_uri": "https://localhost:8080/"
        },
        "id": "LyNYidat2A6F",
        "outputId": "993e3ba6-bfd3-4d6d-fcd7-0d203630d802"
      },
      "execution_count": 199,
      "outputs": [
        {
          "output_type": "stream",
          "name": "stdout",
          "text": [
            "Test Score: 0.5833608508110046\n",
            "Test Accuracy: 0.723192036151886\n"
          ]
        }
      ]
    },
    {
      "cell_type": "code",
      "source": [
        "plt.title('model accuracy')\n",
        "plt.ylabel('accuracy')\n",
        "plt.xlabel('epoch')\n",
        "plt.legend(['train','test'], loc='upper left')\n",
        "plt.plot(history.history['acc'])\n",
        "plt.plot(history.history['val_acc'])\n",
        "plt.show()\n",
        "\n",
        "plt.title('model accuracy')\n",
        "plt.ylabel('loss')\n",
        "plt.xlabel('epoch')\n",
        "plt.legend(['train','test'], loc='upper left')\n",
        "plt.plot(history.history['loss'])\n",
        "plt.plot(history.history['val_loss'])\n",
        "plt.show()"
      ],
      "metadata": {
        "colab": {
          "base_uri": "https://localhost:8080/",
          "height": 573
        },
        "id": "Qq9gNnfA2P5_",
        "outputId": "24c29b31-1f13-4b57-a77b-51e443fc1af9"
      },
      "execution_count": 200,
      "outputs": [
        {
          "output_type": "display_data",
          "data": {
            "text/plain": [
              "<Figure size 432x288 with 1 Axes>"
            ],
            "image/png": "[encoded data removed]"
          },
          "metadata": {
            "needs_background": "light"
          }
        },
        {
          "output_type": "display_data",
          "data": {
            "text/plain": [
              "<Figure size 432x288 with 1 Axes>"
            ],
            "image/png": "[encoded data removed]"
          },
          "metadata": {
            "needs_background": "light"
          }
        }
      ]
    },
    {
      "cell_type": "markdown",
      "source": [
        "LSTM EVRİŞİMLİ SİNİR AĞLARI SINIFLANDIRMA"
      ],
      "metadata": {
        "id": "M2s9joVf4Nad"
      }
    },
    {
      "cell_type": "code",
      "source": [
        "\n",
        "from keras.layers import Conv1D\n",
        "model = Sequential()\n",
        "\n",
        "embedding_layer = Embedding(vocab_size, 100, weights=[embedding_matrix], input_length=maxlen , trainable=False)\n",
        "model.add(embedding_layer)\n",
        "\n",
        "model.add(Conv1D(128, 5, activation='relu'))\n",
        "model.add(GlobalMaxPooling1D())\n",
        "model.add(Dense(1, activation='sigmoid'))\n",
        "model.compile(optimizer='adam', loss='binary_crossentropy', metrics=['acc'])"
      ],
      "metadata": {
        "id": "fLlNaipt4BlG"
      },
      "execution_count": 201,
      "outputs": []
    },
    {
      "cell_type": "code",
      "source": [
        "print(model.summary())"
      ],
      "metadata": {
        "colab": {
          "base_uri": "https://localhost:8080/"
        },
        "id": "uQeEyLm44gq4",
        "outputId": "14cbd7fb-1bb5-48a9-f922-1e16e5cfa332"
      },
      "execution_count": 202,
      "outputs": [
        {
          "output_type": "stream",
          "name": "stdout",
          "text": [
            "Model: \"sequential_11\"\n",
            "_________________________________________________________________\n",
            " Layer (type)                Output Shape              Param #   \n",
            "=================================================================\n",
            " embedding_11 (Embedding)    (None, 100, 100)          513900    \n",
            "                                                                 \n",
            " conv1d_4 (Conv1D)           (None, 96, 128)           64128     \n",
            "                                                                 \n",
            " global_max_pooling1d_4 (Glo  (None, 128)              0         \n",
            " balMaxPooling1D)                                                \n",
            "                                                                 \n",
            " dense_11 (Dense)            (None, 1)                 129       \n",
            "                                                                 \n",
            "=================================================================\n",
            "Total params: 578,157\n",
            "Trainable params: 64,257\n",
            "Non-trainable params: 513,900\n",
            "_________________________________________________________________\n",
            "None\n"
          ]
        }
      ]
    },
    {
      "cell_type": "code",
      "source": [
        "history = model.fit(X_train, y_train, batch_size=128, epochs=6, verbose=1, validation_split=0.2)\n",
        "score = model.evaluate(X_test, y_test, verbose=1)"
      ],
      "metadata": {
        "colab": {
          "base_uri": "https://localhost:8080/"
        },
        "id": "f0ruqVki5Qm1",
        "outputId": "5bcb9f40-47f0-4039-c787-abd8967d2f3b"
      },
      "execution_count": 203,
      "outputs": [
        {
          "output_type": "stream",
          "name": "stdout",
          "text": [
            "Epoch 1/6\n",
            "10/10 [==============================] - 2s 127ms/step - loss: 0.6875 - acc: 0.6070 - val_loss: 0.6266 - val_acc: 0.6344\n",
            "Epoch 2/6\n",
            "10/10 [==============================] - 1s 107ms/step - loss: 0.5455 - acc: 0.7188 - val_loss: 0.5434 - val_acc: 0.6969\n",
            "Epoch 3/6\n",
            "10/10 [==============================] - 1s 109ms/step - loss: 0.4695 - acc: 0.7984 - val_loss: 0.5176 - val_acc: 0.7250\n",
            "Epoch 4/6\n",
            "10/10 [==============================] - 1s 110ms/step - loss: 0.4090 - acc: 0.8687 - val_loss: 0.4996 - val_acc: 0.7656\n",
            "Epoch 5/6\n",
            "10/10 [==============================] - 1s 109ms/step - loss: 0.3669 - acc: 0.8859 - val_loss: 0.4806 - val_acc: 0.7781\n",
            "Epoch 6/6\n",
            "10/10 [==============================] - 1s 109ms/step - loss: 0.3303 - acc: 0.9141 - val_loss: 0.4685 - val_acc: 0.7875\n",
            "13/13 [==============================] - 0s 13ms/step - loss: 0.4688 - acc: 0.7656\n"
          ]
        }
      ]
    },
    {
      "cell_type": "code",
      "source": [
        "print(\"Test Score:\", score[0])\n",
        "print(\"Test Accuracy:\", score[1])"
      ],
      "metadata": {
        "colab": {
          "base_uri": "https://localhost:8080/"
        },
        "id": "usWYAbeD5WtY",
        "outputId": "6a842db0-9838-410d-c48e-dff94f70fa4e"
      },
      "execution_count": 204,
      "outputs": [
        {
          "output_type": "stream",
          "name": "stdout",
          "text": [
            "Test Score: 0.46877574920654297\n",
            "Test Accuracy: 0.7655860185623169\n"
          ]
        }
      ]
    },
    {
      "cell_type": "code",
      "source": [
        "import matplotlib.pyplot as plt\n",
        "\n",
        "plt.plot(history.history['acc'])\n",
        "plt.plot(history.history['val_acc'])\n",
        "\n",
        "plt.title('model accuracy')\n",
        "plt.ylabel('accuracy')\n",
        "plt.xlabel('epoch')\n",
        "plt.legend(['train','test'], loc = 'upper left')\n",
        "plt.show()\n",
        "\n",
        "plt.plot(history.history['loss'])\n",
        "plt.plot(history.history['val_loss'])\n",
        "\n",
        "plt.title('model loss')\n",
        "plt.ylabel('loss')\n",
        "plt.xlabel('epoch')\n",
        "plt.legend(['train','test'], loc = 'upper left')\n",
        "plt.show()"
      ],
      "metadata": {
        "colab": {
          "base_uri": "https://localhost:8080/",
          "height": 573
        },
        "id": "CCkVOmxH4kXE",
        "outputId": "95578b8d-b4d1-4123-cff8-58daf52b10b6"
      },
      "execution_count": 205,
      "outputs": [
        {
          "output_type": "display_data",
          "data": {
            "text/plain": [
              "<Figure size 432x288 with 1 Axes>"
            ],
            "image/png": "[encoded data removed]"
          },
          "metadata": {
            "needs_background": "light"
          }
        },
        {
          "output_type": "display_data",
          "data": {
            "text/plain": [
              "<Figure size 432x288 with 1 Axes>"
            ],
            "image/png": "[encoded data removed]"
          },
          "metadata": {
            "needs_background": "light"
          }
        }
      ]
    },
    {
      "cell_type": "markdown",
      "source": [
        "TEKRARLAYAN SİNİR AĞI MODELİ İLE METİN SINIFLANDIRMA"
      ],
      "metadata": {
        "id": "yA5RX8Bc5f6M"
      }
    },
    {
      "cell_type": "code",
      "source": [
        "from tensorflow.keras.layers import LSTM\n",
        "model = Sequential()\n",
        "embedding_layer = Embedding(vocab_size, 100, weights=[embedding_matrix], input_length=maxlen , trainable=False)\n",
        "model.add(embedding_layer)\n",
        "model.add(LSTM(128))\n",
        "\n",
        "model.add(Dense(1, activation='sigmoid'))\n",
        "model.compile(optimizer='adam', loss='binary_crossentropy', metrics=['acc'])"
      ],
      "metadata": {
        "id": "PpR29RfY5ecL"
      },
      "execution_count": 206,
      "outputs": []
    },
    {
      "cell_type": "code",
      "source": [
        "print(model.summary())"
      ],
      "metadata": {
        "colab": {
          "base_uri": "https://localhost:8080/"
        },
        "id": "23-Ko2tI6dHp",
        "outputId": "97742701-4bff-49be-ad48-90d044e77132"
      },
      "execution_count": 207,
      "outputs": [
        {
          "output_type": "stream",
          "name": "stdout",
          "text": [
            "Model: \"sequential_12\"\n",
            "_________________________________________________________________\n",
            " Layer (type)                Output Shape              Param #   \n",
            "=================================================================\n",
            " embedding_12 (Embedding)    (None, 100, 100)          513900    \n",
            "                                                                 \n",
            " lstm_2 (LSTM)               (None, 128)               117248    \n",
            "                                                                 \n",
            " dense_12 (Dense)            (None, 1)                 129       \n",
            "                                                                 \n",
            "=================================================================\n",
            "Total params: 631,277\n",
            "Trainable params: 117,377\n",
            "Non-trainable params: 513,900\n",
            "_________________________________________________________________\n",
            "None\n"
          ]
        }
      ]
    },
    {
      "cell_type": "code",
      "source": [
        "history = model.fit(X_train, y_train, batch_size=128, epochs=6, verbose=1, validation_split=0.2)\n",
        "score = model.evaluate(X_test, y_test, verbose=1)"
      ],
      "metadata": {
        "colab": {
          "base_uri": "https://localhost:8080/"
        },
        "id": "GXpcbSoq6mmH",
        "outputId": "103a0038-357f-4ac4-cec3-52e5bf5168ee"
      },
      "execution_count": 208,
      "outputs": [
        {
          "output_type": "stream",
          "name": "stdout",
          "text": [
            "Epoch 1/6\n",
            "10/10 [==============================] - 6s 419ms/step - loss: 0.6872 - acc: 0.5789 - val_loss: 0.6786 - val_acc: 0.5844\n",
            "Epoch 2/6\n",
            "10/10 [==============================] - 6s 646ms/step - loss: 0.6680 - acc: 0.5813 - val_loss: 0.6245 - val_acc: 0.6219\n",
            "Epoch 3/6\n",
            "10/10 [==============================] - 4s 405ms/step - loss: 0.6323 - acc: 0.6102 - val_loss: 0.5986 - val_acc: 0.6062\n",
            "Epoch 4/6\n",
            "10/10 [==============================] - 3s 349ms/step - loss: 0.5699 - acc: 0.6727 - val_loss: 0.5814 - val_acc: 0.6844\n",
            "Epoch 5/6\n",
            "10/10 [==============================] - 4s 354ms/step - loss: 0.5593 - acc: 0.6875 - val_loss: 0.5687 - val_acc: 0.6812\n",
            "Epoch 6/6\n",
            "10/10 [==============================] - 3s 352ms/step - loss: 0.5336 - acc: 0.7102 - val_loss: 0.5536 - val_acc: 0.7312\n",
            "13/13 [==============================] - 1s 58ms/step - loss: 0.5423 - acc: 0.7182\n"
          ]
        }
      ]
    },
    {
      "cell_type": "code",
      "source": [
        "print(\"Test Score:\", score[0])\n",
        "print(\"Test Accuracy:\", score[1])"
      ],
      "metadata": {
        "colab": {
          "base_uri": "https://localhost:8080/"
        },
        "id": "LPyQi-Tl6qm-",
        "outputId": "85557459-9b8b-4c3d-beac-90c2e8ea5c6a"
      },
      "execution_count": 209,
      "outputs": [
        {
          "output_type": "stream",
          "name": "stdout",
          "text": [
            "Test Score: 0.5422806739807129\n",
            "Test Accuracy: 0.7182044982910156\n"
          ]
        }
      ]
    },
    {
      "cell_type": "code",
      "source": [
        "import matplotlib.pyplot as plt\n",
        "\n",
        "plt.plot(history.history['acc'])\n",
        "plt.plot(history.history['val_acc'])\n",
        "\n",
        "plt.title('model accuracy')\n",
        "plt.ylabel('accuracy')\n",
        "plt.xlabel('epoch')\n",
        "plt.legend(['train','test'], loc='upper left')\n",
        "plt.show()\n",
        "\n",
        "plt.plot(history.history['loss'])\n",
        "plt.plot(history.history['val_loss'])\n",
        "\n",
        "plt.title('model loss')\n",
        "plt.ylabel('loss')\n",
        "plt.xlabel('epoch')\n",
        "plt.legend(['train','test'], loc='upper left')\n",
        "plt.show()"
      ],
      "metadata": {
        "colab": {
          "base_uri": "https://localhost:8080/",
          "height": 573
        },
        "id": "nbtecVkb6vwZ",
        "outputId": "c88be68c-3e19-4b99-a391-3eb30466593a"
      },
      "execution_count": 210,
      "outputs": [
        {
          "output_type": "display_data",
          "data": {
            "text/plain": [
              "<Figure size 432x288 with 1 Axes>"
            ],
            "image/png": "[encoded data removed]"
          },
          "metadata": {
            "needs_background": "light"
          }
        },
        {
          "output_type": "display_data",
          "data": {
            "text/plain": [
              "<Figure size 432x288 with 1 Axes>"
            ],
            "image/png": "[encoded data removed]"
          },
          "metadata": {
            "needs_background": "light"
          }
        }
      ]
    },
    {
      "cell_type": "code",
      "source": [
        "instance = X[400]\n",
        "print(instance)"
      ],
      "metadata": {
        "colab": {
          "base_uri": "https://localhost:8080/"
        },
        "id": "eneNc76i6zsA",
        "outputId": "038c5b87-5f24-45ae-dcd0-fbd1214ad73a"
      },
      "execution_count": 219,
      "outputs": [
        {
          "output_type": "stream",
          "name": "stdout",
          "text": [
            "Not sure if should be rooting for the PSG homie KMbappe tomorrow or Morocco as the st African nation to make World Cup Final \n"
          ]
        }
      ]
    },
    {
      "cell_type": "code",
      "source": [
        "instance = tokenizer.texts_to_sequences(instance)\n",
        "\n",
        "flat_list = []\n",
        "for sublist in instance:\n",
        "    for item in sublist:\n",
        "        flat_list.append(item)\n",
        "\n",
        "flat_list = [flat_list]\n",
        "\n",
        "instance = pad_sequences(flat_list, padding='post', maxlen=maxlen)\n",
        "\n",
        "model.predict(instance)"
      ],
      "metadata": {
        "colab": {
          "base_uri": "https://localhost:8080/"
        },
        "id": "Cm2tC5-D69Bf",
        "outputId": "ea42aab6-da78-496e-c8be-4d3cd1a71084"
      },
      "execution_count": 220,
      "outputs": [
        {
          "output_type": "stream",
          "name": "stdout",
          "text": [
            "1/1 [==============================] - 0s 27ms/step\n"
          ]
        },
        {
          "output_type": "execute_result",
          "data": {
            "text/plain": [
              "array([[0.2260171]], dtype=float32)"
            ]
          },
          "metadata": {},
          "execution_count": 220
        }
      ]
    }
  ]
}