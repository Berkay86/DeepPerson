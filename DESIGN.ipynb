{
  "nbformat": 4,
  "nbformat_minor": 0,
  "metadata": {
    "colab": {
      "provenance": [],
      "authorship_tag": "ABX9TyM5lIpi1ZAwExYRsC4ddKOO",
      "include_colab_link": true
    },
    "kernelspec": {
      "name": "python3",
      "display_name": "Python 3"
    },
    "language_info": {
      "name": "python"
    }
  },
  "cells": [
    {
      "cell_type": "markdown",
      "metadata": {
        "id": "view-in-github",
        "colab_type": "text"
      },
      "source": [
        "<a href=\"https://colab.research.google.com/github/Berkay86/DeepPerson/blob/main/DESIGN.ipynb\" target=\"_parent\"><img src=\"https://colab.research.google.com/assets/colab-badge.svg\" alt=\"Open In Colab\"/></a>"
      ]
    },
    {
      "cell_type": "code",
      "execution_count": 19,
      "metadata": {
        "id": "b3nDtxAV1ZOP",
        "colab": {
          "base_uri": "https://localhost:8080/"
        },
        "outputId": "c088d50a-8a13-4152-ccf5-956451530ae4"
      },
      "outputs": [
        {
          "name": "stdout",
          "output_type": "stream",
          "text": [
            "Değer giriniz5\n",
            "Lütfen [0, 0] indeksindeki değeri girin: 7\n",
            "Lütfen [0, 1] indeksindeki değeri girin: 7\n",
            "Lütfen [0, 2] indeksindeki değeri girin: 15\n",
            "Lütfen [0, 3] indeksindeki değeri girin: 11\n",
            "Lütfen [0, 4] indeksindeki değeri girin: 9\n",
            "Lütfen [1, 0] indeksindeki değeri girin: 12\n",
            "Lütfen [1, 1] indeksindeki değeri girin: 17\n",
            "Lütfen [1, 2] indeksindeki değeri girin: 12\n",
            "Lütfen [1, 3] indeksindeki değeri girin: 18\n",
            "Lütfen [1, 4] indeksindeki değeri girin: 18\n",
            "Lütfen [2, 0] indeksindeki değeri girin: 14\n",
            "Lütfen [2, 1] indeksindeki değeri girin: 18\n",
            "Lütfen [2, 2] indeksindeki değeri girin: 18\n",
            "Lütfen [2, 3] indeksindeki değeri girin: 19\n",
            "Lütfen [2, 4] indeksindeki değeri girin: 19\n",
            "Lütfen [3, 0] indeksindeki değeri girin: 19\n",
            "Lütfen [3, 1] indeksindeki değeri girin: 25\n",
            "Lütfen [3, 2] indeksindeki değeri girin: 22\n",
            "Lütfen [3, 3] indeksindeki değeri girin: 19\n",
            "Lütfen [3, 4] indeksindeki değeri girin: 23\n",
            "Lütfen [4, 0] indeksindeki değeri girin: 7\n",
            "Lütfen [4, 1] indeksindeki değeri girin: 10\n",
            "Lütfen [4, 2] indeksindeki değeri girin: 11\n",
            "Lütfen [4, 3] indeksindeki değeri girin: 15\n",
            "Lütfen [4, 4] indeksindeki değeri girin: 11\n"
          ]
        }
      ],
      "source": [
        "import numpy as np\n",
        "n=int(input(\"Değer giriniz\"))\n",
        "gozlemler = np.zeros((n, n))\n",
        "for i in range(n):\n",
        "  for j in range(n):\n",
        "        gozlemler[i][j] = float(input(\"Lütfen [{}, {}] indeksindeki değeri girin: \".format(i, j)))\n",
        "\n",
        "\n"
      ]
    },
    {
      "cell_type": "code",
      "source": [
        "gozlemler"
      ],
      "metadata": {
        "colab": {
          "base_uri": "https://localhost:8080/"
        },
        "id": "dRCY_PoTMfvh",
        "outputId": "586426aa-ed5a-498a-e1b6-dd75b7f1a43d"
      },
      "execution_count": 20,
      "outputs": [
        {
          "output_type": "execute_result",
          "data": {
            "text/plain": [
              "array([[ 7.,  7., 15., 11.,  9.],\n",
              "       [12., 17., 12., 18., 18.],\n",
              "       [14., 18., 18., 19., 19.],\n",
              "       [19., 25., 22., 19., 23.],\n",
              "       [ 7., 10., 11., 15., 11.]])"
            ]
          },
          "metadata": {},
          "execution_count": 20
        }
      ]
    },
    {
      "cell_type": "code",
      "source": [
        "satir_toplamlari = np.sum(gozlemler, axis=1)\n",
        "satir_ortalamalari = np.mean(gozlemler, axis=1)\n",
        "satir_toplamlarinın_toplami = np.sum(np.sum(gozlemler, axis=0))\n",
        "satir_ortalamalari_ortalamasi = np.mean(satir_ortalamalari, axis=0)\n",
        "print(satir_toplamlari)\n",
        "print(satir_ortalamalari)\n",
        "print(satir_toplamlarinın_toplami )\n",
        "print(satir_ortalamalari_ortalamasi )\n"
      ],
      "metadata": {
        "colab": {
          "base_uri": "https://localhost:8080/"
        },
        "id": "NDRQaWB48H6D",
        "outputId": "9e7292b4-5606-4875-e480-b41e2bb8330c"
      },
      "execution_count": 33,
      "outputs": [
        {
          "output_type": "stream",
          "name": "stdout",
          "text": [
            "[ 49.  77.  88. 108.  54.]\n",
            "[ 9.8 15.4 17.6 21.6 10.8]\n",
            "376.0\n",
            "15.040000000000001\n"
          ]
        }
      ]
    },
    {
      "cell_type": "code",
      "source": [
        "satir_toplamlari = np.sum(gozlemler, axis=1)\n",
        "satir_ortalamalari = np.mean(gozlemler, axis=1)\n",
        "satir_toplamlarinın_toplami = np.sum(np.sum(gozlemler, axis=0))\n",
        "satir_ortalamalari_ortalamasi = np.mean(satir_ortalamalari, axis=0)\n",
        "import scipy.stats as stats\n",
        "SST=np.sum(np.square(gozlemler))-(satir_toplamlarinın_toplami**2)/(n**2)\n",
        "SSB=np.sum(np.square(satir_toplamlari)/n)-(satir_toplamlarinın_toplami**2)/(n**2)\n",
        "SSW=SST-SSB\n",
        "dfb=n-1\n",
        "dfw=n**2-n\n",
        "dftotal=n**2-1\n",
        "MSB=SSB/dfb\n",
        "MSW=SSW/dfw\n",
        "F=MSB/MSW\n",
        "f_value = stats.f.ppf(q=1-0.05, dfn=dfb, dfd=dfw)\n",
        "import pandas as pd\n",
        "results = {\n",
        "    \"Kaynaklar\": [\"GruplarArası\", \"Gruplaİçi\", \"Toplam\"],\n",
        "    \"df\": [ dfb, dfw, dftotal],\n",
        "    \"SS\": [ SSB, SSW, SST],\n",
        "    \"MS\": [ MSB, MSW, None],\n",
        "    \"F\": [ F, None, None],\n",
        "\n",
        "}\n",
        "\n",
        "# Sonuçları bir veri çerçevesine dönüştürme\n",
        "anova_table = pd.DataFrame(results)\n",
        "anova_table.set_index(\"Kaynaklar\", inplace=True)\n",
        "print(anova_table)\n",
        "if F>f_value:\n",
        "  print(\"Ho reject\")\n",
        "else:\n",
        "  print(\"Ho is not reject\")"
      ],
      "metadata": {
        "colab": {
          "base_uri": "https://localhost:8080/"
        },
        "outputId": "11417b83-3a2a-4ef7-85ef-c2b39aa30bb8",
        "id": "uSMexDMxPDuV"
      },
      "execution_count": 79,
      "outputs": [
        {
          "output_type": "stream",
          "name": "stdout",
          "text": [
            "              df      SS      MS          F\n",
            "Kaynaklar                                  \n",
            "GruplarArası   4  475.76  118.94  14.756824\n",
            "Gruplaİçi     20  161.20    8.06        NaN\n",
            "Toplam        24  636.96     NaN        NaN\n",
            "Ho reject\n"
          ]
        }
      ]
    }
  ]
}