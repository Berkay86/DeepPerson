{
  "nbformat": 4,
  "nbformat_minor": 0,
  "metadata": {
    "colab": {
      "provenance": [],
      "authorship_tag": "ABX9TyMv0juWixY/zgtz3fFIgX7I",
      "include_colab_link": true
    },
    "kernelspec": {
      "name": "python3",
      "display_name": "Python 3"
    },
    "language_info": {
      "name": "python"
    }
  },
  "cells": [
    {
      "cell_type": "markdown",
      "metadata": {
        "id": "view-in-github",
        "colab_type": "text"
      },
      "source": [
        "<a href=\"https://colab.research.google.com/github/Berkay86/DeepPerson/blob/main/DESIGN.ipynb\" target=\"_parent\"><img src=\"https://colab.research.google.com/assets/colab-badge.svg\" alt=\"Open In Colab\"/></a>"
      ]
    },
    {
      "cell_type": "code",
      "source": [
        "import numpy as np\n",
        "\n",
        "n = int(input(\"Satır Sayısını  giriniz: \"))\n",
        "n1 = int(input(\"Sütun Sayısını  giriniz: \"))\n",
        "gozlemler = np.zeros((n1,n))\n",
        "\n",
        "for i in range(n1):\n",
        "    for j in range(n):\n",
        "        gozlemler[i][j] = float(input(\"Lütfen [{}, {}] indeksindeki değeri girin: \".format(i, j)))\n",
        "\n",
        "\n"
      ],
      "metadata": {
        "colab": {
          "base_uri": "https://localhost:8080/"
        },
        "id": "eGSQtcRptcJX",
        "outputId": "87b49276-2657-41c5-a8e4-53029f1ec8cc"
      },
      "execution_count": null,
      "outputs": [
        {
          "name": "stdout",
          "output_type": "stream",
          "text": [
            "Satır Sayısını  giriniz: 7\n",
            "Sütun Sayısını  giriniz: 4\n",
            "Lütfen [0, 0] indeksindeki değeri girin: 7\n",
            "Lütfen [0, 1] indeksindeki değeri girin: 10\n",
            "Lütfen [0, 2] indeksindeki değeri girin: 13\n",
            "Lütfen [0, 3] indeksindeki değeri girin: 11\n",
            "Lütfen [0, 4] indeksindeki değeri girin: 6\n",
            "Lütfen [0, 5] indeksindeki değeri girin: 13\n",
            "Lütfen [0, 6] indeksindeki değeri girin: 0\n",
            "Lütfen [1, 0] indeksindeki değeri girin: 17\n",
            "Lütfen [1, 1] indeksindeki değeri girin: 9\n",
            "Lütfen [1, 2] indeksindeki değeri girin: 16\n",
            "Lütfen [1, 3] indeksindeki değeri girin: 0\n",
            "Lütfen [1, 4] indeksindeki değeri girin: 0\n",
            "Lütfen [1, 5] indeksindeki değeri girin: 0\n",
            "Lütfen [1, 6] indeksindeki değeri girin: 0\n",
            "Lütfen [2, 0] indeksindeki değeri girin: 6\n",
            "Lütfen [2, 1] indeksindeki değeri girin: 12\n",
            "Lütfen [2, 2] indeksindeki değeri girin: 7\n",
            "Lütfen [2, 3] indeksindeki değeri girin: 11\n",
            "Lütfen [2, 4] indeksindeki değeri girin: 0\n",
            "Lütfen [2, 5] indeksindeki değeri girin: 0\n",
            "Lütfen [2, 6] indeksindeki değeri girin: 0\n",
            "Lütfen [3, 0] indeksindeki değeri girin: 13\n",
            "Lütfen [3, 1] indeksindeki değeri girin: 21\n",
            "Lütfen [3, 2] indeksindeki değeri girin: 12\n",
            "Lütfen [3, 3] indeksindeki değeri girin: 20\n",
            "Lütfen [3, 4] indeksindeki değeri girin: 17\n",
            "Lütfen [3, 5] indeksindeki değeri girin: 10\n",
            "Lütfen [3, 6] indeksindeki değeri girin: 19\n"
          ]
        }
      ]
    },
    {
      "cell_type": "code",
      "source": [
        "import scipy.stats as stats\n",
        "satirlar = []\n",
        "satirlar_toplami = []\n",
        "for row in gozlemler:\n",
        "    row_sum = 0\n",
        "    row_count = 0\n",
        "    for element in row:\n",
        "        if element != 0:\n",
        "            row_sum += element\n",
        "            row_count += 1\n",
        "    if row_count != 0:\n",
        "        row_mean = row_sum / row_count\n",
        "        satirlar.append(row_mean)\n",
        "        satirlar_toplami.append(row_sum)\n",
        "\n",
        "satirlar_ortalamasi = satirlar\n",
        "satirlar_toplami_top = np.sum(satirlar_toplami)\n",
        "\n",
        "print(\"Sütunların toplamı: \", satirlar_toplami)\n",
        "print(\"Sütunların ortalamasının ortalaması: \", satirlar_ortalamasi)\n",
        "print(\"Sütunların ortalamasının ortalaması: \", satirlar_toplami_top/ len(gozlemler) * len(gozlemler[0]))\n",
        "print(\"Sütunların toplamının toplamı: \", satirlar_toplami_top )\n",
        "karelerin_toplamı=np.sum(np.square(gozlemler))\n",
        "print(\"Her değerin karelerinin toplamı\",karelerin_toplamı)\n",
        "a = [np.square(satirlar_toplami)]\n",
        "a1 = [np.count_nonzero(gozlemler[j, :]) for j in range(n1)]\n",
        "results1=[]\n",
        "for i in range(len(a)):\n",
        "  col_results = []\n",
        "for j in range(n1):\n",
        "  if a1[j] != 0:\n",
        "    col_results.append(a[i][j] / a1[j])\n",
        "results1.append(col_results)\n",
        "print(\"Karelerin eleman sayısına bölünüp toplanması: \",np.sum(results1))\n",
        "n=np.sum(a1)\n",
        "SSW=karelerin_toplamı-np.sum(results1)\n",
        "SSB=np.sum(results1)-np.square(satirlar_toplami_top)/n\n",
        "SST=karelerin_toplamı-np.square(satirlar_toplami_top)/n\n",
        "dfb=n1-1\n",
        "dfw=n-n1\n",
        "dftotal=n-1\n",
        "MSB=SSB/dfb\n",
        "MSW=SSW/dfw\n",
        "F=MSB/MSW\n",
        "f_value = stats.f.ppf(q=1-0.05, dfn=dfb, dfd=dfw)\n",
        "import pandas as pd\n",
        "results = {\n",
        "    \"Kaynaklar\": [\"GruplarArası\", \"Gruplaİçi\", \"Toplam\"],\n",
        "    \"df\": [ dfb, dfw, dftotal],\n",
        "    \"SS\": [ SSB, SSW, SST],\n",
        "    \"MS\": [ MSB, MSW, None],\n",
        "    \"F\": [ F, None, None],\n",
        "\n",
        "}\n",
        "\n",
        "# Sonuçları bir veri çerçevesine dönüştürme\n",
        "anova_table = pd.DataFrame(results)\n",
        "anova_table.set_index(\"Kaynaklar\", inplace=True)\n",
        "print(anova_table)\n",
        "if F>f_value:\n",
        "  print(\"Ho reject\")\n",
        "else:\n",
        "  print(\"Ho is not reject\")"
      ],
      "metadata": {
        "colab": {
          "base_uri": "https://localhost:8080/"
        },
        "id": "WNnYVLb85_X0",
        "outputId": "b4479cb3-b3d1-4cc8-a2e7-e97cf9e955bb"
      },
      "execution_count": null,
      "outputs": [
        {
          "output_type": "stream",
          "name": "stdout",
          "text": [
            "Sütunların toplamı:  [60.0, 42.0, 36.0, 112.0]\n",
            "Sütunların ortalamasının ortalaması:  [10.0, 14.0, 9.0, 16.0]\n",
            "Sütunların ortalamasının ortalaması:  437.5\n",
            "Sütunların toplamının toplamı:  250.0\n",
            "Her değerin karelerinin toplamı 3524.0\n",
            "Karelerin eleman sayısına bölünüp toplanması:  3304.0\n",
            "              df     SS         MS         F\n",
            "Kaynaklar                                   \n",
            "GruplarArası   3  179.0  59.666667  4.339394\n",
            "Gruplaİçi     16  220.0  13.750000       NaN\n",
            "Toplam        19  399.0        NaN       NaN\n",
            "Ho reject\n"
          ]
        }
      ]
    },
    {
      "cell_type": "code",
      "source": [
        "import numpy as np\n",
        "n=int(input(\"Değer giriniz\"))\n",
        "m=[]\n",
        "gozlemler = np.zeros((n, n))\n",
        "for i in range(n):\n",
        "  for j in range(n):\n",
        "        gozlemler[i][j] = float(input(\"Lütfen [{}, {}] indeksindeki değeri girin: \".format(i, j)))\n",
        "\n",
        "\n"
      ],
      "metadata": {
        "colab": {
          "base_uri": "https://localhost:8080/"
        },
        "id": "HIAbF-b_KTOW",
        "outputId": "83040592-2484-4eb1-b6c2-4b71b5a0dc1d"
      },
      "execution_count": 9,
      "outputs": [
        {
          "name": "stdout",
          "output_type": "stream",
          "text": [
            "Değer giriniz4\n",
            "Lütfen [0, 0] indeksindeki değeri girin: 143\n",
            "Lütfen [0, 1] indeksindeki değeri girin: 141\n",
            "Lütfen [0, 2] indeksindeki değeri girin: 150\n",
            "Lütfen [0, 3] indeksindeki değeri girin: 146\n",
            "Lütfen [1, 0] indeksindeki değeri girin: 152\n",
            "Lütfen [1, 1] indeksindeki değeri girin: 149\n",
            "Lütfen [1, 2] indeksindeki değeri girin: 137\n",
            "Lütfen [1, 3] indeksindeki değeri girin: 143\n",
            "Lütfen [2, 0] indeksindeki değeri girin: 134\n",
            "Lütfen [2, 1] indeksindeki değeri girin: 136\n",
            "Lütfen [2, 2] indeksindeki değeri girin: 132\n",
            "Lütfen [2, 3] indeksindeki değeri girin: 127\n",
            "Lütfen [3, 0] indeksindeki değeri girin: 129\n",
            "Lütfen [3, 1] indeksindeki değeri girin: 127\n",
            "Lütfen [3, 2] indeksindeki değeri girin: 132\n",
            "Lütfen [3, 3] indeksindeki değeri girin: 129\n"
          ]
        }
      ]
    },
    {
      "cell_type": "code",
      "source": [
        "satir_toplamlari = np.sum(gozlemler, axis=1)\n",
        "satir_ortalamalari = np.mean(gozlemler, axis=1)\n",
        "satir_toplamlarinın_toplami = np.sum(np.sum(gozlemler, axis=0))\n",
        "satir_ortalamalari_ortalamasi = np.mean(satir_ortalamalari, axis=0)\n",
        "\n"
      ],
      "metadata": {
        "id": "NDRQaWB48H6D"
      },
      "execution_count": null,
      "outputs": []
    },
    {
      "cell_type": "code",
      "source": [
        "satir_toplamlari = np.sum(gozlemler, axis=1)\n",
        "satir_ortalamalari = np.mean(gozlemler, axis=1)\n",
        "satir_toplamlarinın_toplami = np.sum(np.sum(gozlemler, axis=0))\n",
        "satir_ortalamalari_ortalamasi = np.mean(satir_ortalamalari, axis=0)\n",
        "import scipy.stats as stats\n",
        "SST=np.sum(np.square(gozlemler))-(satir_toplamlarinın_toplami**2)/(n**2)\n",
        "SSB=np.sum(np.square(satir_toplamlari)/n)-(satir_toplamlarinın_toplami**2)/(n**2)\n",
        "SSW=SST-SSB\n",
        "elemansayisi= len(gozlemler) * len(gozlemler[0])\n",
        "dfb=n-1\n",
        "dfw=elemansayisi-n\n",
        "dftotal=elemansayisi-1\n",
        "MSB=SSB/dfb\n",
        "MSW=SSW/dfw\n",
        "F=MSB/MSW\n",
        "f_value = stats.f.ppf(q=1-0.05, dfn=dfb, dfd=dfw)\n",
        "import pandas as pd\n",
        "results = {\n",
        "    \"Kaynaklar\": [\"GruplarArası\", \"Gruplaİçi\", \"Toplam\"],\n",
        "    \"df\": [ dfb, dfw, dftotal],\n",
        "    \"SS\": [ SSB, SSW, SST],\n",
        "    \"MS\": [ MSB, MSW, None],\n",
        "    \"F\": [ F, None, None],\n",
        "\n",
        "}\n",
        "\n",
        "# Sonuçları bir veri çerçevesine dönüştürme\n",
        "anova_table = pd.DataFrame(results)\n",
        "anova_table.set_index(\"Kaynaklar\", inplace=True)\n",
        "print(anova_table)\n",
        "if F>f_value:\n",
        "  print(\"Ho reject\")\n",
        "else:\n",
        "  print(\"Ho is not reject\")"
      ],
      "metadata": {
        "colab": {
          "base_uri": "https://localhost:8080/"
        },
        "outputId": "3ee035af-faa0-4e99-d9b6-6dcbbb2a6a62",
        "id": "uSMexDMxPDuV"
      },
      "execution_count": 10,
      "outputs": [
        {
          "output_type": "stream",
          "name": "stdout",
          "text": [
            "              df         SS        MS          F\n",
            "Kaynaklar                                       \n",
            "GruplarArası   3   844.6875  281.5625  14.301587\n",
            "Gruplaİçi     12   236.2500   19.6875        NaN\n",
            "Toplam        15  1080.9375       NaN        NaN\n",
            "Ho reject\n"
          ]
        }
      ]
    },
    {
      "cell_type": "code",
      "source": [
        "print(satir_ortalamalari)\n",
        "print(satir_ortalamalari_ortalamasi)\n",
        "print(\"Sonuç : \",satir_ortalamalari-satir_ortalamalari_ortalamasi)\n"
      ],
      "metadata": {
        "id": "ecPBBGLQVfUU",
        "outputId": "3bf856ca-11a0-4977-c981-5f1202566850",
        "colab": {
          "base_uri": "https://localhost:8080/"
        }
      },
      "execution_count": 19,
      "outputs": [
        {
          "output_type": "stream",
          "name": "stdout",
          "text": [
            "[145.   145.25 132.25 129.25]\n",
            "137.9375\n",
            "Sonuç :  [ 7.0625  7.3125 -5.6875 -8.6875]\n"
          ]
        }
      ]
    },
    {
      "cell_type": "code",
      "source": [
        "0.05/6 "
      ],
      "metadata": {
        "id": "5YMoBPVXVxRY",
        "outputId": "4c2cde0d-3ab8-4fbc-d8d6-5bdd4b234286",
        "colab": {
          "base_uri": "https://localhost:8080/"
        }
      },
      "execution_count": 24,
      "outputs": [
        {
          "output_type": "execute_result",
          "data": {
            "text/plain": [
              "0.008333333333333333"
            ]
          },
          "metadata": {},
          "execution_count": 24
        }
      ]
    },
    {
      "cell_type": "code",
      "source": [
        "#Benferroni Tests\n",
        "from math import comb \n",
        "from math import sqrt\n",
        "Pozitif=[]\n",
        "differ=[]\n",
        "Negatif=[]\n",
        "k=comb(n,2)\n",
        "alfa=float(input(\"Alfa Değerini Giriniz: \"))\n",
        "alfat=alfa/k\n",
        "# Hesaplanan t-tablo değeri\n",
        "confidence_level = 1-alfat/2 # %95 güven düzeyi\n",
        "df = elemansayisi - n\n",
        "t_table = stats.t.ppf(confidence_level, df)\n",
        "for i in range(len(satir_ortalamalari)-1):\n",
        "  for x in range(1,len(satir_ortalamalari)-i):\n",
        "    differ.append(abs(satir_ortalamalari[i]-satir_ortalamalari[i+x]))\n",
        "    Pozitif.append((satir_ortalamalari[i]-satir_ortalamalari[i+x])+t_table*sqrt(MSW*2/n))\n",
        "    Negatif.append((satir_ortalamalari[i]-satir_ortalamalari[i+x])-t_table*sqrt(MSW*2/n))"
      ],
      "metadata": {
        "colab": {
          "base_uri": "https://localhost:8080/"
        },
        "id": "XMP4xMkbYbMr",
        "outputId": "40281811-0680-4a98-cca5-d30bcb9895b2"
      },
      "execution_count": 28,
      "outputs": [
        {
          "name": "stdout",
          "output_type": "stream",
          "text": [
            "Alfa Değerini Giriniz: 0.05\n"
          ]
        }
      ]
    },
    {
      "cell_type": "code",
      "source": [
        "for p in range(len(Pozitif)):\n",
        "    if Pozitif[p] > 0 and Negatif[p] < 0:\n",
        "        print(\"Ho hipotezi reddedilemedi: Negatif[\", p, \"] ile Pozitif[\", p, \"] arasında 0 var.\")\n",
        "    else:\n",
        "      print(\"Ho hipotezi reddedildi: Negatif[\", p, \"] ile Pozitif[\", p, \"] arasında 0 yok.\")\n",
        "\n",
        "\n"
      ],
      "metadata": {
        "colab": {
          "base_uri": "https://localhost:8080/"
        },
        "id": "wDujXrZJbssm",
        "outputId": "5d504931-b4cf-493d-c038-7ecc7d7fe059"
      },
      "execution_count": 29,
      "outputs": [
        {
          "output_type": "stream",
          "name": "stdout",
          "text": [
            "Ho hipotezi reddedilemedi: Negatif[ 0 ] ile Pozitif[ 0 ] arasında 0 var.\n",
            "Ho hipotezi reddedildi: Negatif[ 1 ] ile Pozitif[ 1 ] arasında 0 yok.\n",
            "Ho hipotezi reddedildi: Negatif[ 2 ] ile Pozitif[ 2 ] arasında 0 yok.\n",
            "Ho hipotezi reddedildi: Negatif[ 3 ] ile Pozitif[ 3 ] arasında 0 yok.\n",
            "Ho hipotezi reddedildi: Negatif[ 4 ] ile Pozitif[ 4 ] arasında 0 yok.\n",
            "Ho hipotezi reddedilemedi: Negatif[ 5 ] ile Pozitif[ 5 ] arasında 0 var.\n"
          ]
        }
      ]
    },
    {
      "cell_type": "code",
      "source": [
        "#fisher Protected Least Significant Difference Approach\n",
        "confidence_level1 = 1-alfa/2\n",
        "df = elemansayisi - n\n",
        "t_table1 = stats.t.ppf(confidence_level1, df)\n",
        "\n",
        "LSD=t_table1*sqrt(MSW*(2/n))\n",
        "for i in range(len(satir_ortalamalari)-1):\n",
        "  for x in range(1,len(satir_ortalamalari)-i):\n",
        "    if abs(satir_ortalamalari[i]-satir_ortalamalari[i+x])>LSD:\n",
        "        print(abs(satir_ortalamalari[i]))\n",
        "        print(abs(satir_ortalamalari[i+x]))\n",
        "        print(f\"Ho:mu{i}=mu{i+x} Reject Ho\")\n",
        "        \n",
        "    else:\n",
        "        print(abs(satir_ortalamalari[i]))\n",
        "        print(abs(satir_ortalamalari[i+x]))\n",
        "        print(f\"Ho:mu{i}=mu{i+x} cannot Reject Ho\")\n",
        "     "
      ],
      "metadata": {
        "colab": {
          "base_uri": "https://localhost:8080/"
        },
        "id": "gCKGwmr-rQqe",
        "outputId": "db21a5c1-00d0-4445-edc7-30dac8b4ab47"
      },
      "execution_count": 30,
      "outputs": [
        {
          "output_type": "stream",
          "name": "stdout",
          "text": [
            "145.0\n",
            "145.25\n",
            "Ho:mu0=mu1 cannot Reject Ho\n",
            "145.0\n",
            "132.25\n",
            "Ho:mu0=mu2 Reject Ho\n",
            "145.0\n",
            "129.25\n",
            "Ho:mu0=mu3 Reject Ho\n",
            "145.25\n",
            "132.25\n",
            "Ho:mu1=mu2 Reject Ho\n",
            "145.25\n",
            "129.25\n",
            "Ho:mu1=mu3 Reject Ho\n",
            "132.25\n",
            "129.25\n",
            "Ho:mu2=mu3 cannot Reject Ho\n"
          ]
        }
      ]
    },
    {
      "cell_type": "code",
      "source": [
        "from scipy.stats import studentized_range\n",
        "k = n # grup sayısı\n",
        "n1 = elemansayisi-n  # toplam gözlem sayısı\n",
        "alpha = 0.05  # anlamlılık düzeyi\n",
        "q_tablo = studentized_range.ppf(1-alpha, k, n1)\n",
        "HSD=q_tablo*sqrt(MSW/n)\n",
        "for i in range(len(satir_ortalamalari)-1):\n",
        "  for x in range(1,len(satir_ortalamalari)-i):\n",
        "    if abs(satir_ortalamalari[i]-satir_ortalamalari[i+x])>HSD:\n",
        "        print(f\"Ho:mu{i}=mu{i+x} Reject Ho\")\n",
        "        print(\"Upper: \", satir_ortalamalari[i]-satir_ortalamalari[i+x] +HSD)\n",
        "        print(\"Lower: \", satir_ortalamalari[i]-satir_ortalamalari[i+x] -HSD)\n",
        "    else:\n",
        "        print(f\"Ho:mu{i}=mu{i+x} cannot Reject Ho\")\n",
        "        print(\"Upper: \", satir_ortalamalari[i]-satir_ortalamalari[i+x] +HSD)\n",
        "        print(\"Lower: \", satir_ortalamalari[i]-satir_ortalamalari[i+x] -HSD)\n",
        "     "
      ],
      "metadata": {
        "colab": {
          "base_uri": "https://localhost:8080/"
        },
        "id": "D-kjgd9KyFm4",
        "outputId": "fbbf2697-703f-49ad-92a3-735981394a55"
      },
      "execution_count": 39,
      "outputs": [
        {
          "output_type": "stream",
          "name": "stdout",
          "text": [
            "Ho:mu0=mu1 cannot Reject Ho\n",
            "Upper:  9.064853341437091\n",
            "Lower:  -9.564853341437091\n",
            "Ho:mu0=mu2 Reject Ho\n",
            "Upper:  22.064853341437093\n",
            "Lower:  3.4351466585629087\n",
            "Ho:mu0=mu3 Reject Ho\n",
            "Upper:  25.064853341437093\n",
            "Lower:  6.435146658562909\n",
            "Ho:mu1=mu2 Reject Ho\n",
            "Upper:  22.314853341437093\n",
            "Lower:  3.6851466585629087\n",
            "Ho:mu1=mu3 Reject Ho\n",
            "Upper:  25.314853341437093\n",
            "Lower:  6.685146658562909\n",
            "Ho:mu2=mu3 cannot Reject Ho\n",
            "Upper:  12.314853341437091\n",
            "Lower:  -6.314853341437091\n"
          ]
        }
      ]
    },
    {
      "cell_type": "code",
      "source": [
        "#MULTIPLE RANGE TEST(FISHER'S LSD)\n",
        "siralisatir_ortalamalari = sorted(satir_ortalamalari)\n",
        "farklar = []\n",
        "for i in range(len(satir_ortalamalari)-1):\n",
        "  for x in range(1,len(satir_ortalamalari)-i):\n",
        "        fark=abs(satir_ortalamalari[i+x]-satir_ortalamalari[i])\n",
        "        farklar.append((i, i+x, fark))\n",
        "farklar = sorted(farklar)\n",
        "for fark in farklar:\n",
        "    if fark[2] > LSD:\n",
        "        print(\"{}. elemanın {}. elemandan farkı: {:.2f} Significance\".format(fark[0], fark[1], fark[2]))\n",
        "    else:\n",
        "        print(\"{}. elemanın {}. elemandan farkı: {:.2f} Non-Significance\".format(fark[0], fark[1], fark[2]))\n"
      ],
      "metadata": {
        "colab": {
          "base_uri": "https://localhost:8080/"
        },
        "id": "cX7ZFoOgRwEb",
        "outputId": "e59a2cdb-7140-467c-b383-2441e0da72b2"
      },
      "execution_count": 60,
      "outputs": [
        {
          "output_type": "stream",
          "name": "stdout",
          "text": [
            "0. elemanın 1. elemandan farkı: 0.25 Non-Significance\n",
            "0. elemanın 2. elemandan farkı: 12.75 Significance\n",
            "0. elemanın 3. elemandan farkı: 15.75 Significance\n",
            "1. elemanın 2. elemandan farkı: 13.00 Significance\n",
            "1. elemanın 3. elemandan farkı: 16.00 Significance\n",
            "2. elemanın 3. elemandan farkı: 3.00 Non-Significance\n"
          ]
        }
      ]
    },
    {
      "cell_type": "code",
      "source": [
        "#Duncan's MULTIPLE RANGE \n",
        "duncan_value=float(input(\"Duncan Table Value: \"))\n",
        "CV=duncan_value*sqrt(MSW/n)\n",
        "siralisatir_ortalamalari = sorted(satir_ortalamalari)\n",
        "farklar = []\n",
        "for i in range(len(satir_ortalamalari)-1):\n",
        "  for x in range(1,len(satir_ortalamalari)-i):\n",
        "        fark=abs(satir_ortalamalari[i+x]-satir_ortalamalari[i])\n",
        "        farklar.append((i, i+x, fark))\n",
        "farklar = sorted(farklar)\n",
        "for fark in farklar:\n",
        "    if fark[2] > CV:\n",
        "        print(\"{}. elemanın {}. elemandan farkı: {:.2f} Significance\".format(fark[0], fark[1], fark[2]))\n",
        "    else:\n",
        "        print(\"{}. elemanın {}. elemandan farkı: {:.2f} Non-Significance\".format(fark[0], fark[1], fark[2]))"
      ],
      "metadata": {
        "colab": {
          "base_uri": "https://localhost:8080/"
        },
        "id": "RE1EIjuZVHVP",
        "outputId": "d8c4ae27-f907-494a-de09-519dd513a9b2"
      },
      "execution_count": 61,
      "outputs": [
        {
          "output_type": "stream",
          "name": "stdout",
          "text": [
            "Duncan Table Value: 3.255\n",
            "0. elemanın 1. elemandan farkı: 0.25 Non-Significance\n",
            "0. elemanın 2. elemandan farkı: 12.75 Significance\n",
            "0. elemanın 3. elemandan farkı: 15.75 Significance\n",
            "1. elemanın 2. elemandan farkı: 13.00 Significance\n",
            "1. elemanın 3. elemandan farkı: 16.00 Significance\n",
            "2. elemanın 3. elemandan farkı: 3.00 Non-Significance\n"
          ]
        }
      ]
    }
  ]
}