{
  "nbformat": 4,
  "nbformat_minor": 0,
  "metadata": {
    "colab": {
      "provenance": [],
      "include_colab_link": true
    },
    "kernelspec": {
      "name": "python3",
      "display_name": "Python 3"
    },
    "language_info": {
      "name": "python"
    }
  },
  "cells": [
    {
      "cell_type": "markdown",
      "metadata": {
        "id": "view-in-github",
        "colab_type": "text"
      },
      "source": [
        "<a href=\"https://colab.research.google.com/github/Berkay86/DeepPerson/blob/main/DESIGN.ipynb\" target=\"_parent\"><img src=\"https://colab.research.google.com/assets/colab-badge.svg\" alt=\"Open In Colab\"/></a>"
      ]
    },
    {
      "cell_type": "code",
      "source": [
        "import numpy as np\n",
        "\n",
        "n = int(input(\"Satır Sayısını giriniz: \"))\n",
        "n1 = int(input(\"Sütun Sayısını giriniz: \"))\n",
        "v = int(input(\"grup içi eleman Sayısını giriniz: \"))\n",
        "\n",
        "gozlemler = np.zeros((n, n1, v))\n",
        "\n",
        "for i in range(n):\n",
        "    for j in range(n1):\n",
        "        for k in range(v):\n",
        "            gozlemler[i][j][k] = float(input(\"Lütfen [{}, {}, {}] indeksindeki değeri girin: \".format(i, j, k)))\n",
        "\n",
        "\n",
        "# Her grubun ortalaması\n",
        "grup_ortalamalari = np.mean(gozlemler, axis=2)\n",
        "print(\"Her grubun ortalaması:\")\n",
        "print(grup_ortalamalari)\n",
        "\n",
        "\n",
        "# Satır ortalamaları\n",
        "satir_ortalamalari = np.mean(gozlemler, axis=(1, 2))\n",
        "print(\"Satır ortalamaları:\")\n",
        "print(satir_ortalamalari)\n",
        "grup_toplamlari = np.sum(gozlemler, axis=2)\n",
        "print(\"Her grubun toplamı:\")\n",
        "print(grup_toplamlari)\n",
        "# Sütun ortalamaları\n",
        "sutun_ortalamalari = np.mean(gozlemler, axis=(0, 2))\n",
        "print(\"Sütun ortalamaları:\")\n",
        "print(sutun_ortalamalari)\n",
        "\n",
        "# Satır toplamları\n",
        "satir_toplamlari = np.sum(gozlemler, axis=(1, 2))\n",
        "print(\"Satır toplamları:\")\n",
        "print(satir_toplamlari)\n",
        "\n",
        "# Sütun toplamları\n",
        "sutun_toplamlari = np.sum(gozlemler, axis=(0, 2))\n",
        "print(\"Sütun toplamları:\")\n",
        "print(sutun_toplamlari)\n",
        "\n"
      ],
      "metadata": {
        "colab": {
          "base_uri": "https://localhost:8080/"
        },
        "id": "eGSQtcRptcJX",
        "outputId": "0615b421-78ac-47c9-ac44-5d834ec47064"
      },
      "execution_count": 94,
      "outputs": [
        {
          "output_type": "stream",
          "name": "stdout",
          "text": [
            "Satır Sayısını giriniz: 3\n",
            "Sütun Sayısını giriniz: 3\n",
            "grup içi eleman Sayısını giriniz: 2\n",
            "Lütfen [0, 0, 0] indeksindeki değeri girin: 90.4\n",
            "Lütfen [0, 0, 1] indeksindeki değeri girin: 90.2\n",
            "Lütfen [0, 1, 0] indeksindeki değeri girin: 90.7\n",
            "Lütfen [0, 1, 1] indeksindeki değeri girin: 90.6\n",
            "Lütfen [0, 2, 0] indeksindeki değeri girin: 90.2\n",
            "Lütfen [0, 2, 1] indeksindeki değeri girin: 90.4\n",
            "Lütfen [1, 0, 0] indeksindeki değeri girin: 90.1\n",
            "Lütfen [1, 0, 1] indeksindeki değeri girin: 90.3\n",
            "Lütfen [1, 1, 0] indeksindeki değeri girin: 90.5\n",
            "Lütfen [1, 1, 1] indeksindeki değeri girin: 90.6\n",
            "Lütfen [1, 2, 0] indeksindeki değeri girin: 89.9\n",
            "Lütfen [1, 2, 1] indeksindeki değeri girin: 90.1\n",
            "Lütfen [2, 0, 0] indeksindeki değeri girin: 90.5\n",
            "Lütfen [2, 0, 1] indeksindeki değeri girin: 90.7\n",
            "Lütfen [2, 1, 0] indeksindeki değeri girin: 90.8\n",
            "Lütfen [2, 1, 1] indeksindeki değeri girin: 90.9\n",
            "Lütfen [2, 2, 0] indeksindeki değeri girin: 90.4\n",
            "Lütfen [2, 2, 1] indeksindeki değeri girin: 90.1\n",
            "Her grubun ortalaması:\n",
            "[[90.3  90.65 90.3 ]\n",
            " [90.2  90.55 90.  ]\n",
            " [90.6  90.85 90.25]]\n",
            "Satır ortalamaları:\n",
            "[90.41666667 90.25       90.56666667]\n",
            "Her grubun toplamı:\n",
            "[[180.6 181.3 180.6]\n",
            " [180.4 181.1 180. ]\n",
            " [181.2 181.7 180.5]]\n",
            "Sütun ortalamaları:\n",
            "[90.36666667 90.68333333 90.18333333]\n",
            "Satır toplamları:\n",
            "[542.5 541.5 543.4]\n",
            "Sütun toplamları:\n",
            "[542.2 544.1 541.1]\n"
          ]
        }
      ]
    },
    {
      "cell_type": "code",
      "source": [
        "SSI=np.sum(np.square(satir_toplamlari))/(n*v)-np.square(np.sum(satir_toplamlari))/(v*n*n1)\n",
        "SSII=np.sum(np.square(sutun_toplamlari))/(n*v)-np.square(np.sum(sutun_toplamlari))/(v*n*n1)\n",
        "SSINT=np.sum(np.square(grup_toplamlari))/(v)-np.square(np.sum(satir_toplamlari))/(v*n*n1)-SSI-SSII\n",
        "SST=np.sum(np.square(gozlemler))-np.square(np.sum(satir_toplamlari))/(v*n*n1)\n",
        "SSE=SST-SSI-SSII-SSINT"
      ],
      "metadata": {
        "id": "W0nEYUqjpHJU"
      },
      "execution_count": 95,
      "outputs": []
    },
    {
      "cell_type": "code",
      "source": [
        "MSI=SSI/(n-1)\n",
        "MSII=SSII/(n1-1)\n",
        "MSINT=SSINT/((n-1)*(n1-1))\n",
        "MSERROR=SSE/(n*n1*v-1-((n-1)*(n1-1)+n-1+n1-1))\n",
        "dfw=n*n1*v-1-((n-1)*(n1-1)+n-1+n1-1)\n",
        "from scipy.stats import f\n",
        "f_value1 = f.ppf(1-0.05, n-1, dfw)\n",
        "f_value2 = f.ppf(1-0.05, n1-1, dfw)\n",
        "f_value3 = f.ppf(1-0.05,(n-1)*(n1-1), dfw)\n",
        "\n",
        "import pandas as pd\n",
        "results = {\n",
        "    \"Kaynaklar\": [\"TYPEI\", \"TYPEII\", \"INTERACTION\",\"Error\",\"Total\"],\n",
        "    \"df\": [n-1,n1-1,(n-1)*(n1-1),n*n1*v-1-((n-1)*(n1-1)+n-1+n1-1),n*n1*v-1],\n",
        "    \"SS\": [SSI,SSII,SSINT,SSE,SST],\n",
        "    \"MS\": [MSI,MSII,MSINT,MSERROR,None],\n",
        "    \"Ftable\":[f_value1,f_value2,f_value3,None,None],\n",
        "    \"F0\":[MSI/MSERROR,MSII/MSERROR,MSINT/MSERROR,None,None]\n",
        "}\n",
        "anova_table = pd.DataFrame(results)\n",
        "anova_table.set_index(\"Kaynaklar\", inplace=True)\n",
        "print(anova_table)"
      ],
      "metadata": {
        "colab": {
          "base_uri": "https://localhost:8080/"
        },
        "id": "ram47Ghcx6IV",
        "outputId": "740ff6d2-37da-40e5-c984-3167b02ab596"
      },
      "execution_count": 99,
      "outputs": [
        {
          "output_type": "stream",
          "name": "stdout",
          "text": [
            "             df        SS        MS    Ftable        F0\n",
            "Kaynaklar                                              \n",
            "TYPEI         2  0.301111  0.150556  4.256495   8.46875\n",
            "TYPEII        2  0.767778  0.383889  4.256495  21.59375\n",
            "INTERACTION   4  0.068889  0.017222  3.633089   0.96875\n",
            "Error         9  0.160000  0.017778       NaN       NaN\n",
            "Total        17  1.297778       NaN       NaN       NaN\n"
          ]
        }
      ]
    },
    {
      "cell_type": "code",
      "source": [
        "gozlemler"
      ],
      "metadata": {
        "colab": {
          "base_uri": "https://localhost:8080/"
        },
        "id": "qME9si_VBc0-",
        "outputId": "5b828a2c-ed94-4383-e447-264556970822"
      },
      "execution_count": 100,
      "outputs": [
        {
          "output_type": "execute_result",
          "data": {
            "text/plain": [
              "array([[[90.4, 90.2],\n",
              "        [90.7, 90.6],\n",
              "        [90.2, 90.4]],\n",
              "\n",
              "       [[90.1, 90.3],\n",
              "        [90.5, 90.6],\n",
              "        [89.9, 90.1]],\n",
              "\n",
              "       [[90.5, 90.7],\n",
              "        [90.8, 90.9],\n",
              "        [90.4, 90.1]]])"
            ]
          },
          "metadata": {},
          "execution_count": 100
        }
      ]
    }
  ]
}