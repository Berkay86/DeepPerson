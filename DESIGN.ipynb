{
  "nbformat": 4,
  "nbformat_minor": 0,
  "metadata": {
    "colab": {
      "provenance": [],
      "authorship_tag": "ABX9TyMiUwtI0EJqksKG+WsAea94",
      "include_colab_link": true
    },
    "kernelspec": {
      "name": "python3",
      "display_name": "Python 3"
    },
    "language_info": {
      "name": "python"
    }
  },
  "cells": [
    {
      "cell_type": "markdown",
      "metadata": {
        "id": "view-in-github",
        "colab_type": "text"
      },
      "source": [
        "<a href=\"https://colab.research.google.com/github/Berkay86/DeepPerson/blob/main/DESIGN.ipynb\" target=\"_parent\"><img src=\"https://colab.research.google.com/assets/colab-badge.svg\" alt=\"Open In Colab\"/></a>"
      ]
    },
    {
      "cell_type": "code",
      "source": [
        "import numpy as np\n",
        "\n",
        "n = int(input(\"Satır Sayısını  giriniz: \"))\n",
        "n1 = int(input(\"Sütun Sayısını  giriniz: \"))\n",
        "gozlemler = np.zeros((n1,n))\n",
        "\n",
        "for i in range(n1):\n",
        "    for j in range(n):\n",
        "        gozlemler[i][j] = float(input(\"Lütfen [{}, {}] indeksindeki değeri girin: \".format(i, j)))\n",
        "\n",
        "\n"
      ],
      "metadata": {
        "colab": {
          "base_uri": "https://localhost:8080/"
        },
        "id": "eGSQtcRptcJX",
        "outputId": "c73ebe73-9c72-4b20-d1a4-61a5002eb507"
      },
      "execution_count": 59,
      "outputs": [
        {
          "name": "stdout",
          "output_type": "stream",
          "text": [
            "Satır Sayısını  giriniz: 7\n",
            "Sütun Sayısını  giriniz: 4\n",
            "Lütfen [0, 0] indeksindeki değeri girin: 7\n",
            "Lütfen [0, 1] indeksindeki değeri girin: 10\n",
            "Lütfen [0, 2] indeksindeki değeri girin: 13\n",
            "Lütfen [0, 3] indeksindeki değeri girin: 11\n",
            "Lütfen [0, 4] indeksindeki değeri girin: 6\n",
            "Lütfen [0, 5] indeksindeki değeri girin: 13\n",
            "Lütfen [0, 6] indeksindeki değeri girin: 0\n",
            "Lütfen [1, 0] indeksindeki değeri girin: 17\n",
            "Lütfen [1, 1] indeksindeki değeri girin: 9\n",
            "Lütfen [1, 2] indeksindeki değeri girin: 16\n",
            "Lütfen [1, 3] indeksindeki değeri girin: 0\n",
            "Lütfen [1, 4] indeksindeki değeri girin: 0\n",
            "Lütfen [1, 5] indeksindeki değeri girin: 0\n",
            "Lütfen [1, 6] indeksindeki değeri girin: 0\n",
            "Lütfen [2, 0] indeksindeki değeri girin: 6\n",
            "Lütfen [2, 1] indeksindeki değeri girin: 12\n",
            "Lütfen [2, 2] indeksindeki değeri girin: 7\n",
            "Lütfen [2, 3] indeksindeki değeri girin: 11\n",
            "Lütfen [2, 4] indeksindeki değeri girin: 0\n",
            "Lütfen [2, 5] indeksindeki değeri girin: 0\n",
            "Lütfen [2, 6] indeksindeki değeri girin: 0\n",
            "Lütfen [3, 0] indeksindeki değeri girin: 13\n",
            "Lütfen [3, 1] indeksindeki değeri girin: 21\n",
            "Lütfen [3, 2] indeksindeki değeri girin: 12\n",
            "Lütfen [3, 3] indeksindeki değeri girin: 20\n",
            "Lütfen [3, 4] indeksindeki değeri girin: 17\n",
            "Lütfen [3, 5] indeksindeki değeri girin: 10\n",
            "Lütfen [3, 6] indeksindeki değeri girin: 19\n"
          ]
        }
      ]
    },
    {
      "cell_type": "code",
      "source": [
        "import scipy.stats as stats\n",
        "satirlar = []\n",
        "satirlar_toplami = []\n",
        "for row in gozlemler:\n",
        "    row_sum = 0\n",
        "    row_count = 0\n",
        "    for element in row:\n",
        "        if element != 0:\n",
        "            row_sum += element\n",
        "            row_count += 1\n",
        "    if row_count != 0:\n",
        "        row_mean = row_sum / row_count\n",
        "        satirlar.append(row_mean)\n",
        "        satirlar_toplami.append(row_sum)\n",
        "\n",
        "satirlar_ortalamasi = satirlar\n",
        "satirlar_toplami_top = np.sum(satirlar_toplami)\n",
        "\n",
        "print(\"Sütunların toplamı: \", satirlar_toplami)\n",
        "print(\"Sütunların ortalamasının ortalaması: \", satirlar_ortalamasi)\n",
        "print(\"Sütunların ortalamasının ortalaması: \",np.mean(satirlar_ortalamasi))\n",
        "print(\"Sütunların toplamının toplamı: \", satirlar_toplami_top )\n",
        "karelerin_toplamı=np.sum(np.square(gozlemler))\n",
        "print(\"Her değerin karelerinin toplamı\",karelerin_toplamı)\n",
        "a = [np.square(satirlar_toplami)]\n",
        "a1 = [np.count_nonzero(gozlemler[j, :]) for j in range(n1)]\n",
        "results=[]\n",
        "for i in range(len(a)):\n",
        "  col_results = []\n",
        "for j in range(n1):\n",
        "  if a1[j] != 0:\n",
        "    col_results.append(a[i][j] / a1[j])\n",
        "results.append(col_results)\n",
        "print(\"Karelerin eleman sayısına bölünüp toplanması: \",np.sum(results))\n",
        "SSW=karelerin_toplamı-np.sum(results)\n",
        "SSB=np.sum(results)-np.square(satirlar_toplami_top)/20\n",
        "SST=karelerin_toplamı-np.square(satirlar_toplami_top)/20\n",
        "n=np.sum(a1)\n",
        "dfb=n1-1\n",
        "dfw=n-n1\n",
        "dftotal=n-1\n",
        "MSB=SSB/dfb\n",
        "MSW=SSW/dfw\n",
        "F=MSB/MSW\n",
        "f_value = stats.f.ppf(q=1-0.05, dfn=dfb, dfd=dfw)\n",
        "import pandas as pd\n",
        "results = {\n",
        "    \"Kaynaklar\": [\"GruplarArası\", \"Gruplaİçi\", \"Toplam\"],\n",
        "    \"df\": [ dfb, dfw, dftotal],\n",
        "    \"SS\": [ SSB, SSW, SST],\n",
        "    \"MS\": [ MSB, MSW, None],\n",
        "    \"F\": [ F, None, None],\n",
        "\n",
        "}\n",
        "\n",
        "# Sonuçları bir veri çerçevesine dönüştürme\n",
        "anova_table = pd.DataFrame(results)\n",
        "anova_table.set_index(\"Kaynaklar\", inplace=True)\n",
        "print(anova_table)\n",
        "if F>f_value:\n",
        "  print(\"Ho reject\")\n",
        "else:\n",
        "  print(\"Ho is not reject\")"
      ],
      "metadata": {
        "id": "WNnYVLb85_X0",
        "outputId": "e3445e0a-4ec6-4636-bd38-f4e786d7ca41",
        "colab": {
          "base_uri": "https://localhost:8080/"
        }
      },
      "execution_count": 172,
      "outputs": [
        {
          "output_type": "stream",
          "name": "stdout",
          "text": [
            "Sütunların toplamı:  [60.0, 42.0, 36.0, 112.0]\n",
            "Sütunların ortalamasının ortalaması:  [10.0, 14.0, 9.0, 16.0]\n",
            "Sütunların ortalamasının ortalaması:  12.25\n",
            "Sütunların toplamının toplamı:  250.0\n",
            "Her değerin karelerinin toplamı 3524.0\n",
            "Karelerin eleman sayısına bölünüp toplanması:  3304.0\n",
            "              df     SS         MS         F\n",
            "Kaynaklar                                   \n",
            "GruplarArası   3  179.0  59.666667  4.339394\n",
            "Gruplaİçi     16  220.0  13.750000       NaN\n",
            "Toplam        19  399.0        NaN       NaN\n",
            "Ho reject\n"
          ]
        }
      ]
    },
    {
      "cell_type": "code",
      "source": [
        "import numpy as np\n",
        "n=int(input(\"Değer giriniz\"))\n",
        "m=[]\n",
        "gozlemler = np.zeros((n, n))\n",
        "for i in range(n):\n",
        "  for j in range(n):\n",
        "        gozlemler[i][j] = float(input(\"Lütfen [{}, {}] indeksindeki değeri girin: \".format(i, j)))\n",
        "\n",
        "\n"
      ],
      "metadata": {
        "id": "HIAbF-b_KTOW",
        "outputId": "282ad3a6-c40c-4b76-9d20-d4b6f0fcb4e9",
        "colab": {
          "base_uri": "https://localhost:8080/"
        }
      },
      "execution_count": 176,
      "outputs": [
        {
          "name": "stdout",
          "output_type": "stream",
          "text": [
            "Değer giriniz5\n",
            "Lütfen [0, 0] indeksindeki değeri girin: 7\n",
            "Lütfen [0, 1] indeksindeki değeri girin: 7\n",
            "Lütfen [0, 2] indeksindeki değeri girin: 15\n",
            "Lütfen [0, 3] indeksindeki değeri girin: 11\n",
            "Lütfen [0, 4] indeksindeki değeri girin: 9\n",
            "Lütfen [1, 0] indeksindeki değeri girin: 12\n",
            "Lütfen [1, 1] indeksindeki değeri girin: 17\n",
            "Lütfen [1, 2] indeksindeki değeri girin: 12\n",
            "Lütfen [1, 3] indeksindeki değeri girin: 18\n",
            "Lütfen [1, 4] indeksindeki değeri girin: 18\n",
            "Lütfen [2, 0] indeksindeki değeri girin: 14\n",
            "Lütfen [2, 1] indeksindeki değeri girin: 18\n",
            "Lütfen [2, 2] indeksindeki değeri girin: 18\n",
            "Lütfen [2, 3] indeksindeki değeri girin: 19\n",
            "Lütfen [2, 4] indeksindeki değeri girin: 19\n",
            "Lütfen [3, 0] indeksindeki değeri girin: 19\n",
            "Lütfen [3, 1] indeksindeki değeri girin: 25\n",
            "Lütfen [3, 2] indeksindeki değeri girin: 22\n",
            "Lütfen [3, 3] indeksindeki değeri girin: 19\n",
            "Lütfen [3, 4] indeksindeki değeri girin: 23\n",
            "Lütfen [4, 0] indeksindeki değeri girin: 7\n",
            "Lütfen [4, 1] indeksindeki değeri girin: 10\n",
            "Lütfen [4, 2] indeksindeki değeri girin: 11\n",
            "Lütfen [4, 3] indeksindeki değeri girin: 15\n",
            "Lütfen [4, 4] indeksindeki değeri girin: 11\n"
          ]
        }
      ]
    },
    {
      "cell_type": "code",
      "source": [
        "satir_toplamlari = np.sum(gozlemler, axis=1)\n",
        "satir_ortalamalari = np.mean(gozlemler, axis=1)\n",
        "satir_toplamlarinın_toplami = np.sum(np.sum(gozlemler, axis=0))\n",
        "satir_ortalamalari_ortalamasi = np.mean(satir_ortalamalari, axis=0)\n",
        "\n"
      ],
      "metadata": {
        "id": "NDRQaWB48H6D"
      },
      "execution_count": 177,
      "outputs": []
    },
    {
      "cell_type": "code",
      "source": [
        "satir_toplamlari = np.sum(gozlemler, axis=1)\n",
        "satir_ortalamalari = np.mean(gozlemler, axis=1)\n",
        "satir_toplamlarinın_toplami = np.sum(np.sum(gozlemler, axis=0))\n",
        "satir_ortalamalari_ortalamasi = np.mean(satir_ortalamalari, axis=0)\n",
        "import scipy.stats as stats\n",
        "SST=np.sum(np.square(gozlemler))-(satir_toplamlarinın_toplami**2)/(n**2)\n",
        "SSB=np.sum(np.square(satir_toplamlari)/n)-(satir_toplamlarinın_toplami**2)/(n**2)\n",
        "SSW=SST-SSB\n",
        "elemansayisi= len(gozlemler) * len(gozlemler[0])\n",
        "dfb=n-1\n",
        "dfw=elemansayisi-n\n",
        "dftotal=elemansayisi-1\n",
        "MSB=SSB/dfb\n",
        "MSW=SSW/dfw\n",
        "F=MSB/MSW\n",
        "f_value = stats.f.ppf(q=1-0.05, dfn=dfb, dfd=dfw)\n",
        "import pandas as pd\n",
        "results = {\n",
        "    \"Kaynaklar\": [\"GruplarArası\", \"Gruplaİçi\", \"Toplam\"],\n",
        "    \"df\": [ dfb, dfw, dftotal],\n",
        "    \"SS\": [ SSB, SSW, SST],\n",
        "    \"MS\": [ MSB, MSW, None],\n",
        "    \"F\": [ F, None, None],\n",
        "\n",
        "}\n",
        "\n",
        "# Sonuçları bir veri çerçevesine dönüştürme\n",
        "anova_table = pd.DataFrame(results)\n",
        "anova_table.set_index(\"Kaynaklar\", inplace=True)\n",
        "print(anova_table)\n",
        "if F>f_value:\n",
        "  print(\"Ho reject\")\n",
        "else:\n",
        "  print(\"Ho is not reject\")"
      ],
      "metadata": {
        "colab": {
          "base_uri": "https://localhost:8080/"
        },
        "outputId": "26adedeb-c64c-44c2-969d-0f9b047008f4",
        "id": "uSMexDMxPDuV"
      },
      "execution_count": 181,
      "outputs": [
        {
          "output_type": "stream",
          "name": "stdout",
          "text": [
            "              df      SS      MS          F\n",
            "Kaynaklar                                  \n",
            "GruplarArası   4  475.76  118.94  14.756824\n",
            "Gruplaİçi     20  161.20    8.06        NaN\n",
            "Toplam        24  636.96     NaN        NaN\n",
            "Ho reject\n"
          ]
        }
      ]
    }
  ]
}