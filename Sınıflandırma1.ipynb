{
  "nbformat": 4,
  "nbformat_minor": 0,
  "metadata": {
    "colab": {
      "provenance": [],
      "authorship_tag": "ABX9TyOsrnf5HJCQ5qxSKD26vw69",
      "include_colab_link": true
    },
    "kernelspec": {
      "name": "python3",
      "display_name": "Python 3"
    },
    "language_info": {
      "name": "python"
    }
  },
  "cells": [
    {
      "cell_type": "markdown",
      "metadata": {
        "id": "view-in-github",
        "colab_type": "text"
      },
      "source": [
        "<a href=\"https://colab.research.google.com/github/Berkay86/DeepPerson/blob/main/S%C4%B1n%C4%B1fland%C4%B1rma1.ipynb\" target=\"_parent\"><img src=\"https://colab.research.google.com/assets/colab-badge.svg\" alt=\"Open In Colab\"/></a>"
      ]
    },
    {
      "cell_type": "code",
      "execution_count": null,
      "metadata": {
        "id": "XIkDyQJAx0w_"
      },
      "outputs": [],
      "source": [
        "import pandas as pd\n",
        "import numpy as np\n",
        "import re\n",
        "import nltk\n",
        "import matplotlib.pyplot as plt\n",
        "from nltk.corpus import stopwords\n",
        "import string\n",
        "from numpy import array\n",
        "from keras.preprocessing.text import one_hot\n",
        "from tensorflow.keras.preprocessing.sequence import pad_sequences\n",
        "from keras.models import Sequential\n",
        "from keras.layers.core import Activation, Dropout, Dense\n",
        "from keras.layers import Flatten\n",
        "from keras.layers import GlobalMaxPooling1D\n",
        "from keras.layers import Embedding\n",
        "from sklearn.model_selection import train_test_split\n",
        "from keras.preprocessing.text import Tokenizer\n"
      ]
    },
    {
      "cell_type": "code",
      "source": [
        "resturantreviews = pd.read_csv(\"sentiment (2).csv\")\n",
        "resturantreviews.isnull().values.any()\n",
        "resturantreviews.shape"
      ],
      "metadata": {
        "colab": {
          "base_uri": "https://localhost:8080/"
        },
        "id": "1jHx2HP9x3QX",
        "outputId": "c886e8df-4617-41dd-943c-f5385086a246"
      },
      "execution_count": 221,
      "outputs": [
        {
          "output_type": "execute_result",
          "data": {
            "text/plain": [
              "(5001, 13)"
            ]
          },
          "metadata": {},
          "execution_count": 221
        }
      ]
    },
    {
      "cell_type": "code",
      "source": [
        "resturantreviews.head()"
      ],
      "metadata": {
        "colab": {
          "base_uri": "https://localhost:8080/",
          "height": 206
        },
        "id": "ZJdvLwYsx5Jr",
        "outputId": "c9b08a55-a592-492c-d54d-42b2701d4754"
      },
      "execution_count": 222,
      "outputs": [
        {
          "output_type": "execute_result",
          "data": {
            "text/plain": [
              "   Unnamed: 0                       Date                   ID  \\\n",
              "0           0  2022-12-13 21:45:05+00:00  1602781682041511936   \n",
              "1           1  2022-12-13 21:45:05+00:00  1602781679218737152   \n",
              "2           2  2022-12-13 21:45:05+00:00  1602781678971256832   \n",
              "3           3  2022-12-13 21:45:04+00:00  1602781676156895232   \n",
              "4           4  2022-12-13 21:45:04+00:00  1602781675448324096   \n",
              "\n",
              "                                                 url       username  \\\n",
              "0  https://twitter.com/thegreekgeekk/status/16027...  thegreekgeekk   \n",
              "1  https://twitter.com/topqozym/status/1602781679...       topqozym   \n",
              "2  https://twitter.com/ManCityToUcl/status/160278...   ManCityToUcl   \n",
              "3  https://twitter.com/Fatiachra/status/160278167...      Fatiachra   \n",
              "4  https://twitter.com/SagafAbubakar/status/16027...  SagafAbubakar   \n",
              "\n",
              "               source            location  \\\n",
              "0  Twitter for iPhone              Canada   \n",
              "1  Twitter for iPhone                 NaN   \n",
              "2  Twitter for iPhone  Liverpool, England   \n",
              "3  Twitter for iPhone                 NaN   \n",
              "4     Twitter Web App        lombok utara   \n",
              "\n",
              "                                               tweet  num_of_likes  \\\n",
              "0  @CouRageJD Even if Messi doesn’t win the World...             0   \n",
              "1  @PoojaMedia Morocco or France                 ...             0   \n",
              "2                       @FIFAWorldCup Benfica player             0   \n",
              "3  Chedira is a good person who tried to make the...             0   \n",
              "4             @Thenotoriousne2 @FIFAWorldCup benched             0   \n",
              "\n",
              "   num_of_retweet                                   Processed_Tweets  \\\n",
              "0               0  even if messi doesn ’ t win the world cup this...   \n",
              "1               0  morocco or france world cup we be lift by arge...   \n",
              "2               0                                     benfica player   \n",
              "3               0  chedira is a good person who tried to make the...   \n",
              "4               0                                            benched   \n",
              "\n",
              "   Polarity Sentiment  \n",
              "0      0.22  Positive  \n",
              "1      0.00  Positive  \n",
              "2      0.00  Positive  \n",
              "3      0.14  Positive  \n",
              "4      0.00  Positive  "
            ],
            "text/html": [
              "\n",
              "  <div id=\"df-06f73cdb-2623-466d-b863-b810da407412\">\n",
              "    <div class=\"colab-df-container\">\n",
              "      <div>\n",
              "<style scoped>\n",
              "    .dataframe tbody tr th:only-of-type {\n",
              "        vertical-align: middle;\n",
              "    }\n",
              "\n",
              "    .dataframe tbody tr th {\n",
              "        vertical-align: top;\n",
              "    }\n",
              "\n",
              "    .dataframe thead th {\n",
              "        text-align: right;\n",
              "    }\n",
              "</style>\n",
              "<table border=\"1\" class=\"dataframe\">\n",
              "  <thead>\n",
              "    <tr style=\"text-align: right;\">\n",
              "      <th></th>\n",
              "      <th>Unnamed: 0</th>\n",
              "      <th>Date</th>\n",
              "      <th>ID</th>\n",
              "      <th>url</th>\n",
              "      <th>username</th>\n",
              "      <th>source</th>\n",
              "      <th>location</th>\n",
              "      <th>tweet</th>\n",
              "      <th>num_of_likes</th>\n",
              "      <th>num_of_retweet</th>\n",
              "      <th>Processed_Tweets</th>\n",
              "      <th>Polarity</th>\n",
              "      <th>Sentiment</th>\n",
              "    </tr>\n",
              "  </thead>\n",
              "  <tbody>\n",
              "    <tr>\n",
              "      <th>0</th>\n",
              "      <td>0</td>\n",
              "      <td>2022-12-13 21:45:05+00:00</td>\n",
              "      <td>1602781682041511936</td>\n",
              "      <td>https://twitter.com/thegreekgeekk/status/16027...</td>\n",
              "      <td>thegreekgeekk</td>\n",
              "      <td>Twitter for iPhone</td>\n",
              "      <td>Canada</td>\n",
              "      <td>@CouRageJD Even if Messi doesn’t win the World...</td>\n",
              "      <td>0</td>\n",
              "      <td>0</td>\n",
              "      <td>even if messi doesn ’ t win the world cup this...</td>\n",
              "      <td>0.22</td>\n",
              "      <td>Positive</td>\n",
              "    </tr>\n",
              "    <tr>\n",
              "      <th>1</th>\n",
              "      <td>1</td>\n",
              "      <td>2022-12-13 21:45:05+00:00</td>\n",
              "      <td>1602781679218737152</td>\n",
              "      <td>https://twitter.com/topqozym/status/1602781679...</td>\n",
              "      <td>topqozym</td>\n",
              "      <td>Twitter for iPhone</td>\n",
              "      <td>NaN</td>\n",
              "      <td>@PoojaMedia Morocco or France                 ...</td>\n",
              "      <td>0</td>\n",
              "      <td>0</td>\n",
              "      <td>morocco or france world cup we be lift by arge...</td>\n",
              "      <td>0.00</td>\n",
              "      <td>Positive</td>\n",
              "    </tr>\n",
              "    <tr>\n",
              "      <th>2</th>\n",
              "      <td>2</td>\n",
              "      <td>2022-12-13 21:45:05+00:00</td>\n",
              "      <td>1602781678971256832</td>\n",
              "      <td>https://twitter.com/ManCityToUcl/status/160278...</td>\n",
              "      <td>ManCityToUcl</td>\n",
              "      <td>Twitter for iPhone</td>\n",
              "      <td>Liverpool, England</td>\n",
              "      <td>@FIFAWorldCup Benfica player</td>\n",
              "      <td>0</td>\n",
              "      <td>0</td>\n",
              "      <td>benfica player</td>\n",
              "      <td>0.00</td>\n",
              "      <td>Positive</td>\n",
              "    </tr>\n",
              "    <tr>\n",
              "      <th>3</th>\n",
              "      <td>3</td>\n",
              "      <td>2022-12-13 21:45:04+00:00</td>\n",
              "      <td>1602781676156895232</td>\n",
              "      <td>https://twitter.com/Fatiachra/status/160278167...</td>\n",
              "      <td>Fatiachra</td>\n",
              "      <td>Twitter for iPhone</td>\n",
              "      <td>NaN</td>\n",
              "      <td>Chedira is a good person who tried to make the...</td>\n",
              "      <td>0</td>\n",
              "      <td>0</td>\n",
              "      <td>chedira is a good person who tried to make the...</td>\n",
              "      <td>0.14</td>\n",
              "      <td>Positive</td>\n",
              "    </tr>\n",
              "    <tr>\n",
              "      <th>4</th>\n",
              "      <td>4</td>\n",
              "      <td>2022-12-13 21:45:04+00:00</td>\n",
              "      <td>1602781675448324096</td>\n",
              "      <td>https://twitter.com/SagafAbubakar/status/16027...</td>\n",
              "      <td>SagafAbubakar</td>\n",
              "      <td>Twitter Web App</td>\n",
              "      <td>lombok utara</td>\n",
              "      <td>@Thenotoriousne2 @FIFAWorldCup benched</td>\n",
              "      <td>0</td>\n",
              "      <td>0</td>\n",
              "      <td>benched</td>\n",
              "      <td>0.00</td>\n",
              "      <td>Positive</td>\n",
              "    </tr>\n",
              "  </tbody>\n",
              "</table>\n",
              "</div>\n",
              "      <button class=\"colab-df-convert\" onclick=\"convertToInteractive('df-06f73cdb-2623-466d-b863-b810da407412')\"\n",
              "              title=\"Convert this dataframe to an interactive table.\"\n",
              "              style=\"display:none;\">\n",
              "        \n",
              "  <svg xmlns=\"http://www.w3.org/2000/svg\" height=\"24px\"viewBox=\"0 0 24 24\"\n",
              "       width=\"24px\">\n",
              "    <path d=\"M0 0h24v24H0V0z\" fill=\"none\"/>\n",
              "    <path d=\"M18.56 5.44l.94 2.06.94-2.06 2.06-.94-2.06-.94-.94-2.06-.94 2.06-2.06.94zm-11 1L8.5 8.5l.94-2.06 2.06-.94-2.06-.94L8.5 2.5l-.94 2.06-2.06.94zm10 10l.94 2.06.94-2.06 2.06-.94-2.06-.94-.94-2.06-.94 2.06-2.06.94z\"/><path d=\"M17.41 7.96l-1.37-1.37c-.4-.4-.92-.59-1.43-.59-.52 0-1.04.2-1.43.59L10.3 9.45l-7.72 7.72c-.78.78-.78 2.05 0 2.83L4 21.41c.39.39.9.59 1.41.59.51 0 1.02-.2 1.41-.59l7.78-7.78 2.81-2.81c.8-.78.8-2.07 0-2.86zM5.41 20L4 18.59l7.72-7.72 1.47 1.35L5.41 20z\"/>\n",
              "  </svg>\n",
              "      </button>\n",
              "      \n",
              "  <style>\n",
              "    .colab-df-container {\n",
              "      display:flex;\n",
              "      flex-wrap:wrap;\n",
              "      gap: 12px;\n",
              "    }\n",
              "\n",
              "    .colab-df-convert {\n",
              "      background-color: #E8F0FE;\n",
              "      border: none;\n",
              "      border-radius: 50%;\n",
              "      cursor: pointer;\n",
              "      display: none;\n",
              "      fill: #1967D2;\n",
              "      height: 32px;\n",
              "      padding: 0 0 0 0;\n",
              "      width: 32px;\n",
              "    }\n",
              "\n",
              "    .colab-df-convert:hover {\n",
              "      background-color: #E2EBFA;\n",
              "      box-shadow: 0px 1px 2px rgba(60, 64, 67, 0.3), 0px 1px 3px 1px rgba(60, 64, 67, 0.15);\n",
              "      fill: #174EA6;\n",
              "    }\n",
              "\n",
              "    [theme=dark] .colab-df-convert {\n",
              "      background-color: #3B4455;\n",
              "      fill: #D2E3FC;\n",
              "    }\n",
              "\n",
              "    [theme=dark] .colab-df-convert:hover {\n",
              "      background-color: #434B5C;\n",
              "      box-shadow: 0px 1px 3px 1px rgba(0, 0, 0, 0.15);\n",
              "      filter: drop-shadow(0px 1px 2px rgba(0, 0, 0, 0.3));\n",
              "      fill: #FFFFFF;\n",
              "    }\n",
              "  </style>\n",
              "\n",
              "      <script>\n",
              "        const buttonEl =\n",
              "          document.querySelector('#df-06f73cdb-2623-466d-b863-b810da407412 button.colab-df-convert');\n",
              "        buttonEl.style.display =\n",
              "          google.colab.kernel.accessAllowed ? 'block' : 'none';\n",
              "\n",
              "        async function convertToInteractive(key) {\n",
              "          const element = document.querySelector('#df-06f73cdb-2623-466d-b863-b810da407412');\n",
              "          const dataTable =\n",
              "            await google.colab.kernel.invokeFunction('convertToInteractive',\n",
              "                                                     [key], {});\n",
              "          if (!dataTable) return;\n",
              "\n",
              "          const docLinkHtml = 'Like what you see? Visit the ' +\n",
              "            '<a target=\"_blank\" href=https://colab.research.google.com/notebooks/data_table.ipynb>data table notebook</a>'\n",
              "            + ' to learn more about interactive tables.';\n",
              "          element.innerHTML = '';\n",
              "          dataTable['output_type'] = 'display_data';\n",
              "          await google.colab.output.renderOutput(dataTable, element);\n",
              "          const docLink = document.createElement('div');\n",
              "          docLink.innerHTML = docLinkHtml;\n",
              "          element.appendChild(docLink);\n",
              "        }\n",
              "      </script>\n",
              "    </div>\n",
              "  </div>\n",
              "  "
            ]
          },
          "metadata": {},
          "execution_count": 222
        }
      ]
    },
    {
      "cell_type": "code",
      "source": [
        "resturantreviews[\"tweet\"][3]"
      ],
      "metadata": {
        "colab": {
          "base_uri": "https://localhost:8080/",
          "height": 36
        },
        "id": "P9O1tpN8x_GH",
        "outputId": "ec68d55f-d23d-4ea0-db1a-5495e9ed6a9c"
      },
      "execution_count": 223,
      "outputs": [
        {
          "output_type": "execute_result",
          "data": {
            "text/plain": [
              "\"Chedira is a good person who tried to make the Moroccans happy by achieving a goal but he wasn't unable to score it. Instead of bullying and laughing at him try to encourage him he may be better in the coming days. He doesn't deserve all the hate was directed at him. #WorldCup https://t.co/pRLqjxGEKh\""
            ],
            "application/vnd.google.colaboratory.intrinsic+json": {
              "type": "string"
            }
          },
          "metadata": {},
          "execution_count": 223
        }
      ]
    },
    {
      "cell_type": "code",
      "source": [
        "import seaborn as sns\n",
        "sns.countplot(x='Sentiment', data=resturantreviews)\n",
        "plt.show()"
      ],
      "metadata": {
        "colab": {
          "base_uri": "https://localhost:8080/",
          "height": 279
        },
        "id": "GeI9xDD9yB5D",
        "outputId": "6db8c461-dad7-4565-b952-b58671a3a068"
      },
      "execution_count": 224,
      "outputs": [
        {
          "output_type": "display_data",
          "data": {
            "text/plain": [
              "<Figure size 432x288 with 1 Axes>"
            ],
            "image/png": "[encoded data removed]"
          },
          "metadata": {
            "needs_background": "light"
          }
        }
      ]
    },
    {
      "cell_type": "code",
      "source": [
        "def preprocess_text(sen):\n",
        "    # Removing html tags\n",
        "    sentence = remove_tags(sen)\n",
        "\n",
        "    # Remove punctuations and numbers\n",
        "    sentence = re.sub('[^a-zA-Z]', ' ', sentence)\n",
        "\n",
        "    # Single character removal\n",
        "    sentence = re.sub(r\"\\s+[a-zA-Z]\\s+\", ' ', sentence)\n",
        "\n",
        "    # Removing multiple spaces\n",
        "    sentence = re.sub(r'\\s+', ' ', sentence)\n",
        "\n",
        "    return sentence"
      ],
      "metadata": {
        "id": "n7IvfXt00YVJ"
      },
      "execution_count": 225,
      "outputs": []
    },
    {
      "cell_type": "code",
      "source": [
        "TAG_RE = re.compile(r'<[^>]+>')\n",
        "\n",
        "def remove_tags(text):\n",
        "    return TAG_RE.sub('', text)"
      ],
      "metadata": {
        "id": "7FCwJ6KY0aio"
      },
      "execution_count": 226,
      "outputs": []
    },
    {
      "cell_type": "code",
      "source": [
        "X = []\n",
        "sentences = list(resturantreviews['tweet'])\n",
        "for sen1 in sentences:\n",
        "    X.append(preprocess_text(str(sen1)))"
      ],
      "metadata": {
        "id": "2i5s1IE10c_6"
      },
      "execution_count": 227,
      "outputs": []
    },
    {
      "cell_type": "code",
      "source": [
        "y = resturantreviews['Sentiment']\n",
        "y = np.array(list(map(lambda x: 1 if x==\"Positive\" else 0, y)))\n",
        "y"
      ],
      "metadata": {
        "colab": {
          "base_uri": "https://localhost:8080/"
        },
        "id": "QZV_UX1F1aUF",
        "outputId": "8e2d9206-6e29-4f2a-9b98-e3be604367f0"
      },
      "execution_count": 228,
      "outputs": [
        {
          "output_type": "execute_result",
          "data": {
            "text/plain": [
              "array([1, 1, 1, ..., 1, 1, 1])"
            ]
          },
          "metadata": {},
          "execution_count": 228
        }
      ]
    },
    {
      "cell_type": "code",
      "source": [
        "X_train, X_test, y_train, y_test = train_test_split(X, y, test_size=0.20, random_state=42)\n"
      ],
      "metadata": {
        "id": "UmDTkVGP1jCq"
      },
      "execution_count": 229,
      "outputs": []
    },
    {
      "cell_type": "code",
      "source": [
        "tokenizer = Tokenizer(num_words=5000)\n",
        "tokenizer.fit_on_texts(X_train)\n",
        "\n",
        "X_train = tokenizer.texts_to_sequences(X_train)\n",
        "X_test = tokenizer.texts_to_sequences(X_test)"
      ],
      "metadata": {
        "id": "aIcPY2ru1l-Q"
      },
      "execution_count": 230,
      "outputs": []
    },
    {
      "cell_type": "code",
      "source": [
        "vocab_size = len(tokenizer.word_index) + 1\n",
        "\n",
        "maxlen = 100\n",
        "\n",
        "X_train = pad_sequences(X_train, padding='post', maxlen=maxlen)\n",
        "X_test = pad_sequences(X_test, padding='post', maxlen=maxlen)"
      ],
      "metadata": {
        "id": "rxdI0O9t1nJ_"
      },
      "execution_count": 231,
      "outputs": []
    },
    {
      "cell_type": "code",
      "source": [
        "from numpy import array\n",
        "from numpy import asarray\n",
        "from numpy import zeros\n",
        "\n",
        "embeddings_dictionary = dict()\n",
        "glove_file = open('glove.6B.100d.txt', encoding=\"utf8\")\n",
        "\n",
        "for line in glove_file:\n",
        "    records = line.split()\n",
        "    word = records[0]\n",
        "    vector_dimensions = asarray(records[1:], dtype='float32')\n",
        "    embeddings_dictionary [word] = vector_dimensions\n",
        "glove_file.close()"
      ],
      "metadata": {
        "id": "a32pjP5H1pym"
      },
      "execution_count": 232,
      "outputs": []
    },
    {
      "cell_type": "code",
      "source": [
        "embedding_matrix = zeros((vocab_size, 100))\n",
        "for word, index in tokenizer.word_index.items():\n",
        "    embedding_vector = embeddings_dictionary.get(word)\n",
        "    if embedding_vector is not None:\n",
        "        embedding_matrix[index] = embedding_vector"
      ],
      "metadata": {
        "id": "bthuv7JM1xxa"
      },
      "execution_count": 233,
      "outputs": []
    },
    {
      "cell_type": "code",
      "source": [
        "model = Sequential()\n",
        "embedding_layer = Embedding(vocab_size, 100, weights=[embedding_matrix], input_length=maxlen , trainable=False)\n",
        "model.add(embedding_layer)\n",
        "model.add(Flatten())\n",
        "model.add(Dense(1, activation='sigmoid'))"
      ],
      "metadata": {
        "id": "I_LSpHrf1z_3"
      },
      "execution_count": 234,
      "outputs": []
    },
    {
      "cell_type": "code",
      "source": [
        "model.compile(optimizer='adam', loss='binary_crossentropy', metrics=['acc'])\n",
        "print(model.summary())"
      ],
      "metadata": {
        "colab": {
          "base_uri": "https://localhost:8080/"
        },
        "id": "XVt5boOK12vc",
        "outputId": "6847fbbc-3b10-4db7-ab9a-c4b34e282576"
      },
      "execution_count": 235,
      "outputs": [
        {
          "output_type": "stream",
          "name": "stdout",
          "text": [
            "Model: \"sequential_13\"\n",
            "_________________________________________________________________\n",
            " Layer (type)                Output Shape              Param #   \n",
            "=================================================================\n",
            " embedding_13 (Embedding)    (None, 100, 100)          1063600   \n",
            "                                                                 \n",
            " flatten_5 (Flatten)         (None, 10000)             0         \n",
            "                                                                 \n",
            " dense_13 (Dense)            (None, 1)                 10001     \n",
            "                                                                 \n",
            "=================================================================\n",
            "Total params: 1,073,601\n",
            "Trainable params: 10,001\n",
            "Non-trainable params: 1,063,600\n",
            "_________________________________________________________________\n",
            "None\n"
          ]
        }
      ]
    },
    {
      "cell_type": "code",
      "source": [
        "history = model.fit(X_train, y_train, batch_size=128, epochs=6, verbose=1, validation_split=0.2)\n"
      ],
      "metadata": {
        "colab": {
          "base_uri": "https://localhost:8080/"
        },
        "id": "7aTHjWeY15zy",
        "outputId": "01551c71-deda-40cb-aba3-efc1b1857249"
      },
      "execution_count": 236,
      "outputs": [
        {
          "output_type": "stream",
          "name": "stdout",
          "text": [
            "Epoch 1/6\n",
            "25/25 [==============================] - 1s 15ms/step - loss: 0.4610 - acc: 0.8591 - val_loss: 0.4107 - val_acc: 0.8813\n",
            "Epoch 2/6\n",
            "25/25 [==============================] - 0s 8ms/step - loss: 0.3746 - acc: 0.8863 - val_loss: 0.3939 - val_acc: 0.8875\n",
            "Epoch 3/6\n",
            "25/25 [==============================] - 0s 8ms/step - loss: 0.3420 - acc: 0.8897 - val_loss: 0.3816 - val_acc: 0.8863\n",
            "Epoch 4/6\n",
            "25/25 [==============================] - 0s 8ms/step - loss: 0.3177 - acc: 0.8941 - val_loss: 0.3804 - val_acc: 0.8875\n",
            "Epoch 5/6\n",
            "25/25 [==============================] - 0s 9ms/step - loss: 0.2993 - acc: 0.9009 - val_loss: 0.3771 - val_acc: 0.8863\n",
            "Epoch 6/6\n",
            "25/25 [==============================] - 0s 8ms/step - loss: 0.2832 - acc: 0.9075 - val_loss: 0.3757 - val_acc: 0.8863\n"
          ]
        }
      ]
    },
    {
      "cell_type": "code",
      "source": [
        "score = model.evaluate(X_test, y_test, verbose=1)"
      ],
      "metadata": {
        "colab": {
          "base_uri": "https://localhost:8080/"
        },
        "id": "ZhJofQ3V198-",
        "outputId": "2e6b26fc-419b-44d6-c690-a42d5ef88a35"
      },
      "execution_count": 237,
      "outputs": [
        {
          "output_type": "stream",
          "name": "stdout",
          "text": [
            "32/32 [==============================] - 0s 3ms/step - loss: 0.3320 - acc: 0.9001\n"
          ]
        }
      ]
    },
    {
      "cell_type": "code",
      "source": [
        "print(\"Test Score:\", score[0])\n",
        "print(\"Test Accuracy:\", score[1])"
      ],
      "metadata": {
        "colab": {
          "base_uri": "https://localhost:8080/"
        },
        "id": "LyNYidat2A6F",
        "outputId": "fdba84bf-01cf-490c-f982-f7f57c76fcb8"
      },
      "execution_count": 238,
      "outputs": [
        {
          "output_type": "stream",
          "name": "stdout",
          "text": [
            "Test Score: 0.3319622278213501\n",
            "Test Accuracy: 0.9000998735427856\n"
          ]
        }
      ]
    },
    {
      "cell_type": "code",
      "source": [
        "plt.title('model accuracy')\n",
        "plt.ylabel('accuracy')\n",
        "plt.xlabel('epoch')\n",
        "plt.legend(['train','test'], loc='upper left')\n",
        "plt.plot(history.history['acc'])\n",
        "plt.plot(history.history['val_acc'])\n",
        "plt.show()\n",
        "\n",
        "plt.title('model accuracy')\n",
        "plt.ylabel('loss')\n",
        "plt.xlabel('epoch')\n",
        "plt.legend(['train','test'], loc='upper left')\n",
        "plt.plot(history.history['loss'])\n",
        "plt.plot(history.history['val_loss'])\n",
        "plt.show()"
      ],
      "metadata": {
        "colab": {
          "base_uri": "https://localhost:8080/",
          "height": 573
        },
        "id": "Qq9gNnfA2P5_",
        "outputId": "d66ab7ff-168b-418a-c849-f92e432333c8"
      },
      "execution_count": 239,
      "outputs": [
        {
          "output_type": "display_data",
          "data": {
            "text/plain": [
              "<Figure size 432x288 with 1 Axes>"
            ],
            "image/png": "[encoded data removed]"
          },
          "metadata": {
            "needs_background": "light"
          }
        },
        {
          "output_type": "display_data",
          "data": {
            "text/plain": [
              "<Figure size 432x288 with 1 Axes>"
            ],
            "image/png": "[encoded data removed]"
          },
          "metadata": {
            "needs_background": "light"
          }
        }
      ]
    },
    {
      "cell_type": "markdown",
      "source": [
        "LSTM EVRİŞİMLİ SİNİR AĞLARI SINIFLANDIRMA"
      ],
      "metadata": {
        "id": "M2s9joVf4Nad"
      }
    },
    {
      "cell_type": "code",
      "source": [
        "\n",
        "from keras.layers import Conv1D\n",
        "model = Sequential()\n",
        "\n",
        "embedding_layer = Embedding(vocab_size, 100, weights=[embedding_matrix], input_length=maxlen , trainable=False)\n",
        "model.add(embedding_layer)\n",
        "\n",
        "model.add(Conv1D(128, 5, activation='relu'))\n",
        "model.add(GlobalMaxPooling1D())\n",
        "model.add(Dense(1, activation='sigmoid'))\n",
        "model.compile(optimizer='adam', loss='binary_crossentropy', metrics=['acc'])"
      ],
      "metadata": {
        "id": "fLlNaipt4BlG"
      },
      "execution_count": 240,
      "outputs": []
    },
    {
      "cell_type": "code",
      "source": [
        "print(model.summary())"
      ],
      "metadata": {
        "colab": {
          "base_uri": "https://localhost:8080/"
        },
        "id": "uQeEyLm44gq4",
        "outputId": "d02c27e7-0583-413b-bd2b-d5cfa445d3e5"
      },
      "execution_count": 241,
      "outputs": [
        {
          "output_type": "stream",
          "name": "stdout",
          "text": [
            "Model: \"sequential_14\"\n",
            "_________________________________________________________________\n",
            " Layer (type)                Output Shape              Param #   \n",
            "=================================================================\n",
            " embedding_14 (Embedding)    (None, 100, 100)          1063600   \n",
            "                                                                 \n",
            " conv1d_5 (Conv1D)           (None, 96, 128)           64128     \n",
            "                                                                 \n",
            " global_max_pooling1d_5 (Glo  (None, 128)              0         \n",
            " balMaxPooling1D)                                                \n",
            "                                                                 \n",
            " dense_14 (Dense)            (None, 1)                 129       \n",
            "                                                                 \n",
            "=================================================================\n",
            "Total params: 1,127,857\n",
            "Trainable params: 64,257\n",
            "Non-trainable params: 1,063,600\n",
            "_________________________________________________________________\n",
            "None\n"
          ]
        }
      ]
    },
    {
      "cell_type": "code",
      "source": [
        "history = model.fit(X_train, y_train, batch_size=128, epochs=6, verbose=1, validation_split=0.2)\n",
        "score = model.evaluate(X_test, y_test, verbose=1)"
      ],
      "metadata": {
        "colab": {
          "base_uri": "https://localhost:8080/"
        },
        "id": "f0ruqVki5Qm1",
        "outputId": "8c65a138-03a4-42ff-e6f4-39566d793234"
      },
      "execution_count": 242,
      "outputs": [
        {
          "output_type": "stream",
          "name": "stdout",
          "text": [
            "Epoch 1/6\n",
            "25/25 [==============================] - 3s 119ms/step - loss: 0.4240 - acc: 0.8769 - val_loss: 0.3521 - val_acc: 0.8863\n",
            "Epoch 2/6\n",
            "25/25 [==============================] - 3s 106ms/step - loss: 0.3246 - acc: 0.8881 - val_loss: 0.3391 - val_acc: 0.8900\n",
            "Epoch 3/6\n",
            "25/25 [==============================] - 3s 107ms/step - loss: 0.2819 - acc: 0.8900 - val_loss: 0.3270 - val_acc: 0.8913\n",
            "Epoch 4/6\n",
            "25/25 [==============================] - 3s 106ms/step - loss: 0.2483 - acc: 0.8984 - val_loss: 0.3104 - val_acc: 0.8900\n",
            "Epoch 5/6\n",
            "25/25 [==============================] - 3s 109ms/step - loss: 0.2185 - acc: 0.9141 - val_loss: 0.3209 - val_acc: 0.8913\n",
            "Epoch 6/6\n",
            "25/25 [==============================] - 3s 107ms/step - loss: 0.1972 - acc: 0.9262 - val_loss: 0.2950 - val_acc: 0.8900\n",
            "32/32 [==============================] - 0s 12ms/step - loss: 0.2659 - acc: 0.9041\n"
          ]
        }
      ]
    },
    {
      "cell_type": "code",
      "source": [
        "print(\"Test Score:\", score[0])\n",
        "print(\"Test Accuracy:\", score[1])"
      ],
      "metadata": {
        "colab": {
          "base_uri": "https://localhost:8080/"
        },
        "id": "usWYAbeD5WtY",
        "outputId": "70c081a0-2008-411a-bd41-b779a6b6df4b"
      },
      "execution_count": 243,
      "outputs": [
        {
          "output_type": "stream",
          "name": "stdout",
          "text": [
            "Test Score: 0.26588988304138184\n",
            "Test Accuracy: 0.9040958881378174\n"
          ]
        }
      ]
    },
    {
      "cell_type": "code",
      "source": [
        "import matplotlib.pyplot as plt\n",
        "\n",
        "plt.plot(history.history['acc'])\n",
        "plt.plot(history.history['val_acc'])\n",
        "\n",
        "plt.title('model accuracy')\n",
        "plt.ylabel('accuracy')\n",
        "plt.xlabel('epoch')\n",
        "plt.legend(['train','test'], loc = 'upper left')\n",
        "plt.show()\n",
        "\n",
        "plt.plot(history.history['loss'])\n",
        "plt.plot(history.history['val_loss'])\n",
        "\n",
        "plt.title('model loss')\n",
        "plt.ylabel('loss')\n",
        "plt.xlabel('epoch')\n",
        "plt.legend(['train','test'], loc = 'upper left')\n",
        "plt.show()"
      ],
      "metadata": {
        "colab": {
          "base_uri": "https://localhost:8080/",
          "height": 573
        },
        "id": "CCkVOmxH4kXE",
        "outputId": "a3f30e63-c1a9-472c-8762-647043503239"
      },
      "execution_count": 244,
      "outputs": [
        {
          "output_type": "display_data",
          "data": {
            "text/plain": [
              "<Figure size 432x288 with 1 Axes>"
            ],
            "image/png": "[encoded data removed]"
          },
          "metadata": {
            "needs_background": "light"
          }
        },
        {
          "output_type": "display_data",
          "data": {
            "text/plain": [
              "<Figure size 432x288 with 1 Axes>"
            ],
            "image/png": "[encoded data removed]"
          },
          "metadata": {
            "needs_background": "light"
          }
        }
      ]
    },
    {
      "cell_type": "markdown",
      "source": [
        "TEKRARLAYAN SİNİR AĞI MODELİ İLE METİN SINIFLANDIRMA"
      ],
      "metadata": {
        "id": "yA5RX8Bc5f6M"
      }
    },
    {
      "cell_type": "code",
      "source": [
        "from tensorflow.keras.layers import LSTM\n",
        "model = Sequential()\n",
        "embedding_layer = Embedding(vocab_size, 100, weights=[embedding_matrix], input_length=maxlen , trainable=False)\n",
        "model.add(embedding_layer)\n",
        "model.add(LSTM(128))\n",
        "\n",
        "model.add(Dense(1, activation='sigmoid'))\n",
        "model.compile(optimizer='adam', loss='binary_crossentropy', metrics=['acc'])"
      ],
      "metadata": {
        "id": "PpR29RfY5ecL"
      },
      "execution_count": 245,
      "outputs": []
    },
    {
      "cell_type": "code",
      "source": [
        "print(model.summary())"
      ],
      "metadata": {
        "colab": {
          "base_uri": "https://localhost:8080/"
        },
        "id": "23-Ko2tI6dHp",
        "outputId": "33a9654a-c633-4c30-81d2-78cee37387ff"
      },
      "execution_count": 246,
      "outputs": [
        {
          "output_type": "stream",
          "name": "stdout",
          "text": [
            "Model: \"sequential_15\"\n",
            "_________________________________________________________________\n",
            " Layer (type)                Output Shape              Param #   \n",
            "=================================================================\n",
            " embedding_15 (Embedding)    (None, 100, 100)          1063600   \n",
            "                                                                 \n",
            " lstm_3 (LSTM)               (None, 128)               117248    \n",
            "                                                                 \n",
            " dense_15 (Dense)            (None, 1)                 129       \n",
            "                                                                 \n",
            "=================================================================\n",
            "Total params: 1,180,977\n",
            "Trainable params: 117,377\n",
            "Non-trainable params: 1,063,600\n",
            "_________________________________________________________________\n",
            "None\n"
          ]
        }
      ]
    },
    {
      "cell_type": "code",
      "source": [
        "history = model.fit(X_train, y_train, batch_size=128, epochs=6, verbose=1, validation_split=0.2)\n",
        "score = model.evaluate(X_test, y_test, verbose=1)"
      ],
      "metadata": {
        "colab": {
          "base_uri": "https://localhost:8080/"
        },
        "id": "GXpcbSoq6mmH",
        "outputId": "d1940ba9-5000-435c-bfb8-11671ad0081b"
      },
      "execution_count": 247,
      "outputs": [
        {
          "output_type": "stream",
          "name": "stdout",
          "text": [
            "Epoch 1/6\n",
            "25/25 [==============================] - 11s 385ms/step - loss: 0.4967 - acc: 0.8537 - val_loss: 0.3440 - val_acc: 0.8888\n",
            "Epoch 2/6\n",
            "25/25 [==============================] - 9s 359ms/step - loss: 0.3591 - acc: 0.8834 - val_loss: 0.3492 - val_acc: 0.8888\n",
            "Epoch 3/6\n",
            "25/25 [==============================] - 9s 358ms/step - loss: 0.3598 - acc: 0.8844 - val_loss: 0.3549 - val_acc: 0.8888\n",
            "Epoch 4/6\n",
            "25/25 [==============================] - 9s 359ms/step - loss: 0.3669 - acc: 0.8844 - val_loss: 0.3493 - val_acc: 0.8888\n",
            "Epoch 5/6\n",
            "25/25 [==============================] - 9s 359ms/step - loss: 0.3590 - acc: 0.8844 - val_loss: 0.3497 - val_acc: 0.8888\n",
            "Epoch 6/6\n",
            "25/25 [==============================] - 9s 363ms/step - loss: 0.3599 - acc: 0.8844 - val_loss: 0.3524 - val_acc: 0.8888\n",
            "32/32 [==============================] - 2s 65ms/step - loss: 0.3279 - acc: 0.9021\n"
          ]
        }
      ]
    },
    {
      "cell_type": "code",
      "source": [
        "print(\"Test Score:\", score[0])\n",
        "print(\"Test Accuracy:\", score[1])"
      ],
      "metadata": {
        "colab": {
          "base_uri": "https://localhost:8080/"
        },
        "id": "LPyQi-Tl6qm-",
        "outputId": "6f6ef3ce-dea9-4252-fe77-7e55da58214f"
      },
      "execution_count": 248,
      "outputs": [
        {
          "output_type": "stream",
          "name": "stdout",
          "text": [
            "Test Score: 0.32791125774383545\n",
            "Test Accuracy: 0.9020978808403015\n"
          ]
        }
      ]
    },
    {
      "cell_type": "code",
      "source": [
        "import matplotlib.pyplot as plt\n",
        "\n",
        "plt.plot(history.history['acc'])\n",
        "plt.plot(history.history['val_acc'])\n",
        "\n",
        "plt.title('model accuracy')\n",
        "plt.ylabel('accuracy')\n",
        "plt.xlabel('epoch')\n",
        "plt.legend(['train','test'], loc='upper left')\n",
        "plt.show()\n",
        "\n",
        "plt.plot(history.history['loss'])\n",
        "plt.plot(history.history['val_loss'])\n",
        "\n",
        "plt.title('model loss')\n",
        "plt.ylabel('loss')\n",
        "plt.xlabel('epoch')\n",
        "plt.legend(['train','test'], loc='upper left')\n",
        "plt.show()"
      ],
      "metadata": {
        "colab": {
          "base_uri": "https://localhost:8080/",
          "height": 573
        },
        "id": "nbtecVkb6vwZ",
        "outputId": "6f4269e9-0068-43f7-f587-d277acd4d084"
      },
      "execution_count": 249,
      "outputs": [
        {
          "output_type": "display_data",
          "data": {
            "text/plain": [
              "<Figure size 432x288 with 1 Axes>"
            ],
            "image/png": "[encoded data removed]"
          },
          "metadata": {
            "needs_background": "light"
          }
        },
        {
          "output_type": "display_data",
          "data": {
            "text/plain": [
              "<Figure size 432x288 with 1 Axes>"
            ],
            "image/png": "[encoded data removed]"
          },
          "metadata": {
            "needs_background": "light"
          }
        }
      ]
    },
    {
      "cell_type": "code",
      "source": [
        "instance = X[150]\n",
        "print(instance)"
      ],
      "metadata": {
        "colab": {
          "base_uri": "https://localhost:8080/"
        },
        "id": "eneNc76i6zsA",
        "outputId": "8ca4edbe-a338-4828-f7fa-98258625d38a"
      },
      "execution_count": 254,
      "outputs": [
        {
          "output_type": "stream",
          "name": "stdout",
          "text": [
            " BarcaPrincipal already bookmarked your previous tweet ever since just dey wait till the final make you fulfill that promise boss cos Argentina is winning the world cup\n"
          ]
        }
      ]
    },
    {
      "cell_type": "code",
      "source": [
        "instance = tokenizer.texts_to_sequences(instance)\n",
        "\n",
        "flat_list = []\n",
        "for sublist in instance:\n",
        "    for item in sublist:\n",
        "        flat_list.append(item)\n",
        "\n",
        "flat_list = [flat_list]\n",
        "\n",
        "instance = pad_sequences(flat_list, padding='post', maxlen=maxlen)\n",
        "\n",
        "model.predict(instance)"
      ],
      "metadata": {
        "colab": {
          "base_uri": "https://localhost:8080/"
        },
        "id": "Cm2tC5-D69Bf",
        "outputId": "341c1079-6d8d-4865-f584-13b5d63dba05"
      },
      "execution_count": 255,
      "outputs": [
        {
          "output_type": "stream",
          "name": "stdout",
          "text": [
            "1/1 [==============================] - 0s 27ms/step\n"
          ]
        },
        {
          "output_type": "execute_result",
          "data": {
            "text/plain": [
              "array([[0.85456914]], dtype=float32)"
            ]
          },
          "metadata": {},
          "execution_count": 255
        }
      ]
    }
  ]
}