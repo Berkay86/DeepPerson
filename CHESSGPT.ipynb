{
  "nbformat": 4,
  "nbformat_minor": 0,
  "metadata": {
    "colab": {
      "provenance": [],
      "authorship_tag": "ABX9TyNWmES1U1hv4scTn/w/vxCK",
      "include_colab_link": true
    },
    "kernelspec": {
      "name": "python3",
      "display_name": "Python 3"
    },
    "language_info": {
      "name": "python"
    }
  },
  "cells": [
    {
      "cell_type": "markdown",
      "metadata": {
        "id": "view-in-github",
        "colab_type": "text"
      },
      "source": [
        "<a href=\"https://colab.research.google.com/github/Berkay86/DeepPerson/blob/main/CHESSGPT.ipynb\" target=\"_parent\"><img src=\"https://colab.research.google.com/assets/colab-badge.svg\" alt=\"Open In Colab\"/></a>"
      ]
    },
    {
      "cell_type": "code",
      "execution_count": 9,
      "metadata": {
        "id": "oWjuNhW26LYI"
      },
      "outputs": [],
      "source": [
        "import cv2\n",
        "import zipfile\n",
        "import os\n",
        "\n",
        "# Zip dosyasını aç\n",
        "with zipfile.ZipFile(\"Videolarım.zip\", 'r') as zip_ref:\n",
        "    zip_ref.extractall()\n",
        "\n",
        "# Klasörlerin adlarını saklamak için bir liste oluştur\n",
        "folder_names = []\n",
        "\n",
        "# Zip dosyasındaki her dosya için\n",
        "for file in os.listdir():\n",
        "    if file.endswith(\".mp4\"):\n",
        "        # Video dosyasını aç\n",
        "        cap = cv2.VideoCapture(file)\n",
        "\n",
        "        # Klasör adı oluştur\n",
        "        folder_name = os.path.splitext(file)[0]\n",
        "        folder_names.append(folder_name)\n",
        "\n",
        "        # Klasör oluştur\n",
        "        os.makedirs(folder_name)\n",
        "\n",
        "        # Her frame için\n",
        "        i = 0\n",
        "        while(cap.isOpened()):\n",
        "            ret, frame = cap.read()\n",
        "            if ret == False:\n",
        "                break\n",
        "            \n",
        "            # Sadece 5., 6., 7., ... sn'lik frame'leri kaydet\n",
        "            if i % 30 == 0:\n",
        "                cv2.imwrite(folder_name + \"/\" + folder_name + str(i) + '.jpg', frame)\n",
        "            i += 1\n",
        "\n",
        "        # Video dosyasını kapat\n",
        "        cap.release()\n",
        "        cv2.destroyAllWindows()\n",
        "\n",
        "\n",
        "\n",
        "# Tüm klasörleri ve içeriğini bir zip dosyasına kaydet\n",
        "with zipfile.ZipFile(\"result.zip\", 'w') as zip_file:\n",
        "    for folder_name in folder_names:\n",
        "        for root, dirs, files in os.walk(folder_name):\n",
        "            for file in files:\n",
        "                zip_file.write(os.path.join(root, file))"
      ]
    }
  ]
}