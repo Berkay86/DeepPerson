{
  "nbformat": 4,
  "nbformat_minor": 0,
  "metadata": {
    "colab": {
      "provenance": [],
      "mount_file_id": "https://github.com/Berkay86/DeepPerson/blob/main/CHESSGPT.ipynb",
      "authorship_tag": "ABX9TyNE+sMURP35vOV1UcPMC9Qe",
      "include_colab_link": true
    },
    "kernelspec": {
      "name": "python3",
      "display_name": "Python 3"
    },
    "language_info": {
      "name": "python"
    }
  },
  "cells": [
    {
      "cell_type": "markdown",
      "metadata": {
        "id": "view-in-github",
        "colab_type": "text"
      },
      "source": [
        "<a href=\"https://colab.research.google.com/github/Berkay86/DeepPerson/blob/main/CHESSGPT.ipynb\" target=\"_parent\"><img src=\"https://colab.research.google.com/assets/colab-badge.svg\" alt=\"Open In Colab\"/></a>"
      ]
    },
    {
      "cell_type": "code",
      "source": [
        "import glob\n",
        "import numpy as np\n",
        "import pandas as pd\n",
        "import cv2\n",
        "import random\n",
        "import matplotlib.pyplot as plt\n",
        "from zipfile import ZipFile\n",
        "from google.colab import files\n",
        "import os\n",
        "     "
      ],
      "metadata": {
        "id": "ng7OyNPazX8J"
      },
      "execution_count": 1,
      "outputs": []
    },
    {
      "cell_type": "code",
      "source": [
        "import tensorflow as tf\n",
        "import numpy as np\n",
        "import tensorflow.compat.v1 as tfc\n",
        "np.set_printoptions(suppress=True)\n",
        "sess = tfc.InteractiveSession()"
      ],
      "metadata": {
        "id": "Fm0cgwpEEUjX"
      },
      "execution_count": 2,
      "outputs": []
    },
    {
      "cell_type": "code",
      "source": [
        "import cv2\n",
        "import zipfile\n",
        "import os\n",
        "\n",
        "# Extract the contents of the zip file\n",
        "file = \"VİDEOLARIM.zip\"\n",
        "with zipfile.ZipFile(file, 'r') as zip_ref:\n",
        "    zip_ref.extractall()\n",
        "\n",
        "# Create a list to store the folder names\n",
        "folder_names = []\n",
        "\n",
        "# Iterate over each file in the current directory\n",
        "for file in os.listdir():\n",
        "    if file.endswith(\".mp4\"):\n",
        "        # Open the video file\n",
        "        cap = cv2.VideoCapture(file)\n",
        "\n",
        "        # Create a folder name\n",
        "        folder_name = os.path.splitext(file)[0]\n",
        "        folder_names.append(folder_name)\n",
        "\n",
        "        # Create a folder\n",
        "        os.makedirs(folder_name)\n",
        "\n",
        "        # Read every frame of the video\n",
        "        i = 0\n",
        "        while(cap.isOpened()):\n",
        "            ret, frame = cap.read()\n",
        "            if ret == False:\n",
        "                break\n",
        "\n",
        "            # Save one frame per second\n",
        "            if i % 30 == 0:\n",
        "                image_file_name = folder_name + \"/ \" +str(i/30) + ' .jpg'\n",
        "                cv2.imwrite(image_file_name, frame)\n",
        "            i += 1\n",
        "\n",
        "        # Close the video file\n",
        "        cap.release()\n",
        "        cv2.destroyAllWindows()\n",
        "\n",
        "# Zip all the folders and their contents into a single zip file\n",
        "result_file = \"result.zip\"\n",
        "with zipfile.ZipFile(result_file, 'w') as zip_file:\n",
        "    for folder_name in folder_names:\n",
        "        for root, dirs, files in os.walk(folder_name):\n",
        "            for file in files:\n",
        "                zip_file.write(os.path.join(root, file))"
      ],
      "metadata": {
        "id": "Zic7bMDLielP",
        "outputId": "17556873-182b-40ab-c750-4652a45074cf",
        "colab": {
          "base_uri": "https://localhost:8080/",
          "height": 356
        }
      },
      "execution_count": 5,
      "outputs": [
        {
          "output_type": "error",
          "ename": "FileNotFoundError",
          "evalue": "ignored",
          "traceback": [
            "\u001b[0;31m---------------------------------------------------------------------------\u001b[0m",
            "\u001b[0;31mFileNotFoundError\u001b[0m                         Traceback (most recent call last)",
            "\u001b[0;32m<ipython-input-5-c624db664e9c>\u001b[0m in \u001b[0;36m<module>\u001b[0;34m\u001b[0m\n\u001b[1;32m      5\u001b[0m \u001b[0;31m# Extract the contents of the zip file\u001b[0m\u001b[0;34m\u001b[0m\u001b[0;34m\u001b[0m\u001b[0m\n\u001b[1;32m      6\u001b[0m \u001b[0mfile\u001b[0m \u001b[0;34m=\u001b[0m \u001b[0;34m\"VİDEOLARIM.zip\"\u001b[0m\u001b[0;34m\u001b[0m\u001b[0;34m\u001b[0m\u001b[0m\n\u001b[0;32m----> 7\u001b[0;31m \u001b[0;32mwith\u001b[0m \u001b[0mzipfile\u001b[0m\u001b[0;34m.\u001b[0m\u001b[0mZipFile\u001b[0m\u001b[0;34m(\u001b[0m\u001b[0mfile\u001b[0m\u001b[0;34m,\u001b[0m \u001b[0;34m'r'\u001b[0m\u001b[0;34m)\u001b[0m \u001b[0;32mas\u001b[0m \u001b[0mzip_ref\u001b[0m\u001b[0;34m:\u001b[0m\u001b[0;34m\u001b[0m\u001b[0;34m\u001b[0m\u001b[0m\n\u001b[0m\u001b[1;32m      8\u001b[0m     \u001b[0mzip_ref\u001b[0m\u001b[0;34m.\u001b[0m\u001b[0mextractall\u001b[0m\u001b[0;34m(\u001b[0m\u001b[0;34m)\u001b[0m\u001b[0;34m\u001b[0m\u001b[0;34m\u001b[0m\u001b[0m\n\u001b[1;32m      9\u001b[0m \u001b[0;34m\u001b[0m\u001b[0m\n",
            "\u001b[0;32m/usr/lib/python3.9/zipfile.py\u001b[0m in \u001b[0;36m__init__\u001b[0;34m(self, file, mode, compression, allowZip64, compresslevel, strict_timestamps)\u001b[0m\n\u001b[1;32m   1246\u001b[0m             \u001b[0;32mwhile\u001b[0m \u001b[0;32mTrue\u001b[0m\u001b[0;34m:\u001b[0m\u001b[0;34m\u001b[0m\u001b[0;34m\u001b[0m\u001b[0m\n\u001b[1;32m   1247\u001b[0m                 \u001b[0;32mtry\u001b[0m\u001b[0;34m:\u001b[0m\u001b[0;34m\u001b[0m\u001b[0;34m\u001b[0m\u001b[0m\n\u001b[0;32m-> 1248\u001b[0;31m                     \u001b[0mself\u001b[0m\u001b[0;34m.\u001b[0m\u001b[0mfp\u001b[0m \u001b[0;34m=\u001b[0m \u001b[0mio\u001b[0m\u001b[0;34m.\u001b[0m\u001b[0mopen\u001b[0m\u001b[0;34m(\u001b[0m\u001b[0mfile\u001b[0m\u001b[0;34m,\u001b[0m \u001b[0mfilemode\u001b[0m\u001b[0;34m)\u001b[0m\u001b[0;34m\u001b[0m\u001b[0;34m\u001b[0m\u001b[0m\n\u001b[0m\u001b[1;32m   1249\u001b[0m                 \u001b[0;32mexcept\u001b[0m \u001b[0mOSError\u001b[0m\u001b[0;34m:\u001b[0m\u001b[0;34m\u001b[0m\u001b[0;34m\u001b[0m\u001b[0m\n\u001b[1;32m   1250\u001b[0m                     \u001b[0;32mif\u001b[0m \u001b[0mfilemode\u001b[0m \u001b[0;32min\u001b[0m \u001b[0mmodeDict\u001b[0m\u001b[0;34m:\u001b[0m\u001b[0;34m\u001b[0m\u001b[0;34m\u001b[0m\u001b[0m\n",
            "\u001b[0;31mFileNotFoundError\u001b[0m: [Errno 2] No such file or directory: 'VİDEOLARIM.zip'"
          ]
        }
      ]
    },
    {
      "cell_type": "code",
      "source": [
        "file2 = \"/content/drive/MyDrive/RESULTS3.zip\""
      ],
      "metadata": {
        "id": "sKS83FX8zCU2"
      },
      "execution_count": 3,
      "outputs": []
    },
    {
      "cell_type": "code",
      "source": [
        "with ZipFile(file2, 'r') as zip:\n",
        "    zip.printdir()\n",
        "    zip.extractall()\n",
        "     "
      ],
      "metadata": {
        "id": "9aPr7kbozSBc"
      },
      "execution_count": null,
      "outputs": []
    },
    {
      "cell_type": "code",
      "source": [
        "paths = os.listdir('RESULTS')\n",
        "paths"
      ],
      "metadata": {
        "id": "VaDASvywzo40",
        "outputId": "0a849f17-d379-4634-b5c2-e6cf08c2aaa4",
        "colab": {
          "base_uri": "https://localhost:8080/"
        }
      },
      "execution_count": 5,
      "outputs": [
        {
          "output_type": "execute_result",
          "data": {
            "text/plain": [
              "['MorphyPaulsen4',\n",
              " 'StauntonAnderssen',\n",
              " 'BirdAnderssen1',\n",
              " 'PaulsenMorphy',\n",
              " 'MorphyPaulsen2',\n",
              " 'PaulsenMorphy4',\n",
              " 'MorphyPaulsen',\n",
              " 'StauntonBird',\n",
              " 'PaulsenMorphy1',\n",
              " 'MorphyPaulsen1',\n",
              " 'BirdAnderssen',\n",
              " 'StauntonAnderssen1',\n",
              " 'PaulsenMorphy2',\n",
              " 'PaulsenMorphy3',\n",
              " 'MorphyBird',\n",
              " 'MorphyPaulsen3',\n",
              " 'MorphyPaulsen5',\n",
              " 'AnderssenStaunton2',\n",
              " 'AnderssenStaunton1']"
            ]
          },
          "metadata": {},
          "execution_count": 5
        }
      ]
    },
    {
      "cell_type": "code",
      "source": [
        "k=[]\n",
        "images = []\n",
        "labels = []\n",
        "m=[] \n",
        "a=[] \n",
        "     "
      ],
      "metadata": {
        "id": "JWJSN-5Hzxj5"
      },
      "execution_count": 9,
      "outputs": []
    },
    {
      "cell_type": "code",
      "source": [
        "import os\n",
        "import cv2\n",
        "import matplotlib.pyplot as plt\n",
        "import numpy as np\n",
        "import PIL.Image\n",
        "from io import BytesIO\n",
        "from IPython.display import clear_output, Image, display\n",
        "import scipy.ndimage as nd\n",
        "import scipy.signal\n",
        "\n",
        "def display_array(a, fmt='jpeg', rng=[0,1]):\n",
        "    a = (a - rng[0]) / float(rng[1] - rng[0]) * 255\n",
        "    a = np.uint8(np.clip(a, 0, 255))\n",
        "    f = BytesIO()\n",
        "    PIL.Image.fromarray(a).save(f, fmt)\n",
        "    display(Image(data=f.getvalue()))\n",
        "\n",
        "for i in paths:\n",
        "    path0 = '/content/RESULTS/'+ str(i)\n",
        "    for path in os.listdir(path0):\n",
        "        path = '/content/RESULTS/'+ str(i) + \"/\" + path\n",
        "        #print(path)\n",
        "        img = plt.imread(path)\n",
        "        img = PIL.Image.fromarray(img)\n",
        "        if img.size[0] > 2000 or img.size[1] > 2000:\n",
        "            print(\"Image too big (%d x %d)\" % (img.size[0], img.size[1]))\n",
        "            new_size = 500.0 # px\n",
        "            if img.size[0] > img.size[1]:\n",
        "                # resize by width to new limit\n",
        "                ratio = new_size / img.size[0]\n",
        "            else:\n",
        "                # resize by height\n",
        "                ratio = new_size / img.size[1]\n",
        "            print(\"Reducing by factor of %.2g\" % (1./ratio))\n",
        "            img = img.resize((int(img.size[0] * ratio), int(img.size[1] * ratio)), PIL.Image.ADAPTIVE)\n",
        "            print(\"New size: (%d x %d)\" % (img.size[0], img.size[1]))\n",
        "        img = np.asarray(img)\n",
        "        img= cv2.cvtColor(img,cv2.COLOR_BGR2GRAY)\n",
        "\n",
        "display_array(img, rng=[0, 255])\n"
      ],
      "metadata": {
        "id": "5Mm-rFyRG-c4",
        "outputId": "ec0debf2-f5cc-4f2c-9437-25eda207061b",
        "colab": {
          "base_uri": "https://localhost:8080/",
          "height": 529
        }
      },
      "execution_count": 18,
      "outputs": [
        {
          "output_type": "display_data",
          "data": {
            "image/jpeg": "[encoded data removed]",
            "text/plain": [
              "<IPython.core.display.Image object>"
            ]
          },
          "metadata": {}
        }
      ]
    },
    {
      "cell_type": "code",
      "source": [
        "a=img"
      ],
      "metadata": {
        "id": "rbtTjfYESN2i"
      },
      "execution_count": 19,
      "outputs": []
    },
    {
      "cell_type": "code",
      "source": [
        "def make_kernel(a):\n",
        "  \"\"\"Transform a 2D array into a convolution kernel\"\"\"\n",
        "  a = np.asarray(a)\n",
        "  a = a.reshape(list(a.shape) + [1,1])\n",
        "  return tf.constant(a, dtype=1)\n",
        "\n",
        "def simple_conv(x, k):\n",
        "  \"\"\"A simplified 2D convolution operation\"\"\"\n",
        "  x = tf.expand_dims(tf.expand_dims(x, 0), -1)\n",
        "  y = tf.nn.depthwise_conv2d(x, k, [1, 1, 1, 1], padding='SAME')\n",
        "  return y[0, :, :, 0]\n",
        "\n",
        "def gradientx(x):\n",
        "  \"\"\"Compute the x gradient of an array\"\"\"\n",
        "  gradient_x = make_kernel([[-1.,0., 1.],\n",
        "                            [-1.,0., 1.],\n",
        "                            [-1.,0., 1.]])\n",
        "  return simple_conv(x, gradient_x)\n",
        "\n",
        "def gradienty(x):\n",
        "  \"\"\"Compute the x gradient of an array\"\"\"\n",
        "  gradient_y = make_kernel([[-1., -1, -1],[0.,0,0], [1., 1, 1]])\n",
        "  return simple_conv(x, gradient_y)\n",
        "\n",
        "def corners(x):\n",
        "  \"\"\"Find chess square corners in an array\"\"\"\n",
        "  chess_corner = make_kernel([[-1., 0, 1],[0., 0., 0.], [1.,0, -1]])\n",
        "  return simple_conv(x, chess_corner)\n",
        "\n",
        "# Following are meant for binary images\n",
        "def dilate(x, size=3):\n",
        "  \"\"\"Dilate\"\"\"\n",
        "  kernel = make_kernel(np.ones([size,size], dtype=np.float32))\n",
        "  return tf.clip_by_value(simple_conv(x, kernel),\n",
        "                          np.float32(1),\n",
        "                          np.float32(2))-np.float32(1)\n",
        "\n",
        "def erode(x, size=3):\n",
        "  \"\"\"Erode\"\"\"\n",
        "  kernel = make_kernel(np.ones([size,size]))\n",
        "  return tf.clip_by_value(simple_conv(x, kernel),\n",
        "                          np.float32(size*size-1),\n",
        "                          np.float32(size*size))-np.float32(size*size-1)\n",
        "\n",
        "def opening(x, size=3):\n",
        "    return dilate(erode(x,size),size)\n",
        "\n",
        "def closing(x, size=3):\n",
        "    return erode(dilate(x,size),size)\n",
        "\n",
        "def skeleton(x, size=3):\n",
        "    \"\"\"Skeletonize\"\"\"\n",
        "    return tf.clip_by_value(erode(x) - opening(erode(x)),\n",
        "                            0.,\n",
        "                            1.)"
      ],
      "metadata": {
        "id": "zzMyKYVtPU0T"
      },
      "execution_count": 20,
      "outputs": []
    },
    {
      "cell_type": "code",
      "source": [
        "import tensorflow as tf\n",
        "\n",
        "# Cast the input tensor to float32\n",
        "A = tf.cast(A, tf.float32)\n",
        "\n",
        "# Compute X & Y gradients and subtract opposite gradient\n",
        "Dx = tf.clip_by_value(tf.abs(gradientx(A)) - tf.abs(gradienty(A)), 0., 1.)\n",
        "Dy = tf.clip_by_value(tf.abs(gradienty(A)) - tf.abs(gradientx(A)), 0., 1.)\n",
        "\n",
        "# Compute the corner response\n",
        "Dxy = tf.abs(gradientx(A) * gradienty(A))\n",
        "Dc = tf.abs(corners(A))"
      ],
      "metadata": {
        "id": "-jDj49UYRE04"
      },
      "execution_count": 23,
      "outputs": []
    },
    {
      "cell_type": "code",
      "source": [
        "tf.compat.v1.global_variables_initializer()"
      ],
      "metadata": {
        "id": "9fh4chwhS6QW"
      },
      "execution_count": 31,
      "outputs": []
    },
    {
      "cell_type": "code",
      "source": [
        "display_array(Dx.eval(), rng=[-255,255])\n",
        "display_array(Dy.eval(), rng=[-255,255])"
      ],
      "metadata": {
        "id": "anvHX_EKMOpQ",
        "outputId": "c84699da-4a30-46b6-f6bf-fe9f20c8f9a6",
        "colab": {
          "base_uri": "https://localhost:8080/",
          "height": 304
        }
      },
      "execution_count": 32,
      "outputs": [
        {
          "output_type": "error",
          "ename": "NotImplementedError",
          "evalue": "ignored",
          "traceback": [
            "\u001b[0;31m---------------------------------------------------------------------------\u001b[0m",
            "\u001b[0;31mNotImplementedError\u001b[0m                       Traceback (most recent call last)",
            "\u001b[0;32m<ipython-input-32-199f6fd4d6c5>\u001b[0m in \u001b[0;36m<module>\u001b[0;34m\u001b[0m\n\u001b[0;32m----> 1\u001b[0;31m \u001b[0mdisplay_array\u001b[0m\u001b[0;34m(\u001b[0m\u001b[0mDx\u001b[0m\u001b[0;34m.\u001b[0m\u001b[0meval\u001b[0m\u001b[0;34m(\u001b[0m\u001b[0;34m)\u001b[0m\u001b[0;34m,\u001b[0m \u001b[0mrng\u001b[0m\u001b[0;34m=\u001b[0m\u001b[0;34m[\u001b[0m\u001b[0;34m-\u001b[0m\u001b[0;36m255\u001b[0m\u001b[0;34m,\u001b[0m\u001b[0;36m255\u001b[0m\u001b[0;34m]\u001b[0m\u001b[0;34m)\u001b[0m\u001b[0;34m\u001b[0m\u001b[0;34m\u001b[0m\u001b[0m\n\u001b[0m\u001b[1;32m      2\u001b[0m \u001b[0mdisplay_array\u001b[0m\u001b[0;34m(\u001b[0m\u001b[0mDy\u001b[0m\u001b[0;34m.\u001b[0m\u001b[0meval\u001b[0m\u001b[0;34m(\u001b[0m\u001b[0;34m)\u001b[0m\u001b[0;34m,\u001b[0m \u001b[0mrng\u001b[0m\u001b[0;34m=\u001b[0m\u001b[0;34m[\u001b[0m\u001b[0;34m-\u001b[0m\u001b[0;36m255\u001b[0m\u001b[0;34m,\u001b[0m\u001b[0;36m255\u001b[0m\u001b[0;34m]\u001b[0m\u001b[0;34m)\u001b[0m\u001b[0;34m\u001b[0m\u001b[0;34m\u001b[0m\u001b[0m\n",
            "\u001b[0;32m/usr/local/lib/python3.9/dist-packages/tensorflow/python/framework/ops.py\u001b[0m in \u001b[0;36meval\u001b[0;34m(self, feed_dict, session)\u001b[0m\n\u001b[1;32m   1338\u001b[0m \u001b[0;34m\u001b[0m\u001b[0m\n\u001b[1;32m   1339\u001b[0m   \u001b[0;32mdef\u001b[0m \u001b[0meval\u001b[0m\u001b[0;34m(\u001b[0m\u001b[0mself\u001b[0m\u001b[0;34m,\u001b[0m \u001b[0mfeed_dict\u001b[0m\u001b[0;34m=\u001b[0m\u001b[0;32mNone\u001b[0m\u001b[0;34m,\u001b[0m \u001b[0msession\u001b[0m\u001b[0;34m=\u001b[0m\u001b[0;32mNone\u001b[0m\u001b[0;34m)\u001b[0m\u001b[0;34m:\u001b[0m\u001b[0;34m\u001b[0m\u001b[0;34m\u001b[0m\u001b[0m\n\u001b[0;32m-> 1340\u001b[0;31m     raise NotImplementedError(\n\u001b[0m\u001b[1;32m   1341\u001b[0m         \u001b[0;34m\"eval is not supported when eager execution is enabled, \"\u001b[0m\u001b[0;34m\u001b[0m\u001b[0;34m\u001b[0m\u001b[0m\n\u001b[1;32m   1342\u001b[0m         \"is .numpy() what you're looking for?\")\n",
            "\u001b[0;31mNotImplementedError\u001b[0m: eval is not supported when eager execution is enabled, is .numpy() what you're looking for?"
          ]
        }
      ]
    },
    {
      "cell_type": "code",
      "source": [
        "labels10 = np.array(labels1)\n",
        "images10 = np.array(images).astype(\"float32\")"
      ],
      "metadata": {
        "id": "QaVpPBh99_QT"
      },
      "execution_count": null,
      "outputs": []
    },
    {
      "cell_type": "code",
      "source": [
        "a=2\n",
        "print(labels1[a])\n",
        "plt.imshow(images[a])"
      ],
      "metadata": {
        "id": "iWZp-ia76_CC",
        "outputId": "de27afa5-d163-471c-8d94-53b9aa9eb17a",
        "colab": {
          "base_uri": "https://localhost:8080/",
          "height": 303
        }
      },
      "execution_count": null,
      "outputs": [
        {
          "output_type": "stream",
          "name": "stdout",
          "text": [
            "1.0\n"
          ]
        },
        {
          "output_type": "execute_result",
          "data": {
            "text/plain": [
              "<matplotlib.image.AxesImage at 0x7feca24a3580>"
            ]
          },
          "metadata": {},
          "execution_count": 326
        },
        {
          "output_type": "display_data",
          "data": {
            "text/plain": [
              "<Figure size 432x288 with 1 Axes>"
            ],
            "image/png": "[encoded data removed]"
          },
          "metadata": {
            "needs_background": "light"
          }
        }
      ]
    },
    {
      "cell_type": "code",
      "source": [
        "b=90\n",
        "print(labels1[b])\n",
        "plt.imshow(images[b])"
      ],
      "metadata": {
        "id": "GJU2lsgg-7Z6",
        "outputId": "4c1f389e-e042-4a20-da28-f91ba4adcef3",
        "colab": {
          "base_uri": "https://localhost:8080/",
          "height": 303
        }
      },
      "execution_count": null,
      "outputs": [
        {
          "output_type": "stream",
          "name": "stdout",
          "text": [
            "1.0\n"
          ]
        },
        {
          "output_type": "execute_result",
          "data": {
            "text/plain": [
              "<matplotlib.image.AxesImage at 0x7feca162a970>"
            ]
          },
          "metadata": {},
          "execution_count": 164
        },
        {
          "output_type": "display_data",
          "data": {
            "text/plain": [
              "<Figure size 432x288 with 1 Axes>"
            ],
            "image/png": "[encoded data removed]"
          },
          "metadata": {
            "needs_background": "light"
          }
        }
      ]
    },
    {
      "cell_type": "code",
      "source": [
        "labels10 = np.array(labels1)\n",
        "images10 = np.array(images).astype(\"float32\")"
      ],
      "metadata": {
        "id": "qRdVh-5l-ai0"
      },
      "execution_count": null,
      "outputs": []
    },
    {
      "cell_type": "code",
      "source": [
        "images10[2]"
      ],
      "metadata": {
        "id": "8D5ugepw-hLU",
        "outputId": "923ff9ee-9c45-4700-ec83-25a23951fe6f",
        "colab": {
          "base_uri": "https://localhost:8080/"
        }
      },
      "execution_count": null,
      "outputs": [
        {
          "output_type": "execute_result",
          "data": {
            "text/plain": [
              "array([[0.22745098, 0.22745098, 0.22352941, ..., 0.23137255, 0.22352941,\n",
              "        0.1882353 ],\n",
              "       [0.21176471, 0.23921569, 0.31764707, ..., 0.2627451 , 0.23921569,\n",
              "        0.21960784],\n",
              "       [0.21568628, 0.31764707, 0.85882354, ..., 0.44705883, 0.2901961 ,\n",
              "        0.22745098],\n",
              "       ...,\n",
              "       [0.21176471, 0.25490198, 0.49411765, ..., 0.85490197, 0.3254902 ,\n",
              "        0.18039216],\n",
              "       [0.22352941, 0.23137255, 0.2784314 , ..., 0.33333334, 0.2784314 ,\n",
              "        0.31764707],\n",
              "       [0.23137255, 0.21568628, 0.20784314, ..., 0.19607843, 0.31764707,\n",
              "        0.44313726]], dtype=float32)"
            ]
          },
          "metadata": {},
          "execution_count": 143
        }
      ]
    },
    {
      "cell_type": "code",
      "source": [
        "\n",
        "kale=[]\n",
        "for i in range(-8,-4):\n",
        "    kale.append(images[90][i][1:8])\n",
        "plt.imshow(kale)"
      ],
      "metadata": {
        "id": "RWMd5ctHBd0e",
        "outputId": "e723bc2f-752b-4d6d-d5be-c34f7b195696",
        "colab": {
          "base_uri": "https://localhost:8080/",
          "height": 260
        }
      },
      "execution_count": null,
      "outputs": [
        {
          "output_type": "execute_result",
          "data": {
            "text/plain": [
              "<matplotlib.image.AxesImage at 0x7feca263c070>"
            ]
          },
          "metadata": {},
          "execution_count": 320
        },
        {
          "output_type": "display_data",
          "data": {
            "text/plain": [
              "<Figure size 432x288 with 1 Axes>"
            ],
            "image/png": "[encoded data removed]"
          },
          "metadata": {
            "needs_background": "light"
          }
        }
      ]
    },
    {
      "cell_type": "code",
      "source": [
        "m2=0\n",
        "m1=0\n",
        "for g in range(0,100):\n",
        "  for i in range(-8,0):\n",
        "    print(images[g][i][0:8]==kale[i])\n",
        "\n",
        "\n",
        "     \n"
      ],
      "metadata": {
        "id": "R7CEg135HB4P",
        "outputId": "0731f034-f989-4e6d-d391-cf191e25d6e1",
        "colab": {
          "base_uri": "https://localhost:8080/"
        }
      },
      "execution_count": null,
      "outputs": [
        {
          "output_type": "stream",
          "name": "stdout",
          "text": [
            "[False  True False False False False False False]\n",
            "[False False False False False False False False]\n",
            "[False False False False False False False False]\n",
            "[False False False False False False False False]\n",
            "[False False False False False False False False]\n",
            "[False False False False False False False False]\n",
            "[False False False False False False False False]\n",
            "[False False False False False False False False]\n"
          ]
        }
      ]
    },
    {
      "cell_type": "code",
      "source": [
        "plt.imshow(images[90][0:8][0:8])"
      ],
      "metadata": {
        "id": "L8rPLmlwQq1c",
        "outputId": "dcf11c79-2bdd-44f5-af21-ff83c261aa3d",
        "colab": {
          "base_uri": "https://localhost:8080/",
          "height": 108
        }
      },
      "execution_count": null,
      "outputs": [
        {
          "output_type": "execute_result",
          "data": {
            "text/plain": [
              "<matplotlib.image.AxesImage at 0x7feca18b99d0>"
            ]
          },
          "metadata": {},
          "execution_count": 303
        },
        {
          "output_type": "display_data",
          "data": {
            "text/plain": [
              "<Figure size 432x288 with 1 Axes>"
            ],
            "image/png": "[encoded data removed]"
          },
          "metadata": {
            "needs_background": "light"
          }
        }
      ]
    }
  ]
}