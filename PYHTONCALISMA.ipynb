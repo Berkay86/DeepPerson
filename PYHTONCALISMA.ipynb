{
  "nbformat": 4,
  "nbformat_minor": 0,
  "metadata": {
    "colab": {
      "provenance": [],
      "collapsed_sections": [],
      "authorship_tag": "ABX9TyPzJmpaua+JMshijqPAiPXk",
      "include_colab_link": true
    },
    "kernelspec": {
      "name": "python3",
      "display_name": "Python 3"
    },
    "language_info": {
      "name": "python"
    }
  },
  "cells": [
    {
      "cell_type": "markdown",
      "metadata": {
        "id": "view-in-github",
        "colab_type": "text"
      },
      "source": [
        "<a href=\"https://colab.research.google.com/github/Berkay86/DeepPerson/blob/main/PYHTONCALISMA.ipynb\" target=\"_parent\"><img src=\"https://colab.research.google.com/assets/colab-badge.svg\" alt=\"Open In Colab\"/></a>"
      ]
    },
    {
      "cell_type": "markdown",
      "source": [
        "Örnek 1: Ekranda “Merhaba Dünya” yazdıran Python Örneği"
      ],
      "metadata": {
        "id": "Yxmqo8pymVS0"
      }
    },
    {
      "cell_type": "code",
      "execution_count": 3,
      "metadata": {
        "colab": {
          "base_uri": "https://localhost:8080/"
        },
        "id": "f2Umghf6OChU",
        "outputId": "8c82e20c-7398-4452-dce8-8f44fc9bc65d"
      },
      "outputs": [
        {
          "output_type": "stream",
          "name": "stdout",
          "text": [
            "Merhaba Dünya\n"
          ]
        }
      ],
      "source": [
        "print(\"Merhaba Dünya\")"
      ]
    },
    {
      "cell_type": "markdown",
      "source": [
        "Örnek 2: Kullanıcının İsmini Alarak Merhaba (kullanıcı ismi) Yazdıran Python Örneği"
      ],
      "metadata": {
        "id": "f60P23kMmalt"
      }
    },
    {
      "cell_type": "code",
      "source": [
        "isim=input(\"İsmini yaz: \")\n",
        "print(f\"Merhaba {isim}\")"
      ],
      "metadata": {
        "colab": {
          "base_uri": "https://localhost:8080/"
        },
        "id": "7GJAwJYaPSxe",
        "outputId": "d4f05a9d-2106-415d-f93f-829e9f7f5c73"
      },
      "execution_count": 11,
      "outputs": [
        {
          "output_type": "stream",
          "name": "stdout",
          "text": [
            "İsmini yaz: BERKAY\n",
            "Merhaba BERKAY\n"
          ]
        }
      ]
    },
    {
      "cell_type": "markdown",
      "source": [
        "Örnek 3: Girilen 2 Sayıyı Toplayan ve ortalama alan Python Örneği"
      ],
      "metadata": {
        "id": "bAlz1DFdmc2f"
      }
    },
    {
      "cell_type": "code",
      "source": [
        "x1=int(input(\"Birinci Sayıyı yaz: \"))\n",
        "x2=int(input(\"İkinci Sayıyı yaz: \"))\n",
        "\n",
        "print(\"Toplam:\",x1+x2)\n",
        "print(\"Ortalama:\",(x1+x2)/2)"
      ],
      "metadata": {
        "colab": {
          "base_uri": "https://localhost:8080/"
        },
        "id": "0U5WVwvVPvOx",
        "outputId": "e0f63d0f-fe33-4261-8a21-7a7a9c67059b"
      },
      "execution_count": 7,
      "outputs": [
        {
          "output_type": "stream",
          "name": "stdout",
          "text": [
            "Birinci Sayıyı yaz: 58\n",
            "İkinci Sayıyı yaz: 59\n",
            "Toplam: 117\n",
            "Ortalama: 58.5\n"
          ]
        }
      ]
    },
    {
      "cell_type": "markdown",
      "source": [
        "Örnek 5: Girilen Vize ve Final Notu Ortalaması Hesaplayan Python Örneği\n",
        "\n"
      ],
      "metadata": {
        "id": "iY590JLFmgVJ"
      }
    },
    {
      "cell_type": "code",
      "source": [
        "x1=int(input(\"Vize Notu: \"))\n",
        "x2=int(input(\"Final Notu \"))\n",
        "ortalama=(x1*0.4+x2*0.6)\n",
        "print(\"Ders Notu Geçme Durumu:\",ortalama)"
      ],
      "metadata": {
        "colab": {
          "base_uri": "https://localhost:8080/"
        },
        "id": "_e2vPDmzQbKh",
        "outputId": "58049beb-dca8-4e50-d49e-8bb8736cc8d2"
      },
      "execution_count": 9,
      "outputs": [
        {
          "output_type": "stream",
          "name": "stdout",
          "text": [
            "Vize Notu: 55\n",
            "Final Notu 85\n",
            "Ders Notu Geçme Durumu: 73.0\n"
          ]
        }
      ]
    },
    {
      "cell_type": "markdown",
      "source": [
        "Örnek 6: Girilen 3 Yazılı Notunun Ortalamasını Bulan Python Örneği\n",
        "\n"
      ],
      "metadata": {
        "id": "k5PiHcxkmjjx"
      }
    },
    {
      "cell_type": "code",
      "source": [
        "x=1\n",
        "sinav_notu=0\n",
        "while x<4:\n",
        "  y=int(input(f\"{x}.Sınav Notu: \"))\n",
        "  sinav_notu+=y\n",
        "  ortalama=sinav_notu/x\n",
        "  x+=1\n",
        "\n",
        "  print(\"Ortalama: \",ortalama)"
      ],
      "metadata": {
        "colab": {
          "base_uri": "https://localhost:8080/"
        },
        "id": "77KCRPqDQ7hM",
        "outputId": "60b50ea1-e770-4dc6-cd25-813ed4486da5"
      },
      "execution_count": 11,
      "outputs": [
        {
          "output_type": "stream",
          "name": "stdout",
          "text": [
            "1.Sınav Notu: 56\n",
            "Ortalama:  56.0\n",
            "2.Sınav Notu: 85\n",
            "Ortalama:  70.5\n",
            "3.Sınav Notu: 89\n",
            "Ortalama:  76.66666666666667\n"
          ]
        }
      ]
    },
    {
      "cell_type": "markdown",
      "source": [
        "Örnek 7: Yazılı Ortalaması Girilen Öğrencinin Sınıf Geçme Durumunu (GEÇTİ – KALDI) Gösteren Python Örneği\n",
        "\n"
      ],
      "metadata": {
        "id": "XmJDnCcWmku3"
      }
    },
    {
      "cell_type": "code",
      "source": [
        "x=1\n",
        "sinav_notu=0\n",
        "while True:\n",
        "  y=input(f\"{x}.sınav ortalaması: \")\n",
        "\n",
        "  if y.lower()==\"exit\":\n",
        "    break\n",
        "  else:\n",
        "    \n",
        "    if int(y)<60:\n",
        "        print(\"Kaldı\")\n",
        "    else:\n",
        "        print(\"Geçti\") \n",
        "    \n",
        "    x+=1\n",
        "  continue\n",
        "\n",
        "  sinav_notu=y\n",
        "  y=0\n",
        " \n",
        "  print(\"Ortalama: \",sinav_notu)"
      ],
      "metadata": {
        "colab": {
          "base_uri": "https://localhost:8080/"
        },
        "id": "j6EFq2gqSL3n",
        "outputId": "f569e0f0-109f-4cb6-f720-534b1842627d"
      },
      "execution_count": 41,
      "outputs": [
        {
          "name": "stdout",
          "output_type": "stream",
          "text": [
            "1.sınav ortalaması: 50\n",
            "Kaldı\n",
            "2.sınav ortalaması: exit\n"
          ]
        }
      ]
    },
    {
      "cell_type": "markdown",
      "source": [
        "Örnek 8: Girilen Sayının Tek mi Çift mi Olduğunu Bulan Python Örneği\n"
      ],
      "metadata": {
        "id": "BjTm2nGbmnyM"
      }
    },
    {
      "cell_type": "code",
      "source": [
        "x=1\n",
        "while True:\n",
        "  tekvecift=input(f\"{x}.Sayıyı Giriniz:\")\n",
        "\n",
        "  if tekvecift.lower()==\"exit\":\n",
        "    break\n",
        "  else:\n",
        "\n",
        "      if int(tekvecift) % 2 == 0:\n",
        "          print(\"Sayı Çiftir\")\n",
        "      else:\n",
        "          print(\"Sayı Tektir\")\n",
        "      x+=1\n",
        "  continue\n",
        "\n"
      ],
      "metadata": {
        "colab": {
          "base_uri": "https://localhost:8080/"
        },
        "id": "VyI_M2j6XYeI",
        "outputId": "c94a298f-1981-43fd-a74d-30d4c2e2f667"
      },
      "execution_count": 49,
      "outputs": [
        {
          "name": "stdout",
          "output_type": "stream",
          "text": [
            "1.Sayıyı Giriniz:56\n",
            "Sayı Çiftir\n",
            "2.Sayıyı Giriniz:85\n",
            "Sayı Tektir\n",
            "3.Sayıyı Giriniz:95\n",
            "Sayı Tektir\n",
            "4.Sayıyı Giriniz:62\n",
            "Sayı Çiftir\n",
            "5.Sayıyı Giriniz:56\n",
            "Sayı Çiftir\n",
            "6.Sayıyı Giriniz:84\n",
            "Sayı Çiftir\n",
            "7.Sayıyı Giriniz:exit\n"
          ]
        }
      ]
    },
    {
      "cell_type": "markdown",
      "source": [
        "Örnek 9: Girilen Sayının Pozitif, Negatif, ya da 0 Olduğunu Bulan Python Örneği\n",
        "\n"
      ],
      "metadata": {
        "id": "xYNYdM0NmqRU"
      }
    },
    {
      "cell_type": "code",
      "source": [
        "x=1\n",
        "while True:\n",
        "  isaret=input(f\"{x}.Sayıyı Giriniz:\")\n",
        "\n",
        "  if isaret.lower()==\"exit\":\n",
        "    break\n",
        "  else:\n",
        "\n",
        "      if int(isaret)>0:\n",
        "          print(\"Sayı Pozitiftir\")\n",
        "      elif int(isaret)<0:\n",
        "          print(\"Sayı Negatiftir\")\n",
        "      elif int(isaret)==0:\n",
        "         print(\"Sayı Sıfırdır\")\n",
        "\n",
        "      x+=1\n",
        "  continue\n"
      ],
      "metadata": {
        "colab": {
          "base_uri": "https://localhost:8080/"
        },
        "id": "hK2CBiRPWqaH",
        "outputId": "b98f8be8-a9c5-493a-c259-85434beb8d4d"
      },
      "execution_count": 50,
      "outputs": [
        {
          "name": "stdout",
          "output_type": "stream",
          "text": [
            "1.Sayıyı Giriniz:58\n",
            "Sayı Pozitiftir\n",
            "2.Sayıyı Giriniz:-56\n",
            "Sayı Negatiftir\n",
            "3.Sayıyı Giriniz:0\n",
            "Sayı Sıfırdır\n",
            "4.Sayıyı Giriniz:exit\n"
          ]
        }
      ]
    },
    {
      "cell_type": "markdown",
      "source": [
        "Örnek 10: Kullanıcının girdiği boy ve ağırlık değerlerine göre vücut kitle indeksini (VKİ=ağırlık/(boy*boy), boymetre cinsinden verilmeli) hesaplayınız"
      ],
      "metadata": {
        "id": "NJkWRdcEnZUJ"
      }
    },
    {
      "cell_type": "code",
      "source": [
        "boy = float(input(\"Boy (m):\"))\n",
        "kilo = int(input(\"Kilo (kg):\"))\n",
        " \n",
        "endeks  = kilo/(boy*boy)\n",
        " \n",
        "if endeks <=18:\n",
        "    print(f\"\\n zayıf VKİ:{endeks}\")\n",
        "elif endeks > 18 and endeks <=25 :\n",
        "    print(f\"\\n kilolu VKİ:{endeks}\")\n",
        "elif endeks > 25 and endeks <=30:\n",
        "    print(f\"\\n obez VKİ:{endeks}\")\n",
        "elif endeks > 30:\n",
        "    print(f\"\\n ciddi obez VKİ:{endeks}\")"
      ],
      "metadata": {
        "colab": {
          "base_uri": "https://localhost:8080/"
        },
        "id": "shAHh1PDcB_R",
        "outputId": "54f1df59-b04a-4324-85d0-1780d135b549"
      },
      "execution_count": 52,
      "outputs": [
        {
          "output_type": "stream",
          "name": "stdout",
          "text": [
            "Boy (m):1.85\n",
            "Kilo (kg):72\n",
            "\n",
            " kilolu VKİ:21.0372534696859\n"
          ]
        }
      ]
    },
    {
      "cell_type": "markdown",
      "source": [
        "Örnek 11: Yaşı Girilen Kişinin Ehliyet Alıp Alamayacağını Gösteren Python Örneği"
      ],
      "metadata": {
        "id": "Yy559MX-c9GZ"
      }
    },
    {
      "cell_type": "code",
      "source": [],
      "metadata": {
        "id": "GZWCzhhVc-4L"
      },
      "execution_count": null,
      "outputs": []
    },
    {
      "cell_type": "markdown",
      "source": [
        "Örnek 12: 1-100 Arası Sayıları Ekranda Listeleyen Python Örneği\n",
        "\n"
      ],
      "metadata": {
        "id": "RjoPi5PmdA8D"
      }
    },
    {
      "cell_type": "code",
      "source": [
        "#Benim yaptığım\n",
        "sayi=1\n",
        "while sayi<101:\n",
        "  print(f\"{sayi}.sayi\")\n",
        "  sayi+=1\n",
        "#Cevap\n",
        "for i in range(1,101):\n",
        "        print(i)"
      ],
      "metadata": {
        "id": "X60SsSsvdEMV"
      },
      "execution_count": null,
      "outputs": []
    },
    {
      "cell_type": "markdown",
      "source": [
        "Örnek 13:1-100 arası Çift Sayıları Listeleyen Python Örneği"
      ],
      "metadata": {
        "id": "D1FF7zWnd5od"
      }
    },
    {
      "cell_type": "code",
      "source": [
        "sayi=1\n",
        "while sayi<101:\n",
        "  if int(sayi)%2==0:\n",
        "    print(f\"{sayi}.Sayi Çiftir\")\n",
        "    #İkisinide aynı anda yazmasını istersek else yapısını ekleriz.\n",
        "  #else:\n",
        "    #print(f\"{sayi}.Sayi Tektir\")\n",
        "  sayi+=1"
      ],
      "metadata": {
        "id": "ekvhUFmcd_-_"
      },
      "execution_count": null,
      "outputs": []
    },
    {
      "cell_type": "markdown",
      "source": [
        "Örnek 15:1-100 Arası 3′ e ve 5′ e tam bölünen sayıları bulan Python Örneği"
      ],
      "metadata": {
        "id": "OhKPwaX1ejAj"
      }
    },
    {
      "cell_type": "code",
      "source": [
        "for i in range(1,101):\n",
        "  if i%3==0 or i%5==0:\n",
        "    print(i)"
      ],
      "metadata": {
        "id": "jRXSSM74eoij"
      },
      "execution_count": null,
      "outputs": []
    },
    {
      "cell_type": "markdown",
      "source": [
        "Örnek 16:1 den Kullanıcının Girdiği Sayıya Kadar Sayıları Listeleyen Python Örneği"
      ],
      "metadata": {
        "id": "oxT8tZZqfkBF"
      }
    },
    {
      "cell_type": "code",
      "source": [
        "#Benim Yaptığım\n",
        "sayi=1\n",
        "sayi1=int(input(\"Listeme yapacağımız sayı: \"))\n",
        "while sayi<=sayi1:\n",
        "  print(f\"{sayi}.sayi\")\n",
        "  sayi+=1\n",
        "#CEVAP\n",
        "sayi=input('Sayıyı Gir : ')\n",
        "for i in range(1,int(sayi)+1):\n",
        "  print(i)"
      ],
      "metadata": {
        "id": "GQCKGGyRftot"
      },
      "execution_count": null,
      "outputs": []
    },
    {
      "cell_type": "markdown",
      "source": [
        "Örnek 17: Kenarları Girilen Dikdörtgenin Alanı ve Çevresini Bulan Python Örneği"
      ],
      "metadata": {
        "id": "dPvjxXsVgj7u"
      }
    },
    {
      "cell_type": "code",
      "source": [
        "kisa=input('Kısa Kenar : ')\n",
        "uzun=input('Uzun Kenar : ')\n",
        "alan=int(kisa)*int(uzun)\n",
        "cevre=2*(int(kisa)+int(uzun))\n",
        "\n",
        "print(f\"Alan : {alan}\")\n",
        "print(f\"Çevre: {cevre}\")\n",
        "#print(\"Alan : {0}\".format(alan))\n",
        "#print(\"Çevre : {0}\".format(cevre))"
      ],
      "metadata": {
        "colab": {
          "base_uri": "https://localhost:8080/"
        },
        "id": "H8g4t5u5gka6",
        "outputId": "233648ec-a202-4fec-d788-1ace77c40167"
      },
      "execution_count": 11,
      "outputs": [
        {
          "output_type": "stream",
          "name": "stdout",
          "text": [
            "Kısa Kenar : 8\n",
            "Uzun Kenar : 15\n",
            "Alan : 120\n",
            "Çevre: 46\n"
          ]
        }
      ]
    },
    {
      "cell_type": "markdown",
      "source": [
        "Örnek 18:Girilen metnin harflerini alt alta yazdıran Python Örneği"
      ],
      "metadata": {
        "id": "6LrPxxjXnvpp"
      }
    },
    {
      "cell_type": "code",
      "source": [
        "#BENİM YAPTIĞIM\n",
        "metin=input(\"Metni Giriniz:\")\n",
        "for i in metin:\n",
        "  print(f\"{i}\")\n",
        "\n",
        "#CEVAP\n",
        "isim=input(\"Adınızı Girin \")\n",
        "sayac=0\n",
        "while sayac < len(isim):\n",
        "  print(isim[sayac])\n",
        "  sayac += 1\n",
        "else:\n",
        "   print(\"Adının harflerini listeledim.\")"
      ],
      "metadata": {
        "id": "ABo6Q-4mhBgC"
      },
      "execution_count": null,
      "outputs": []
    },
    {
      "cell_type": "markdown",
      "source": [
        "Örnek 19:Kullanıcın girdiği iki sayı arasındaki sayıların toplamını gösteren Python Örneği."
      ],
      "metadata": {
        "id": "iCYSpkxjlPQU"
      }
    },
    {
      "cell_type": "code",
      "source": [
        "toplam=0;\n",
        "sayi1=input('1. Sayı: ')\n",
        "sayi2=input('2. Sayı: ')\n",
        "for i in range(int(sayi1)+1,int(sayi2)):\n",
        "  toplam+=i\n",
        "print(\"{0} ile {1} arasındaki sayıların toplamı : {2}\".format(sayi1,sayi2,toplam))\n",
        "\n",
        "\n"
      ],
      "metadata": {
        "colab": {
          "base_uri": "https://localhost:8080/"
        },
        "id": "vWbgKZ0wiOaQ",
        "outputId": "664f5fd9-0a81-4ddd-baf2-80cf507d2255"
      },
      "execution_count": 10,
      "outputs": [
        {
          "output_type": "stream",
          "name": "stdout",
          "text": [
            "1. Sayı: 5\n",
            "2. Sayı: 9\n",
            "5 ile 9 arasındaki sayıların toplamı : 26\n"
          ]
        }
      ]
    },
    {
      "cell_type": "markdown",
      "source": [
        "Örnek 20:Kullanıcıya sinema ya da tiyatro tercihi sorulsun. Sinema izlemek için 15 TL, tiyatro için 10 TL ödenmesi gerekmedir. Öğrencilere %50 indirim yapıldığı düşünülerek öğrenci ise indirim yapılan; öğrenci değilse indirimsiz tutarı hesaplayarak ekrana yazdıran kodu yazınız."
      ],
      "metadata": {
        "id": "KgNJaBiKlS8i"
      }
    },
    {
      "cell_type": "code",
      "source": [],
      "metadata": {
        "id": "MS89ezeclWm2"
      },
      "execution_count": null,
      "outputs": []
    }
  ]
}