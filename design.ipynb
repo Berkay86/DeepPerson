{
  "nbformat": 4,
  "nbformat_minor": 0,
  "metadata": {
    "colab": {
      "provenance": [],
      "authorship_tag": "ABX9TyOLNTWVBmzHEPRIaafnyjI6",
      "include_colab_link": true
    },
    "kernelspec": {
      "name": "python3",
      "display_name": "Python 3"
    },
    "language_info": {
      "name": "python"
    }
  },
  "cells": [
    {
      "cell_type": "markdown",
      "metadata": {
        "id": "view-in-github",
        "colab_type": "text"
      },
      "source": [
        "<a href=\"https://colab.research.google.com/github/Berkay86/DeepPerson/blob/main/design.ipynb\" target=\"_parent\"><img src=\"https://colab.research.google.com/assets/colab-badge.svg\" alt=\"Open In Colab\"/></a>"
      ]
    },
    {
      "cell_type": "code",
      "execution_count": 17,
      "metadata": {
        "id": "b3nDtxAV1ZOP",
        "colab": {
          "base_uri": "https://localhost:8080/"
        },
        "outputId": "fac93606-8cc8-4fbd-8013-25f51feaeaca"
      },
      "outputs": [
        {
          "name": "stdout",
          "output_type": "stream",
          "text": [
            "Değer giriniz5\n",
            "Lütfen [1, 1] indeksindeki değeri girin: 7\n",
            "Lütfen [1, 2] indeksindeki değeri girin: 7\n",
            "Lütfen [1, 3] indeksindeki değeri girin: 15\n",
            "Lütfen [1, 4] indeksindeki değeri girin: 11\n",
            "Lütfen [1, 5] indeksindeki değeri girin: 9\n",
            "Lütfen [2, 1] indeksindeki değeri girin: 12\n",
            "Lütfen [2, 2] indeksindeki değeri girin: 17\n",
            "Lütfen [2, 3] indeksindeki değeri girin: 12\n",
            "Lütfen [2, 4] indeksindeki değeri girin: 18\n",
            "Lütfen [2, 5] indeksindeki değeri girin: 18\n",
            "Lütfen [3, 1] indeksindeki değeri girin: 14\n",
            "Lütfen [3, 2] indeksindeki değeri girin: 18\n",
            "Lütfen [3, 3] indeksindeki değeri girin: 18\n",
            "Lütfen [3, 4] indeksindeki değeri girin: 19\n",
            "Lütfen [3, 5] indeksindeki değeri girin: 19\n",
            "Lütfen [4, 1] indeksindeki değeri girin: 19\n",
            "Lütfen [4, 2] indeksindeki değeri girin: 15\n",
            "Lütfen [4, 3] indeksindeki değeri girin: 22\n",
            "Lütfen [4, 4] indeksindeki değeri girin: 19\n",
            "Lütfen [4, 5] indeksindeki değeri girin: 23\n",
            "Lütfen [5, 1] indeksindeki değeri girin: 7\n",
            "Lütfen [5, 2] indeksindeki değeri girin: 10\n",
            "Lütfen [5, 3] indeksindeki değeri girin: 11\n",
            "Lütfen [5, 4] indeksindeki değeri girin: 15\n",
            "Lütfen [5, 5] indeksindeki değeri girin: 11\n"
          ]
        }
      ],
      "source": [
        "import numpy as np\n",
        "n=int(input(\"Değer giriniz\"))\n",
        "gozlemler = np.zeros((n+1, n+1))\n",
        "for i in range(1,n+1):\n",
        "  for j in range(1,n+1):\n",
        "        gozlemler[i][j] = float(input(\"Lütfen [{}, {}] indeksindeki değeri girin: \".format(i, j)))\n",
        "\n",
        "\n"
      ]
    },
    {
      "cell_type": "code",
      "source": [
        "satir_toplamlari = np.sum(gozlemler, axis=1)\n",
        "satir_ortalamalari = np.mean(gozlemler, axis=1)\n",
        "satir_toplamlarinın_toplamı = np.sum(gozlemler, axis=0)\n"
      ],
      "metadata": {
        "colab": {
          "base_uri": "https://localhost:8080/"
        },
        "id": "NDRQaWB48H6D",
        "outputId": "03b454e8-3bc7-4758-f22f-a5cefdcee824"
      },
      "execution_count": 21,
      "outputs": [
        {
          "output_type": "stream",
          "name": "stdout",
          "text": [
            "[ 0. 49. 77. 88. 98. 54.]\n"
          ]
        }
      ]
    }
  ]
}