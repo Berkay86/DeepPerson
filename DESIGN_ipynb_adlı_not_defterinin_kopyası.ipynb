{
  "nbformat": 4,
  "nbformat_minor": 0,
  "metadata": {
    "colab": {
      "provenance": [],
      "authorship_tag": "ABX9TyNnzFhM+1VH88PlwMSYsNh0",
      "include_colab_link": true
    },
    "kernelspec": {
      "name": "python3",
      "display_name": "Python 3"
    },
    "language_info": {
      "name": "python"
    }
  },
  "cells": [
    {
      "cell_type": "markdown",
      "metadata": {
        "id": "view-in-github",
        "colab_type": "text"
      },
      "source": [
        "<a href=\"https://colab.research.google.com/github/Berkay86/DeepPerson/blob/main/DESIGN_ipynb_adl%C4%B1_not_defterinin_kopyas%C4%B1.ipynb\" target=\"_parent\"><img src=\"https://colab.research.google.com/assets/colab-badge.svg\" alt=\"Open In Colab\"/></a>"
      ]
    },
    {
      "cell_type": "code",
      "source": [
        "6\n",
        "import numpy as np\n",
        "\n",
        "n = int(input(\"Satır Sayısını  giriniz: \"))\n",
        "n1 = int(input(\"Sütun Sayısını  giriniz: \"))\n",
        "gozlemler = np.zeros((n1,n))\n",
        "\n",
        "for i in range(n1):\n",
        "    for j in range(n):\n",
        "        gozlemler[i][j] = float(input(\"Lütfen [{}, {}] indeksindeki değeri girin: \".format(i, j)))\n",
        "\n",
        "\n"
      ],
      "metadata": {
        "colab": {
          "base_uri": "https://localhost:8080/"
        },
        "id": "eGSQtcRptcJX",
        "outputId": "87b49276-2657-41c5-a8e4-53029f1ec8cc"
      },
      "execution_count": null,
      "outputs": [
        {
          "name": "stdout",
          "output_type": "stream",
          "text": [
            "Satır Sayısını  giriniz: 7\n",
            "Sütun Sayısını  giriniz: 4\n",
            "Lütfen [0, 0] indeksindeki değeri girin: 7\n",
            "Lütfen [0, 1] indeksindeki değeri girin: 10\n",
            "Lütfen [0, 2] indeksindeki değeri girin: 13\n",
            "Lütfen [0, 3] indeksindeki değeri girin: 11\n",
            "Lütfen [0, 4] indeksindeki değeri girin: 6\n",
            "Lütfen [0, 5] indeksindeki değeri girin: 13\n",
            "Lütfen [0, 6] indeksindeki değeri girin: 0\n",
            "Lütfen [1, 0] indeksindeki değeri girin: 17\n",
            "Lütfen [1, 1] indeksindeki değeri girin: 9\n",
            "Lütfen [1, 2] indeksindeki değeri girin: 16\n",
            "Lütfen [1, 3] indeksindeki değeri girin: 0\n",
            "Lütfen [1, 4] indeksindeki değeri girin: 0\n",
            "Lütfen [1, 5] indeksindeki değeri girin: 0\n",
            "Lütfen [1, 6] indeksindeki değeri girin: 0\n",
            "Lütfen [2, 0] indeksindeki değeri girin: 6\n",
            "Lütfen [2, 1] indeksindeki değeri girin: 12\n",
            "Lütfen [2, 2] indeksindeki değeri girin: 7\n",
            "Lütfen [2, 3] indeksindeki değeri girin: 11\n",
            "Lütfen [2, 4] indeksindeki değeri girin: 0\n",
            "Lütfen [2, 5] indeksindeki değeri girin: 0\n",
            "Lütfen [2, 6] indeksindeki değeri girin: 0\n",
            "Lütfen [3, 0] indeksindeki değeri girin: 13\n",
            "Lütfen [3, 1] indeksindeki değeri girin: 21\n",
            "Lütfen [3, 2] indeksindeki değeri girin: 12\n",
            "Lütfen [3, 3] indeksindeki değeri girin: 20\n",
            "Lütfen [3, 4] indeksindeki değeri girin: 17\n",
            "Lütfen [3, 5] indeksindeki değeri girin: 10\n",
            "Lütfen [3, 6] indeksindeki değeri girin: 19\n"
          ]
        }
      ]
    },
    {
      "cell_type": "code",
      "source": [
        "import scipy.stats as stats\n",
        "satirlar = []\n",
        "satirlar_toplami = []\n",
        "for row in gozlemler:\n",
        "    row_sum = 0\n",
        "    row_count = 0\n",
        "    for element in row:\n",
        "        if element != 0:\n",
        "            row_sum += element\n",
        "            row_count += 1\n",
        "    if row_count != 0:\n",
        "        row_mean = row_sum / row_count\n",
        "        satirlar.append(row_mean)\n",
        "        satirlar_toplami.append(row_sum)\n",
        "\n",
        "satirlar_ortalamasi = satirlar\n",
        "satirlar_toplami_top = np.sum(satirlar_toplami)\n",
        "\n",
        "print(\"Sütunların toplamı: \", satirlar_toplami)\n",
        "print(\"Sütunların ortalamasının ortalaması: \", satirlar_ortalamasi)\n",
        "print(\"Sütunların ortalamasının ortalaması: \", satirlar_toplami_top/ len(gozlemler) * len(gozlemler[0]))\n",
        "print(\"Sütunların toplamının toplamı: \", satirlar_toplami_top )\n",
        "karelerin_toplamı=np.sum(np.square(gozlemler))\n",
        "print(\"Her değerin karelerinin toplamı\",karelerin_toplamı)\n",
        "a = [np.square(satirlar_toplami)]\n",
        "a1 = [np.count_nonzero(gozlemler[j, :]) for j in range(n1)]\n",
        "results1=[]\n",
        "for i in range(len(a)):\n",
        "  col_results = []\n",
        "for j in range(n1):\n",
        "  if a1[j] != 0:\n",
        "    col_results.append(a[i][j] / a1[j])\n",
        "results1.append(col_results)\n",
        "print(\"Karelerin eleman sayısına bölünüp toplanması: \",np.sum(results1))\n",
        "n=np.sum(a1)\n",
        "SSW=karelerin_toplamı-np.sum(results1)\n",
        "SSB=np.sum(results1)-np.square(satirlar_toplami_top)/n\n",
        "SST=karelerin_toplamı-np.square(satirlar_toplami_top)/n\n",
        "dfb=n1-1\n",
        "dfw=n-n1\n",
        "dftotal=n-1\n",
        "MSB=SSB/dfb\n",
        "MSW=SSW/dfw\n",
        "F=MSB/MSW\n",
        "f_value = stats.f.ppf(q=1-0.05, dfn=dfb, dfd=dfw)\n",
        "import pandas as pd\n",
        "results = {\n",
        "    \"Kaynaklar\": [\"GruplarArası\", \"Gruplaİçi\", \"Toplam\"],\n",
        "    \"df\": [ dfb, dfw, dftotal],\n",
        "    \"SS\": [ SSB, SSW, SST],\n",
        "    \"MS\": [ MSB, MSW, None],\n",
        "    \"F\": [ F, None, None],\n",
        "\n",
        "}\n",
        "\n",
        "# Sonuçları bir veri çerçevesine dönüştürme\n",
        "anova_table = pd.DataFrame(results)\n",
        "anova_table.set_index(\"Kaynaklar\", inplace=True)\n",
        "print(anova_table)\n",
        "if F>f_value:\n",
        "  print(\"Ho reject\")\n",
        "else:\n",
        "  print(\"Ho is not reject\")"
      ],
      "metadata": {
        "colab": {
          "base_uri": "https://localhost:8080/"
        },
        "id": "WNnYVLb85_X0",
        "outputId": "b4479cb3-b3d1-4cc8-a2e7-e97cf9e955bb"
      },
      "execution_count": null,
      "outputs": [
        {
          "output_type": "stream",
          "name": "stdout",
          "text": [
            "Sütunların toplamı:  [60.0, 42.0, 36.0, 112.0]\n",
            "Sütunların ortalamasının ortalaması:  [10.0, 14.0, 9.0, 16.0]\n",
            "Sütunların ortalamasının ortalaması:  437.5\n",
            "Sütunların toplamının toplamı:  250.0\n",
            "Her değerin karelerinin toplamı 3524.0\n",
            "Karelerin eleman sayısına bölünüp toplanması:  3304.0\n",
            "              df     SS         MS         F\n",
            "Kaynaklar                                   \n",
            "GruplarArası   3  179.0  59.666667  4.339394\n",
            "Gruplaİçi     16  220.0  13.750000       NaN\n",
            "Toplam        19  399.0        NaN       NaN\n",
            "Ho reject\n"
          ]
        }
      ]
    },
    {
      "cell_type": "code",
      "source": [
        "import numpy as np\n",
        "n=int(input(\"Değer giriniz\"))\n",
        "m=[]\n",
        "gozlemler = np.zeros((n, n))\n",
        "for i in range(n):\n",
        "  for j in range(n):\n",
        "        gozlemler[i][j] = float(input(\"Lütfen [{}, {}] indeksindeki değeri girin: \".format(i, j)))\n",
        "\n",
        "\n"
      ],
      "metadata": {
        "colab": {
          "base_uri": "https://localhost:8080/"
        },
        "id": "HIAbF-b_KTOW",
        "outputId": "fcb21687-0e61-40b8-df94-8abc85d93536"
      },
      "execution_count": null,
      "outputs": [
        {
          "name": "stdout",
          "output_type": "stream",
          "text": [
            "Değer giriniz5\n",
            "Lütfen [0, 0] indeksindeki değeri girin: 7\n",
            "Lütfen [0, 1] indeksindeki değeri girin: 7\n",
            "Lütfen [0, 2] indeksindeki değeri girin: 15\n",
            "Lütfen [0, 3] indeksindeki değeri girin: 11\n",
            "Lütfen [0, 4] indeksindeki değeri girin: 9\n",
            "Lütfen [1, 0] indeksindeki değeri girin: 12\n",
            "Lütfen [1, 1] indeksindeki değeri girin: 17\n",
            "Lütfen [1, 2] indeksindeki değeri girin: 12\n",
            "Lütfen [1, 3] indeksindeki değeri girin: 18\n",
            "Lütfen [1, 4] indeksindeki değeri girin: 18\n",
            "Lütfen [2, 0] indeksindeki değeri girin: 14\n",
            "Lütfen [2, 1] indeksindeki değeri girin: 18\n",
            "Lütfen [2, 2] indeksindeki değeri girin: 18\n",
            "Lütfen [2, 3] indeksindeki değeri girin: 19\n",
            "Lütfen [2, 4] indeksindeki değeri girin: 19\n",
            "Lütfen [3, 0] indeksindeki değeri girin: 19\n",
            "Lütfen [3, 1] indeksindeki değeri girin: 25\n",
            "Lütfen [3, 2] indeksindeki değeri girin: 22\n",
            "Lütfen [3, 3] indeksindeki değeri girin: 19\n",
            "Lütfen [3, 4] indeksindeki değeri girin: 23\n",
            "Lütfen [4, 0] indeksindeki değeri girin: 7\n",
            "Lütfen [4, 1] indeksindeki değeri girin: 10\n",
            "Lütfen [4, 2] indeksindeki değeri girin: 11\n",
            "Lütfen [4, 3] indeksindeki değeri girin: 15\n",
            "Lütfen [4, 4] indeksindeki değeri girin: 11\n"
          ]
        }
      ]
    },
    {
      "cell_type": "code",
      "source": [
        "satir_toplamlari = np.sum(gozlemler, axis=1)\n",
        "satir_ortalamalari = np.mean(gozlemler, axis=1)\n",
        "satir_toplamlarinın_toplami = np.sum(np.sum(gozlemler, axis=0))\n",
        "satir_ortalamalari_ortalamasi = np.mean(satir_ortalamalari, axis=0)\n",
        "\n"
      ],
      "metadata": {
        "id": "NDRQaWB48H6D"
      },
      "execution_count": null,
      "outputs": []
    },
    {
      "cell_type": "code",
      "source": [
        "satir_toplamlari = np.sum(gozlemler, axis=1)\n",
        "satir_ortalamalari = np.mean(gozlemler, axis=1)\n",
        "satir_toplamlarinın_toplami = np.sum(np.sum(gozlemler, axis=0))\n",
        "satir_ortalamalari_ortalamasi = np.mean(satir_ortalamalari, axis=0)\n",
        "import scipy.stats as stats\n",
        "SST=np.sum(np.square(gozlemler))-(satir_toplamlarinın_toplami**2)/(n**2)\n",
        "SSB=np.sum(np.square(satir_toplamlari)/n)-(satir_toplamlarinın_toplami**2)/(n**2)\n",
        "SSW=SST-SSB\n",
        "elemansayisi= len(gozlemler) * len(gozlemler[0])\n",
        "dfb=n-1\n",
        "dfw=elemansayisi-n\n",
        "dftotal=elemansayisi-1\n",
        "MSB=SSB/dfb\n",
        "MSW=SSW/dfw\n",
        "F=MSB/MSW\n",
        "f_value = stats.f.ppf(q=1-0.05, dfn=dfb, dfd=dfw)\n",
        "import pandas as pd\n",
        "results = {\n",
        "    \"Kaynaklar\": [\"GruplarArası\", \"Gruplaİçi\", \"Toplam\"],\n",
        "    \"df\": [ dfb, dfw, dftotal],\n",
        "    \"SS\": [ SSB, SSW, SST],\n",
        "    \"MS\": [ MSB, MSW, None],\n",
        "    \"F\": [ F, None, None],\n",
        "\n",
        "}\n",
        "\n",
        "# Sonuçları bir veri çerçevesine dönüştürme\n",
        "anova_table = pd.DataFrame(results)\n",
        "anova_table.set_index(\"Kaynaklar\", inplace=True)\n",
        "print(anova_table)\n",
        "if F>f_value:\n",
        "  print(\"Ho reject\")\n",
        "else:\n",
        "  print(\"Ho is not reject\")"
      ],
      "metadata": {
        "colab": {
          "base_uri": "https://localhost:8080/"
        },
        "outputId": "f0f8335e-b05d-4506-e7f2-c001a03e0523",
        "id": "uSMexDMxPDuV"
      },
      "execution_count": null,
      "outputs": [
        {
          "output_type": "stream",
          "name": "stdout",
          "text": [
            "              df      SS      MS          F\n",
            "Kaynaklar                                  \n",
            "GruplarArası   4  475.76  118.94  14.756824\n",
            "Gruplaİçi     20  161.20    8.06        NaN\n",
            "Toplam        24  636.96     NaN        NaN\n",
            "Ho reject\n"
          ]
        }
      ]
    },
    {
      "cell_type": "code",
      "source": [
        "#Benferroni Tests\n",
        "from math import comb \n",
        "from math import sqrt\n",
        "Pozitif=[]\n",
        "differ=[]\n",
        "Negatif=[]\n",
        "k=comb(5,2)\n",
        "alfa=float(input(\"Alfa Değerini Giriniz: \"))\n",
        "alfat=alfa/k\n",
        "# Hesaplanan t-tablo değeri\n",
        "confidence_level = 1-alfat/2 # %95 güven düzeyi\n",
        "df = elemansayisi - n\n",
        "t_table = stats.t.ppf(confidence_level, df)\n",
        "for i in range(len(satir_ortalamalari)-1):\n",
        "  for x in range(1,len(satir_ortalamalari)-i):\n",
        "    differ.append(abs(satir_ortalamalari[i]-satir_ortalamalari[i+x]))\n",
        "    Pozitif.append((satir_ortalamalari[i]-satir_ortalamalari[i+x])+t_table*sqrt(MSW*2/n))\n",
        "    Negatif.append((satir_ortalamalari[i]-satir_ortalamalari[i+x])-t_table*sqrt(MSW*2/n))"
      ],
      "metadata": {
        "colab": {
          "base_uri": "https://localhost:8080/"
        },
        "id": "XMP4xMkbYbMr",
        "outputId": "d051255d-f2be-468a-cbad-9a4fd0113ee4"
      },
      "execution_count": null,
      "outputs": [
        {
          "name": "stdout",
          "output_type": "stream",
          "text": [
            "Alfa Değerini Giriniz: 0.05\n"
          ]
        }
      ]
    },
    {
      "cell_type": "code",
      "source": [
        "for p in range(len(Pozitif)):\n",
        "    if Pozitif[p] > 0 and Negatif[p] < 0:\n",
        "        print(\"Ho hipotezi reddedilemedi: Negatif[\", p, \"] ile Pozitif[\", p, \"] arasında 0 var.\")\n",
        "    else:\n",
        "      print(\"Ho hipotezi reddedildi: Negatif[\", p, \"] ile Pozitif[\", p, \"] arasında 0 yok.\")\n",
        "\n",
        "\n"
      ],
      "metadata": {
        "colab": {
          "base_uri": "https://localhost:8080/"
        },
        "id": "wDujXrZJbssm",
        "outputId": "3dbbb656-5b80-42cf-b24c-9ac19b02ba78"
      },
      "execution_count": null,
      "outputs": [
        {
          "output_type": "stream",
          "name": "stdout",
          "text": [
            "Ho hipotezi reddedilemedi: Negatif[ 0 ] ile Pozitif[ 0 ] arasında 0 var.\n",
            "Ho hipotezi reddedildi: Negatif[ 1 ] ile Pozitif[ 1 ] arasında 0 yok.\n",
            "Ho hipotezi reddedildi: Negatif[ 2 ] ile Pozitif[ 2 ] arasında 0 yok.\n",
            "Ho hipotezi reddedilemedi: Negatif[ 3 ] ile Pozitif[ 3 ] arasında 0 var.\n",
            "Ho hipotezi reddedilemedi: Negatif[ 4 ] ile Pozitif[ 4 ] arasında 0 var.\n",
            "Ho hipotezi reddedildi: Negatif[ 5 ] ile Pozitif[ 5 ] arasında 0 yok.\n",
            "Ho hipotezi reddedilemedi: Negatif[ 6 ] ile Pozitif[ 6 ] arasında 0 var.\n",
            "Ho hipotezi reddedilemedi: Negatif[ 7 ] ile Pozitif[ 7 ] arasında 0 var.\n",
            "Ho hipotezi reddedildi: Negatif[ 8 ] ile Pozitif[ 8 ] arasında 0 yok.\n",
            "Ho hipotezi reddedildi: Negatif[ 9 ] ile Pozitif[ 9 ] arasında 0 yok.\n"
          ]
        }
      ]
    },
    {
      "cell_type": "code",
      "source": [
        "#fisher Protected Least Significant Difference Approach\n",
        "confidence_level1 = 1-alfa/2\n",
        "df = elemansayisi - n\n",
        "t_table1 = stats.t.ppf(confidence_level1, df)\n",
        "\n",
        "LSD=t_table1*sqrt(MSW*(2/n))\n",
        "for i in range(len(satir_ortalamalari)-1):\n",
        "  for x in range(1,len(satir_ortalamalari)-i):\n",
        "    if abs(satir_ortalamalari[i]-satir_ortalamalari[i+x])>LSD:\n",
        "        print(f\"Ho:mu{i}=mu{i+x} Reject Ho\")\n",
        "    else:\n",
        "        print(f\"Ho:mu{i}=mu{i+x} cannot Reject Ho\")\n",
        "     "
      ],
      "metadata": {
        "id": "gCKGwmr-rQqe",
        "outputId": "fbc9b926-5c4d-48f5-d61d-dcc42ebc7b78",
        "colab": {
          "base_uri": "https://localhost:8080/"
        }
      },
      "execution_count": null,
      "outputs": [
        {
          "output_type": "stream",
          "name": "stdout",
          "text": [
            "Ho:mu0=mu1 Reject Ho\n",
            "Ho:mu0=mu2 Reject Ho\n",
            "Ho:mu0=mu3 Reject Ho\n",
            "Ho:mu0=mu4 cannot Reject Ho\n",
            "Ho:mu1=mu2 cannot Reject Ho\n",
            "Ho:mu1=mu3 Reject Ho\n",
            "Ho:mu1=mu4 Reject Ho\n",
            "Ho:mu2=mu3 Reject Ho\n",
            "Ho:mu2=mu4 Reject Ho\n",
            "Ho:mu3=mu4 Reject Ho\n"
          ]
        }
      ]
    },
    {
      "cell_type": "code",
      "source": [],
      "metadata": {
        "id": "My5rEgT-u75P"
      },
      "execution_count": null,
      "outputs": []
    }
  ]
}