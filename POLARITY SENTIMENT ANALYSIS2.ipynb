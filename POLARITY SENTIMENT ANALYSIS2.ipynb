{
  "nbformat": 4,
  "nbformat_minor": 0,
  "metadata": {
    "colab": {
      "provenance": [],
      "authorship_tag": "ABX9TyMYuy5tZ6E+OAZ19kF6HYKJ",
      "include_colab_link": true
    },
    "kernelspec": {
      "name": "python3",
      "display_name": "Python 3"
    },
    "language_info": {
      "name": "python"
    }
  },
  "cells": [
    {
      "cell_type": "markdown",
      "metadata": {
        "id": "view-in-github",
        "colab_type": "text"
      },
      "source": [
        "<a href=\"https://colab.research.google.com/github/Berkay86/DeepPerson/blob/main/POLARITY%20SENTIMENT%20ANALYSIS2.ipynb\" target=\"_parent\"><img src=\"https://colab.research.google.com/assets/colab-badge.svg\" alt=\"Open In Colab\"/></a>"
      ]
    },
    {
      "cell_type": "code",
      "execution_count": 1,
      "metadata": {
        "colab": {
          "base_uri": "https://localhost:8080/"
        },
        "id": "7N8FXmCeDpDr",
        "outputId": "ad1008dc-bbd6-4180-943e-5cdc9d0eadda"
      },
      "outputs": [
        {
          "output_type": "stream",
          "name": "stdout",
          "text": [
            "Looking in indexes: https://pypi.org/simple, https://us-python.pkg.dev/colab-wheels/public/simple/\n",
            "Collecting snscrape\n",
            "  Downloading snscrape-0.4.3.20220106-py3-none-any.whl (59 kB)\n",
            "\u001b[K     |████████████████████████████████| 59 kB 4.0 MB/s \n",
            "\u001b[?25hRequirement already satisfied: pytz in /usr/local/lib/python3.8/dist-packages (from snscrape) (2022.6)\n",
            "Requirement already satisfied: filelock in /usr/local/lib/python3.8/dist-packages (from snscrape) (3.8.2)\n",
            "Requirement already satisfied: requests[socks] in /usr/local/lib/python3.8/dist-packages (from snscrape) (2.23.0)\n",
            "Requirement already satisfied: lxml in /usr/local/lib/python3.8/dist-packages (from snscrape) (4.9.2)\n",
            "Requirement already satisfied: beautifulsoup4 in /usr/local/lib/python3.8/dist-packages (from snscrape) (4.6.3)\n",
            "Requirement already satisfied: idna<3,>=2.5 in /usr/local/lib/python3.8/dist-packages (from requests[socks]->snscrape) (2.10)\n",
            "Requirement already satisfied: urllib3!=1.25.0,!=1.25.1,<1.26,>=1.21.1 in /usr/local/lib/python3.8/dist-packages (from requests[socks]->snscrape) (1.24.3)\n",
            "Requirement already satisfied: chardet<4,>=3.0.2 in /usr/local/lib/python3.8/dist-packages (from requests[socks]->snscrape) (3.0.4)\n",
            "Requirement already satisfied: certifi>=2017.4.17 in /usr/local/lib/python3.8/dist-packages (from requests[socks]->snscrape) (2022.12.7)\n",
            "Requirement already satisfied: PySocks!=1.5.7,>=1.5.6 in /usr/local/lib/python3.8/dist-packages (from requests[socks]->snscrape) (1.7.1)\n",
            "Installing collected packages: snscrape\n",
            "Successfully installed snscrape-0.4.3.20220106\n"
          ]
        }
      ],
      "source": [
        "#Kütüphanelerimizi içeriye alalım.\n",
        "#Veri İşlemleri\n",
        "!pip3 install snscrape\n",
        "import pandas as pd\n",
        "import snscrape.modules.twitter as sntwitter\n",
        "import numpy as np\n",
        "import matplotlib.pyplot as plt\n",
        "import seaborn as sns"
      ]
    },
    {
      "cell_type": "code",
      "source": [
        "import nltk\n",
        "from nltk.corpus import stopwords\n",
        "from nltk.tokenize import word_tokenize\n",
        "from nltk.stem import WordNetLemmatizer\n",
        "from nltk.stem.porter import PorterStemmer\n",
        "import string\n"
      ],
      "metadata": {
        "id": "0m79ODq4NUPj"
      },
      "execution_count": 2,
      "outputs": []
    },
    {
      "cell_type": "code",
      "source": [
        "import re \n",
        "import textblob\n",
        "from textblob import TextBlob"
      ],
      "metadata": {
        "id": "zjABAlSIN_qI"
      },
      "execution_count": 3,
      "outputs": []
    },
    {
      "cell_type": "code",
      "source": [
        "from wordcloud.wordcloud import WordCloud,STOPWORDS\n",
        "!pip install emot\n",
        "from emot.emo_unicode import UNICODE_EMOJI\n",
        "lemmatizer=WordNetLemmatizer()\n",
        "from wordcloud import ImageColorGenerator\n",
        "from PIL import Image\n",
        "import warnings\n",
        "%matplotlib"
      ],
      "metadata": {
        "colab": {
          "base_uri": "https://localhost:8080/"
        },
        "id": "mrmuKD-gOATK",
        "outputId": "98b600ee-2ee2-4337-d051-77f7e32bc0ff"
      },
      "execution_count": 4,
      "outputs": [
        {
          "output_type": "stream",
          "name": "stdout",
          "text": [
            "Looking in indexes: https://pypi.org/simple, https://us-python.pkg.dev/colab-wheels/public/simple/\n",
            "Collecting emot\n",
            "  Downloading emot-3.1-py3-none-any.whl (61 kB)\n",
            "\u001b[K     |████████████████████████████████| 61 kB 19 kB/s \n",
            "\u001b[?25hInstalling collected packages: emot\n",
            "Successfully installed emot-3.1\n",
            "Using matplotlib backend: agg\n"
          ]
        }
      ]
    },
    {
      "cell_type": "code",
      "source": [
        "query=\"(worldcup)\"\n",
        "tweets=[]\n",
        "for i,tweet in enumerate(sntwitter.TwitterSearchScraper(query).get_items()):\n",
        "  if i>20000:\n",
        "    break\n",
        "  else:\n",
        "        tweets.append([tweet.date,tweet.id,tweet.url,tweet.user.username,tweet.sourceLabel,tweet.user.location,tweet.content,tweet.likeCount,tweet.retweetCount])\n",
        "df=pd.DataFrame(tweets,columns=[\"Date\",\"ID\",\"url\",\"username\",\"source\",\"location\",\"tweet\",\"num_of_likes\", \"num_of_retweet\"])\n",
        "df.to_csv(\"sentiment.csv\",encoding='utf-8')\n",
        "df"
      ],
      "metadata": {
        "colab": {
          "base_uri": "https://localhost:8080/",
          "height": 424
        },
        "id": "7dn74Wr_Prdj",
        "outputId": "b6b6109f-90a3-44c7-f185-07ee6db5cbb8"
      },
      "execution_count": 5,
      "outputs": [
        {
          "output_type": "execute_result",
          "data": {
            "text/plain": [
              "                           Date                   ID  \\\n",
              "0     2022-12-20 20:33:11+00:00  1605300301011030017   \n",
              "1     2022-12-20 20:33:11+00:00  1605300299270197248   \n",
              "2     2022-12-20 20:33:10+00:00  1605300296636190720   \n",
              "3     2022-12-20 20:33:10+00:00  1605300295437029376   \n",
              "4     2022-12-20 20:33:10+00:00  1605300295424409600   \n",
              "...                         ...                  ...   \n",
              "19996 2022-12-20 16:31:14+00:00  1605239410928369665   \n",
              "19997 2022-12-20 16:31:13+00:00  1605239407665360897   \n",
              "19998 2022-12-20 16:31:12+00:00  1605239405681479680   \n",
              "19999 2022-12-20 16:31:12+00:00  1605239404351692806   \n",
              "20000 2022-12-20 16:31:09+00:00  1605239392959963137   \n",
              "\n",
              "                                                     url         username  \\\n",
              "0      https://twitter.com/Angelotralala/status/16053...    Angelotralala   \n",
              "1      https://twitter.com/Yemmie_/status/16053002992...          Yemmie_   \n",
              "2      https://twitter.com/danieltyree/status/1605300...      danieltyree   \n",
              "3      https://twitter.com/fIowerly/status/1605300295...         fIowerly   \n",
              "4      https://twitter.com/uw4ht/status/1605300295424...            uw4ht   \n",
              "...                                                  ...              ...   \n",
              "19996  https://twitter.com/lucianoamorim94/status/160...  lucianoamorim94   \n",
              "19997  https://twitter.com/jjkbless/status/1605239407...         jjkbless   \n",
              "19998  https://twitter.com/db1anco/status/16052394056...          db1anco   \n",
              "19999  https://twitter.com/lucianoamorim94/status/160...  lucianoamorim94   \n",
              "20000  https://twitter.com/itsrohitchouhan/status/160...  itsrohitchouhan   \n",
              "\n",
              "                    source                        location  \\\n",
              "0          Twitter Web App                                   \n",
              "1       Twitter for iPhone      Where the  money resides 💰   \n",
              "2          Twitter Web App                  Sacramento, CA   \n",
              "3      Twitter for Android                  sara sheher 20   \n",
              "4      Twitter for Android                                   \n",
              "...                    ...                             ...   \n",
              "19996      Twitter Web App  Litoral Paraibuco (PB/PE), BRA   \n",
              "19997  Twitter for Android                  she/her 23 ︎✹☽   \n",
              "19998  Twitter for Android                    In the North   \n",
              "19999      Twitter Web App  Litoral Paraibuco (PB/PE), BRA   \n",
              "20000     rohitchouhan.com                    Ajmer, India   \n",
              "\n",
              "                                                   tweet  num_of_likes  \\\n",
              "0      @_OmarAg @AsfandY32733432 @FrankKhalidUK Argen...             0   \n",
              "1      Ronaldo and Piers didn’t think the timing of t...             0   \n",
              "2      @tariqpanja Hate to see it. He had an incredib...             0   \n",
              "3      MY MAN is celebrating a world cup. yours is po...             0   \n",
              "4      @EveeLaurynn Women are not the end result in t...             0   \n",
              "...                                                  ...           ...   \n",
              "19996  #my365songs 2022 :: 11 DEC \\n#345 :: #FIFAWorl...             0   \n",
              "19997  @fifaworldcup_fr THANK YOU JUNGKOOK FOR GIVING...             7   \n",
              "19998  Messi winning the World Cup doesn't makes him ...             0   \n",
              "19999  #my365songs 2022 :: 10 DEC \\n#344 :: #FIFAWorl...             0   \n",
              "20000  Are Qatar’s World Cup Stadiums the Future of S...             0   \n",
              "\n",
              "       num_of_retweet  \n",
              "0                   0  \n",
              "1                   0  \n",
              "2                   0  \n",
              "3                   0  \n",
              "4                   0  \n",
              "...               ...  \n",
              "19996               0  \n",
              "19997               2  \n",
              "19998               0  \n",
              "19999               0  \n",
              "20000               0  \n",
              "\n",
              "[20001 rows x 9 columns]"
            ],
            "text/html": [
              "\n",
              "  <div id=\"df-35c6a59d-132c-4b98-9a4c-651bb6077f1a\">\n",
              "    <div class=\"colab-df-container\">\n",
              "      <div>\n",
              "<style scoped>\n",
              "    .dataframe tbody tr th:only-of-type {\n",
              "        vertical-align: middle;\n",
              "    }\n",
              "\n",
              "    .dataframe tbody tr th {\n",
              "        vertical-align: top;\n",
              "    }\n",
              "\n",
              "    .dataframe thead th {\n",
              "        text-align: right;\n",
              "    }\n",
              "</style>\n",
              "<table border=\"1\" class=\"dataframe\">\n",
              "  <thead>\n",
              "    <tr style=\"text-align: right;\">\n",
              "      <th></th>\n",
              "      <th>Date</th>\n",
              "      <th>ID</th>\n",
              "      <th>url</th>\n",
              "      <th>username</th>\n",
              "      <th>source</th>\n",
              "      <th>location</th>\n",
              "      <th>tweet</th>\n",
              "      <th>num_of_likes</th>\n",
              "      <th>num_of_retweet</th>\n",
              "    </tr>\n",
              "  </thead>\n",
              "  <tbody>\n",
              "    <tr>\n",
              "      <th>0</th>\n",
              "      <td>2022-12-20 20:33:11+00:00</td>\n",
              "      <td>1605300301011030017</td>\n",
              "      <td>https://twitter.com/Angelotralala/status/16053...</td>\n",
              "      <td>Angelotralala</td>\n",
              "      <td>Twitter Web App</td>\n",
              "      <td></td>\n",
              "      <td>@_OmarAg @AsfandY32733432 @FrankKhalidUK Argen...</td>\n",
              "      <td>0</td>\n",
              "      <td>0</td>\n",
              "    </tr>\n",
              "    <tr>\n",
              "      <th>1</th>\n",
              "      <td>2022-12-20 20:33:11+00:00</td>\n",
              "      <td>1605300299270197248</td>\n",
              "      <td>https://twitter.com/Yemmie_/status/16053002992...</td>\n",
              "      <td>Yemmie_</td>\n",
              "      <td>Twitter for iPhone</td>\n",
              "      <td>Where the  money resides 💰</td>\n",
              "      <td>Ronaldo and Piers didn’t think the timing of t...</td>\n",
              "      <td>0</td>\n",
              "      <td>0</td>\n",
              "    </tr>\n",
              "    <tr>\n",
              "      <th>2</th>\n",
              "      <td>2022-12-20 20:33:10+00:00</td>\n",
              "      <td>1605300296636190720</td>\n",
              "      <td>https://twitter.com/danieltyree/status/1605300...</td>\n",
              "      <td>danieltyree</td>\n",
              "      <td>Twitter Web App</td>\n",
              "      <td>Sacramento, CA</td>\n",
              "      <td>@tariqpanja Hate to see it. He had an incredib...</td>\n",
              "      <td>0</td>\n",
              "      <td>0</td>\n",
              "    </tr>\n",
              "    <tr>\n",
              "      <th>3</th>\n",
              "      <td>2022-12-20 20:33:10+00:00</td>\n",
              "      <td>1605300295437029376</td>\n",
              "      <td>https://twitter.com/fIowerly/status/1605300295...</td>\n",
              "      <td>fIowerly</td>\n",
              "      <td>Twitter for Android</td>\n",
              "      <td>sara sheher 20</td>\n",
              "      <td>MY MAN is celebrating a world cup. yours is po...</td>\n",
              "      <td>0</td>\n",
              "      <td>0</td>\n",
              "    </tr>\n",
              "    <tr>\n",
              "      <th>4</th>\n",
              "      <td>2022-12-20 20:33:10+00:00</td>\n",
              "      <td>1605300295424409600</td>\n",
              "      <td>https://twitter.com/uw4ht/status/1605300295424...</td>\n",
              "      <td>uw4ht</td>\n",
              "      <td>Twitter for Android</td>\n",
              "      <td></td>\n",
              "      <td>@EveeLaurynn Women are not the end result in t...</td>\n",
              "      <td>0</td>\n",
              "      <td>0</td>\n",
              "    </tr>\n",
              "    <tr>\n",
              "      <th>...</th>\n",
              "      <td>...</td>\n",
              "      <td>...</td>\n",
              "      <td>...</td>\n",
              "      <td>...</td>\n",
              "      <td>...</td>\n",
              "      <td>...</td>\n",
              "      <td>...</td>\n",
              "      <td>...</td>\n",
              "      <td>...</td>\n",
              "    </tr>\n",
              "    <tr>\n",
              "      <th>19996</th>\n",
              "      <td>2022-12-20 16:31:14+00:00</td>\n",
              "      <td>1605239410928369665</td>\n",
              "      <td>https://twitter.com/lucianoamorim94/status/160...</td>\n",
              "      <td>lucianoamorim94</td>\n",
              "      <td>Twitter Web App</td>\n",
              "      <td>Litoral Paraibuco (PB/PE), BRA</td>\n",
              "      <td>#my365songs 2022 :: 11 DEC \\n#345 :: #FIFAWorl...</td>\n",
              "      <td>0</td>\n",
              "      <td>0</td>\n",
              "    </tr>\n",
              "    <tr>\n",
              "      <th>19997</th>\n",
              "      <td>2022-12-20 16:31:13+00:00</td>\n",
              "      <td>1605239407665360897</td>\n",
              "      <td>https://twitter.com/jjkbless/status/1605239407...</td>\n",
              "      <td>jjkbless</td>\n",
              "      <td>Twitter for Android</td>\n",
              "      <td>she/her 23 ︎✹☽</td>\n",
              "      <td>@fifaworldcup_fr THANK YOU JUNGKOOK FOR GIVING...</td>\n",
              "      <td>7</td>\n",
              "      <td>2</td>\n",
              "    </tr>\n",
              "    <tr>\n",
              "      <th>19998</th>\n",
              "      <td>2022-12-20 16:31:12+00:00</td>\n",
              "      <td>1605239405681479680</td>\n",
              "      <td>https://twitter.com/db1anco/status/16052394056...</td>\n",
              "      <td>db1anco</td>\n",
              "      <td>Twitter for Android</td>\n",
              "      <td>In the North</td>\n",
              "      <td>Messi winning the World Cup doesn't makes him ...</td>\n",
              "      <td>0</td>\n",
              "      <td>0</td>\n",
              "    </tr>\n",
              "    <tr>\n",
              "      <th>19999</th>\n",
              "      <td>2022-12-20 16:31:12+00:00</td>\n",
              "      <td>1605239404351692806</td>\n",
              "      <td>https://twitter.com/lucianoamorim94/status/160...</td>\n",
              "      <td>lucianoamorim94</td>\n",
              "      <td>Twitter Web App</td>\n",
              "      <td>Litoral Paraibuco (PB/PE), BRA</td>\n",
              "      <td>#my365songs 2022 :: 10 DEC \\n#344 :: #FIFAWorl...</td>\n",
              "      <td>0</td>\n",
              "      <td>0</td>\n",
              "    </tr>\n",
              "    <tr>\n",
              "      <th>20000</th>\n",
              "      <td>2022-12-20 16:31:09+00:00</td>\n",
              "      <td>1605239392959963137</td>\n",
              "      <td>https://twitter.com/itsrohitchouhan/status/160...</td>\n",
              "      <td>itsrohitchouhan</td>\n",
              "      <td>rohitchouhan.com</td>\n",
              "      <td>Ajmer, India</td>\n",
              "      <td>Are Qatar’s World Cup Stadiums the Future of S...</td>\n",
              "      <td>0</td>\n",
              "      <td>0</td>\n",
              "    </tr>\n",
              "  </tbody>\n",
              "</table>\n",
              "<p>20001 rows × 9 columns</p>\n",
              "</div>\n",
              "      <button class=\"colab-df-convert\" onclick=\"convertToInteractive('df-35c6a59d-132c-4b98-9a4c-651bb6077f1a')\"\n",
              "              title=\"Convert this dataframe to an interactive table.\"\n",
              "              style=\"display:none;\">\n",
              "        \n",
              "  <svg xmlns=\"http://www.w3.org/2000/svg\" height=\"24px\"viewBox=\"0 0 24 24\"\n",
              "       width=\"24px\">\n",
              "    <path d=\"M0 0h24v24H0V0z\" fill=\"none\"/>\n",
              "    <path d=\"M18.56 5.44l.94 2.06.94-2.06 2.06-.94-2.06-.94-.94-2.06-.94 2.06-2.06.94zm-11 1L8.5 8.5l.94-2.06 2.06-.94-2.06-.94L8.5 2.5l-.94 2.06-2.06.94zm10 10l.94 2.06.94-2.06 2.06-.94-2.06-.94-.94-2.06-.94 2.06-2.06.94z\"/><path d=\"M17.41 7.96l-1.37-1.37c-.4-.4-.92-.59-1.43-.59-.52 0-1.04.2-1.43.59L10.3 9.45l-7.72 7.72c-.78.78-.78 2.05 0 2.83L4 21.41c.39.39.9.59 1.41.59.51 0 1.02-.2 1.41-.59l7.78-7.78 2.81-2.81c.8-.78.8-2.07 0-2.86zM5.41 20L4 18.59l7.72-7.72 1.47 1.35L5.41 20z\"/>\n",
              "  </svg>\n",
              "      </button>\n",
              "      \n",
              "  <style>\n",
              "    .colab-df-container {\n",
              "      display:flex;\n",
              "      flex-wrap:wrap;\n",
              "      gap: 12px;\n",
              "    }\n",
              "\n",
              "    .colab-df-convert {\n",
              "      background-color: #E8F0FE;\n",
              "      border: none;\n",
              "      border-radius: 50%;\n",
              "      cursor: pointer;\n",
              "      display: none;\n",
              "      fill: #1967D2;\n",
              "      height: 32px;\n",
              "      padding: 0 0 0 0;\n",
              "      width: 32px;\n",
              "    }\n",
              "\n",
              "    .colab-df-convert:hover {\n",
              "      background-color: #E2EBFA;\n",
              "      box-shadow: 0px 1px 2px rgba(60, 64, 67, 0.3), 0px 1px 3px 1px rgba(60, 64, 67, 0.15);\n",
              "      fill: #174EA6;\n",
              "    }\n",
              "\n",
              "    [theme=dark] .colab-df-convert {\n",
              "      background-color: #3B4455;\n",
              "      fill: #D2E3FC;\n",
              "    }\n",
              "\n",
              "    [theme=dark] .colab-df-convert:hover {\n",
              "      background-color: #434B5C;\n",
              "      box-shadow: 0px 1px 3px 1px rgba(0, 0, 0, 0.15);\n",
              "      filter: drop-shadow(0px 1px 2px rgba(0, 0, 0, 0.3));\n",
              "      fill: #FFFFFF;\n",
              "    }\n",
              "  </style>\n",
              "\n",
              "      <script>\n",
              "        const buttonEl =\n",
              "          document.querySelector('#df-35c6a59d-132c-4b98-9a4c-651bb6077f1a button.colab-df-convert');\n",
              "        buttonEl.style.display =\n",
              "          google.colab.kernel.accessAllowed ? 'block' : 'none';\n",
              "\n",
              "        async function convertToInteractive(key) {\n",
              "          const element = document.querySelector('#df-35c6a59d-132c-4b98-9a4c-651bb6077f1a');\n",
              "          const dataTable =\n",
              "            await google.colab.kernel.invokeFunction('convertToInteractive',\n",
              "                                                     [key], {});\n",
              "          if (!dataTable) return;\n",
              "\n",
              "          const docLinkHtml = 'Like what you see? Visit the ' +\n",
              "            '<a target=\"_blank\" href=https://colab.research.google.com/notebooks/data_table.ipynb>data table notebook</a>'\n",
              "            + ' to learn more about interactive tables.';\n",
              "          element.innerHTML = '';\n",
              "          dataTable['output_type'] = 'display_data';\n",
              "          await google.colab.output.renderOutput(dataTable, element);\n",
              "          const docLink = document.createElement('div');\n",
              "          docLink.innerHTML = docLinkHtml;\n",
              "          element.appendChild(docLink);\n",
              "        }\n",
              "      </script>\n",
              "    </div>\n",
              "  </div>\n",
              "  "
            ]
          },
          "metadata": {},
          "execution_count": 5
        }
      ]
    },
    {
      "cell_type": "code",
      "source": [
        "nltk.download('stopwords')\n",
        "turk_stop_words=list(stopwords.words(\"turkish\"))\n",
        "emoji=list(UNICODE_EMOJI.keys())"
      ],
      "metadata": {
        "colab": {
          "base_uri": "https://localhost:8080/"
        },
        "id": "LyUfbgPybRsq",
        "outputId": "b2052d0f-be67-48e7-d5f3-ae1c6b99207d"
      },
      "execution_count": 20,
      "outputs": [
        {
          "output_type": "stream",
          "name": "stderr",
          "text": [
            "[nltk_data] Downloading package stopwords to /root/nltk_data...\n",
            "[nltk_data]   Package stopwords is already up-to-date!\n"
          ]
        }
      ]
    },
    {
      "cell_type": "code",
      "source": [
        "df[\"location\"]=df[\"location\"].fillna(\"Unknown\")"
      ],
      "metadata": {
        "id": "AnUfAwi4d7uo"
      },
      "execution_count": 21,
      "outputs": []
    },
    {
      "cell_type": "code",
      "source": [
        "def ProcessedTweets(text):\n",
        "  text=text.lower()\n",
        "  text=\" \".join(re.sub(\"(@[A-Za-z0-9]+)|(^0-9A-Za-z \\t]) |(\\w+:\\/\\/\\S+)\",\" \",text).split()) \n",
        "  text=re.sub(r'\\@\\w+|\\#\\w+|\\d+', \"\", text)\n",
        "  punct=str.maketrans(\"\",\"\",string.punctuation+string.digits)\n",
        "  text=text.translate(punct)\n",
        "  tokens=word_tokenize(text)\n",
        "  filtered_words=[w for w in tokens if w not in turk_stop_words]\n",
        "  filtered_words=[w for w in filtered_words if w not in emoji]\n",
        "  lemmatizer=WordNetLemmatizer()\n",
        "  lemma_words=[lemmatizer.lemmatize(w) for w in filtered_words]\n",
        "  text=\" \".join(lemma_words)\n",
        "  return text\n",
        "\n"
      ],
      "metadata": {
        "id": "D5kMQoAOT2XV"
      },
      "execution_count": 22,
      "outputs": []
    },
    {
      "cell_type": "code",
      "source": [
        "nltk.download('wordnet')\n",
        "nltk.download('punkt')\n",
        "nltk.download('omw-1.4')\n",
        "df[\"Processed_Tweets\"]=df[\"tweet\"].apply(ProcessedTweets)"
      ],
      "metadata": {
        "colab": {
          "base_uri": "https://localhost:8080/"
        },
        "id": "hN7oXpcLT70h",
        "outputId": "e6f1b715-6553-4bd8-9e05-ab33a7859091"
      },
      "execution_count": 23,
      "outputs": [
        {
          "output_type": "stream",
          "name": "stderr",
          "text": [
            "[nltk_data] Downloading package wordnet to /root/nltk_data...\n",
            "[nltk_data]   Package wordnet is already up-to-date!\n",
            "[nltk_data] Downloading package punkt to /root/nltk_data...\n",
            "[nltk_data]   Package punkt is already up-to-date!\n",
            "[nltk_data] Downloading package omw-1.4 to /root/nltk_data...\n",
            "[nltk_data]   Package omw-1.4 is already up-to-date!\n"
          ]
        }
      ]
    },
    {
      "cell_type": "code",
      "source": [
        "df[\"Processed_Tweets\"]"
      ],
      "metadata": {
        "colab": {
          "base_uri": "https://localhost:8080/"
        },
        "id": "klBxMqshklLS",
        "outputId": "54364341-1d7b-42e3-d488-28104908123f"
      },
      "execution_count": 24,
      "outputs": [
        {
          "output_type": "execute_result",
          "data": {
            "text/plain": [
              "0        argentina had world cup before messi came alon...\n",
              "1        ronaldo and pier didn ’ t think the timing of ...\n",
              "2        hate to see it he had an incredible world cup ...\n",
              "3        my man is celebrating a world cup yours is pos...\n",
              "4        woman are not the end result in this world cup...\n",
              "                               ...                        \n",
              "19996    dec giorgio moroder project to be number one s...\n",
              "19997    fr thank you jungkook for giving u the best wo...\n",
              "19998    messi winning the world cup doesnt make him th...\n",
              "19999    dec jason derulo color cocacola anthem for the...\n",
              "20000    are qatar ’ s world cup stadium the future of ...\n",
              "Name: Processed_Tweets, Length: 20001, dtype: object"
            ]
          },
          "metadata": {},
          "execution_count": 24
        }
      ]
    },
    {
      "cell_type": "code",
      "source": [
        "def polarity(tweet):\n",
        "  return TextBlob(tweet).sentiment.polarity\n",
        "def sentimenttextblob(polarity):\n",
        "  if polarity<0:\n",
        "    return \"Negative\"\n",
        "  elif polarity>0:\n",
        "    return \"Positive\"\n"
      ],
      "metadata": {
        "id": "zT0-OGdNkq6O"
      },
      "execution_count": 25,
      "outputs": []
    },
    {
      "cell_type": "code",
      "source": [
        "df[\"Polarity\"]=df[\"Processed_Tweets\"].apply(polarity)\n",
        "df[\"Sentiment\"]=df[\"Polarity\"].apply(sentimenttextblob)\n",
        "sent=df[\"Sentiment\"].value_counts()\n",
        "sent\n",
        "df.to_csv(\"sentiment.csv\",encoding='utf-8')"
      ],
      "metadata": {
        "id": "W-CnhQAEltzF"
      },
      "execution_count": 12,
      "outputs": []
    }
  ]
}