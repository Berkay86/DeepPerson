{
  "nbformat": 4,
  "nbformat_minor": 0,
  "metadata": {
    "colab": {
      "provenance": [],
      "authorship_tag": "ABX9TyN9M8mtT2Aru3QdopDQLtGv",
      "include_colab_link": true
    },
    "kernelspec": {
      "name": "python3",
      "display_name": "Python 3"
    },
    "language_info": {
      "name": "python"
    }
  },
  "cells": [
    {
      "cell_type": "markdown",
      "metadata": {
        "id": "view-in-github",
        "colab_type": "text"
      },
      "source": [
        "<a href=\"https://colab.research.google.com/github/Berkay86/DeepPerson/blob/main/HavaKaliteTahmin.ipynb\" target=\"_parent\"><img src=\"https://colab.research.google.com/assets/colab-badge.svg\" alt=\"Open In Colab\"/></a>"
      ]
    },
    {
      "cell_type": "code",
      "execution_count": 902,
      "metadata": {
        "id": "YbLvJLO7Hb-5"
      },
      "outputs": [],
      "source": [
        "import pandas as pd\n",
        "import numpy as np"
      ]
    },
    {
      "cell_type": "code",
      "source": [
        "dataFrame = pd.read_excel(\"1.xlsx\")"
      ],
      "metadata": {
        "id": "VXcjv2B9HgW-"
      },
      "execution_count": 903,
      "outputs": []
    },
    {
      "cell_type": "code",
      "source": [
        "dataFrame"
      ],
      "metadata": {
        "colab": {
          "base_uri": "https://localhost:8080/",
          "height": 424
        },
        "id": "9T_VwysEHsX6",
        "outputId": "6be0788a-c469-4447-d4f9-8475560a79d5"
      },
      "execution_count": 904,
      "outputs": [
        {
          "output_type": "execute_result",
          "data": {
            "text/plain": [
              "       PM10    SO2      CO   NO2   NOX\n",
              "0     31.45   1.84    0.00  0.00  0.00\n",
              "1     36.11   2.22    0.00  0.00  0.00\n",
              "2     20.57   3.48    0.00  0.00  0.00\n",
              "3     21.26   5.81    0.00  0.00  0.00\n",
              "4     42.45  10.16    0.00  0.00  0.00\n",
              "...     ...    ...     ...   ...   ...\n",
              "4409  55.01  12.82  481.84  2.12  3.69\n",
              "4410  70.73  12.89  553.39  2.11  3.67\n",
              "4411  51.39  12.49  490.55  2.11  3.67\n",
              "4412  34.08  12.36  399.15  2.09  3.65\n",
              "4413   0.00   0.00    0.00  0.00  0.00\n",
              "\n",
              "[4414 rows x 5 columns]"
            ],
            "text/html": [
              "\n",
              "  <div id=\"df-96d9f13d-4b2c-46d2-9639-4e0ebde2184a\">\n",
              "    <div class=\"colab-df-container\">\n",
              "      <div>\n",
              "<style scoped>\n",
              "    .dataframe tbody tr th:only-of-type {\n",
              "        vertical-align: middle;\n",
              "    }\n",
              "\n",
              "    .dataframe tbody tr th {\n",
              "        vertical-align: top;\n",
              "    }\n",
              "\n",
              "    .dataframe thead th {\n",
              "        text-align: right;\n",
              "    }\n",
              "</style>\n",
              "<table border=\"1\" class=\"dataframe\">\n",
              "  <thead>\n",
              "    <tr style=\"text-align: right;\">\n",
              "      <th></th>\n",
              "      <th>PM10</th>\n",
              "      <th>SO2</th>\n",
              "      <th>CO</th>\n",
              "      <th>NO2</th>\n",
              "      <th>NOX</th>\n",
              "    </tr>\n",
              "  </thead>\n",
              "  <tbody>\n",
              "    <tr>\n",
              "      <th>0</th>\n",
              "      <td>31.45</td>\n",
              "      <td>1.84</td>\n",
              "      <td>0.00</td>\n",
              "      <td>0.00</td>\n",
              "      <td>0.00</td>\n",
              "    </tr>\n",
              "    <tr>\n",
              "      <th>1</th>\n",
              "      <td>36.11</td>\n",
              "      <td>2.22</td>\n",
              "      <td>0.00</td>\n",
              "      <td>0.00</td>\n",
              "      <td>0.00</td>\n",
              "    </tr>\n",
              "    <tr>\n",
              "      <th>2</th>\n",
              "      <td>20.57</td>\n",
              "      <td>3.48</td>\n",
              "      <td>0.00</td>\n",
              "      <td>0.00</td>\n",
              "      <td>0.00</td>\n",
              "    </tr>\n",
              "    <tr>\n",
              "      <th>3</th>\n",
              "      <td>21.26</td>\n",
              "      <td>5.81</td>\n",
              "      <td>0.00</td>\n",
              "      <td>0.00</td>\n",
              "      <td>0.00</td>\n",
              "    </tr>\n",
              "    <tr>\n",
              "      <th>4</th>\n",
              "      <td>42.45</td>\n",
              "      <td>10.16</td>\n",
              "      <td>0.00</td>\n",
              "      <td>0.00</td>\n",
              "      <td>0.00</td>\n",
              "    </tr>\n",
              "    <tr>\n",
              "      <th>...</th>\n",
              "      <td>...</td>\n",
              "      <td>...</td>\n",
              "      <td>...</td>\n",
              "      <td>...</td>\n",
              "      <td>...</td>\n",
              "    </tr>\n",
              "    <tr>\n",
              "      <th>4409</th>\n",
              "      <td>55.01</td>\n",
              "      <td>12.82</td>\n",
              "      <td>481.84</td>\n",
              "      <td>2.12</td>\n",
              "      <td>3.69</td>\n",
              "    </tr>\n",
              "    <tr>\n",
              "      <th>4410</th>\n",
              "      <td>70.73</td>\n",
              "      <td>12.89</td>\n",
              "      <td>553.39</td>\n",
              "      <td>2.11</td>\n",
              "      <td>3.67</td>\n",
              "    </tr>\n",
              "    <tr>\n",
              "      <th>4411</th>\n",
              "      <td>51.39</td>\n",
              "      <td>12.49</td>\n",
              "      <td>490.55</td>\n",
              "      <td>2.11</td>\n",
              "      <td>3.67</td>\n",
              "    </tr>\n",
              "    <tr>\n",
              "      <th>4412</th>\n",
              "      <td>34.08</td>\n",
              "      <td>12.36</td>\n",
              "      <td>399.15</td>\n",
              "      <td>2.09</td>\n",
              "      <td>3.65</td>\n",
              "    </tr>\n",
              "    <tr>\n",
              "      <th>4413</th>\n",
              "      <td>0.00</td>\n",
              "      <td>0.00</td>\n",
              "      <td>0.00</td>\n",
              "      <td>0.00</td>\n",
              "      <td>0.00</td>\n",
              "    </tr>\n",
              "  </tbody>\n",
              "</table>\n",
              "<p>4414 rows × 5 columns</p>\n",
              "</div>\n",
              "      <button class=\"colab-df-convert\" onclick=\"convertToInteractive('df-96d9f13d-4b2c-46d2-9639-4e0ebde2184a')\"\n",
              "              title=\"Convert this dataframe to an interactive table.\"\n",
              "              style=\"display:none;\">\n",
              "        \n",
              "  <svg xmlns=\"http://www.w3.org/2000/svg\" height=\"24px\"viewBox=\"0 0 24 24\"\n",
              "       width=\"24px\">\n",
              "    <path d=\"M0 0h24v24H0V0z\" fill=\"none\"/>\n",
              "    <path d=\"M18.56 5.44l.94 2.06.94-2.06 2.06-.94-2.06-.94-.94-2.06-.94 2.06-2.06.94zm-11 1L8.5 8.5l.94-2.06 2.06-.94-2.06-.94L8.5 2.5l-.94 2.06-2.06.94zm10 10l.94 2.06.94-2.06 2.06-.94-2.06-.94-.94-2.06-.94 2.06-2.06.94z\"/><path d=\"M17.41 7.96l-1.37-1.37c-.4-.4-.92-.59-1.43-.59-.52 0-1.04.2-1.43.59L10.3 9.45l-7.72 7.72c-.78.78-.78 2.05 0 2.83L4 21.41c.39.39.9.59 1.41.59.51 0 1.02-.2 1.41-.59l7.78-7.78 2.81-2.81c.8-.78.8-2.07 0-2.86zM5.41 20L4 18.59l7.72-7.72 1.47 1.35L5.41 20z\"/>\n",
              "  </svg>\n",
              "      </button>\n",
              "      \n",
              "  <style>\n",
              "    .colab-df-container {\n",
              "      display:flex;\n",
              "      flex-wrap:wrap;\n",
              "      gap: 12px;\n",
              "    }\n",
              "\n",
              "    .colab-df-convert {\n",
              "      background-color: #E8F0FE;\n",
              "      border: none;\n",
              "      border-radius: 50%;\n",
              "      cursor: pointer;\n",
              "      display: none;\n",
              "      fill: #1967D2;\n",
              "      height: 32px;\n",
              "      padding: 0 0 0 0;\n",
              "      width: 32px;\n",
              "    }\n",
              "\n",
              "    .colab-df-convert:hover {\n",
              "      background-color: #E2EBFA;\n",
              "      box-shadow: 0px 1px 2px rgba(60, 64, 67, 0.3), 0px 1px 3px 1px rgba(60, 64, 67, 0.15);\n",
              "      fill: #174EA6;\n",
              "    }\n",
              "\n",
              "    [theme=dark] .colab-df-convert {\n",
              "      background-color: #3B4455;\n",
              "      fill: #D2E3FC;\n",
              "    }\n",
              "\n",
              "    [theme=dark] .colab-df-convert:hover {\n",
              "      background-color: #434B5C;\n",
              "      box-shadow: 0px 1px 3px 1px rgba(0, 0, 0, 0.15);\n",
              "      filter: drop-shadow(0px 1px 2px rgba(0, 0, 0, 0.3));\n",
              "      fill: #FFFFFF;\n",
              "    }\n",
              "  </style>\n",
              "\n",
              "      <script>\n",
              "        const buttonEl =\n",
              "          document.querySelector('#df-96d9f13d-4b2c-46d2-9639-4e0ebde2184a button.colab-df-convert');\n",
              "        buttonEl.style.display =\n",
              "          google.colab.kernel.accessAllowed ? 'block' : 'none';\n",
              "\n",
              "        async function convertToInteractive(key) {\n",
              "          const element = document.querySelector('#df-96d9f13d-4b2c-46d2-9639-4e0ebde2184a');\n",
              "          const dataTable =\n",
              "            await google.colab.kernel.invokeFunction('convertToInteractive',\n",
              "                                                     [key], {});\n",
              "          if (!dataTable) return;\n",
              "\n",
              "          const docLinkHtml = 'Like what you see? Visit the ' +\n",
              "            '<a target=\"_blank\" href=https://colab.research.google.com/notebooks/data_table.ipynb>data table notebook</a>'\n",
              "            + ' to learn more about interactive tables.';\n",
              "          element.innerHTML = '';\n",
              "          dataTable['output_type'] = 'display_data';\n",
              "          await google.colab.output.renderOutput(dataTable, element);\n",
              "          const docLink = document.createElement('div');\n",
              "          docLink.innerHTML = docLinkHtml;\n",
              "          element.appendChild(docLink);\n",
              "        }\n",
              "      </script>\n",
              "    </div>\n",
              "  </div>\n",
              "  "
            ]
          },
          "metadata": {},
          "execution_count": 904
        }
      ]
    },
    {
      "cell_type": "code",
      "source": [
        "dataFrame.describe()\n"
      ],
      "metadata": {
        "colab": {
          "base_uri": "https://localhost:8080/",
          "height": 300
        },
        "id": "6fXnanJpIO9K",
        "outputId": "b71352d6-9391-467a-ef79-8395e8c2f64a"
      },
      "execution_count": 905,
      "outputs": [
        {
          "output_type": "execute_result",
          "data": {
            "text/plain": [
              "              PM10          SO2           CO          NO2          NOX\n",
              "count  4414.000000  4414.000000  4414.000000  4414.000000  4414.000000\n",
              "mean     39.925396     9.955238   369.482481    14.537891    17.843140\n",
              "std      24.707755    10.706647   394.441757    44.227199    44.656403\n",
              "min       0.000000     0.000000     0.000000     0.000000     0.000000\n",
              "25%      25.285000     5.140000    22.650000     0.000000     0.000000\n",
              "50%      37.640000     7.430000   277.560000     1.100000     0.840000\n",
              "75%      51.547500    12.147500   533.147500     4.907500     8.820000\n",
              "max     362.430000   211.230000  2060.850000   348.150000   338.760000"
            ],
            "text/html": [
              "\n",
              "  <div id=\"df-46571f79-5a42-4089-aaec-597ecc2768bd\">\n",
              "    <div class=\"colab-df-container\">\n",
              "      <div>\n",
              "<style scoped>\n",
              "    .dataframe tbody tr th:only-of-type {\n",
              "        vertical-align: middle;\n",
              "    }\n",
              "\n",
              "    .dataframe tbody tr th {\n",
              "        vertical-align: top;\n",
              "    }\n",
              "\n",
              "    .dataframe thead th {\n",
              "        text-align: right;\n",
              "    }\n",
              "</style>\n",
              "<table border=\"1\" class=\"dataframe\">\n",
              "  <thead>\n",
              "    <tr style=\"text-align: right;\">\n",
              "      <th></th>\n",
              "      <th>PM10</th>\n",
              "      <th>SO2</th>\n",
              "      <th>CO</th>\n",
              "      <th>NO2</th>\n",
              "      <th>NOX</th>\n",
              "    </tr>\n",
              "  </thead>\n",
              "  <tbody>\n",
              "    <tr>\n",
              "      <th>count</th>\n",
              "      <td>4414.000000</td>\n",
              "      <td>4414.000000</td>\n",
              "      <td>4414.000000</td>\n",
              "      <td>4414.000000</td>\n",
              "      <td>4414.000000</td>\n",
              "    </tr>\n",
              "    <tr>\n",
              "      <th>mean</th>\n",
              "      <td>39.925396</td>\n",
              "      <td>9.955238</td>\n",
              "      <td>369.482481</td>\n",
              "      <td>14.537891</td>\n",
              "      <td>17.843140</td>\n",
              "    </tr>\n",
              "    <tr>\n",
              "      <th>std</th>\n",
              "      <td>24.707755</td>\n",
              "      <td>10.706647</td>\n",
              "      <td>394.441757</td>\n",
              "      <td>44.227199</td>\n",
              "      <td>44.656403</td>\n",
              "    </tr>\n",
              "    <tr>\n",
              "      <th>min</th>\n",
              "      <td>0.000000</td>\n",
              "      <td>0.000000</td>\n",
              "      <td>0.000000</td>\n",
              "      <td>0.000000</td>\n",
              "      <td>0.000000</td>\n",
              "    </tr>\n",
              "    <tr>\n",
              "      <th>25%</th>\n",
              "      <td>25.285000</td>\n",
              "      <td>5.140000</td>\n",
              "      <td>22.650000</td>\n",
              "      <td>0.000000</td>\n",
              "      <td>0.000000</td>\n",
              "    </tr>\n",
              "    <tr>\n",
              "      <th>50%</th>\n",
              "      <td>37.640000</td>\n",
              "      <td>7.430000</td>\n",
              "      <td>277.560000</td>\n",
              "      <td>1.100000</td>\n",
              "      <td>0.840000</td>\n",
              "    </tr>\n",
              "    <tr>\n",
              "      <th>75%</th>\n",
              "      <td>51.547500</td>\n",
              "      <td>12.147500</td>\n",
              "      <td>533.147500</td>\n",
              "      <td>4.907500</td>\n",
              "      <td>8.820000</td>\n",
              "    </tr>\n",
              "    <tr>\n",
              "      <th>max</th>\n",
              "      <td>362.430000</td>\n",
              "      <td>211.230000</td>\n",
              "      <td>2060.850000</td>\n",
              "      <td>348.150000</td>\n",
              "      <td>338.760000</td>\n",
              "    </tr>\n",
              "  </tbody>\n",
              "</table>\n",
              "</div>\n",
              "      <button class=\"colab-df-convert\" onclick=\"convertToInteractive('df-46571f79-5a42-4089-aaec-597ecc2768bd')\"\n",
              "              title=\"Convert this dataframe to an interactive table.\"\n",
              "              style=\"display:none;\">\n",
              "        \n",
              "  <svg xmlns=\"http://www.w3.org/2000/svg\" height=\"24px\"viewBox=\"0 0 24 24\"\n",
              "       width=\"24px\">\n",
              "    <path d=\"M0 0h24v24H0V0z\" fill=\"none\"/>\n",
              "    <path d=\"M18.56 5.44l.94 2.06.94-2.06 2.06-.94-2.06-.94-.94-2.06-.94 2.06-2.06.94zm-11 1L8.5 8.5l.94-2.06 2.06-.94-2.06-.94L8.5 2.5l-.94 2.06-2.06.94zm10 10l.94 2.06.94-2.06 2.06-.94-2.06-.94-.94-2.06-.94 2.06-2.06.94z\"/><path d=\"M17.41 7.96l-1.37-1.37c-.4-.4-.92-.59-1.43-.59-.52 0-1.04.2-1.43.59L10.3 9.45l-7.72 7.72c-.78.78-.78 2.05 0 2.83L4 21.41c.39.39.9.59 1.41.59.51 0 1.02-.2 1.41-.59l7.78-7.78 2.81-2.81c.8-.78.8-2.07 0-2.86zM5.41 20L4 18.59l7.72-7.72 1.47 1.35L5.41 20z\"/>\n",
              "  </svg>\n",
              "      </button>\n",
              "      \n",
              "  <style>\n",
              "    .colab-df-container {\n",
              "      display:flex;\n",
              "      flex-wrap:wrap;\n",
              "      gap: 12px;\n",
              "    }\n",
              "\n",
              "    .colab-df-convert {\n",
              "      background-color: #E8F0FE;\n",
              "      border: none;\n",
              "      border-radius: 50%;\n",
              "      cursor: pointer;\n",
              "      display: none;\n",
              "      fill: #1967D2;\n",
              "      height: 32px;\n",
              "      padding: 0 0 0 0;\n",
              "      width: 32px;\n",
              "    }\n",
              "\n",
              "    .colab-df-convert:hover {\n",
              "      background-color: #E2EBFA;\n",
              "      box-shadow: 0px 1px 2px rgba(60, 64, 67, 0.3), 0px 1px 3px 1px rgba(60, 64, 67, 0.15);\n",
              "      fill: #174EA6;\n",
              "    }\n",
              "\n",
              "    [theme=dark] .colab-df-convert {\n",
              "      background-color: #3B4455;\n",
              "      fill: #D2E3FC;\n",
              "    }\n",
              "\n",
              "    [theme=dark] .colab-df-convert:hover {\n",
              "      background-color: #434B5C;\n",
              "      box-shadow: 0px 1px 3px 1px rgba(0, 0, 0, 0.15);\n",
              "      filter: drop-shadow(0px 1px 2px rgba(0, 0, 0, 0.3));\n",
              "      fill: #FFFFFF;\n",
              "    }\n",
              "  </style>\n",
              "\n",
              "      <script>\n",
              "        const buttonEl =\n",
              "          document.querySelector('#df-46571f79-5a42-4089-aaec-597ecc2768bd button.colab-df-convert');\n",
              "        buttonEl.style.display =\n",
              "          google.colab.kernel.accessAllowed ? 'block' : 'none';\n",
              "\n",
              "        async function convertToInteractive(key) {\n",
              "          const element = document.querySelector('#df-46571f79-5a42-4089-aaec-597ecc2768bd');\n",
              "          const dataTable =\n",
              "            await google.colab.kernel.invokeFunction('convertToInteractive',\n",
              "                                                     [key], {});\n",
              "          if (!dataTable) return;\n",
              "\n",
              "          const docLinkHtml = 'Like what you see? Visit the ' +\n",
              "            '<a target=\"_blank\" href=https://colab.research.google.com/notebooks/data_table.ipynb>data table notebook</a>'\n",
              "            + ' to learn more about interactive tables.';\n",
              "          element.innerHTML = '';\n",
              "          dataTable['output_type'] = 'display_data';\n",
              "          await google.colab.output.renderOutput(dataTable, element);\n",
              "          const docLink = document.createElement('div');\n",
              "          docLink.innerHTML = docLinkHtml;\n",
              "          element.appendChild(docLink);\n",
              "        }\n",
              "      </script>\n",
              "    </div>\n",
              "  </div>\n",
              "  "
            ]
          },
          "metadata": {},
          "execution_count": 905
        }
      ]
    },
    {
      "cell_type": "code",
      "source": [
        "dataFrame.corr()[\"PM10\"].sort_values()"
      ],
      "metadata": {
        "colab": {
          "base_uri": "https://localhost:8080/"
        },
        "id": "YaDZethBIVph",
        "outputId": "20879178-508a-486d-9592-465a0ce45dc4"
      },
      "execution_count": 906,
      "outputs": [
        {
          "output_type": "execute_result",
          "data": {
            "text/plain": [
              "NO2     0.028118\n",
              "NOX     0.109574\n",
              "SO2     0.135150\n",
              "CO      0.150886\n",
              "PM10    1.000000\n",
              "Name: PM10, dtype: float64"
            ]
          },
          "metadata": {},
          "execution_count": 906
        }
      ]
    },
    {
      "cell_type": "code",
      "source": [
        "import matplotlib.pyplot as plt\n",
        "import seaborn as sbn"
      ],
      "metadata": {
        "id": "KSwmc5-hIeqE"
      },
      "execution_count": 907,
      "outputs": []
    },
    {
      "cell_type": "code",
      "source": [
        "plt.figure(figsize=(7,5))\n",
        "sbn.distplot(dataFrame[\"PM10\"])"
      ],
      "metadata": {
        "colab": {
          "base_uri": "https://localhost:8080/",
          "height": 406
        },
        "id": "mWOeRFj9IqXi",
        "outputId": "ec609b9b-fdd7-408b-d031-fd681b374c61"
      },
      "execution_count": 908,
      "outputs": [
        {
          "output_type": "stream",
          "name": "stderr",
          "text": [
            "/usr/local/lib/python3.7/dist-packages/seaborn/distributions.py:2619: FutureWarning: `distplot` is a deprecated function and will be removed in a future version. Please adapt your code to use either `displot` (a figure-level function with similar flexibility) or `histplot` (an axes-level function for histograms).\n",
            "  warnings.warn(msg, FutureWarning)\n"
          ]
        },
        {
          "output_type": "execute_result",
          "data": {
            "text/plain": [
              "<matplotlib.axes._subplots.AxesSubplot at 0x7f2e78996b50>"
            ]
          },
          "metadata": {},
          "execution_count": 908
        },
        {
          "output_type": "display_data",
          "data": {
            "text/plain": [
              "<Figure size 504x360 with 1 Axes>"
            ],
            "image/png": "[encoded data removed]"
          },
          "metadata": {
            "needs_background": "light"
          }
        }
      ]
    },
    {
      "cell_type": "code",
      "source": [
        "sbn.scatterplot(x=\"PM10\",y=\"SO2\",data=dataFrame)"
      ],
      "metadata": {
        "colab": {
          "base_uri": "https://localhost:8080/",
          "height": 296
        },
        "id": "HuGdvAzQJNvE",
        "outputId": "a0a3b117-389f-4d51-d80a-88706a5b1eec"
      },
      "execution_count": 909,
      "outputs": [
        {
          "output_type": "execute_result",
          "data": {
            "text/plain": [
              "<matplotlib.axes._subplots.AxesSubplot at 0x7f2e78a0a250>"
            ]
          },
          "metadata": {},
          "execution_count": 909
        },
        {
          "output_type": "display_data",
          "data": {
            "text/plain": [
              "<Figure size 432x288 with 1 Axes>"
            ],
            "image/png": "[encoded data removed]"
          },
          "metadata": {
            "needs_background": "light"
          }
        }
      ]
    },
    {
      "cell_type": "code",
      "source": [
        "dataFrame.sort_values(\"NOX\",ascending = True).head(20)"
      ],
      "metadata": {
        "colab": {
          "base_uri": "https://localhost:8080/",
          "height": 676
        },
        "id": "dWpA1eNgJYx_",
        "outputId": "774a42a1-5273-4da4-9ebd-58f0c7282a7b"
      },
      "execution_count": 910,
      "outputs": [
        {
          "output_type": "execute_result",
          "data": {
            "text/plain": [
              "        PM10    SO2       CO  NO2  NOX\n",
              "0      31.45   1.84     0.00  0.0  0.0\n",
              "1792   50.51  12.79   519.73  0.0  0.0\n",
              "1791   39.39  12.56   798.22  0.0  0.0\n",
              "1790   35.62  12.47  1372.06  0.0  0.0\n",
              "1789   23.17  13.46   254.84  0.0  0.0\n",
              "1788   48.40  13.97   584.64  0.0  0.0\n",
              "1787   67.21  15.63   808.91  0.0  0.0\n",
              "1786   44.15  16.52   527.68  0.0  0.0\n",
              "1785   38.00  14.86   422.53  0.0  0.0\n",
              "1784   62.66  15.10   589.53  0.0  0.0\n",
              "1783   77.97  18.21  1104.26  0.0  0.0\n",
              "1782  233.38  19.93   914.08  0.0  0.0\n",
              "1781   70.98  18.04  1011.96  0.0  0.0\n",
              "1780   63.97  14.69   746.76  0.0  0.0\n",
              "1779   53.33  14.95   678.03  0.0  0.0\n",
              "1778   67.64  13.67   762.70  0.0  0.0\n",
              "1777   52.16  15.08   593.11  0.0  0.0\n",
              "1776   37.67  15.40   437.15  0.0  0.0\n",
              "1775   37.90  15.15   412.80  0.0  0.0\n",
              "1774   43.81  17.17   461.99  0.0  0.0"
            ],
            "text/html": [
              "\n",
              "  <div id=\"df-fc34cbd4-a949-406e-b9bd-809ec04ed48d\">\n",
              "    <div class=\"colab-df-container\">\n",
              "      <div>\n",
              "<style scoped>\n",
              "    .dataframe tbody tr th:only-of-type {\n",
              "        vertical-align: middle;\n",
              "    }\n",
              "\n",
              "    .dataframe tbody tr th {\n",
              "        vertical-align: top;\n",
              "    }\n",
              "\n",
              "    .dataframe thead th {\n",
              "        text-align: right;\n",
              "    }\n",
              "</style>\n",
              "<table border=\"1\" class=\"dataframe\">\n",
              "  <thead>\n",
              "    <tr style=\"text-align: right;\">\n",
              "      <th></th>\n",
              "      <th>PM10</th>\n",
              "      <th>SO2</th>\n",
              "      <th>CO</th>\n",
              "      <th>NO2</th>\n",
              "      <th>NOX</th>\n",
              "    </tr>\n",
              "  </thead>\n",
              "  <tbody>\n",
              "    <tr>\n",
              "      <th>0</th>\n",
              "      <td>31.45</td>\n",
              "      <td>1.84</td>\n",
              "      <td>0.00</td>\n",
              "      <td>0.0</td>\n",
              "      <td>0.0</td>\n",
              "    </tr>\n",
              "    <tr>\n",
              "      <th>1792</th>\n",
              "      <td>50.51</td>\n",
              "      <td>12.79</td>\n",
              "      <td>519.73</td>\n",
              "      <td>0.0</td>\n",
              "      <td>0.0</td>\n",
              "    </tr>\n",
              "    <tr>\n",
              "      <th>1791</th>\n",
              "      <td>39.39</td>\n",
              "      <td>12.56</td>\n",
              "      <td>798.22</td>\n",
              "      <td>0.0</td>\n",
              "      <td>0.0</td>\n",
              "    </tr>\n",
              "    <tr>\n",
              "      <th>1790</th>\n",
              "      <td>35.62</td>\n",
              "      <td>12.47</td>\n",
              "      <td>1372.06</td>\n",
              "      <td>0.0</td>\n",
              "      <td>0.0</td>\n",
              "    </tr>\n",
              "    <tr>\n",
              "      <th>1789</th>\n",
              "      <td>23.17</td>\n",
              "      <td>13.46</td>\n",
              "      <td>254.84</td>\n",
              "      <td>0.0</td>\n",
              "      <td>0.0</td>\n",
              "    </tr>\n",
              "    <tr>\n",
              "      <th>1788</th>\n",
              "      <td>48.40</td>\n",
              "      <td>13.97</td>\n",
              "      <td>584.64</td>\n",
              "      <td>0.0</td>\n",
              "      <td>0.0</td>\n",
              "    </tr>\n",
              "    <tr>\n",
              "      <th>1787</th>\n",
              "      <td>67.21</td>\n",
              "      <td>15.63</td>\n",
              "      <td>808.91</td>\n",
              "      <td>0.0</td>\n",
              "      <td>0.0</td>\n",
              "    </tr>\n",
              "    <tr>\n",
              "      <th>1786</th>\n",
              "      <td>44.15</td>\n",
              "      <td>16.52</td>\n",
              "      <td>527.68</td>\n",
              "      <td>0.0</td>\n",
              "      <td>0.0</td>\n",
              "    </tr>\n",
              "    <tr>\n",
              "      <th>1785</th>\n",
              "      <td>38.00</td>\n",
              "      <td>14.86</td>\n",
              "      <td>422.53</td>\n",
              "      <td>0.0</td>\n",
              "      <td>0.0</td>\n",
              "    </tr>\n",
              "    <tr>\n",
              "      <th>1784</th>\n",
              "      <td>62.66</td>\n",
              "      <td>15.10</td>\n",
              "      <td>589.53</td>\n",
              "      <td>0.0</td>\n",
              "      <td>0.0</td>\n",
              "    </tr>\n",
              "    <tr>\n",
              "      <th>1783</th>\n",
              "      <td>77.97</td>\n",
              "      <td>18.21</td>\n",
              "      <td>1104.26</td>\n",
              "      <td>0.0</td>\n",
              "      <td>0.0</td>\n",
              "    </tr>\n",
              "    <tr>\n",
              "      <th>1782</th>\n",
              "      <td>233.38</td>\n",
              "      <td>19.93</td>\n",
              "      <td>914.08</td>\n",
              "      <td>0.0</td>\n",
              "      <td>0.0</td>\n",
              "    </tr>\n",
              "    <tr>\n",
              "      <th>1781</th>\n",
              "      <td>70.98</td>\n",
              "      <td>18.04</td>\n",
              "      <td>1011.96</td>\n",
              "      <td>0.0</td>\n",
              "      <td>0.0</td>\n",
              "    </tr>\n",
              "    <tr>\n",
              "      <th>1780</th>\n",
              "      <td>63.97</td>\n",
              "      <td>14.69</td>\n",
              "      <td>746.76</td>\n",
              "      <td>0.0</td>\n",
              "      <td>0.0</td>\n",
              "    </tr>\n",
              "    <tr>\n",
              "      <th>1779</th>\n",
              "      <td>53.33</td>\n",
              "      <td>14.95</td>\n",
              "      <td>678.03</td>\n",
              "      <td>0.0</td>\n",
              "      <td>0.0</td>\n",
              "    </tr>\n",
              "    <tr>\n",
              "      <th>1778</th>\n",
              "      <td>67.64</td>\n",
              "      <td>13.67</td>\n",
              "      <td>762.70</td>\n",
              "      <td>0.0</td>\n",
              "      <td>0.0</td>\n",
              "    </tr>\n",
              "    <tr>\n",
              "      <th>1777</th>\n",
              "      <td>52.16</td>\n",
              "      <td>15.08</td>\n",
              "      <td>593.11</td>\n",
              "      <td>0.0</td>\n",
              "      <td>0.0</td>\n",
              "    </tr>\n",
              "    <tr>\n",
              "      <th>1776</th>\n",
              "      <td>37.67</td>\n",
              "      <td>15.40</td>\n",
              "      <td>437.15</td>\n",
              "      <td>0.0</td>\n",
              "      <td>0.0</td>\n",
              "    </tr>\n",
              "    <tr>\n",
              "      <th>1775</th>\n",
              "      <td>37.90</td>\n",
              "      <td>15.15</td>\n",
              "      <td>412.80</td>\n",
              "      <td>0.0</td>\n",
              "      <td>0.0</td>\n",
              "    </tr>\n",
              "    <tr>\n",
              "      <th>1774</th>\n",
              "      <td>43.81</td>\n",
              "      <td>17.17</td>\n",
              "      <td>461.99</td>\n",
              "      <td>0.0</td>\n",
              "      <td>0.0</td>\n",
              "    </tr>\n",
              "  </tbody>\n",
              "</table>\n",
              "</div>\n",
              "      <button class=\"colab-df-convert\" onclick=\"convertToInteractive('df-fc34cbd4-a949-406e-b9bd-809ec04ed48d')\"\n",
              "              title=\"Convert this dataframe to an interactive table.\"\n",
              "              style=\"display:none;\">\n",
              "        \n",
              "  <svg xmlns=\"http://www.w3.org/2000/svg\" height=\"24px\"viewBox=\"0 0 24 24\"\n",
              "       width=\"24px\">\n",
              "    <path d=\"M0 0h24v24H0V0z\" fill=\"none\"/>\n",
              "    <path d=\"M18.56 5.44l.94 2.06.94-2.06 2.06-.94-2.06-.94-.94-2.06-.94 2.06-2.06.94zm-11 1L8.5 8.5l.94-2.06 2.06-.94-2.06-.94L8.5 2.5l-.94 2.06-2.06.94zm10 10l.94 2.06.94-2.06 2.06-.94-2.06-.94-.94-2.06-.94 2.06-2.06.94z\"/><path d=\"M17.41 7.96l-1.37-1.37c-.4-.4-.92-.59-1.43-.59-.52 0-1.04.2-1.43.59L10.3 9.45l-7.72 7.72c-.78.78-.78 2.05 0 2.83L4 21.41c.39.39.9.59 1.41.59.51 0 1.02-.2 1.41-.59l7.78-7.78 2.81-2.81c.8-.78.8-2.07 0-2.86zM5.41 20L4 18.59l7.72-7.72 1.47 1.35L5.41 20z\"/>\n",
              "  </svg>\n",
              "      </button>\n",
              "      \n",
              "  <style>\n",
              "    .colab-df-container {\n",
              "      display:flex;\n",
              "      flex-wrap:wrap;\n",
              "      gap: 12px;\n",
              "    }\n",
              "\n",
              "    .colab-df-convert {\n",
              "      background-color: #E8F0FE;\n",
              "      border: none;\n",
              "      border-radius: 50%;\n",
              "      cursor: pointer;\n",
              "      display: none;\n",
              "      fill: #1967D2;\n",
              "      height: 32px;\n",
              "      padding: 0 0 0 0;\n",
              "      width: 32px;\n",
              "    }\n",
              "\n",
              "    .colab-df-convert:hover {\n",
              "      background-color: #E2EBFA;\n",
              "      box-shadow: 0px 1px 2px rgba(60, 64, 67, 0.3), 0px 1px 3px 1px rgba(60, 64, 67, 0.15);\n",
              "      fill: #174EA6;\n",
              "    }\n",
              "\n",
              "    [theme=dark] .colab-df-convert {\n",
              "      background-color: #3B4455;\n",
              "      fill: #D2E3FC;\n",
              "    }\n",
              "\n",
              "    [theme=dark] .colab-df-convert:hover {\n",
              "      background-color: #434B5C;\n",
              "      box-shadow: 0px 1px 3px 1px rgba(0, 0, 0, 0.15);\n",
              "      filter: drop-shadow(0px 1px 2px rgba(0, 0, 0, 0.3));\n",
              "      fill: #FFFFFF;\n",
              "    }\n",
              "  </style>\n",
              "\n",
              "      <script>\n",
              "        const buttonEl =\n",
              "          document.querySelector('#df-fc34cbd4-a949-406e-b9bd-809ec04ed48d button.colab-df-convert');\n",
              "        buttonEl.style.display =\n",
              "          google.colab.kernel.accessAllowed ? 'block' : 'none';\n",
              "\n",
              "        async function convertToInteractive(key) {\n",
              "          const element = document.querySelector('#df-fc34cbd4-a949-406e-b9bd-809ec04ed48d');\n",
              "          const dataTable =\n",
              "            await google.colab.kernel.invokeFunction('convertToInteractive',\n",
              "                                                     [key], {});\n",
              "          if (!dataTable) return;\n",
              "\n",
              "          const docLinkHtml = 'Like what you see? Visit the ' +\n",
              "            '<a target=\"_blank\" href=https://colab.research.google.com/notebooks/data_table.ipynb>data table notebook</a>'\n",
              "            + ' to learn more about interactive tables.';\n",
              "          element.innerHTML = '';\n",
              "          dataTable['output_type'] = 'display_data';\n",
              "          await google.colab.output.renderOutput(dataTable, element);\n",
              "          const docLink = document.createElement('div');\n",
              "          docLink.innerHTML = docLinkHtml;\n",
              "          element.appendChild(docLink);\n",
              "        }\n",
              "      </script>\n",
              "    </div>\n",
              "  </div>\n",
              "  "
            ]
          },
          "metadata": {},
          "execution_count": 910
        }
      ]
    },
    {
      "cell_type": "code",
      "source": [
        "len(dataFrame) * 0.01"
      ],
      "metadata": {
        "colab": {
          "base_uri": "https://localhost:8080/"
        },
        "id": "czq8jX_jJr1I",
        "outputId": "9867bb42-3874-4c9e-c3ec-77c4228cdb06"
      },
      "execution_count": 911,
      "outputs": [
        {
          "output_type": "execute_result",
          "data": {
            "text/plain": [
              "44.14"
            ]
          },
          "metadata": {},
          "execution_count": 911
        }
      ]
    },
    {
      "cell_type": "code",
      "source": [
        "dataFrame1=dataFrame[dataFrame.NOX!=0]\n",
        "dataFrame2=dataFrame1[dataFrame1.CO!=0]\n",
        "dataFrame3=dataFrame2[dataFrame2.NO2!=0]\n",
        "dataFrame4=dataFrame3[dataFrame3.PM10!=0]\n",
        "dataFrame4=dataFrame4[dataFrame4.SO2!=0]\n",
        "dataFrame5=dataFrame4[dataFrame4.PM10<=100]\n",
        "dataFrame5.describe()"
      ],
      "metadata": {
        "colab": {
          "base_uri": "https://localhost:8080/",
          "height": 300
        },
        "id": "myEfIpyKKMbr",
        "outputId": "08051e96-c8a4-4756-f21e-0a8c919607c0"
      },
      "execution_count": 912,
      "outputs": [
        {
          "output_type": "execute_result",
          "data": {
            "text/plain": [
              "              PM10          SO2           CO          NO2          NOX\n",
              "count  2114.000000  2114.000000  2114.000000  2114.000000  2114.000000\n",
              "mean     39.975506    10.024522   447.373198    26.643325    24.431438\n",
              "std      17.793253     6.217311   288.268866    56.305118    39.557166\n",
              "min       1.730000     0.530000    14.130000     0.710000     0.590000\n",
              "25%      26.355000     6.082500   225.617500     4.142500     6.660000\n",
              "50%      36.970000     8.830000   389.820000     4.840000     8.790000\n",
              "75%      50.195000    12.520000   566.990000    22.987500    23.940000\n",
              "max      99.700000   152.870000  1893.860000   343.740000   264.550000"
            ],
            "text/html": [
              "\n",
              "  <div id=\"df-1d97c02f-a13d-484b-8aa0-dc9e1a046bc9\">\n",
              "    <div class=\"colab-df-container\">\n",
              "      <div>\n",
              "<style scoped>\n",
              "    .dataframe tbody tr th:only-of-type {\n",
              "        vertical-align: middle;\n",
              "    }\n",
              "\n",
              "    .dataframe tbody tr th {\n",
              "        vertical-align: top;\n",
              "    }\n",
              "\n",
              "    .dataframe thead th {\n",
              "        text-align: right;\n",
              "    }\n",
              "</style>\n",
              "<table border=\"1\" class=\"dataframe\">\n",
              "  <thead>\n",
              "    <tr style=\"text-align: right;\">\n",
              "      <th></th>\n",
              "      <th>PM10</th>\n",
              "      <th>SO2</th>\n",
              "      <th>CO</th>\n",
              "      <th>NO2</th>\n",
              "      <th>NOX</th>\n",
              "    </tr>\n",
              "  </thead>\n",
              "  <tbody>\n",
              "    <tr>\n",
              "      <th>count</th>\n",
              "      <td>2114.000000</td>\n",
              "      <td>2114.000000</td>\n",
              "      <td>2114.000000</td>\n",
              "      <td>2114.000000</td>\n",
              "      <td>2114.000000</td>\n",
              "    </tr>\n",
              "    <tr>\n",
              "      <th>mean</th>\n",
              "      <td>39.975506</td>\n",
              "      <td>10.024522</td>\n",
              "      <td>447.373198</td>\n",
              "      <td>26.643325</td>\n",
              "      <td>24.431438</td>\n",
              "    </tr>\n",
              "    <tr>\n",
              "      <th>std</th>\n",
              "      <td>17.793253</td>\n",
              "      <td>6.217311</td>\n",
              "      <td>288.268866</td>\n",
              "      <td>56.305118</td>\n",
              "      <td>39.557166</td>\n",
              "    </tr>\n",
              "    <tr>\n",
              "      <th>min</th>\n",
              "      <td>1.730000</td>\n",
              "      <td>0.530000</td>\n",
              "      <td>14.130000</td>\n",
              "      <td>0.710000</td>\n",
              "      <td>0.590000</td>\n",
              "    </tr>\n",
              "    <tr>\n",
              "      <th>25%</th>\n",
              "      <td>26.355000</td>\n",
              "      <td>6.082500</td>\n",
              "      <td>225.617500</td>\n",
              "      <td>4.142500</td>\n",
              "      <td>6.660000</td>\n",
              "    </tr>\n",
              "    <tr>\n",
              "      <th>50%</th>\n",
              "      <td>36.970000</td>\n",
              "      <td>8.830000</td>\n",
              "      <td>389.820000</td>\n",
              "      <td>4.840000</td>\n",
              "      <td>8.790000</td>\n",
              "    </tr>\n",
              "    <tr>\n",
              "      <th>75%</th>\n",
              "      <td>50.195000</td>\n",
              "      <td>12.520000</td>\n",
              "      <td>566.990000</td>\n",
              "      <td>22.987500</td>\n",
              "      <td>23.940000</td>\n",
              "    </tr>\n",
              "    <tr>\n",
              "      <th>max</th>\n",
              "      <td>99.700000</td>\n",
              "      <td>152.870000</td>\n",
              "      <td>1893.860000</td>\n",
              "      <td>343.740000</td>\n",
              "      <td>264.550000</td>\n",
              "    </tr>\n",
              "  </tbody>\n",
              "</table>\n",
              "</div>\n",
              "      <button class=\"colab-df-convert\" onclick=\"convertToInteractive('df-1d97c02f-a13d-484b-8aa0-dc9e1a046bc9')\"\n",
              "              title=\"Convert this dataframe to an interactive table.\"\n",
              "              style=\"display:none;\">\n",
              "        \n",
              "  <svg xmlns=\"http://www.w3.org/2000/svg\" height=\"24px\"viewBox=\"0 0 24 24\"\n",
              "       width=\"24px\">\n",
              "    <path d=\"M0 0h24v24H0V0z\" fill=\"none\"/>\n",
              "    <path d=\"M18.56 5.44l.94 2.06.94-2.06 2.06-.94-2.06-.94-.94-2.06-.94 2.06-2.06.94zm-11 1L8.5 8.5l.94-2.06 2.06-.94-2.06-.94L8.5 2.5l-.94 2.06-2.06.94zm10 10l.94 2.06.94-2.06 2.06-.94-2.06-.94-.94-2.06-.94 2.06-2.06.94z\"/><path d=\"M17.41 7.96l-1.37-1.37c-.4-.4-.92-.59-1.43-.59-.52 0-1.04.2-1.43.59L10.3 9.45l-7.72 7.72c-.78.78-.78 2.05 0 2.83L4 21.41c.39.39.9.59 1.41.59.51 0 1.02-.2 1.41-.59l7.78-7.78 2.81-2.81c.8-.78.8-2.07 0-2.86zM5.41 20L4 18.59l7.72-7.72 1.47 1.35L5.41 20z\"/>\n",
              "  </svg>\n",
              "      </button>\n",
              "      \n",
              "  <style>\n",
              "    .colab-df-container {\n",
              "      display:flex;\n",
              "      flex-wrap:wrap;\n",
              "      gap: 12px;\n",
              "    }\n",
              "\n",
              "    .colab-df-convert {\n",
              "      background-color: #E8F0FE;\n",
              "      border: none;\n",
              "      border-radius: 50%;\n",
              "      cursor: pointer;\n",
              "      display: none;\n",
              "      fill: #1967D2;\n",
              "      height: 32px;\n",
              "      padding: 0 0 0 0;\n",
              "      width: 32px;\n",
              "    }\n",
              "\n",
              "    .colab-df-convert:hover {\n",
              "      background-color: #E2EBFA;\n",
              "      box-shadow: 0px 1px 2px rgba(60, 64, 67, 0.3), 0px 1px 3px 1px rgba(60, 64, 67, 0.15);\n",
              "      fill: #174EA6;\n",
              "    }\n",
              "\n",
              "    [theme=dark] .colab-df-convert {\n",
              "      background-color: #3B4455;\n",
              "      fill: #D2E3FC;\n",
              "    }\n",
              "\n",
              "    [theme=dark] .colab-df-convert:hover {\n",
              "      background-color: #434B5C;\n",
              "      box-shadow: 0px 1px 3px 1px rgba(0, 0, 0, 0.15);\n",
              "      filter: drop-shadow(0px 1px 2px rgba(0, 0, 0, 0.3));\n",
              "      fill: #FFFFFF;\n",
              "    }\n",
              "  </style>\n",
              "\n",
              "      <script>\n",
              "        const buttonEl =\n",
              "          document.querySelector('#df-1d97c02f-a13d-484b-8aa0-dc9e1a046bc9 button.colab-df-convert');\n",
              "        buttonEl.style.display =\n",
              "          google.colab.kernel.accessAllowed ? 'block' : 'none';\n",
              "\n",
              "        async function convertToInteractive(key) {\n",
              "          const element = document.querySelector('#df-1d97c02f-a13d-484b-8aa0-dc9e1a046bc9');\n",
              "          const dataTable =\n",
              "            await google.colab.kernel.invokeFunction('convertToInteractive',\n",
              "                                                     [key], {});\n",
              "          if (!dataTable) return;\n",
              "\n",
              "          const docLinkHtml = 'Like what you see? Visit the ' +\n",
              "            '<a target=\"_blank\" href=https://colab.research.google.com/notebooks/data_table.ipynb>data table notebook</a>'\n",
              "            + ' to learn more about interactive tables.';\n",
              "          element.innerHTML = '';\n",
              "          dataTable['output_type'] = 'display_data';\n",
              "          await google.colab.output.renderOutput(dataTable, element);\n",
              "          const docLink = document.createElement('div');\n",
              "          docLink.innerHTML = docLinkHtml;\n",
              "          element.appendChild(docLink);\n",
              "        }\n",
              "      </script>\n",
              "    </div>\n",
              "  </div>\n",
              "  "
            ]
          },
          "metadata": {},
          "execution_count": 912
        }
      ]
    },
    {
      "cell_type": "code",
      "source": [
        "plt.figure(figsize=(7,5))\n",
        "sbn.distplot(dataFrame5[\"PM10\"])"
      ],
      "metadata": {
        "colab": {
          "base_uri": "https://localhost:8080/",
          "height": 406
        },
        "id": "qFrmk55fOlJ0",
        "outputId": "1e74be95-76a2-4f54-d515-9a08576e59f7"
      },
      "execution_count": 913,
      "outputs": [
        {
          "output_type": "stream",
          "name": "stderr",
          "text": [
            "/usr/local/lib/python3.7/dist-packages/seaborn/distributions.py:2619: FutureWarning: `distplot` is a deprecated function and will be removed in a future version. Please adapt your code to use either `displot` (a figure-level function with similar flexibility) or `histplot` (an axes-level function for histograms).\n",
            "  warnings.warn(msg, FutureWarning)\n"
          ]
        },
        {
          "output_type": "execute_result",
          "data": {
            "text/plain": [
              "<matplotlib.axes._subplots.AxesSubplot at 0x7f2e7891fed0>"
            ]
          },
          "metadata": {},
          "execution_count": 913
        },
        {
          "output_type": "display_data",
          "data": {
            "text/plain": [
              "<Figure size 504x360 with 1 Axes>"
            ],
            "image/png": "[encoded data removed]"
          },
          "metadata": {
            "needs_background": "light"
          }
        }
      ]
    },
    {
      "cell_type": "code",
      "source": [
        "#y = dataFrame1[\"PM10\"].values\n",
        "#x = dataFrame1.drop(\"PM10\",axis=1).values\n",
        "y = dataFrame1[\"PM10\"].values\n",
        "x = dataFrame1.drop(\"PM10\",axis=1).values"
      ],
      "metadata": {
        "id": "0mnKiZKJJhQM"
      },
      "execution_count": 914,
      "outputs": []
    },
    {
      "cell_type": "code",
      "source": [
        "y"
      ],
      "metadata": {
        "colab": {
          "base_uri": "https://localhost:8080/"
        },
        "id": "Ofu8Xz1eMnib",
        "outputId": "4ef245c3-6701-4e44-fa37-d5f321eb2ad0"
      },
      "execution_count": 915,
      "outputs": [
        {
          "output_type": "execute_result",
          "data": {
            "text/plain": [
              "array([40.29, 60.78, 22.93, ..., 70.73, 51.39, 34.08])"
            ]
          },
          "metadata": {},
          "execution_count": 915
        }
      ]
    },
    {
      "cell_type": "code",
      "source": [
        "x"
      ],
      "metadata": {
        "colab": {
          "base_uri": "https://localhost:8080/"
        },
        "id": "n9T9nUU1Mo8X",
        "outputId": "1355f1c5-0594-43be-916c-c3b307f88b85"
      },
      "execution_count": 916,
      "outputs": [
        {
          "output_type": "execute_result",
          "data": {
            "text/plain": [
              "array([[   8.2 ,  759.85,  154.8 ,   93.71],\n",
              "       [   8.61, 1125.76,  272.05,  164.6 ],\n",
              "       [   7.42,  404.78,   10.32,    6.25],\n",
              "       ...,\n",
              "       [  12.89,  553.39,    2.11,    3.67],\n",
              "       [  12.49,  490.55,    2.11,    3.67],\n",
              "       [  12.36,  399.15,    2.09,    3.65]])"
            ]
          },
          "metadata": {},
          "execution_count": 916
        }
      ]
    },
    {
      "cell_type": "code",
      "source": [
        "from sklearn.model_selection import train_test_split\n"
      ],
      "metadata": {
        "id": "WsFrjmkINMbs"
      },
      "execution_count": 917,
      "outputs": []
    },
    {
      "cell_type": "code",
      "source": [
        "x_train, x_test, y_train, y_test = train_test_split(x,y,test_size=0.5,random_state=42)\n"
      ],
      "metadata": {
        "id": "5JxCfynjNPqh"
      },
      "execution_count": 918,
      "outputs": []
    },
    {
      "cell_type": "code",
      "source": [
        "len(x_train)"
      ],
      "metadata": {
        "colab": {
          "base_uri": "https://localhost:8080/"
        },
        "id": "6GcDyl4dNRm8",
        "outputId": "5d8b0b0c-e0a1-479c-a8f8-54bcd0130638"
      },
      "execution_count": 919,
      "outputs": [
        {
          "output_type": "execute_result",
          "data": {
            "text/plain": [
              "1212"
            ]
          },
          "metadata": {},
          "execution_count": 919
        }
      ]
    },
    {
      "cell_type": "code",
      "source": [
        "len(x_test)"
      ],
      "metadata": {
        "colab": {
          "base_uri": "https://localhost:8080/"
        },
        "id": "H44WGV-VT9TY",
        "outputId": "b1b9924c-0fe8-4901-e630-880f6b66249b"
      },
      "execution_count": 920,
      "outputs": [
        {
          "output_type": "execute_result",
          "data": {
            "text/plain": [
              "1212"
            ]
          },
          "metadata": {},
          "execution_count": 920
        }
      ]
    },
    {
      "cell_type": "code",
      "source": [
        "from sklearn.preprocessing import MinMaxScaler\n"
      ],
      "metadata": {
        "id": "ewqCJY9iNS-P"
      },
      "execution_count": 921,
      "outputs": []
    },
    {
      "cell_type": "code",
      "source": [
        "scaler = MinMaxScaler()"
      ],
      "metadata": {
        "id": "t8oia4b2NUCk"
      },
      "execution_count": 922,
      "outputs": []
    },
    {
      "cell_type": "code",
      "source": [
        "x_train = scaler.fit_transform(x_train)"
      ],
      "metadata": {
        "id": "wPi68AQlNVIP"
      },
      "execution_count": 923,
      "outputs": []
    },
    {
      "cell_type": "code",
      "source": [
        "x_test = scaler.transform(x_test)"
      ],
      "metadata": {
        "id": "2ADrS9tkNWO-"
      },
      "execution_count": 924,
      "outputs": []
    },
    {
      "cell_type": "code",
      "source": [
        "from tensorflow.keras.models import Sequential\n",
        "from tensorflow.keras.layers import Dense"
      ],
      "metadata": {
        "id": "netJ9n_VNX14"
      },
      "execution_count": 925,
      "outputs": []
    },
    {
      "cell_type": "code",
      "source": [
        "x_train.shape"
      ],
      "metadata": {
        "colab": {
          "base_uri": "https://localhost:8080/"
        },
        "id": "K5x6L4TwNZOq",
        "outputId": "bf299144-a4be-4ffc-ed8a-4ec6a348d3bf"
      },
      "execution_count": 926,
      "outputs": [
        {
          "output_type": "execute_result",
          "data": {
            "text/plain": [
              "(1212, 4)"
            ]
          },
          "metadata": {},
          "execution_count": 926
        }
      ]
    },
    {
      "cell_type": "code",
      "source": [
        "model = Sequential()\n",
        "\n",
        "model.add(Dense(18,activation=\"relu\"))\n",
        "model.add(Dense(18,activation=\"relu\"))\n",
        "model.add(Dense(18,activation=\"relu\"))\n",
        "model.add(Dense(18,activation=\"relu\"))\n",
        "\n",
        "model.add(Dense(1))\n",
        "\n",
        "model.compile(optimizer=\"adam\",loss=\"mse\")"
      ],
      "metadata": {
        "id": "jbHLU_4xNaoO"
      },
      "execution_count": 927,
      "outputs": []
    },
    {
      "cell_type": "code",
      "source": [
        "import tensorflow as tf\n",
        "from tensorflow.keras.models import Sequential\n",
        "from tensorflow.keras.layers import Dense, Activation, Dropout\n",
        "from tensorflow.keras.callbacks import EarlyStopping"
      ],
      "metadata": {
        "id": "GbPbWL1ucisQ"
      },
      "execution_count": 928,
      "outputs": []
    },
    {
      "cell_type": "code",
      "source": [
        "model.fit(x=x_train, y = y_train,epochs=300)\n"
      ],
      "metadata": {
        "colab": {
          "base_uri": "https://localhost:8080/"
        },
        "id": "7XGKtai_Nbhe",
        "outputId": "2ac7c4f1-363e-4cce-d387-2d92ba5c17d8"
      },
      "execution_count": 929,
      "outputs": [
        {
          "output_type": "stream",
          "name": "stdout",
          "text": [
            "Epoch 1/300\n",
            "38/38 [==============================] - 1s 3ms/step - loss: 2039.1351\n",
            "Epoch 2/300\n",
            "38/38 [==============================] - 0s 3ms/step - loss: 1979.9552\n",
            "Epoch 3/300\n",
            "38/38 [==============================] - 0s 2ms/step - loss: 1676.6620\n",
            "Epoch 4/300\n",
            "38/38 [==============================] - 0s 2ms/step - loss: 819.7283\n",
            "Epoch 5/300\n",
            "38/38 [==============================] - 0s 2ms/step - loss: 484.9889\n",
            "Epoch 6/300\n",
            "38/38 [==============================] - 0s 3ms/step - loss: 475.8672\n",
            "Epoch 7/300\n",
            "38/38 [==============================] - 0s 2ms/step - loss: 473.9964\n",
            "Epoch 8/300\n",
            "38/38 [==============================] - 0s 3ms/step - loss: 470.4951\n",
            "Epoch 9/300\n",
            "38/38 [==============================] - 0s 2ms/step - loss: 468.3018\n",
            "Epoch 10/300\n",
            "38/38 [==============================] - 0s 3ms/step - loss: 472.1184\n",
            "Epoch 11/300\n",
            "38/38 [==============================] - 0s 4ms/step - loss: 465.7857\n",
            "Epoch 12/300\n",
            "38/38 [==============================] - 0s 2ms/step - loss: 465.9189\n",
            "Epoch 13/300\n",
            "38/38 [==============================] - 0s 3ms/step - loss: 465.8286\n",
            "Epoch 14/300\n",
            "38/38 [==============================] - 0s 3ms/step - loss: 463.7748\n",
            "Epoch 15/300\n",
            "38/38 [==============================] - 0s 2ms/step - loss: 463.6958\n",
            "Epoch 16/300\n",
            "38/38 [==============================] - 0s 3ms/step - loss: 462.5147\n",
            "Epoch 17/300\n",
            "38/38 [==============================] - 0s 3ms/step - loss: 462.6509\n",
            "Epoch 18/300\n",
            "38/38 [==============================] - 0s 2ms/step - loss: 460.8579\n",
            "Epoch 19/300\n",
            "38/38 [==============================] - 0s 2ms/step - loss: 461.6956\n",
            "Epoch 20/300\n",
            "38/38 [==============================] - 0s 2ms/step - loss: 461.0349\n",
            "Epoch 21/300\n",
            "38/38 [==============================] - 0s 3ms/step - loss: 460.4350\n",
            "Epoch 22/300\n",
            "38/38 [==============================] - 0s 2ms/step - loss: 460.0051\n",
            "Epoch 23/300\n",
            "38/38 [==============================] - 0s 3ms/step - loss: 459.7961\n",
            "Epoch 24/300\n",
            "38/38 [==============================] - 0s 3ms/step - loss: 460.5546\n",
            "Epoch 25/300\n",
            "38/38 [==============================] - 0s 3ms/step - loss: 460.0483\n",
            "Epoch 26/300\n",
            "38/38 [==============================] - 0s 3ms/step - loss: 460.5487\n",
            "Epoch 27/300\n",
            "38/38 [==============================] - 0s 3ms/step - loss: 458.5863\n",
            "Epoch 28/300\n",
            "38/38 [==============================] - 0s 2ms/step - loss: 459.5715\n",
            "Epoch 29/300\n",
            "38/38 [==============================] - 0s 3ms/step - loss: 459.4772\n",
            "Epoch 30/300\n",
            "38/38 [==============================] - 0s 3ms/step - loss: 457.9133\n",
            "Epoch 31/300\n",
            "38/38 [==============================] - 0s 3ms/step - loss: 458.3659\n",
            "Epoch 32/300\n",
            "38/38 [==============================] - 0s 5ms/step - loss: 457.7030\n",
            "Epoch 33/300\n",
            "38/38 [==============================] - 0s 5ms/step - loss: 459.2553\n",
            "Epoch 34/300\n",
            "38/38 [==============================] - 0s 5ms/step - loss: 458.8011\n",
            "Epoch 35/300\n",
            "38/38 [==============================] - 0s 5ms/step - loss: 458.6272\n",
            "Epoch 36/300\n",
            "38/38 [==============================] - 0s 4ms/step - loss: 457.4662\n",
            "Epoch 37/300\n",
            "38/38 [==============================] - 0s 4ms/step - loss: 458.6316\n",
            "Epoch 38/300\n",
            "38/38 [==============================] - 0s 4ms/step - loss: 457.2586\n",
            "Epoch 39/300\n",
            "38/38 [==============================] - 0s 5ms/step - loss: 458.0297\n",
            "Epoch 40/300\n",
            "38/38 [==============================] - 0s 4ms/step - loss: 456.7502\n",
            "Epoch 41/300\n",
            "38/38 [==============================] - 0s 4ms/step - loss: 457.6689\n",
            "Epoch 42/300\n",
            "38/38 [==============================] - 0s 5ms/step - loss: 458.8246\n",
            "Epoch 43/300\n",
            "38/38 [==============================] - 0s 5ms/step - loss: 456.6968\n",
            "Epoch 44/300\n",
            "38/38 [==============================] - 0s 4ms/step - loss: 456.6846\n",
            "Epoch 45/300\n",
            "38/38 [==============================] - 0s 4ms/step - loss: 455.8009\n",
            "Epoch 46/300\n",
            "38/38 [==============================] - 0s 4ms/step - loss: 456.1455\n",
            "Epoch 47/300\n",
            "38/38 [==============================] - 0s 5ms/step - loss: 457.0989\n",
            "Epoch 48/300\n",
            "38/38 [==============================] - 0s 5ms/step - loss: 456.3141\n",
            "Epoch 49/300\n",
            "38/38 [==============================] - 0s 5ms/step - loss: 456.2974\n",
            "Epoch 50/300\n",
            "38/38 [==============================] - 0s 4ms/step - loss: 456.9565\n",
            "Epoch 51/300\n",
            "38/38 [==============================] - 0s 3ms/step - loss: 456.0499\n",
            "Epoch 52/300\n",
            "38/38 [==============================] - 0s 3ms/step - loss: 455.0871\n",
            "Epoch 53/300\n",
            "38/38 [==============================] - 0s 3ms/step - loss: 455.1272\n",
            "Epoch 54/300\n",
            "38/38 [==============================] - 0s 3ms/step - loss: 455.2834\n",
            "Epoch 55/300\n",
            "38/38 [==============================] - 0s 3ms/step - loss: 455.0815\n",
            "Epoch 56/300\n",
            "38/38 [==============================] - 0s 2ms/step - loss: 455.4335\n",
            "Epoch 57/300\n",
            "38/38 [==============================] - 0s 3ms/step - loss: 454.9002\n",
            "Epoch 58/300\n",
            "38/38 [==============================] - 0s 2ms/step - loss: 455.1142\n",
            "Epoch 59/300\n",
            "38/38 [==============================] - 0s 2ms/step - loss: 455.5479\n",
            "Epoch 60/300\n",
            "38/38 [==============================] - 0s 2ms/step - loss: 455.3089\n",
            "Epoch 61/300\n",
            "38/38 [==============================] - 0s 2ms/step - loss: 455.9062\n",
            "Epoch 62/300\n",
            "38/38 [==============================] - 0s 2ms/step - loss: 454.0110\n",
            "Epoch 63/300\n",
            "38/38 [==============================] - 0s 3ms/step - loss: 453.8924\n",
            "Epoch 64/300\n",
            "38/38 [==============================] - 0s 2ms/step - loss: 453.8754\n",
            "Epoch 65/300\n",
            "38/38 [==============================] - 0s 2ms/step - loss: 453.4317\n",
            "Epoch 66/300\n",
            "38/38 [==============================] - 0s 3ms/step - loss: 453.5505\n",
            "Epoch 67/300\n",
            "38/38 [==============================] - 0s 2ms/step - loss: 453.9492\n",
            "Epoch 68/300\n",
            "38/38 [==============================] - 0s 2ms/step - loss: 453.0722\n",
            "Epoch 69/300\n",
            "38/38 [==============================] - 0s 2ms/step - loss: 452.7018\n",
            "Epoch 70/300\n",
            "38/38 [==============================] - 0s 3ms/step - loss: 454.2748\n",
            "Epoch 71/300\n",
            "38/38 [==============================] - 0s 2ms/step - loss: 452.3466\n",
            "Epoch 72/300\n",
            "38/38 [==============================] - 0s 2ms/step - loss: 452.7442\n",
            "Epoch 73/300\n",
            "38/38 [==============================] - 0s 2ms/step - loss: 452.0795\n",
            "Epoch 74/300\n",
            "38/38 [==============================] - 0s 3ms/step - loss: 453.3906\n",
            "Epoch 75/300\n",
            "38/38 [==============================] - 0s 3ms/step - loss: 453.0711\n",
            "Epoch 76/300\n",
            "38/38 [==============================] - 0s 2ms/step - loss: 453.2626\n",
            "Epoch 77/300\n",
            "38/38 [==============================] - 0s 3ms/step - loss: 454.7881\n",
            "Epoch 78/300\n",
            "38/38 [==============================] - 0s 2ms/step - loss: 454.0762\n",
            "Epoch 79/300\n",
            "38/38 [==============================] - 0s 2ms/step - loss: 450.9252\n",
            "Epoch 80/300\n",
            "38/38 [==============================] - 0s 3ms/step - loss: 450.2549\n",
            "Epoch 81/300\n",
            "38/38 [==============================] - 0s 3ms/step - loss: 450.9826\n",
            "Epoch 82/300\n",
            "38/38 [==============================] - 0s 3ms/step - loss: 450.8046\n",
            "Epoch 83/300\n",
            "38/38 [==============================] - 0s 3ms/step - loss: 454.0237\n",
            "Epoch 84/300\n",
            "38/38 [==============================] - 0s 3ms/step - loss: 450.6965\n",
            "Epoch 85/300\n",
            "38/38 [==============================] - 0s 3ms/step - loss: 450.1237\n",
            "Epoch 86/300\n",
            "38/38 [==============================] - 0s 3ms/step - loss: 449.0894\n",
            "Epoch 87/300\n",
            "38/38 [==============================] - 0s 2ms/step - loss: 453.5008\n",
            "Epoch 88/300\n",
            "38/38 [==============================] - 0s 3ms/step - loss: 450.3305\n",
            "Epoch 89/300\n",
            "38/38 [==============================] - 0s 3ms/step - loss: 449.9861\n",
            "Epoch 90/300\n",
            "38/38 [==============================] - 0s 2ms/step - loss: 450.1516\n",
            "Epoch 91/300\n",
            "38/38 [==============================] - 0s 3ms/step - loss: 449.5667\n",
            "Epoch 92/300\n",
            "38/38 [==============================] - 0s 3ms/step - loss: 447.7408\n",
            "Epoch 93/300\n",
            "38/38 [==============================] - 0s 3ms/step - loss: 449.8519\n",
            "Epoch 94/300\n",
            "38/38 [==============================] - 0s 3ms/step - loss: 451.2290\n",
            "Epoch 95/300\n",
            "38/38 [==============================] - 0s 3ms/step - loss: 448.7013\n",
            "Epoch 96/300\n",
            "38/38 [==============================] - 0s 2ms/step - loss: 448.4002\n",
            "Epoch 97/300\n",
            "38/38 [==============================] - 0s 2ms/step - loss: 447.9866\n",
            "Epoch 98/300\n",
            "38/38 [==============================] - 0s 2ms/step - loss: 448.9408\n",
            "Epoch 99/300\n",
            "38/38 [==============================] - 0s 3ms/step - loss: 448.1720\n",
            "Epoch 100/300\n",
            "38/38 [==============================] - 0s 2ms/step - loss: 447.0367\n",
            "Epoch 101/300\n",
            "38/38 [==============================] - 0s 3ms/step - loss: 451.4102\n",
            "Epoch 102/300\n",
            "38/38 [==============================] - 0s 2ms/step - loss: 448.5729\n",
            "Epoch 103/300\n",
            "38/38 [==============================] - 0s 2ms/step - loss: 447.8464\n",
            "Epoch 104/300\n",
            "38/38 [==============================] - 0s 3ms/step - loss: 449.0398\n",
            "Epoch 105/300\n",
            "38/38 [==============================] - 0s 2ms/step - loss: 449.8517\n",
            "Epoch 106/300\n",
            "38/38 [==============================] - 0s 2ms/step - loss: 449.7689\n",
            "Epoch 107/300\n",
            "38/38 [==============================] - 0s 2ms/step - loss: 446.8630\n",
            "Epoch 108/300\n",
            "38/38 [==============================] - 0s 2ms/step - loss: 447.6525\n",
            "Epoch 109/300\n",
            "38/38 [==============================] - 0s 2ms/step - loss: 447.0081\n",
            "Epoch 110/300\n",
            "38/38 [==============================] - 0s 2ms/step - loss: 447.3106\n",
            "Epoch 111/300\n",
            "38/38 [==============================] - 0s 3ms/step - loss: 447.1333\n",
            "Epoch 112/300\n",
            "38/38 [==============================] - 0s 2ms/step - loss: 447.1244\n",
            "Epoch 113/300\n",
            "38/38 [==============================] - 0s 2ms/step - loss: 446.9069\n",
            "Epoch 114/300\n",
            "38/38 [==============================] - 0s 2ms/step - loss: 446.2846\n",
            "Epoch 115/300\n",
            "38/38 [==============================] - 0s 2ms/step - loss: 446.4318\n",
            "Epoch 116/300\n",
            "38/38 [==============================] - 0s 2ms/step - loss: 446.8458\n",
            "Epoch 117/300\n",
            "38/38 [==============================] - 0s 2ms/step - loss: 445.6233\n",
            "Epoch 118/300\n",
            "38/38 [==============================] - 0s 2ms/step - loss: 445.5676\n",
            "Epoch 119/300\n",
            "38/38 [==============================] - 0s 3ms/step - loss: 446.0293\n",
            "Epoch 120/300\n",
            "38/38 [==============================] - 0s 2ms/step - loss: 445.8213\n",
            "Epoch 121/300\n",
            "38/38 [==============================] - 0s 3ms/step - loss: 445.4352\n",
            "Epoch 122/300\n",
            "38/38 [==============================] - 0s 2ms/step - loss: 446.3780\n",
            "Epoch 123/300\n",
            "38/38 [==============================] - 0s 2ms/step - loss: 446.0034\n",
            "Epoch 124/300\n",
            "38/38 [==============================] - 0s 2ms/step - loss: 445.8717\n",
            "Epoch 125/300\n",
            "38/38 [==============================] - 0s 2ms/step - loss: 444.3392\n",
            "Epoch 126/300\n",
            "38/38 [==============================] - 0s 2ms/step - loss: 445.8640\n",
            "Epoch 127/300\n",
            "38/38 [==============================] - 0s 3ms/step - loss: 444.6521\n",
            "Epoch 128/300\n",
            "38/38 [==============================] - 0s 2ms/step - loss: 445.2321\n",
            "Epoch 129/300\n",
            "38/38 [==============================] - 0s 2ms/step - loss: 445.1421\n",
            "Epoch 130/300\n",
            "38/38 [==============================] - 0s 2ms/step - loss: 444.7555\n",
            "Epoch 131/300\n",
            "38/38 [==============================] - 0s 3ms/step - loss: 446.1183\n",
            "Epoch 132/300\n",
            "38/38 [==============================] - 0s 2ms/step - loss: 446.3124\n",
            "Epoch 133/300\n",
            "38/38 [==============================] - 0s 3ms/step - loss: 445.6503\n",
            "Epoch 134/300\n",
            "38/38 [==============================] - 0s 2ms/step - loss: 444.4267\n",
            "Epoch 135/300\n",
            "38/38 [==============================] - 0s 2ms/step - loss: 443.5339\n",
            "Epoch 136/300\n",
            "38/38 [==============================] - 0s 3ms/step - loss: 444.8252\n",
            "Epoch 137/300\n",
            "38/38 [==============================] - 0s 3ms/step - loss: 444.1308\n",
            "Epoch 138/300\n",
            "38/38 [==============================] - 0s 2ms/step - loss: 445.4822\n",
            "Epoch 139/300\n",
            "38/38 [==============================] - 0s 3ms/step - loss: 443.6871\n",
            "Epoch 140/300\n",
            "38/38 [==============================] - 0s 3ms/step - loss: 446.2852\n",
            "Epoch 141/300\n",
            "38/38 [==============================] - 0s 3ms/step - loss: 444.9546\n",
            "Epoch 142/300\n",
            "38/38 [==============================] - 0s 2ms/step - loss: 446.4338\n",
            "Epoch 143/300\n",
            "38/38 [==============================] - 0s 3ms/step - loss: 444.9419\n",
            "Epoch 144/300\n",
            "38/38 [==============================] - 0s 3ms/step - loss: 444.1579\n",
            "Epoch 145/300\n",
            "38/38 [==============================] - 0s 3ms/step - loss: 443.5402\n",
            "Epoch 146/300\n",
            "38/38 [==============================] - 0s 2ms/step - loss: 444.5865\n",
            "Epoch 147/300\n",
            "38/38 [==============================] - 0s 3ms/step - loss: 443.0722\n",
            "Epoch 148/300\n",
            "38/38 [==============================] - 0s 2ms/step - loss: 444.7401\n",
            "Epoch 149/300\n",
            "38/38 [==============================] - 0s 3ms/step - loss: 444.2459\n",
            "Epoch 150/300\n",
            "38/38 [==============================] - 0s 2ms/step - loss: 444.5943\n",
            "Epoch 151/300\n",
            "38/38 [==============================] - 0s 3ms/step - loss: 442.1967\n",
            "Epoch 152/300\n",
            "38/38 [==============================] - 0s 2ms/step - loss: 444.2817\n",
            "Epoch 153/300\n",
            "38/38 [==============================] - 0s 3ms/step - loss: 444.7064\n",
            "Epoch 154/300\n",
            "38/38 [==============================] - 0s 2ms/step - loss: 442.8936\n",
            "Epoch 155/300\n",
            "38/38 [==============================] - 0s 2ms/step - loss: 444.1846\n",
            "Epoch 156/300\n",
            "38/38 [==============================] - 0s 2ms/step - loss: 445.9257\n",
            "Epoch 157/300\n",
            "38/38 [==============================] - 0s 3ms/step - loss: 443.6349\n",
            "Epoch 158/300\n",
            "38/38 [==============================] - 0s 3ms/step - loss: 443.1397\n",
            "Epoch 159/300\n",
            "38/38 [==============================] - 0s 2ms/step - loss: 444.0268\n",
            "Epoch 160/300\n",
            "38/38 [==============================] - 0s 3ms/step - loss: 443.1569\n",
            "Epoch 161/300\n",
            "38/38 [==============================] - 0s 3ms/step - loss: 442.7438\n",
            "Epoch 162/300\n",
            "38/38 [==============================] - 0s 2ms/step - loss: 444.9095\n",
            "Epoch 163/300\n",
            "38/38 [==============================] - 0s 3ms/step - loss: 442.4991\n",
            "Epoch 164/300\n",
            "38/38 [==============================] - 0s 3ms/step - loss: 442.5002\n",
            "Epoch 165/300\n",
            "38/38 [==============================] - 0s 3ms/step - loss: 443.6623\n",
            "Epoch 166/300\n",
            "38/38 [==============================] - 0s 3ms/step - loss: 443.1039\n",
            "Epoch 167/300\n",
            "38/38 [==============================] - 0s 3ms/step - loss: 442.3000\n",
            "Epoch 168/300\n",
            "38/38 [==============================] - 0s 3ms/step - loss: 442.8488\n",
            "Epoch 169/300\n",
            "38/38 [==============================] - 0s 2ms/step - loss: 442.8758\n",
            "Epoch 170/300\n",
            "38/38 [==============================] - 0s 3ms/step - loss: 441.6545\n",
            "Epoch 171/300\n",
            "38/38 [==============================] - 0s 2ms/step - loss: 441.9720\n",
            "Epoch 172/300\n",
            "38/38 [==============================] - 0s 2ms/step - loss: 444.0630\n",
            "Epoch 173/300\n",
            "38/38 [==============================] - 0s 3ms/step - loss: 442.5977\n",
            "Epoch 174/300\n",
            "38/38 [==============================] - 0s 3ms/step - loss: 442.5260\n",
            "Epoch 175/300\n",
            "38/38 [==============================] - 0s 3ms/step - loss: 441.5227\n",
            "Epoch 176/300\n",
            "38/38 [==============================] - 0s 3ms/step - loss: 441.6952\n",
            "Epoch 177/300\n",
            "38/38 [==============================] - 0s 3ms/step - loss: 442.0625\n",
            "Epoch 178/300\n",
            "38/38 [==============================] - 0s 3ms/step - loss: 442.9331\n",
            "Epoch 179/300\n",
            "38/38 [==============================] - 0s 3ms/step - loss: 442.2043\n",
            "Epoch 180/300\n",
            "38/38 [==============================] - 0s 3ms/step - loss: 443.1382\n",
            "Epoch 181/300\n",
            "38/38 [==============================] - 0s 3ms/step - loss: 444.0956\n",
            "Epoch 182/300\n",
            "38/38 [==============================] - 0s 3ms/step - loss: 441.5515\n",
            "Epoch 183/300\n",
            "38/38 [==============================] - 0s 3ms/step - loss: 441.6424\n",
            "Epoch 184/300\n",
            "38/38 [==============================] - 0s 3ms/step - loss: 441.6452\n",
            "Epoch 185/300\n",
            "38/38 [==============================] - 0s 3ms/step - loss: 442.3574\n",
            "Epoch 186/300\n",
            "38/38 [==============================] - 0s 3ms/step - loss: 449.4841\n",
            "Epoch 187/300\n",
            "38/38 [==============================] - 0s 3ms/step - loss: 441.8757\n",
            "Epoch 188/300\n",
            "38/38 [==============================] - 0s 3ms/step - loss: 441.7330\n",
            "Epoch 189/300\n",
            "38/38 [==============================] - 0s 3ms/step - loss: 442.2721\n",
            "Epoch 190/300\n",
            "38/38 [==============================] - 0s 3ms/step - loss: 441.7558\n",
            "Epoch 191/300\n",
            "38/38 [==============================] - 0s 3ms/step - loss: 445.0350\n",
            "Epoch 192/300\n",
            "38/38 [==============================] - 0s 2ms/step - loss: 440.4117\n",
            "Epoch 193/300\n",
            "38/38 [==============================] - 0s 3ms/step - loss: 442.5092\n",
            "Epoch 194/300\n",
            "38/38 [==============================] - 0s 3ms/step - loss: 442.7993\n",
            "Epoch 195/300\n",
            "38/38 [==============================] - 0s 3ms/step - loss: 440.7845\n",
            "Epoch 196/300\n",
            "38/38 [==============================] - 0s 3ms/step - loss: 444.2694\n",
            "Epoch 197/300\n",
            "38/38 [==============================] - 0s 2ms/step - loss: 442.7532\n",
            "Epoch 198/300\n",
            "38/38 [==============================] - 0s 3ms/step - loss: 440.8404\n",
            "Epoch 199/300\n",
            "38/38 [==============================] - 0s 3ms/step - loss: 441.5827\n",
            "Epoch 200/300\n",
            "38/38 [==============================] - 0s 4ms/step - loss: 441.0383\n",
            "Epoch 201/300\n",
            "38/38 [==============================] - 0s 3ms/step - loss: 440.8662\n",
            "Epoch 202/300\n",
            "38/38 [==============================] - 0s 3ms/step - loss: 441.7994\n",
            "Epoch 203/300\n",
            "38/38 [==============================] - 0s 3ms/step - loss: 442.3547\n",
            "Epoch 204/300\n",
            "38/38 [==============================] - 0s 2ms/step - loss: 442.2038\n",
            "Epoch 205/300\n",
            "38/38 [==============================] - 0s 3ms/step - loss: 441.4580\n",
            "Epoch 206/300\n",
            "38/38 [==============================] - 0s 3ms/step - loss: 440.2354\n",
            "Epoch 207/300\n",
            "38/38 [==============================] - 0s 3ms/step - loss: 440.5135\n",
            "Epoch 208/300\n",
            "38/38 [==============================] - 0s 3ms/step - loss: 440.5469\n",
            "Epoch 209/300\n",
            "38/38 [==============================] - 0s 2ms/step - loss: 441.6408\n",
            "Epoch 210/300\n",
            "38/38 [==============================] - 0s 2ms/step - loss: 441.7915\n",
            "Epoch 211/300\n",
            "38/38 [==============================] - 0s 3ms/step - loss: 444.7258\n",
            "Epoch 212/300\n",
            "38/38 [==============================] - 0s 2ms/step - loss: 438.8679\n",
            "Epoch 213/300\n",
            "38/38 [==============================] - 0s 3ms/step - loss: 443.5139\n",
            "Epoch 214/300\n",
            "38/38 [==============================] - 0s 3ms/step - loss: 445.9956\n",
            "Epoch 215/300\n",
            "38/38 [==============================] - 0s 3ms/step - loss: 443.2683\n",
            "Epoch 216/300\n",
            "38/38 [==============================] - 0s 3ms/step - loss: 441.5776\n",
            "Epoch 217/300\n",
            "38/38 [==============================] - 0s 2ms/step - loss: 441.3148\n",
            "Epoch 218/300\n",
            "38/38 [==============================] - 0s 3ms/step - loss: 440.9385\n",
            "Epoch 219/300\n",
            "38/38 [==============================] - 0s 4ms/step - loss: 443.2541\n",
            "Epoch 220/300\n",
            "38/38 [==============================] - 0s 2ms/step - loss: 442.1234\n",
            "Epoch 221/300\n",
            "38/38 [==============================] - 0s 3ms/step - loss: 439.9762\n",
            "Epoch 222/300\n",
            "38/38 [==============================] - 0s 3ms/step - loss: 440.5967\n",
            "Epoch 223/300\n",
            "38/38 [==============================] - 0s 3ms/step - loss: 439.8164\n",
            "Epoch 224/300\n",
            "38/38 [==============================] - 0s 3ms/step - loss: 442.4830\n",
            "Epoch 225/300\n",
            "38/38 [==============================] - 0s 2ms/step - loss: 439.5501\n",
            "Epoch 226/300\n",
            "38/38 [==============================] - 0s 2ms/step - loss: 442.4555\n",
            "Epoch 227/300\n",
            "38/38 [==============================] - 0s 2ms/step - loss: 440.9951\n",
            "Epoch 228/300\n",
            "38/38 [==============================] - 0s 3ms/step - loss: 441.6835\n",
            "Epoch 229/300\n",
            "38/38 [==============================] - 0s 2ms/step - loss: 439.0665\n",
            "Epoch 230/300\n",
            "38/38 [==============================] - 0s 2ms/step - loss: 439.1159\n",
            "Epoch 231/300\n",
            "38/38 [==============================] - 0s 3ms/step - loss: 440.4258\n",
            "Epoch 232/300\n",
            "38/38 [==============================] - 0s 3ms/step - loss: 439.2054\n",
            "Epoch 233/300\n",
            "38/38 [==============================] - 0s 3ms/step - loss: 439.4211\n",
            "Epoch 234/300\n",
            "38/38 [==============================] - 0s 3ms/step - loss: 443.6677\n",
            "Epoch 235/300\n",
            "38/38 [==============================] - 0s 3ms/step - loss: 438.8455\n",
            "Epoch 236/300\n",
            "38/38 [==============================] - 0s 3ms/step - loss: 439.5798\n",
            "Epoch 237/300\n",
            "38/38 [==============================] - 0s 3ms/step - loss: 441.2622\n",
            "Epoch 238/300\n",
            "38/38 [==============================] - 0s 3ms/step - loss: 440.7436\n",
            "Epoch 239/300\n",
            "38/38 [==============================] - 0s 3ms/step - loss: 440.9156\n",
            "Epoch 240/300\n",
            "38/38 [==============================] - 0s 2ms/step - loss: 439.8474\n",
            "Epoch 241/300\n",
            "38/38 [==============================] - 0s 2ms/step - loss: 439.4222\n",
            "Epoch 242/300\n",
            "38/38 [==============================] - 0s 2ms/step - loss: 439.5253\n",
            "Epoch 243/300\n",
            "38/38 [==============================] - 0s 3ms/step - loss: 438.9169\n",
            "Epoch 244/300\n",
            "38/38 [==============================] - 0s 3ms/step - loss: 439.3004\n",
            "Epoch 245/300\n",
            "38/38 [==============================] - 0s 2ms/step - loss: 439.2947\n",
            "Epoch 246/300\n",
            "38/38 [==============================] - 0s 3ms/step - loss: 440.0737\n",
            "Epoch 247/300\n",
            "38/38 [==============================] - 0s 3ms/step - loss: 438.3566\n",
            "Epoch 248/300\n",
            "38/38 [==============================] - 0s 3ms/step - loss: 439.5804\n",
            "Epoch 249/300\n",
            "38/38 [==============================] - 0s 3ms/step - loss: 440.8686\n",
            "Epoch 250/300\n",
            "38/38 [==============================] - 0s 2ms/step - loss: 438.8990\n",
            "Epoch 251/300\n",
            "38/38 [==============================] - 0s 3ms/step - loss: 439.0830\n",
            "Epoch 252/300\n",
            "38/38 [==============================] - 0s 3ms/step - loss: 441.1986\n",
            "Epoch 253/300\n",
            "38/38 [==============================] - 0s 3ms/step - loss: 439.8134\n",
            "Epoch 254/300\n",
            "38/38 [==============================] - 0s 3ms/step - loss: 439.2746\n",
            "Epoch 255/300\n",
            "38/38 [==============================] - 0s 3ms/step - loss: 438.3730\n",
            "Epoch 256/300\n",
            "38/38 [==============================] - 0s 3ms/step - loss: 439.1418\n",
            "Epoch 257/300\n",
            "38/38 [==============================] - 0s 3ms/step - loss: 437.9779\n",
            "Epoch 258/300\n",
            "38/38 [==============================] - 0s 2ms/step - loss: 438.6985\n",
            "Epoch 259/300\n",
            "38/38 [==============================] - 0s 3ms/step - loss: 437.5602\n",
            "Epoch 260/300\n",
            "38/38 [==============================] - 0s 3ms/step - loss: 441.2943\n",
            "Epoch 261/300\n",
            "38/38 [==============================] - 0s 3ms/step - loss: 439.4319\n",
            "Epoch 262/300\n",
            "38/38 [==============================] - 0s 3ms/step - loss: 439.5605\n",
            "Epoch 263/300\n",
            "38/38 [==============================] - 0s 2ms/step - loss: 439.4291\n",
            "Epoch 264/300\n",
            "38/38 [==============================] - 0s 3ms/step - loss: 437.5390\n",
            "Epoch 265/300\n",
            "38/38 [==============================] - 0s 3ms/step - loss: 439.3842\n",
            "Epoch 266/300\n",
            "38/38 [==============================] - 0s 3ms/step - loss: 437.5566\n",
            "Epoch 267/300\n",
            "38/38 [==============================] - 0s 3ms/step - loss: 437.1012\n",
            "Epoch 268/300\n",
            "38/38 [==============================] - 0s 2ms/step - loss: 437.0498\n",
            "Epoch 269/300\n",
            "38/38 [==============================] - 0s 3ms/step - loss: 437.4312\n",
            "Epoch 270/300\n",
            "38/38 [==============================] - 0s 3ms/step - loss: 437.2366\n",
            "Epoch 271/300\n",
            "38/38 [==============================] - 0s 3ms/step - loss: 439.3881\n",
            "Epoch 272/300\n",
            "38/38 [==============================] - 0s 2ms/step - loss: 439.1403\n",
            "Epoch 273/300\n",
            "38/38 [==============================] - 0s 3ms/step - loss: 437.4468\n",
            "Epoch 274/300\n",
            "38/38 [==============================] - 0s 3ms/step - loss: 440.4112\n",
            "Epoch 275/300\n",
            "38/38 [==============================] - 0s 3ms/step - loss: 437.5867\n",
            "Epoch 276/300\n",
            "38/38 [==============================] - 0s 3ms/step - loss: 438.7886\n",
            "Epoch 277/300\n",
            "38/38 [==============================] - 0s 3ms/step - loss: 437.2389\n",
            "Epoch 278/300\n",
            "38/38 [==============================] - 0s 3ms/step - loss: 436.8979\n",
            "Epoch 279/300\n",
            "38/38 [==============================] - 0s 4ms/step - loss: 436.4028\n",
            "Epoch 280/300\n",
            "38/38 [==============================] - 0s 4ms/step - loss: 439.3476\n",
            "Epoch 281/300\n",
            "38/38 [==============================] - 0s 5ms/step - loss: 437.6539\n",
            "Epoch 282/300\n",
            "38/38 [==============================] - 0s 4ms/step - loss: 437.3577\n",
            "Epoch 283/300\n",
            "38/38 [==============================] - 0s 4ms/step - loss: 437.5349\n",
            "Epoch 284/300\n",
            "38/38 [==============================] - 0s 4ms/step - loss: 437.6811\n",
            "Epoch 285/300\n",
            "38/38 [==============================] - 0s 4ms/step - loss: 437.3072\n",
            "Epoch 286/300\n",
            "38/38 [==============================] - 0s 4ms/step - loss: 438.0812\n",
            "Epoch 287/300\n",
            "38/38 [==============================] - 0s 4ms/step - loss: 437.5495\n",
            "Epoch 288/300\n",
            "38/38 [==============================] - 0s 4ms/step - loss: 437.2985\n",
            "Epoch 289/300\n",
            "38/38 [==============================] - 0s 4ms/step - loss: 436.4913\n",
            "Epoch 290/300\n",
            "38/38 [==============================] - 0s 5ms/step - loss: 439.5271\n",
            "Epoch 291/300\n",
            "38/38 [==============================] - 0s 4ms/step - loss: 436.4869\n",
            "Epoch 292/300\n",
            "38/38 [==============================] - 0s 4ms/step - loss: 436.5026\n",
            "Epoch 293/300\n",
            "38/38 [==============================] - 0s 4ms/step - loss: 437.3742\n",
            "Epoch 294/300\n",
            "38/38 [==============================] - 0s 4ms/step - loss: 438.4261\n",
            "Epoch 295/300\n",
            "38/38 [==============================] - 0s 4ms/step - loss: 436.8929\n",
            "Epoch 296/300\n",
            "38/38 [==============================] - 0s 4ms/step - loss: 436.3141\n",
            "Epoch 297/300\n",
            "38/38 [==============================] - 0s 4ms/step - loss: 438.1081\n",
            "Epoch 298/300\n",
            "38/38 [==============================] - 0s 4ms/step - loss: 441.9551\n",
            "Epoch 299/300\n",
            "38/38 [==============================] - 0s 4ms/step - loss: 436.0913\n",
            "Epoch 300/300\n",
            "38/38 [==============================] - 0s 4ms/step - loss: 437.7084\n"
          ]
        },
        {
          "output_type": "execute_result",
          "data": {
            "text/plain": [
              "<keras.callbacks.History at 0x7f2e78827e50>"
            ]
          },
          "metadata": {},
          "execution_count": 929
        }
      ]
    },
    {
      "cell_type": "code",
      "source": [
        "kayipveri=pd.DataFrame(model.history.history)\n",
        "kayipveri\n"
      ],
      "metadata": {
        "colab": {
          "base_uri": "https://localhost:8080/",
          "height": 424
        },
        "id": "rbIsSReibRLZ",
        "outputId": "cd292c6d-6d81-4de5-87db-c461e000087a"
      },
      "execution_count": 930,
      "outputs": [
        {
          "output_type": "execute_result",
          "data": {
            "text/plain": [
              "            loss\n",
              "0    2039.135132\n",
              "1    1979.955200\n",
              "2    1676.661987\n",
              "3     819.728333\n",
              "4     484.988922\n",
              "..           ...\n",
              "295   436.314148\n",
              "296   438.108124\n",
              "297   441.955078\n",
              "298   436.091278\n",
              "299   437.708374\n",
              "\n",
              "[300 rows x 1 columns]"
            ],
            "text/html": [
              "\n",
              "  <div id=\"df-281a5036-ba55-4f8e-b674-503f90321a37\">\n",
              "    <div class=\"colab-df-container\">\n",
              "      <div>\n",
              "<style scoped>\n",
              "    .dataframe tbody tr th:only-of-type {\n",
              "        vertical-align: middle;\n",
              "    }\n",
              "\n",
              "    .dataframe tbody tr th {\n",
              "        vertical-align: top;\n",
              "    }\n",
              "\n",
              "    .dataframe thead th {\n",
              "        text-align: right;\n",
              "    }\n",
              "</style>\n",
              "<table border=\"1\" class=\"dataframe\">\n",
              "  <thead>\n",
              "    <tr style=\"text-align: right;\">\n",
              "      <th></th>\n",
              "      <th>loss</th>\n",
              "    </tr>\n",
              "  </thead>\n",
              "  <tbody>\n",
              "    <tr>\n",
              "      <th>0</th>\n",
              "      <td>2039.135132</td>\n",
              "    </tr>\n",
              "    <tr>\n",
              "      <th>1</th>\n",
              "      <td>1979.955200</td>\n",
              "    </tr>\n",
              "    <tr>\n",
              "      <th>2</th>\n",
              "      <td>1676.661987</td>\n",
              "    </tr>\n",
              "    <tr>\n",
              "      <th>3</th>\n",
              "      <td>819.728333</td>\n",
              "    </tr>\n",
              "    <tr>\n",
              "      <th>4</th>\n",
              "      <td>484.988922</td>\n",
              "    </tr>\n",
              "    <tr>\n",
              "      <th>...</th>\n",
              "      <td>...</td>\n",
              "    </tr>\n",
              "    <tr>\n",
              "      <th>295</th>\n",
              "      <td>436.314148</td>\n",
              "    </tr>\n",
              "    <tr>\n",
              "      <th>296</th>\n",
              "      <td>438.108124</td>\n",
              "    </tr>\n",
              "    <tr>\n",
              "      <th>297</th>\n",
              "      <td>441.955078</td>\n",
              "    </tr>\n",
              "    <tr>\n",
              "      <th>298</th>\n",
              "      <td>436.091278</td>\n",
              "    </tr>\n",
              "    <tr>\n",
              "      <th>299</th>\n",
              "      <td>437.708374</td>\n",
              "    </tr>\n",
              "  </tbody>\n",
              "</table>\n",
              "<p>300 rows × 1 columns</p>\n",
              "</div>\n",
              "      <button class=\"colab-df-convert\" onclick=\"convertToInteractive('df-281a5036-ba55-4f8e-b674-503f90321a37')\"\n",
              "              title=\"Convert this dataframe to an interactive table.\"\n",
              "              style=\"display:none;\">\n",
              "        \n",
              "  <svg xmlns=\"http://www.w3.org/2000/svg\" height=\"24px\"viewBox=\"0 0 24 24\"\n",
              "       width=\"24px\">\n",
              "    <path d=\"M0 0h24v24H0V0z\" fill=\"none\"/>\n",
              "    <path d=\"M18.56 5.44l.94 2.06.94-2.06 2.06-.94-2.06-.94-.94-2.06-.94 2.06-2.06.94zm-11 1L8.5 8.5l.94-2.06 2.06-.94-2.06-.94L8.5 2.5l-.94 2.06-2.06.94zm10 10l.94 2.06.94-2.06 2.06-.94-2.06-.94-.94-2.06-.94 2.06-2.06.94z\"/><path d=\"M17.41 7.96l-1.37-1.37c-.4-.4-.92-.59-1.43-.59-.52 0-1.04.2-1.43.59L10.3 9.45l-7.72 7.72c-.78.78-.78 2.05 0 2.83L4 21.41c.39.39.9.59 1.41.59.51 0 1.02-.2 1.41-.59l7.78-7.78 2.81-2.81c.8-.78.8-2.07 0-2.86zM5.41 20L4 18.59l7.72-7.72 1.47 1.35L5.41 20z\"/>\n",
              "  </svg>\n",
              "      </button>\n",
              "      \n",
              "  <style>\n",
              "    .colab-df-container {\n",
              "      display:flex;\n",
              "      flex-wrap:wrap;\n",
              "      gap: 12px;\n",
              "    }\n",
              "\n",
              "    .colab-df-convert {\n",
              "      background-color: #E8F0FE;\n",
              "      border: none;\n",
              "      border-radius: 50%;\n",
              "      cursor: pointer;\n",
              "      display: none;\n",
              "      fill: #1967D2;\n",
              "      height: 32px;\n",
              "      padding: 0 0 0 0;\n",
              "      width: 32px;\n",
              "    }\n",
              "\n",
              "    .colab-df-convert:hover {\n",
              "      background-color: #E2EBFA;\n",
              "      box-shadow: 0px 1px 2px rgba(60, 64, 67, 0.3), 0px 1px 3px 1px rgba(60, 64, 67, 0.15);\n",
              "      fill: #174EA6;\n",
              "    }\n",
              "\n",
              "    [theme=dark] .colab-df-convert {\n",
              "      background-color: #3B4455;\n",
              "      fill: #D2E3FC;\n",
              "    }\n",
              "\n",
              "    [theme=dark] .colab-df-convert:hover {\n",
              "      background-color: #434B5C;\n",
              "      box-shadow: 0px 1px 3px 1px rgba(0, 0, 0, 0.15);\n",
              "      filter: drop-shadow(0px 1px 2px rgba(0, 0, 0, 0.3));\n",
              "      fill: #FFFFFF;\n",
              "    }\n",
              "  </style>\n",
              "\n",
              "      <script>\n",
              "        const buttonEl =\n",
              "          document.querySelector('#df-281a5036-ba55-4f8e-b674-503f90321a37 button.colab-df-convert');\n",
              "        buttonEl.style.display =\n",
              "          google.colab.kernel.accessAllowed ? 'block' : 'none';\n",
              "\n",
              "        async function convertToInteractive(key) {\n",
              "          const element = document.querySelector('#df-281a5036-ba55-4f8e-b674-503f90321a37');\n",
              "          const dataTable =\n",
              "            await google.colab.kernel.invokeFunction('convertToInteractive',\n",
              "                                                     [key], {});\n",
              "          if (!dataTable) return;\n",
              "\n",
              "          const docLinkHtml = 'Like what you see? Visit the ' +\n",
              "            '<a target=\"_blank\" href=https://colab.research.google.com/notebooks/data_table.ipynb>data table notebook</a>'\n",
              "            + ' to learn more about interactive tables.';\n",
              "          element.innerHTML = '';\n",
              "          dataTable['output_type'] = 'display_data';\n",
              "          await google.colab.output.renderOutput(dataTable, element);\n",
              "          const docLink = document.createElement('div');\n",
              "          docLink.innerHTML = docLinkHtml;\n",
              "          element.appendChild(docLink);\n",
              "        }\n",
              "      </script>\n",
              "    </div>\n",
              "  </div>\n",
              "  "
            ]
          },
          "metadata": {},
          "execution_count": 930
        }
      ]
    },
    {
      "cell_type": "code",
      "source": [
        "kayipveri.plot()\n"
      ],
      "metadata": {
        "colab": {
          "base_uri": "https://localhost:8080/",
          "height": 282
        },
        "id": "peqVDDdXc3NY",
        "outputId": "d5ed7f75-be33-450a-da5b-c173fa736b6b"
      },
      "execution_count": 931,
      "outputs": [
        {
          "output_type": "execute_result",
          "data": {
            "text/plain": [
              "<matplotlib.axes._subplots.AxesSubplot at 0x7f2e7876f110>"
            ]
          },
          "metadata": {},
          "execution_count": 931
        },
        {
          "output_type": "display_data",
          "data": {
            "text/plain": [
              "<Figure size 432x288 with 1 Axes>"
            ],
            "image/png": "[encoded data removed]"
          },
          "metadata": {
            "needs_background": "light"
          }
        }
      ]
    },
    {
      "cell_type": "code",
      "source": [
        "len(y_train)"
      ],
      "metadata": {
        "colab": {
          "base_uri": "https://localhost:8080/"
        },
        "id": "uAd88XC4UbqS",
        "outputId": "85656b91-3f8c-403c-c11f-75ef6f2ec8ec"
      },
      "execution_count": 932,
      "outputs": [
        {
          "output_type": "execute_result",
          "data": {
            "text/plain": [
              "1212"
            ]
          },
          "metadata": {},
          "execution_count": 932
        }
      ]
    },
    {
      "cell_type": "code",
      "source": [
        "from sklearn.metrics import mean_squared_error, mean_absolute_error\n"
      ],
      "metadata": {
        "id": "d1TsHhkiNi47"
      },
      "execution_count": 933,
      "outputs": []
    },
    {
      "cell_type": "code",
      "source": [
        "\n",
        "tahminDizisi = model.predict(x_test)"
      ],
      "metadata": {
        "colab": {
          "base_uri": "https://localhost:8080/"
        },
        "id": "00aSMRx4NqGD",
        "outputId": "41d56dbd-cdba-43bb-fa6b-895cf16168e7"
      },
      "execution_count": 934,
      "outputs": [
        {
          "output_type": "stream",
          "name": "stdout",
          "text": [
            "38/38 [==============================] - 0s 2ms/step\n"
          ]
        }
      ]
    },
    {
      "cell_type": "code",
      "source": [
        "tahminDizisi"
      ],
      "metadata": {
        "colab": {
          "base_uri": "https://localhost:8080/"
        },
        "id": "kp1YZAYVNsL4",
        "outputId": "e37c5bfe-21b6-4e84-eedc-28226188d00c"
      },
      "execution_count": 935,
      "outputs": [
        {
          "output_type": "execute_result",
          "data": {
            "text/plain": [
              "array([[36.022293],\n",
              "       [38.934715],\n",
              "       [39.700695],\n",
              "       ...,\n",
              "       [36.37288 ],\n",
              "       [35.849594],\n",
              "       [41.09465 ]], dtype=float32)"
            ]
          },
          "metadata": {},
          "execution_count": 935
        }
      ]
    },
    {
      "cell_type": "code",
      "source": [],
      "metadata": {
        "id": "7PqJ__2Ndb0Q"
      },
      "execution_count": 935,
      "outputs": []
    },
    {
      "cell_type": "code",
      "source": [
        "mean_absolute_error(y_test,tahminDizisi)"
      ],
      "metadata": {
        "colab": {
          "base_uri": "https://localhost:8080/"
        },
        "id": "wtWbsNeYNtkj",
        "outputId": "9fff9df8-8027-4680-bd64-5e154101b43c"
      },
      "execution_count": 936,
      "outputs": [
        {
          "output_type": "execute_result",
          "data": {
            "text/plain": [
              "15.341896661437383"
            ]
          },
          "metadata": {},
          "execution_count": 936
        }
      ]
    },
    {
      "cell_type": "code",
      "source": [
        "dataFrame5.describe()"
      ],
      "metadata": {
        "colab": {
          "base_uri": "https://localhost:8080/",
          "height": 300
        },
        "id": "p0hmAXmwNwV3",
        "outputId": "6d8a8d1e-bff1-4bf8-8d12-c4cf3ddd1f31"
      },
      "execution_count": 937,
      "outputs": [
        {
          "output_type": "execute_result",
          "data": {
            "text/plain": [
              "              PM10          SO2           CO          NO2          NOX\n",
              "count  2114.000000  2114.000000  2114.000000  2114.000000  2114.000000\n",
              "mean     39.975506    10.024522   447.373198    26.643325    24.431438\n",
              "std      17.793253     6.217311   288.268866    56.305118    39.557166\n",
              "min       1.730000     0.530000    14.130000     0.710000     0.590000\n",
              "25%      26.355000     6.082500   225.617500     4.142500     6.660000\n",
              "50%      36.970000     8.830000   389.820000     4.840000     8.790000\n",
              "75%      50.195000    12.520000   566.990000    22.987500    23.940000\n",
              "max      99.700000   152.870000  1893.860000   343.740000   264.550000"
            ],
            "text/html": [
              "\n",
              "  <div id=\"df-f0c8045d-8f1d-4b0b-8a44-8ce5835b4023\">\n",
              "    <div class=\"colab-df-container\">\n",
              "      <div>\n",
              "<style scoped>\n",
              "    .dataframe tbody tr th:only-of-type {\n",
              "        vertical-align: middle;\n",
              "    }\n",
              "\n",
              "    .dataframe tbody tr th {\n",
              "        vertical-align: top;\n",
              "    }\n",
              "\n",
              "    .dataframe thead th {\n",
              "        text-align: right;\n",
              "    }\n",
              "</style>\n",
              "<table border=\"1\" class=\"dataframe\">\n",
              "  <thead>\n",
              "    <tr style=\"text-align: right;\">\n",
              "      <th></th>\n",
              "      <th>PM10</th>\n",
              "      <th>SO2</th>\n",
              "      <th>CO</th>\n",
              "      <th>NO2</th>\n",
              "      <th>NOX</th>\n",
              "    </tr>\n",
              "  </thead>\n",
              "  <tbody>\n",
              "    <tr>\n",
              "      <th>count</th>\n",
              "      <td>2114.000000</td>\n",
              "      <td>2114.000000</td>\n",
              "      <td>2114.000000</td>\n",
              "      <td>2114.000000</td>\n",
              "      <td>2114.000000</td>\n",
              "    </tr>\n",
              "    <tr>\n",
              "      <th>mean</th>\n",
              "      <td>39.975506</td>\n",
              "      <td>10.024522</td>\n",
              "      <td>447.373198</td>\n",
              "      <td>26.643325</td>\n",
              "      <td>24.431438</td>\n",
              "    </tr>\n",
              "    <tr>\n",
              "      <th>std</th>\n",
              "      <td>17.793253</td>\n",
              "      <td>6.217311</td>\n",
              "      <td>288.268866</td>\n",
              "      <td>56.305118</td>\n",
              "      <td>39.557166</td>\n",
              "    </tr>\n",
              "    <tr>\n",
              "      <th>min</th>\n",
              "      <td>1.730000</td>\n",
              "      <td>0.530000</td>\n",
              "      <td>14.130000</td>\n",
              "      <td>0.710000</td>\n",
              "      <td>0.590000</td>\n",
              "    </tr>\n",
              "    <tr>\n",
              "      <th>25%</th>\n",
              "      <td>26.355000</td>\n",
              "      <td>6.082500</td>\n",
              "      <td>225.617500</td>\n",
              "      <td>4.142500</td>\n",
              "      <td>6.660000</td>\n",
              "    </tr>\n",
              "    <tr>\n",
              "      <th>50%</th>\n",
              "      <td>36.970000</td>\n",
              "      <td>8.830000</td>\n",
              "      <td>389.820000</td>\n",
              "      <td>4.840000</td>\n",
              "      <td>8.790000</td>\n",
              "    </tr>\n",
              "    <tr>\n",
              "      <th>75%</th>\n",
              "      <td>50.195000</td>\n",
              "      <td>12.520000</td>\n",
              "      <td>566.990000</td>\n",
              "      <td>22.987500</td>\n",
              "      <td>23.940000</td>\n",
              "    </tr>\n",
              "    <tr>\n",
              "      <th>max</th>\n",
              "      <td>99.700000</td>\n",
              "      <td>152.870000</td>\n",
              "      <td>1893.860000</td>\n",
              "      <td>343.740000</td>\n",
              "      <td>264.550000</td>\n",
              "    </tr>\n",
              "  </tbody>\n",
              "</table>\n",
              "</div>\n",
              "      <button class=\"colab-df-convert\" onclick=\"convertToInteractive('df-f0c8045d-8f1d-4b0b-8a44-8ce5835b4023')\"\n",
              "              title=\"Convert this dataframe to an interactive table.\"\n",
              "              style=\"display:none;\">\n",
              "        \n",
              "  <svg xmlns=\"http://www.w3.org/2000/svg\" height=\"24px\"viewBox=\"0 0 24 24\"\n",
              "       width=\"24px\">\n",
              "    <path d=\"M0 0h24v24H0V0z\" fill=\"none\"/>\n",
              "    <path d=\"M18.56 5.44l.94 2.06.94-2.06 2.06-.94-2.06-.94-.94-2.06-.94 2.06-2.06.94zm-11 1L8.5 8.5l.94-2.06 2.06-.94-2.06-.94L8.5 2.5l-.94 2.06-2.06.94zm10 10l.94 2.06.94-2.06 2.06-.94-2.06-.94-.94-2.06-.94 2.06-2.06.94z\"/><path d=\"M17.41 7.96l-1.37-1.37c-.4-.4-.92-.59-1.43-.59-.52 0-1.04.2-1.43.59L10.3 9.45l-7.72 7.72c-.78.78-.78 2.05 0 2.83L4 21.41c.39.39.9.59 1.41.59.51 0 1.02-.2 1.41-.59l7.78-7.78 2.81-2.81c.8-.78.8-2.07 0-2.86zM5.41 20L4 18.59l7.72-7.72 1.47 1.35L5.41 20z\"/>\n",
              "  </svg>\n",
              "      </button>\n",
              "      \n",
              "  <style>\n",
              "    .colab-df-container {\n",
              "      display:flex;\n",
              "      flex-wrap:wrap;\n",
              "      gap: 12px;\n",
              "    }\n",
              "\n",
              "    .colab-df-convert {\n",
              "      background-color: #E8F0FE;\n",
              "      border: none;\n",
              "      border-radius: 50%;\n",
              "      cursor: pointer;\n",
              "      display: none;\n",
              "      fill: #1967D2;\n",
              "      height: 32px;\n",
              "      padding: 0 0 0 0;\n",
              "      width: 32px;\n",
              "    }\n",
              "\n",
              "    .colab-df-convert:hover {\n",
              "      background-color: #E2EBFA;\n",
              "      box-shadow: 0px 1px 2px rgba(60, 64, 67, 0.3), 0px 1px 3px 1px rgba(60, 64, 67, 0.15);\n",
              "      fill: #174EA6;\n",
              "    }\n",
              "\n",
              "    [theme=dark] .colab-df-convert {\n",
              "      background-color: #3B4455;\n",
              "      fill: #D2E3FC;\n",
              "    }\n",
              "\n",
              "    [theme=dark] .colab-df-convert:hover {\n",
              "      background-color: #434B5C;\n",
              "      box-shadow: 0px 1px 3px 1px rgba(0, 0, 0, 0.15);\n",
              "      filter: drop-shadow(0px 1px 2px rgba(0, 0, 0, 0.3));\n",
              "      fill: #FFFFFF;\n",
              "    }\n",
              "  </style>\n",
              "\n",
              "      <script>\n",
              "        const buttonEl =\n",
              "          document.querySelector('#df-f0c8045d-8f1d-4b0b-8a44-8ce5835b4023 button.colab-df-convert');\n",
              "        buttonEl.style.display =\n",
              "          google.colab.kernel.accessAllowed ? 'block' : 'none';\n",
              "\n",
              "        async function convertToInteractive(key) {\n",
              "          const element = document.querySelector('#df-f0c8045d-8f1d-4b0b-8a44-8ce5835b4023');\n",
              "          const dataTable =\n",
              "            await google.colab.kernel.invokeFunction('convertToInteractive',\n",
              "                                                     [key], {});\n",
              "          if (!dataTable) return;\n",
              "\n",
              "          const docLinkHtml = 'Like what you see? Visit the ' +\n",
              "            '<a target=\"_blank\" href=https://colab.research.google.com/notebooks/data_table.ipynb>data table notebook</a>'\n",
              "            + ' to learn more about interactive tables.';\n",
              "          element.innerHTML = '';\n",
              "          dataTable['output_type'] = 'display_data';\n",
              "          await google.colab.output.renderOutput(dataTable, element);\n",
              "          const docLink = document.createElement('div');\n",
              "          docLink.innerHTML = docLinkHtml;\n",
              "          element.appendChild(docLink);\n",
              "        }\n",
              "      </script>\n",
              "    </div>\n",
              "  </div>\n",
              "  "
            ]
          },
          "metadata": {},
          "execution_count": 937
        }
      ]
    },
    {
      "cell_type": "code",
      "source": [
        "plt.scatter(y_test,tahminDizisi)\n",
        "plt.plot(y_test,y_test,\"g-*\")"
      ],
      "metadata": {
        "colab": {
          "base_uri": "https://localhost:8080/",
          "height": 282
        },
        "id": "RHWa2TU6N1Vu",
        "outputId": "74120a1f-3733-40cb-a428-9ae98503b812"
      },
      "execution_count": 938,
      "outputs": [
        {
          "output_type": "execute_result",
          "data": {
            "text/plain": [
              "[<matplotlib.lines.Line2D at 0x7f2e78600790>]"
            ]
          },
          "metadata": {},
          "execution_count": 938
        },
        {
          "output_type": "display_data",
          "data": {
            "text/plain": [
              "<Figure size 432x288 with 1 Axes>"
            ],
            "image/png": "[encoded data removed]"
          },
          "metadata": {
            "needs_background": "light"
          }
        }
      ]
    },
    {
      "cell_type": "code",
      "source": [
        "yeni = [[5.51,813.90,1.07,0.65]]"
      ],
      "metadata": {
        "id": "38p6n7hdN4Od"
      },
      "execution_count": 939,
      "outputs": []
    },
    {
      "cell_type": "code",
      "source": [
        "yeniArabaSeries = np.array(yeni)\n",
        "yeniArabaSeries"
      ],
      "metadata": {
        "colab": {
          "base_uri": "https://localhost:8080/"
        },
        "id": "JWgHB99SN6of",
        "outputId": "563e3155-421d-4938-f92b-d76e015565aa"
      },
      "execution_count": 940,
      "outputs": [
        {
          "output_type": "execute_result",
          "data": {
            "text/plain": [
              "array([[5.510e+00, 8.139e+02, 1.070e+00, 6.500e-01]])"
            ]
          },
          "metadata": {},
          "execution_count": 940
        }
      ]
    },
    {
      "cell_type": "code",
      "source": [
        "yeniArabaSeries = np.array(yeni)\n",
        "yeniArabaSeries"
      ],
      "metadata": {
        "colab": {
          "base_uri": "https://localhost:8080/"
        },
        "id": "m_PJ5DdPivc4",
        "outputId": "44771843-1eec-433c-ce55-3627b59c6ccb"
      },
      "execution_count": 941,
      "outputs": [
        {
          "output_type": "execute_result",
          "data": {
            "text/plain": [
              "array([[5.510e+00, 8.139e+02, 1.070e+00, 6.500e-01]])"
            ]
          },
          "metadata": {},
          "execution_count": 941
        }
      ]
    },
    {
      "cell_type": "code",
      "source": [
        "yeniArabaSeries = scaler.transform(yeniArabaSeries.reshape(-1,4))\n"
      ],
      "metadata": {
        "id": "deP2ToI_OAL7"
      },
      "execution_count": 942,
      "outputs": []
    },
    {
      "cell_type": "code",
      "source": [
        "model.predict(yeniArabaSeries)\n"
      ],
      "metadata": {
        "colab": {
          "base_uri": "https://localhost:8080/"
        },
        "id": "icLgUm7MOGRh",
        "outputId": "d591906a-2661-41de-f605-ee7eb81faf62"
      },
      "execution_count": 943,
      "outputs": [
        {
          "output_type": "stream",
          "name": "stdout",
          "text": [
            "1/1 [==============================] - 0s 29ms/step\n"
          ]
        },
        {
          "output_type": "execute_result",
          "data": {
            "text/plain": [
              "array([[34.030025]], dtype=float32)"
            ]
          },
          "metadata": {},
          "execution_count": 943
        }
      ]
    }
  ]
}