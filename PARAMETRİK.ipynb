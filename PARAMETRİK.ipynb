{
  "nbformat": 4,
  "nbformat_minor": 0,
  "metadata": {
    "colab": {
      "provenance": [],
      "authorship_tag": "ABX9TyP6i7V7ErPJKSiBgW+GPu4q",
      "include_colab_link": true
    },
    "kernelspec": {
      "name": "python3",
      "display_name": "Python 3"
    },
    "language_info": {
      "name": "python"
    }
  },
  "cells": [
    {
      "cell_type": "markdown",
      "metadata": {
        "id": "view-in-github",
        "colab_type": "text"
      },
      "source": [
        "<a href=\"https://colab.research.google.com/github/Berkay86/DeepPerson/blob/main/PARAMETR%C4%B0K.ipynb\" target=\"_parent\"><img src=\"https://colab.research.google.com/assets/colab-badge.svg\" alt=\"Open In Colab\"/></a>"
      ]
    },
    {
      "cell_type": "code",
      "execution_count": 18,
      "metadata": {
        "colab": {
          "base_uri": "https://localhost:8080/"
        },
        "id": "Jx2j18kxIEa1",
        "outputId": "cf76fd92-afce-46cb-c7c1-f1c5d564e18a"
      },
      "outputs": [
        {
          "name": "stdout",
          "output_type": "stream",
          "text": [
            "Kaç Adet Gireleceğini yazınız5\n",
            "Değerleri Giriniz: 15\n",
            "Değerleri Giriniz: 16\n",
            "Değerleri Giriniz: 50\n",
            "Değerleri Giriniz: 80\n",
            "Değerleri Giriniz: 90\n",
            "Değerleri Giriniz: 70\n"
          ]
        }
      ],
      "source": [
        "import statistics\n",
        "a=int(input(\"Kaç Adet Gireleceğini yazınız\"))\n",
        "x=0\n",
        "M=[]\n",
        "fark=[]\n",
        "while x<=a:\n",
        "  M.append(int(input(\"Değerleri Giriniz: \")))\n",
        "  x+=1\n",
        "\n",
        "s=statistics.median(M)\n",
        "for i in M:\n",
        "  fark.append(s-i)\n",
        "eksi=0\n",
        "for i in fark:\n",
        "  if i<0:\n",
        "    eksi+=1"
      ]
    },
    {
      "cell_type": "code",
      "source": [],
      "metadata": {
        "id": "JW36VgFZRbBq"
      },
      "execution_count": null,
      "outputs": []
    }
  ]
}