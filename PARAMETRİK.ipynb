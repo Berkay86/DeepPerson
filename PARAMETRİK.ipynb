{
  "nbformat": 4,
  "nbformat_minor": 0,
  "metadata": {
    "colab": {
      "provenance": [],
      "authorship_tag": "ABX9TyPHAAnaX6LNcAb/AYxKR/9p",
      "include_colab_link": true
    },
    "kernelspec": {
      "name": "python3",
      "display_name": "Python 3"
    },
    "language_info": {
      "name": "python"
    }
  },
  "cells": [
    {
      "cell_type": "markdown",
      "metadata": {
        "id": "view-in-github",
        "colab_type": "text"
      },
      "source": [
        "<a href=\"https://colab.research.google.com/github/Berkay86/DeepPerson/blob/main/PARAMETR%C4%B0K.ipynb\" target=\"_parent\"><img src=\"https://colab.research.google.com/assets/colab-badge.svg\" alt=\"Open In Colab\"/></a>"
      ]
    },
    {
      "cell_type": "code",
      "execution_count": null,
      "metadata": {
        "colab": {
          "base_uri": "https://localhost:8080/"
        },
        "id": "Jx2j18kxIEa1",
        "outputId": "1a37ef69-f0f8-4f4c-a054-4f4497f6bb3b"
      },
      "outputs": [
        {
          "output_type": "stream",
          "name": "stdout",
          "text": [
            "Medyan parametresini Giriniz: 30\n",
            "Kaç Adet Değer Gireleceğini yazınız: 8\n",
            "Değerleri Giriniz: 32\n",
            "Değerleri Giriniz: 65\n",
            "Değerleri Giriniz: 28\n",
            "Değerleri Giriniz: 33\n",
            "Değerleri Giriniz: 61\n",
            "Değerleri Giriniz: 46\n",
            "Değerleri Giriniz: 29\n",
            "Değerleri Giriniz: 51\n",
            "Sonuç:  H0 Hipotezi red edilemez\n",
            "p Değeri:  0.14453125\n",
            "Alfa Değeri:  0.05\n",
            "- Değer:  2\n",
            "+ Değer:  6\n",
            "Sıralanmış Hali:  [28, 29, 32, 33, 46, 51, 61, 65]\n"
          ]
        }
      ],
      "source": [
        "from math import comb\n",
        "import statistics\n",
        "medyan_parametresi=int(input(\"Medyan parametresini Giriniz: \"))\n",
        "a=int(input(\"Kaç Adet Değer Gireleceğini yazınız: \"))\n",
        "\n",
        "x=0\n",
        "M=[]\n",
        "fark=[]\n",
        "while x<a:\n",
        "  M.append(int(input(\"Değerleri Giriniz: \")))\n",
        "  x+=1\n",
        "\n",
        "\n",
        "for i in M:\n",
        "  fark.append(i-medyan_parametresi)\n",
        "eksi=0\n",
        "for i in fark:\n",
        "  if i<0:\n",
        "    eksi+=1\n",
        "z=0\n",
        "toplam=0\n",
        "while z<=eksi:\n",
        "  toplam+=comb(8,z)*((0.5)**(z))*((1-0.5)**(a-z))\n",
        "  z+=1\n",
        "if toplam>0.05:\n",
        "  print(\"Sonuç: \",\"H0 Hipotezi red edilemez\")\n",
        "  print(\"p Değeri: \",toplam)\n",
        "  print(\"Alfa Değeri: \",0.05)\n",
        "  print(\"- Değer: \",eksi)\n",
        "  print(\"+ Değer: \",a-eksi)\n",
        "  print(\"Sıralanmış Hali: \",sorted(M))\n",
        "else:\n",
        "  print(\"Sonuç: \",\"H0 Hipotezi red edilir\")\n",
        "  print(\"p Değeri: \",toplam)\n",
        "  print(\"Alfa Değeri: \",0.05)\n",
        "  print(\"- Değer: \",eksi)\n",
        "  print(\"+ Değer: \",a-eksi)\n",
        "  print(\"Sıralanmış Hali: \",sorted(M))"
      ]
    },
    {
      "cell_type": "code",
      "source": [
        "import numpy as np\n",
        "import scipy.stats as stats\n",
        "from scipy.stats import chi2\n",
        "# Veri girişi\n",
        "a = int(input(\"Kaç Adet Değer Gireleceğini yazınız: \"))\n",
        "U = []\n",
        "for i in range(a):\n",
        "    U.append(int(input(\"Değerleri Giriniz: \")))\n",
        "\n",
        "# Beklenen değerleri hesapla\n",
        "BEKLENEN_DEGER = sum(U) / len(U)\n",
        "Beklenen = [BEKLENEN_DEGER] * a\n",
        "\n",
        "# Gözlemlenen ve beklenen frekanslarını içeren numpy dizisi\n",
        "OBS = np.array([U, Beklenen])\n",
        "#Tablo Değeri Bulma\n",
        "df = a - 1\n",
        "alpha = 0.005\n",
        "table_value = chi2.ppf(1-alpha, df)\n",
        "# Chi-kare değerini hesapla\n",
        "chi2, p = stats.chisquare(OBS[0], OBS[1])\n",
        "print(\"Chi-kare değeri:\", chi2)\n",
        "print(\"Tablo değeri:\", table_value)\n",
        "print(\"p-value Değeri:\", p)\n",
        "if chi2>table_value:\n",
        "  print(\"Sonuç:\",\"Yığına İlşkin Dağılım Tekdüzedir değildir\")\n",
        "else:\n",
        "  print(\"Sonuç:\",\"Yığına İlşkin Dağılım Tekdüzedir\")\n",
        "\n",
        "\n",
        "\n",
        "\n",
        "\n",
        "\n",
        "\n",
        "\n",
        "\n",
        "\n",
        "\n",
        "\n",
        "\n"
      ],
      "metadata": {
        "colab": {
          "base_uri": "https://localhost:8080/"
        },
        "id": "uDHClS6jh8kK",
        "outputId": "6bb58ff9-0eaf-4656-8382-ac8bb04ed302"
      },
      "execution_count": 25,
      "outputs": [
        {
          "output_type": "stream",
          "name": "stdout",
          "text": [
            "Kaç Adet Değer Gireleceğini yazınız: 5\n",
            "Değerleri Giriniz: 90\n",
            "Değerleri Giriniz: 50\n",
            "Değerleri Giriniz: 60\n",
            "Değerleri Giriniz: 70\n",
            "Değerleri Giriniz: 30\n",
            "Chi-kare değeri: 33.333333333333336\n",
            "Tablo değeri: 14.860259000560243\n",
            "p-value Değeri: 1.020735571764047e-06\n",
            "Sonuç: Yığına İlşkin Dağılım Tekdüzedir değildir\n"
          ]
        }
      ]
    }
  ]
}