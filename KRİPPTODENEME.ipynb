{
  "nbformat": 4,
  "nbformat_minor": 0,
  "metadata": {
    "colab": {
      "provenance": [],
      "authorship_tag": "ABX9TyNzCV1g0ygFIlRpwmK6Fqbh",
      "include_colab_link": true
    },
    "kernelspec": {
      "name": "python3",
      "display_name": "Python 3"
    },
    "language_info": {
      "name": "python"
    }
  },
  "cells": [
    {
      "cell_type": "markdown",
      "metadata": {
        "id": "view-in-github",
        "colab_type": "text"
      },
      "source": [
        "<a href=\"https://colab.research.google.com/github/Berkay86/DeepPerson/blob/main/KR%C4%B0PPTODENEME.ipynb\" target=\"_parent\"><img src=\"https://colab.research.google.com/assets/colab-badge.svg\" alt=\"Open In Colab\"/></a>"
      ]
    },
    {
      "cell_type": "code",
      "source": [
        "import pandas as pd\n",
        "import numpy as np\n",
        "import matplotlib.pyplot as plt\n",
        "from sklearn.model_selection import train_test_split\n",
        "from math import exp\n",
        "import numpy as np\n",
        "import pandas as pd\n",
        "from sklearn.linear_model import LogisticRegression\n",
        "from sklearn.model_selection import train_test_split\n",
        "from sklearn.preprocessing import StandardScaler\n"
      ],
      "metadata": {
        "id": "IYDCAPfjQGDy"
      },
      "execution_count": 25,
      "outputs": []
    },
    {
      "cell_type": "code",
      "source": [
        "\n",
        "veriler=pd.read_csv(\"Ethereum Geçmiş Veriler - Investing.com.csv\")\n",
        "veriler=veriler[[\"Açılış\",\"Yüksek\",\"Düşük\",\"Simdi\",\"Tur\"]]\n",
        "#pd.read_csv(\"veriler.csv\")\n",
        "#test\n",
        "print(veriler)\n",
        "\n",
        "x = veriler.iloc[:,1:4].values #bağımsız değişkenler\n",
        "y = veriler.iloc[:,4:].values #bağımlı değişken\n",
        "print(y)\n",
        "\n",
        "#verilerin egitim ve test icin bolunmesi\n",
        "from sklearn.model_selection import train_test_split\n",
        "\n",
        "x_train, x_test,y_train,y_test = train_test_split(x,y,test_size=0.50, random_state=0)\n",
        "\n",
        "#verilerin olceklenmesi\n",
        "from sklearn.preprocessing import StandardScaler\n",
        "\n",
        "sc=StandardScaler()\n",
        "\n",
        "X_train = sc.fit_transform(x_train)\n",
        "X_test = sc.transform(x_test)\n",
        "logr = LogisticRegression(random_state=0)\n",
        "logr.fit(X_train,y_train)\n",
        "\n",
        "y_pred = logr.predict(X_test)\n",
        "print(y_pred)\n",
        "print(y_test)\n",
        "\n",
        "\n",
        "from sklearn.metrics import confusion_matrix\n",
        "cm = confusion_matrix(y_test,y_pred)\n",
        "print(cm)\n",
        "\n",
        "\n",
        "\n",
        "from sklearn.neighbors import KNeighborsClassifier\n",
        "\n",
        "knn = KNeighborsClassifier(n_neighbors=1, metric='minkowski')\n",
        "knn.fit(X_train,y_train)\n",
        "\n",
        "y_pred = knn.predict(X_test)\n",
        "\n",
        "cm = confusion_matrix(y_test,y_pred)\n",
        "print(cm)\n",
        "\n",
        "\n",
        "\n",
        "from sklearn.svm import SVC\n",
        "svc = SVC(kernel='rbf')\n",
        "svc.fit(X_train,y_train)\n",
        "y_pred = svc.predict(X_test)\n",
        "\n",
        "cm = confusion_matrix(y_test,y_pred)\n",
        "print('SVC')\n",
        "print(cm)\n",
        "\n",
        "\n",
        "\n",
        "from sklearn.naive_bayes import GaussianNB\n",
        "gnb = GaussianNB()\n",
        "gnb.fit(X_train, y_train)\n",
        "\n",
        "y_pred = gnb.predict(X_test)\n",
        "\n",
        "cm = confusion_matrix(y_test,y_pred)\n",
        "print('GNB')\n",
        "print(cm)\n",
        "\n",
        "\n",
        "from sklearn.tree import DecisionTreeClassifier\n",
        "dtc = DecisionTreeClassifier(criterion = 'entropy')\n",
        "\n",
        "dtc.fit(X_train,y_train)\n",
        "y_pred = dtc.predict(X_test)\n",
        "\n",
        "cm = confusion_matrix(y_test,y_pred)\n",
        "print('DTC')\n",
        "print(cm)\n",
        "\n",
        "\n",
        "from sklearn.ensemble import RandomForestClassifier\n",
        "rfc = RandomForestClassifier(n_estimators=10, criterion = 'entropy')\n",
        "rfc.fit(X_train,y_train)\n",
        "\n",
        "y_pred = rfc.predict(X_test)\n",
        "cm = confusion_matrix(y_test,y_pred)\n",
        "print('RFC')\n",
        "print(cm)\n",
        "\n",
        "\n",
        "    \n",
        "# 7. ROC , TPR, FPR değerleri \n",
        "\n",
        "y_proba = rfc.predict_proba(X_test)\n",
        "print(y_test)\n",
        "print(y_proba[:,0])\n",
        "\n",
        "from sklearn import metrics\n",
        "fpr , tpr , thold = metrics.roc_curve(y_test,y_proba[:,0],pos_label='e')\n",
        "print(fpr)\n",
        "print(tpr)\n",
        "\n",
        "\n",
        "\n",
        "\n",
        "\n",
        "\n",
        "\n",
        "\n"
      ],
      "metadata": {
        "id": "9FUY6MreZqaj",
        "colab": {
          "base_uri": "https://localhost:8080/"
        },
        "outputId": "253a4f9a-6dd7-46f9-ebb5-3636a187f523"
      },
      "execution_count": 55,
      "outputs": [
        {
          "output_type": "stream",
          "name": "stdout",
          "text": [
            "        Açılış      Yüksek      Düşük      Simdi      Tur\n",
            "0      1295.69   1302.6100  1255.9500  1258.8100  Eteryum\n",
            "1      1276.05   1295.8000  1266.1600  1295.6900  Eteryum\n",
            "2      1294.40   1295.8200  1263.5800  1276.0500  Eteryum\n",
            "3      1294.40   1304.9700  1213.4400  1294.4100  Eteryum\n",
            "4      1294.40   1226.3500  1159.7200  1216.5500  Eteryum\n",
            "...        ...         ...        ...        ...      ...\n",
            "10837  1294.40  10000.0000     0.9997     0.9999  Binance\n",
            "10838  1294.40  10000.0000     0.9997     0.9999  Binance\n",
            "10839  1294.40      0.9999     0.9996     0.9998  Binance\n",
            "10840  1294.40      0.9998     0.9996     0.9997  Binance\n",
            "10841  1294.40  10000.0000     0.9996     0.9997  Binance\n",
            "\n",
            "[10842 rows x 5 columns]\n",
            "[['Eteryum']\n",
            " ['Eteryum']\n",
            " ['Eteryum']\n",
            " ...\n",
            " ['Binance']\n",
            " ['Binance']\n",
            " ['Binance']]\n"
          ]
        },
        {
          "output_type": "stream",
          "name": "stderr",
          "text": [
            "/usr/local/lib/python3.8/dist-packages/sklearn/utils/validation.py:993: DataConversionWarning: A column-vector y was passed when a 1d array was expected. Please change the shape of y to (n_samples, ), for example using ravel().\n",
            "  y = column_or_1d(y, warn=True)\n",
            "/usr/local/lib/python3.8/dist-packages/sklearn/linear_model/_logistic.py:814: ConvergenceWarning: lbfgs failed to converge (status=1):\n",
            "STOP: TOTAL NO. of ITERATIONS REACHED LIMIT.\n",
            "\n",
            "Increase the number of iterations (max_iter) or scale the data as shown in:\n",
            "    https://scikit-learn.org/stable/modules/preprocessing.html\n",
            "Please also refer to the documentation for alternative solver options:\n",
            "    https://scikit-learn.org/stable/modules/linear_model.html#logistic-regression\n",
            "  n_iter_i = _check_optimize_result(\n",
            "/usr/local/lib/python3.8/dist-packages/sklearn/neighbors/_classification.py:198: DataConversionWarning: A column-vector y was passed when a 1d array was expected. Please change the shape of y to (n_samples,), for example using ravel().\n",
            "  return self._fit(X, y)\n"
          ]
        },
        {
          "output_type": "stream",
          "name": "stdout",
          "text": [
            "['Bitcoin' 'Dogecoin' 'Bitcoin' ... 'Bitcoin' 'Dogecoin' 'Dogecoin']\n",
            "[['Bitcoin']\n",
            " ['Dogecoin']\n",
            " ['Bitcoin']\n",
            " ...\n",
            " ['Bitcoin']\n",
            " ['BNB']\n",
            " ['Dogecoin']]\n",
            "[[   1    0  326  577    0    0    0]\n",
            " [   0    0   54   68    0   87    0]\n",
            " [   4    0 1674  553    0    5    0]\n",
            " [   0    0    0  997    0    0    0]\n",
            " [   0    0   14    0    0    0    0]\n",
            " [   0    0  489  111    0  444    0]\n",
            " [   0    0   10    0    0    7    0]]\n",
            "[[ 655    0  249    0    0    0    0]\n",
            " [   0  147    0    0    0   62    0]\n",
            " [ 282    5 1928    3   11    7    0]\n",
            " [   0    0    6  991    0    0    0]\n",
            " [   0    0    7    0    7    0    0]\n",
            " [   0   69    6    0    0  958   11]\n",
            " [   0    3    0    0    0   13    1]]\n"
          ]
        },
        {
          "output_type": "stream",
          "name": "stderr",
          "text": [
            "/usr/local/lib/python3.8/dist-packages/sklearn/utils/validation.py:993: DataConversionWarning: A column-vector y was passed when a 1d array was expected. Please change the shape of y to (n_samples, ), for example using ravel().\n",
            "  y = column_or_1d(y, warn=True)\n"
          ]
        },
        {
          "output_type": "stream",
          "name": "stdout",
          "text": [
            "SVC\n",
            "[[   0    0  205  699    0    0    0]\n",
            " [   0    0    0   68    0  141    0]\n",
            " [   0    0 1282  719    0  235    0]\n",
            " [   0    0    0  997    0    0    0]\n",
            " [   0    0   14    0    0    0    0]\n",
            " [   0    0    0  111    0  933    0]\n",
            " [   0    0    0    0    0   17    0]]\n",
            "GNB\n",
            "[[904   0   0   0   0   0   0]\n",
            " [  0   0   0  68   0   5 136]\n",
            " [971 132 411  95  74 553   0]\n",
            " [  0   0   0 997   0   0   0]\n",
            " [  0   0   0   0  14   0   0]\n",
            " [  0   0   1 111   0 343 589]\n",
            " [  0   0   0   0   0   3  14]]\n",
            "DTC\n",
            "[[ 653    0  251    0    0    0    0]\n",
            " [   0  161    0    0    0   46    2]\n",
            " [ 280    2 1942    1    5    6    0]\n",
            " [   0    0    6  991    0    0    0]\n",
            " [   0    0    7    0    7    0    0]\n",
            " [   0  118    7    0    0  913    6]\n",
            " [   0    4    0    0    0   13    0]]\n",
            "RFC\n",
            "[[ 718    0  186    0    0    0    0]\n",
            " [   0  159    0    0    0   49    1]\n",
            " [ 295    5 1925    1    5    5    0]\n",
            " [   0    0    8  989    0    0    0]\n",
            " [   0    0    8    0    6    0    0]\n",
            " [   0   76    6    0    0  961    1]\n",
            " [   0    4    0    0    0   13    0]]\n"
          ]
        },
        {
          "output_type": "stream",
          "name": "stderr",
          "text": [
            "/usr/local/lib/python3.8/dist-packages/sklearn/utils/validation.py:993: DataConversionWarning: A column-vector y was passed when a 1d array was expected. Please change the shape of y to (n_samples, ), for example using ravel().\n",
            "  y = column_or_1d(y, warn=True)\n",
            "<ipython-input-55-045e59703d46>:84: DataConversionWarning: A column-vector y was passed when a 1d array was expected. Please change the shape of y to (n_samples,), for example using ravel().\n",
            "  rfc.fit(X_train,y_train)\n"
          ]
        },
        {
          "output_type": "stream",
          "name": "stdout",
          "text": [
            "[['Bitcoin']\n",
            " ['Dogecoin']\n",
            " ['Bitcoin']\n",
            " ...\n",
            " ['Bitcoin']\n",
            " ['BNB']\n",
            " ['Dogecoin']]\n",
            "[0. 0. 0. ... 0. 1. 0.]\n",
            "[0.         0.06437927 0.09297178 0.11621472 0.13890426 0.16196274\n",
            " 0.18686589 0.20789522 0.22855562 0.25290537 0.28223575 1.        ]\n",
            "[nan nan nan nan nan nan nan nan nan nan nan nan]\n"
          ]
        },
        {
          "output_type": "stream",
          "name": "stderr",
          "text": [
            "/usr/local/lib/python3.8/dist-packages/sklearn/metrics/_ranking.py:999: UndefinedMetricWarning: No positive samples in y_true, true positive value should be meaningless\n",
            "  warnings.warn(\n"
          ]
        }
      ]
    },
    {
      "cell_type": "code",
      "source": [
        "veriler=veriler[[\"Açılış\",\"Yüksek\",\"Düşük\",\"Simdi\"]]\n",
        "veriler"
      ],
      "metadata": {
        "colab": {
          "base_uri": "https://localhost:8080/",
          "height": 424
        },
        "id": "3szXw8RU0c8D",
        "outputId": "3dd0ba7b-2a6a-4b06-ccf0-ba7c9d1bb054"
      },
      "execution_count": 43,
      "outputs": [
        {
          "output_type": "execute_result",
          "data": {
            "text/plain": [
              "       Açılış   Yüksek    Düşük    Simdi\n",
              "0         1.0  10000.0      1.0      1.0\n",
              "1         1.0  10000.0      1.0      1.0\n",
              "2         1.0  10001.0      1.0  10000.0\n",
              "3     10003.0  10005.0      1.0      1.0\n",
              "4     10003.0  10005.0  10003.0  10003.0\n",
              "...       ...      ...      ...      ...\n",
              "6793     15.1     15.1     11.4     12.5\n",
              "6794     12.9     15.1     12.9     15.1\n",
              "6795     12.0     13.5     12.0     12.9\n",
              "6796     11.8     12.0     11.8     12.0\n",
              "6797     11.2     11.9     11.1     11.8\n",
              "\n",
              "[6798 rows x 4 columns]"
            ],
            "text/html": [
              "\n",
              "  <div id=\"df-183d3e90-d625-43ef-b4d7-deeb4740b4cd\">\n",
              "    <div class=\"colab-df-container\">\n",
              "      <div>\n",
              "<style scoped>\n",
              "    .dataframe tbody tr th:only-of-type {\n",
              "        vertical-align: middle;\n",
              "    }\n",
              "\n",
              "    .dataframe tbody tr th {\n",
              "        vertical-align: top;\n",
              "    }\n",
              "\n",
              "    .dataframe thead th {\n",
              "        text-align: right;\n",
              "    }\n",
              "</style>\n",
              "<table border=\"1\" class=\"dataframe\">\n",
              "  <thead>\n",
              "    <tr style=\"text-align: right;\">\n",
              "      <th></th>\n",
              "      <th>Açılış</th>\n",
              "      <th>Yüksek</th>\n",
              "      <th>Düşük</th>\n",
              "      <th>Simdi</th>\n",
              "    </tr>\n",
              "  </thead>\n",
              "  <tbody>\n",
              "    <tr>\n",
              "      <th>0</th>\n",
              "      <td>1.0</td>\n",
              "      <td>10000.0</td>\n",
              "      <td>1.0</td>\n",
              "      <td>1.0</td>\n",
              "    </tr>\n",
              "    <tr>\n",
              "      <th>1</th>\n",
              "      <td>1.0</td>\n",
              "      <td>10000.0</td>\n",
              "      <td>1.0</td>\n",
              "      <td>1.0</td>\n",
              "    </tr>\n",
              "    <tr>\n",
              "      <th>2</th>\n",
              "      <td>1.0</td>\n",
              "      <td>10001.0</td>\n",
              "      <td>1.0</td>\n",
              "      <td>10000.0</td>\n",
              "    </tr>\n",
              "    <tr>\n",
              "      <th>3</th>\n",
              "      <td>10003.0</td>\n",
              "      <td>10005.0</td>\n",
              "      <td>1.0</td>\n",
              "      <td>1.0</td>\n",
              "    </tr>\n",
              "    <tr>\n",
              "      <th>4</th>\n",
              "      <td>10003.0</td>\n",
              "      <td>10005.0</td>\n",
              "      <td>10003.0</td>\n",
              "      <td>10003.0</td>\n",
              "    </tr>\n",
              "    <tr>\n",
              "      <th>...</th>\n",
              "      <td>...</td>\n",
              "      <td>...</td>\n",
              "      <td>...</td>\n",
              "      <td>...</td>\n",
              "    </tr>\n",
              "    <tr>\n",
              "      <th>6793</th>\n",
              "      <td>15.1</td>\n",
              "      <td>15.1</td>\n",
              "      <td>11.4</td>\n",
              "      <td>12.5</td>\n",
              "    </tr>\n",
              "    <tr>\n",
              "      <th>6794</th>\n",
              "      <td>12.9</td>\n",
              "      <td>15.1</td>\n",
              "      <td>12.9</td>\n",
              "      <td>15.1</td>\n",
              "    </tr>\n",
              "    <tr>\n",
              "      <th>6795</th>\n",
              "      <td>12.0</td>\n",
              "      <td>13.5</td>\n",
              "      <td>12.0</td>\n",
              "      <td>12.9</td>\n",
              "    </tr>\n",
              "    <tr>\n",
              "      <th>6796</th>\n",
              "      <td>11.8</td>\n",
              "      <td>12.0</td>\n",
              "      <td>11.8</td>\n",
              "      <td>12.0</td>\n",
              "    </tr>\n",
              "    <tr>\n",
              "      <th>6797</th>\n",
              "      <td>11.2</td>\n",
              "      <td>11.9</td>\n",
              "      <td>11.1</td>\n",
              "      <td>11.8</td>\n",
              "    </tr>\n",
              "  </tbody>\n",
              "</table>\n",
              "<p>6798 rows × 4 columns</p>\n",
              "</div>\n",
              "      <button class=\"colab-df-convert\" onclick=\"convertToInteractive('df-183d3e90-d625-43ef-b4d7-deeb4740b4cd')\"\n",
              "              title=\"Convert this dataframe to an interactive table.\"\n",
              "              style=\"display:none;\">\n",
              "        \n",
              "  <svg xmlns=\"http://www.w3.org/2000/svg\" height=\"24px\"viewBox=\"0 0 24 24\"\n",
              "       width=\"24px\">\n",
              "    <path d=\"M0 0h24v24H0V0z\" fill=\"none\"/>\n",
              "    <path d=\"M18.56 5.44l.94 2.06.94-2.06 2.06-.94-2.06-.94-.94-2.06-.94 2.06-2.06.94zm-11 1L8.5 8.5l.94-2.06 2.06-.94-2.06-.94L8.5 2.5l-.94 2.06-2.06.94zm10 10l.94 2.06.94-2.06 2.06-.94-2.06-.94-.94-2.06-.94 2.06-2.06.94z\"/><path d=\"M17.41 7.96l-1.37-1.37c-.4-.4-.92-.59-1.43-.59-.52 0-1.04.2-1.43.59L10.3 9.45l-7.72 7.72c-.78.78-.78 2.05 0 2.83L4 21.41c.39.39.9.59 1.41.59.51 0 1.02-.2 1.41-.59l7.78-7.78 2.81-2.81c.8-.78.8-2.07 0-2.86zM5.41 20L4 18.59l7.72-7.72 1.47 1.35L5.41 20z\"/>\n",
              "  </svg>\n",
              "      </button>\n",
              "      \n",
              "  <style>\n",
              "    .colab-df-container {\n",
              "      display:flex;\n",
              "      flex-wrap:wrap;\n",
              "      gap: 12px;\n",
              "    }\n",
              "\n",
              "    .colab-df-convert {\n",
              "      background-color: #E8F0FE;\n",
              "      border: none;\n",
              "      border-radius: 50%;\n",
              "      cursor: pointer;\n",
              "      display: none;\n",
              "      fill: #1967D2;\n",
              "      height: 32px;\n",
              "      padding: 0 0 0 0;\n",
              "      width: 32px;\n",
              "    }\n",
              "\n",
              "    .colab-df-convert:hover {\n",
              "      background-color: #E2EBFA;\n",
              "      box-shadow: 0px 1px 2px rgba(60, 64, 67, 0.3), 0px 1px 3px 1px rgba(60, 64, 67, 0.15);\n",
              "      fill: #174EA6;\n",
              "    }\n",
              "\n",
              "    [theme=dark] .colab-df-convert {\n",
              "      background-color: #3B4455;\n",
              "      fill: #D2E3FC;\n",
              "    }\n",
              "\n",
              "    [theme=dark] .colab-df-convert:hover {\n",
              "      background-color: #434B5C;\n",
              "      box-shadow: 0px 1px 3px 1px rgba(0, 0, 0, 0.15);\n",
              "      filter: drop-shadow(0px 1px 2px rgba(0, 0, 0, 0.3));\n",
              "      fill: #FFFFFF;\n",
              "    }\n",
              "  </style>\n",
              "\n",
              "      <script>\n",
              "        const buttonEl =\n",
              "          document.querySelector('#df-183d3e90-d625-43ef-b4d7-deeb4740b4cd button.colab-df-convert');\n",
              "        buttonEl.style.display =\n",
              "          google.colab.kernel.accessAllowed ? 'block' : 'none';\n",
              "\n",
              "        async function convertToInteractive(key) {\n",
              "          const element = document.querySelector('#df-183d3e90-d625-43ef-b4d7-deeb4740b4cd');\n",
              "          const dataTable =\n",
              "            await google.colab.kernel.invokeFunction('convertToInteractive',\n",
              "                                                     [key], {});\n",
              "          if (!dataTable) return;\n",
              "\n",
              "          const docLinkHtml = 'Like what you see? Visit the ' +\n",
              "            '<a target=\"_blank\" href=https://colab.research.google.com/notebooks/data_table.ipynb>data table notebook</a>'\n",
              "            + ' to learn more about interactive tables.';\n",
              "          element.innerHTML = '';\n",
              "          dataTable['output_type'] = 'display_data';\n",
              "          await google.colab.output.renderOutput(dataTable, element);\n",
              "          const docLink = document.createElement('div');\n",
              "          docLink.innerHTML = docLinkHtml;\n",
              "          element.appendChild(docLink);\n",
              "        }\n",
              "      </script>\n",
              "    </div>\n",
              "  </div>\n",
              "  "
            ]
          },
          "metadata": {},
          "execution_count": 43
        }
      ]
    },
    {
      "cell_type": "code",
      "source": [
        "\n",
        "from sklearn.svm import SVC\n",
        "svc = SVC(kernel='rbf')\n",
        "svc.fit(X_train,y_train)\n",
        "\n",
        "y_pred = svc.predict(X_test)\n",
        "\n",
        "cm = confusion_matrix(y_test,y_pred)\n",
        "print('SVC')\n",
        "print(cm)\n"
      ],
      "metadata": {
        "colab": {
          "base_uri": "https://localhost:8080/"
        },
        "id": "ajAQwrCoRdBG",
        "outputId": "0c796e66-3f26-491e-b3ce-473c31398c94"
      },
      "execution_count": 65,
      "outputs": [
        {
          "output_type": "stream",
          "name": "stderr",
          "text": [
            "/usr/local/lib/python3.8/dist-packages/sklearn/utils/validation.py:993: DataConversionWarning: A column-vector y was passed when a 1d array was expected. Please change the shape of y to (n_samples, ), for example using ravel().\n",
            "  y = column_or_1d(y, warn=True)\n"
          ]
        },
        {
          "output_type": "stream",
          "name": "stdout",
          "text": [
            "SVC\n",
            "[[   0    0  205  699    0    0    0]\n",
            " [   0    0    0   68    0  141    0]\n",
            " [   0    0 1282  719    0  235    0]\n",
            " [   0    0    0  997    0    0    0]\n",
            " [   0    0   14    0    0    0    0]\n",
            " [   0    0    0  111    0  933    0]\n",
            " [   0    0    0    0    0   17    0]]\n"
          ]
        }
      ]
    },
    {
      "cell_type": "code",
      "source": [
        "columns=[\"y_test\",\"y_pred\"]\n",
        "df = pd.DataFrame(list(zip(y_test,y_pred)), columns=columns)\n",
        "df.to_excel('saved.xlsx')"
      ],
      "metadata": {
        "id": "7Dkxdq71wRsR"
      },
      "execution_count": 58,
      "outputs": []
    },
    {
      "cell_type": "code",
      "source": [
        "plt.plot(range(1,11),sonuclar)"
      ],
      "metadata": {
        "colab": {
          "base_uri": "https://localhost:8080/",
          "height": 293
        },
        "id": "wmVJWrrPS_dN",
        "outputId": "54a05c98-0b32-4a86-84f8-3f7b295a0cc6"
      },
      "execution_count": 66,
      "outputs": [
        {
          "output_type": "execute_result",
          "data": {
            "text/plain": [
              "[<matplotlib.lines.Line2D at 0x7f00cc643f40>]"
            ]
          },
          "metadata": {},
          "execution_count": 66
        },
        {
          "output_type": "display_data",
          "data": {
            "text/plain": [
              "<Figure size 432x288 with 1 Axes>"
            ],
            "image/png": "[encoded data removed]"
          },
          "metadata": {
            "needs_background": "light"
          }
        }
      ]
    },
    {
      "cell_type": "code",
      "source": [
        "X=veriler.iloc[:,1:4]\n",
        "from sklearn.cluster import AgglomerativeClustering\n",
        "ac=AgglomerativeClustering(n_clusters=3,affinity=\"euclidean\",linkage='ward')\n",
        "Y_Tahmin=ac.fit_predict(X)\n",
        "print(Y_Tahmin)\n"
      ],
      "metadata": {
        "colab": {
          "base_uri": "https://localhost:8080/"
        },
        "id": "RMcOyS6xVKnn",
        "outputId": "740aeeb0-2e8d-40a1-8abc-d8d412573a5a"
      },
      "execution_count": 64,
      "outputs": [
        {
          "output_type": "stream",
          "name": "stdout",
          "text": [
            "[0 0 0 ... 0 0 0]\n"
          ]
        }
      ]
    },
    {
      "cell_type": "code",
      "source": [
        "\n",
        "veriler=pd.read_csv(\"Ethereum Geçmiş Veriler - Investing.com.csv\")\n",
        "veriler=veriler[[\"Açılış\",\"Yüksek\",\"Düşük\",\"Simdi\",\"Tur\"]]\n",
        "#pd.read_csv(\"veriler.csv\")\n",
        "#test\n",
        "print(veriler)\n",
        "\n",
        "x = veriler.iloc[:,1:4].values #bağımsız değişkenler\n",
        "y = veriler.iloc[:,4:].values #bağımlı değişken\n",
        "print(y)\n",
        "\n",
        "#verilerin egitim ve test icin bolunmesi\n",
        "from sklearn.model_selection import train_test_split\n",
        "\n",
        "x_train, x_test,y_train,y_test = train_test_split(x,y,test_size=0.50, random_state=0)\n",
        "\n",
        "#verilerin olceklenmesi\n",
        "from sklearn.preprocessing import StandardScaler\n",
        "\n",
        "sc=StandardScaler()\n",
        "\n",
        "X_train = sc.fit_transform(x_train)\n",
        "X_test = sc.transform(x_test)\n",
        "logr = LogisticRegression(random_state=0)\n",
        "logr.fit(X_train,y_train)\n",
        "\n",
        "y_pred = logr.predict(X_test)\n",
        "print(y_pred)\n",
        "print(y_test)\n",
        "\n",
        "\n",
        "from sklearn.metrics import confusion_matrix\n",
        "cm = confusion_matrix(y_test,y_pred)\n",
        "print(cm)\n",
        "\n",
        "\n",
        "\n",
        "from sklearn.neighbors import KNeighborsClassifier\n",
        "\n",
        "knn = KNeighborsClassifier(n_neighbors=1, metric='minkowski')\n",
        "knn.fit(X_train,y_train)\n",
        "\n",
        "y_pred = knn.predict(X_test)\n",
        "\n",
        "cm = confusion_matrix(y_test,y_pred)\n",
        "print(cm)\n",
        "\n",
        "\n",
        "\n",
        "from sklearn.svm import SVC\n",
        "svc = SVC(kernel='rbf')\n",
        "svc.fit(X_train,y_train)\n",
        "y_pred = svc.predict(X_test)\n",
        "\n",
        "cm = confusion_matrix(y_test,y_pred)\n",
        "print('SVC')\n",
        "print(cm)\n",
        "\n",
        "\n",
        "\n",
        "from sklearn.naive_bayes import GaussianNB\n",
        "gnb = GaussianNB()\n",
        "gnb.fit(X_train, y_train)\n",
        "\n",
        "y_pred = gnb.predict(X_test)\n",
        "\n",
        "cm = confusion_matrix(y_test,y_pred)\n",
        "print('GNB')\n",
        "print(cm)\n",
        "\n",
        "\n",
        "from sklearn.tree import DecisionTreeClassifier\n",
        "dtc = DecisionTreeClassifier(criterion = 'entropy')\n",
        "\n",
        "dtc.fit(X_train,y_train)\n",
        "y_pred = dtc.predict(X_test)\n",
        "\n",
        "cm = confusion_matrix(y_test,y_pred)\n",
        "print('DTC')\n",
        "print(cm)\n",
        "\n",
        "\n",
        "from sklearn.ensemble import RandomForestClassifier\n",
        "rfc = RandomForestClassifier(n_estimators=10, criterion = 'entropy')\n",
        "rfc.fit(X_train,y_train)\n",
        "\n",
        "y_pred = rfc.predict(X_test)\n",
        "cm = confusion_matrix(y_test,y_pred)\n",
        "print('RFC')\n",
        "print(cm)\n",
        "\n",
        "\n",
        "    \n",
        "# 7. ROC , TPR, FPR değerleri \n",
        "\n",
        "y_proba = rfc.predict_proba(X_test)\n",
        "print(y_test)\n",
        "print(y_proba[:,0])\n",
        "\n",
        "from sklearn import metrics\n",
        "fpr , tpr , thold = metrics.roc_curve(y_test,y_proba[:,0],pos_label='e')\n",
        "print(fpr)\n",
        "print(tpr)\n",
        "\n",
        "\n",
        "\n",
        "\n",
        "\n",
        "\n",
        "\n",
        "\n"
      ],
      "metadata": {
        "colab": {
          "base_uri": "https://localhost:8080/"
        },
        "outputId": "253a4f9a-6dd7-46f9-ebb5-3636a187f523",
        "id": "n-utxDDTFx0y"
      },
      "execution_count": null,
      "outputs": [
        {
          "output_type": "stream",
          "name": "stdout",
          "text": [
            "        Açılış      Yüksek      Düşük      Simdi      Tur\n",
            "0      1295.69   1302.6100  1255.9500  1258.8100  Eteryum\n",
            "1      1276.05   1295.8000  1266.1600  1295.6900  Eteryum\n",
            "2      1294.40   1295.8200  1263.5800  1276.0500  Eteryum\n",
            "3      1294.40   1304.9700  1213.4400  1294.4100  Eteryum\n",
            "4      1294.40   1226.3500  1159.7200  1216.5500  Eteryum\n",
            "...        ...         ...        ...        ...      ...\n",
            "10837  1294.40  10000.0000     0.9997     0.9999  Binance\n",
            "10838  1294.40  10000.0000     0.9997     0.9999  Binance\n",
            "10839  1294.40      0.9999     0.9996     0.9998  Binance\n",
            "10840  1294.40      0.9998     0.9996     0.9997  Binance\n",
            "10841  1294.40  10000.0000     0.9996     0.9997  Binance\n",
            "\n",
            "[10842 rows x 5 columns]\n",
            "[['Eteryum']\n",
            " ['Eteryum']\n",
            " ['Eteryum']\n",
            " ...\n",
            " ['Binance']\n",
            " ['Binance']\n",
            " ['Binance']]\n"
          ]
        },
        {
          "output_type": "stream",
          "name": "stderr",
          "text": [
            "/usr/local/lib/python3.8/dist-packages/sklearn/utils/validation.py:993: DataConversionWarning: A column-vector y was passed when a 1d array was expected. Please change the shape of y to (n_samples, ), for example using ravel().\n",
            "  y = column_or_1d(y, warn=True)\n",
            "/usr/local/lib/python3.8/dist-packages/sklearn/linear_model/_logistic.py:814: ConvergenceWarning: lbfgs failed to converge (status=1):\n",
            "STOP: TOTAL NO. of ITERATIONS REACHED LIMIT.\n",
            "\n",
            "Increase the number of iterations (max_iter) or scale the data as shown in:\n",
            "    https://scikit-learn.org/stable/modules/preprocessing.html\n",
            "Please also refer to the documentation for alternative solver options:\n",
            "    https://scikit-learn.org/stable/modules/linear_model.html#logistic-regression\n",
            "  n_iter_i = _check_optimize_result(\n",
            "/usr/local/lib/python3.8/dist-packages/sklearn/neighbors/_classification.py:198: DataConversionWarning: A column-vector y was passed when a 1d array was expected. Please change the shape of y to (n_samples,), for example using ravel().\n",
            "  return self._fit(X, y)\n"
          ]
        },
        {
          "output_type": "stream",
          "name": "stdout",
          "text": [
            "['Bitcoin' 'Dogecoin' 'Bitcoin' ... 'Bitcoin' 'Dogecoin' 'Dogecoin']\n",
            "[['Bitcoin']\n",
            " ['Dogecoin']\n",
            " ['Bitcoin']\n",
            " ...\n",
            " ['Bitcoin']\n",
            " ['BNB']\n",
            " ['Dogecoin']]\n",
            "[[   1    0  326  577    0    0    0]\n",
            " [   0    0   54   68    0   87    0]\n",
            " [   4    0 1674  553    0    5    0]\n",
            " [   0    0    0  997    0    0    0]\n",
            " [   0    0   14    0    0    0    0]\n",
            " [   0    0  489  111    0  444    0]\n",
            " [   0    0   10    0    0    7    0]]\n",
            "[[ 655    0  249    0    0    0    0]\n",
            " [   0  147    0    0    0   62    0]\n",
            " [ 282    5 1928    3   11    7    0]\n",
            " [   0    0    6  991    0    0    0]\n",
            " [   0    0    7    0    7    0    0]\n",
            " [   0   69    6    0    0  958   11]\n",
            " [   0    3    0    0    0   13    1]]\n"
          ]
        },
        {
          "output_type": "stream",
          "name": "stderr",
          "text": [
            "/usr/local/lib/python3.8/dist-packages/sklearn/utils/validation.py:993: DataConversionWarning: A column-vector y was passed when a 1d array was expected. Please change the shape of y to (n_samples, ), for example using ravel().\n",
            "  y = column_or_1d(y, warn=True)\n"
          ]
        },
        {
          "output_type": "stream",
          "name": "stdout",
          "text": [
            "SVC\n",
            "[[   0    0  205  699    0    0    0]\n",
            " [   0    0    0   68    0  141    0]\n",
            " [   0    0 1282  719    0  235    0]\n",
            " [   0    0    0  997    0    0    0]\n",
            " [   0    0   14    0    0    0    0]\n",
            " [   0    0    0  111    0  933    0]\n",
            " [   0    0    0    0    0   17    0]]\n",
            "GNB\n",
            "[[904   0   0   0   0   0   0]\n",
            " [  0   0   0  68   0   5 136]\n",
            " [971 132 411  95  74 553   0]\n",
            " [  0   0   0 997   0   0   0]\n",
            " [  0   0   0   0  14   0   0]\n",
            " [  0   0   1 111   0 343 589]\n",
            " [  0   0   0   0   0   3  14]]\n",
            "DTC\n",
            "[[ 653    0  251    0    0    0    0]\n",
            " [   0  161    0    0    0   46    2]\n",
            " [ 280    2 1942    1    5    6    0]\n",
            " [   0    0    6  991    0    0    0]\n",
            " [   0    0    7    0    7    0    0]\n",
            " [   0  118    7    0    0  913    6]\n",
            " [   0    4    0    0    0   13    0]]\n",
            "RFC\n",
            "[[ 718    0  186    0    0    0    0]\n",
            " [   0  159    0    0    0   49    1]\n",
            " [ 295    5 1925    1    5    5    0]\n",
            " [   0    0    8  989    0    0    0]\n",
            " [   0    0    8    0    6    0    0]\n",
            " [   0   76    6    0    0  961    1]\n",
            " [   0    4    0    0    0   13    0]]\n"
          ]
        },
        {
          "output_type": "stream",
          "name": "stderr",
          "text": [
            "/usr/local/lib/python3.8/dist-packages/sklearn/utils/validation.py:993: DataConversionWarning: A column-vector y was passed when a 1d array was expected. Please change the shape of y to (n_samples, ), for example using ravel().\n",
            "  y = column_or_1d(y, warn=True)\n",
            "<ipython-input-55-045e59703d46>:84: DataConversionWarning: A column-vector y was passed when a 1d array was expected. Please change the shape of y to (n_samples,), for example using ravel().\n",
            "  rfc.fit(X_train,y_train)\n"
          ]
        },
        {
          "output_type": "stream",
          "name": "stdout",
          "text": [
            "[['Bitcoin']\n",
            " ['Dogecoin']\n",
            " ['Bitcoin']\n",
            " ...\n",
            " ['Bitcoin']\n",
            " ['BNB']\n",
            " ['Dogecoin']]\n",
            "[0. 0. 0. ... 0. 1. 0.]\n",
            "[0.         0.06437927 0.09297178 0.11621472 0.13890426 0.16196274\n",
            " 0.18686589 0.20789522 0.22855562 0.25290537 0.28223575 1.        ]\n",
            "[nan nan nan nan nan nan nan nan nan nan nan nan]\n"
          ]
        },
        {
          "output_type": "stream",
          "name": "stderr",
          "text": [
            "/usr/local/lib/python3.8/dist-packages/sklearn/metrics/_ranking.py:999: UndefinedMetricWarning: No positive samples in y_true, true positive value should be meaningless\n",
            "  warnings.warn(\n"
          ]
        }
      ]
    },
    {
      "cell_type": "code",
      "source": [
        "import numpy as np\n",
        "import pandas as pd\n",
        "import matplotlib.pyplot as plt\n",
        "\n",
        "\n",
        "\n",
        "\n",
        "veriler=pd.read_csv(\"Ethereum Geçmiş Veriler - Investing.com.csv\")\n",
        "veriler=veriler[[\"Açılış\",\"Yüksek\",\"Düşük\",\"Simdi\",\"Tur\"]]\n",
        "\n",
        "X = veriler.iloc[:,:4].values\n",
        "\n",
        "#kmeans\n",
        "\n",
        "from sklearn.cluster import KMeans\n",
        "\n",
        "kmeans = KMeans ( n_clusters = 3, init = 'k-means++')\n",
        "kmeans.fit(X)\n",
        "\n",
        "print(kmeans.cluster_centers_)\n",
        "sonuclar = []\n",
        "for i in range(1,11):\n",
        "    kmeans = KMeans (n_clusters = i, init='k-means++', random_state= 123)\n",
        "    kmeans.fit(X)\n",
        "    sonuclar.append(kmeans.inertia_)\n",
        "\n",
        "plt.plot(range(1,11),sonuclar)\n",
        "plt.show()\n",
        "\n",
        "kmeans = KMeans (n_clusters = 3, init='k-means++', random_state= 123)\n",
        "Y_tahmin= kmeans.fit_predict(X)\n",
        "print(Y_tahmin)  \n",
        "plt.scatter(X[Y_tahmin==0,0],X[Y_tahmin==0,1],s=100, c='red')\n",
        "plt.scatter(X[Y_tahmin==1,0],X[Y_tahmin==1,1],s=100, c='blue')\n",
        "plt.scatter(X[Y_tahmin==2,0],X[Y_tahmin==2,1],s=100, c='green')\n",
        "plt.scatter(X[Y_tahmin==3,0],X[Y_tahmin==3,1],s=100, c='yellow')\n",
        "plt.title('KMeans')\n",
        "plt.show()\n",
        "\n",
        "#HC\n",
        "from sklearn.cluster import AgglomerativeClustering\n",
        "ac = AgglomerativeClustering(n_clusters=3, affinity='euclidean', linkage='ward')\n",
        "Y_tahmin = ac.fit_predict(X)\n",
        "print(Y_tahmin)\n",
        "\n",
        "plt.scatter(X[Y_tahmin==0,0],X[Y_tahmin==0,1],s=100, c='red')\n",
        "plt.scatter(X[Y_tahmin==1,0],X[Y_tahmin==1,1],s=100, c='blue')\n",
        "plt.scatter(X[Y_tahmin==2,0],X[Y_tahmin==2,1],s=100, c='green')\n",
        "plt.scatter(X[Y_tahmin==3,0],X[Y_tahmin==3,1],s=100, c='yellow')\n",
        "plt.title('HC')\n",
        "plt.show()\n",
        "\n",
        "import scipy.cluster.hierarchy as sch\n",
        "dendrogram = sch.dendrogram(sch.linkage(X, method='ward'))\n",
        "plt.show()\n",
        "\n",
        "\n",
        "\n",
        "\n",
        "\n",
        "\n",
        "\n",
        "\n",
        "\n",
        "\n",
        "\n",
        "\n",
        "\n",
        "\n",
        "\n",
        "\n"
      ],
      "metadata": {
        "colab": {
          "base_uri": "https://localhost:8080/",
          "height": 1000
        },
        "id": "JoYgQn9Mi4up",
        "outputId": "a11acb14-b24a-4ed6-d1ad-80f023ed42fc"
      },
      "execution_count": 67,
      "outputs": [
        {
          "output_type": "stream",
          "name": "stdout",
          "text": [
            "[[1.29439834e+03 3.58026616e+03 2.48107140e+03 3.06085020e+03]\n",
            " [1.29440000e+03 1.74176300e+06 9.99100000e-01 1.00000000e+04]\n",
            " [1.29440000e+03 4.50129177e+04 4.24070338e+04 4.37952121e+04]]\n"
          ]
        },
        {
          "output_type": "display_data",
          "data": {
            "text/plain": [
              "<Figure size 432x288 with 1 Axes>"
            ],
            "image/png": "[encoded data removed]"
          },
          "metadata": {
            "needs_background": "light"
          }
        },
        {
          "output_type": "stream",
          "name": "stdout",
          "text": [
            "[0 0 0 ... 0 0 0]\n"
          ]
        },
        {
          "output_type": "display_data",
          "data": {
            "text/plain": [
              "<Figure size 432x288 with 1 Axes>"
            ],
            "image/png": "[encoded data removed]"
          },
          "metadata": {
            "needs_background": "light"
          }
        },
        {
          "output_type": "stream",
          "name": "stdout",
          "text": [
            "[0 0 0 ... 0 0 0]\n"
          ]
        },
        {
          "output_type": "display_data",
          "data": {
            "text/plain": [
              "<Figure size 432x288 with 1 Axes>"
            ],
            "image/png": "[encoded data removed]"
          },
          "metadata": {
            "needs_background": "light"
          }
        },
        {
          "output_type": "display_data",
          "data": {
            "text/plain": [
              "<Figure size 432x288 with 1 Axes>"
            ],
            "image/png": "[encoded data removed]"
          },
          "metadata": {
            "needs_background": "light"
          }
        }
      ]
    },
    {
      "cell_type": "code",
      "source": [
        "\t#1. kutuphaneler\n",
        "import numpy as np\n",
        "import matplotlib.pyplot as plt\n",
        "import pandas as pd\n",
        "from sklearn.metrics import r2_score\n",
        "import statsmodels.api as sm\n"
      ],
      "metadata": {
        "id": "8M-nM4ZxGOQ7"
      },
      "execution_count": 74,
      "outputs": []
    },
    {
      "cell_type": "code",
      "source": [
        "veriler=pd.read_csv(\"Ethereum Geçmiş Veriler - Investing.com (1).csv\")\n",
        "veriler=veriler[[\"Açılış\",\"Yüksek\",\"Düşük\",\"Şimdi\"]]\n",
        "x = veriler.iloc[:,1:3]\n",
        "y = veriler.iloc[:,3]\n",
        "X = x.values\n",
        "Y = y.values"
      ],
      "metadata": {
        "id": "cRCDr23LG17O"
      },
      "execution_count": 134,
      "outputs": []
    },
    {
      "cell_type": "code",
      "source": [
        "print(veriler.corr()) "
      ],
      "metadata": {
        "colab": {
          "base_uri": "https://localhost:8080/"
        },
        "id": "J5X7rnANG5r8",
        "outputId": "bf02c662-2f70-4bdf-96ed-d2c1dc13cfc7"
      },
      "execution_count": 141,
      "outputs": [
        {
          "output_type": "stream",
          "name": "stdout",
          "text": [
            "          Açılış    Yüksek     Düşük     Şimdi\n",
            "Açılış  1.000000  0.999326  0.998491  0.998092\n",
            "Yüksek  0.999326  1.000000  0.998395  0.999081\n",
            "Düşük   0.998491  0.998395  1.000000  0.999067\n",
            "Şimdi   0.998092  0.999081  0.999067  1.000000\n"
          ]
        }
      ]
    },
    {
      "cell_type": "code",
      "source": [
        "from sklearn.linear_model import LinearRegression\n",
        "lin_reg = LinearRegression()\n",
        "lin_reg.fit(X,Y)\n",
        "model = sm.OLS(lin_reg.predict(X),X)\n",
        "print(model.fit().summary())\n",
        "print(\"Linear R2 degeri:\")\n",
        "print(r2_score(Y, lin_reg.predict((X))))\n"
      ],
      "metadata": {
        "colab": {
          "base_uri": "https://localhost:8080/"
        },
        "id": "LQ1Qg0n4HPsZ",
        "outputId": "706f1d9b-d419-4c27-9888-6cf299823e5f"
      },
      "execution_count": 142,
      "outputs": [
        {
          "output_type": "stream",
          "name": "stdout",
          "text": [
            "                                 OLS Regression Results                                \n",
            "=======================================================================================\n",
            "Dep. Variable:                      y   R-squared (uncentered):                   1.000\n",
            "Model:                            OLS   Adj. R-squared (uncentered):              1.000\n",
            "Method:                 Least Squares   F-statistic:                          1.110e+10\n",
            "Date:                Sat, 03 Dec 2022   Prob (F-statistic):                        0.00\n",
            "Time:                        23:08:00   Log-Likelihood:                         -1658.7\n",
            "No. Observations:                2460   AIC:                                      3321.\n",
            "Df Residuals:                    2458   BIC:                                      3333.\n",
            "Df Model:                           2                                                  \n",
            "Covariance Type:            nonrobust                                                  \n",
            "==============================================================================\n",
            "                 coef    std err          t      P>|t|      [0.025      0.975]\n",
            "------------------------------------------------------------------------------\n",
            "x1             0.4894      0.000   3388.897      0.000       0.489       0.490\n",
            "x2             0.5142      0.000   3318.075      0.000       0.514       0.514\n",
            "==============================================================================\n",
            "Omnibus:                      604.391   Durbin-Watson:                   0.004\n",
            "Prob(Omnibus):                  0.000   Jarque-Bera (JB):             1148.657\n",
            "Skew:                          -1.536   Prob(JB):                    3.73e-250\n",
            "Kurtosis:                       4.330   Cond. No.                         44.5\n",
            "==============================================================================\n",
            "\n",
            "Notes:\n",
            "[1] R² is computed without centering (uncentered) since the model does not contain a constant.\n",
            "[2] Standard Errors assume that the covariance matrix of the errors is correctly specified.\n",
            "Linear R2 degeri:\n",
            "0.9989500329308009\n"
          ]
        }
      ]
    },
    {
      "cell_type": "code",
      "source": [
        "from sklearn.preprocessing import PolynomialFeatures\n",
        "poly_reg = PolynomialFeatures(degree = 4)\n",
        "x_poly = poly_reg.fit_transform(X)\n",
        "print(x_poly)\n",
        "lin_reg2 = LinearRegression()\n",
        "lin_reg2.fit(x_poly,y)\n",
        "model2 = sm.OLS(lin_reg2.predict(poly_reg.fit_transform(X)),X)\n",
        "print(r2_score(Y, lin_reg2.predict(poly_reg.fit_transform(X)) ))\n"
      ],
      "metadata": {
        "colab": {
          "base_uri": "https://localhost:8080/"
        },
        "id": "j01aWB3fIJEy",
        "outputId": "1ab48cdb-da6b-4db8-d16b-8ea26f62f8c3"
      },
      "execution_count": 143,
      "outputs": [
        {
          "output_type": "stream",
          "name": "stdout",
          "text": [
            "[[1.00000000e+00 1.30261000e+03 1.25595000e+03 ... 2.67653863e+12\n",
            "  2.58066397e+12 2.48822358e+12]\n",
            " [1.00000000e+00 1.29580000e+03 1.26616000e+03 ... 2.69186410e+12\n",
            "  2.63029067e+12 2.57012566e+12]\n",
            " [1.00000000e+00 1.29582000e+03 1.26358000e+03 ... 2.68098784e+12\n",
            "  2.61428486e+12 2.54924146e+12]\n",
            " ...\n",
            " [1.00000000e+00 1.34500000e+01 1.19500000e+01 ... 2.58333293e+04\n",
            "  2.29522888e+04 2.03925540e+04]\n",
            " [1.00000000e+00 1.19500000e+01 1.17500000e+01 ... 1.97156702e+04\n",
            "  1.93857008e+04 1.90612539e+04]\n",
            " [1.00000000e+00 1.18500000e+01 1.10700000e+01 ... 1.72080612e+04\n",
            "  1.60753787e+04 1.50172525e+04]]\n",
            "0.9989958801707001\n"
          ]
        }
      ]
    },
    {
      "cell_type": "code",
      "source": [
        "from sklearn.preprocessing import StandardScaler\n",
        "sc1 = StandardScaler()\n",
        "x_olcekli = sc1.fit_transform(X)\n",
        "sc2 = StandardScaler()\n",
        "y_olcekli = np.ravel(sc2.fit_transform(Y.reshape(-1,1)))\n",
        "from sklearn.svm import SVR\n",
        "svr_reg = SVR(kernel = 'rbf')\n",
        "svr_reg.fit(x_olcekli,y_olcekli)\n",
        "model3 = sm.OLS(svr_reg.predict(x_olcekli),x_olcekli)\n",
        "print(model3.fit().summary())\n",
        "print(r2_score(y_olcekli, svr_reg.predict(x_olcekli)) )\n"
      ],
      "metadata": {
        "colab": {
          "base_uri": "https://localhost:8080/"
        },
        "id": "ipRwIecZIJGL",
        "outputId": "7d079499-c090-432f-b62b-877ec5dd6072"
      },
      "execution_count": 145,
      "outputs": [
        {
          "output_type": "stream",
          "name": "stdout",
          "text": [
            "                                 OLS Regression Results                                \n",
            "=======================================================================================\n",
            "Dep. Variable:                      y   R-squared (uncentered):                   0.998\n",
            "Model:                            OLS   Adj. R-squared (uncentered):              0.998\n",
            "Method:                 Least Squares   F-statistic:                          5.818e+05\n",
            "Date:                Sat, 03 Dec 2022   Prob (F-statistic):                        0.00\n",
            "Time:                        23:08:25   Log-Likelihood:                          4105.2\n",
            "No. Observations:                2460   AIC:                                     -8206.\n",
            "Df Residuals:                    2458   BIC:                                     -8195.\n",
            "Df Model:                           2                                                  \n",
            "Covariance Type:            nonrobust                                                  \n",
            "==============================================================================\n",
            "                 coef    std err          t      P>|t|      [0.025      0.975]\n",
            "------------------------------------------------------------------------------\n",
            "x1             0.4719      0.016     29.050      0.000       0.440       0.504\n",
            "x2             0.5208      0.016     32.060      0.000       0.489       0.553\n",
            "==============================================================================\n",
            "Omnibus:                      171.408   Durbin-Watson:                   0.020\n",
            "Prob(Omnibus):                  0.000   Jarque-Bera (JB):              182.468\n",
            "Skew:                           0.630   Prob(JB):                     2.39e-40\n",
            "Kurtosis:                       2.561   Cond. No.                         35.3\n",
            "==============================================================================\n",
            "\n",
            "Notes:\n",
            "[1] R² is computed without centering (uncentered) since the model does not contain a constant.\n",
            "[2] Standard Errors assume that the covariance matrix of the errors is correctly specified.\n",
            "0.9968456123273739\n"
          ]
        }
      ]
    },
    {
      "cell_type": "code",
      "source": [
        "from sklearn.tree import DecisionTreeRegressor\n",
        "r_dt = DecisionTreeRegressor(random_state=0)\n",
        "r_dt.fit(X,Y)\n",
        "print('Decision Tree OLS')\n",
        "model4 = sm.OLS(r_dt.predict(X),X)\n",
        "print(model4.fit().summary())\n",
        "print(\"Decision Tree R2 degeri:\")\n",
        "print(r2_score(Y, r_dt.predict(X)) )\n"
      ],
      "metadata": {
        "colab": {
          "base_uri": "https://localhost:8080/"
        },
        "id": "qsEKp-ffIju1",
        "outputId": "601b1588-4202-4274-8fff-3e8b9692e5b0"
      },
      "execution_count": 146,
      "outputs": [
        {
          "output_type": "stream",
          "name": "stdout",
          "text": [
            "Decision Tree OLS\n",
            "                                 OLS Regression Results                                \n",
            "=======================================================================================\n",
            "Dep. Variable:                      y   R-squared (uncentered):                   0.999\n",
            "Model:                            OLS   Adj. R-squared (uncentered):              0.999\n",
            "Method:                 Least Squares   F-statistic:                          1.862e+06\n",
            "Date:                Sat, 03 Dec 2022   Prob (F-statistic):                        0.00\n",
            "Time:                        23:08:46   Log-Likelihood:                         -12352.\n",
            "No. Observations:                2460   AIC:                                  2.471e+04\n",
            "Df Residuals:                    2458   BIC:                                  2.472e+04\n",
            "Df Model:                           2                                                  \n",
            "Covariance Type:            nonrobust                                                  \n",
            "==============================================================================\n",
            "                 coef    std err          t      P>|t|      [0.025      0.975]\n",
            "------------------------------------------------------------------------------\n",
            "x1             0.4894      0.011     43.885      0.000       0.468       0.511\n",
            "x2             0.5142      0.012     42.968      0.000       0.491       0.538\n",
            "==============================================================================\n",
            "Omnibus:                      481.101   Durbin-Watson:                   2.081\n",
            "Prob(Omnibus):                  0.000   Jarque-Bera (JB):            14134.142\n",
            "Skew:                           0.058   Prob(JB):                         0.00\n",
            "Kurtosis:                      14.742   Cond. No.                         44.5\n",
            "==============================================================================\n",
            "\n",
            "Notes:\n",
            "[1] R² is computed without centering (uncentered) since the model does not contain a constant.\n",
            "[2] Standard Errors assume that the covariance matrix of the errors is correctly specified.\n",
            "Decision Tree R2 degeri:\n",
            "0.999999999983843\n"
          ]
        }
      ]
    },
    {
      "cell_type": "code",
      "source": [
        "from sklearn.ensemble import RandomForestRegressor\n",
        "rf_reg = RandomForestRegressor(n_estimators = 5, random_state=0)\n",
        "rf_reg.fit(X,Y.ravel())\n",
        "print('Random Forest OLS')\n",
        "model5 = sm.OLS(rf_reg.predict(X),X)\n",
        "print(model5.fit().summary())\n",
        "print(\"Random Forest R2 degeri:\")\n",
        "print(r2_score(Y, rf_reg.predict(X)) )\n"
      ],
      "metadata": {
        "colab": {
          "base_uri": "https://localhost:8080/"
        },
        "id": "uDXnKyoZIsxq",
        "outputId": "a002afe9-153a-472f-c448-52b9a555bcd7"
      },
      "execution_count": 124,
      "outputs": [
        {
          "output_type": "stream",
          "name": "stdout",
          "text": [
            "Random Forest OLS\n",
            "                                 OLS Regression Results                                \n",
            "=======================================================================================\n",
            "Dep. Variable:                      y   R-squared (uncentered):                   1.000\n",
            "Model:                            OLS   Adj. R-squared (uncentered):              1.000\n",
            "Method:                 Least Squares   F-statistic:                          3.175e+06\n",
            "Date:                Sat, 03 Dec 2022   Prob (F-statistic):                        0.00\n",
            "Time:                        23:04:06   Log-Likelihood:                         -11195.\n",
            "No. Observations:                2460   AIC:                                  2.240e+04\n",
            "Df Residuals:                    2457   BIC:                                  2.241e+04\n",
            "Df Model:                           3                                                  \n",
            "Covariance Type:            nonrobust                                                  \n",
            "==============================================================================\n",
            "                 coef    std err          t      P>|t|      [0.025      0.975]\n",
            "------------------------------------------------------------------------------\n",
            "x1            -0.4346      0.012    -36.301      0.000      -0.458      -0.411\n",
            "x2             0.7978      0.011     71.026      0.000       0.776       0.820\n",
            "x3             0.6343      0.008     78.752      0.000       0.618       0.650\n",
            "==============================================================================\n",
            "Omnibus:                      613.310   Durbin-Watson:                   1.891\n",
            "Prob(Omnibus):                  0.000   Jarque-Bera (JB):            40111.029\n",
            "Skew:                          -0.053   Prob(JB):                         0.00\n",
            "Kurtosis:                      22.782   Cond. No.                         82.9\n",
            "==============================================================================\n",
            "\n",
            "Notes:\n",
            "[1] R² is computed without centering (uncentered) since the model does not contain a constant.\n",
            "[2] Standard Errors assume that the covariance matrix of the errors is correctly specified.\n",
            "Random Forest R2 degeri:\n",
            "0.9997524866014172\n"
          ]
        }
      ]
    }
  ]
}