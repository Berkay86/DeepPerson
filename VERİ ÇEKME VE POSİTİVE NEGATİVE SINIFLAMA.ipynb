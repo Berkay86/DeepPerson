{
  "nbformat": 4,
  "nbformat_minor": 0,
  "metadata": {
    "colab": {
      "provenance": [],
      "authorship_tag": "ABX9TyNxG8P3ZTKf81BHOOhHSLSM",
      "include_colab_link": true
    },
    "kernelspec": {
      "name": "python3",
      "display_name": "Python 3"
    },
    "language_info": {
      "name": "python"
    }
  },
  "cells": [
    {
      "cell_type": "markdown",
      "metadata": {
        "id": "view-in-github",
        "colab_type": "text"
      },
      "source": [
        "<a href=\"https://colab.research.google.com/github/Berkay86/DeepPerson/blob/main/VER%C4%B0%20%C3%87EKME%20VE%20POS%C4%B0T%C4%B0VE%20NEGAT%C4%B0VE%20SINIFLAMA.ipynb\" target=\"_parent\"><img src=\"https://colab.research.google.com/assets/colab-badge.svg\" alt=\"Open In Colab\"/></a>"
      ]
    },
    {
      "cell_type": "code",
      "execution_count": 1,
      "metadata": {
        "colab": {
          "base_uri": "https://localhost:8080/"
        },
        "id": "7N8FXmCeDpDr",
        "outputId": "b5d667cf-3c7c-45c5-bdf0-1e65e144e463"
      },
      "outputs": [
        {
          "output_type": "stream",
          "name": "stdout",
          "text": [
            "Looking in indexes: https://pypi.org/simple, https://us-python.pkg.dev/colab-wheels/public/simple/\n",
            "Collecting snscrape\n",
            "  Downloading snscrape-0.5.0.20230113-py3-none-any.whl (69 kB)\n",
            "\u001b[2K     \u001b[90m━━━━━━━━━━━━━━━━━━━━━━━━━━━━━━━━━━━━━━━━\u001b[0m \u001b[32m69.2/69.2 KB\u001b[0m \u001b[31m4.6 MB/s\u001b[0m eta \u001b[36m0:00:00\u001b[0m\n",
            "\u001b[?25hRequirement already satisfied: lxml in /usr/local/lib/python3.8/dist-packages (from snscrape) (4.9.2)\n",
            "Requirement already satisfied: beautifulsoup4 in /usr/local/lib/python3.8/dist-packages (from snscrape) (4.6.3)\n",
            "Requirement already satisfied: filelock in /usr/local/lib/python3.8/dist-packages (from snscrape) (3.9.0)\n",
            "Requirement already satisfied: requests[socks] in /usr/local/lib/python3.8/dist-packages (from snscrape) (2.25.1)\n",
            "Requirement already satisfied: pytz in /usr/local/lib/python3.8/dist-packages (from snscrape) (2022.7)\n",
            "Requirement already satisfied: chardet<5,>=3.0.2 in /usr/local/lib/python3.8/dist-packages (from requests[socks]->snscrape) (4.0.0)\n",
            "Requirement already satisfied: urllib3<1.27,>=1.21.1 in /usr/local/lib/python3.8/dist-packages (from requests[socks]->snscrape) (1.24.3)\n",
            "Requirement already satisfied: certifi>=2017.4.17 in /usr/local/lib/python3.8/dist-packages (from requests[socks]->snscrape) (2022.12.7)\n",
            "Requirement already satisfied: idna<3,>=2.5 in /usr/local/lib/python3.8/dist-packages (from requests[socks]->snscrape) (2.10)\n",
            "Requirement already satisfied: PySocks!=1.5.7,>=1.5.6 in /usr/local/lib/python3.8/dist-packages (from requests[socks]->snscrape) (1.7.1)\n",
            "Installing collected packages: snscrape\n",
            "Successfully installed snscrape-0.5.0.20230113\n"
          ]
        }
      ],
      "source": [
        "#Kütüphanelerimizi içeriye alalım.\n",
        "#Veri İşlemleri\n",
        "!pip3 install snscrape\n",
        "import pandas as pd\n",
        "import snscrape.modules.twitter as sntwitter\n",
        "import numpy as np\n",
        "import matplotlib.pyplot as plt\n",
        "import seaborn as sns"
      ]
    },
    {
      "cell_type": "code",
      "source": [
        "import nltk\n",
        "from nltk.corpus import stopwords\n",
        "from nltk.tokenize import word_tokenize\n",
        "from nltk.stem import WordNetLemmatizer\n",
        "from nltk.stem.porter import PorterStemmer\n",
        "import string\n"
      ],
      "metadata": {
        "id": "0m79ODq4NUPj"
      },
      "execution_count": 2,
      "outputs": []
    },
    {
      "cell_type": "code",
      "source": [
        "import re \n",
        "import textblob\n",
        "from textblob import TextBlob"
      ],
      "metadata": {
        "id": "zjABAlSIN_qI"
      },
      "execution_count": 3,
      "outputs": []
    },
    {
      "cell_type": "code",
      "source": [
        "from wordcloud.wordcloud import WordCloud,STOPWORDS\n",
        "!pip install emot\n",
        "from emot.emo_unicode import UNICODE_EMOJI\n",
        "lemmatizer=WordNetLemmatizer()\n",
        "from wordcloud import ImageColorGenerator\n",
        "from PIL import Image\n",
        "import warnings\n",
        "%matplotlib"
      ],
      "metadata": {
        "colab": {
          "base_uri": "https://localhost:8080/"
        },
        "id": "mrmuKD-gOATK",
        "outputId": "9bde858b-8aa2-49e6-dae8-5d1875cf9156"
      },
      "execution_count": 4,
      "outputs": [
        {
          "output_type": "stream",
          "name": "stdout",
          "text": [
            "Looking in indexes: https://pypi.org/simple, https://us-python.pkg.dev/colab-wheels/public/simple/\n",
            "Collecting emot\n",
            "  Downloading emot-3.1-py3-none-any.whl (61 kB)\n",
            "\u001b[?25l     \u001b[90m━━━━━━━━━━━━━━━━━━━━━━━━━━━━━━━━━━━━━━━━\u001b[0m \u001b[32m0.0/61.5 KB\u001b[0m \u001b[31m?\u001b[0m eta \u001b[36m-:--:--\u001b[0m\r\u001b[2K     \u001b[90m━━━━━━━━━━━━━━━━━━━━━━━━━━━━━━━━━━━━━━━━\u001b[0m \u001b[32m61.5/61.5 KB\u001b[0m \u001b[31m5.3 MB/s\u001b[0m eta \u001b[36m0:00:00\u001b[0m\n",
            "\u001b[?25hInstalling collected packages: emot\n",
            "Successfully installed emot-3.1\n",
            "Using matplotlib backend: agg\n"
          ]
        }
      ]
    },
    {
      "cell_type": "code",
      "source": [
        "query=\"(covid19)\"\n",
        "tweets=[]\n",
        "for i,tweet in enumerate(sntwitter.TwitterSearchScraper(query).get_items()):\n",
        "  if i>20000:\n",
        "    break\n",
        "  else:\n",
        "        tweets.append([tweet.date,tweet.id,tweet.url,tweet.user.username,tweet.sourceLabel,tweet.user.location,tweet.content,tweet.likeCount,tweet.retweetCount])\n",
        "df=pd.DataFrame(tweets,columns=[\"Date\",\"ID\",\"url\",\"username\",\"source\",\"location\",\"tweet\",\"num_of_likes\", \"num_of_retweet\"])\n",
        "df.to_csv(\"sentiment.csv\")\n",
        "df"
      ],
      "metadata": {
        "colab": {
          "base_uri": "https://localhost:8080/",
          "height": 678
        },
        "id": "7dn74Wr_Prdj",
        "outputId": "ca8afbb3-b55a-4f02-81c7-ec3c6f35553c"
      },
      "execution_count": 28,
      "outputs": [
        {
          "output_type": "stream",
          "name": "stderr",
          "text": [
            "<ipython-input-28-77648ccf1716>:7: FutureWarning: content is deprecated, use rawContent instead\n",
            "  tweets.append([tweet.date,tweet.id,tweet.url,tweet.user.username,tweet.sourceLabel,tweet.user.location,tweet.content,tweet.likeCount,tweet.retweetCount])\n"
          ]
        },
        {
          "output_type": "execute_result",
          "data": {
            "text/plain": [
              "                           Date                   ID  \\\n",
              "0     2023-01-15 10:17:40+00:00  1614567486044753921   \n",
              "1     2023-01-15 10:17:31+00:00  1614567446198816774   \n",
              "2     2023-01-15 10:17:24+00:00  1614567418872954881   \n",
              "3     2023-01-15 10:16:24+00:00  1614567167420137472   \n",
              "4     2023-01-15 10:16:17+00:00  1614567136361385985   \n",
              "...                         ...                  ...   \n",
              "19996 2023-01-12 17:55:23+00:00  1613595511361241088   \n",
              "19997 2023-01-12 17:55:22+00:00  1613595505367584768   \n",
              "19998 2023-01-12 17:55:19+00:00  1613595495708131328   \n",
              "19999 2023-01-12 17:54:57+00:00  1613595403152396288   \n",
              "20000 2023-01-12 17:54:55+00:00  1613595391928188935   \n",
              "\n",
              "                                                     url         username  \\\n",
              "0      https://twitter.com/AnttiViinanen/status/16145...    AnttiViinanen   \n",
              "1      https://twitter.com/BloodyRakesh/status/161456...     BloodyRakesh   \n",
              "2      https://twitter.com/ptitprince75/status/161456...     ptitprince75   \n",
              "3      https://twitter.com/ProfMEvans/status/16145671...       ProfMEvans   \n",
              "4      https://twitter.com/isaias4721/status/16145671...       isaias4721   \n",
              "...                                                  ...              ...   \n",
              "19996  https://twitter.com/GrassrootsPCLLC/status/161...  GrassrootsPCLLC   \n",
              "19997  https://twitter.com/maryemac01/status/16135955...       maryemac01   \n",
              "19998  https://twitter.com/ChristinePadych/status/161...  ChristinePadych   \n",
              "19999  https://twitter.com/friendlycovid19/status/161...  friendlycovid19   \n",
              "20000  https://twitter.com/sintesisuaemex/status/1613...   sintesisuaemex   \n",
              "\n",
              "                    source                        location  \\\n",
              "0          Twitter Web App  Itäkarjalan korpi, Suur-Suomi    \n",
              "1          Twitter Web App                                   \n",
              "2      Twitter for Android                 Liberté, France   \n",
              "3          Twitter Web App                          France   \n",
              "4      Twitter for Android                  Itajaí, Brasil   \n",
              "...                    ...                             ...   \n",
              "19996      Twitter Web App                  Washington, DC   \n",
              "19997   Twitter for iPhone                    Florida, USA   \n",
              "19998  Twitter for Android                                   \n",
              "19999      Twitter Web App                                   \n",
              "20000      Twitter Web App                                   \n",
              "\n",
              "                                                   tweet  num_of_likes  \\\n",
              "0      @satuanneleh @TSiltala https://t.co/26a2MR6cre...             0   \n",
              "1      @merissahansen17 look at my timeline, but befo...             0   \n",
              "2      #COVID19 #Nuremberg2 #EffetsSecondaires #Pfize...             0   \n",
              "3      Super #Covid19 &amp; #SIDA #AIDS, même combat ...             0   \n",
              "4      Em2020 não tinha vacinas só ivermectina morrer...             0   \n",
              "...                                                  ...           ...   \n",
              "19996  @kylamb8 Also, just yesterday at the JP Morgan...             0   \n",
              "19997  @Jim_Jordan Because everyone was sick with Cov...             0   \n",
              "19998  Des lois iniques dans ts les pays qu'il faudra...             1   \n",
              "19999  @OmicronAustria Eh, quicker to just wait until...            28   \n",
              "20000  Detección oportuna de #COVID19 ayuda a frenar ...             1   \n",
              "\n",
              "       num_of_retweet  \n",
              "0                   0  \n",
              "1                   0  \n",
              "2                   0  \n",
              "3                   0  \n",
              "4                   0  \n",
              "...               ...  \n",
              "19996               0  \n",
              "19997               0  \n",
              "19998               0  \n",
              "19999               2  \n",
              "20000               1  \n",
              "\n",
              "[20001 rows x 9 columns]"
            ],
            "text/html": [
              "\n",
              "  <div id=\"df-0e71ca98-210e-495b-8f0e-430939cf165a\">\n",
              "    <div class=\"colab-df-container\">\n",
              "      <div>\n",
              "<style scoped>\n",
              "    .dataframe tbody tr th:only-of-type {\n",
              "        vertical-align: middle;\n",
              "    }\n",
              "\n",
              "    .dataframe tbody tr th {\n",
              "        vertical-align: top;\n",
              "    }\n",
              "\n",
              "    .dataframe thead th {\n",
              "        text-align: right;\n",
              "    }\n",
              "</style>\n",
              "<table border=\"1\" class=\"dataframe\">\n",
              "  <thead>\n",
              "    <tr style=\"text-align: right;\">\n",
              "      <th></th>\n",
              "      <th>Date</th>\n",
              "      <th>ID</th>\n",
              "      <th>url</th>\n",
              "      <th>username</th>\n",
              "      <th>source</th>\n",
              "      <th>location</th>\n",
              "      <th>tweet</th>\n",
              "      <th>num_of_likes</th>\n",
              "      <th>num_of_retweet</th>\n",
              "    </tr>\n",
              "  </thead>\n",
              "  <tbody>\n",
              "    <tr>\n",
              "      <th>0</th>\n",
              "      <td>2023-01-15 10:17:40+00:00</td>\n",
              "      <td>1614567486044753921</td>\n",
              "      <td>https://twitter.com/AnttiViinanen/status/16145...</td>\n",
              "      <td>AnttiViinanen</td>\n",
              "      <td>Twitter Web App</td>\n",
              "      <td>Itäkarjalan korpi, Suur-Suomi</td>\n",
              "      <td>@satuanneleh @TSiltala https://t.co/26a2MR6cre...</td>\n",
              "      <td>0</td>\n",
              "      <td>0</td>\n",
              "    </tr>\n",
              "    <tr>\n",
              "      <th>1</th>\n",
              "      <td>2023-01-15 10:17:31+00:00</td>\n",
              "      <td>1614567446198816774</td>\n",
              "      <td>https://twitter.com/BloodyRakesh/status/161456...</td>\n",
              "      <td>BloodyRakesh</td>\n",
              "      <td>Twitter Web App</td>\n",
              "      <td></td>\n",
              "      <td>@merissahansen17 look at my timeline, but befo...</td>\n",
              "      <td>0</td>\n",
              "      <td>0</td>\n",
              "    </tr>\n",
              "    <tr>\n",
              "      <th>2</th>\n",
              "      <td>2023-01-15 10:17:24+00:00</td>\n",
              "      <td>1614567418872954881</td>\n",
              "      <td>https://twitter.com/ptitprince75/status/161456...</td>\n",
              "      <td>ptitprince75</td>\n",
              "      <td>Twitter for Android</td>\n",
              "      <td>Liberté, France</td>\n",
              "      <td>#COVID19 #Nuremberg2 #EffetsSecondaires #Pfize...</td>\n",
              "      <td>0</td>\n",
              "      <td>0</td>\n",
              "    </tr>\n",
              "    <tr>\n",
              "      <th>3</th>\n",
              "      <td>2023-01-15 10:16:24+00:00</td>\n",
              "      <td>1614567167420137472</td>\n",
              "      <td>https://twitter.com/ProfMEvans/status/16145671...</td>\n",
              "      <td>ProfMEvans</td>\n",
              "      <td>Twitter Web App</td>\n",
              "      <td>France</td>\n",
              "      <td>Super #Covid19 &amp;amp; #SIDA #AIDS, même combat ...</td>\n",
              "      <td>0</td>\n",
              "      <td>0</td>\n",
              "    </tr>\n",
              "    <tr>\n",
              "      <th>4</th>\n",
              "      <td>2023-01-15 10:16:17+00:00</td>\n",
              "      <td>1614567136361385985</td>\n",
              "      <td>https://twitter.com/isaias4721/status/16145671...</td>\n",
              "      <td>isaias4721</td>\n",
              "      <td>Twitter for Android</td>\n",
              "      <td>Itajaí, Brasil</td>\n",
              "      <td>Em2020 não tinha vacinas só ivermectina morrer...</td>\n",
              "      <td>0</td>\n",
              "      <td>0</td>\n",
              "    </tr>\n",
              "    <tr>\n",
              "      <th>...</th>\n",
              "      <td>...</td>\n",
              "      <td>...</td>\n",
              "      <td>...</td>\n",
              "      <td>...</td>\n",
              "      <td>...</td>\n",
              "      <td>...</td>\n",
              "      <td>...</td>\n",
              "      <td>...</td>\n",
              "      <td>...</td>\n",
              "    </tr>\n",
              "    <tr>\n",
              "      <th>19996</th>\n",
              "      <td>2023-01-12 17:55:23+00:00</td>\n",
              "      <td>1613595511361241088</td>\n",
              "      <td>https://twitter.com/GrassrootsPCLLC/status/161...</td>\n",
              "      <td>GrassrootsPCLLC</td>\n",
              "      <td>Twitter Web App</td>\n",
              "      <td>Washington, DC</td>\n",
              "      <td>@kylamb8 Also, just yesterday at the JP Morgan...</td>\n",
              "      <td>0</td>\n",
              "      <td>0</td>\n",
              "    </tr>\n",
              "    <tr>\n",
              "      <th>19997</th>\n",
              "      <td>2023-01-12 17:55:22+00:00</td>\n",
              "      <td>1613595505367584768</td>\n",
              "      <td>https://twitter.com/maryemac01/status/16135955...</td>\n",
              "      <td>maryemac01</td>\n",
              "      <td>Twitter for iPhone</td>\n",
              "      <td>Florida, USA</td>\n",
              "      <td>@Jim_Jordan Because everyone was sick with Cov...</td>\n",
              "      <td>0</td>\n",
              "      <td>0</td>\n",
              "    </tr>\n",
              "    <tr>\n",
              "      <th>19998</th>\n",
              "      <td>2023-01-12 17:55:19+00:00</td>\n",
              "      <td>1613595495708131328</td>\n",
              "      <td>https://twitter.com/ChristinePadych/status/161...</td>\n",
              "      <td>ChristinePadych</td>\n",
              "      <td>Twitter for Android</td>\n",
              "      <td></td>\n",
              "      <td>Des lois iniques dans ts les pays qu'il faudra...</td>\n",
              "      <td>1</td>\n",
              "      <td>0</td>\n",
              "    </tr>\n",
              "    <tr>\n",
              "      <th>19999</th>\n",
              "      <td>2023-01-12 17:54:57+00:00</td>\n",
              "      <td>1613595403152396288</td>\n",
              "      <td>https://twitter.com/friendlycovid19/status/161...</td>\n",
              "      <td>friendlycovid19</td>\n",
              "      <td>Twitter Web App</td>\n",
              "      <td></td>\n",
              "      <td>@OmicronAustria Eh, quicker to just wait until...</td>\n",
              "      <td>28</td>\n",
              "      <td>2</td>\n",
              "    </tr>\n",
              "    <tr>\n",
              "      <th>20000</th>\n",
              "      <td>2023-01-12 17:54:55+00:00</td>\n",
              "      <td>1613595391928188935</td>\n",
              "      <td>https://twitter.com/sintesisuaemex/status/1613...</td>\n",
              "      <td>sintesisuaemex</td>\n",
              "      <td>Twitter Web App</td>\n",
              "      <td></td>\n",
              "      <td>Detección oportuna de #COVID19 ayuda a frenar ...</td>\n",
              "      <td>1</td>\n",
              "      <td>1</td>\n",
              "    </tr>\n",
              "  </tbody>\n",
              "</table>\n",
              "<p>20001 rows × 9 columns</p>\n",
              "</div>\n",
              "      <button class=\"colab-df-convert\" onclick=\"convertToInteractive('df-0e71ca98-210e-495b-8f0e-430939cf165a')\"\n",
              "              title=\"Convert this dataframe to an interactive table.\"\n",
              "              style=\"display:none;\">\n",
              "        \n",
              "  <svg xmlns=\"http://www.w3.org/2000/svg\" height=\"24px\"viewBox=\"0 0 24 24\"\n",
              "       width=\"24px\">\n",
              "    <path d=\"M0 0h24v24H0V0z\" fill=\"none\"/>\n",
              "    <path d=\"M18.56 5.44l.94 2.06.94-2.06 2.06-.94-2.06-.94-.94-2.06-.94 2.06-2.06.94zm-11 1L8.5 8.5l.94-2.06 2.06-.94-2.06-.94L8.5 2.5l-.94 2.06-2.06.94zm10 10l.94 2.06.94-2.06 2.06-.94-2.06-.94-.94-2.06-.94 2.06-2.06.94z\"/><path d=\"M17.41 7.96l-1.37-1.37c-.4-.4-.92-.59-1.43-.59-.52 0-1.04.2-1.43.59L10.3 9.45l-7.72 7.72c-.78.78-.78 2.05 0 2.83L4 21.41c.39.39.9.59 1.41.59.51 0 1.02-.2 1.41-.59l7.78-7.78 2.81-2.81c.8-.78.8-2.07 0-2.86zM5.41 20L4 18.59l7.72-7.72 1.47 1.35L5.41 20z\"/>\n",
              "  </svg>\n",
              "      </button>\n",
              "      \n",
              "  <style>\n",
              "    .colab-df-container {\n",
              "      display:flex;\n",
              "      flex-wrap:wrap;\n",
              "      gap: 12px;\n",
              "    }\n",
              "\n",
              "    .colab-df-convert {\n",
              "      background-color: #E8F0FE;\n",
              "      border: none;\n",
              "      border-radius: 50%;\n",
              "      cursor: pointer;\n",
              "      display: none;\n",
              "      fill: #1967D2;\n",
              "      height: 32px;\n",
              "      padding: 0 0 0 0;\n",
              "      width: 32px;\n",
              "    }\n",
              "\n",
              "    .colab-df-convert:hover {\n",
              "      background-color: #E2EBFA;\n",
              "      box-shadow: 0px 1px 2px rgba(60, 64, 67, 0.3), 0px 1px 3px 1px rgba(60, 64, 67, 0.15);\n",
              "      fill: #174EA6;\n",
              "    }\n",
              "\n",
              "    [theme=dark] .colab-df-convert {\n",
              "      background-color: #3B4455;\n",
              "      fill: #D2E3FC;\n",
              "    }\n",
              "\n",
              "    [theme=dark] .colab-df-convert:hover {\n",
              "      background-color: #434B5C;\n",
              "      box-shadow: 0px 1px 3px 1px rgba(0, 0, 0, 0.15);\n",
              "      filter: drop-shadow(0px 1px 2px rgba(0, 0, 0, 0.3));\n",
              "      fill: #FFFFFF;\n",
              "    }\n",
              "  </style>\n",
              "\n",
              "      <script>\n",
              "        const buttonEl =\n",
              "          document.querySelector('#df-0e71ca98-210e-495b-8f0e-430939cf165a button.colab-df-convert');\n",
              "        buttonEl.style.display =\n",
              "          google.colab.kernel.accessAllowed ? 'block' : 'none';\n",
              "\n",
              "        async function convertToInteractive(key) {\n",
              "          const element = document.querySelector('#df-0e71ca98-210e-495b-8f0e-430939cf165a');\n",
              "          const dataTable =\n",
              "            await google.colab.kernel.invokeFunction('convertToInteractive',\n",
              "                                                     [key], {});\n",
              "          if (!dataTable) return;\n",
              "\n",
              "          const docLinkHtml = 'Like what you see? Visit the ' +\n",
              "            '<a target=\"_blank\" href=https://colab.research.google.com/notebooks/data_table.ipynb>data table notebook</a>'\n",
              "            + ' to learn more about interactive tables.';\n",
              "          element.innerHTML = '';\n",
              "          dataTable['output_type'] = 'display_data';\n",
              "          await google.colab.output.renderOutput(dataTable, element);\n",
              "          const docLink = document.createElement('div');\n",
              "          docLink.innerHTML = docLinkHtml;\n",
              "          element.appendChild(docLink);\n",
              "        }\n",
              "      </script>\n",
              "    </div>\n",
              "  </div>\n",
              "  "
            ]
          },
          "metadata": {},
          "execution_count": 28
        }
      ]
    },
    {
      "cell_type": "code",
      "source": [
        "nltk.download('stopwords')\n",
        "turk_stop_words=list(stopwords.words(\"english\"))\n",
        "emoji=list(UNICODE_EMOJI.keys())"
      ],
      "metadata": {
        "colab": {
          "base_uri": "https://localhost:8080/"
        },
        "id": "LyUfbgPybRsq",
        "outputId": "d22f444d-5ed6-43e5-c0ba-81a044d4f655"
      },
      "execution_count": 29,
      "outputs": [
        {
          "output_type": "stream",
          "name": "stderr",
          "text": [
            "[nltk_data] Downloading package stopwords to /root/nltk_data...\n",
            "[nltk_data]   Package stopwords is already up-to-date!\n"
          ]
        }
      ]
    },
    {
      "cell_type": "code",
      "source": [
        "def ProcessedTweets(text):\n",
        "  text=text.lower()\n",
        "  text=\" \".join(re.sub(\"(@[A-Za-z0-9]+)|(^0-9A-Za-z \\t]) |(\\w+:\\/\\/\\S+)\",\" \",text).split()) \n",
        "  text=re.sub(r'\\@\\w+|\\#\\w+|\\d+', \"\", text)\n",
        "  punct=str.maketrans(\"\",\"\",string.punctuation+string.digits)\n",
        "  text=text.translate(punct)\n",
        "  tokens=word_tokenize(text)\n",
        "  filtered_words=[w for w in tokens if w not in turk_stop_words]\n",
        "  filtered_words=[w for w in filtered_words if w not in emoji]\n",
        "  lemmatizer=WordNetLemmatizer()\n",
        "  lemma_words=[lemmatizer.lemmatize(w) for w in filtered_words]\n",
        "  text=\" \".join(lemma_words)\n",
        "  return text\n",
        "\n"
      ],
      "metadata": {
        "id": "D5kMQoAOT2XV"
      },
      "execution_count": 30,
      "outputs": []
    },
    {
      "cell_type": "code",
      "source": [
        "nltk.download('wordnet')\n",
        "nltk.download('punkt')\n",
        "nltk.download('omw-1.4')\n",
        "df[\"Processed_Tweets\"]=df[\"tweet\"].apply(ProcessedTweets)"
      ],
      "metadata": {
        "colab": {
          "base_uri": "https://localhost:8080/"
        },
        "id": "hN7oXpcLT70h",
        "outputId": "1152c04d-6281-48de-c534-8c0c414359d5"
      },
      "execution_count": 31,
      "outputs": [
        {
          "output_type": "stream",
          "name": "stderr",
          "text": [
            "[nltk_data] Downloading package wordnet to /root/nltk_data...\n",
            "[nltk_data]   Package wordnet is already up-to-date!\n",
            "[nltk_data] Downloading package punkt to /root/nltk_data...\n",
            "[nltk_data]   Package punkt is already up-to-date!\n",
            "[nltk_data] Downloading package omw-1.4 to /root/nltk_data...\n",
            "[nltk_data]   Package omw-1.4 is already up-to-date!\n"
          ]
        }
      ]
    },
    {
      "cell_type": "code",
      "source": [
        "df[\"Processed_Tweets\"]"
      ],
      "metadata": {
        "colab": {
          "base_uri": "https://localhost:8080/"
        },
        "id": "klBxMqshklLS",
        "outputId": "41d3d310-9a1a-4efb-f888-4054fc3e067a"
      },
      "execution_count": 33,
      "outputs": [
        {
          "output_type": "execute_result",
          "data": {
            "text/plain": [
              "0                      viies vapauttaa kuten työ aikoinaan\n",
              "1        look timeline covid msn knew come b start even...\n",
              "2                               joron asselineau philippot\n",
              "3        super amp même combat contre le système immuni...\n",
              "4        em não tinha vacinas só ivermectina morreram m...\n",
              "                               ...                        \n",
              "19996    also yesterday jp morgan health conference cnb...\n",
              "19997                           jordan everyone sick covid\n",
              "19998    de lois iniques dans t le pay quil faudra abol...\n",
              "19999                             eh quicker wait go lunch\n",
              "20000    detección oportuna de ayuda frenar variantes m...\n",
              "Name: Processed_Tweets, Length: 20001, dtype: object"
            ]
          },
          "metadata": {},
          "execution_count": 33
        }
      ]
    },
    {
      "cell_type": "code",
      "source": [
        "def polarity(tweet):\n",
        "  return TextBlob(tweet).sentiment.polarity\n",
        "def sentimenttextblob(polarity):\n",
        "  if polarity<0:\n",
        "    return \"Negative\"\n",
        "  elif polarity>0:\n",
        "    return \"Positive\"\n"
      ],
      "metadata": {
        "id": "zT0-OGdNkq6O"
      },
      "execution_count": 34,
      "outputs": []
    },
    {
      "cell_type": "code",
      "source": [
        "df[\"Polarity\"]=df[\"Processed_Tweets\"].apply(polarity)\n",
        "df[\"Sentiment\"]=df[\"Polarity\"].apply(sentimenttextblob)\n",
        "sent=df[\"Sentiment\"].value_counts()\n",
        "sent\n",
        "df.to_csv(\"sentiment.csv\")"
      ],
      "metadata": {
        "id": "W-CnhQAEltzF"
      },
      "execution_count": 35,
      "outputs": []
    }
  ]
}